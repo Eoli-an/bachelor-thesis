{
  "nbformat": 4,
  "nbformat_minor": 0,
  "metadata": {
    "colab": {
      "name": "T5MNLI Token optimal.ipynb",
      "provenance": [],
      "collapsed_sections": []
    },
    "kernelspec": {
      "name": "python3",
      "display_name": "Python 3"
    },
    "accelerator": "GPU",
    "widgets": {
      "application/vnd.jupyter.widget-state+json": {
        "91dabff187e1413a80a60a94b1946d2c": {
          "model_module": "@jupyter-widgets/controls",
          "model_name": "HBoxModel",
          "state": {
            "_view_name": "HBoxView",
            "_dom_classes": [],
            "_model_name": "HBoxModel",
            "_view_module": "@jupyter-widgets/controls",
            "_model_module_version": "1.5.0",
            "_view_count": null,
            "_view_module_version": "1.5.0",
            "box_style": "",
            "layout": "IPY_MODEL_2c6a8e4209e54774ba9729182ef0cf4a",
            "_model_module": "@jupyter-widgets/controls",
            "children": [
              "IPY_MODEL_cf4b98a2f6c74a2bb1ee334a732d0a1d",
              "IPY_MODEL_48adcabb7fb341e896504f094bb9dc9f"
            ]
          }
        },
        "2c6a8e4209e54774ba9729182ef0cf4a": {
          "model_module": "@jupyter-widgets/base",
          "model_name": "LayoutModel",
          "state": {
            "_view_name": "LayoutView",
            "grid_template_rows": null,
            "right": null,
            "justify_content": null,
            "_view_module": "@jupyter-widgets/base",
            "overflow": null,
            "_model_module_version": "1.2.0",
            "_view_count": null,
            "flex_flow": null,
            "width": null,
            "min_width": null,
            "border": null,
            "align_items": null,
            "bottom": null,
            "_model_module": "@jupyter-widgets/base",
            "top": null,
            "grid_column": null,
            "overflow_y": null,
            "overflow_x": null,
            "grid_auto_flow": null,
            "grid_area": null,
            "grid_template_columns": null,
            "flex": null,
            "_model_name": "LayoutModel",
            "justify_items": null,
            "grid_row": null,
            "max_height": null,
            "align_content": null,
            "visibility": null,
            "align_self": null,
            "height": null,
            "min_height": null,
            "padding": null,
            "grid_auto_rows": null,
            "grid_gap": null,
            "max_width": null,
            "order": null,
            "_view_module_version": "1.2.0",
            "grid_template_areas": null,
            "object_position": null,
            "object_fit": null,
            "grid_auto_columns": null,
            "margin": null,
            "display": null,
            "left": null
          }
        },
        "cf4b98a2f6c74a2bb1ee334a732d0a1d": {
          "model_module": "@jupyter-widgets/controls",
          "model_name": "FloatProgressModel",
          "state": {
            "_view_name": "ProgressView",
            "style": "IPY_MODEL_b45340c868f24031b34ffb15ee63e874",
            "_dom_classes": [],
            "description": "Downloading: 100%",
            "_model_name": "FloatProgressModel",
            "bar_style": "success",
            "max": 1199,
            "_view_module": "@jupyter-widgets/controls",
            "_model_module_version": "1.5.0",
            "value": 1199,
            "_view_count": null,
            "_view_module_version": "1.5.0",
            "orientation": "horizontal",
            "min": 0,
            "description_tooltip": null,
            "_model_module": "@jupyter-widgets/controls",
            "layout": "IPY_MODEL_823f8bd519b44981825e8613c52ab65a"
          }
        },
        "48adcabb7fb341e896504f094bb9dc9f": {
          "model_module": "@jupyter-widgets/controls",
          "model_name": "HTMLModel",
          "state": {
            "_view_name": "HTMLView",
            "style": "IPY_MODEL_d2df22ab0d7c4b5a8be8a637de45fed2",
            "_dom_classes": [],
            "description": "",
            "_model_name": "HTMLModel",
            "placeholder": "​",
            "_view_module": "@jupyter-widgets/controls",
            "_model_module_version": "1.5.0",
            "value": " 1.20k/1.20k [00:20&lt;00:00, 58.4B/s]",
            "_view_count": null,
            "_view_module_version": "1.5.0",
            "description_tooltip": null,
            "_model_module": "@jupyter-widgets/controls",
            "layout": "IPY_MODEL_db89a20afd5e40658b679da655a6ea50"
          }
        },
        "b45340c868f24031b34ffb15ee63e874": {
          "model_module": "@jupyter-widgets/controls",
          "model_name": "ProgressStyleModel",
          "state": {
            "_view_name": "StyleView",
            "_model_name": "ProgressStyleModel",
            "description_width": "initial",
            "_view_module": "@jupyter-widgets/base",
            "_model_module_version": "1.5.0",
            "_view_count": null,
            "_view_module_version": "1.2.0",
            "bar_color": null,
            "_model_module": "@jupyter-widgets/controls"
          }
        },
        "823f8bd519b44981825e8613c52ab65a": {
          "model_module": "@jupyter-widgets/base",
          "model_name": "LayoutModel",
          "state": {
            "_view_name": "LayoutView",
            "grid_template_rows": null,
            "right": null,
            "justify_content": null,
            "_view_module": "@jupyter-widgets/base",
            "overflow": null,
            "_model_module_version": "1.2.0",
            "_view_count": null,
            "flex_flow": null,
            "width": null,
            "min_width": null,
            "border": null,
            "align_items": null,
            "bottom": null,
            "_model_module": "@jupyter-widgets/base",
            "top": null,
            "grid_column": null,
            "overflow_y": null,
            "overflow_x": null,
            "grid_auto_flow": null,
            "grid_area": null,
            "grid_template_columns": null,
            "flex": null,
            "_model_name": "LayoutModel",
            "justify_items": null,
            "grid_row": null,
            "max_height": null,
            "align_content": null,
            "visibility": null,
            "align_self": null,
            "height": null,
            "min_height": null,
            "padding": null,
            "grid_auto_rows": null,
            "grid_gap": null,
            "max_width": null,
            "order": null,
            "_view_module_version": "1.2.0",
            "grid_template_areas": null,
            "object_position": null,
            "object_fit": null,
            "grid_auto_columns": null,
            "margin": null,
            "display": null,
            "left": null
          }
        },
        "d2df22ab0d7c4b5a8be8a637de45fed2": {
          "model_module": "@jupyter-widgets/controls",
          "model_name": "DescriptionStyleModel",
          "state": {
            "_view_name": "StyleView",
            "_model_name": "DescriptionStyleModel",
            "description_width": "",
            "_view_module": "@jupyter-widgets/base",
            "_model_module_version": "1.5.0",
            "_view_count": null,
            "_view_module_version": "1.2.0",
            "_model_module": "@jupyter-widgets/controls"
          }
        },
        "db89a20afd5e40658b679da655a6ea50": {
          "model_module": "@jupyter-widgets/base",
          "model_name": "LayoutModel",
          "state": {
            "_view_name": "LayoutView",
            "grid_template_rows": null,
            "right": null,
            "justify_content": null,
            "_view_module": "@jupyter-widgets/base",
            "overflow": null,
            "_model_module_version": "1.2.0",
            "_view_count": null,
            "flex_flow": null,
            "width": null,
            "min_width": null,
            "border": null,
            "align_items": null,
            "bottom": null,
            "_model_module": "@jupyter-widgets/base",
            "top": null,
            "grid_column": null,
            "overflow_y": null,
            "overflow_x": null,
            "grid_auto_flow": null,
            "grid_area": null,
            "grid_template_columns": null,
            "flex": null,
            "_model_name": "LayoutModel",
            "justify_items": null,
            "grid_row": null,
            "max_height": null,
            "align_content": null,
            "visibility": null,
            "align_self": null,
            "height": null,
            "min_height": null,
            "padding": null,
            "grid_auto_rows": null,
            "grid_gap": null,
            "max_width": null,
            "order": null,
            "_view_module_version": "1.2.0",
            "grid_template_areas": null,
            "object_position": null,
            "object_fit": null,
            "grid_auto_columns": null,
            "margin": null,
            "display": null,
            "left": null
          }
        },
        "3d6f14decd2548f88de5dfa3a2b3f505": {
          "model_module": "@jupyter-widgets/controls",
          "model_name": "HBoxModel",
          "state": {
            "_view_name": "HBoxView",
            "_dom_classes": [],
            "_model_name": "HBoxModel",
            "_view_module": "@jupyter-widgets/controls",
            "_model_module_version": "1.5.0",
            "_view_count": null,
            "_view_module_version": "1.5.0",
            "box_style": "",
            "layout": "IPY_MODEL_aec6f538efdc438ba4ca9e21607ed40d",
            "_model_module": "@jupyter-widgets/controls",
            "children": [
              "IPY_MODEL_fa4121c7727846ce95a246b84960a42d",
              "IPY_MODEL_0243c1887e744dee8b7a5f3e9d71dd68"
            ]
          }
        },
        "aec6f538efdc438ba4ca9e21607ed40d": {
          "model_module": "@jupyter-widgets/base",
          "model_name": "LayoutModel",
          "state": {
            "_view_name": "LayoutView",
            "grid_template_rows": null,
            "right": null,
            "justify_content": null,
            "_view_module": "@jupyter-widgets/base",
            "overflow": null,
            "_model_module_version": "1.2.0",
            "_view_count": null,
            "flex_flow": null,
            "width": null,
            "min_width": null,
            "border": null,
            "align_items": null,
            "bottom": null,
            "_model_module": "@jupyter-widgets/base",
            "top": null,
            "grid_column": null,
            "overflow_y": null,
            "overflow_x": null,
            "grid_auto_flow": null,
            "grid_area": null,
            "grid_template_columns": null,
            "flex": null,
            "_model_name": "LayoutModel",
            "justify_items": null,
            "grid_row": null,
            "max_height": null,
            "align_content": null,
            "visibility": null,
            "align_self": null,
            "height": null,
            "min_height": null,
            "padding": null,
            "grid_auto_rows": null,
            "grid_gap": null,
            "max_width": null,
            "order": null,
            "_view_module_version": "1.2.0",
            "grid_template_areas": null,
            "object_position": null,
            "object_fit": null,
            "grid_auto_columns": null,
            "margin": null,
            "display": null,
            "left": null
          }
        },
        "fa4121c7727846ce95a246b84960a42d": {
          "model_module": "@jupyter-widgets/controls",
          "model_name": "FloatProgressModel",
          "state": {
            "_view_name": "ProgressView",
            "style": "IPY_MODEL_f356e61abba441d69b2ae19674e54e3c",
            "_dom_classes": [],
            "description": "Downloading: 100%",
            "_model_name": "FloatProgressModel",
            "bar_style": "success",
            "max": 791656,
            "_view_module": "@jupyter-widgets/controls",
            "_model_module_version": "1.5.0",
            "value": 791656,
            "_view_count": null,
            "_view_module_version": "1.5.0",
            "orientation": "horizontal",
            "min": 0,
            "description_tooltip": null,
            "_model_module": "@jupyter-widgets/controls",
            "layout": "IPY_MODEL_fe9449d510054ae296bc20e1d2d98cd9"
          }
        },
        "0243c1887e744dee8b7a5f3e9d71dd68": {
          "model_module": "@jupyter-widgets/controls",
          "model_name": "HTMLModel",
          "state": {
            "_view_name": "HTMLView",
            "style": "IPY_MODEL_07ee5d510dc940deaa9a97e7d96ccca2",
            "_dom_classes": [],
            "description": "",
            "_model_name": "HTMLModel",
            "placeholder": "​",
            "_view_module": "@jupyter-widgets/controls",
            "_model_module_version": "1.5.0",
            "value": " 792k/792k [00:20&lt;00:00, 39.5kB/s]",
            "_view_count": null,
            "_view_module_version": "1.5.0",
            "description_tooltip": null,
            "_model_module": "@jupyter-widgets/controls",
            "layout": "IPY_MODEL_c8ea0bcc2d434b12a0e509025069b1a5"
          }
        },
        "f356e61abba441d69b2ae19674e54e3c": {
          "model_module": "@jupyter-widgets/controls",
          "model_name": "ProgressStyleModel",
          "state": {
            "_view_name": "StyleView",
            "_model_name": "ProgressStyleModel",
            "description_width": "initial",
            "_view_module": "@jupyter-widgets/base",
            "_model_module_version": "1.5.0",
            "_view_count": null,
            "_view_module_version": "1.2.0",
            "bar_color": null,
            "_model_module": "@jupyter-widgets/controls"
          }
        },
        "fe9449d510054ae296bc20e1d2d98cd9": {
          "model_module": "@jupyter-widgets/base",
          "model_name": "LayoutModel",
          "state": {
            "_view_name": "LayoutView",
            "grid_template_rows": null,
            "right": null,
            "justify_content": null,
            "_view_module": "@jupyter-widgets/base",
            "overflow": null,
            "_model_module_version": "1.2.0",
            "_view_count": null,
            "flex_flow": null,
            "width": null,
            "min_width": null,
            "border": null,
            "align_items": null,
            "bottom": null,
            "_model_module": "@jupyter-widgets/base",
            "top": null,
            "grid_column": null,
            "overflow_y": null,
            "overflow_x": null,
            "grid_auto_flow": null,
            "grid_area": null,
            "grid_template_columns": null,
            "flex": null,
            "_model_name": "LayoutModel",
            "justify_items": null,
            "grid_row": null,
            "max_height": null,
            "align_content": null,
            "visibility": null,
            "align_self": null,
            "height": null,
            "min_height": null,
            "padding": null,
            "grid_auto_rows": null,
            "grid_gap": null,
            "max_width": null,
            "order": null,
            "_view_module_version": "1.2.0",
            "grid_template_areas": null,
            "object_position": null,
            "object_fit": null,
            "grid_auto_columns": null,
            "margin": null,
            "display": null,
            "left": null
          }
        },
        "07ee5d510dc940deaa9a97e7d96ccca2": {
          "model_module": "@jupyter-widgets/controls",
          "model_name": "DescriptionStyleModel",
          "state": {
            "_view_name": "StyleView",
            "_model_name": "DescriptionStyleModel",
            "description_width": "",
            "_view_module": "@jupyter-widgets/base",
            "_model_module_version": "1.5.0",
            "_view_count": null,
            "_view_module_version": "1.2.0",
            "_model_module": "@jupyter-widgets/controls"
          }
        },
        "c8ea0bcc2d434b12a0e509025069b1a5": {
          "model_module": "@jupyter-widgets/base",
          "model_name": "LayoutModel",
          "state": {
            "_view_name": "LayoutView",
            "grid_template_rows": null,
            "right": null,
            "justify_content": null,
            "_view_module": "@jupyter-widgets/base",
            "overflow": null,
            "_model_module_version": "1.2.0",
            "_view_count": null,
            "flex_flow": null,
            "width": null,
            "min_width": null,
            "border": null,
            "align_items": null,
            "bottom": null,
            "_model_module": "@jupyter-widgets/base",
            "top": null,
            "grid_column": null,
            "overflow_y": null,
            "overflow_x": null,
            "grid_auto_flow": null,
            "grid_area": null,
            "grid_template_columns": null,
            "flex": null,
            "_model_name": "LayoutModel",
            "justify_items": null,
            "grid_row": null,
            "max_height": null,
            "align_content": null,
            "visibility": null,
            "align_self": null,
            "height": null,
            "min_height": null,
            "padding": null,
            "grid_auto_rows": null,
            "grid_gap": null,
            "max_width": null,
            "order": null,
            "_view_module_version": "1.2.0",
            "grid_template_areas": null,
            "object_position": null,
            "object_fit": null,
            "grid_auto_columns": null,
            "margin": null,
            "display": null,
            "left": null
          }
        },
        "fea7e61ba3b6435a929027b9128e53b0": {
          "model_module": "@jupyter-widgets/controls",
          "model_name": "HBoxModel",
          "state": {
            "_view_name": "HBoxView",
            "_dom_classes": [],
            "_model_name": "HBoxModel",
            "_view_module": "@jupyter-widgets/controls",
            "_model_module_version": "1.5.0",
            "_view_count": null,
            "_view_module_version": "1.5.0",
            "box_style": "",
            "layout": "IPY_MODEL_d6f0ed716eb4491f9f99dd40d18be65c",
            "_model_module": "@jupyter-widgets/controls",
            "children": [
              "IPY_MODEL_f0d6bf0011db462fa16e4b292cfb6867",
              "IPY_MODEL_127f17e79f1d41ec94bac3c0561f7845"
            ]
          }
        },
        "d6f0ed716eb4491f9f99dd40d18be65c": {
          "model_module": "@jupyter-widgets/base",
          "model_name": "LayoutModel",
          "state": {
            "_view_name": "LayoutView",
            "grid_template_rows": null,
            "right": null,
            "justify_content": null,
            "_view_module": "@jupyter-widgets/base",
            "overflow": null,
            "_model_module_version": "1.2.0",
            "_view_count": null,
            "flex_flow": null,
            "width": null,
            "min_width": null,
            "border": null,
            "align_items": null,
            "bottom": null,
            "_model_module": "@jupyter-widgets/base",
            "top": null,
            "grid_column": null,
            "overflow_y": null,
            "overflow_x": null,
            "grid_auto_flow": null,
            "grid_area": null,
            "grid_template_columns": null,
            "flex": null,
            "_model_name": "LayoutModel",
            "justify_items": null,
            "grid_row": null,
            "max_height": null,
            "align_content": null,
            "visibility": null,
            "align_self": null,
            "height": null,
            "min_height": null,
            "padding": null,
            "grid_auto_rows": null,
            "grid_gap": null,
            "max_width": null,
            "order": null,
            "_view_module_version": "1.2.0",
            "grid_template_areas": null,
            "object_position": null,
            "object_fit": null,
            "grid_auto_columns": null,
            "margin": null,
            "display": null,
            "left": null
          }
        },
        "f0d6bf0011db462fa16e4b292cfb6867": {
          "model_module": "@jupyter-widgets/controls",
          "model_name": "FloatProgressModel",
          "state": {
            "_view_name": "ProgressView",
            "style": "IPY_MODEL_4a85f7af8f8b4058847cdea929c5e168",
            "_dom_classes": [],
            "description": "Downloading: 100%",
            "_model_name": "FloatProgressModel",
            "bar_style": "success",
            "max": 1389353,
            "_view_module": "@jupyter-widgets/controls",
            "_model_module_version": "1.5.0",
            "value": 1389353,
            "_view_count": null,
            "_view_module_version": "1.5.0",
            "orientation": "horizontal",
            "min": 0,
            "description_tooltip": null,
            "_model_module": "@jupyter-widgets/controls",
            "layout": "IPY_MODEL_6808407b78db48d78e664aecf1d8c234"
          }
        },
        "127f17e79f1d41ec94bac3c0561f7845": {
          "model_module": "@jupyter-widgets/controls",
          "model_name": "HTMLModel",
          "state": {
            "_view_name": "HTMLView",
            "style": "IPY_MODEL_12da1a60edec4a8597e3f262a24eef90",
            "_dom_classes": [],
            "description": "",
            "_model_name": "HTMLModel",
            "placeholder": "​",
            "_view_module": "@jupyter-widgets/controls",
            "_model_module_version": "1.5.0",
            "value": " 1.39M/1.39M [00:01&lt;00:00, 803kB/s]",
            "_view_count": null,
            "_view_module_version": "1.5.0",
            "description_tooltip": null,
            "_model_module": "@jupyter-widgets/controls",
            "layout": "IPY_MODEL_4b53cb9a3a3c415ebebbc905f4afe5ef"
          }
        },
        "4a85f7af8f8b4058847cdea929c5e168": {
          "model_module": "@jupyter-widgets/controls",
          "model_name": "ProgressStyleModel",
          "state": {
            "_view_name": "StyleView",
            "_model_name": "ProgressStyleModel",
            "description_width": "initial",
            "_view_module": "@jupyter-widgets/base",
            "_model_module_version": "1.5.0",
            "_view_count": null,
            "_view_module_version": "1.2.0",
            "bar_color": null,
            "_model_module": "@jupyter-widgets/controls"
          }
        },
        "6808407b78db48d78e664aecf1d8c234": {
          "model_module": "@jupyter-widgets/base",
          "model_name": "LayoutModel",
          "state": {
            "_view_name": "LayoutView",
            "grid_template_rows": null,
            "right": null,
            "justify_content": null,
            "_view_module": "@jupyter-widgets/base",
            "overflow": null,
            "_model_module_version": "1.2.0",
            "_view_count": null,
            "flex_flow": null,
            "width": null,
            "min_width": null,
            "border": null,
            "align_items": null,
            "bottom": null,
            "_model_module": "@jupyter-widgets/base",
            "top": null,
            "grid_column": null,
            "overflow_y": null,
            "overflow_x": null,
            "grid_auto_flow": null,
            "grid_area": null,
            "grid_template_columns": null,
            "flex": null,
            "_model_name": "LayoutModel",
            "justify_items": null,
            "grid_row": null,
            "max_height": null,
            "align_content": null,
            "visibility": null,
            "align_self": null,
            "height": null,
            "min_height": null,
            "padding": null,
            "grid_auto_rows": null,
            "grid_gap": null,
            "max_width": null,
            "order": null,
            "_view_module_version": "1.2.0",
            "grid_template_areas": null,
            "object_position": null,
            "object_fit": null,
            "grid_auto_columns": null,
            "margin": null,
            "display": null,
            "left": null
          }
        },
        "12da1a60edec4a8597e3f262a24eef90": {
          "model_module": "@jupyter-widgets/controls",
          "model_name": "DescriptionStyleModel",
          "state": {
            "_view_name": "StyleView",
            "_model_name": "DescriptionStyleModel",
            "description_width": "",
            "_view_module": "@jupyter-widgets/base",
            "_model_module_version": "1.5.0",
            "_view_count": null,
            "_view_module_version": "1.2.0",
            "_model_module": "@jupyter-widgets/controls"
          }
        },
        "4b53cb9a3a3c415ebebbc905f4afe5ef": {
          "model_module": "@jupyter-widgets/base",
          "model_name": "LayoutModel",
          "state": {
            "_view_name": "LayoutView",
            "grid_template_rows": null,
            "right": null,
            "justify_content": null,
            "_view_module": "@jupyter-widgets/base",
            "overflow": null,
            "_model_module_version": "1.2.0",
            "_view_count": null,
            "flex_flow": null,
            "width": null,
            "min_width": null,
            "border": null,
            "align_items": null,
            "bottom": null,
            "_model_module": "@jupyter-widgets/base",
            "top": null,
            "grid_column": null,
            "overflow_y": null,
            "overflow_x": null,
            "grid_auto_flow": null,
            "grid_area": null,
            "grid_template_columns": null,
            "flex": null,
            "_model_name": "LayoutModel",
            "justify_items": null,
            "grid_row": null,
            "max_height": null,
            "align_content": null,
            "visibility": null,
            "align_self": null,
            "height": null,
            "min_height": null,
            "padding": null,
            "grid_auto_rows": null,
            "grid_gap": null,
            "max_width": null,
            "order": null,
            "_view_module_version": "1.2.0",
            "grid_template_areas": null,
            "object_position": null,
            "object_fit": null,
            "grid_auto_columns": null,
            "margin": null,
            "display": null,
            "left": null
          }
        },
        "4a8f995776cc464ca62b1ef27d2ce3f6": {
          "model_module": "@jupyter-widgets/controls",
          "model_name": "HBoxModel",
          "state": {
            "_view_name": "HBoxView",
            "_dom_classes": [],
            "_model_name": "HBoxModel",
            "_view_module": "@jupyter-widgets/controls",
            "_model_module_version": "1.5.0",
            "_view_count": null,
            "_view_module_version": "1.5.0",
            "box_style": "",
            "layout": "IPY_MODEL_493b2a6ad1574fa69880a29d29643d04",
            "_model_module": "@jupyter-widgets/controls",
            "children": [
              "IPY_MODEL_0d73d40a1c0347eab87aac765c169f85",
              "IPY_MODEL_494c766adef846bcbd89651aa0656ab1"
            ]
          }
        },
        "493b2a6ad1574fa69880a29d29643d04": {
          "model_module": "@jupyter-widgets/base",
          "model_name": "LayoutModel",
          "state": {
            "_view_name": "LayoutView",
            "grid_template_rows": null,
            "right": null,
            "justify_content": null,
            "_view_module": "@jupyter-widgets/base",
            "overflow": null,
            "_model_module_version": "1.2.0",
            "_view_count": null,
            "flex_flow": null,
            "width": null,
            "min_width": null,
            "border": null,
            "align_items": null,
            "bottom": null,
            "_model_module": "@jupyter-widgets/base",
            "top": null,
            "grid_column": null,
            "overflow_y": null,
            "overflow_x": null,
            "grid_auto_flow": null,
            "grid_area": null,
            "grid_template_columns": null,
            "flex": null,
            "_model_name": "LayoutModel",
            "justify_items": null,
            "grid_row": null,
            "max_height": null,
            "align_content": null,
            "visibility": null,
            "align_self": null,
            "height": null,
            "min_height": null,
            "padding": null,
            "grid_auto_rows": null,
            "grid_gap": null,
            "max_width": null,
            "order": null,
            "_view_module_version": "1.2.0",
            "grid_template_areas": null,
            "object_position": null,
            "object_fit": null,
            "grid_auto_columns": null,
            "margin": null,
            "display": null,
            "left": null
          }
        },
        "0d73d40a1c0347eab87aac765c169f85": {
          "model_module": "@jupyter-widgets/controls",
          "model_name": "FloatProgressModel",
          "state": {
            "_view_name": "ProgressView",
            "style": "IPY_MODEL_27d13c20d35f450dba599dd20b46fc69",
            "_dom_classes": [],
            "description": "Downloading: 100%",
            "_model_name": "FloatProgressModel",
            "bar_style": "success",
            "max": 891691430,
            "_view_module": "@jupyter-widgets/controls",
            "_model_module_version": "1.5.0",
            "value": 891691430,
            "_view_count": null,
            "_view_module_version": "1.5.0",
            "orientation": "horizontal",
            "min": 0,
            "description_tooltip": null,
            "_model_module": "@jupyter-widgets/controls",
            "layout": "IPY_MODEL_e0b3c66b726f47928487883e6f78e217"
          }
        },
        "494c766adef846bcbd89651aa0656ab1": {
          "model_module": "@jupyter-widgets/controls",
          "model_name": "HTMLModel",
          "state": {
            "_view_name": "HTMLView",
            "style": "IPY_MODEL_aabcf32f82744daea5378838908104f9",
            "_dom_classes": [],
            "description": "",
            "_model_name": "HTMLModel",
            "placeholder": "​",
            "_view_module": "@jupyter-widgets/controls",
            "_model_module_version": "1.5.0",
            "value": " 892M/892M [00:17&lt;00:00, 50.8MB/s]",
            "_view_count": null,
            "_view_module_version": "1.5.0",
            "description_tooltip": null,
            "_model_module": "@jupyter-widgets/controls",
            "layout": "IPY_MODEL_faf0cca8ba3647c9a0963557db940c64"
          }
        },
        "27d13c20d35f450dba599dd20b46fc69": {
          "model_module": "@jupyter-widgets/controls",
          "model_name": "ProgressStyleModel",
          "state": {
            "_view_name": "StyleView",
            "_model_name": "ProgressStyleModel",
            "description_width": "initial",
            "_view_module": "@jupyter-widgets/base",
            "_model_module_version": "1.5.0",
            "_view_count": null,
            "_view_module_version": "1.2.0",
            "bar_color": null,
            "_model_module": "@jupyter-widgets/controls"
          }
        },
        "e0b3c66b726f47928487883e6f78e217": {
          "model_module": "@jupyter-widgets/base",
          "model_name": "LayoutModel",
          "state": {
            "_view_name": "LayoutView",
            "grid_template_rows": null,
            "right": null,
            "justify_content": null,
            "_view_module": "@jupyter-widgets/base",
            "overflow": null,
            "_model_module_version": "1.2.0",
            "_view_count": null,
            "flex_flow": null,
            "width": null,
            "min_width": null,
            "border": null,
            "align_items": null,
            "bottom": null,
            "_model_module": "@jupyter-widgets/base",
            "top": null,
            "grid_column": null,
            "overflow_y": null,
            "overflow_x": null,
            "grid_auto_flow": null,
            "grid_area": null,
            "grid_template_columns": null,
            "flex": null,
            "_model_name": "LayoutModel",
            "justify_items": null,
            "grid_row": null,
            "max_height": null,
            "align_content": null,
            "visibility": null,
            "align_self": null,
            "height": null,
            "min_height": null,
            "padding": null,
            "grid_auto_rows": null,
            "grid_gap": null,
            "max_width": null,
            "order": null,
            "_view_module_version": "1.2.0",
            "grid_template_areas": null,
            "object_position": null,
            "object_fit": null,
            "grid_auto_columns": null,
            "margin": null,
            "display": null,
            "left": null
          }
        },
        "aabcf32f82744daea5378838908104f9": {
          "model_module": "@jupyter-widgets/controls",
          "model_name": "DescriptionStyleModel",
          "state": {
            "_view_name": "StyleView",
            "_model_name": "DescriptionStyleModel",
            "description_width": "",
            "_view_module": "@jupyter-widgets/base",
            "_model_module_version": "1.5.0",
            "_view_count": null,
            "_view_module_version": "1.2.0",
            "_model_module": "@jupyter-widgets/controls"
          }
        },
        "faf0cca8ba3647c9a0963557db940c64": {
          "model_module": "@jupyter-widgets/base",
          "model_name": "LayoutModel",
          "state": {
            "_view_name": "LayoutView",
            "grid_template_rows": null,
            "right": null,
            "justify_content": null,
            "_view_module": "@jupyter-widgets/base",
            "overflow": null,
            "_model_module_version": "1.2.0",
            "_view_count": null,
            "flex_flow": null,
            "width": null,
            "min_width": null,
            "border": null,
            "align_items": null,
            "bottom": null,
            "_model_module": "@jupyter-widgets/base",
            "top": null,
            "grid_column": null,
            "overflow_y": null,
            "overflow_x": null,
            "grid_auto_flow": null,
            "grid_area": null,
            "grid_template_columns": null,
            "flex": null,
            "_model_name": "LayoutModel",
            "justify_items": null,
            "grid_row": null,
            "max_height": null,
            "align_content": null,
            "visibility": null,
            "align_self": null,
            "height": null,
            "min_height": null,
            "padding": null,
            "grid_auto_rows": null,
            "grid_gap": null,
            "max_width": null,
            "order": null,
            "_view_module_version": "1.2.0",
            "grid_template_areas": null,
            "object_position": null,
            "object_fit": null,
            "grid_auto_columns": null,
            "margin": null,
            "display": null,
            "left": null
          }
        },
        "4cceb4db6c6e48fd8e0009064d5554cb": {
          "model_module": "@jupyter-widgets/controls",
          "model_name": "HBoxModel",
          "state": {
            "_view_name": "HBoxView",
            "_dom_classes": [],
            "_model_name": "HBoxModel",
            "_view_module": "@jupyter-widgets/controls",
            "_model_module_version": "1.5.0",
            "_view_count": null,
            "_view_module_version": "1.5.0",
            "box_style": "",
            "layout": "IPY_MODEL_f701cefa685c4e0dbf873d2ba9ea8e0a",
            "_model_module": "@jupyter-widgets/controls",
            "children": [
              "IPY_MODEL_5710d9fefb564ed4b54c9be7415d51c3",
              "IPY_MODEL_43a7948240914382b054b0f614ea86b8"
            ]
          }
        },
        "f701cefa685c4e0dbf873d2ba9ea8e0a": {
          "model_module": "@jupyter-widgets/base",
          "model_name": "LayoutModel",
          "state": {
            "_view_name": "LayoutView",
            "grid_template_rows": null,
            "right": null,
            "justify_content": null,
            "_view_module": "@jupyter-widgets/base",
            "overflow": null,
            "_model_module_version": "1.2.0",
            "_view_count": null,
            "flex_flow": null,
            "width": null,
            "min_width": null,
            "border": null,
            "align_items": null,
            "bottom": null,
            "_model_module": "@jupyter-widgets/base",
            "top": null,
            "grid_column": null,
            "overflow_y": null,
            "overflow_x": null,
            "grid_auto_flow": null,
            "grid_area": null,
            "grid_template_columns": null,
            "flex": null,
            "_model_name": "LayoutModel",
            "justify_items": null,
            "grid_row": null,
            "max_height": null,
            "align_content": null,
            "visibility": null,
            "align_self": null,
            "height": null,
            "min_height": null,
            "padding": null,
            "grid_auto_rows": null,
            "grid_gap": null,
            "max_width": null,
            "order": null,
            "_view_module_version": "1.2.0",
            "grid_template_areas": null,
            "object_position": null,
            "object_fit": null,
            "grid_auto_columns": null,
            "margin": null,
            "display": null,
            "left": null
          }
        },
        "5710d9fefb564ed4b54c9be7415d51c3": {
          "model_module": "@jupyter-widgets/controls",
          "model_name": "FloatProgressModel",
          "state": {
            "_view_name": "ProgressView",
            "style": "IPY_MODEL_b7ce02bca87f4b11ad8d0af942e8911e",
            "_dom_classes": [],
            "description": "Downloading: ",
            "_model_name": "FloatProgressModel",
            "bar_style": "success",
            "max": 1940,
            "_view_module": "@jupyter-widgets/controls",
            "_model_module_version": "1.5.0",
            "value": 1940,
            "_view_count": null,
            "_view_module_version": "1.5.0",
            "orientation": "horizontal",
            "min": 0,
            "description_tooltip": null,
            "_model_module": "@jupyter-widgets/controls",
            "layout": "IPY_MODEL_2640809acb8f45669d992e88a6b6be0c"
          }
        },
        "43a7948240914382b054b0f614ea86b8": {
          "model_module": "@jupyter-widgets/controls",
          "model_name": "HTMLModel",
          "state": {
            "_view_name": "HTMLView",
            "style": "IPY_MODEL_b83943632153462b98f1f35359de2b6a",
            "_dom_classes": [],
            "description": "",
            "_model_name": "HTMLModel",
            "placeholder": "​",
            "_view_module": "@jupyter-widgets/controls",
            "_model_module_version": "1.5.0",
            "value": " 5.21k/? [00:17&lt;00:00, 295B/s]",
            "_view_count": null,
            "_view_module_version": "1.5.0",
            "description_tooltip": null,
            "_model_module": "@jupyter-widgets/controls",
            "layout": "IPY_MODEL_0286ccf8ef7d4dc9a837d026f5db1594"
          }
        },
        "b7ce02bca87f4b11ad8d0af942e8911e": {
          "model_module": "@jupyter-widgets/controls",
          "model_name": "ProgressStyleModel",
          "state": {
            "_view_name": "StyleView",
            "_model_name": "ProgressStyleModel",
            "description_width": "initial",
            "_view_module": "@jupyter-widgets/base",
            "_model_module_version": "1.5.0",
            "_view_count": null,
            "_view_module_version": "1.2.0",
            "bar_color": null,
            "_model_module": "@jupyter-widgets/controls"
          }
        },
        "2640809acb8f45669d992e88a6b6be0c": {
          "model_module": "@jupyter-widgets/base",
          "model_name": "LayoutModel",
          "state": {
            "_view_name": "LayoutView",
            "grid_template_rows": null,
            "right": null,
            "justify_content": null,
            "_view_module": "@jupyter-widgets/base",
            "overflow": null,
            "_model_module_version": "1.2.0",
            "_view_count": null,
            "flex_flow": null,
            "width": null,
            "min_width": null,
            "border": null,
            "align_items": null,
            "bottom": null,
            "_model_module": "@jupyter-widgets/base",
            "top": null,
            "grid_column": null,
            "overflow_y": null,
            "overflow_x": null,
            "grid_auto_flow": null,
            "grid_area": null,
            "grid_template_columns": null,
            "flex": null,
            "_model_name": "LayoutModel",
            "justify_items": null,
            "grid_row": null,
            "max_height": null,
            "align_content": null,
            "visibility": null,
            "align_self": null,
            "height": null,
            "min_height": null,
            "padding": null,
            "grid_auto_rows": null,
            "grid_gap": null,
            "max_width": null,
            "order": null,
            "_view_module_version": "1.2.0",
            "grid_template_areas": null,
            "object_position": null,
            "object_fit": null,
            "grid_auto_columns": null,
            "margin": null,
            "display": null,
            "left": null
          }
        },
        "b83943632153462b98f1f35359de2b6a": {
          "model_module": "@jupyter-widgets/controls",
          "model_name": "DescriptionStyleModel",
          "state": {
            "_view_name": "StyleView",
            "_model_name": "DescriptionStyleModel",
            "description_width": "",
            "_view_module": "@jupyter-widgets/base",
            "_model_module_version": "1.5.0",
            "_view_count": null,
            "_view_module_version": "1.2.0",
            "_model_module": "@jupyter-widgets/controls"
          }
        },
        "0286ccf8ef7d4dc9a837d026f5db1594": {
          "model_module": "@jupyter-widgets/base",
          "model_name": "LayoutModel",
          "state": {
            "_view_name": "LayoutView",
            "grid_template_rows": null,
            "right": null,
            "justify_content": null,
            "_view_module": "@jupyter-widgets/base",
            "overflow": null,
            "_model_module_version": "1.2.0",
            "_view_count": null,
            "flex_flow": null,
            "width": null,
            "min_width": null,
            "border": null,
            "align_items": null,
            "bottom": null,
            "_model_module": "@jupyter-widgets/base",
            "top": null,
            "grid_column": null,
            "overflow_y": null,
            "overflow_x": null,
            "grid_auto_flow": null,
            "grid_area": null,
            "grid_template_columns": null,
            "flex": null,
            "_model_name": "LayoutModel",
            "justify_items": null,
            "grid_row": null,
            "max_height": null,
            "align_content": null,
            "visibility": null,
            "align_self": null,
            "height": null,
            "min_height": null,
            "padding": null,
            "grid_auto_rows": null,
            "grid_gap": null,
            "max_width": null,
            "order": null,
            "_view_module_version": "1.2.0",
            "grid_template_areas": null,
            "object_position": null,
            "object_fit": null,
            "grid_auto_columns": null,
            "margin": null,
            "display": null,
            "left": null
          }
        },
        "8e0012cb5fb04172a4de5996054694a3": {
          "model_module": "@jupyter-widgets/controls",
          "model_name": "HBoxModel",
          "state": {
            "_view_name": "HBoxView",
            "_dom_classes": [],
            "_model_name": "HBoxModel",
            "_view_module": "@jupyter-widgets/controls",
            "_model_module_version": "1.5.0",
            "_view_count": null,
            "_view_module_version": "1.5.0",
            "box_style": "",
            "layout": "IPY_MODEL_157fd81ff45647f5874f41a2ecd26cbb",
            "_model_module": "@jupyter-widgets/controls",
            "children": [
              "IPY_MODEL_5bb2725d690b460387c8ce86aac7c1a8",
              "IPY_MODEL_b8127fbca6d94ec48b1849ab89341f0b"
            ]
          }
        },
        "157fd81ff45647f5874f41a2ecd26cbb": {
          "model_module": "@jupyter-widgets/base",
          "model_name": "LayoutModel",
          "state": {
            "_view_name": "LayoutView",
            "grid_template_rows": null,
            "right": null,
            "justify_content": null,
            "_view_module": "@jupyter-widgets/base",
            "overflow": null,
            "_model_module_version": "1.2.0",
            "_view_count": null,
            "flex_flow": null,
            "width": null,
            "min_width": null,
            "border": null,
            "align_items": null,
            "bottom": null,
            "_model_module": "@jupyter-widgets/base",
            "top": null,
            "grid_column": null,
            "overflow_y": null,
            "overflow_x": null,
            "grid_auto_flow": null,
            "grid_area": null,
            "grid_template_columns": null,
            "flex": null,
            "_model_name": "LayoutModel",
            "justify_items": null,
            "grid_row": null,
            "max_height": null,
            "align_content": null,
            "visibility": null,
            "align_self": null,
            "height": null,
            "min_height": null,
            "padding": null,
            "grid_auto_rows": null,
            "grid_gap": null,
            "max_width": null,
            "order": null,
            "_view_module_version": "1.2.0",
            "grid_template_areas": null,
            "object_position": null,
            "object_fit": null,
            "grid_auto_columns": null,
            "margin": null,
            "display": null,
            "left": null
          }
        },
        "5bb2725d690b460387c8ce86aac7c1a8": {
          "model_module": "@jupyter-widgets/controls",
          "model_name": "FloatProgressModel",
          "state": {
            "_view_name": "ProgressView",
            "style": "IPY_MODEL_053a645982e5412f8af6fc27bd53e63f",
            "_dom_classes": [],
            "description": "Downloading: ",
            "_model_name": "FloatProgressModel",
            "bar_style": "success",
            "max": 1193,
            "_view_module": "@jupyter-widgets/controls",
            "_model_module_version": "1.5.0",
            "value": 1193,
            "_view_count": null,
            "_view_module_version": "1.5.0",
            "orientation": "horizontal",
            "min": 0,
            "description_tooltip": null,
            "_model_module": "@jupyter-widgets/controls",
            "layout": "IPY_MODEL_7ac3d15122364058812ed8474015150f"
          }
        },
        "b8127fbca6d94ec48b1849ab89341f0b": {
          "model_module": "@jupyter-widgets/controls",
          "model_name": "HTMLModel",
          "state": {
            "_view_name": "HTMLView",
            "style": "IPY_MODEL_ee77bd9bb1c8497e9c2fce0c50764343",
            "_dom_classes": [],
            "description": "",
            "_model_name": "HTMLModel",
            "placeholder": "​",
            "_view_module": "@jupyter-widgets/controls",
            "_model_module_version": "1.5.0",
            "value": " 2.88k/? [00:00&lt;00:00, 5.58kB/s]",
            "_view_count": null,
            "_view_module_version": "1.5.0",
            "description_tooltip": null,
            "_model_module": "@jupyter-widgets/controls",
            "layout": "IPY_MODEL_35bb1537dee74d03a43b2c273bfb9e9c"
          }
        },
        "053a645982e5412f8af6fc27bd53e63f": {
          "model_module": "@jupyter-widgets/controls",
          "model_name": "ProgressStyleModel",
          "state": {
            "_view_name": "StyleView",
            "_model_name": "ProgressStyleModel",
            "description_width": "initial",
            "_view_module": "@jupyter-widgets/base",
            "_model_module_version": "1.5.0",
            "_view_count": null,
            "_view_module_version": "1.2.0",
            "bar_color": null,
            "_model_module": "@jupyter-widgets/controls"
          }
        },
        "7ac3d15122364058812ed8474015150f": {
          "model_module": "@jupyter-widgets/base",
          "model_name": "LayoutModel",
          "state": {
            "_view_name": "LayoutView",
            "grid_template_rows": null,
            "right": null,
            "justify_content": null,
            "_view_module": "@jupyter-widgets/base",
            "overflow": null,
            "_model_module_version": "1.2.0",
            "_view_count": null,
            "flex_flow": null,
            "width": null,
            "min_width": null,
            "border": null,
            "align_items": null,
            "bottom": null,
            "_model_module": "@jupyter-widgets/base",
            "top": null,
            "grid_column": null,
            "overflow_y": null,
            "overflow_x": null,
            "grid_auto_flow": null,
            "grid_area": null,
            "grid_template_columns": null,
            "flex": null,
            "_model_name": "LayoutModel",
            "justify_items": null,
            "grid_row": null,
            "max_height": null,
            "align_content": null,
            "visibility": null,
            "align_self": null,
            "height": null,
            "min_height": null,
            "padding": null,
            "grid_auto_rows": null,
            "grid_gap": null,
            "max_width": null,
            "order": null,
            "_view_module_version": "1.2.0",
            "grid_template_areas": null,
            "object_position": null,
            "object_fit": null,
            "grid_auto_columns": null,
            "margin": null,
            "display": null,
            "left": null
          }
        },
        "ee77bd9bb1c8497e9c2fce0c50764343": {
          "model_module": "@jupyter-widgets/controls",
          "model_name": "DescriptionStyleModel",
          "state": {
            "_view_name": "StyleView",
            "_model_name": "DescriptionStyleModel",
            "description_width": "",
            "_view_module": "@jupyter-widgets/base",
            "_model_module_version": "1.5.0",
            "_view_count": null,
            "_view_module_version": "1.2.0",
            "_model_module": "@jupyter-widgets/controls"
          }
        },
        "35bb1537dee74d03a43b2c273bfb9e9c": {
          "model_module": "@jupyter-widgets/base",
          "model_name": "LayoutModel",
          "state": {
            "_view_name": "LayoutView",
            "grid_template_rows": null,
            "right": null,
            "justify_content": null,
            "_view_module": "@jupyter-widgets/base",
            "overflow": null,
            "_model_module_version": "1.2.0",
            "_view_count": null,
            "flex_flow": null,
            "width": null,
            "min_width": null,
            "border": null,
            "align_items": null,
            "bottom": null,
            "_model_module": "@jupyter-widgets/base",
            "top": null,
            "grid_column": null,
            "overflow_y": null,
            "overflow_x": null,
            "grid_auto_flow": null,
            "grid_area": null,
            "grid_template_columns": null,
            "flex": null,
            "_model_name": "LayoutModel",
            "justify_items": null,
            "grid_row": null,
            "max_height": null,
            "align_content": null,
            "visibility": null,
            "align_self": null,
            "height": null,
            "min_height": null,
            "padding": null,
            "grid_auto_rows": null,
            "grid_gap": null,
            "max_width": null,
            "order": null,
            "_view_module_version": "1.2.0",
            "grid_template_areas": null,
            "object_position": null,
            "object_fit": null,
            "grid_auto_columns": null,
            "margin": null,
            "display": null,
            "left": null
          }
        },
        "1d27ac44c9c94542a206588532abed92": {
          "model_module": "@jupyter-widgets/controls",
          "model_name": "HBoxModel",
          "state": {
            "_view_name": "HBoxView",
            "_dom_classes": [],
            "_model_name": "HBoxModel",
            "_view_module": "@jupyter-widgets/controls",
            "_model_module_version": "1.5.0",
            "_view_count": null,
            "_view_module_version": "1.5.0",
            "box_style": "",
            "layout": "IPY_MODEL_2764933809714aab9272a30dec8c9e41",
            "_model_module": "@jupyter-widgets/controls",
            "children": [
              "IPY_MODEL_bcafc4b8520d4b5ab22267926fd02894",
              "IPY_MODEL_ba14cb0566b64342bcde6e7d4cdd379e"
            ]
          }
        },
        "2764933809714aab9272a30dec8c9e41": {
          "model_module": "@jupyter-widgets/base",
          "model_name": "LayoutModel",
          "state": {
            "_view_name": "LayoutView",
            "grid_template_rows": null,
            "right": null,
            "justify_content": null,
            "_view_module": "@jupyter-widgets/base",
            "overflow": null,
            "_model_module_version": "1.2.0",
            "_view_count": null,
            "flex_flow": null,
            "width": null,
            "min_width": null,
            "border": null,
            "align_items": null,
            "bottom": null,
            "_model_module": "@jupyter-widgets/base",
            "top": null,
            "grid_column": null,
            "overflow_y": null,
            "overflow_x": null,
            "grid_auto_flow": null,
            "grid_area": null,
            "grid_template_columns": null,
            "flex": null,
            "_model_name": "LayoutModel",
            "justify_items": null,
            "grid_row": null,
            "max_height": null,
            "align_content": null,
            "visibility": null,
            "align_self": null,
            "height": null,
            "min_height": null,
            "padding": null,
            "grid_auto_rows": null,
            "grid_gap": null,
            "max_width": null,
            "order": null,
            "_view_module_version": "1.2.0",
            "grid_template_areas": null,
            "object_position": null,
            "object_fit": null,
            "grid_auto_columns": null,
            "margin": null,
            "display": null,
            "left": null
          }
        },
        "bcafc4b8520d4b5ab22267926fd02894": {
          "model_module": "@jupyter-widgets/controls",
          "model_name": "FloatProgressModel",
          "state": {
            "_view_name": "ProgressView",
            "style": "IPY_MODEL_643b9c7de00c4a3484d89598d818bd95",
            "_dom_classes": [],
            "description": "Downloading: 100%",
            "_model_name": "FloatProgressModel",
            "bar_style": "success",
            "max": 226850426,
            "_view_module": "@jupyter-widgets/controls",
            "_model_module_version": "1.5.0",
            "value": 226850426,
            "_view_count": null,
            "_view_module_version": "1.5.0",
            "orientation": "horizontal",
            "min": 0,
            "description_tooltip": null,
            "_model_module": "@jupyter-widgets/controls",
            "layout": "IPY_MODEL_bfa0410a37834d6ea2492e5d9c461741"
          }
        },
        "ba14cb0566b64342bcde6e7d4cdd379e": {
          "model_module": "@jupyter-widgets/controls",
          "model_name": "HTMLModel",
          "state": {
            "_view_name": "HTMLView",
            "style": "IPY_MODEL_da59d6876f6f477bb85d442ab5e09578",
            "_dom_classes": [],
            "description": "",
            "_model_name": "HTMLModel",
            "placeholder": "​",
            "_view_module": "@jupyter-widgets/controls",
            "_model_module_version": "1.5.0",
            "value": " 227M/227M [00:16&lt;00:00, 13.9MB/s]",
            "_view_count": null,
            "_view_module_version": "1.5.0",
            "description_tooltip": null,
            "_model_module": "@jupyter-widgets/controls",
            "layout": "IPY_MODEL_1a869a4a5bae4f388cf7eb30968a1df0"
          }
        },
        "643b9c7de00c4a3484d89598d818bd95": {
          "model_module": "@jupyter-widgets/controls",
          "model_name": "ProgressStyleModel",
          "state": {
            "_view_name": "StyleView",
            "_model_name": "ProgressStyleModel",
            "description_width": "initial",
            "_view_module": "@jupyter-widgets/base",
            "_model_module_version": "1.5.0",
            "_view_count": null,
            "_view_module_version": "1.2.0",
            "bar_color": null,
            "_model_module": "@jupyter-widgets/controls"
          }
        },
        "bfa0410a37834d6ea2492e5d9c461741": {
          "model_module": "@jupyter-widgets/base",
          "model_name": "LayoutModel",
          "state": {
            "_view_name": "LayoutView",
            "grid_template_rows": null,
            "right": null,
            "justify_content": null,
            "_view_module": "@jupyter-widgets/base",
            "overflow": null,
            "_model_module_version": "1.2.0",
            "_view_count": null,
            "flex_flow": null,
            "width": null,
            "min_width": null,
            "border": null,
            "align_items": null,
            "bottom": null,
            "_model_module": "@jupyter-widgets/base",
            "top": null,
            "grid_column": null,
            "overflow_y": null,
            "overflow_x": null,
            "grid_auto_flow": null,
            "grid_area": null,
            "grid_template_columns": null,
            "flex": null,
            "_model_name": "LayoutModel",
            "justify_items": null,
            "grid_row": null,
            "max_height": null,
            "align_content": null,
            "visibility": null,
            "align_self": null,
            "height": null,
            "min_height": null,
            "padding": null,
            "grid_auto_rows": null,
            "grid_gap": null,
            "max_width": null,
            "order": null,
            "_view_module_version": "1.2.0",
            "grid_template_areas": null,
            "object_position": null,
            "object_fit": null,
            "grid_auto_columns": null,
            "margin": null,
            "display": null,
            "left": null
          }
        },
        "da59d6876f6f477bb85d442ab5e09578": {
          "model_module": "@jupyter-widgets/controls",
          "model_name": "DescriptionStyleModel",
          "state": {
            "_view_name": "StyleView",
            "_model_name": "DescriptionStyleModel",
            "description_width": "",
            "_view_module": "@jupyter-widgets/base",
            "_model_module_version": "1.5.0",
            "_view_count": null,
            "_view_module_version": "1.2.0",
            "_model_module": "@jupyter-widgets/controls"
          }
        },
        "1a869a4a5bae4f388cf7eb30968a1df0": {
          "model_module": "@jupyter-widgets/base",
          "model_name": "LayoutModel",
          "state": {
            "_view_name": "LayoutView",
            "grid_template_rows": null,
            "right": null,
            "justify_content": null,
            "_view_module": "@jupyter-widgets/base",
            "overflow": null,
            "_model_module_version": "1.2.0",
            "_view_count": null,
            "flex_flow": null,
            "width": null,
            "min_width": null,
            "border": null,
            "align_items": null,
            "bottom": null,
            "_model_module": "@jupyter-widgets/base",
            "top": null,
            "grid_column": null,
            "overflow_y": null,
            "overflow_x": null,
            "grid_auto_flow": null,
            "grid_area": null,
            "grid_template_columns": null,
            "flex": null,
            "_model_name": "LayoutModel",
            "justify_items": null,
            "grid_row": null,
            "max_height": null,
            "align_content": null,
            "visibility": null,
            "align_self": null,
            "height": null,
            "min_height": null,
            "padding": null,
            "grid_auto_rows": null,
            "grid_gap": null,
            "max_width": null,
            "order": null,
            "_view_module_version": "1.2.0",
            "grid_template_areas": null,
            "object_position": null,
            "object_fit": null,
            "grid_auto_columns": null,
            "margin": null,
            "display": null,
            "left": null
          }
        },
        "c0c03641070b4715a26e5ea8c19c1d0b": {
          "model_module": "@jupyter-widgets/controls",
          "model_name": "HBoxModel",
          "state": {
            "_view_name": "HBoxView",
            "_dom_classes": [],
            "_model_name": "HBoxModel",
            "_view_module": "@jupyter-widgets/controls",
            "_model_module_version": "1.5.0",
            "_view_count": null,
            "_view_module_version": "1.5.0",
            "box_style": "",
            "layout": "IPY_MODEL_59812a9a9dad42028e6ac2b06debe985",
            "_model_module": "@jupyter-widgets/controls",
            "children": [
              "IPY_MODEL_5d648c4edef347deaa1eb63b907bea12",
              "IPY_MODEL_6284b4f788024178a0d1f978190cfcc9"
            ]
          }
        },
        "59812a9a9dad42028e6ac2b06debe985": {
          "model_module": "@jupyter-widgets/base",
          "model_name": "LayoutModel",
          "state": {
            "_view_name": "LayoutView",
            "grid_template_rows": null,
            "right": null,
            "justify_content": null,
            "_view_module": "@jupyter-widgets/base",
            "overflow": null,
            "_model_module_version": "1.2.0",
            "_view_count": null,
            "flex_flow": null,
            "width": null,
            "min_width": null,
            "border": null,
            "align_items": null,
            "bottom": null,
            "_model_module": "@jupyter-widgets/base",
            "top": null,
            "grid_column": null,
            "overflow_y": null,
            "overflow_x": null,
            "grid_auto_flow": null,
            "grid_area": null,
            "grid_template_columns": null,
            "flex": null,
            "_model_name": "LayoutModel",
            "justify_items": null,
            "grid_row": null,
            "max_height": null,
            "align_content": null,
            "visibility": null,
            "align_self": null,
            "height": null,
            "min_height": null,
            "padding": null,
            "grid_auto_rows": null,
            "grid_gap": null,
            "max_width": null,
            "order": null,
            "_view_module_version": "1.2.0",
            "grid_template_areas": null,
            "object_position": null,
            "object_fit": null,
            "grid_auto_columns": null,
            "margin": null,
            "display": null,
            "left": null
          }
        },
        "5d648c4edef347deaa1eb63b907bea12": {
          "model_module": "@jupyter-widgets/controls",
          "model_name": "FloatProgressModel",
          "state": {
            "_view_name": "ProgressView",
            "style": "IPY_MODEL_2c1857fb5c004e579f30ea3bfeec3a7a",
            "_dom_classes": [],
            "description": "",
            "_model_name": "FloatProgressModel",
            "bar_style": "info",
            "max": 1,
            "_view_module": "@jupyter-widgets/controls",
            "_model_module_version": "1.5.0",
            "value": 1,
            "_view_count": null,
            "_view_module_version": "1.5.0",
            "orientation": "horizontal",
            "min": 0,
            "description_tooltip": null,
            "_model_module": "@jupyter-widgets/controls",
            "layout": "IPY_MODEL_762f7da38194499d96d81b54022c6c20"
          }
        },
        "6284b4f788024178a0d1f978190cfcc9": {
          "model_module": "@jupyter-widgets/controls",
          "model_name": "HTMLModel",
          "state": {
            "_view_name": "HTMLView",
            "style": "IPY_MODEL_ef24bd479e3a4f9aa036ed0f25a9234c",
            "_dom_classes": [],
            "description": "",
            "_model_name": "HTMLModel",
            "placeholder": "​",
            "_view_module": "@jupyter-widgets/controls",
            "_model_module_version": "1.5.0",
            "value": " 392702/0 [00:28&lt;00:00, 14808.75 examples/s]",
            "_view_count": null,
            "_view_module_version": "1.5.0",
            "description_tooltip": null,
            "_model_module": "@jupyter-widgets/controls",
            "layout": "IPY_MODEL_1b318fb0877e46469cc47dabcfe01e1a"
          }
        },
        "2c1857fb5c004e579f30ea3bfeec3a7a": {
          "model_module": "@jupyter-widgets/controls",
          "model_name": "ProgressStyleModel",
          "state": {
            "_view_name": "StyleView",
            "_model_name": "ProgressStyleModel",
            "description_width": "initial",
            "_view_module": "@jupyter-widgets/base",
            "_model_module_version": "1.5.0",
            "_view_count": null,
            "_view_module_version": "1.2.0",
            "bar_color": null,
            "_model_module": "@jupyter-widgets/controls"
          }
        },
        "762f7da38194499d96d81b54022c6c20": {
          "model_module": "@jupyter-widgets/base",
          "model_name": "LayoutModel",
          "state": {
            "_view_name": "LayoutView",
            "grid_template_rows": null,
            "right": null,
            "justify_content": null,
            "_view_module": "@jupyter-widgets/base",
            "overflow": null,
            "_model_module_version": "1.2.0",
            "_view_count": null,
            "flex_flow": null,
            "width": null,
            "min_width": null,
            "border": null,
            "align_items": null,
            "bottom": null,
            "_model_module": "@jupyter-widgets/base",
            "top": null,
            "grid_column": null,
            "overflow_y": null,
            "overflow_x": null,
            "grid_auto_flow": null,
            "grid_area": null,
            "grid_template_columns": null,
            "flex": null,
            "_model_name": "LayoutModel",
            "justify_items": null,
            "grid_row": null,
            "max_height": null,
            "align_content": null,
            "visibility": null,
            "align_self": null,
            "height": null,
            "min_height": null,
            "padding": null,
            "grid_auto_rows": null,
            "grid_gap": null,
            "max_width": null,
            "order": null,
            "_view_module_version": "1.2.0",
            "grid_template_areas": null,
            "object_position": null,
            "object_fit": null,
            "grid_auto_columns": null,
            "margin": null,
            "display": null,
            "left": null
          }
        },
        "ef24bd479e3a4f9aa036ed0f25a9234c": {
          "model_module": "@jupyter-widgets/controls",
          "model_name": "DescriptionStyleModel",
          "state": {
            "_view_name": "StyleView",
            "_model_name": "DescriptionStyleModel",
            "description_width": "",
            "_view_module": "@jupyter-widgets/base",
            "_model_module_version": "1.5.0",
            "_view_count": null,
            "_view_module_version": "1.2.0",
            "_model_module": "@jupyter-widgets/controls"
          }
        },
        "1b318fb0877e46469cc47dabcfe01e1a": {
          "model_module": "@jupyter-widgets/base",
          "model_name": "LayoutModel",
          "state": {
            "_view_name": "LayoutView",
            "grid_template_rows": null,
            "right": null,
            "justify_content": null,
            "_view_module": "@jupyter-widgets/base",
            "overflow": null,
            "_model_module_version": "1.2.0",
            "_view_count": null,
            "flex_flow": null,
            "width": null,
            "min_width": null,
            "border": null,
            "align_items": null,
            "bottom": null,
            "_model_module": "@jupyter-widgets/base",
            "top": null,
            "grid_column": null,
            "overflow_y": null,
            "overflow_x": null,
            "grid_auto_flow": null,
            "grid_area": null,
            "grid_template_columns": null,
            "flex": null,
            "_model_name": "LayoutModel",
            "justify_items": null,
            "grid_row": null,
            "max_height": null,
            "align_content": null,
            "visibility": null,
            "align_self": null,
            "height": null,
            "min_height": null,
            "padding": null,
            "grid_auto_rows": null,
            "grid_gap": null,
            "max_width": null,
            "order": null,
            "_view_module_version": "1.2.0",
            "grid_template_areas": null,
            "object_position": null,
            "object_fit": null,
            "grid_auto_columns": null,
            "margin": null,
            "display": null,
            "left": null
          }
        },
        "ab3912b651f6431891c48c198bb10bad": {
          "model_module": "@jupyter-widgets/controls",
          "model_name": "HBoxModel",
          "state": {
            "_view_name": "HBoxView",
            "_dom_classes": [],
            "_model_name": "HBoxModel",
            "_view_module": "@jupyter-widgets/controls",
            "_model_module_version": "1.5.0",
            "_view_count": null,
            "_view_module_version": "1.5.0",
            "box_style": "",
            "layout": "IPY_MODEL_20e4934628084ec0b7b83f04aec9b513",
            "_model_module": "@jupyter-widgets/controls",
            "children": [
              "IPY_MODEL_3457ad00c50342239b9a35e4a5a3a69c",
              "IPY_MODEL_ab80becfa75e4b13a0ea1d4436199d4b"
            ]
          }
        },
        "20e4934628084ec0b7b83f04aec9b513": {
          "model_module": "@jupyter-widgets/base",
          "model_name": "LayoutModel",
          "state": {
            "_view_name": "LayoutView",
            "grid_template_rows": null,
            "right": null,
            "justify_content": null,
            "_view_module": "@jupyter-widgets/base",
            "overflow": null,
            "_model_module_version": "1.2.0",
            "_view_count": null,
            "flex_flow": null,
            "width": null,
            "min_width": null,
            "border": null,
            "align_items": null,
            "bottom": null,
            "_model_module": "@jupyter-widgets/base",
            "top": null,
            "grid_column": null,
            "overflow_y": null,
            "overflow_x": null,
            "grid_auto_flow": null,
            "grid_area": null,
            "grid_template_columns": null,
            "flex": null,
            "_model_name": "LayoutModel",
            "justify_items": null,
            "grid_row": null,
            "max_height": null,
            "align_content": null,
            "visibility": null,
            "align_self": null,
            "height": null,
            "min_height": null,
            "padding": null,
            "grid_auto_rows": null,
            "grid_gap": null,
            "max_width": null,
            "order": null,
            "_view_module_version": "1.2.0",
            "grid_template_areas": null,
            "object_position": null,
            "object_fit": null,
            "grid_auto_columns": null,
            "margin": null,
            "display": null,
            "left": null
          }
        },
        "3457ad00c50342239b9a35e4a5a3a69c": {
          "model_module": "@jupyter-widgets/controls",
          "model_name": "FloatProgressModel",
          "state": {
            "_view_name": "ProgressView",
            "style": "IPY_MODEL_db33115dc88e470e87e1acbac25d3992",
            "_dom_classes": [],
            "description": "",
            "_model_name": "FloatProgressModel",
            "bar_style": "info",
            "max": 1,
            "_view_module": "@jupyter-widgets/controls",
            "_model_module_version": "1.5.0",
            "value": 1,
            "_view_count": null,
            "_view_module_version": "1.5.0",
            "orientation": "horizontal",
            "min": 0,
            "description_tooltip": null,
            "_model_module": "@jupyter-widgets/controls",
            "layout": "IPY_MODEL_c9463201f3a441dfbe5bfef5921a22bc"
          }
        },
        "ab80becfa75e4b13a0ea1d4436199d4b": {
          "model_module": "@jupyter-widgets/controls",
          "model_name": "HTMLModel",
          "state": {
            "_view_name": "HTMLView",
            "style": "IPY_MODEL_0df81f3a7d894b38a8fc8efcc0177a2b",
            "_dom_classes": [],
            "description": "",
            "_model_name": "HTMLModel",
            "placeholder": "​",
            "_view_module": "@jupyter-widgets/controls",
            "_model_module_version": "1.5.0",
            "value": " 9815/0 [00:00&lt;00:00, 13116.10 examples/s]",
            "_view_count": null,
            "_view_module_version": "1.5.0",
            "description_tooltip": null,
            "_model_module": "@jupyter-widgets/controls",
            "layout": "IPY_MODEL_c5f7dbd00d1246a788bff3d337bae223"
          }
        },
        "db33115dc88e470e87e1acbac25d3992": {
          "model_module": "@jupyter-widgets/controls",
          "model_name": "ProgressStyleModel",
          "state": {
            "_view_name": "StyleView",
            "_model_name": "ProgressStyleModel",
            "description_width": "initial",
            "_view_module": "@jupyter-widgets/base",
            "_model_module_version": "1.5.0",
            "_view_count": null,
            "_view_module_version": "1.2.0",
            "bar_color": null,
            "_model_module": "@jupyter-widgets/controls"
          }
        },
        "c9463201f3a441dfbe5bfef5921a22bc": {
          "model_module": "@jupyter-widgets/base",
          "model_name": "LayoutModel",
          "state": {
            "_view_name": "LayoutView",
            "grid_template_rows": null,
            "right": null,
            "justify_content": null,
            "_view_module": "@jupyter-widgets/base",
            "overflow": null,
            "_model_module_version": "1.2.0",
            "_view_count": null,
            "flex_flow": null,
            "width": null,
            "min_width": null,
            "border": null,
            "align_items": null,
            "bottom": null,
            "_model_module": "@jupyter-widgets/base",
            "top": null,
            "grid_column": null,
            "overflow_y": null,
            "overflow_x": null,
            "grid_auto_flow": null,
            "grid_area": null,
            "grid_template_columns": null,
            "flex": null,
            "_model_name": "LayoutModel",
            "justify_items": null,
            "grid_row": null,
            "max_height": null,
            "align_content": null,
            "visibility": null,
            "align_self": null,
            "height": null,
            "min_height": null,
            "padding": null,
            "grid_auto_rows": null,
            "grid_gap": null,
            "max_width": null,
            "order": null,
            "_view_module_version": "1.2.0",
            "grid_template_areas": null,
            "object_position": null,
            "object_fit": null,
            "grid_auto_columns": null,
            "margin": null,
            "display": null,
            "left": null
          }
        },
        "0df81f3a7d894b38a8fc8efcc0177a2b": {
          "model_module": "@jupyter-widgets/controls",
          "model_name": "DescriptionStyleModel",
          "state": {
            "_view_name": "StyleView",
            "_model_name": "DescriptionStyleModel",
            "description_width": "",
            "_view_module": "@jupyter-widgets/base",
            "_model_module_version": "1.5.0",
            "_view_count": null,
            "_view_module_version": "1.2.0",
            "_model_module": "@jupyter-widgets/controls"
          }
        },
        "c5f7dbd00d1246a788bff3d337bae223": {
          "model_module": "@jupyter-widgets/base",
          "model_name": "LayoutModel",
          "state": {
            "_view_name": "LayoutView",
            "grid_template_rows": null,
            "right": null,
            "justify_content": null,
            "_view_module": "@jupyter-widgets/base",
            "overflow": null,
            "_model_module_version": "1.2.0",
            "_view_count": null,
            "flex_flow": null,
            "width": null,
            "min_width": null,
            "border": null,
            "align_items": null,
            "bottom": null,
            "_model_module": "@jupyter-widgets/base",
            "top": null,
            "grid_column": null,
            "overflow_y": null,
            "overflow_x": null,
            "grid_auto_flow": null,
            "grid_area": null,
            "grid_template_columns": null,
            "flex": null,
            "_model_name": "LayoutModel",
            "justify_items": null,
            "grid_row": null,
            "max_height": null,
            "align_content": null,
            "visibility": null,
            "align_self": null,
            "height": null,
            "min_height": null,
            "padding": null,
            "grid_auto_rows": null,
            "grid_gap": null,
            "max_width": null,
            "order": null,
            "_view_module_version": "1.2.0",
            "grid_template_areas": null,
            "object_position": null,
            "object_fit": null,
            "grid_auto_columns": null,
            "margin": null,
            "display": null,
            "left": null
          }
        },
        "b120a27d89244aa9bbf603de5e1897c6": {
          "model_module": "@jupyter-widgets/controls",
          "model_name": "HBoxModel",
          "state": {
            "_view_name": "HBoxView",
            "_dom_classes": [],
            "_model_name": "HBoxModel",
            "_view_module": "@jupyter-widgets/controls",
            "_model_module_version": "1.5.0",
            "_view_count": null,
            "_view_module_version": "1.5.0",
            "box_style": "",
            "layout": "IPY_MODEL_ff7e3b5c74b3437caf5acda8550f6685",
            "_model_module": "@jupyter-widgets/controls",
            "children": [
              "IPY_MODEL_1c7ada3ba9454037b89c2f23ac6d584e",
              "IPY_MODEL_007edb7b57f2415a8af96e7beb6723b1"
            ]
          }
        },
        "ff7e3b5c74b3437caf5acda8550f6685": {
          "model_module": "@jupyter-widgets/base",
          "model_name": "LayoutModel",
          "state": {
            "_view_name": "LayoutView",
            "grid_template_rows": null,
            "right": null,
            "justify_content": null,
            "_view_module": "@jupyter-widgets/base",
            "overflow": null,
            "_model_module_version": "1.2.0",
            "_view_count": null,
            "flex_flow": null,
            "width": null,
            "min_width": null,
            "border": null,
            "align_items": null,
            "bottom": null,
            "_model_module": "@jupyter-widgets/base",
            "top": null,
            "grid_column": null,
            "overflow_y": null,
            "overflow_x": null,
            "grid_auto_flow": null,
            "grid_area": null,
            "grid_template_columns": null,
            "flex": null,
            "_model_name": "LayoutModel",
            "justify_items": null,
            "grid_row": null,
            "max_height": null,
            "align_content": null,
            "visibility": null,
            "align_self": null,
            "height": null,
            "min_height": null,
            "padding": null,
            "grid_auto_rows": null,
            "grid_gap": null,
            "max_width": null,
            "order": null,
            "_view_module_version": "1.2.0",
            "grid_template_areas": null,
            "object_position": null,
            "object_fit": null,
            "grid_auto_columns": null,
            "margin": null,
            "display": null,
            "left": null
          }
        },
        "1c7ada3ba9454037b89c2f23ac6d584e": {
          "model_module": "@jupyter-widgets/controls",
          "model_name": "FloatProgressModel",
          "state": {
            "_view_name": "ProgressView",
            "style": "IPY_MODEL_79a51d7ad2eb4f9ea7cbcbb257ac0dbc",
            "_dom_classes": [],
            "description": "",
            "_model_name": "FloatProgressModel",
            "bar_style": "info",
            "max": 1,
            "_view_module": "@jupyter-widgets/controls",
            "_model_module_version": "1.5.0",
            "value": 1,
            "_view_count": null,
            "_view_module_version": "1.5.0",
            "orientation": "horizontal",
            "min": 0,
            "description_tooltip": null,
            "_model_module": "@jupyter-widgets/controls",
            "layout": "IPY_MODEL_9257370e3b444957844d488dbc94dfb5"
          }
        },
        "007edb7b57f2415a8af96e7beb6723b1": {
          "model_module": "@jupyter-widgets/controls",
          "model_name": "HTMLModel",
          "state": {
            "_view_name": "HTMLView",
            "style": "IPY_MODEL_0ee8cd87c9c043cca6f540ebbc829943",
            "_dom_classes": [],
            "description": "",
            "_model_name": "HTMLModel",
            "placeholder": "​",
            "_view_module": "@jupyter-widgets/controls",
            "_model_module_version": "1.5.0",
            "value": " 9832/0 [00:00&lt;00:00, 11597.98 examples/s]",
            "_view_count": null,
            "_view_module_version": "1.5.0",
            "description_tooltip": null,
            "_model_module": "@jupyter-widgets/controls",
            "layout": "IPY_MODEL_4de277c8f3b741418b50f571da60d3e0"
          }
        },
        "79a51d7ad2eb4f9ea7cbcbb257ac0dbc": {
          "model_module": "@jupyter-widgets/controls",
          "model_name": "ProgressStyleModel",
          "state": {
            "_view_name": "StyleView",
            "_model_name": "ProgressStyleModel",
            "description_width": "initial",
            "_view_module": "@jupyter-widgets/base",
            "_model_module_version": "1.5.0",
            "_view_count": null,
            "_view_module_version": "1.2.0",
            "bar_color": null,
            "_model_module": "@jupyter-widgets/controls"
          }
        },
        "9257370e3b444957844d488dbc94dfb5": {
          "model_module": "@jupyter-widgets/base",
          "model_name": "LayoutModel",
          "state": {
            "_view_name": "LayoutView",
            "grid_template_rows": null,
            "right": null,
            "justify_content": null,
            "_view_module": "@jupyter-widgets/base",
            "overflow": null,
            "_model_module_version": "1.2.0",
            "_view_count": null,
            "flex_flow": null,
            "width": null,
            "min_width": null,
            "border": null,
            "align_items": null,
            "bottom": null,
            "_model_module": "@jupyter-widgets/base",
            "top": null,
            "grid_column": null,
            "overflow_y": null,
            "overflow_x": null,
            "grid_auto_flow": null,
            "grid_area": null,
            "grid_template_columns": null,
            "flex": null,
            "_model_name": "LayoutModel",
            "justify_items": null,
            "grid_row": null,
            "max_height": null,
            "align_content": null,
            "visibility": null,
            "align_self": null,
            "height": null,
            "min_height": null,
            "padding": null,
            "grid_auto_rows": null,
            "grid_gap": null,
            "max_width": null,
            "order": null,
            "_view_module_version": "1.2.0",
            "grid_template_areas": null,
            "object_position": null,
            "object_fit": null,
            "grid_auto_columns": null,
            "margin": null,
            "display": null,
            "left": null
          }
        },
        "0ee8cd87c9c043cca6f540ebbc829943": {
          "model_module": "@jupyter-widgets/controls",
          "model_name": "DescriptionStyleModel",
          "state": {
            "_view_name": "StyleView",
            "_model_name": "DescriptionStyleModel",
            "description_width": "",
            "_view_module": "@jupyter-widgets/base",
            "_model_module_version": "1.5.0",
            "_view_count": null,
            "_view_module_version": "1.2.0",
            "_model_module": "@jupyter-widgets/controls"
          }
        },
        "4de277c8f3b741418b50f571da60d3e0": {
          "model_module": "@jupyter-widgets/base",
          "model_name": "LayoutModel",
          "state": {
            "_view_name": "LayoutView",
            "grid_template_rows": null,
            "right": null,
            "justify_content": null,
            "_view_module": "@jupyter-widgets/base",
            "overflow": null,
            "_model_module_version": "1.2.0",
            "_view_count": null,
            "flex_flow": null,
            "width": null,
            "min_width": null,
            "border": null,
            "align_items": null,
            "bottom": null,
            "_model_module": "@jupyter-widgets/base",
            "top": null,
            "grid_column": null,
            "overflow_y": null,
            "overflow_x": null,
            "grid_auto_flow": null,
            "grid_area": null,
            "grid_template_columns": null,
            "flex": null,
            "_model_name": "LayoutModel",
            "justify_items": null,
            "grid_row": null,
            "max_height": null,
            "align_content": null,
            "visibility": null,
            "align_self": null,
            "height": null,
            "min_height": null,
            "padding": null,
            "grid_auto_rows": null,
            "grid_gap": null,
            "max_width": null,
            "order": null,
            "_view_module_version": "1.2.0",
            "grid_template_areas": null,
            "object_position": null,
            "object_fit": null,
            "grid_auto_columns": null,
            "margin": null,
            "display": null,
            "left": null
          }
        },
        "238a1bccaa86479894a29f666614ab94": {
          "model_module": "@jupyter-widgets/controls",
          "model_name": "HBoxModel",
          "state": {
            "_view_name": "HBoxView",
            "_dom_classes": [],
            "_model_name": "HBoxModel",
            "_view_module": "@jupyter-widgets/controls",
            "_model_module_version": "1.5.0",
            "_view_count": null,
            "_view_module_version": "1.5.0",
            "box_style": "",
            "layout": "IPY_MODEL_9cc71fcf97d5412cbe2296d2411d077f",
            "_model_module": "@jupyter-widgets/controls",
            "children": [
              "IPY_MODEL_bff17d018f714d898035dc56aac1e240",
              "IPY_MODEL_45e636471aae490d852f8f0ad3274f61"
            ]
          }
        },
        "9cc71fcf97d5412cbe2296d2411d077f": {
          "model_module": "@jupyter-widgets/base",
          "model_name": "LayoutModel",
          "state": {
            "_view_name": "LayoutView",
            "grid_template_rows": null,
            "right": null,
            "justify_content": null,
            "_view_module": "@jupyter-widgets/base",
            "overflow": null,
            "_model_module_version": "1.2.0",
            "_view_count": null,
            "flex_flow": null,
            "width": null,
            "min_width": null,
            "border": null,
            "align_items": null,
            "bottom": null,
            "_model_module": "@jupyter-widgets/base",
            "top": null,
            "grid_column": null,
            "overflow_y": null,
            "overflow_x": null,
            "grid_auto_flow": null,
            "grid_area": null,
            "grid_template_columns": null,
            "flex": null,
            "_model_name": "LayoutModel",
            "justify_items": null,
            "grid_row": null,
            "max_height": null,
            "align_content": null,
            "visibility": null,
            "align_self": null,
            "height": null,
            "min_height": null,
            "padding": null,
            "grid_auto_rows": null,
            "grid_gap": null,
            "max_width": null,
            "order": null,
            "_view_module_version": "1.2.0",
            "grid_template_areas": null,
            "object_position": null,
            "object_fit": null,
            "grid_auto_columns": null,
            "margin": null,
            "display": null,
            "left": null
          }
        },
        "bff17d018f714d898035dc56aac1e240": {
          "model_module": "@jupyter-widgets/controls",
          "model_name": "FloatProgressModel",
          "state": {
            "_view_name": "ProgressView",
            "style": "IPY_MODEL_2be7eb6ba7b0437ab24007b5c612cef6",
            "_dom_classes": [],
            "description": "  0%",
            "_model_name": "FloatProgressModel",
            "bar_style": "danger",
            "max": 2000,
            "_view_module": "@jupyter-widgets/controls",
            "_model_module_version": "1.5.0",
            "value": 7,
            "_view_count": null,
            "_view_module_version": "1.5.0",
            "orientation": "horizontal",
            "min": 0,
            "description_tooltip": null,
            "_model_module": "@jupyter-widgets/controls",
            "layout": "IPY_MODEL_77f13e1c613e441d93bdd27ded7a70db"
          }
        },
        "45e636471aae490d852f8f0ad3274f61": {
          "model_module": "@jupyter-widgets/controls",
          "model_name": "HTMLModel",
          "state": {
            "_view_name": "HTMLView",
            "style": "IPY_MODEL_3d651409df1f4e7e8e264d14a388bd16",
            "_dom_classes": [],
            "description": "",
            "_model_name": "HTMLModel",
            "placeholder": "​",
            "_view_module": "@jupyter-widgets/controls",
            "_model_module_version": "1.5.0",
            "value": " 7/2000 [00:01&lt;05:44,  5.79it/s]",
            "_view_count": null,
            "_view_module_version": "1.5.0",
            "description_tooltip": null,
            "_model_module": "@jupyter-widgets/controls",
            "layout": "IPY_MODEL_1703a4709ef645a0a7ae0e03b44ed46e"
          }
        },
        "2be7eb6ba7b0437ab24007b5c612cef6": {
          "model_module": "@jupyter-widgets/controls",
          "model_name": "ProgressStyleModel",
          "state": {
            "_view_name": "StyleView",
            "_model_name": "ProgressStyleModel",
            "description_width": "initial",
            "_view_module": "@jupyter-widgets/base",
            "_model_module_version": "1.5.0",
            "_view_count": null,
            "_view_module_version": "1.2.0",
            "bar_color": null,
            "_model_module": "@jupyter-widgets/controls"
          }
        },
        "77f13e1c613e441d93bdd27ded7a70db": {
          "model_module": "@jupyter-widgets/base",
          "model_name": "LayoutModel",
          "state": {
            "_view_name": "LayoutView",
            "grid_template_rows": null,
            "right": null,
            "justify_content": null,
            "_view_module": "@jupyter-widgets/base",
            "overflow": null,
            "_model_module_version": "1.2.0",
            "_view_count": null,
            "flex_flow": null,
            "width": null,
            "min_width": null,
            "border": null,
            "align_items": null,
            "bottom": null,
            "_model_module": "@jupyter-widgets/base",
            "top": null,
            "grid_column": null,
            "overflow_y": null,
            "overflow_x": null,
            "grid_auto_flow": null,
            "grid_area": null,
            "grid_template_columns": null,
            "flex": null,
            "_model_name": "LayoutModel",
            "justify_items": null,
            "grid_row": null,
            "max_height": null,
            "align_content": null,
            "visibility": null,
            "align_self": null,
            "height": null,
            "min_height": null,
            "padding": null,
            "grid_auto_rows": null,
            "grid_gap": null,
            "max_width": null,
            "order": null,
            "_view_module_version": "1.2.0",
            "grid_template_areas": null,
            "object_position": null,
            "object_fit": null,
            "grid_auto_columns": null,
            "margin": null,
            "display": null,
            "left": null
          }
        },
        "3d651409df1f4e7e8e264d14a388bd16": {
          "model_module": "@jupyter-widgets/controls",
          "model_name": "DescriptionStyleModel",
          "state": {
            "_view_name": "StyleView",
            "_model_name": "DescriptionStyleModel",
            "description_width": "",
            "_view_module": "@jupyter-widgets/base",
            "_model_module_version": "1.5.0",
            "_view_count": null,
            "_view_module_version": "1.2.0",
            "_model_module": "@jupyter-widgets/controls"
          }
        },
        "1703a4709ef645a0a7ae0e03b44ed46e": {
          "model_module": "@jupyter-widgets/base",
          "model_name": "LayoutModel",
          "state": {
            "_view_name": "LayoutView",
            "grid_template_rows": null,
            "right": null,
            "justify_content": null,
            "_view_module": "@jupyter-widgets/base",
            "overflow": null,
            "_model_module_version": "1.2.0",
            "_view_count": null,
            "flex_flow": null,
            "width": null,
            "min_width": null,
            "border": null,
            "align_items": null,
            "bottom": null,
            "_model_module": "@jupyter-widgets/base",
            "top": null,
            "grid_column": null,
            "overflow_y": null,
            "overflow_x": null,
            "grid_auto_flow": null,
            "grid_area": null,
            "grid_template_columns": null,
            "flex": null,
            "_model_name": "LayoutModel",
            "justify_items": null,
            "grid_row": null,
            "max_height": null,
            "align_content": null,
            "visibility": null,
            "align_self": null,
            "height": null,
            "min_height": null,
            "padding": null,
            "grid_auto_rows": null,
            "grid_gap": null,
            "max_width": null,
            "order": null,
            "_view_module_version": "1.2.0",
            "grid_template_areas": null,
            "object_position": null,
            "object_fit": null,
            "grid_auto_columns": null,
            "margin": null,
            "display": null,
            "left": null
          }
        },
        "da661d0aba204b3d922689d262578c22": {
          "model_module": "@jupyter-widgets/controls",
          "model_name": "HBoxModel",
          "state": {
            "_view_name": "HBoxView",
            "_dom_classes": [],
            "_model_name": "HBoxModel",
            "_view_module": "@jupyter-widgets/controls",
            "_model_module_version": "1.5.0",
            "_view_count": null,
            "_view_module_version": "1.5.0",
            "box_style": "",
            "layout": "IPY_MODEL_3e827451d8714ba9be709c11af4bb47c",
            "_model_module": "@jupyter-widgets/controls",
            "children": [
              "IPY_MODEL_56c957558c734cb6bec68e1f0c02abfb",
              "IPY_MODEL_e3de446a65814eb6abdcbf05fde9fdbe"
            ]
          }
        },
        "3e827451d8714ba9be709c11af4bb47c": {
          "model_module": "@jupyter-widgets/base",
          "model_name": "LayoutModel",
          "state": {
            "_view_name": "LayoutView",
            "grid_template_rows": null,
            "right": null,
            "justify_content": null,
            "_view_module": "@jupyter-widgets/base",
            "overflow": null,
            "_model_module_version": "1.2.0",
            "_view_count": null,
            "flex_flow": null,
            "width": null,
            "min_width": null,
            "border": null,
            "align_items": null,
            "bottom": null,
            "_model_module": "@jupyter-widgets/base",
            "top": null,
            "grid_column": null,
            "overflow_y": null,
            "overflow_x": null,
            "grid_auto_flow": null,
            "grid_area": null,
            "grid_template_columns": null,
            "flex": null,
            "_model_name": "LayoutModel",
            "justify_items": null,
            "grid_row": null,
            "max_height": null,
            "align_content": null,
            "visibility": null,
            "align_self": null,
            "height": null,
            "min_height": null,
            "padding": null,
            "grid_auto_rows": null,
            "grid_gap": null,
            "max_width": null,
            "order": null,
            "_view_module_version": "1.2.0",
            "grid_template_areas": null,
            "object_position": null,
            "object_fit": null,
            "grid_auto_columns": null,
            "margin": null,
            "display": null,
            "left": null
          }
        },
        "56c957558c734cb6bec68e1f0c02abfb": {
          "model_module": "@jupyter-widgets/controls",
          "model_name": "FloatProgressModel",
          "state": {
            "_view_name": "ProgressView",
            "style": "IPY_MODEL_836bb9c02b214bd19a1c19aa3a1bba29",
            "_dom_classes": [],
            "description": "100%",
            "_model_name": "FloatProgressModel",
            "bar_style": "success",
            "max": 2000,
            "_view_module": "@jupyter-widgets/controls",
            "_model_module_version": "1.5.0",
            "value": 2000,
            "_view_count": null,
            "_view_module_version": "1.5.0",
            "orientation": "horizontal",
            "min": 0,
            "description_tooltip": null,
            "_model_module": "@jupyter-widgets/controls",
            "layout": "IPY_MODEL_cb97fc1ca1034ee8beadd30786c65ffe"
          }
        },
        "e3de446a65814eb6abdcbf05fde9fdbe": {
          "model_module": "@jupyter-widgets/controls",
          "model_name": "HTMLModel",
          "state": {
            "_view_name": "HTMLView",
            "style": "IPY_MODEL_15af073722864423bb9444890d12c12e",
            "_dom_classes": [],
            "description": "",
            "_model_name": "HTMLModel",
            "placeholder": "​",
            "_view_module": "@jupyter-widgets/controls",
            "_model_module_version": "1.5.0",
            "value": " 2000/2000 [00:49&lt;00:00, 40.74it/s]",
            "_view_count": null,
            "_view_module_version": "1.5.0",
            "description_tooltip": null,
            "_model_module": "@jupyter-widgets/controls",
            "layout": "IPY_MODEL_5df47a0ab28543dfb21e64b6e0a28b98"
          }
        },
        "836bb9c02b214bd19a1c19aa3a1bba29": {
          "model_module": "@jupyter-widgets/controls",
          "model_name": "ProgressStyleModel",
          "state": {
            "_view_name": "StyleView",
            "_model_name": "ProgressStyleModel",
            "description_width": "initial",
            "_view_module": "@jupyter-widgets/base",
            "_model_module_version": "1.5.0",
            "_view_count": null,
            "_view_module_version": "1.2.0",
            "bar_color": null,
            "_model_module": "@jupyter-widgets/controls"
          }
        },
        "cb97fc1ca1034ee8beadd30786c65ffe": {
          "model_module": "@jupyter-widgets/base",
          "model_name": "LayoutModel",
          "state": {
            "_view_name": "LayoutView",
            "grid_template_rows": null,
            "right": null,
            "justify_content": null,
            "_view_module": "@jupyter-widgets/base",
            "overflow": null,
            "_model_module_version": "1.2.0",
            "_view_count": null,
            "flex_flow": null,
            "width": null,
            "min_width": null,
            "border": null,
            "align_items": null,
            "bottom": null,
            "_model_module": "@jupyter-widgets/base",
            "top": null,
            "grid_column": null,
            "overflow_y": null,
            "overflow_x": null,
            "grid_auto_flow": null,
            "grid_area": null,
            "grid_template_columns": null,
            "flex": null,
            "_model_name": "LayoutModel",
            "justify_items": null,
            "grid_row": null,
            "max_height": null,
            "align_content": null,
            "visibility": null,
            "align_self": null,
            "height": null,
            "min_height": null,
            "padding": null,
            "grid_auto_rows": null,
            "grid_gap": null,
            "max_width": null,
            "order": null,
            "_view_module_version": "1.2.0",
            "grid_template_areas": null,
            "object_position": null,
            "object_fit": null,
            "grid_auto_columns": null,
            "margin": null,
            "display": null,
            "left": null
          }
        },
        "15af073722864423bb9444890d12c12e": {
          "model_module": "@jupyter-widgets/controls",
          "model_name": "DescriptionStyleModel",
          "state": {
            "_view_name": "StyleView",
            "_model_name": "DescriptionStyleModel",
            "description_width": "",
            "_view_module": "@jupyter-widgets/base",
            "_model_module_version": "1.5.0",
            "_view_count": null,
            "_view_module_version": "1.2.0",
            "_model_module": "@jupyter-widgets/controls"
          }
        },
        "5df47a0ab28543dfb21e64b6e0a28b98": {
          "model_module": "@jupyter-widgets/base",
          "model_name": "LayoutModel",
          "state": {
            "_view_name": "LayoutView",
            "grid_template_rows": null,
            "right": null,
            "justify_content": null,
            "_view_module": "@jupyter-widgets/base",
            "overflow": null,
            "_model_module_version": "1.2.0",
            "_view_count": null,
            "flex_flow": null,
            "width": null,
            "min_width": null,
            "border": null,
            "align_items": null,
            "bottom": null,
            "_model_module": "@jupyter-widgets/base",
            "top": null,
            "grid_column": null,
            "overflow_y": null,
            "overflow_x": null,
            "grid_auto_flow": null,
            "grid_area": null,
            "grid_template_columns": null,
            "flex": null,
            "_model_name": "LayoutModel",
            "justify_items": null,
            "grid_row": null,
            "max_height": null,
            "align_content": null,
            "visibility": null,
            "align_self": null,
            "height": null,
            "min_height": null,
            "padding": null,
            "grid_auto_rows": null,
            "grid_gap": null,
            "max_width": null,
            "order": null,
            "_view_module_version": "1.2.0",
            "grid_template_areas": null,
            "object_position": null,
            "object_fit": null,
            "grid_auto_columns": null,
            "margin": null,
            "display": null,
            "left": null
          }
        },
        "eda8fcf7556e4972b850a7705351be9e": {
          "model_module": "@jupyter-widgets/controls",
          "model_name": "HBoxModel",
          "state": {
            "_view_name": "HBoxView",
            "_dom_classes": [],
            "_model_name": "HBoxModel",
            "_view_module": "@jupyter-widgets/controls",
            "_model_module_version": "1.5.0",
            "_view_count": null,
            "_view_module_version": "1.5.0",
            "box_style": "",
            "layout": "IPY_MODEL_449f014505164a0f9e6c39cc95208e17",
            "_model_module": "@jupyter-widgets/controls",
            "children": [
              "IPY_MODEL_e76adf4ea5944abb8cdd42e633471105",
              "IPY_MODEL_741bbe03c0a3406eb7c82756892e391a"
            ]
          }
        },
        "449f014505164a0f9e6c39cc95208e17": {
          "model_module": "@jupyter-widgets/base",
          "model_name": "LayoutModel",
          "state": {
            "_view_name": "LayoutView",
            "grid_template_rows": null,
            "right": null,
            "justify_content": null,
            "_view_module": "@jupyter-widgets/base",
            "overflow": null,
            "_model_module_version": "1.2.0",
            "_view_count": null,
            "flex_flow": null,
            "width": null,
            "min_width": null,
            "border": null,
            "align_items": null,
            "bottom": null,
            "_model_module": "@jupyter-widgets/base",
            "top": null,
            "grid_column": null,
            "overflow_y": null,
            "overflow_x": null,
            "grid_auto_flow": null,
            "grid_area": null,
            "grid_template_columns": null,
            "flex": null,
            "_model_name": "LayoutModel",
            "justify_items": null,
            "grid_row": null,
            "max_height": null,
            "align_content": null,
            "visibility": null,
            "align_self": null,
            "height": null,
            "min_height": null,
            "padding": null,
            "grid_auto_rows": null,
            "grid_gap": null,
            "max_width": null,
            "order": null,
            "_view_module_version": "1.2.0",
            "grid_template_areas": null,
            "object_position": null,
            "object_fit": null,
            "grid_auto_columns": null,
            "margin": null,
            "display": null,
            "left": null
          }
        },
        "e76adf4ea5944abb8cdd42e633471105": {
          "model_module": "@jupyter-widgets/controls",
          "model_name": "FloatProgressModel",
          "state": {
            "_view_name": "ProgressView",
            "style": "IPY_MODEL_afa9cfb8f8774370b52adf77e7171d6c",
            "_dom_classes": [],
            "description": "100%",
            "_model_name": "FloatProgressModel",
            "bar_style": "success",
            "max": 2000,
            "_view_module": "@jupyter-widgets/controls",
            "_model_module_version": "1.5.0",
            "value": 2000,
            "_view_count": null,
            "_view_module_version": "1.5.0",
            "orientation": "horizontal",
            "min": 0,
            "description_tooltip": null,
            "_model_module": "@jupyter-widgets/controls",
            "layout": "IPY_MODEL_2928a47976e84a3f8e66ca0f3462ecde"
          }
        },
        "741bbe03c0a3406eb7c82756892e391a": {
          "model_module": "@jupyter-widgets/controls",
          "model_name": "HTMLModel",
          "state": {
            "_view_name": "HTMLView",
            "style": "IPY_MODEL_e26894f86288406fb3f0100ea1215f08",
            "_dom_classes": [],
            "description": "",
            "_model_name": "HTMLModel",
            "placeholder": "​",
            "_view_module": "@jupyter-widgets/controls",
            "_model_module_version": "1.5.0",
            "value": " 2000/2000 [18:48&lt;00:00,  1.77it/s]",
            "_view_count": null,
            "_view_module_version": "1.5.0",
            "description_tooltip": null,
            "_model_module": "@jupyter-widgets/controls",
            "layout": "IPY_MODEL_702e78454ac1499793a851aab1c35d5c"
          }
        },
        "afa9cfb8f8774370b52adf77e7171d6c": {
          "model_module": "@jupyter-widgets/controls",
          "model_name": "ProgressStyleModel",
          "state": {
            "_view_name": "StyleView",
            "_model_name": "ProgressStyleModel",
            "description_width": "initial",
            "_view_module": "@jupyter-widgets/base",
            "_model_module_version": "1.5.0",
            "_view_count": null,
            "_view_module_version": "1.2.0",
            "bar_color": null,
            "_model_module": "@jupyter-widgets/controls"
          }
        },
        "2928a47976e84a3f8e66ca0f3462ecde": {
          "model_module": "@jupyter-widgets/base",
          "model_name": "LayoutModel",
          "state": {
            "_view_name": "LayoutView",
            "grid_template_rows": null,
            "right": null,
            "justify_content": null,
            "_view_module": "@jupyter-widgets/base",
            "overflow": null,
            "_model_module_version": "1.2.0",
            "_view_count": null,
            "flex_flow": null,
            "width": null,
            "min_width": null,
            "border": null,
            "align_items": null,
            "bottom": null,
            "_model_module": "@jupyter-widgets/base",
            "top": null,
            "grid_column": null,
            "overflow_y": null,
            "overflow_x": null,
            "grid_auto_flow": null,
            "grid_area": null,
            "grid_template_columns": null,
            "flex": null,
            "_model_name": "LayoutModel",
            "justify_items": null,
            "grid_row": null,
            "max_height": null,
            "align_content": null,
            "visibility": null,
            "align_self": null,
            "height": null,
            "min_height": null,
            "padding": null,
            "grid_auto_rows": null,
            "grid_gap": null,
            "max_width": null,
            "order": null,
            "_view_module_version": "1.2.0",
            "grid_template_areas": null,
            "object_position": null,
            "object_fit": null,
            "grid_auto_columns": null,
            "margin": null,
            "display": null,
            "left": null
          }
        },
        "e26894f86288406fb3f0100ea1215f08": {
          "model_module": "@jupyter-widgets/controls",
          "model_name": "DescriptionStyleModel",
          "state": {
            "_view_name": "StyleView",
            "_model_name": "DescriptionStyleModel",
            "description_width": "",
            "_view_module": "@jupyter-widgets/base",
            "_model_module_version": "1.5.0",
            "_view_count": null,
            "_view_module_version": "1.2.0",
            "_model_module": "@jupyter-widgets/controls"
          }
        },
        "702e78454ac1499793a851aab1c35d5c": {
          "model_module": "@jupyter-widgets/base",
          "model_name": "LayoutModel",
          "state": {
            "_view_name": "LayoutView",
            "grid_template_rows": null,
            "right": null,
            "justify_content": null,
            "_view_module": "@jupyter-widgets/base",
            "overflow": null,
            "_model_module_version": "1.2.0",
            "_view_count": null,
            "flex_flow": null,
            "width": null,
            "min_width": null,
            "border": null,
            "align_items": null,
            "bottom": null,
            "_model_module": "@jupyter-widgets/base",
            "top": null,
            "grid_column": null,
            "overflow_y": null,
            "overflow_x": null,
            "grid_auto_flow": null,
            "grid_area": null,
            "grid_template_columns": null,
            "flex": null,
            "_model_name": "LayoutModel",
            "justify_items": null,
            "grid_row": null,
            "max_height": null,
            "align_content": null,
            "visibility": null,
            "align_self": null,
            "height": null,
            "min_height": null,
            "padding": null,
            "grid_auto_rows": null,
            "grid_gap": null,
            "max_width": null,
            "order": null,
            "_view_module_version": "1.2.0",
            "grid_template_areas": null,
            "object_position": null,
            "object_fit": null,
            "grid_auto_columns": null,
            "margin": null,
            "display": null,
            "left": null
          }
        },
        "4a2ab317594f4eb0b6768c32a6933b6d": {
          "model_module": "@jupyter-widgets/controls",
          "model_name": "HBoxModel",
          "state": {
            "_view_name": "HBoxView",
            "_dom_classes": [],
            "_model_name": "HBoxModel",
            "_view_module": "@jupyter-widgets/controls",
            "_model_module_version": "1.5.0",
            "_view_count": null,
            "_view_module_version": "1.5.0",
            "box_style": "",
            "layout": "IPY_MODEL_a001c1a65ad047679011566ad13fc4e8",
            "_model_module": "@jupyter-widgets/controls",
            "children": [
              "IPY_MODEL_05fece22021d43fd87e197a25cec1146",
              "IPY_MODEL_58244986ce7a4255966527424ce37606"
            ]
          }
        },
        "a001c1a65ad047679011566ad13fc4e8": {
          "model_module": "@jupyter-widgets/base",
          "model_name": "LayoutModel",
          "state": {
            "_view_name": "LayoutView",
            "grid_template_rows": null,
            "right": null,
            "justify_content": null,
            "_view_module": "@jupyter-widgets/base",
            "overflow": null,
            "_model_module_version": "1.2.0",
            "_view_count": null,
            "flex_flow": null,
            "width": null,
            "min_width": null,
            "border": null,
            "align_items": null,
            "bottom": null,
            "_model_module": "@jupyter-widgets/base",
            "top": null,
            "grid_column": null,
            "overflow_y": null,
            "overflow_x": null,
            "grid_auto_flow": null,
            "grid_area": null,
            "grid_template_columns": null,
            "flex": null,
            "_model_name": "LayoutModel",
            "justify_items": null,
            "grid_row": null,
            "max_height": null,
            "align_content": null,
            "visibility": null,
            "align_self": null,
            "height": null,
            "min_height": null,
            "padding": null,
            "grid_auto_rows": null,
            "grid_gap": null,
            "max_width": null,
            "order": null,
            "_view_module_version": "1.2.0",
            "grid_template_areas": null,
            "object_position": null,
            "object_fit": null,
            "grid_auto_columns": null,
            "margin": null,
            "display": null,
            "left": null
          }
        },
        "05fece22021d43fd87e197a25cec1146": {
          "model_module": "@jupyter-widgets/controls",
          "model_name": "FloatProgressModel",
          "state": {
            "_view_name": "ProgressView",
            "style": "IPY_MODEL_c7a44916e9f447c0a7444c09961acd8e",
            "_dom_classes": [],
            "description": "100%",
            "_model_name": "FloatProgressModel",
            "bar_style": "success",
            "max": 1000,
            "_view_module": "@jupyter-widgets/controls",
            "_model_module_version": "1.5.0",
            "value": 1000,
            "_view_count": null,
            "_view_module_version": "1.5.0",
            "orientation": "horizontal",
            "min": 0,
            "description_tooltip": null,
            "_model_module": "@jupyter-widgets/controls",
            "layout": "IPY_MODEL_e7b72c1ecc4b4a0a8de111c1eb3a1a74"
          }
        },
        "58244986ce7a4255966527424ce37606": {
          "model_module": "@jupyter-widgets/controls",
          "model_name": "HTMLModel",
          "state": {
            "_view_name": "HTMLView",
            "style": "IPY_MODEL_a91589f94f9b47c0896e995ca93ca07b",
            "_dom_classes": [],
            "description": "",
            "_model_name": "HTMLModel",
            "placeholder": "​",
            "_view_module": "@jupyter-widgets/controls",
            "_model_module_version": "1.5.0",
            "value": " 1000/1000 [00:25&lt;00:00, 39.20it/s]",
            "_view_count": null,
            "_view_module_version": "1.5.0",
            "description_tooltip": null,
            "_model_module": "@jupyter-widgets/controls",
            "layout": "IPY_MODEL_ca6d2c28e66943e39b2b30261f6b3299"
          }
        },
        "c7a44916e9f447c0a7444c09961acd8e": {
          "model_module": "@jupyter-widgets/controls",
          "model_name": "ProgressStyleModel",
          "state": {
            "_view_name": "StyleView",
            "_model_name": "ProgressStyleModel",
            "description_width": "initial",
            "_view_module": "@jupyter-widgets/base",
            "_model_module_version": "1.5.0",
            "_view_count": null,
            "_view_module_version": "1.2.0",
            "bar_color": null,
            "_model_module": "@jupyter-widgets/controls"
          }
        },
        "e7b72c1ecc4b4a0a8de111c1eb3a1a74": {
          "model_module": "@jupyter-widgets/base",
          "model_name": "LayoutModel",
          "state": {
            "_view_name": "LayoutView",
            "grid_template_rows": null,
            "right": null,
            "justify_content": null,
            "_view_module": "@jupyter-widgets/base",
            "overflow": null,
            "_model_module_version": "1.2.0",
            "_view_count": null,
            "flex_flow": null,
            "width": null,
            "min_width": null,
            "border": null,
            "align_items": null,
            "bottom": null,
            "_model_module": "@jupyter-widgets/base",
            "top": null,
            "grid_column": null,
            "overflow_y": null,
            "overflow_x": null,
            "grid_auto_flow": null,
            "grid_area": null,
            "grid_template_columns": null,
            "flex": null,
            "_model_name": "LayoutModel",
            "justify_items": null,
            "grid_row": null,
            "max_height": null,
            "align_content": null,
            "visibility": null,
            "align_self": null,
            "height": null,
            "min_height": null,
            "padding": null,
            "grid_auto_rows": null,
            "grid_gap": null,
            "max_width": null,
            "order": null,
            "_view_module_version": "1.2.0",
            "grid_template_areas": null,
            "object_position": null,
            "object_fit": null,
            "grid_auto_columns": null,
            "margin": null,
            "display": null,
            "left": null
          }
        },
        "a91589f94f9b47c0896e995ca93ca07b": {
          "model_module": "@jupyter-widgets/controls",
          "model_name": "DescriptionStyleModel",
          "state": {
            "_view_name": "StyleView",
            "_model_name": "DescriptionStyleModel",
            "description_width": "",
            "_view_module": "@jupyter-widgets/base",
            "_model_module_version": "1.5.0",
            "_view_count": null,
            "_view_module_version": "1.2.0",
            "_model_module": "@jupyter-widgets/controls"
          }
        },
        "ca6d2c28e66943e39b2b30261f6b3299": {
          "model_module": "@jupyter-widgets/base",
          "model_name": "LayoutModel",
          "state": {
            "_view_name": "LayoutView",
            "grid_template_rows": null,
            "right": null,
            "justify_content": null,
            "_view_module": "@jupyter-widgets/base",
            "overflow": null,
            "_model_module_version": "1.2.0",
            "_view_count": null,
            "flex_flow": null,
            "width": null,
            "min_width": null,
            "border": null,
            "align_items": null,
            "bottom": null,
            "_model_module": "@jupyter-widgets/base",
            "top": null,
            "grid_column": null,
            "overflow_y": null,
            "overflow_x": null,
            "grid_auto_flow": null,
            "grid_area": null,
            "grid_template_columns": null,
            "flex": null,
            "_model_name": "LayoutModel",
            "justify_items": null,
            "grid_row": null,
            "max_height": null,
            "align_content": null,
            "visibility": null,
            "align_self": null,
            "height": null,
            "min_height": null,
            "padding": null,
            "grid_auto_rows": null,
            "grid_gap": null,
            "max_width": null,
            "order": null,
            "_view_module_version": "1.2.0",
            "grid_template_areas": null,
            "object_position": null,
            "object_fit": null,
            "grid_auto_columns": null,
            "margin": null,
            "display": null,
            "left": null
          }
        },
        "055fd5c3575346f493328e43f369d8b8": {
          "model_module": "@jupyter-widgets/controls",
          "model_name": "HBoxModel",
          "state": {
            "_view_name": "HBoxView",
            "_dom_classes": [],
            "_model_name": "HBoxModel",
            "_view_module": "@jupyter-widgets/controls",
            "_model_module_version": "1.5.0",
            "_view_count": null,
            "_view_module_version": "1.5.0",
            "box_style": "",
            "layout": "IPY_MODEL_99b3c50dd8374c9283f498cbcf1d45fb",
            "_model_module": "@jupyter-widgets/controls",
            "children": [
              "IPY_MODEL_1eb86c98ba964f6e899f3a32ecc3cf44",
              "IPY_MODEL_5b199600c06c40c2944b650774339420"
            ]
          }
        },
        "99b3c50dd8374c9283f498cbcf1d45fb": {
          "model_module": "@jupyter-widgets/base",
          "model_name": "LayoutModel",
          "state": {
            "_view_name": "LayoutView",
            "grid_template_rows": null,
            "right": null,
            "justify_content": null,
            "_view_module": "@jupyter-widgets/base",
            "overflow": null,
            "_model_module_version": "1.2.0",
            "_view_count": null,
            "flex_flow": null,
            "width": null,
            "min_width": null,
            "border": null,
            "align_items": null,
            "bottom": null,
            "_model_module": "@jupyter-widgets/base",
            "top": null,
            "grid_column": null,
            "overflow_y": null,
            "overflow_x": null,
            "grid_auto_flow": null,
            "grid_area": null,
            "grid_template_columns": null,
            "flex": null,
            "_model_name": "LayoutModel",
            "justify_items": null,
            "grid_row": null,
            "max_height": null,
            "align_content": null,
            "visibility": null,
            "align_self": null,
            "height": null,
            "min_height": null,
            "padding": null,
            "grid_auto_rows": null,
            "grid_gap": null,
            "max_width": null,
            "order": null,
            "_view_module_version": "1.2.0",
            "grid_template_areas": null,
            "object_position": null,
            "object_fit": null,
            "grid_auto_columns": null,
            "margin": null,
            "display": null,
            "left": null
          }
        },
        "1eb86c98ba964f6e899f3a32ecc3cf44": {
          "model_module": "@jupyter-widgets/controls",
          "model_name": "FloatProgressModel",
          "state": {
            "_view_name": "ProgressView",
            "style": "IPY_MODEL_977fb30f6419460580fa709ff57e58ab",
            "_dom_classes": [],
            "description": "100%",
            "_model_name": "FloatProgressModel",
            "bar_style": "success",
            "max": 2000,
            "_view_module": "@jupyter-widgets/controls",
            "_model_module_version": "1.5.0",
            "value": 2000,
            "_view_count": null,
            "_view_module_version": "1.5.0",
            "orientation": "horizontal",
            "min": 0,
            "description_tooltip": null,
            "_model_module": "@jupyter-widgets/controls",
            "layout": "IPY_MODEL_bc24beffe59042cabe399eb145687843"
          }
        },
        "5b199600c06c40c2944b650774339420": {
          "model_module": "@jupyter-widgets/controls",
          "model_name": "HTMLModel",
          "state": {
            "_view_name": "HTMLView",
            "style": "IPY_MODEL_bcca2d033cca42739ad932e01aa94362",
            "_dom_classes": [],
            "description": "",
            "_model_name": "HTMLModel",
            "placeholder": "​",
            "_view_module": "@jupyter-widgets/controls",
            "_model_module_version": "1.5.0",
            "value": " 2000/2000 [08:14&lt;00:00,  4.05it/s]",
            "_view_count": null,
            "_view_module_version": "1.5.0",
            "description_tooltip": null,
            "_model_module": "@jupyter-widgets/controls",
            "layout": "IPY_MODEL_89d7afebc65f47ed9cacff46b0efb661"
          }
        },
        "977fb30f6419460580fa709ff57e58ab": {
          "model_module": "@jupyter-widgets/controls",
          "model_name": "ProgressStyleModel",
          "state": {
            "_view_name": "StyleView",
            "_model_name": "ProgressStyleModel",
            "description_width": "initial",
            "_view_module": "@jupyter-widgets/base",
            "_model_module_version": "1.5.0",
            "_view_count": null,
            "_view_module_version": "1.2.0",
            "bar_color": null,
            "_model_module": "@jupyter-widgets/controls"
          }
        },
        "bc24beffe59042cabe399eb145687843": {
          "model_module": "@jupyter-widgets/base",
          "model_name": "LayoutModel",
          "state": {
            "_view_name": "LayoutView",
            "grid_template_rows": null,
            "right": null,
            "justify_content": null,
            "_view_module": "@jupyter-widgets/base",
            "overflow": null,
            "_model_module_version": "1.2.0",
            "_view_count": null,
            "flex_flow": null,
            "width": null,
            "min_width": null,
            "border": null,
            "align_items": null,
            "bottom": null,
            "_model_module": "@jupyter-widgets/base",
            "top": null,
            "grid_column": null,
            "overflow_y": null,
            "overflow_x": null,
            "grid_auto_flow": null,
            "grid_area": null,
            "grid_template_columns": null,
            "flex": null,
            "_model_name": "LayoutModel",
            "justify_items": null,
            "grid_row": null,
            "max_height": null,
            "align_content": null,
            "visibility": null,
            "align_self": null,
            "height": null,
            "min_height": null,
            "padding": null,
            "grid_auto_rows": null,
            "grid_gap": null,
            "max_width": null,
            "order": null,
            "_view_module_version": "1.2.0",
            "grid_template_areas": null,
            "object_position": null,
            "object_fit": null,
            "grid_auto_columns": null,
            "margin": null,
            "display": null,
            "left": null
          }
        },
        "bcca2d033cca42739ad932e01aa94362": {
          "model_module": "@jupyter-widgets/controls",
          "model_name": "DescriptionStyleModel",
          "state": {
            "_view_name": "StyleView",
            "_model_name": "DescriptionStyleModel",
            "description_width": "",
            "_view_module": "@jupyter-widgets/base",
            "_model_module_version": "1.5.0",
            "_view_count": null,
            "_view_module_version": "1.2.0",
            "_model_module": "@jupyter-widgets/controls"
          }
        },
        "89d7afebc65f47ed9cacff46b0efb661": {
          "model_module": "@jupyter-widgets/base",
          "model_name": "LayoutModel",
          "state": {
            "_view_name": "LayoutView",
            "grid_template_rows": null,
            "right": null,
            "justify_content": null,
            "_view_module": "@jupyter-widgets/base",
            "overflow": null,
            "_model_module_version": "1.2.0",
            "_view_count": null,
            "flex_flow": null,
            "width": null,
            "min_width": null,
            "border": null,
            "align_items": null,
            "bottom": null,
            "_model_module": "@jupyter-widgets/base",
            "top": null,
            "grid_column": null,
            "overflow_y": null,
            "overflow_x": null,
            "grid_auto_flow": null,
            "grid_area": null,
            "grid_template_columns": null,
            "flex": null,
            "_model_name": "LayoutModel",
            "justify_items": null,
            "grid_row": null,
            "max_height": null,
            "align_content": null,
            "visibility": null,
            "align_self": null,
            "height": null,
            "min_height": null,
            "padding": null,
            "grid_auto_rows": null,
            "grid_gap": null,
            "max_width": null,
            "order": null,
            "_view_module_version": "1.2.0",
            "grid_template_areas": null,
            "object_position": null,
            "object_fit": null,
            "grid_auto_columns": null,
            "margin": null,
            "display": null,
            "left": null
          }
        },
        "0df8c968326c4915b467a1f287037905": {
          "model_module": "@jupyter-widgets/controls",
          "model_name": "HBoxModel",
          "state": {
            "_view_name": "HBoxView",
            "_dom_classes": [],
            "_model_name": "HBoxModel",
            "_view_module": "@jupyter-widgets/controls",
            "_model_module_version": "1.5.0",
            "_view_count": null,
            "_view_module_version": "1.5.0",
            "box_style": "",
            "layout": "IPY_MODEL_6e82a088ec1d4280bb2bb0e9df2149d7",
            "_model_module": "@jupyter-widgets/controls",
            "children": [
              "IPY_MODEL_06f2b534c6964472bf28a7ef5227c3ed",
              "IPY_MODEL_aeb8f93eccf74d1a8da8f4764e9d577f"
            ]
          }
        },
        "6e82a088ec1d4280bb2bb0e9df2149d7": {
          "model_module": "@jupyter-widgets/base",
          "model_name": "LayoutModel",
          "state": {
            "_view_name": "LayoutView",
            "grid_template_rows": null,
            "right": null,
            "justify_content": null,
            "_view_module": "@jupyter-widgets/base",
            "overflow": null,
            "_model_module_version": "1.2.0",
            "_view_count": null,
            "flex_flow": null,
            "width": null,
            "min_width": null,
            "border": null,
            "align_items": null,
            "bottom": null,
            "_model_module": "@jupyter-widgets/base",
            "top": null,
            "grid_column": null,
            "overflow_y": null,
            "overflow_x": null,
            "grid_auto_flow": null,
            "grid_area": null,
            "grid_template_columns": null,
            "flex": null,
            "_model_name": "LayoutModel",
            "justify_items": null,
            "grid_row": null,
            "max_height": null,
            "align_content": null,
            "visibility": null,
            "align_self": null,
            "height": null,
            "min_height": null,
            "padding": null,
            "grid_auto_rows": null,
            "grid_gap": null,
            "max_width": null,
            "order": null,
            "_view_module_version": "1.2.0",
            "grid_template_areas": null,
            "object_position": null,
            "object_fit": null,
            "grid_auto_columns": null,
            "margin": null,
            "display": null,
            "left": null
          }
        },
        "06f2b534c6964472bf28a7ef5227c3ed": {
          "model_module": "@jupyter-widgets/controls",
          "model_name": "FloatProgressModel",
          "state": {
            "_view_name": "ProgressView",
            "style": "IPY_MODEL_5fc230db53d74e2c8e873dc65f7a6fc2",
            "_dom_classes": [],
            "description": "100%",
            "_model_name": "FloatProgressModel",
            "bar_style": "success",
            "max": 2000,
            "_view_module": "@jupyter-widgets/controls",
            "_model_module_version": "1.5.0",
            "value": 2000,
            "_view_count": null,
            "_view_module_version": "1.5.0",
            "orientation": "horizontal",
            "min": 0,
            "description_tooltip": null,
            "_model_module": "@jupyter-widgets/controls",
            "layout": "IPY_MODEL_8531bf8305c8487c9ca34f06127294ac"
          }
        },
        "aeb8f93eccf74d1a8da8f4764e9d577f": {
          "model_module": "@jupyter-widgets/controls",
          "model_name": "HTMLModel",
          "state": {
            "_view_name": "HTMLView",
            "style": "IPY_MODEL_ad6fc86d98a2429c866b068dd66f13e2",
            "_dom_classes": [],
            "description": "",
            "_model_name": "HTMLModel",
            "placeholder": "​",
            "_view_module": "@jupyter-widgets/controls",
            "_model_module_version": "1.5.0",
            "value": " 2000/2000 [06:47&lt;00:00,  4.91it/s]",
            "_view_count": null,
            "_view_module_version": "1.5.0",
            "description_tooltip": null,
            "_model_module": "@jupyter-widgets/controls",
            "layout": "IPY_MODEL_843f79bd5ece42c88883d72c7b4877a8"
          }
        },
        "5fc230db53d74e2c8e873dc65f7a6fc2": {
          "model_module": "@jupyter-widgets/controls",
          "model_name": "ProgressStyleModel",
          "state": {
            "_view_name": "StyleView",
            "_model_name": "ProgressStyleModel",
            "description_width": "initial",
            "_view_module": "@jupyter-widgets/base",
            "_model_module_version": "1.5.0",
            "_view_count": null,
            "_view_module_version": "1.2.0",
            "bar_color": null,
            "_model_module": "@jupyter-widgets/controls"
          }
        },
        "8531bf8305c8487c9ca34f06127294ac": {
          "model_module": "@jupyter-widgets/base",
          "model_name": "LayoutModel",
          "state": {
            "_view_name": "LayoutView",
            "grid_template_rows": null,
            "right": null,
            "justify_content": null,
            "_view_module": "@jupyter-widgets/base",
            "overflow": null,
            "_model_module_version": "1.2.0",
            "_view_count": null,
            "flex_flow": null,
            "width": null,
            "min_width": null,
            "border": null,
            "align_items": null,
            "bottom": null,
            "_model_module": "@jupyter-widgets/base",
            "top": null,
            "grid_column": null,
            "overflow_y": null,
            "overflow_x": null,
            "grid_auto_flow": null,
            "grid_area": null,
            "grid_template_columns": null,
            "flex": null,
            "_model_name": "LayoutModel",
            "justify_items": null,
            "grid_row": null,
            "max_height": null,
            "align_content": null,
            "visibility": null,
            "align_self": null,
            "height": null,
            "min_height": null,
            "padding": null,
            "grid_auto_rows": null,
            "grid_gap": null,
            "max_width": null,
            "order": null,
            "_view_module_version": "1.2.0",
            "grid_template_areas": null,
            "object_position": null,
            "object_fit": null,
            "grid_auto_columns": null,
            "margin": null,
            "display": null,
            "left": null
          }
        },
        "ad6fc86d98a2429c866b068dd66f13e2": {
          "model_module": "@jupyter-widgets/controls",
          "model_name": "DescriptionStyleModel",
          "state": {
            "_view_name": "StyleView",
            "_model_name": "DescriptionStyleModel",
            "description_width": "",
            "_view_module": "@jupyter-widgets/base",
            "_model_module_version": "1.5.0",
            "_view_count": null,
            "_view_module_version": "1.2.0",
            "_model_module": "@jupyter-widgets/controls"
          }
        },
        "843f79bd5ece42c88883d72c7b4877a8": {
          "model_module": "@jupyter-widgets/base",
          "model_name": "LayoutModel",
          "state": {
            "_view_name": "LayoutView",
            "grid_template_rows": null,
            "right": null,
            "justify_content": null,
            "_view_module": "@jupyter-widgets/base",
            "overflow": null,
            "_model_module_version": "1.2.0",
            "_view_count": null,
            "flex_flow": null,
            "width": null,
            "min_width": null,
            "border": null,
            "align_items": null,
            "bottom": null,
            "_model_module": "@jupyter-widgets/base",
            "top": null,
            "grid_column": null,
            "overflow_y": null,
            "overflow_x": null,
            "grid_auto_flow": null,
            "grid_area": null,
            "grid_template_columns": null,
            "flex": null,
            "_model_name": "LayoutModel",
            "justify_items": null,
            "grid_row": null,
            "max_height": null,
            "align_content": null,
            "visibility": null,
            "align_self": null,
            "height": null,
            "min_height": null,
            "padding": null,
            "grid_auto_rows": null,
            "grid_gap": null,
            "max_width": null,
            "order": null,
            "_view_module_version": "1.2.0",
            "grid_template_areas": null,
            "object_position": null,
            "object_fit": null,
            "grid_auto_columns": null,
            "margin": null,
            "display": null,
            "left": null
          }
        },
        "3acbcf93e7e9468ca54a3a2bf00ce615": {
          "model_module": "@jupyter-widgets/controls",
          "model_name": "HBoxModel",
          "state": {
            "_view_name": "HBoxView",
            "_dom_classes": [],
            "_model_name": "HBoxModel",
            "_view_module": "@jupyter-widgets/controls",
            "_model_module_version": "1.5.0",
            "_view_count": null,
            "_view_module_version": "1.5.0",
            "box_style": "",
            "layout": "IPY_MODEL_4cfb9920ca204655a091b6ca2f887c24",
            "_model_module": "@jupyter-widgets/controls",
            "children": [
              "IPY_MODEL_83440b68f2554392859eacf2544fc386",
              "IPY_MODEL_fbb9c645720649ec94330a4733594a1d"
            ]
          }
        },
        "4cfb9920ca204655a091b6ca2f887c24": {
          "model_module": "@jupyter-widgets/base",
          "model_name": "LayoutModel",
          "state": {
            "_view_name": "LayoutView",
            "grid_template_rows": null,
            "right": null,
            "justify_content": null,
            "_view_module": "@jupyter-widgets/base",
            "overflow": null,
            "_model_module_version": "1.2.0",
            "_view_count": null,
            "flex_flow": null,
            "width": null,
            "min_width": null,
            "border": null,
            "align_items": null,
            "bottom": null,
            "_model_module": "@jupyter-widgets/base",
            "top": null,
            "grid_column": null,
            "overflow_y": null,
            "overflow_x": null,
            "grid_auto_flow": null,
            "grid_area": null,
            "grid_template_columns": null,
            "flex": null,
            "_model_name": "LayoutModel",
            "justify_items": null,
            "grid_row": null,
            "max_height": null,
            "align_content": null,
            "visibility": null,
            "align_self": null,
            "height": null,
            "min_height": null,
            "padding": null,
            "grid_auto_rows": null,
            "grid_gap": null,
            "max_width": null,
            "order": null,
            "_view_module_version": "1.2.0",
            "grid_template_areas": null,
            "object_position": null,
            "object_fit": null,
            "grid_auto_columns": null,
            "margin": null,
            "display": null,
            "left": null
          }
        },
        "83440b68f2554392859eacf2544fc386": {
          "model_module": "@jupyter-widgets/controls",
          "model_name": "FloatProgressModel",
          "state": {
            "_view_name": "ProgressView",
            "style": "IPY_MODEL_1b8260ad57d042acb8be1b3cc2255839",
            "_dom_classes": [],
            "description": "100%",
            "_model_name": "FloatProgressModel",
            "bar_style": "success",
            "max": 1000,
            "_view_module": "@jupyter-widgets/controls",
            "_model_module_version": "1.5.0",
            "value": 1000,
            "_view_count": null,
            "_view_module_version": "1.5.0",
            "orientation": "horizontal",
            "min": 0,
            "description_tooltip": null,
            "_model_module": "@jupyter-widgets/controls",
            "layout": "IPY_MODEL_9d004bde0c4d49fcb2e46f087e7e9396"
          }
        },
        "fbb9c645720649ec94330a4733594a1d": {
          "model_module": "@jupyter-widgets/controls",
          "model_name": "HTMLModel",
          "state": {
            "_view_name": "HTMLView",
            "style": "IPY_MODEL_d8a68a5edd5b4379b19889b8bd19105b",
            "_dom_classes": [],
            "description": "",
            "_model_name": "HTMLModel",
            "placeholder": "​",
            "_view_module": "@jupyter-widgets/controls",
            "_model_module_version": "1.5.0",
            "value": " 1000/1000 [01:31&lt;00:00, 10.95it/s]",
            "_view_count": null,
            "_view_module_version": "1.5.0",
            "description_tooltip": null,
            "_model_module": "@jupyter-widgets/controls",
            "layout": "IPY_MODEL_3ac7f55a26f94803aa99dc3c3c796e4f"
          }
        },
        "1b8260ad57d042acb8be1b3cc2255839": {
          "model_module": "@jupyter-widgets/controls",
          "model_name": "ProgressStyleModel",
          "state": {
            "_view_name": "StyleView",
            "_model_name": "ProgressStyleModel",
            "description_width": "initial",
            "_view_module": "@jupyter-widgets/base",
            "_model_module_version": "1.5.0",
            "_view_count": null,
            "_view_module_version": "1.2.0",
            "bar_color": null,
            "_model_module": "@jupyter-widgets/controls"
          }
        },
        "9d004bde0c4d49fcb2e46f087e7e9396": {
          "model_module": "@jupyter-widgets/base",
          "model_name": "LayoutModel",
          "state": {
            "_view_name": "LayoutView",
            "grid_template_rows": null,
            "right": null,
            "justify_content": null,
            "_view_module": "@jupyter-widgets/base",
            "overflow": null,
            "_model_module_version": "1.2.0",
            "_view_count": null,
            "flex_flow": null,
            "width": null,
            "min_width": null,
            "border": null,
            "align_items": null,
            "bottom": null,
            "_model_module": "@jupyter-widgets/base",
            "top": null,
            "grid_column": null,
            "overflow_y": null,
            "overflow_x": null,
            "grid_auto_flow": null,
            "grid_area": null,
            "grid_template_columns": null,
            "flex": null,
            "_model_name": "LayoutModel",
            "justify_items": null,
            "grid_row": null,
            "max_height": null,
            "align_content": null,
            "visibility": null,
            "align_self": null,
            "height": null,
            "min_height": null,
            "padding": null,
            "grid_auto_rows": null,
            "grid_gap": null,
            "max_width": null,
            "order": null,
            "_view_module_version": "1.2.0",
            "grid_template_areas": null,
            "object_position": null,
            "object_fit": null,
            "grid_auto_columns": null,
            "margin": null,
            "display": null,
            "left": null
          }
        },
        "d8a68a5edd5b4379b19889b8bd19105b": {
          "model_module": "@jupyter-widgets/controls",
          "model_name": "DescriptionStyleModel",
          "state": {
            "_view_name": "StyleView",
            "_model_name": "DescriptionStyleModel",
            "description_width": "",
            "_view_module": "@jupyter-widgets/base",
            "_model_module_version": "1.5.0",
            "_view_count": null,
            "_view_module_version": "1.2.0",
            "_model_module": "@jupyter-widgets/controls"
          }
        },
        "3ac7f55a26f94803aa99dc3c3c796e4f": {
          "model_module": "@jupyter-widgets/base",
          "model_name": "LayoutModel",
          "state": {
            "_view_name": "LayoutView",
            "grid_template_rows": null,
            "right": null,
            "justify_content": null,
            "_view_module": "@jupyter-widgets/base",
            "overflow": null,
            "_model_module_version": "1.2.0",
            "_view_count": null,
            "flex_flow": null,
            "width": null,
            "min_width": null,
            "border": null,
            "align_items": null,
            "bottom": null,
            "_model_module": "@jupyter-widgets/base",
            "top": null,
            "grid_column": null,
            "overflow_y": null,
            "overflow_x": null,
            "grid_auto_flow": null,
            "grid_area": null,
            "grid_template_columns": null,
            "flex": null,
            "_model_name": "LayoutModel",
            "justify_items": null,
            "grid_row": null,
            "max_height": null,
            "align_content": null,
            "visibility": null,
            "align_self": null,
            "height": null,
            "min_height": null,
            "padding": null,
            "grid_auto_rows": null,
            "grid_gap": null,
            "max_width": null,
            "order": null,
            "_view_module_version": "1.2.0",
            "grid_template_areas": null,
            "object_position": null,
            "object_fit": null,
            "grid_auto_columns": null,
            "margin": null,
            "display": null,
            "left": null
          }
        },
        "27cd50f12878478f89a4971573871cfa": {
          "model_module": "@jupyter-widgets/controls",
          "model_name": "HBoxModel",
          "state": {
            "_view_name": "HBoxView",
            "_dom_classes": [],
            "_model_name": "HBoxModel",
            "_view_module": "@jupyter-widgets/controls",
            "_model_module_version": "1.5.0",
            "_view_count": null,
            "_view_module_version": "1.5.0",
            "box_style": "",
            "layout": "IPY_MODEL_67a2b515d2934cd092f849b527f0d1e9",
            "_model_module": "@jupyter-widgets/controls",
            "children": [
              "IPY_MODEL_6737f916f237415b966f328e351fef85",
              "IPY_MODEL_8bdf186881d34fe391770f3a195f0889"
            ]
          }
        },
        "67a2b515d2934cd092f849b527f0d1e9": {
          "model_module": "@jupyter-widgets/base",
          "model_name": "LayoutModel",
          "state": {
            "_view_name": "LayoutView",
            "grid_template_rows": null,
            "right": null,
            "justify_content": null,
            "_view_module": "@jupyter-widgets/base",
            "overflow": null,
            "_model_module_version": "1.2.0",
            "_view_count": null,
            "flex_flow": null,
            "width": null,
            "min_width": null,
            "border": null,
            "align_items": null,
            "bottom": null,
            "_model_module": "@jupyter-widgets/base",
            "top": null,
            "grid_column": null,
            "overflow_y": null,
            "overflow_x": null,
            "grid_auto_flow": null,
            "grid_area": null,
            "grid_template_columns": null,
            "flex": null,
            "_model_name": "LayoutModel",
            "justify_items": null,
            "grid_row": null,
            "max_height": null,
            "align_content": null,
            "visibility": null,
            "align_self": null,
            "height": null,
            "min_height": null,
            "padding": null,
            "grid_auto_rows": null,
            "grid_gap": null,
            "max_width": null,
            "order": null,
            "_view_module_version": "1.2.0",
            "grid_template_areas": null,
            "object_position": null,
            "object_fit": null,
            "grid_auto_columns": null,
            "margin": null,
            "display": null,
            "left": null
          }
        },
        "6737f916f237415b966f328e351fef85": {
          "model_module": "@jupyter-widgets/controls",
          "model_name": "FloatProgressModel",
          "state": {
            "_view_name": "ProgressView",
            "style": "IPY_MODEL_d2ead05e766949d9a17b8b7b7b98d314",
            "_dom_classes": [],
            "description": "100%",
            "_model_name": "FloatProgressModel",
            "bar_style": "success",
            "max": 2000,
            "_view_module": "@jupyter-widgets/controls",
            "_model_module_version": "1.5.0",
            "value": 2000,
            "_view_count": null,
            "_view_module_version": "1.5.0",
            "orientation": "horizontal",
            "min": 0,
            "description_tooltip": null,
            "_model_module": "@jupyter-widgets/controls",
            "layout": "IPY_MODEL_2f236a18e0074b0cb744413bf58c67f7"
          }
        },
        "8bdf186881d34fe391770f3a195f0889": {
          "model_module": "@jupyter-widgets/controls",
          "model_name": "HTMLModel",
          "state": {
            "_view_name": "HTMLView",
            "style": "IPY_MODEL_c97f156add234e95994ba8559776062f",
            "_dom_classes": [],
            "description": "",
            "_model_name": "HTMLModel",
            "placeholder": "​",
            "_view_module": "@jupyter-widgets/controls",
            "_model_module_version": "1.5.0",
            "value": " 2000/2000 [12:50&lt;00:00,  2.60it/s]",
            "_view_count": null,
            "_view_module_version": "1.5.0",
            "description_tooltip": null,
            "_model_module": "@jupyter-widgets/controls",
            "layout": "IPY_MODEL_09719f25843c44de9197d8943ec4bf69"
          }
        },
        "d2ead05e766949d9a17b8b7b7b98d314": {
          "model_module": "@jupyter-widgets/controls",
          "model_name": "ProgressStyleModel",
          "state": {
            "_view_name": "StyleView",
            "_model_name": "ProgressStyleModel",
            "description_width": "initial",
            "_view_module": "@jupyter-widgets/base",
            "_model_module_version": "1.5.0",
            "_view_count": null,
            "_view_module_version": "1.2.0",
            "bar_color": null,
            "_model_module": "@jupyter-widgets/controls"
          }
        },
        "2f236a18e0074b0cb744413bf58c67f7": {
          "model_module": "@jupyter-widgets/base",
          "model_name": "LayoutModel",
          "state": {
            "_view_name": "LayoutView",
            "grid_template_rows": null,
            "right": null,
            "justify_content": null,
            "_view_module": "@jupyter-widgets/base",
            "overflow": null,
            "_model_module_version": "1.2.0",
            "_view_count": null,
            "flex_flow": null,
            "width": null,
            "min_width": null,
            "border": null,
            "align_items": null,
            "bottom": null,
            "_model_module": "@jupyter-widgets/base",
            "top": null,
            "grid_column": null,
            "overflow_y": null,
            "overflow_x": null,
            "grid_auto_flow": null,
            "grid_area": null,
            "grid_template_columns": null,
            "flex": null,
            "_model_name": "LayoutModel",
            "justify_items": null,
            "grid_row": null,
            "max_height": null,
            "align_content": null,
            "visibility": null,
            "align_self": null,
            "height": null,
            "min_height": null,
            "padding": null,
            "grid_auto_rows": null,
            "grid_gap": null,
            "max_width": null,
            "order": null,
            "_view_module_version": "1.2.0",
            "grid_template_areas": null,
            "object_position": null,
            "object_fit": null,
            "grid_auto_columns": null,
            "margin": null,
            "display": null,
            "left": null
          }
        },
        "c97f156add234e95994ba8559776062f": {
          "model_module": "@jupyter-widgets/controls",
          "model_name": "DescriptionStyleModel",
          "state": {
            "_view_name": "StyleView",
            "_model_name": "DescriptionStyleModel",
            "description_width": "",
            "_view_module": "@jupyter-widgets/base",
            "_model_module_version": "1.5.0",
            "_view_count": null,
            "_view_module_version": "1.2.0",
            "_model_module": "@jupyter-widgets/controls"
          }
        },
        "09719f25843c44de9197d8943ec4bf69": {
          "model_module": "@jupyter-widgets/base",
          "model_name": "LayoutModel",
          "state": {
            "_view_name": "LayoutView",
            "grid_template_rows": null,
            "right": null,
            "justify_content": null,
            "_view_module": "@jupyter-widgets/base",
            "overflow": null,
            "_model_module_version": "1.2.0",
            "_view_count": null,
            "flex_flow": null,
            "width": null,
            "min_width": null,
            "border": null,
            "align_items": null,
            "bottom": null,
            "_model_module": "@jupyter-widgets/base",
            "top": null,
            "grid_column": null,
            "overflow_y": null,
            "overflow_x": null,
            "grid_auto_flow": null,
            "grid_area": null,
            "grid_template_columns": null,
            "flex": null,
            "_model_name": "LayoutModel",
            "justify_items": null,
            "grid_row": null,
            "max_height": null,
            "align_content": null,
            "visibility": null,
            "align_self": null,
            "height": null,
            "min_height": null,
            "padding": null,
            "grid_auto_rows": null,
            "grid_gap": null,
            "max_width": null,
            "order": null,
            "_view_module_version": "1.2.0",
            "grid_template_areas": null,
            "object_position": null,
            "object_fit": null,
            "grid_auto_columns": null,
            "margin": null,
            "display": null,
            "left": null
          }
        },
        "ce7692d25b374efea77823388a43eab7": {
          "model_module": "@jupyter-widgets/controls",
          "model_name": "HBoxModel",
          "state": {
            "_view_name": "HBoxView",
            "_dom_classes": [],
            "_model_name": "HBoxModel",
            "_view_module": "@jupyter-widgets/controls",
            "_model_module_version": "1.5.0",
            "_view_count": null,
            "_view_module_version": "1.5.0",
            "box_style": "",
            "layout": "IPY_MODEL_5c5f1d34a8de4a5492feb2f7fffeee2a",
            "_model_module": "@jupyter-widgets/controls",
            "children": [
              "IPY_MODEL_06c32c0c89554864b7e01111d69b106d",
              "IPY_MODEL_42a0333674ed4f599dc82deb0b234d66"
            ]
          }
        },
        "5c5f1d34a8de4a5492feb2f7fffeee2a": {
          "model_module": "@jupyter-widgets/base",
          "model_name": "LayoutModel",
          "state": {
            "_view_name": "LayoutView",
            "grid_template_rows": null,
            "right": null,
            "justify_content": null,
            "_view_module": "@jupyter-widgets/base",
            "overflow": null,
            "_model_module_version": "1.2.0",
            "_view_count": null,
            "flex_flow": null,
            "width": null,
            "min_width": null,
            "border": null,
            "align_items": null,
            "bottom": null,
            "_model_module": "@jupyter-widgets/base",
            "top": null,
            "grid_column": null,
            "overflow_y": null,
            "overflow_x": null,
            "grid_auto_flow": null,
            "grid_area": null,
            "grid_template_columns": null,
            "flex": null,
            "_model_name": "LayoutModel",
            "justify_items": null,
            "grid_row": null,
            "max_height": null,
            "align_content": null,
            "visibility": null,
            "align_self": null,
            "height": null,
            "min_height": null,
            "padding": null,
            "grid_auto_rows": null,
            "grid_gap": null,
            "max_width": null,
            "order": null,
            "_view_module_version": "1.2.0",
            "grid_template_areas": null,
            "object_position": null,
            "object_fit": null,
            "grid_auto_columns": null,
            "margin": null,
            "display": null,
            "left": null
          }
        },
        "06c32c0c89554864b7e01111d69b106d": {
          "model_module": "@jupyter-widgets/controls",
          "model_name": "FloatProgressModel",
          "state": {
            "_view_name": "ProgressView",
            "style": "IPY_MODEL_5e1c044df52b454d9245329487c5035b",
            "_dom_classes": [],
            "description": "100%",
            "_model_name": "FloatProgressModel",
            "bar_style": "success",
            "max": 1000,
            "_view_module": "@jupyter-widgets/controls",
            "_model_module_version": "1.5.0",
            "value": 1000,
            "_view_count": null,
            "_view_module_version": "1.5.0",
            "orientation": "horizontal",
            "min": 0,
            "description_tooltip": null,
            "_model_module": "@jupyter-widgets/controls",
            "layout": "IPY_MODEL_b241c9473fe74c4d9dc34e1764ee1a08"
          }
        },
        "42a0333674ed4f599dc82deb0b234d66": {
          "model_module": "@jupyter-widgets/controls",
          "model_name": "HTMLModel",
          "state": {
            "_view_name": "HTMLView",
            "style": "IPY_MODEL_993b34fc72cf40bd89d0a5aa578274c9",
            "_dom_classes": [],
            "description": "",
            "_model_name": "HTMLModel",
            "placeholder": "​",
            "_view_module": "@jupyter-widgets/controls",
            "_model_module_version": "1.5.0",
            "value": " 1000/1000 [04:58&lt;00:00,  3.35it/s]",
            "_view_count": null,
            "_view_module_version": "1.5.0",
            "description_tooltip": null,
            "_model_module": "@jupyter-widgets/controls",
            "layout": "IPY_MODEL_d714b7ee746843a3bf6e556fc728be23"
          }
        },
        "5e1c044df52b454d9245329487c5035b": {
          "model_module": "@jupyter-widgets/controls",
          "model_name": "ProgressStyleModel",
          "state": {
            "_view_name": "StyleView",
            "_model_name": "ProgressStyleModel",
            "description_width": "initial",
            "_view_module": "@jupyter-widgets/base",
            "_model_module_version": "1.5.0",
            "_view_count": null,
            "_view_module_version": "1.2.0",
            "bar_color": null,
            "_model_module": "@jupyter-widgets/controls"
          }
        },
        "b241c9473fe74c4d9dc34e1764ee1a08": {
          "model_module": "@jupyter-widgets/base",
          "model_name": "LayoutModel",
          "state": {
            "_view_name": "LayoutView",
            "grid_template_rows": null,
            "right": null,
            "justify_content": null,
            "_view_module": "@jupyter-widgets/base",
            "overflow": null,
            "_model_module_version": "1.2.0",
            "_view_count": null,
            "flex_flow": null,
            "width": null,
            "min_width": null,
            "border": null,
            "align_items": null,
            "bottom": null,
            "_model_module": "@jupyter-widgets/base",
            "top": null,
            "grid_column": null,
            "overflow_y": null,
            "overflow_x": null,
            "grid_auto_flow": null,
            "grid_area": null,
            "grid_template_columns": null,
            "flex": null,
            "_model_name": "LayoutModel",
            "justify_items": null,
            "grid_row": null,
            "max_height": null,
            "align_content": null,
            "visibility": null,
            "align_self": null,
            "height": null,
            "min_height": null,
            "padding": null,
            "grid_auto_rows": null,
            "grid_gap": null,
            "max_width": null,
            "order": null,
            "_view_module_version": "1.2.0",
            "grid_template_areas": null,
            "object_position": null,
            "object_fit": null,
            "grid_auto_columns": null,
            "margin": null,
            "display": null,
            "left": null
          }
        },
        "993b34fc72cf40bd89d0a5aa578274c9": {
          "model_module": "@jupyter-widgets/controls",
          "model_name": "DescriptionStyleModel",
          "state": {
            "_view_name": "StyleView",
            "_model_name": "DescriptionStyleModel",
            "description_width": "",
            "_view_module": "@jupyter-widgets/base",
            "_model_module_version": "1.5.0",
            "_view_count": null,
            "_view_module_version": "1.2.0",
            "_model_module": "@jupyter-widgets/controls"
          }
        },
        "d714b7ee746843a3bf6e556fc728be23": {
          "model_module": "@jupyter-widgets/base",
          "model_name": "LayoutModel",
          "state": {
            "_view_name": "LayoutView",
            "grid_template_rows": null,
            "right": null,
            "justify_content": null,
            "_view_module": "@jupyter-widgets/base",
            "overflow": null,
            "_model_module_version": "1.2.0",
            "_view_count": null,
            "flex_flow": null,
            "width": null,
            "min_width": null,
            "border": null,
            "align_items": null,
            "bottom": null,
            "_model_module": "@jupyter-widgets/base",
            "top": null,
            "grid_column": null,
            "overflow_y": null,
            "overflow_x": null,
            "grid_auto_flow": null,
            "grid_area": null,
            "grid_template_columns": null,
            "flex": null,
            "_model_name": "LayoutModel",
            "justify_items": null,
            "grid_row": null,
            "max_height": null,
            "align_content": null,
            "visibility": null,
            "align_self": null,
            "height": null,
            "min_height": null,
            "padding": null,
            "grid_auto_rows": null,
            "grid_gap": null,
            "max_width": null,
            "order": null,
            "_view_module_version": "1.2.0",
            "grid_template_areas": null,
            "object_position": null,
            "object_fit": null,
            "grid_auto_columns": null,
            "margin": null,
            "display": null,
            "left": null
          }
        },
        "e3ba7d31d30e44b0b33efb53b9163203": {
          "model_module": "@jupyter-widgets/controls",
          "model_name": "HBoxModel",
          "state": {
            "_view_name": "HBoxView",
            "_dom_classes": [],
            "_model_name": "HBoxModel",
            "_view_module": "@jupyter-widgets/controls",
            "_model_module_version": "1.5.0",
            "_view_count": null,
            "_view_module_version": "1.5.0",
            "box_style": "",
            "layout": "IPY_MODEL_e20d857e2dd642f3b70ecda5809d3118",
            "_model_module": "@jupyter-widgets/controls",
            "children": [
              "IPY_MODEL_39b9987a36a645ef9a9ecbf5f9f94553",
              "IPY_MODEL_bc0b61c587c04f5f9dc2b28b8ac75ab6"
            ]
          }
        },
        "e20d857e2dd642f3b70ecda5809d3118": {
          "model_module": "@jupyter-widgets/base",
          "model_name": "LayoutModel",
          "state": {
            "_view_name": "LayoutView",
            "grid_template_rows": null,
            "right": null,
            "justify_content": null,
            "_view_module": "@jupyter-widgets/base",
            "overflow": null,
            "_model_module_version": "1.2.0",
            "_view_count": null,
            "flex_flow": null,
            "width": null,
            "min_width": null,
            "border": null,
            "align_items": null,
            "bottom": null,
            "_model_module": "@jupyter-widgets/base",
            "top": null,
            "grid_column": null,
            "overflow_y": null,
            "overflow_x": null,
            "grid_auto_flow": null,
            "grid_area": null,
            "grid_template_columns": null,
            "flex": null,
            "_model_name": "LayoutModel",
            "justify_items": null,
            "grid_row": null,
            "max_height": null,
            "align_content": null,
            "visibility": null,
            "align_self": null,
            "height": null,
            "min_height": null,
            "padding": null,
            "grid_auto_rows": null,
            "grid_gap": null,
            "max_width": null,
            "order": null,
            "_view_module_version": "1.2.0",
            "grid_template_areas": null,
            "object_position": null,
            "object_fit": null,
            "grid_auto_columns": null,
            "margin": null,
            "display": null,
            "left": null
          }
        },
        "39b9987a36a645ef9a9ecbf5f9f94553": {
          "model_module": "@jupyter-widgets/controls",
          "model_name": "FloatProgressModel",
          "state": {
            "_view_name": "ProgressView",
            "style": "IPY_MODEL_b1914237e88b4ef9918d610696a1274c",
            "_dom_classes": [],
            "description": "100%",
            "_model_name": "FloatProgressModel",
            "bar_style": "success",
            "max": 400,
            "_view_module": "@jupyter-widgets/controls",
            "_model_module_version": "1.5.0",
            "value": 400,
            "_view_count": null,
            "_view_module_version": "1.5.0",
            "orientation": "horizontal",
            "min": 0,
            "description_tooltip": null,
            "_model_module": "@jupyter-widgets/controls",
            "layout": "IPY_MODEL_d20ac3301f274657a9d49d3f47c21028"
          }
        },
        "bc0b61c587c04f5f9dc2b28b8ac75ab6": {
          "model_module": "@jupyter-widgets/controls",
          "model_name": "HTMLModel",
          "state": {
            "_view_name": "HTMLView",
            "style": "IPY_MODEL_f2144b49bbc144f0a30b9bbd5f207b75",
            "_dom_classes": [],
            "description": "",
            "_model_name": "HTMLModel",
            "placeholder": "​",
            "_view_module": "@jupyter-widgets/controls",
            "_model_module_version": "1.5.0",
            "value": " 400/400 [39:55&lt;00:00,  5.99s/it]",
            "_view_count": null,
            "_view_module_version": "1.5.0",
            "description_tooltip": null,
            "_model_module": "@jupyter-widgets/controls",
            "layout": "IPY_MODEL_a3714f1f12f8419884786ecf43d37e50"
          }
        },
        "b1914237e88b4ef9918d610696a1274c": {
          "model_module": "@jupyter-widgets/controls",
          "model_name": "ProgressStyleModel",
          "state": {
            "_view_name": "StyleView",
            "_model_name": "ProgressStyleModel",
            "description_width": "initial",
            "_view_module": "@jupyter-widgets/base",
            "_model_module_version": "1.5.0",
            "_view_count": null,
            "_view_module_version": "1.2.0",
            "bar_color": null,
            "_model_module": "@jupyter-widgets/controls"
          }
        },
        "d20ac3301f274657a9d49d3f47c21028": {
          "model_module": "@jupyter-widgets/base",
          "model_name": "LayoutModel",
          "state": {
            "_view_name": "LayoutView",
            "grid_template_rows": null,
            "right": null,
            "justify_content": null,
            "_view_module": "@jupyter-widgets/base",
            "overflow": null,
            "_model_module_version": "1.2.0",
            "_view_count": null,
            "flex_flow": null,
            "width": null,
            "min_width": null,
            "border": null,
            "align_items": null,
            "bottom": null,
            "_model_module": "@jupyter-widgets/base",
            "top": null,
            "grid_column": null,
            "overflow_y": null,
            "overflow_x": null,
            "grid_auto_flow": null,
            "grid_area": null,
            "grid_template_columns": null,
            "flex": null,
            "_model_name": "LayoutModel",
            "justify_items": null,
            "grid_row": null,
            "max_height": null,
            "align_content": null,
            "visibility": null,
            "align_self": null,
            "height": null,
            "min_height": null,
            "padding": null,
            "grid_auto_rows": null,
            "grid_gap": null,
            "max_width": null,
            "order": null,
            "_view_module_version": "1.2.0",
            "grid_template_areas": null,
            "object_position": null,
            "object_fit": null,
            "grid_auto_columns": null,
            "margin": null,
            "display": null,
            "left": null
          }
        },
        "f2144b49bbc144f0a30b9bbd5f207b75": {
          "model_module": "@jupyter-widgets/controls",
          "model_name": "DescriptionStyleModel",
          "state": {
            "_view_name": "StyleView",
            "_model_name": "DescriptionStyleModel",
            "description_width": "",
            "_view_module": "@jupyter-widgets/base",
            "_model_module_version": "1.5.0",
            "_view_count": null,
            "_view_module_version": "1.2.0",
            "_model_module": "@jupyter-widgets/controls"
          }
        },
        "a3714f1f12f8419884786ecf43d37e50": {
          "model_module": "@jupyter-widgets/base",
          "model_name": "LayoutModel",
          "state": {
            "_view_name": "LayoutView",
            "grid_template_rows": null,
            "right": null,
            "justify_content": null,
            "_view_module": "@jupyter-widgets/base",
            "overflow": null,
            "_model_module_version": "1.2.0",
            "_view_count": null,
            "flex_flow": null,
            "width": null,
            "min_width": null,
            "border": null,
            "align_items": null,
            "bottom": null,
            "_model_module": "@jupyter-widgets/base",
            "top": null,
            "grid_column": null,
            "overflow_y": null,
            "overflow_x": null,
            "grid_auto_flow": null,
            "grid_area": null,
            "grid_template_columns": null,
            "flex": null,
            "_model_name": "LayoutModel",
            "justify_items": null,
            "grid_row": null,
            "max_height": null,
            "align_content": null,
            "visibility": null,
            "align_self": null,
            "height": null,
            "min_height": null,
            "padding": null,
            "grid_auto_rows": null,
            "grid_gap": null,
            "max_width": null,
            "order": null,
            "_view_module_version": "1.2.0",
            "grid_template_areas": null,
            "object_position": null,
            "object_fit": null,
            "grid_auto_columns": null,
            "margin": null,
            "display": null,
            "left": null
          }
        },
        "c7f6969e8370467b864ae42153259de9": {
          "model_module": "@jupyter-widgets/controls",
          "model_name": "HBoxModel",
          "state": {
            "_view_name": "HBoxView",
            "_dom_classes": [],
            "_model_name": "HBoxModel",
            "_view_module": "@jupyter-widgets/controls",
            "_model_module_version": "1.5.0",
            "_view_count": null,
            "_view_module_version": "1.5.0",
            "box_style": "",
            "layout": "IPY_MODEL_87c2cf767bb745bfbf918989c4483e59",
            "_model_module": "@jupyter-widgets/controls",
            "children": [
              "IPY_MODEL_58f80696e0e34a91aae529ed3448ee76",
              "IPY_MODEL_36d74681353a4cf0b0743852e49614ac"
            ]
          }
        },
        "87c2cf767bb745bfbf918989c4483e59": {
          "model_module": "@jupyter-widgets/base",
          "model_name": "LayoutModel",
          "state": {
            "_view_name": "LayoutView",
            "grid_template_rows": null,
            "right": null,
            "justify_content": null,
            "_view_module": "@jupyter-widgets/base",
            "overflow": null,
            "_model_module_version": "1.2.0",
            "_view_count": null,
            "flex_flow": null,
            "width": null,
            "min_width": null,
            "border": null,
            "align_items": null,
            "bottom": null,
            "_model_module": "@jupyter-widgets/base",
            "top": null,
            "grid_column": null,
            "overflow_y": null,
            "overflow_x": null,
            "grid_auto_flow": null,
            "grid_area": null,
            "grid_template_columns": null,
            "flex": null,
            "_model_name": "LayoutModel",
            "justify_items": null,
            "grid_row": null,
            "max_height": null,
            "align_content": null,
            "visibility": null,
            "align_self": null,
            "height": null,
            "min_height": null,
            "padding": null,
            "grid_auto_rows": null,
            "grid_gap": null,
            "max_width": null,
            "order": null,
            "_view_module_version": "1.2.0",
            "grid_template_areas": null,
            "object_position": null,
            "object_fit": null,
            "grid_auto_columns": null,
            "margin": null,
            "display": null,
            "left": null
          }
        },
        "58f80696e0e34a91aae529ed3448ee76": {
          "model_module": "@jupyter-widgets/controls",
          "model_name": "FloatProgressModel",
          "state": {
            "_view_name": "ProgressView",
            "style": "IPY_MODEL_009c5db1827642228790e2e93d6b70ea",
            "_dom_classes": [],
            "description": "100%",
            "_model_name": "FloatProgressModel",
            "bar_style": "success",
            "max": 400,
            "_view_module": "@jupyter-widgets/controls",
            "_model_module_version": "1.5.0",
            "value": 400,
            "_view_count": null,
            "_view_module_version": "1.5.0",
            "orientation": "horizontal",
            "min": 0,
            "description_tooltip": null,
            "_model_module": "@jupyter-widgets/controls",
            "layout": "IPY_MODEL_2504610603a647ef9ff989bcfd0acf65"
          }
        },
        "36d74681353a4cf0b0743852e49614ac": {
          "model_module": "@jupyter-widgets/controls",
          "model_name": "HTMLModel",
          "state": {
            "_view_name": "HTMLView",
            "style": "IPY_MODEL_0c3b825fd8d44d8199393429e3a69574",
            "_dom_classes": [],
            "description": "",
            "_model_name": "HTMLModel",
            "placeholder": "​",
            "_view_module": "@jupyter-widgets/controls",
            "_model_module_version": "1.5.0",
            "value": " 400/400 [00:43&lt;00:00,  9.30it/s]",
            "_view_count": null,
            "_view_module_version": "1.5.0",
            "description_tooltip": null,
            "_model_module": "@jupyter-widgets/controls",
            "layout": "IPY_MODEL_a07dc285fe8a41c0a4dd1213989b7ed4"
          }
        },
        "009c5db1827642228790e2e93d6b70ea": {
          "model_module": "@jupyter-widgets/controls",
          "model_name": "ProgressStyleModel",
          "state": {
            "_view_name": "StyleView",
            "_model_name": "ProgressStyleModel",
            "description_width": "initial",
            "_view_module": "@jupyter-widgets/base",
            "_model_module_version": "1.5.0",
            "_view_count": null,
            "_view_module_version": "1.2.0",
            "bar_color": null,
            "_model_module": "@jupyter-widgets/controls"
          }
        },
        "2504610603a647ef9ff989bcfd0acf65": {
          "model_module": "@jupyter-widgets/base",
          "model_name": "LayoutModel",
          "state": {
            "_view_name": "LayoutView",
            "grid_template_rows": null,
            "right": null,
            "justify_content": null,
            "_view_module": "@jupyter-widgets/base",
            "overflow": null,
            "_model_module_version": "1.2.0",
            "_view_count": null,
            "flex_flow": null,
            "width": null,
            "min_width": null,
            "border": null,
            "align_items": null,
            "bottom": null,
            "_model_module": "@jupyter-widgets/base",
            "top": null,
            "grid_column": null,
            "overflow_y": null,
            "overflow_x": null,
            "grid_auto_flow": null,
            "grid_area": null,
            "grid_template_columns": null,
            "flex": null,
            "_model_name": "LayoutModel",
            "justify_items": null,
            "grid_row": null,
            "max_height": null,
            "align_content": null,
            "visibility": null,
            "align_self": null,
            "height": null,
            "min_height": null,
            "padding": null,
            "grid_auto_rows": null,
            "grid_gap": null,
            "max_width": null,
            "order": null,
            "_view_module_version": "1.2.0",
            "grid_template_areas": null,
            "object_position": null,
            "object_fit": null,
            "grid_auto_columns": null,
            "margin": null,
            "display": null,
            "left": null
          }
        },
        "0c3b825fd8d44d8199393429e3a69574": {
          "model_module": "@jupyter-widgets/controls",
          "model_name": "DescriptionStyleModel",
          "state": {
            "_view_name": "StyleView",
            "_model_name": "DescriptionStyleModel",
            "description_width": "",
            "_view_module": "@jupyter-widgets/base",
            "_model_module_version": "1.5.0",
            "_view_count": null,
            "_view_module_version": "1.2.0",
            "_model_module": "@jupyter-widgets/controls"
          }
        },
        "a07dc285fe8a41c0a4dd1213989b7ed4": {
          "model_module": "@jupyter-widgets/base",
          "model_name": "LayoutModel",
          "state": {
            "_view_name": "LayoutView",
            "grid_template_rows": null,
            "right": null,
            "justify_content": null,
            "_view_module": "@jupyter-widgets/base",
            "overflow": null,
            "_model_module_version": "1.2.0",
            "_view_count": null,
            "flex_flow": null,
            "width": null,
            "min_width": null,
            "border": null,
            "align_items": null,
            "bottom": null,
            "_model_module": "@jupyter-widgets/base",
            "top": null,
            "grid_column": null,
            "overflow_y": null,
            "overflow_x": null,
            "grid_auto_flow": null,
            "grid_area": null,
            "grid_template_columns": null,
            "flex": null,
            "_model_name": "LayoutModel",
            "justify_items": null,
            "grid_row": null,
            "max_height": null,
            "align_content": null,
            "visibility": null,
            "align_self": null,
            "height": null,
            "min_height": null,
            "padding": null,
            "grid_auto_rows": null,
            "grid_gap": null,
            "max_width": null,
            "order": null,
            "_view_module_version": "1.2.0",
            "grid_template_areas": null,
            "object_position": null,
            "object_fit": null,
            "grid_auto_columns": null,
            "margin": null,
            "display": null,
            "left": null
          }
        }
      }
    }
  },
  "cells": [
    {
      "cell_type": "code",
      "metadata": {
        "colab": {
          "base_uri": "https://localhost:8080/"
        },
        "id": "F0yZthZrtyDT",
        "outputId": "c4c39b02-0375-47bf-c828-c90d2c6fdb05"
      },
      "source": [
        " !pip install transformers\n",
        "!pip install datasets"
      ],
      "execution_count": null,
      "outputs": [
        {
          "output_type": "stream",
          "text": [
            "Collecting transformers\n",
            "\u001b[?25l  Downloading https://files.pythonhosted.org/packages/81/91/61d69d58a1af1bd81d9ca9d62c90a6de3ab80d77f27c5df65d9a2c1f5626/transformers-4.5.0-py3-none-any.whl (2.1MB)\n",
            "\u001b[K     |████████████████████████████████| 2.2MB 8.3MB/s \n",
            "\u001b[?25hRequirement already satisfied: packaging in /usr/local/lib/python3.7/dist-packages (from transformers) (20.9)\n",
            "Requirement already satisfied: regex!=2019.12.17 in /usr/local/lib/python3.7/dist-packages (from transformers) (2019.12.20)\n",
            "Requirement already satisfied: filelock in /usr/local/lib/python3.7/dist-packages (from transformers) (3.0.12)\n",
            "Requirement already satisfied: importlib-metadata; python_version < \"3.8\" in /usr/local/lib/python3.7/dist-packages (from transformers) (3.8.1)\n",
            "Requirement already satisfied: numpy>=1.17 in /usr/local/lib/python3.7/dist-packages (from transformers) (1.19.5)\n",
            "Collecting tokenizers<0.11,>=0.10.1\n",
            "\u001b[?25l  Downloading https://files.pythonhosted.org/packages/ae/04/5b870f26a858552025a62f1649c20d29d2672c02ff3c3fb4c688ca46467a/tokenizers-0.10.2-cp37-cp37m-manylinux2010_x86_64.whl (3.3MB)\n",
            "\u001b[K     |████████████████████████████████| 3.3MB 49.6MB/s \n",
            "\u001b[?25hRequirement already satisfied: requests in /usr/local/lib/python3.7/dist-packages (from transformers) (2.23.0)\n",
            "Collecting sacremoses\n",
            "\u001b[?25l  Downloading https://files.pythonhosted.org/packages/08/cd/342e584ee544d044fb573ae697404ce22ede086c9e87ce5960772084cad0/sacremoses-0.0.44.tar.gz (862kB)\n",
            "\u001b[K     |████████████████████████████████| 870kB 43.1MB/s \n",
            "\u001b[?25hRequirement already satisfied: tqdm>=4.27 in /usr/local/lib/python3.7/dist-packages (from transformers) (4.41.1)\n",
            "Requirement already satisfied: pyparsing>=2.0.2 in /usr/local/lib/python3.7/dist-packages (from packaging->transformers) (2.4.7)\n",
            "Requirement already satisfied: zipp>=0.5 in /usr/local/lib/python3.7/dist-packages (from importlib-metadata; python_version < \"3.8\"->transformers) (3.4.1)\n",
            "Requirement already satisfied: typing-extensions>=3.6.4; python_version < \"3.8\" in /usr/local/lib/python3.7/dist-packages (from importlib-metadata; python_version < \"3.8\"->transformers) (3.7.4.3)\n",
            "Requirement already satisfied: idna<3,>=2.5 in /usr/local/lib/python3.7/dist-packages (from requests->transformers) (2.10)\n",
            "Requirement already satisfied: urllib3!=1.25.0,!=1.25.1,<1.26,>=1.21.1 in /usr/local/lib/python3.7/dist-packages (from requests->transformers) (1.24.3)\n",
            "Requirement already satisfied: certifi>=2017.4.17 in /usr/local/lib/python3.7/dist-packages (from requests->transformers) (2020.12.5)\n",
            "Requirement already satisfied: chardet<4,>=3.0.2 in /usr/local/lib/python3.7/dist-packages (from requests->transformers) (3.0.4)\n",
            "Requirement already satisfied: six in /usr/local/lib/python3.7/dist-packages (from sacremoses->transformers) (1.15.0)\n",
            "Requirement already satisfied: click in /usr/local/lib/python3.7/dist-packages (from sacremoses->transformers) (7.1.2)\n",
            "Requirement already satisfied: joblib in /usr/local/lib/python3.7/dist-packages (from sacremoses->transformers) (1.0.1)\n",
            "Building wheels for collected packages: sacremoses\n",
            "  Building wheel for sacremoses (setup.py) ... \u001b[?25l\u001b[?25hdone\n",
            "  Created wheel for sacremoses: filename=sacremoses-0.0.44-cp37-none-any.whl size=886084 sha256=6180fa8a5a93b4095a827c1d2b98e8875161dc8efd4996e2d5bddf37ef5a90d6\n",
            "  Stored in directory: /root/.cache/pip/wheels/3e/fb/c0/13ab4d63d537658f448366744654323077c4d90069b6512f3c\n",
            "Successfully built sacremoses\n",
            "Installing collected packages: tokenizers, sacremoses, transformers\n",
            "Successfully installed sacremoses-0.0.44 tokenizers-0.10.2 transformers-4.5.0\n",
            "Collecting datasets\n",
            "\u001b[?25l  Downloading https://files.pythonhosted.org/packages/54/90/43b396481a8298c6010afb93b3c1e71d4ba6f8c10797a7da8eb005e45081/datasets-1.5.0-py3-none-any.whl (192kB)\n",
            "\u001b[K     |████████████████████████████████| 194kB 8.0MB/s \n",
            "\u001b[?25hRequirement already satisfied: requests>=2.19.0 in /usr/local/lib/python3.7/dist-packages (from datasets) (2.23.0)\n",
            "Requirement already satisfied: numpy>=1.17 in /usr/local/lib/python3.7/dist-packages (from datasets) (1.19.5)\n",
            "Requirement already satisfied: pandas in /usr/local/lib/python3.7/dist-packages (from datasets) (1.1.5)\n",
            "Requirement already satisfied: multiprocess in /usr/local/lib/python3.7/dist-packages (from datasets) (0.70.11.1)\n",
            "Requirement already satisfied: importlib-metadata; python_version < \"3.8\" in /usr/local/lib/python3.7/dist-packages (from datasets) (3.8.1)\n",
            "Requirement already satisfied: tqdm<4.50.0,>=4.27 in /usr/local/lib/python3.7/dist-packages (from datasets) (4.41.1)\n",
            "Collecting huggingface-hub<0.1.0\n",
            "  Downloading https://files.pythonhosted.org/packages/a1/88/7b1e45720ecf59c6c6737ff332f41c955963090a18e72acbcbeac6b25e86/huggingface_hub-0.0.8-py3-none-any.whl\n",
            "Collecting fsspec\n",
            "\u001b[?25l  Downloading https://files.pythonhosted.org/packages/62/11/f7689b996f85e45f718745c899f6747ee5edb4878cadac0a41ab146828fa/fsspec-0.9.0-py3-none-any.whl (107kB)\n",
            "\u001b[K     |████████████████████████████████| 112kB 13.5MB/s \n",
            "\u001b[?25hRequirement already satisfied: pyarrow>=0.17.1 in /usr/local/lib/python3.7/dist-packages (from datasets) (3.0.0)\n",
            "Collecting xxhash\n",
            "\u001b[?25l  Downloading https://files.pythonhosted.org/packages/e7/27/1c0b37c53a7852f1c190ba5039404d27b3ae96a55f48203a74259f8213c9/xxhash-2.0.0-cp37-cp37m-manylinux2010_x86_64.whl (243kB)\n",
            "\u001b[K     |████████████████████████████████| 245kB 15.6MB/s \n",
            "\u001b[?25hRequirement already satisfied: dill in /usr/local/lib/python3.7/dist-packages (from datasets) (0.3.3)\n",
            "Requirement already satisfied: chardet<4,>=3.0.2 in /usr/local/lib/python3.7/dist-packages (from requests>=2.19.0->datasets) (3.0.4)\n",
            "Requirement already satisfied: urllib3!=1.25.0,!=1.25.1,<1.26,>=1.21.1 in /usr/local/lib/python3.7/dist-packages (from requests>=2.19.0->datasets) (1.24.3)\n",
            "Requirement already satisfied: certifi>=2017.4.17 in /usr/local/lib/python3.7/dist-packages (from requests>=2.19.0->datasets) (2020.12.5)\n",
            "Requirement already satisfied: idna<3,>=2.5 in /usr/local/lib/python3.7/dist-packages (from requests>=2.19.0->datasets) (2.10)\n",
            "Requirement already satisfied: pytz>=2017.2 in /usr/local/lib/python3.7/dist-packages (from pandas->datasets) (2018.9)\n",
            "Requirement already satisfied: python-dateutil>=2.7.3 in /usr/local/lib/python3.7/dist-packages (from pandas->datasets) (2.8.1)\n",
            "Requirement already satisfied: zipp>=0.5 in /usr/local/lib/python3.7/dist-packages (from importlib-metadata; python_version < \"3.8\"->datasets) (3.4.1)\n",
            "Requirement already satisfied: typing-extensions>=3.6.4; python_version < \"3.8\" in /usr/local/lib/python3.7/dist-packages (from importlib-metadata; python_version < \"3.8\"->datasets) (3.7.4.3)\n",
            "Requirement already satisfied: filelock in /usr/local/lib/python3.7/dist-packages (from huggingface-hub<0.1.0->datasets) (3.0.12)\n",
            "Requirement already satisfied: six>=1.5 in /usr/local/lib/python3.7/dist-packages (from python-dateutil>=2.7.3->pandas->datasets) (1.15.0)\n",
            "Installing collected packages: huggingface-hub, fsspec, xxhash, datasets\n",
            "Successfully installed datasets-1.5.0 fsspec-0.9.0 huggingface-hub-0.0.8 xxhash-2.0.0\n"
          ],
          "name": "stdout"
        }
      ]
    },
    {
      "cell_type": "code",
      "metadata": {
        "colab": {
          "base_uri": "https://localhost:8080/",
          "height": 267,
          "referenced_widgets": [
            "91dabff187e1413a80a60a94b1946d2c",
            "2c6a8e4209e54774ba9729182ef0cf4a",
            "cf4b98a2f6c74a2bb1ee334a732d0a1d",
            "48adcabb7fb341e896504f094bb9dc9f",
            "b45340c868f24031b34ffb15ee63e874",
            "823f8bd519b44981825e8613c52ab65a",
            "d2df22ab0d7c4b5a8be8a637de45fed2",
            "db89a20afd5e40658b679da655a6ea50",
            "3d6f14decd2548f88de5dfa3a2b3f505",
            "aec6f538efdc438ba4ca9e21607ed40d",
            "fa4121c7727846ce95a246b84960a42d",
            "0243c1887e744dee8b7a5f3e9d71dd68",
            "f356e61abba441d69b2ae19674e54e3c",
            "fe9449d510054ae296bc20e1d2d98cd9",
            "07ee5d510dc940deaa9a97e7d96ccca2",
            "c8ea0bcc2d434b12a0e509025069b1a5",
            "fea7e61ba3b6435a929027b9128e53b0",
            "d6f0ed716eb4491f9f99dd40d18be65c",
            "f0d6bf0011db462fa16e4b292cfb6867",
            "127f17e79f1d41ec94bac3c0561f7845",
            "4a85f7af8f8b4058847cdea929c5e168",
            "6808407b78db48d78e664aecf1d8c234",
            "12da1a60edec4a8597e3f262a24eef90",
            "4b53cb9a3a3c415ebebbc905f4afe5ef",
            "4a8f995776cc464ca62b1ef27d2ce3f6",
            "493b2a6ad1574fa69880a29d29643d04",
            "0d73d40a1c0347eab87aac765c169f85",
            "494c766adef846bcbd89651aa0656ab1",
            "27d13c20d35f450dba599dd20b46fc69",
            "e0b3c66b726f47928487883e6f78e217",
            "aabcf32f82744daea5378838908104f9",
            "faf0cca8ba3647c9a0963557db940c64"
          ]
        },
        "id": "VfNS74aDtruu",
        "outputId": "67bdeeb0-0b8b-41aa-8070-610396e0be0e"
      },
      "source": [
        "from transformers import AutoTokenizer, AutoModelWithLMHead\n",
        "  \n",
        "tokenizer = AutoTokenizer.from_pretrained(\"t5-base\")\n",
        "  \n",
        "model = AutoModelWithLMHead.from_pretrained(\"t5-base\")"
      ],
      "execution_count": null,
      "outputs": [
        {
          "output_type": "display_data",
          "data": {
            "application/vnd.jupyter.widget-view+json": {
              "model_id": "91dabff187e1413a80a60a94b1946d2c",
              "version_minor": 0,
              "version_major": 2
            },
            "text/plain": [
              "HBox(children=(FloatProgress(value=0.0, description='Downloading', max=1199.0, style=ProgressStyle(description…"
            ]
          },
          "metadata": {
            "tags": []
          }
        },
        {
          "output_type": "stream",
          "text": [
            "\n"
          ],
          "name": "stdout"
        },
        {
          "output_type": "display_data",
          "data": {
            "application/vnd.jupyter.widget-view+json": {
              "model_id": "3d6f14decd2548f88de5dfa3a2b3f505",
              "version_minor": 0,
              "version_major": 2
            },
            "text/plain": [
              "HBox(children=(FloatProgress(value=0.0, description='Downloading', max=791656.0, style=ProgressStyle(descripti…"
            ]
          },
          "metadata": {
            "tags": []
          }
        },
        {
          "output_type": "stream",
          "text": [
            "\n"
          ],
          "name": "stdout"
        },
        {
          "output_type": "display_data",
          "data": {
            "application/vnd.jupyter.widget-view+json": {
              "model_id": "fea7e61ba3b6435a929027b9128e53b0",
              "version_minor": 0,
              "version_major": 2
            },
            "text/plain": [
              "HBox(children=(FloatProgress(value=0.0, description='Downloading', max=1389353.0, style=ProgressStyle(descript…"
            ]
          },
          "metadata": {
            "tags": []
          }
        },
        {
          "output_type": "stream",
          "text": [
            "\n"
          ],
          "name": "stdout"
        },
        {
          "output_type": "stream",
          "text": [
            "/usr/local/lib/python3.7/dist-packages/transformers/models/auto/modeling_auto.py:762: FutureWarning: The class `AutoModelWithLMHead` is deprecated and will be removed in a future version. Please use `AutoModelForCausalLM` for causal language models, `AutoModelForMaskedLM` for masked language models and `AutoModelForSeq2SeqLM` for encoder-decoder models.\n",
            "  FutureWarning,\n"
          ],
          "name": "stderr"
        },
        {
          "output_type": "display_data",
          "data": {
            "application/vnd.jupyter.widget-view+json": {
              "model_id": "4a8f995776cc464ca62b1ef27d2ce3f6",
              "version_minor": 0,
              "version_major": 2
            },
            "text/plain": [
              "HBox(children=(FloatProgress(value=0.0, description='Downloading', max=891691430.0, style=ProgressStyle(descri…"
            ]
          },
          "metadata": {
            "tags": []
          }
        },
        {
          "output_type": "stream",
          "text": [
            "\n"
          ],
          "name": "stdout"
        }
      ]
    },
    {
      "cell_type": "code",
      "metadata": {
        "id": "goq9qeA-NpXT"
      },
      "source": [
        "model.cuda()"
      ],
      "execution_count": null,
      "outputs": []
    },
    {
      "cell_type": "markdown",
      "metadata": {
        "id": "4vYfzinB5Wm-"
      },
      "source": [
        "# Dataset"
      ]
    },
    {
      "cell_type": "code",
      "metadata": {
        "colab": {
          "base_uri": "https://localhost:8080/",
          "height": 252,
          "referenced_widgets": [
            "4cceb4db6c6e48fd8e0009064d5554cb",
            "f701cefa685c4e0dbf873d2ba9ea8e0a",
            "5710d9fefb564ed4b54c9be7415d51c3",
            "43a7948240914382b054b0f614ea86b8",
            "b7ce02bca87f4b11ad8d0af942e8911e",
            "2640809acb8f45669d992e88a6b6be0c",
            "b83943632153462b98f1f35359de2b6a",
            "0286ccf8ef7d4dc9a837d026f5db1594",
            "8e0012cb5fb04172a4de5996054694a3",
            "157fd81ff45647f5874f41a2ecd26cbb",
            "5bb2725d690b460387c8ce86aac7c1a8",
            "b8127fbca6d94ec48b1849ab89341f0b",
            "053a645982e5412f8af6fc27bd53e63f",
            "7ac3d15122364058812ed8474015150f",
            "ee77bd9bb1c8497e9c2fce0c50764343",
            "35bb1537dee74d03a43b2c273bfb9e9c",
            "1d27ac44c9c94542a206588532abed92",
            "2764933809714aab9272a30dec8c9e41",
            "bcafc4b8520d4b5ab22267926fd02894",
            "ba14cb0566b64342bcde6e7d4cdd379e",
            "643b9c7de00c4a3484d89598d818bd95",
            "bfa0410a37834d6ea2492e5d9c461741",
            "da59d6876f6f477bb85d442ab5e09578",
            "1a869a4a5bae4f388cf7eb30968a1df0",
            "c0c03641070b4715a26e5ea8c19c1d0b",
            "59812a9a9dad42028e6ac2b06debe985",
            "5d648c4edef347deaa1eb63b907bea12",
            "6284b4f788024178a0d1f978190cfcc9",
            "2c1857fb5c004e579f30ea3bfeec3a7a",
            "762f7da38194499d96d81b54022c6c20",
            "ef24bd479e3a4f9aa036ed0f25a9234c",
            "1b318fb0877e46469cc47dabcfe01e1a",
            "ab3912b651f6431891c48c198bb10bad",
            "20e4934628084ec0b7b83f04aec9b513",
            "3457ad00c50342239b9a35e4a5a3a69c",
            "ab80becfa75e4b13a0ea1d4436199d4b",
            "db33115dc88e470e87e1acbac25d3992",
            "c9463201f3a441dfbe5bfef5921a22bc",
            "0df81f3a7d894b38a8fc8efcc0177a2b",
            "c5f7dbd00d1246a788bff3d337bae223",
            "b120a27d89244aa9bbf603de5e1897c6",
            "ff7e3b5c74b3437caf5acda8550f6685",
            "1c7ada3ba9454037b89c2f23ac6d584e",
            "007edb7b57f2415a8af96e7beb6723b1",
            "79a51d7ad2eb4f9ea7cbcbb257ac0dbc",
            "9257370e3b444957844d488dbc94dfb5",
            "0ee8cd87c9c043cca6f540ebbc829943",
            "4de277c8f3b741418b50f571da60d3e0"
          ]
        },
        "id": "hX7uIFdt5ZrH",
        "outputId": "d092dd76-d4e1-4378-f8ba-900d043489a7"
      },
      "source": [
        "from datasets import load_dataset\n",
        "import torch\n",
        "dataset = load_dataset(\"multi_nli\",split=\"train[2000:4000]\")\n",
        "batch_size = 1\n",
        "dataloader_mnli = torch.utils.data.DataLoader(dataset, batch_size=batch_size,num_workers=2,pin_memory=True,shuffle=False)\n",
        "mnli_length = len(dataset)\n",
        "mnli_length"
      ],
      "execution_count": null,
      "outputs": [
        {
          "output_type": "display_data",
          "data": {
            "application/vnd.jupyter.widget-view+json": {
              "model_id": "4cceb4db6c6e48fd8e0009064d5554cb",
              "version_minor": 0,
              "version_major": 2
            },
            "text/plain": [
              "HBox(children=(FloatProgress(value=0.0, description='Downloading', max=1940.0, style=ProgressStyle(description…"
            ]
          },
          "metadata": {
            "tags": []
          }
        },
        {
          "output_type": "stream",
          "text": [
            "\n"
          ],
          "name": "stdout"
        },
        {
          "output_type": "display_data",
          "data": {
            "application/vnd.jupyter.widget-view+json": {
              "model_id": "8e0012cb5fb04172a4de5996054694a3",
              "version_minor": 0,
              "version_major": 2
            },
            "text/plain": [
              "HBox(children=(FloatProgress(value=0.0, description='Downloading', max=1193.0, style=ProgressStyle(description…"
            ]
          },
          "metadata": {
            "tags": []
          }
        },
        {
          "output_type": "stream",
          "text": [
            "Using custom data configuration default\n"
          ],
          "name": "stderr"
        },
        {
          "output_type": "stream",
          "text": [
            "\n",
            "Downloading and preparing dataset multi_nli/default (download: 216.34 MiB, generated: 410.92 MiB, post-processed: Unknown size, total: 627.27 MiB) to /root/.cache/huggingface/datasets/multi_nli/default/0.0.0/3248359997b13e6ccd296f42420b31c107ba6859b742ed6af1dce0f1544c9ec1...\n"
          ],
          "name": "stdout"
        },
        {
          "output_type": "display_data",
          "data": {
            "application/vnd.jupyter.widget-view+json": {
              "model_id": "1d27ac44c9c94542a206588532abed92",
              "version_minor": 0,
              "version_major": 2
            },
            "text/plain": [
              "HBox(children=(FloatProgress(value=0.0, description='Downloading', max=226850426.0, style=ProgressStyle(descri…"
            ]
          },
          "metadata": {
            "tags": []
          }
        },
        {
          "output_type": "stream",
          "text": [
            "\n"
          ],
          "name": "stdout"
        },
        {
          "output_type": "display_data",
          "data": {
            "application/vnd.jupyter.widget-view+json": {
              "model_id": "c0c03641070b4715a26e5ea8c19c1d0b",
              "version_minor": 0,
              "version_major": 2
            },
            "text/plain": [
              "HBox(children=(FloatProgress(value=1.0, bar_style='info', max=1.0), HTML(value='')))"
            ]
          },
          "metadata": {
            "tags": []
          }
        },
        {
          "output_type": "stream",
          "text": [
            "\r"
          ],
          "name": "stdout"
        },
        {
          "output_type": "display_data",
          "data": {
            "application/vnd.jupyter.widget-view+json": {
              "model_id": "ab3912b651f6431891c48c198bb10bad",
              "version_minor": 0,
              "version_major": 2
            },
            "text/plain": [
              "HBox(children=(FloatProgress(value=1.0, bar_style='info', max=1.0), HTML(value='')))"
            ]
          },
          "metadata": {
            "tags": []
          }
        },
        {
          "output_type": "stream",
          "text": [
            "\r"
          ],
          "name": "stdout"
        },
        {
          "output_type": "display_data",
          "data": {
            "application/vnd.jupyter.widget-view+json": {
              "model_id": "b120a27d89244aa9bbf603de5e1897c6",
              "version_minor": 0,
              "version_major": 2
            },
            "text/plain": [
              "HBox(children=(FloatProgress(value=1.0, bar_style='info', max=1.0), HTML(value='')))"
            ]
          },
          "metadata": {
            "tags": []
          }
        },
        {
          "output_type": "stream",
          "text": [
            "\rDataset multi_nli downloaded and prepared to /root/.cache/huggingface/datasets/multi_nli/default/0.0.0/3248359997b13e6ccd296f42420b31c107ba6859b742ed6af1dce0f1544c9ec1. Subsequent calls will reuse this data.\n"
          ],
          "name": "stdout"
        },
        {
          "output_type": "execute_result",
          "data": {
            "text/plain": [
              "2000"
            ]
          },
          "metadata": {
            "tags": []
          },
          "execution_count": 10
        }
      ]
    },
    {
      "cell_type": "code",
      "metadata": {
        "colab": {
          "base_uri": "https://localhost:8080/"
        },
        "id": "Lp6tQWysHkrd",
        "outputId": "0d5c6afb-b661-4152-c431-7aee994f44c1"
      },
      "source": [
        "from datasets import load_dataset\n",
        "import torch\n",
        "testset = load_dataset(\"multi_nli\",split=\"validation_matched[:1000]\")\n",
        "batch_size = 1\n",
        "testloader = torch.utils.data.DataLoader(testset, batch_size=batch_size,num_workers=2,pin_memory=True,shuffle=False)\n",
        "test_length = len(testset)\n"
      ],
      "execution_count": null,
      "outputs": [
        {
          "output_type": "stream",
          "text": [
            "Using custom data configuration default\n",
            "Reusing dataset multi_nli (/root/.cache/huggingface/datasets/multi_nli/default/0.0.0/3248359997b13e6ccd296f42420b31c107ba6859b742ed6af1dce0f1544c9ec1)\n"
          ],
          "name": "stderr"
        }
      ]
    },
    {
      "cell_type": "markdown",
      "metadata": {
        "id": "Zr1K8sz93teB"
      },
      "source": [
        "# Prediction network\n",
        "\n",
        "Use a fully connected nn which gets as input the probabilites for the tokens for one train instance. Output of the nn is 0/1/2. When given all the tokens, accurcy is random, when given only the label \"\"/neutral/contradiction acc goes up to 50% , still far below true acc, even thought nn would just have to pick the max.\n",
        "\n",
        "problems:\n",
        "\n",
        "*   may be undertrained\n",
        "*   may be the wrong architecture\n",
        "*   may just be to small\n",
        "\n"
      ]
    },
    {
      "cell_type": "code",
      "metadata": {
        "colab": {
          "base_uri": "https://localhost:8080/"
        },
        "id": "BwLGO3mw_7ZF",
        "outputId": "eba7c016-987a-433d-87e6-898110a82c21"
      },
      "source": [
        "tokenizer.vocab_size"
      ],
      "execution_count": null,
      "outputs": [
        {
          "output_type": "execute_result",
          "data": {
            "text/plain": [
              "32100"
            ]
          },
          "metadata": {
            "tags": []
          },
          "execution_count": 119
        }
      ]
    },
    {
      "cell_type": "code",
      "metadata": {
        "id": "tNf_Mj2NDW5a"
      },
      "source": [
        "import torch.nn as nn\n",
        "import torch.nn.functional as F\n",
        "\n",
        "\n",
        "class Net(nn.Module):\n",
        "    def __init__(self):\n",
        "        super(Net, self).__init__()\n",
        "\n",
        "        self.fc1 = nn.Linear(3, 100)\n",
        "        self.fc2 = nn.Linear(100, 100)\n",
        "        self.fc3 = nn.Linear(100, 10)\n",
        "        self.fc4 = nn.Linear(10,3)\n",
        "\n",
        "        \n",
        "\n",
        "\n",
        "    def forward(self, x):\n",
        "\n",
        "        x = F.relu(self.fc1(x))\n",
        "        x = F.relu(self.fc2(x))\n",
        "        x = F.relu(self.fc3(x))\n",
        "        x = self.fc4(x)\n",
        "        return x\n",
        "\n",
        "\n",
        "net = Net()"
      ],
      "execution_count": null,
      "outputs": []
    },
    {
      "cell_type": "code",
      "metadata": {
        "colab": {
          "base_uri": "https://localhost:8080/"
        },
        "id": "j5Jhymp6Aci2",
        "outputId": "85c3a5d2-d166-42bf-fdd5-32dd318e5d60"
      },
      "source": [
        "net.cuda()"
      ],
      "execution_count": null,
      "outputs": [
        {
          "output_type": "execute_result",
          "data": {
            "text/plain": [
              "Net(\n",
              "  (fc1): Linear(in_features=3, out_features=100, bias=True)\n",
              "  (fc2): Linear(in_features=100, out_features=100, bias=True)\n",
              "  (fc3): Linear(in_features=100, out_features=10, bias=True)\n",
              "  (fc4): Linear(in_features=10, out_features=3, bias=True)\n",
              ")"
            ]
          },
          "metadata": {
            "tags": []
          },
          "execution_count": 121
        }
      ]
    },
    {
      "cell_type": "code",
      "metadata": {
        "id": "pMC3N5OFAgkD"
      },
      "source": [
        "import torch.optim as optim\n",
        "\n",
        "criterion = nn.CrossEntropyLoss()\n",
        "optimizer = optim.Adam(net.parameters())"
      ],
      "execution_count": null,
      "outputs": []
    },
    {
      "cell_type": "code",
      "metadata": {
        "colab": {
          "base_uri": "https://localhost:8080/"
        },
        "id": "a33mqX2ACvUU",
        "outputId": "ffa8eead-8706-452b-a27d-8fb269ffc00f"
      },
      "source": [
        "torch.tensor([[[0]]*len(mnli_instance[\"premise\"])]).squeeze(0).shape"
      ],
      "execution_count": null,
      "outputs": [
        {
          "output_type": "execute_result",
          "data": {
            "text/plain": [
              "torch.Size([1, 1])"
            ]
          },
          "metadata": {
            "tags": []
          },
          "execution_count": 123
        }
      ]
    },
    {
      "cell_type": "code",
      "metadata": {
        "colab": {
          "base_uri": "https://localhost:8080/",
          "referenced_widgets": [
            "238a1bccaa86479894a29f666614ab94",
            "9cc71fcf97d5412cbe2296d2411d077f",
            "bff17d018f714d898035dc56aac1e240",
            "45e636471aae490d852f8f0ad3274f61",
            "2be7eb6ba7b0437ab24007b5c612cef6",
            "77f13e1c613e441d93bdd27ded7a70db",
            "3d651409df1f4e7e8e264d14a388bd16",
            "1703a4709ef645a0a7ae0e03b44ed46e"
          ]
        },
        "id": "mdHWDjsOAvrR",
        "outputId": "b25df04a-dabe-4b2b-ae97-c0dd03720139"
      },
      "source": [
        "#train prediction network\n",
        "from tqdm import tqdm_notebook\n",
        "import random\n",
        "import numpy as np\n",
        "import copy\n",
        "net.train()\n",
        "\n",
        "for epoch in range(1):  # loop over the dataset multiple times\n",
        "\n",
        "    running_loss = 0.0\n",
        "    for i, mnli_instance in enumerate(tqdm_notebook(dataloader_mnli)):\n",
        "\n",
        "\n",
        "        texts = []\n",
        "        for j in range(len(mnli_instance[\"premise\"])):\n",
        "          text = \"hypothesis: \" + mnli_instance[\"hypothesis\"][j] + \" premise: \" + mnli_instance[\"premise\"][j] \n",
        "          texts.append(text)\n",
        "\n",
        "\n",
        "        input_ids = tokenizer(texts,return_tensors=\"pt\",padding=True,truncation=True).input_ids.cuda()\n",
        "        logits = F.softmax(model(input_ids=input_ids,decoder_input_ids =torch.tensor([[[0]]*len(mnli_instance[\"premise\"])]).squeeze(0).cuda()).logits[:,-1,:])\n",
        "        #print(logits[:,3].shape)\n",
        "        inputs = torch.cat([logits[:,356].unsqueeze(1) ,logits[:,716].unsqueeze(1) ,logits[:,2752].unsqueeze(1) ],dim=-1)\n",
        "\n",
        "\n",
        "        #inputs = torch.tensor([]).cuda()\n",
        "        #for j in range(len(mnli_instance[\"premise\"])):\n",
        "        #  text = \"hypothesis: \" + mnli_instance[\"hypothesis\"][j] + \" premise: \" + mnli_instance[\"premise\"][j] \n",
        "        #  input_ids = tokenizer(text,return_tensors=\"pt\").input_ids.cuda()\n",
        "        #  logits = model(input_ids=input_ids,decoder_input_ids =torch.tensor([[0]]).cuda()).logits[:,-1,:]\n",
        "        #  inputs = torch.cat([inputs,logits])\n",
        "\n",
        "\n",
        "        \n",
        "        # zero the parameter gradients\n",
        "        optimizer.zero_grad()\n",
        "        #print(inputs.shape)\n",
        "        # forward + backward + optimize\n",
        "        outputs = net(inputs)\n",
        "        #print(outputs.shape)\n",
        "\n",
        "        optimizer.zero_grad()\n",
        "\n",
        "        loss = criterion(outputs,mnli_instance[\"label\"].cuda())\n",
        "        \n",
        "        \n",
        "\n",
        "\n",
        "        loss.backward()\n",
        "        optimizer.step()\n",
        "\n",
        "        \n",
        "\n",
        "\n",
        "        if i % 10 == 9:    # print every 2000 mini-batches\n",
        "            print('[%d, %5d] loss: %.3f' %\n",
        "                  (epoch + 1, i + 1, running_loss / (10)))\n",
        "            running_loss = 0.0\n",
        "\n",
        "\n",
        "        # print statistics\n",
        "        running_loss += loss.item()\n",
        "\n",
        "print('Finished Training')"
      ],
      "execution_count": null,
      "outputs": [
        {
          "output_type": "stream",
          "text": [
            "/usr/local/lib/python3.7/dist-packages/ipykernel_launcher.py:11: TqdmDeprecationWarning: This function will be removed in tqdm==5.0.0\n",
            "Please use `tqdm.notebook.tqdm` instead of `tqdm.tqdm_notebook`\n",
            "  # This is added back by InteractiveShellApp.init_path()\n"
          ],
          "name": "stderr"
        },
        {
          "output_type": "display_data",
          "data": {
            "application/vnd.jupyter.widget-view+json": {
              "model_id": "238a1bccaa86479894a29f666614ab94",
              "version_minor": 0,
              "version_major": 2
            },
            "text/plain": [
              "HBox(children=(FloatProgress(value=0.0, max=2000.0), HTML(value='')))"
            ]
          },
          "metadata": {
            "tags": []
          }
        },
        {
          "output_type": "stream",
          "text": [
            "/usr/local/lib/python3.7/dist-packages/ipykernel_launcher.py:21: UserWarning: Implicit dimension choice for softmax has been deprecated. Change the call to include dim=X as an argument.\n"
          ],
          "name": "stderr"
        },
        {
          "output_type": "error",
          "ename": "KeyboardInterrupt",
          "evalue": "ignored",
          "traceback": [
            "\u001b[0;31m---------------------------------------------------------------------------\u001b[0m",
            "\u001b[0;31mKeyboardInterrupt\u001b[0m                         Traceback (most recent call last)",
            "\u001b[0;32m<ipython-input-124-da1c75f5a97e>\u001b[0m in \u001b[0;36m<module>\u001b[0;34m()\u001b[0m\n\u001b[1;32m     47\u001b[0m \u001b[0;34m\u001b[0m\u001b[0m\n\u001b[1;32m     48\u001b[0m \u001b[0;34m\u001b[0m\u001b[0m\n\u001b[0;32m---> 49\u001b[0;31m         \u001b[0mloss\u001b[0m\u001b[0;34m.\u001b[0m\u001b[0mbackward\u001b[0m\u001b[0;34m(\u001b[0m\u001b[0;34m)\u001b[0m\u001b[0;34m\u001b[0m\u001b[0;34m\u001b[0m\u001b[0m\n\u001b[0m\u001b[1;32m     50\u001b[0m         \u001b[0moptimizer\u001b[0m\u001b[0;34m.\u001b[0m\u001b[0mstep\u001b[0m\u001b[0;34m(\u001b[0m\u001b[0;34m)\u001b[0m\u001b[0;34m\u001b[0m\u001b[0;34m\u001b[0m\u001b[0m\n\u001b[1;32m     51\u001b[0m \u001b[0;34m\u001b[0m\u001b[0m\n",
            "\u001b[0;32m/usr/local/lib/python3.7/dist-packages/torch/tensor.py\u001b[0m in \u001b[0;36mbackward\u001b[0;34m(self, gradient, retain_graph, create_graph, inputs)\u001b[0m\n\u001b[1;32m    243\u001b[0m                 \u001b[0mcreate_graph\u001b[0m\u001b[0;34m=\u001b[0m\u001b[0mcreate_graph\u001b[0m\u001b[0;34m,\u001b[0m\u001b[0;34m\u001b[0m\u001b[0;34m\u001b[0m\u001b[0m\n\u001b[1;32m    244\u001b[0m                 inputs=inputs)\n\u001b[0;32m--> 245\u001b[0;31m         \u001b[0mtorch\u001b[0m\u001b[0;34m.\u001b[0m\u001b[0mautograd\u001b[0m\u001b[0;34m.\u001b[0m\u001b[0mbackward\u001b[0m\u001b[0;34m(\u001b[0m\u001b[0mself\u001b[0m\u001b[0;34m,\u001b[0m \u001b[0mgradient\u001b[0m\u001b[0;34m,\u001b[0m \u001b[0mretain_graph\u001b[0m\u001b[0;34m,\u001b[0m \u001b[0mcreate_graph\u001b[0m\u001b[0;34m,\u001b[0m \u001b[0minputs\u001b[0m\u001b[0;34m=\u001b[0m\u001b[0minputs\u001b[0m\u001b[0;34m)\u001b[0m\u001b[0;34m\u001b[0m\u001b[0;34m\u001b[0m\u001b[0m\n\u001b[0m\u001b[1;32m    246\u001b[0m \u001b[0;34m\u001b[0m\u001b[0m\n\u001b[1;32m    247\u001b[0m     \u001b[0;32mdef\u001b[0m \u001b[0mregister_hook\u001b[0m\u001b[0;34m(\u001b[0m\u001b[0mself\u001b[0m\u001b[0;34m,\u001b[0m \u001b[0mhook\u001b[0m\u001b[0;34m)\u001b[0m\u001b[0;34m:\u001b[0m\u001b[0;34m\u001b[0m\u001b[0;34m\u001b[0m\u001b[0m\n",
            "\u001b[0;32m/usr/local/lib/python3.7/dist-packages/torch/autograd/__init__.py\u001b[0m in \u001b[0;36mbackward\u001b[0;34m(tensors, grad_tensors, retain_graph, create_graph, grad_variables, inputs)\u001b[0m\n\u001b[1;32m    145\u001b[0m     Variable._execution_engine.run_backward(\n\u001b[1;32m    146\u001b[0m         \u001b[0mtensors\u001b[0m\u001b[0;34m,\u001b[0m \u001b[0mgrad_tensors_\u001b[0m\u001b[0;34m,\u001b[0m \u001b[0mretain_graph\u001b[0m\u001b[0;34m,\u001b[0m \u001b[0mcreate_graph\u001b[0m\u001b[0;34m,\u001b[0m \u001b[0minputs\u001b[0m\u001b[0;34m,\u001b[0m\u001b[0;34m\u001b[0m\u001b[0;34m\u001b[0m\u001b[0m\n\u001b[0;32m--> 147\u001b[0;31m         allow_unreachable=True, accumulate_grad=True)  # allow_unreachable flag\n\u001b[0m\u001b[1;32m    148\u001b[0m \u001b[0;34m\u001b[0m\u001b[0m\n\u001b[1;32m    149\u001b[0m \u001b[0;34m\u001b[0m\u001b[0m\n",
            "\u001b[0;31mKeyboardInterrupt\u001b[0m: "
          ]
        }
      ]
    },
    {
      "cell_type": "code",
      "metadata": {
        "id": "2yj5DsyNHSXA"
      },
      "source": [
        "correct = 0\n",
        "total = 0\n",
        "\n",
        "with torch.no_grad():\n",
        "    for data in tqdm_notebook(testloader):\n",
        "        texts = []\n",
        "        for j in range(len(mnli_instance[\"premise\"])):\n",
        "          text = \"hypothesis: \" + mnli_instance[\"hypothesis\"][j] + \" premise: \" + mnli_instance[\"premise\"][j] \n",
        "          texts.append(text)\n",
        "\n",
        "\n",
        "        input_ids = tokenizer(texts,return_tensors=\"pt\",padding=True,truncation=True).input_ids.cuda()\n",
        "        logits = model(input_ids=input_ids,decoder_input_ids =torch.tensor([[[0]]*len(mnli_instance[\"premise\"])]).squeeze(0).cuda()).logits[:,-1,:]\n",
        "        inputs = torch.cat([logits[:,356].unsqueeze(1) ,logits[:,716].unsqueeze(1) ,logits[:,2752].unsqueeze(1) ],dim=-1)\n",
        "\n",
        "        outputs = net(inputs)\n",
        "        #print(outputs)\n",
        "\n",
        "        _, predicted = torch.max(F.softmax(outputs.data), 1)\n",
        "        #print(predicted)\n",
        "        #break\n",
        "\n",
        "        total += len(mnli_instance[\"premise\"])\n",
        "        correct += (predicted == mnli_instance[\"label\"].cuda()).sum().item()\n",
        "\n",
        "\n",
        "\n",
        "print('Accuracy of the network on the 10000 test images: %d %%' % (\n",
        "    100 * correct / total))"
      ],
      "execution_count": null,
      "outputs": []
    },
    {
      "cell_type": "markdown",
      "metadata": {
        "id": "VMqPrzG5EHh6"
      },
      "source": [
        "# Above baseline prediction\n",
        "\n",
        "Same idea as the most biased token, but use the deviation from the baseline for each token to make a prediciton. This effectivly removes the need to select the specifcy label token. \n",
        "\n",
        "sanitiy check: acc with hypotheiss: label: stays the same"
      ]
    },
    {
      "cell_type": "code",
      "metadata": {
        "colab": {
          "base_uri": "https://localhost:8080/",
          "height": 151,
          "referenced_widgets": [
            "da661d0aba204b3d922689d262578c22",
            "3e827451d8714ba9be709c11af4bb47c",
            "56c957558c734cb6bec68e1f0c02abfb",
            "e3de446a65814eb6abdcbf05fde9fdbe",
            "836bb9c02b214bd19a1c19aa3a1bba29",
            "cb97fc1ca1034ee8beadd30786c65ffe",
            "15af073722864423bb9444890d12c12e",
            "5df47a0ab28543dfb21e64b6e0a28b98"
          ]
        },
        "id": "B2bsCLtZERcH",
        "outputId": "81e53ca4-dd59-4fac-d0a8-912813ce1948"
      },
      "source": [
        "sum = torch.tensor([0]*32128).cuda()\n",
        "with torch.no_grad():\n",
        "  for i, mnli_instance in enumerate(tqdm_notebook(dataloader_mnli)):\n",
        "    text = \"hypothesis:\" + mnli_instance[\"hypothesis\"][0] + \" premise: \" + mnli_instance[\"premise\"][0]\n",
        "\n",
        "    input_ids = tokenizer.encode(text,return_tensors=\"pt\").cuda()\n",
        "    logits = model(input_ids=input_ids,decoder_input_ids =torch.tensor([[0]]).cuda()).logits[:,-1,:]\n",
        "    sum = sum + logits\n",
        "avg  = sum / mnli_length\n",
        "avg"
      ],
      "execution_count": null,
      "outputs": [
        {
          "output_type": "stream",
          "text": [
            "/usr/local/lib/python3.7/dist-packages/ipykernel_launcher.py:3: TqdmDeprecationWarning: This function will be removed in tqdm==5.0.0\n",
            "Please use `tqdm.notebook.tqdm` instead of `tqdm.tqdm_notebook`\n",
            "  This is separate from the ipykernel package so we can avoid doing imports until\n"
          ],
          "name": "stderr"
        },
        {
          "output_type": "display_data",
          "data": {
            "application/vnd.jupyter.widget-view+json": {
              "model_id": "da661d0aba204b3d922689d262578c22",
              "version_minor": 0,
              "version_major": 2
            },
            "text/plain": [
              "HBox(children=(FloatProgress(value=0.0, max=2000.0), HTML(value='')))"
            ]
          },
          "metadata": {
            "tags": []
          }
        },
        {
          "output_type": "stream",
          "text": [
            "\n"
          ],
          "name": "stdout"
        },
        {
          "output_type": "execute_result",
          "data": {
            "text/plain": [
              "tensor([[-28.0593, -19.0289, -20.1439,  ..., -56.4036, -56.5527, -56.6437]],\n",
              "       device='cuda:0')"
            ]
          },
          "metadata": {
            "tags": []
          },
          "execution_count": 106
        }
      ]
    },
    {
      "cell_type": "code",
      "metadata": {
        "colab": {
          "base_uri": "https://localhost:8080/"
        },
        "id": "FOFaOxJeFEHH",
        "outputId": "ade2dd59-6d0c-4430-f1b8-36301bf32494"
      },
      "source": [
        "print(avg[0,3])\n",
        "print(avg[0,7163])\n",
        "print(avg[0,27252])"
      ],
      "execution_count": null,
      "outputs": [
        {
          "output_type": "stream",
          "text": [
            "tensor(-9.5199, device='cuda:0')\n",
            "tensor(-8.3746, device='cuda:0')\n",
            "tensor(-8.2819, device='cuda:0')\n"
          ],
          "name": "stdout"
        }
      ]
    },
    {
      "cell_type": "code",
      "metadata": {
        "colab": {
          "base_uri": "https://localhost:8080/",
          "height": 219,
          "referenced_widgets": [
            "eda8fcf7556e4972b850a7705351be9e",
            "449f014505164a0f9e6c39cc95208e17",
            "e76adf4ea5944abb8cdd42e633471105",
            "741bbe03c0a3406eb7c82756892e391a",
            "afa9cfb8f8774370b52adf77e7171d6c",
            "2928a47976e84a3f8e66ca0f3462ecde",
            "e26894f86288406fb3f0100ea1215f08",
            "702e78454ac1499793a851aab1c35d5c"
          ]
        },
        "id": "Rb4rkicEE0c0",
        "outputId": "39ebb2c4-df40-4604-fa72-e77ee001d6bd"
      },
      "source": [
        "ent = torch.tensor([0]*32128).cuda()\n",
        "neutral = torch.tensor([0]*32128).cuda()\n",
        "contr = torch.tensor([0]*32128).cuda()\n",
        "\n",
        "\n",
        "ent_amount = 0\n",
        "neutral_amount = 0\n",
        "contr_amount = 0\n",
        "with torch.no_grad():\n",
        "  for i, mnli_instance in enumerate(tqdm_notebook(dataloader_mnli)):\n",
        "    text = \"hypothesis:\" + mnli_instance[\"hypothesis\"][0] + \" premise: \" + mnli_instance[\"premise\"][0]\n",
        "\n",
        "    input_ids = tokenizer.encode(text,return_tensors=\"pt\").cuda()\n",
        "    logits = model(input_ids=input_ids,decoder_input_ids =torch.tensor([[0]]).cuda()).logits[:,-1,:]\n",
        "    p = avg < logits\n",
        "    if mnli_instance[\"label\"]==0:\n",
        "      ent = ent + p\n",
        "      ent_amount+=1\n",
        "    if mnli_instance[\"label\"]==1:\n",
        "      neutral = neutral + p\n",
        "      neutral_amount+=1\n",
        "    if mnli_instance[\"label\"]==2:\n",
        "      contr = contr + p\n",
        "      contr_amount+=1\n",
        "\n",
        "print(ent/mnli_length)\n",
        "print(neutral/mnli_length)\n",
        "print(contr/mnli_length)"
      ],
      "execution_count": null,
      "outputs": [
        {
          "output_type": "stream",
          "text": [
            "/usr/local/lib/python3.7/dist-packages/ipykernel_launcher.py:10: TqdmDeprecationWarning: This function will be removed in tqdm==5.0.0\n",
            "Please use `tqdm.notebook.tqdm` instead of `tqdm.tqdm_notebook`\n",
            "  # Remove the CWD from sys.path while we load stuff.\n"
          ],
          "name": "stderr"
        },
        {
          "output_type": "display_data",
          "data": {
            "application/vnd.jupyter.widget-view+json": {
              "model_id": "eda8fcf7556e4972b850a7705351be9e",
              "version_minor": 0,
              "version_major": 2
            },
            "text/plain": [
              "HBox(children=(FloatProgress(value=0.0, max=2000.0), HTML(value='')))"
            ]
          },
          "metadata": {
            "tags": []
          }
        },
        {
          "output_type": "stream",
          "text": [
            "\n",
            "tensor([[0.2250, 0.1860, 0.2085,  ..., 0.2075, 0.2075, 0.2080]],\n",
            "       device='cuda:0')\n",
            "tensor([[0.1160, 0.1505, 0.1430,  ..., 0.1270, 0.1260, 0.1260]],\n",
            "       device='cuda:0')\n",
            "tensor([[0.1720, 0.1740, 0.1785,  ..., 0.1595, 0.1600, 0.1600]],\n",
            "       device='cuda:0')\n"
          ],
          "name": "stdout"
        }
      ]
    },
    {
      "cell_type": "code",
      "metadata": {
        "colab": {
          "base_uri": "https://localhost:8080/"
        },
        "id": "zhFTxhixd9Sk",
        "outputId": "3fabd8a8-9f58-4631-b158-aeb7f2171ad3"
      },
      "source": [
        "print(ent_amount)\n",
        "print(neutral_amount)\n",
        "print(contr_amount)"
      ],
      "execution_count": null,
      "outputs": [
        {
          "output_type": "stream",
          "text": [
            "341\n",
            "319\n",
            "340\n"
          ],
          "name": "stdout"
        }
      ]
    },
    {
      "cell_type": "code",
      "metadata": {
        "colab": {
          "base_uri": "https://localhost:8080/"
        },
        "id": "deNFH-xTGAtc",
        "outputId": "d456a270-5b35-4d02-d2b9-682dba8949c2"
      },
      "source": [
        "ent_val, ent_ind = torch.sort(ent/ent_amount,descending=True)\n",
        "neutral_val, neutral_ind = torch.sort(neutral/neutral_amount,descending=True)\n",
        "contr_val, contr_ind = torch.sort(contr/contr_amount,descending=True)\n",
        "\n",
        "print(ent_ind[0,:10])\n",
        "print(ent_val[0,:10])\n",
        "print()\n",
        "\n",
        "print(neutral_ind[0,:10])\n",
        "print(neutral_val[0,:10])\n",
        "print()\n",
        "\n",
        "print(contr_ind[0,:10])\n",
        "print(contr_val[0,:10])\n",
        "print()"
      ],
      "execution_count": null,
      "outputs": [
        {
          "output_type": "stream",
          "text": [
            "tensor([ 4322, 11124, 21886,  9210, 20598, 25846, 27938, 21794,  9831, 18094],\n",
            "       device='cuda:0')\n",
            "tensor([0.7009, 0.6994, 0.6994, 0.6950, 0.6950, 0.6935, 0.6935, 0.6921, 0.6906,\n",
            "        0.6906], device='cuda:0')\n",
            "\n",
            "tensor([24714, 12991, 17069, 15148, 25946, 19384, 21021, 21233, 31817, 13516],\n",
            "       device='cuda:0')\n",
            "tensor([0.6048, 0.5911, 0.5843, 0.5826, 0.5809, 0.5792, 0.5775, 0.5775, 0.5775,\n",
            "        0.5758], device='cuda:0')\n",
            "\n",
            "tensor([15714,  6763, 24432, 21361, 12358,  7642, 29618,  9520, 13190, 20294],\n",
            "       device='cuda:0')\n",
            "tensor([0.5800, 0.5677, 0.5677, 0.5663, 0.5636, 0.5622, 0.5622, 0.5609, 0.5609,\n",
            "        0.5609], device='cuda:0')\n",
            "\n"
          ],
          "name": "stdout"
        }
      ]
    },
    {
      "cell_type": "code",
      "metadata": {
        "colab": {
          "base_uri": "https://localhost:8080/"
        },
        "id": "iJ68h1LLr8-r",
        "outputId": "fdf21028-9e4a-4eda-e16f-7c4ea11bc88a"
      },
      "source": [
        "torch.sum(torch.tensor([1,2])*torch.tensor([6,7]))"
      ],
      "execution_count": null,
      "outputs": [
        {
          "output_type": "execute_result",
          "data": {
            "text/plain": [
              "tensor(20)"
            ]
          },
          "metadata": {
            "tags": []
          },
          "execution_count": 71
        }
      ]
    },
    {
      "cell_type": "code",
      "metadata": {
        "id": "ItIEt-uo-Sx4"
      },
      "source": [
        "inn = [24714, 12991, 17069, 15148, 25946, 19384, 21021, 21233, 31817, 13516] + [ 4322, 11124, 21886,  9210, 20598, 25846, 27938, 21794,  9831, 18094] + [0.5800, 0.5677, 0.5677, 0.5663, 0.5636, 0.5622, 0.5622, 0.5609, 0.5609,\n",
        "        0.5609]"
      ],
      "execution_count": null,
      "outputs": []
    },
    {
      "cell_type": "code",
      "metadata": {
        "id": "Q-CL4jxFvs8H"
      },
      "source": [
        "inn = [ 1120, 10316, 11253, 12681, 13512, 14371, 14377, 18892, 24161, 24697] #+ [ 7163, 21323, 21628, 24788, 29156, 29389, 24623, 30125, 30913, 31510] + [27252, 18616, 19218,  5839, 26682, 13373, 16715, 12638, 18702, 19685]"
      ],
      "execution_count": null,
      "outputs": []
    },
    {
      "cell_type": "code",
      "metadata": {
        "colab": {
          "base_uri": "https://localhost:8080/",
          "height": 236,
          "referenced_widgets": [
            "4a2ab317594f4eb0b6768c32a6933b6d",
            "a001c1a65ad047679011566ad13fc4e8",
            "05fece22021d43fd87e197a25cec1146",
            "58244986ce7a4255966527424ce37606",
            "c7a44916e9f447c0a7444c09961acd8e",
            "e7b72c1ecc4b4a0a8de111c1eb3a1a74",
            "a91589f94f9b47c0896e995ca93ca07b",
            "ca6d2c28e66943e39b2b30261f6b3299"
          ]
        },
        "id": "V20SENqRqkzV",
        "outputId": "fcc08fc6-17f5-4943-fa62-75305051bfec"
      },
      "source": [
        "# use all tokens as a label, only slightly worse acc than normal for hypothesis: premise:\n",
        "# for longer text random acc -> we made prediciton independant from label, which means that this analysis is a stronger argument in support that t5 cant solve mnli when given a qa format\n",
        "\n",
        "num_right = 0\n",
        "with torch.no_grad():\n",
        "  for i, mnli_instance in enumerate(tqdm_notebook(testloader)):\n",
        "    text = \"question: Which option is right? context: statement 1:\" + mnli_instance[\"hypothesis\"][0] + \" statement 2: \" + mnli_instance[\"premise\"][0] + \"Option 1: statement 2 entails statement 1. Option 2: statement 2 is neutral to statement 1. Option 3: statement 2 contradicts statement 1.\"\n",
        "    input_ids = tokenizer.encode(text,return_tensors=\"pt\").cuda()\n",
        "    logits = model(input_ids=input_ids,decoder_input_ids =torch.tensor([[0]]).cuda()).logits[:,-1,:]\n",
        "    p = avg[:,inn] - logits[:,inn]\n",
        "    e = torch.sum(p * F.softmax((ent/ent_amount)[:,inn]))\n",
        "    n = torch.sum(p * F.softmax((neutral/neutral_amount)[:,inn]))\n",
        "    c = torch.sum(p * F.softmax((contr/contr_amount)[:,inn]))\n",
        "    label = np.argmin([e,n,c])\n",
        "    \n",
        "\n",
        "    if label == mnli_instance[\"label\"]:\n",
        "          num_right+=1\n",
        "num_right/test_length"
      ],
      "execution_count": null,
      "outputs": [
        {
          "output_type": "stream",
          "text": [
            "/usr/local/lib/python3.7/dist-packages/ipykernel_launcher.py:6: TqdmDeprecationWarning: This function will be removed in tqdm==5.0.0\n",
            "Please use `tqdm.notebook.tqdm` instead of `tqdm.tqdm_notebook`\n",
            "  \n"
          ],
          "name": "stderr"
        },
        {
          "output_type": "display_data",
          "data": {
            "application/vnd.jupyter.widget-view+json": {
              "model_id": "4a2ab317594f4eb0b6768c32a6933b6d",
              "version_minor": 0,
              "version_major": 2
            },
            "text/plain": [
              "HBox(children=(FloatProgress(value=0.0, max=1000.0), HTML(value='')))"
            ]
          },
          "metadata": {
            "tags": []
          }
        },
        {
          "output_type": "stream",
          "text": [
            "/usr/local/lib/python3.7/dist-packages/ipykernel_launcher.py:11: UserWarning: Implicit dimension choice for softmax has been deprecated. Change the call to include dim=X as an argument.\n",
            "  # This is added back by InteractiveShellApp.init_path()\n",
            "/usr/local/lib/python3.7/dist-packages/ipykernel_launcher.py:12: UserWarning: Implicit dimension choice for softmax has been deprecated. Change the call to include dim=X as an argument.\n",
            "  if sys.path[0] == '':\n",
            "/usr/local/lib/python3.7/dist-packages/ipykernel_launcher.py:13: UserWarning: Implicit dimension choice for softmax has been deprecated. Change the call to include dim=X as an argument.\n",
            "  del sys.path[0]\n"
          ],
          "name": "stderr"
        },
        {
          "output_type": "stream",
          "text": [
            "\n"
          ],
          "name": "stdout"
        },
        {
          "output_type": "execute_result",
          "data": {
            "text/plain": [
              "0.319"
            ]
          },
          "metadata": {
            "tags": []
          },
          "execution_count": 110
        }
      ]
    },
    {
      "cell_type": "code",
      "metadata": {
        "id": "qEjOvDUTkfft"
      },
      "source": [
        "# todo pro test instanz herausfinden, ob toekn größer oder kleiner dem basewert sind. Dann passend addieren. Zb wenn 3>avg, bekommt ent+1, contr+0.2,neutral+0.4 oder so. Dann max bilden"
      ],
      "execution_count": null,
      "outputs": []
    },
    {
      "cell_type": "code",
      "metadata": {
        "colab": {
          "base_uri": "https://localhost:8080/",
          "height": 35
        },
        "id": "kb9un5VdIq28",
        "outputId": "37a1974c-fe67-4365-e6b1-59c51631ae46"
      },
      "source": [
        "tokenizer.decode([27252, 19218, 25632, 16715, 18616, 26682, 19685,  5839, 10942, 13373])"
      ],
      "execution_count": null,
      "outputs": [
        {
          "output_type": "execute_result",
          "data": {
            "application/vnd.google.colaboratory.intrinsic+json": {
              "type": "string"
            },
            "text/plain": [
              "'contradiction delocintrarea nowherelipsawederNeither nonehardlyaucune'"
            ]
          },
          "metadata": {
            "tags": []
          },
          "execution_count": 45
        }
      ]
    },
    {
      "cell_type": "code",
      "metadata": {
        "id": "8WSQ4_Gjgfi5"
      },
      "source": [
        "# ergebnis für hypothesis: premise: ,ohne softmax, mit denen bekommt man leicht über rand acc(40%)\n",
        "\n",
        "tensor([    3,   587,  1120,  1216,  3919,  5266,  6328,  6418,  7102, 10316],\n",
        "       device='cuda:0')\n",
        "tensor([1., 1., 1., 1., 1., 1., 1., 1., 1., 1.], device='cuda:0')\n",
        "\n",
        "tensor([ 7163, 21323, 27744, 29156, 20998, 24623, 29389, 30913, 21010, 21228],\n",
        "       device='cuda:0')\n",
        "tensor([0.9898, 0.9830, 0.9830, 0.9813, 0.9796, 0.9796, 0.9796, 0.9761, 0.9744,\n",
        "        0.9744], device='cuda:0')\n",
        "\n",
        "tensor([27252, 19218, 25632, 16715, 18616, 26682, 19685,  5839, 10942, 13373],\n",
        "       device='cuda:0')\n",
        "tensor([0.4815, 0.4323, 0.4254, 0.4241, 0.4241, 0.4200, 0.4172, 0.4131, 0.4131,\n",
        "        0.4131], device='cuda:0')\n"
      ],
      "execution_count": null,
      "outputs": []
    },
    {
      "cell_type": "code",
      "metadata": {
        "id": "SFUsqB-_a582"
      },
      "source": [
        "# ergebnis für langen text,ohne softmax, mit denen bekommt man leicht über rand acc(40%)\n",
        "\n",
        "tensor([ 4322, 11124, 21886,  9210, 20598, 25846, 27938, 21794,  9831, 18094],\n",
        "       device='cuda:0')\n",
        "tensor([0.7009, 0.6994, 0.6994, 0.6950, 0.6950, 0.6935, 0.6935, 0.6921, 0.6906,\n",
        "        0.6906], device='cuda:0')\n",
        "\n",
        "tensor([24714, 12991, 17069, 15148, 25946, 19384, 21021, 21233, 31817, 13516],\n",
        "       device='cuda:0')\n",
        "tensor([0.6048, 0.5911, 0.5843, 0.5826, 0.5809, 0.5792, 0.5775, 0.5775, 0.5775,\n",
        "        0.5758], device='cuda:0')\n",
        "\n",
        "tensor([15714,  6763, 24432, 21361, 12358,  7642, 29618,  9520, 13190, 20294],\n",
        "       device='cuda:0')\n",
        "tensor([0.5800, 0.5677, 0.5677, 0.5663, 0.5636, 0.5622, 0.5622, 0.5609, 0.5609,\n",
        "        0.5609], device='cuda:0')"
      ],
      "execution_count": null,
      "outputs": []
    },
    {
      "cell_type": "code",
      "metadata": {
        "id": "j_sx0z6vIFud"
      },
      "source": [
        "#result for hypothesis: and premise:\n",
        "\n",
        "tensor([ 1120,     3,     6,    31, 27441, 20734, 19197,    11,    87,  1216],\n",
        "       device='cuda:0')\n",
        "tensor([0.9355, 0.9311, 0.9179, 0.9164, 0.9150, 0.9106, 0.9062, 0.9032, 0.9003,\n",
        "        0.8988], device='cuda:0')\n",
        "\n",
        "tensor([ 7163,  7856, 21323, 29156,  1465, 12682, 20426, 21628, 26462, 22883],\n",
        "       device='cuda:0')\n",
        "tensor([0.9216, 0.6951, 0.6882, 0.6814, 0.6763, 0.6695, 0.6678, 0.6678, 0.6644,\n",
        "        0.6610], device='cuda:0')\n",
        "\n",
        "tensor([27252,  7598,  1327,   206, 29619, 26645, 28525, 12638, 19352, 20135],\n",
        "       device='cuda:0')\n",
        "tensor([0.9617, 0.5964, 0.5841, 0.5554, 0.5335, 0.5294, 0.5212, 0.5185, 0.5171,\n",
        "        0.5171], device='cuda:0')"
      ],
      "execution_count": null,
      "outputs": []
    },
    {
      "cell_type": "code",
      "metadata": {
        "colab": {
          "base_uri": "https://localhost:8080/",
          "height": 151,
          "referenced_widgets": [
            "055fd5c3575346f493328e43f369d8b8",
            "99b3c50dd8374c9283f498cbcf1d45fb",
            "1eb86c98ba964f6e899f3a32ecc3cf44",
            "5b199600c06c40c2944b650774339420",
            "977fb30f6419460580fa709ff57e58ab",
            "bc24beffe59042cabe399eb145687843",
            "bcca2d033cca42739ad932e01aa94362",
            "89d7afebc65f47ed9cacff46b0efb661"
          ]
        },
        "id": "QJLrjpIvIgxK",
        "outputId": "79cfbb92-ecda-4c39-9202-04cbf4d2f085"
      },
      "source": [
        "from tqdm import tqdm_notebook\n",
        "import numpy as np\n",
        "import torch.nn.functional as F\n",
        "num_right = 0\n",
        "ent_count = 0\n",
        "contr_count = 0\n",
        "neutral_count = 0\n",
        "\n",
        "ent_amount = 0\n",
        "neutral_amount =0 \n",
        "contr_amount = 0\n",
        "with torch.no_grad():\n",
        "  for i, mnli_instance in enumerate(tqdm_notebook(dataloader_mnli)):\n",
        "\n",
        "      text = \"question: Which option is right? context: statement 1:\" + mnli_instance[\"hypothesis\"][0] + \" statement 2: \" + mnli_instance[\"premise\"][0] + \"Option 1: statement 2 entails statement 1. Option 2: statement 2 is neutral to statement 1. Option 3: statement 2 contradicts statement 1.\"\n",
        "\n",
        "      input_ids = tokenizer.encode(text,return_tensors=\"pt\").cuda()\n",
        "      logits = F.softmax(model(input_ids=input_ids,decoder_input_ids =torch.tensor([[0]]).cuda()).logits[:,-1,:])\n",
        "      label = torch.argmax(torch.cat([logits[:,4322]/1.3330772191637655e-05, logits[:,24714]/5.47142535705647e-05,logits[:,15714]/2.9161071427877272e-05]))\n",
        "      ent_count+=logits[:,4322].item()\n",
        "      neutral_count+=logits[:,24714].item()\n",
        "      contr_count+=logits[:,15714].item()\n",
        "      if mnli_instance[\"label\"]==0:\n",
        "        ent_amount+=1\n",
        "      if mnli_instance[\"label\"]==1:\n",
        "        neutral_amount+=1\n",
        "      if mnli_instance[\"label\"]==2:\n",
        "        contr_amount+=1\n",
        "      #if logits[:,28722] > 0 or logits[:,7163] > 0 or logits[:,27252] > 0:\n",
        "      #  print(\"trulll\")\n",
        "      \n",
        "      if label.cpu() == mnli_instance[\"label\"]:\n",
        "          num_right+=1\n",
        "\n",
        "num_right/mnli_length"
      ],
      "execution_count": null,
      "outputs": [
        {
          "output_type": "stream",
          "text": [
            "/usr/local/lib/python3.7/dist-packages/ipykernel_launcher.py:13: TqdmDeprecationWarning: This function will be removed in tqdm==5.0.0\n",
            "Please use `tqdm.notebook.tqdm` instead of `tqdm.tqdm_notebook`\n",
            "  del sys.path[0]\n"
          ],
          "name": "stderr"
        },
        {
          "output_type": "display_data",
          "data": {
            "application/vnd.jupyter.widget-view+json": {
              "model_id": "055fd5c3575346f493328e43f369d8b8",
              "version_minor": 0,
              "version_major": 2
            },
            "text/plain": [
              "HBox(children=(FloatProgress(value=0.0, max=2000.0), HTML(value='')))"
            ]
          },
          "metadata": {
            "tags": []
          }
        },
        {
          "output_type": "stream",
          "text": [
            "/usr/local/lib/python3.7/dist-packages/ipykernel_launcher.py:18: UserWarning: Implicit dimension choice for softmax has been deprecated. Change the call to include dim=X as an argument.\n"
          ],
          "name": "stderr"
        },
        {
          "output_type": "stream",
          "text": [
            "\n"
          ],
          "name": "stdout"
        },
        {
          "output_type": "execute_result",
          "data": {
            "text/plain": [
              "0.397"
            ]
          },
          "metadata": {
            "tags": []
          },
          "execution_count": 35
        }
      ]
    },
    {
      "cell_type": "code",
      "metadata": {
        "colab": {
          "base_uri": "https://localhost:8080/"
        },
        "id": "4weDXIE4VnYR",
        "outputId": "a6594c73-69c3-4b05-8eb6-c10240bc40e5"
      },
      "source": [
        "print(ent_count/ent_amount)#das darf man eig garnicht machen\n",
        "print(neutral_count/neutral_amount)\n",
        "print(contr_count/contr_amount)"
      ],
      "execution_count": null,
      "outputs": [
        {
          "output_type": "stream",
          "text": [
            "1.9546586791257558e-08\n",
            "9.320997201118347e-08\n",
            "3.989202657712349e-08\n"
          ],
          "name": "stdout"
        }
      ]
    },
    {
      "cell_type": "code",
      "metadata": {
        "colab": {
          "base_uri": "https://localhost:8080/"
        },
        "id": "hoyifXxFbr5U",
        "outputId": "a631faf9-1408-4025-9eb8-8258fdb0ebda"
      },
      "source": [
        "print(ent_count)#das darf man eig garnicht machen\n",
        "print(neutral_count)\n",
        "print(contr_count)"
      ],
      "execution_count": null,
      "outputs": [
        {
          "output_type": "stream",
          "text": [
            "1.3330772191637655e-05\n",
            "5.47142535705647e-05\n",
            "2.9161071427877272e-05\n"
          ],
          "name": "stdout"
        }
      ]
    },
    {
      "cell_type": "code",
      "metadata": {
        "id": "T94C8E_rYYH-"
      },
      "source": [
        "mit 18682/17011/13745 bekommt man für       text = \"question: Which option is right? context: statement 1:\" + mnli_instance[\"hypothesis\"][0] + \" statement 2: \" + mnli_instance[\"premise\"][0] + \"Option 1: statement 2 entails statement 1. Option 2: statement 2 is neutral to statement 1. Option 3: statement 2 contradicts statement 1.\"\n",
        "42%, also leicht besser als rand"
      ],
      "execution_count": null,
      "outputs": []
    },
    {
      "cell_type": "markdown",
      "metadata": {
        "id": "G90bqqwpnvbj"
      },
      "source": [
        "# most biased tokens\n",
        "\n",
        "question: which labels should we use for ent/neutral/contr without trying all the 50000^3 possibilites\n",
        "\n",
        "\n",
        "look for labels that have the highest deviation from their baseline for one label. So we first calculate the basline for each token, by computing the mean over all the training instances. Then we calculate the baseline for each token for each label. Then divide the label specific baseline by the baseline. If there is a token that is highly predictable for a label it will have a high value. Sort them"
      ]
    },
    {
      "cell_type": "code",
      "metadata": {
        "colab": {
          "base_uri": "https://localhost:8080/"
        },
        "id": "VikGvNWup6mj",
        "outputId": "b6cfa023-84f8-4410-c617-71ac20b177e0"
      },
      "source": [
        "torch.tensor([1,2]) / torch.tensor([5,6])"
      ],
      "execution_count": null,
      "outputs": [
        {
          "output_type": "execute_result",
          "data": {
            "text/plain": [
              "tensor([0.2000, 0.3333])"
            ]
          },
          "metadata": {
            "tags": []
          },
          "execution_count": 125
        }
      ]
    },
    {
      "cell_type": "code",
      "metadata": {
        "colab": {
          "base_uri": "https://localhost:8080/",
          "height": 236,
          "referenced_widgets": [
            "0df8c968326c4915b467a1f287037905",
            "6e82a088ec1d4280bb2bb0e9df2149d7",
            "06f2b534c6964472bf28a7ef5227c3ed",
            "aeb8f93eccf74d1a8da8f4764e9d577f",
            "5fc230db53d74e2c8e873dc65f7a6fc2",
            "8531bf8305c8487c9ca34f06127294ac",
            "ad6fc86d98a2429c866b068dd66f13e2",
            "843f79bd5ece42c88883d72c7b4877a8"
          ]
        },
        "id": "kTs8RZBnn_-4",
        "outputId": "74605b1a-9ee2-4a6c-8778-0696bdb43f02"
      },
      "source": [
        "from tqdm import tqdm_notebook\n",
        "import numpy as np\n",
        "import torch.nn.functional as F\n",
        "sum_ent = torch.tensor([0]*32128).cuda()\n",
        "sum_neutral = torch.tensor([0]*32128).cuda()\n",
        "sum_contr = torch.tensor([0]*32128).cuda()\n",
        "\n",
        "ent_amount = 0\n",
        "neutral_amount = 0\n",
        "contr_amount = 0\n",
        "\n",
        "\n",
        "with torch.no_grad():\n",
        "  sum=torch.tensor([0]*32128).cuda()\n",
        "  for i, mnli_instance in enumerate(tqdm_notebook(dataloader_mnli)):\n",
        "    text = \"hypothesis:\" + mnli_instance[\"hypothesis\"][0] + \" premise: \" + mnli_instance[\"premise\"][0]\n",
        "    input_ids = tokenizer.encode(text,return_tensors=\"pt\").cuda()\n",
        "    logits = F.softmax(model(input_ids=input_ids,decoder_input_ids =torch.tensor([[0]]).cuda()).logits[:,-1,:])\n",
        "    if mnli_instance[\"label\"]==0:\n",
        "      sum_ent = sum_ent + logits\n",
        "      ent_amount+=1\n",
        "\n",
        "    if mnli_instance[\"label\"]==1:\n",
        "      sum_neutral = sum_neutral + logits\n",
        "      neutral_amount+=1\n",
        "\n",
        "    if mnli_instance[\"label\"]==2:\n",
        "      sum_contr = sum_contr + logits\n",
        "      contr_amount+=1\n",
        "\n",
        "\n",
        "sum_ent = sum_ent / ent_amount\n",
        "sum_neutral = sum_neutral / neutral_amount\n",
        "sum_contr = sum_contr / contr_amount\n",
        "\n",
        "sum = sum_ent + sum_neutral + sum_contr\n",
        "\n",
        "sum_ent = sum_ent / sum\n",
        "sum_neutral = sum_neutral / sum\n",
        "sum_contr = sum_contr / sum\n",
        "\n",
        "print(sum_ent)\n",
        "print(sum_neutral)\n",
        "print(sum_contr)\n",
        "\n",
        "      \n",
        "\n",
        "\n"
      ],
      "execution_count": null,
      "outputs": [
        {
          "output_type": "stream",
          "text": [
            "/usr/local/lib/python3.7/dist-packages/ipykernel_launcher.py:15: TqdmDeprecationWarning: This function will be removed in tqdm==5.0.0\n",
            "Please use `tqdm.notebook.tqdm` instead of `tqdm.tqdm_notebook`\n",
            "  from ipykernel import kernelapp as app\n"
          ],
          "name": "stderr"
        },
        {
          "output_type": "display_data",
          "data": {
            "application/vnd.jupyter.widget-view+json": {
              "model_id": "0df8c968326c4915b467a1f287037905",
              "version_minor": 0,
              "version_major": 2
            },
            "text/plain": [
              "HBox(children=(FloatProgress(value=0.0, max=2000.0), HTML(value='')))"
            ]
          },
          "metadata": {
            "tags": []
          }
        },
        {
          "output_type": "stream",
          "text": [
            "/usr/local/lib/python3.7/dist-packages/ipykernel_launcher.py:18: UserWarning: Implicit dimension choice for softmax has been deprecated. Change the call to include dim=X as an argument.\n"
          ],
          "name": "stderr"
        },
        {
          "output_type": "stream",
          "text": [
            "\n",
            "tensor([[0.5346, 0.6291, 0.6537,  ..., 0.2485, 0.2452, 0.2459]],\n",
            "       device='cuda:0')\n",
            "tensor([[0.3522, 0.2466, 0.2556,  ..., 0.4662, 0.4665, 0.4653]],\n",
            "       device='cuda:0')\n",
            "tensor([[0.1132, 0.1243, 0.0908,  ..., 0.2853, 0.2883, 0.2888]],\n",
            "       device='cuda:0')\n"
          ],
          "name": "stdout"
        }
      ]
    },
    {
      "cell_type": "code",
      "metadata": {
        "colab": {
          "base_uri": "https://localhost:8080/"
        },
        "id": "sY6IzO7dn7Mq",
        "outputId": "afc73a74-5728-4bbe-c7a0-e50404bde3e3"
      },
      "source": [
        "ent_val, ent_ind = torch.sort(sum_ent,descending=True)\n",
        "neutral_val, neutral_ind = torch.sort(sum_neutral,descending=True)\n",
        "contr_val, contr_ind = torch.sort(sum_contr,descending=True)\n",
        "\n",
        "print(ent_ind[0,:10])\n",
        "print(ent_val[0,:10])\n",
        "print()\n",
        "\n",
        "print(neutral_ind[0,:10])\n",
        "print(neutral_val[0,:10])\n",
        "print()\n",
        "\n",
        "print(contr_ind[0,:10])\n",
        "print(contr_val[0,:10])\n",
        "print()"
      ],
      "execution_count": null,
      "outputs": [
        {
          "output_type": "stream",
          "text": [
            "tensor([    3, 19197, 20734, 14371, 22508, 24161,  5266, 10998, 13943, 27441],\n",
            "       device='cuda:0')\n",
            "tensor([0.8992, 0.8241, 0.8202, 0.8034, 0.7889, 0.7781, 0.7771, 0.7741, 0.7741,\n",
            "        0.7701], device='cuda:0')\n",
            "\n",
            "tensor([29048, 16239, 25052, 18566, 18026,  1960, 30598,  7163, 20092,   469],\n",
            "       device='cuda:0')\n",
            "tensor([0.9812, 0.9587, 0.8740, 0.8736, 0.8713, 0.8358, 0.8355, 0.8302, 0.8083,\n",
            "        0.8011], device='cuda:0')\n",
            "\n",
            "tensor([18616, 19218, 13373, 28369, 14607, 15850, 20864, 27826, 30620, 31527],\n",
            "       device='cuda:0')\n",
            "tensor([0.9924, 0.9879, 0.9847, 0.9823, 0.9810, 0.9807, 0.9573, 0.9488, 0.9438,\n",
            "        0.9426], device='cuda:0')\n",
            "\n"
          ],
          "name": "stdout"
        }
      ]
    },
    {
      "cell_type": "code",
      "metadata": {
        "colab": {
          "base_uri": "https://localhost:8080/",
          "height": 35
        },
        "id": "VH4r4mec8SCb",
        "outputId": "891d20c4-bba2-49f1-d002-c9b1ef3cc229"
      },
      "source": [
        "tokenizer.decode([  125, 14410,  9170, 20561, 17849,  8178, 21747,  6104, 11835,  4479])"
      ],
      "execution_count": null,
      "outputs": [
        {
          "output_type": "execute_result",
          "data": {
            "application/vnd.google.colaboratory.intrinsic+json": {
              "type": "string"
            },
            "text/plain": [
              "'what passivewhat proactivewelcher Jon cadouquelle Baiquel'"
            ]
          },
          "metadata": {
            "tags": []
          },
          "execution_count": 17
        }
      ]
    },
    {
      "cell_type": "code",
      "metadata": {
        "id": "Msy3VbEVB8Cp"
      },
      "source": [
        "# hypothesis: and premise:, train[2000:4000]\n",
        "tensor([    3, 19197, 20734, 14371, 22508, 24161,  5266, 10998, 13943, 27441],\n",
        "       device='cuda:0')\n",
        "tensor([0.8992, 0.8241, 0.8202, 0.8034, 0.7889, 0.7781, 0.7771, 0.7741, 0.7741,\n",
        "        0.7701], device='cuda:0')\n",
        "\n",
        "tensor([29048, 16239, 25052, 18566, 18026,  1960, 30598,  7163, 20092,   469],\n",
        "       device='cuda:0')\n",
        "tensor([0.9812, 0.9587, 0.8740, 0.8736, 0.8713, 0.8358, 0.8355, 0.8302, 0.8083,\n",
        "        0.8011], device='cuda:0')\n",
        "\n",
        "tensor([18616, 19218, 13373, 28369, 14607, 15850, 20864, 27826, 30620, 31527],\n",
        "       device='cuda:0')\n",
        "tensor([0.9924, 0.9879, 0.9847, 0.9823, 0.9810, 0.9807, 0.9573, 0.9488, 0.9438,\n",
        "        0.9426], device='cuda:0')"
      ],
      "execution_count": null,
      "outputs": []
    },
    {
      "cell_type": "code",
      "metadata": {
        "id": "ppioa4jPBrec"
      },
      "source": [
        "# hypothesis: and premise:, train[0:2000]\n",
        "tensor([    3,   837, 20734,   412, 19197, 14371, 10998,  5266, 22508, 27441],\n",
        "       device='cuda:0')\n",
        "tensor([0.8970, 0.8494, 0.8279, 0.8222, 0.8212, 0.7910, 0.7894, 0.7871, 0.7845,\n",
        "        0.7795], device='cuda:0')\n",
        "\n",
        "tensor([ 7163, 31510, 20998, 23480, 24788, 24750, 29156, 31120, 21323, 31178],\n",
        "       device='cuda:0')\n",
        "tensor([0.8462, 0.8138, 0.7635, 0.7626, 0.7361, 0.7284, 0.7193, 0.7187, 0.7136,\n",
        "        0.7123], device='cuda:0')\n",
        "\n",
        "tensor([18616, 19218, 28369, 14607, 13373, 15850, 20864, 27826, 30620,  7362],\n",
        "       device='cuda:0')\n",
        "tensor([0.9909, 0.9873, 0.9831, 0.9812, 0.9800, 0.9773, 0.9745, 0.9538, 0.9513,\n",
        "        0.9449], device='cuda:0')\n"
      ],
      "execution_count": null,
      "outputs": []
    },
    {
      "cell_type": "code",
      "metadata": {
        "id": "lB1LGPlP9_S7"
      },
      "source": [
        "#results for  \"question: Which option is right? context: statement 1:\" + mnli_instance[\"hypothesis\"][0] + \" statement 2: \" + mnli_instance[\"premise\"][0] + \"Option 1: statement 2 entails statement 1. Option 2: statement 2 is neutral to statement 1. Option 3: statement 2 contradicts statement 1.\"\n",
        "tensor([19197, 23869, 31946,  3804, 29121, 28149, 31055,  8545, 16545, 31447],\n",
        "       device='cuda:0')\n",
        "tensor([0.7818, 0.7526, 0.6689, 0.6672, 0.6234, 0.6044, 0.6009, 0.6003, 0.5872,\n",
        "        0.5842], device='cuda:0')\n",
        "\n",
        "tensor([  125, 14410,  9170, 20561, 17849,  8178, 21747,  6104, 11835,  4479],\n",
        "       device='cuda:0')\n",
        "tensor([0.8829, 0.8059, 0.7840, 0.7270, 0.7155, 0.6883, 0.6488, 0.6344, 0.6248,\n",
        "        0.6115], device='cuda:0')\n",
        "\n",
        "tensor([13643,  3644, 11122, 12084,  4281,  1980,  7078, 20592,  1845, 14256],\n",
        "       device='cuda:0')\n",
        "tensor([0.9996, 0.9942, 0.9742, 0.9735, 0.9713, 0.9632, 0.9599, 0.9489, 0.9478,\n",
        "        0.9426], device='cuda:0')"
      ],
      "execution_count": null,
      "outputs": []
    },
    {
      "cell_type": "code",
      "metadata": {
        "colab": {
          "base_uri": "https://localhost:8080/",
          "height": 35
        },
        "id": "Xi4zevDYqxF8",
        "outputId": "7403e072-38ba-42ad-dbb6-210cf79ac522"
      },
      "source": [
        "# rersult for hypothesis: and premise:\n",
        "\n",
        "tensor([    3,   837, 20734, 19197,   412, 10998, 14371, 22508,  5266, 27441],\n",
        "       device='cuda:0')\n",
        "tensor([0.8954, 0.8245, 0.8213, 0.8035, 0.7849, 0.7841, 0.7839, 0.7754, 0.7752,\n",
        "        0.7711], device='cuda:0')\n",
        "\n",
        "tensor([ 7163, 31510, 23480, 20998, 24788, 24750, 29156, 30913, 21323, 31178],\n",
        "       device='cuda:0')\n",
        "tensor([0.8421, 0.8205, 0.7517, 0.7464, 0.7190, 0.7179, 0.7167, 0.7037, 0.7025,\n",
        "        0.7017], device='cuda:0')\n",
        "\n",
        "tensor([18616, 19218, 14607, 28369, 13373, 15850, 20864, 27826, 30620,  7362],\n",
        "       device='cuda:0')\n",
        "tensor([0.9898, 0.9870, 0.9808, 0.9801, 0.9771, 0.9762, 0.9728, 0.9526, 0.9467,\n",
        "        0.9428], device='cuda:0')"
      ],
      "execution_count": null,
      "outputs": [
        {
          "output_type": "execute_result",
          "data": {
            "application/vnd.google.colaboratory.intrinsic+json": {
              "type": "string"
            },
            "text/plain": [
              "'lipsa deloc nimeniabsoluaucune niciunsadlypathetictermeni nimic'"
            ]
          },
          "metadata": {
            "tags": []
          },
          "execution_count": 134
        }
      ]
    },
    {
      "cell_type": "code",
      "metadata": {
        "colab": {
          "base_uri": "https://localhost:8080/",
          "height": 151,
          "referenced_widgets": [
            "3acbcf93e7e9468ca54a3a2bf00ce615",
            "4cfb9920ca204655a091b6ca2f887c24",
            "83440b68f2554392859eacf2544fc386",
            "fbb9c645720649ec94330a4733594a1d",
            "1b8260ad57d042acb8be1b3cc2255839",
            "9d004bde0c4d49fcb2e46f087e7e9396",
            "d8a68a5edd5b4379b19889b8bd19105b",
            "3ac7f55a26f94803aa99dc3c3c796e4f"
          ]
        },
        "id": "QAuYTHdArz44",
        "outputId": "44b54c59-7b51-4556-fbda-9110ef3ba551"
      },
      "source": [
        "from tqdm import tqdm_notebook\n",
        "import numpy as np\n",
        "import torch.nn.functional as F\n",
        "num_right = 0\n",
        "ent_count = 0\n",
        "contr_count = 0\n",
        "neutral_count = 0\n",
        "\n",
        "ent_amount = 0\n",
        "neutral_amount =0 \n",
        "contr_amount = 0\n",
        "with torch.no_grad():\n",
        "  for i, mnli_instance in enumerate(tqdm_notebook(testloader)):\n",
        "\n",
        "      text = \"hypothesis: \" + mnli_instance[\"hypothesis\"][0] + \" premise: \" + mnli_instance[\"premise\"][0] \n",
        "      input_ids = tokenizer.encode(text,return_tensors=\"pt\").cuda()\n",
        "      logits = F.softmax(model(input_ids=input_ids,decoder_input_ids =torch.tensor([[0]]).cuda()).logits[:,-1,:])\n",
        "      label = torch.argmax(torch.cat([logits[:,1120]/2.834065510211327e-07, logits[:,7163]/1.035108953294475,logits[:,27252]/1.0598568164649003]))\n",
        "      ent_count+=logits[:,1120].item()\n",
        "      neutral_count+=logits[:,7163].item()\n",
        "      contr_count+=logits[:,27252].item()\n",
        "      if mnli_instance[\"label\"]==0:\n",
        "        ent_amount+=1\n",
        "      if mnli_instance[\"label\"]==1:\n",
        "        neutral_amount+=1\n",
        "      if mnli_instance[\"label\"]==2:\n",
        "        contr_amount+=1\n",
        "      #if logits[:,28722] > 0 or logits[:,7163] > 0 or logits[:,27252] > 0:\n",
        "      #  print(\"trulll\")\n",
        "      \n",
        "      if label.cpu() == mnli_instance[\"label\"]:\n",
        "          num_right+=1\n",
        "\n",
        "num_right/test_length "
      ],
      "execution_count": null,
      "outputs": [
        {
          "output_type": "stream",
          "text": [
            "/usr/local/lib/python3.7/dist-packages/ipykernel_launcher.py:13: TqdmDeprecationWarning: This function will be removed in tqdm==5.0.0\n",
            "Please use `tqdm.notebook.tqdm` instead of `tqdm.tqdm_notebook`\n",
            "  del sys.path[0]\n"
          ],
          "name": "stderr"
        },
        {
          "output_type": "display_data",
          "data": {
            "application/vnd.jupyter.widget-view+json": {
              "model_id": "3acbcf93e7e9468ca54a3a2bf00ce615",
              "version_minor": 0,
              "version_major": 2
            },
            "text/plain": [
              "HBox(children=(FloatProgress(value=0.0, max=1000.0), HTML(value='')))"
            ]
          },
          "metadata": {
            "tags": []
          }
        },
        {
          "output_type": "stream",
          "text": [
            "/usr/local/lib/python3.7/dist-packages/ipykernel_launcher.py:17: UserWarning: Implicit dimension choice for softmax has been deprecated. Change the call to include dim=X as an argument.\n"
          ],
          "name": "stderr"
        },
        {
          "output_type": "stream",
          "text": [
            "\n"
          ],
          "name": "stdout"
        },
        {
          "output_type": "execute_result",
          "data": {
            "text/plain": [
              "0.855"
            ]
          },
          "metadata": {
            "tags": []
          },
          "execution_count": 51
        }
      ]
    },
    {
      "cell_type": "code",
      "metadata": {
        "id": "ONWAQzCyHbL6"
      },
      "source": [
        "token 1120 funktioniert besser als token 3 für ent, aber nur 0.002 mehr"
      ],
      "execution_count": null,
      "outputs": []
    },
    {
      "cell_type": "code",
      "metadata": {
        "colab": {
          "base_uri": "https://localhost:8080/",
          "height": 35
        },
        "id": "RiO-HQG5wn-T",
        "outputId": "9181fdb7-fce4-4580-9dc7-c6b1304f068a"
      },
      "source": [
        "tokenizer.decode(1120)"
      ],
      "execution_count": null,
      "outputs": [
        {
          "output_type": "execute_result",
          "data": {
            "application/vnd.google.colaboratory.intrinsic+json": {
              "type": "string"
            },
            "text/plain": [
              "'app'"
            ]
          },
          "metadata": {
            "tags": []
          },
          "execution_count": 49
        }
      ]
    },
    {
      "cell_type": "code",
      "metadata": {
        "colab": {
          "base_uri": "https://localhost:8080/"
        },
        "id": "if3iDTUFsmnt",
        "outputId": "19217322-6bcb-45b2-b9ad-0c82a8fb5d59"
      },
      "source": [
        "print(ent_count/ent_amount)\n",
        "print(neutral_count/neutral_amount)\n",
        "print(contr_count/contr_amount)"
      ],
      "execution_count": null,
      "outputs": [
        {
          "output_type": "stream",
          "text": [
            "2.834065510211327e-07\n",
            "1.035108953294475\n",
            "1.0598568164649003\n"
          ],
          "name": "stdout"
        }
      ]
    },
    {
      "cell_type": "code",
      "metadata": {
        "colab": {
          "base_uri": "https://localhost:8080/"
        },
        "id": "PkoQTULX9PRK",
        "outputId": "931cbcd9-6f5f-4e36-ac42-7d2c7feed17d"
      },
      "source": [
        "print(ent_count)\n",
        "print(neutral_count)\n",
        "print(contr_count)"
      ],
      "execution_count": null,
      "outputs": [
        {
          "output_type": "stream",
          "text": [
            "9.664163389820624e-05\n",
            "330.1997561009375\n",
            "360.3513175980661\n"
          ],
          "name": "stdout"
        }
      ]
    },
    {
      "cell_type": "code",
      "metadata": {
        "id": "-GZ6GqCjsFWE"
      },
      "source": [
        "# prediction nicht darauf basieren, welcher token höhere normalisierte wkeit hat, sondern ob er in einer instanz höher oder niedriger wie der durchschnittswert von diesem token ist\n",
        "\n",
        "#TODO statt summe, bei jeder trainingsinstanz festhalten, ob man mit diesem token richtig predicten würde, wenn ja eins erhöhen"
      ],
      "execution_count": null,
      "outputs": []
    },
    {
      "cell_type": "markdown",
      "metadata": {
        "id": "_MstdNdi31oS"
      },
      "source": [
        "# optimal token\n",
        "\n",
        "sum over the softmax of the outputs for every label. Token that have the highest value have the highest predictability for a class.\n",
        "Problems:\n",
        "- Can be skewed by outliers\n",
        "- Does not imply a scheme to decide which label to choose at testime automatically, but it can be used for normal prediction/ensembles"
      ]
    },
    {
      "cell_type": "code",
      "metadata": {
        "colab": {
          "base_uri": "https://localhost:8080/",
          "height": 168,
          "referenced_widgets": [
            "27cd50f12878478f89a4971573871cfa",
            "67a2b515d2934cd092f849b527f0d1e9",
            "6737f916f237415b966f328e351fef85",
            "8bdf186881d34fe391770f3a195f0889",
            "d2ead05e766949d9a17b8b7b7b98d314",
            "2f236a18e0074b0cb744413bf58c67f7",
            "c97f156add234e95994ba8559776062f",
            "09719f25843c44de9197d8943ec4bf69"
          ]
        },
        "id": "kOYwEUPh37wY",
        "outputId": "22458a57-13c8-4178-c445-8c79e9042cf6"
      },
      "source": [
        "from tqdm import tqdm_notebook\n",
        "import numpy as np\n",
        "import torch.nn.functional as F\n",
        "c=0\n",
        "with torch.no_grad():\n",
        "  sum=torch.tensor([0]*32128).cuda()\n",
        "  for i, mnli_instance in enumerate(tqdm_notebook(dataloader_mnli)):\n",
        "      if not mnli_instance[\"label\"]==2:\n",
        "        continue\n",
        "      c+=1\n",
        "      text = \"question: Which option is right? context: statement 1:\" + mnli_instance[\"hypothesis\"][0] + \" statement 2: \" + mnli_instance[\"premise\"][0] + \"Option 1: statement 2 entails statement 1. Option 2: statement 2 is neutral to statement 1. Option 3: statement 2 contradicts statement 1.\"\n",
        "      input_ids = tokenizer.encode(text,return_tensors=\"pt\").cuda()\n",
        "      logits = F.softmax(model(input_ids=input_ids,decoder_input_ids =torch.tensor([[0]]).cuda()).logits[:,-1,:])\n",
        "      sum = sum + logits\n",
        "\n",
        "c"
      ],
      "execution_count": null,
      "outputs": [
        {
          "output_type": "stream",
          "text": [
            "/usr/local/lib/python3.7/dist-packages/ipykernel_launcher.py:7: TqdmDeprecationWarning: This function will be removed in tqdm==5.0.0\n",
            "Please use `tqdm.notebook.tqdm` instead of `tqdm.tqdm_notebook`\n",
            "  import sys\n"
          ],
          "name": "stderr"
        },
        {
          "output_type": "display_data",
          "data": {
            "application/vnd.jupyter.widget-view+json": {
              "model_id": "27cd50f12878478f89a4971573871cfa",
              "version_minor": 0,
              "version_major": 2
            },
            "text/plain": [
              "HBox(children=(FloatProgress(value=0.0, max=2000.0), HTML(value='')))"
            ]
          },
          "metadata": {
            "tags": []
          }
        },
        {
          "output_type": "stream",
          "text": [
            "/usr/local/lib/python3.7/dist-packages/ipykernel_launcher.py:13: UserWarning: Implicit dimension choice for softmax has been deprecated. Change the call to include dim=X as an argument.\n",
            "  del sys.path[0]\n"
          ],
          "name": "stderr"
        },
        {
          "output_type": "stream",
          "text": [
            "\n"
          ],
          "name": "stdout"
        },
        {
          "output_type": "execute_result",
          "data": {
            "text/plain": [
              "738"
            ]
          },
          "metadata": {
            "tags": []
          },
          "execution_count": 118
        }
      ]
    },
    {
      "cell_type": "code",
      "metadata": {
        "colab": {
          "base_uri": "https://localhost:8080/"
        },
        "id": "9_Ee0b4945Ug",
        "outputId": "e5908560-cbb3-4b6d-85a5-ebd3971845b9"
      },
      "source": [
        "val,ind = torch.sort(sum,descending=True)\n",
        "val[0,:30]"
      ],
      "execution_count": null,
      "outputs": [
        {
          "output_type": "execute_result",
          "data": {
            "text/plain": [
              "tensor([6.9360e+02, 1.3399e+01, 8.5308e+00, 4.6559e+00, 2.4859e+00, 1.4106e+00,\n",
              "        1.3261e+00, 1.1863e+00, 1.1552e+00, 9.1381e-01, 8.9107e-01, 6.6692e-01,\n",
              "        4.4322e-01, 3.7178e-01, 3.4229e-01, 3.1519e-01, 2.8108e-01, 2.5090e-01,\n",
              "        1.3439e-01, 1.0023e-01, 8.6486e-02, 8.3883e-02, 8.2752e-02, 8.1493e-02,\n",
              "        8.0539e-02, 7.1429e-02, 6.8011e-02, 6.7271e-02, 6.5737e-02, 6.0895e-02],\n",
              "       device='cuda:0')"
            ]
          },
          "metadata": {
            "tags": []
          },
          "execution_count": 117
        }
      ]
    },
    {
      "cell_type": "code",
      "metadata": {
        "colab": {
          "base_uri": "https://localhost:8080/",
          "height": 35
        },
        "id": "mr8XiEpdjezj",
        "outputId": "4fb07e7d-990b-45fc-8542-c1ef94bf2f64"
      },
      "source": [
        "tokenizer.decode([10231,  1182,  2493,     3,    59, 16836,   209, 10998, 13745, 17011,\n",
        "         1160,   204, 10747,   933,   220, 13661, 20592, 13643,  1877,   931,\n",
        "         9546,  1980,  3025,     8,   314,  6864,  1845, 19197,  1682,    96])"
      ],
      "execution_count": null,
      "outputs": [
        {
          "output_type": "execute_result",
          "data": {
            "application/vnd.google.colaboratory.intrinsic+json": {
              "type": "string"
            },
            "text/plain": [
              "'Option option statement  not Statement 1 True Choice Options choice 2 Fal Not 3 Alternative Accept accepting 3. optionsOpti Ad Form the 4 2.0 accept duplicate 2. \"'"
            ]
          },
          "metadata": {
            "tags": []
          },
          "execution_count": 116
        }
      ]
    },
    {
      "cell_type": "markdown",
      "metadata": {
        "id": "MEfcDAZB7GBy"
      },
      "source": [
        "## Results"
      ]
    },
    {
      "cell_type": "code",
      "metadata": {
        "id": "MVHVcbLtkH1T"
      },
      "source": [
        "# tokens, that have the hightest predictability for contradiction , using the prompt \"question: Which option is right? context: statement 1:\" + mnli_instance[\"hypothesis\"][0] + \" statement 2: \" + mnli_instance[\"premise\"][0] + \"Option 1: statement 2 entails statement 1. Option 2: statement 2 is neutral to statement 1. Option 3: statement 2 contradicts statement 1.\"\n",
        "\n",
        "[6.9360e+02, 1.3399e+01, 8.5308e+00, 4.6559e+00, 2.4859e+00, 1.4106e+00,\n",
        "        1.3261e+00, 1.1863e+00, 1.1552e+00, 9.1381e-01, 8.9107e-01, 6.6692e-01,\n",
        "        4.4322e-01, 3.7178e-01, 3.4229e-01, 3.1519e-01, 2.8108e-01, 2.5090e-01,\n",
        "        1.3439e-01, 1.0023e-01, 8.6486e-02, 8.3883e-02, 8.2752e-02, 8.1493e-02,\n",
        "        8.0539e-02, 7.1429e-02, 6.8011e-02, 6.7271e-02, 6.5737e-02, 6.0895e-02]\n",
        "\n",
        "[10231,  1182,  2493,     3,    59, 16836,   209, 10998, 13745, 17011,\n",
        "         1160,   204, 10747,   933,   220, 13661, 20592, 13643,  1877,   931,\n",
        "         9546,  1980,  3025,     8,   314,  6864,  1845, 19197,  1682,    96]\n",
        "\n",
        "Option option statement  not Statement 1 True Choice Options choice 2 Fal Not 3 Alternative Accept accepting 3. optionsOpti Ad Form the 4 2.0 accept duplicate 2. \""
      ],
      "execution_count": null,
      "outputs": []
    },
    {
      "cell_type": "code",
      "metadata": {
        "id": "yh4A3lnGjp8e"
      },
      "source": [
        "# tokens, that have the hightest predictability for neutral , using the prompt \"question: Which option is right? context: statement 1:\" + mnli_instance[\"hypothesis\"][0] + \" statement 2: \" + mnli_instance[\"premise\"][0] + \"Option 1: statement 2 entails statement 1. Option 2: statement 2 is neutral to statement 1. Option 3: statement 2 contradicts statement 1.\"\n",
        "\n",
        "[5.4008e+02, 9.7588e+00, 5.4749e+00, 3.6816e+00, 2.4181e+00, 1.1448e+00,\n",
        "        1.0622e+00, 9.9868e-01, 9.0435e-01, 7.3559e-01, 6.0602e-01, 5.3170e-01,\n",
        "        4.2433e-01, 3.3210e-01, 2.9439e-01, 2.5050e-01, 1.2508e-01, 7.7386e-02,\n",
        "        6.8835e-02, 6.8521e-02, 6.5546e-02, 6.4109e-02, 6.1281e-02, 5.4061e-02,\n",
        "        4.9999e-02, 4.6036e-02, 4.3535e-02, 4.2350e-02, 3.9841e-02, 3.9697e-02]\n",
        "\n",
        "[10231,  1182,  2493,     3,    59, 10998,   209, 16836, 13745, 17011,\n",
        "         1160,   204, 10747,   933,   220, 13661,  1877,   931,  3025,  9546,\n",
        "          314,  6864,     8,  1682, 19197,    96,  5150,  4495,   505,  1300]\n",
        "\n",
        "Option option statement  not True 1 Statement Choice Options choice 2 Fal Not 3 Alternative 3. options FormOpti 4 2.0 the 2. duplicate \" Standard Op 8 1."
      ],
      "execution_count": null,
      "outputs": []
    },
    {
      "cell_type": "code",
      "metadata": {
        "id": "hcKFx6UDjQrA"
      },
      "source": [
        "# tokens, that have the hightest predictability for entailement , using the prompt \"question: Which option is right? context: statement 1:\" + mnli_instance[\"hypothesis\"][0] + \" statement 2: \" + mnli_instance[\"premise\"][0] + \"Option 1: statement 2 entails statement 1. Option 2: statement 2 is neutral to statement 1. Option 3: statement 2 contradicts statement 1.\"\n",
        "\n",
        "tensor([6.3083e+02, 1.5783e+01, 1.1896e+01, 6.4135e+00, 5.9178e+00, 2.1455e+00,\n",
        "        1.6830e+00, 1.5822e+00, 1.1003e+00, 1.0337e+00, 8.5550e-01, 8.3769e-01,\n",
        "        5.5800e-01, 5.0037e-01, 4.4049e-01, 4.0003e-01, 3.1413e-01, 2.0547e-01,\n",
        "        1.1852e-01, 1.1674e-01, 9.6514e-02, 9.6447e-02, 9.6174e-02, 9.4598e-02,\n",
        "        7.9170e-02, 7.9038e-02, 6.8018e-02, 6.6029e-02, 5.9195e-02, 5.8820e-02],\n",
        "[10231,  1182,  2493,     3,    59,   209, 16836, 10998, 13745,  1160,\n",
        "        17011,   204, 10747,   933, 19197,   220, 13661,  1877,  6864,   931,\n",
        "         3025,     8,  1682,   314,  9546,  1300,    96,  8613,  4495,  5150]\n",
        "       \n",
        "Option option statement  not 1 Statement True Choice choice Options 2 Fal Not duplicate 3 Alternative 3. 2.0 options Form the 2. 4Opti 1. \" 1.5 Op Standard"
      ],
      "execution_count": null,
      "outputs": []
    },
    {
      "cell_type": "code",
      "metadata": {
        "id": "uut09e6NjQ0J"
      },
      "source": [
        ""
      ],
      "execution_count": null,
      "outputs": []
    },
    {
      "cell_type": "code",
      "metadata": {
        "id": "xKMD1LFX-HFM"
      },
      "source": [
        "# tokens, that have the hightest predictability for contradiction , using the prompt hypothesis: and premise:\n",
        "tensor([3.3714e+03, 2.4327e+02, 7.0882e+01, 9.6478e-02, 2.6534e-02, 1.8580e-02,\n",
        "        8.5092e-03, 7.7647e-03, 6.2826e-03, 6.2697e-03, 4.5502e-03, 4.2940e-03,\n",
        "        4.1223e-03, 3.8738e-03, 3.6271e-03, 3.6002e-03, 3.4849e-03, 3.3956e-03,\n",
        "        3.0399e-03, 3.0029e-03, 2.9057e-03, 2.8247e-03, 2.7409e-03, 2.4622e-03,\n",
        "        2.3603e-03, 2.3394e-03, 2.3237e-03, 2.2855e-03, 2.2481e-03, 2.1406e-03],\n",
        "       device='cuda:0')\n",
        "\n",
        "tensor([27252,  7163,     3,    59, 10747,   206,   150,     6,  2841,  4486,\n",
        "           96,  1877,   673,    16,  1465,   105,     5,  6864,    29, 10998,\n",
        "        32095,    18,     1,    20, 32097,   209, 32081, 32093,   220,    41],"
      ],
      "execution_count": null,
      "outputs": []
    },
    {
      "cell_type": "code",
      "metadata": {
        "id": "p-k92fDF7bq8"
      },
      "source": [
        "# tokens, that have the hightest predictability for neutral , using the prompt hypothesis: and premise:\n",
        "tensor([2.4199e+03, 2.5138e+02, 2.3008e+02, 8.5957e-02, 1.5929e-02, 1.4471e-02,\n",
        "        9.1645e-03, 8.6295e-03, 8.2422e-03, 7.5573e-03, 7.1725e-03, 6.8706e-03,\n",
        "        5.9860e-03, 5.7899e-03, 5.2757e-03, 4.6894e-03, 4.5944e-03, 4.3452e-03,\n",
        "        4.3294e-03, 4.2805e-03, 4.1815e-03, 4.1676e-03, 4.0946e-03, 3.9254e-03,\n",
        "        3.6068e-03, 3.2053e-03, 3.1196e-03, 3.0914e-03, 2.9854e-03, 2.8490e-03],\n",
        "       device='cuda:0')\n",
        "\n",
        "tensor([ 7163, 27252,     3,    59, 10747,  1465,  2841,  1877,     6,    96,\n",
        "           16, 10998,   220,   673,  6864,    20,   105, 32097,     5,   204,\n",
        "         4486,   209,     1, 32095, 32081, 19197,    18, 32093,   126, 32078],\n",
        "       device='cuda:0')"
      ],
      "execution_count": null,
      "outputs": []
    },
    {
      "cell_type": "code",
      "metadata": {
        "id": "oAifBEVx7BHH"
      },
      "source": [
        "# tokens, that have the hightest predictability for entailment, using the prompt hypothesis: and premise:\n",
        "\n",
        "tensor([2.9324e+03, 3.4392e+02, 1.3448e+02, 9.1153e-02, 3.6827e-02, 3.3527e-02,\n",
        "        3.1646e-02, 2.5204e-02, 2.0629e-02, 1.9164e-02, 1.7800e-02, 1.5784e-02,\n",
        "        1.3746e-02, 1.3442e-02, 1.3244e-02, 1.3197e-02, 1.2865e-02, 1.1811e-02,\n",
        "        1.1616e-02, 1.1422e-02, 9.4241e-03, 8.9763e-03, 8.6653e-03, 8.1657e-03,\n",
        "        8.0583e-03, 7.8613e-03, 7.8076e-03, 7.7779e-03, 7.3928e-03, 7.1338e-03],\n",
        "       device='cuda:0')\n",
        "tensor([    3,  7163, 27252,    59, 10998,  1877,     6, 19197,  6864,    16,\n",
        "            5,    96,   220,    20,   673,     1, 32097, 32095, 10747, 32081,\n",
        "          105, 32078, 32093,   204,    18, 12681,  1465,  8724, 32080,   209],\n",
        "       device='cuda:0')"
      ],
      "execution_count": null,
      "outputs": []
    },
    {
      "cell_type": "code",
      "metadata": {
        "id": "yw0IRMzx__P4"
      },
      "source": [
        "#using labels 10998/1465/206 we get acc of 0.835(noramlizer, without normalization its 0.825)\n",
        "\n",
        "# mit 19197/1465/206 sogar acc von 0.8425 (habe ich so ausgewählt, dass es hohe wahrscheinlichkeit für entailment hat, aber niedrige für contradiction/neutral)\n",
        "\n",
        "# mit \"\"/neutral/contradiction bekommt man acc von 0.8625"
      ],
      "execution_count": null,
      "outputs": []
    },
    {
      "cell_type": "markdown",
      "metadata": {
        "id": "p-5M8UMXM7L4"
      },
      "source": [
        "# Prediction token ensemble\n",
        "multiple tokens are defined correspond to a class. Sum over the prob of those tokens and then choose the label, for which the ensemble has the highest prob."
      ]
    },
    {
      "cell_type": "code",
      "metadata": {
        "colab": {
          "base_uri": "https://localhost:8080/"
        },
        "id": "W5BRT63ROP4R",
        "outputId": "9ad3716f-04f1-4601-d340-ce6c28fb83b9"
      },
      "source": [
        "#TODO nicht einfach die token zusammenzählen, sondern für jeden token aussrechnen, wie stark er zu einem label tendiert. Die token, die dnan einen hohen bias haben, sollte man als label nehmen"
      ],
      "execution_count": null,
      "outputs": [
        {
          "output_type": "execute_result",
          "data": {
            "text/plain": [
              "0.16666666666666666"
            ]
          },
          "metadata": {
            "tags": []
          },
          "execution_count": 82
        }
      ]
    },
    {
      "cell_type": "code",
      "metadata": {
        "colab": {
          "base_uri": "https://localhost:8080/",
          "referenced_widgets": [
            "ce7692d25b374efea77823388a43eab7",
            "5c5f1d34a8de4a5492feb2f7fffeee2a",
            "06c32c0c89554864b7e01111d69b106d",
            "42a0333674ed4f599dc82deb0b234d66",
            "5e1c044df52b454d9245329487c5035b",
            "b241c9473fe74c4d9dc34e1764ee1a08",
            "993b34fc72cf40bd89d0a5aa578274c9",
            "d714b7ee746843a3bf6e556fc728be23"
          ]
        },
        "id": "MlIUeW4aM_T7",
        "outputId": "2a9b9feb-6bda-4445-9512-748af34c8594"
      },
      "source": [
        "#die summe hängt davon ab, wie viele labels es im datensatz gab-> also TODO durch Anzahl teilen\n",
        "\n",
        "token_indices = [3,7163,27252,59,10998,1877]\n",
        "ent_probs = np.array([2.9324e+03,3.4392e+02,1.3448e+02,9.1153e-02,3.6827e-02,3.3527e-02])\n",
        "neutral_probs = np.array([2.3008e+02,2.4199e+03,2.5138e+02,8.5957e-02,6.8706e-03,8.6295e-03])\n",
        "contr_probs = np.array([ 7.0882e+01,2.4327e+02,3.3714e+03,9.6478e-02,3.0029e-03,4.2940e-03])\n",
        "\n",
        "sum = ent_probs + neutral_probs + contr_probs\n",
        "\n",
        "for i, element in enumerate(sum):\n",
        "  ent_probs[i] = ent_probs[i] / sum[i]\n",
        "  neutral_probs[i] = neutral_probs[i] / sum[i]\n",
        "  contr_probs[i] = contr_probs[i] / sum[i]\n",
        "\n",
        "print(ent_probs)\n",
        "print(neutral_probs)\n",
        "print(contr_probs)\n",
        "\n",
        "from tqdm import tqdm_notebook\n",
        "import numpy as np\n",
        "import torch.nn.functional as F\n",
        "num_right = 0\n",
        "\n",
        "\n",
        "ent_amount = 0\n",
        "with torch.no_grad():\n",
        "  for i, mnli_instance in enumerate(tqdm_notebook(testloader)):\n",
        "\n",
        "      text = \"hypothesis: \" + mnli_instance[\"hypothesis\"][0] + \" premise: \" + mnli_instance[\"premise\"][0]\n",
        "      input_ids = tokenizer.encode(text,return_tensors=\"pt\").cuda()\n",
        "      logits = F.softmax(model(input_ids=input_ids,decoder_input_ids =torch.tensor([[0]]).cuda()).logits[:,-1,:])\n",
        "      probs = torch.cat([logits[:,3]/sum[0], logits[:,7163]/sum[1],logits[:,27252]/sum[2],logits[:,59]/sum[3],logits[:,10998]/sum[4],logits[:,1877]/sum[5]]).cpu().numpy()\n",
        "\n",
        "      label = np.argmax([np.sum(ent_probs*probs), np.sum(neutral_probs*probs),np.sum(contr_probs*probs)])\n",
        "      \n",
        "      if label == mnli_instance[\"label\"]:\n",
        "          num_right+=1\n",
        "\n",
        "num_right/1000"
      ],
      "execution_count": null,
      "outputs": [
        {
          "output_type": "stream",
          "text": [
            "[0.90691979 0.11436971 0.03579204 0.33317616 0.78857828 0.7217791 ]\n",
            "[0.07115813 0.80473148 0.06690514 0.3141841  0.14712048 0.18577841]\n",
            "[0.02192207 0.08089881 0.89730282 0.35263974 0.06430124 0.09244249]\n"
          ],
          "name": "stdout"
        },
        {
          "output_type": "stream",
          "text": [
            "/usr/local/lib/python3.7/dist-packages/ipykernel_launcher.py:25: TqdmDeprecationWarning: This function will be removed in tqdm==5.0.0\n",
            "Please use `tqdm.notebook.tqdm` instead of `tqdm.tqdm_notebook`\n"
          ],
          "name": "stderr"
        },
        {
          "output_type": "display_data",
          "data": {
            "application/vnd.jupyter.widget-view+json": {
              "model_id": "ce7692d25b374efea77823388a43eab7",
              "version_minor": 0,
              "version_major": 2
            },
            "text/plain": [
              "HBox(children=(FloatProgress(value=0.0, max=1000.0), HTML(value='')))"
            ]
          },
          "metadata": {
            "tags": []
          }
        },
        {
          "output_type": "stream",
          "text": [
            "/usr/local/lib/python3.7/dist-packages/ipykernel_launcher.py:29: UserWarning: Implicit dimension choice for softmax has been deprecated. Change the call to include dim=X as an argument.\n"
          ],
          "name": "stderr"
        },
        {
          "output_type": "stream",
          "text": [
            "\n"
          ],
          "name": "stdout"
        },
        {
          "output_type": "execute_result",
          "data": {
            "text/plain": [
              "0.91"
            ]
          },
          "metadata": {
            "tags": []
          },
          "execution_count": 98
        }
      ]
    },
    {
      "cell_type": "code",
      "metadata": {
        "colab": {
          "base_uri": "https://localhost:8080/"
        },
        "id": "baKn3ltTWkt5",
        "outputId": "cab5f641-1307-4f56-ceb6-b3fd9acd9f47"
      },
      "source": [
        "num_right/1000"
      ],
      "execution_count": null,
      "outputs": [
        {
          "output_type": "execute_result",
          "data": {
            "text/plain": [
              "0.91"
            ]
          },
          "metadata": {
            "tags": []
          },
          "execution_count": 99
        }
      ]
    },
    {
      "cell_type": "markdown",
      "metadata": {
        "id": "gNv8v8Oz7BjG"
      },
      "source": [
        "# New Section"
      ]
    },
    {
      "cell_type": "code",
      "metadata": {
        "colab": {
          "base_uri": "https://localhost:8080/",
          "height": 168,
          "referenced_widgets": [
            "e3ba7d31d30e44b0b33efb53b9163203",
            "e20d857e2dd642f3b70ecda5809d3118",
            "39b9987a36a645ef9a9ecbf5f9f94553",
            "bc0b61c587c04f5f9dc2b28b8ac75ab6",
            "b1914237e88b4ef9918d610696a1274c",
            "d20ac3301f274657a9d49d3f47c21028",
            "f2144b49bbc144f0a30b9bbd5f207b75",
            "a3714f1f12f8419884786ecf43d37e50"
          ]
        },
        "id": "qbRuc4tYyZbJ",
        "outputId": "cb8332ca-0677-4fb4-a274-4117f9521a0f"
      },
      "source": [
        "from tqdm import tqdm_notebook\n",
        "import numpy as np\n",
        "import torch.nn.functional as F\n",
        "num_right = 0\n",
        "ent_count = 0\n",
        "contr_count = 0\n",
        "neutral_count = 0\n",
        "\n",
        "ent_amount = 0\n",
        "with torch.no_grad():\n",
        "  for i, mnli_instance in enumerate(tqdm_notebook(testloader)):\n",
        "      #if i>10:\n",
        "      #    break\n",
        "      text = \"hypothesis: \" + mnli_instance[\"hypothesis\"][0] + \" premise: \" + mnli_instance[\"premise\"][0]\n",
        "      input_ids = tokenizer.encode(text,return_tensors=\"pt\").cuda()\n",
        "      logits = F.softmax(model(input_ids=input_ids,decoder_input_ids =torch.tensor([[0]]).cuda()).logits[:,-1,:])\n",
        "      label = torch.argmax(torch.cat([logits[:,3]/127.06241788802072, logits[:,7163]/132.48345818141024,logits[:,27252]/140.3532877736361]))\n",
        "      ent_count+=logits[:,3].item()\n",
        "      neutral_count+=logits[:,7163].item()\n",
        "      contr_count+=logits[:,27252].item()\n",
        "      if label==0:\n",
        "        #print(logits[:,3].item())\n",
        "        #print(logits[:,7163].item())\n",
        "        #print(logits[:,27252].item())\n",
        "        #print()\n",
        "        ent_amount+=1\n",
        "      #if logits[:,28722] > 0 or logits[:,7163] > 0 or logits[:,27252] > 0:\n",
        "      #  print(\"trulll\")\n",
        "      \n",
        "      if label.cpu() == mnli_instance[\"label\"]:\n",
        "          num_right+=1\n",
        "\n",
        "num_right/400\n",
        "\n"
      ],
      "execution_count": null,
      "outputs": [
        {
          "output_type": "stream",
          "text": [
            "/usr/local/lib/python3.7/dist-packages/ipykernel_launcher.py:11: TqdmDeprecationWarning: This function will be removed in tqdm==5.0.0\n",
            "Please use `tqdm.notebook.tqdm` instead of `tqdm.tqdm_notebook`\n",
            "  # This is added back by InteractiveShellApp.init_path()\n"
          ],
          "name": "stderr"
        },
        {
          "output_type": "display_data",
          "data": {
            "application/vnd.jupyter.widget-view+json": {
              "model_id": "e3ba7d31d30e44b0b33efb53b9163203",
              "version_minor": 0,
              "version_major": 2
            },
            "text/plain": [
              "HBox(children=(FloatProgress(value=0.0, max=400.0), HTML(value='')))"
            ]
          },
          "metadata": {
            "tags": []
          }
        },
        {
          "output_type": "stream",
          "text": [
            "/usr/local/lib/python3.7/dist-packages/ipykernel_launcher.py:16: UserWarning: Implicit dimension choice for softmax has been deprecated. Change the call to include dim=X as an argument.\n",
            "  app.launch_new_instance()\n"
          ],
          "name": "stderr"
        },
        {
          "output_type": "stream",
          "text": [
            "\n"
          ],
          "name": "stdout"
        },
        {
          "output_type": "execute_result",
          "data": {
            "text/plain": [
              "0.8625"
            ]
          },
          "metadata": {
            "tags": []
          },
          "execution_count": 55
        }
      ]
    },
    {
      "cell_type": "code",
      "metadata": {
        "colab": {
          "base_uri": "https://localhost:8080/"
        },
        "id": "P2cZLqNXL2Z7",
        "outputId": "569dd742-92df-4c67-ce30-3a609e0a941d"
      },
      "source": [
        "print(ent_count)\n",
        "print(neutral_count)\n",
        "print(contr_count)"
      ],
      "execution_count": null,
      "outputs": [
        {
          "output_type": "stream",
          "text": [
            "127.06241788802072\n",
            "132.48345818141024\n",
            "140.3532877736361\n"
          ],
          "name": "stdout"
        }
      ]
    },
    {
      "cell_type": "code",
      "metadata": {
        "colab": {
          "base_uri": "https://localhost:8080/"
        },
        "id": "TSFovrxR4zqr",
        "outputId": "0d9356f9-ed76-4df1-8276-7d18babfa830"
      },
      "source": [
        "ent_count"
      ],
      "execution_count": null,
      "outputs": [
        {
          "output_type": "execute_result",
          "data": {
            "text/plain": [
              "341"
            ]
          },
          "metadata": {
            "tags": []
          },
          "execution_count": 49
        }
      ]
    },
    {
      "cell_type": "code",
      "metadata": {
        "colab": {
          "base_uri": "https://localhost:8080/"
        },
        "id": "85QCxm4s9_C4",
        "outputId": "d02a3380-7a2d-4e4f-db31-03fad13f0df7"
      },
      "source": [
        "contr_count"
      ],
      "execution_count": null,
      "outputs": [
        {
          "output_type": "execute_result",
          "data": {
            "text/plain": [
              "340"
            ]
          },
          "metadata": {
            "tags": []
          },
          "execution_count": 48
        }
      ]
    },
    {
      "cell_type": "code",
      "metadata": {
        "id": "uEbgtgptzgI_",
        "colab": {
          "base_uri": "https://localhost:8080/",
          "height": 117,
          "referenced_widgets": [
            "c7f6969e8370467b864ae42153259de9",
            "87c2cf767bb745bfbf918989c4483e59",
            "58f80696e0e34a91aae529ed3448ee76",
            "36d74681353a4cf0b0743852e49614ac",
            "009c5db1827642228790e2e93d6b70ea",
            "2504610603a647ef9ff989bcfd0acf65",
            "0c3b825fd8d44d8199393429e3a69574",
            "a07dc285fe8a41c0a4dd1213989b7ed4"
          ]
        },
        "outputId": "975e8a0e-893d-4294-abbd-a9b87ee8c815"
      },
      "source": [
        "from tqdm import tqdm_notebook\n",
        "#TDOD change again to premise, hypothesis instead of the other way around\n",
        "accuracies = dict.fromkeys(prompts[0] , 0)\n",
        "accuracies = {x: dict.fromkeys(prompts[1] , 0) for x in accuracies}\n",
        "for key,value in accuracies.items():\n",
        "  accuracies[key] =  {x: dict.fromkeys(prompts[2] , 0) for x in value}\n",
        "for key,value in accuracies.items():\n",
        "  for key2,value2 in value.items():\n",
        "    accuracies[key][key2] =  {x: dict.fromkeys(prompts[3] , 0) for x in value2}\n",
        "\n",
        "len_ent = 0\n",
        "len_neu = 0\n",
        "len_contr = 0\n",
        "\n",
        "counter = 0 \n",
        "\n",
        "for i, mnli_instance in enumerate(tqdm_notebook(dataloader_mnli)):\n",
        "      for q,trigger in enumerate(prompts[0]):\n",
        "        for j,X in enumerate(prompts[1]):\n",
        "          for k,Y in enumerate(prompts[2]):\n",
        "            for l,Z in enumerate(prompts[3]):\n",
        "              hypothesis = mnli_instance[\"hypothesis\"][0]\n",
        "            \n",
        "\n",
        "              premise = mnli_instance[\"premise\"][0]\n",
        "\n",
        "              \n",
        "              \n",
        "              counter+=1\n",
        "              text = trigger + X + \"Humans are basketballs. Or  \"+  hypothesis + Y + premise + Z\n",
        "              input_ids = tokenizer.encode(text,return_tensors=\"pt\").cuda()\n",
        "              label = tokenizer.decode(model.generate(input_ids,num_beams=3)[0],skip_special_tokens=True)\n",
        "              if label == \"entailment\":\n",
        "                len_ent +=len(hypothesis)/len(premise) \n",
        "                label = 0\n",
        "              elif label == \"neutral\":\n",
        "                len_neu+= len(hypothesis)/len(premise) \n",
        "                label = 1\n",
        "              elif label == \"contradiction\":\n",
        "                len_contr+=len(hypothesis)/len(premise) \n",
        "                label = 2\n",
        "\n",
        "              if label == mnli_instance[\"label\"] :#or (label==1 and mnli_instance[\"label\"]==0)\n",
        "                accuracies[trigger][X][Y][Z]+=1\n",
        "\n",
        "\n",
        "\n",
        "accuracies\n",
        "\n",
        "#dict statt list"
      ],
      "execution_count": null,
      "outputs": [
        {
          "output_type": "stream",
          "text": [
            "/usr/local/lib/python3.7/dist-packages/ipykernel_launcher.py:17: TqdmDeprecationWarning: This function will be removed in tqdm==5.0.0\n",
            "Please use `tqdm.notebook.tqdm` instead of `tqdm.tqdm_notebook`\n"
          ],
          "name": "stderr"
        },
        {
          "output_type": "display_data",
          "data": {
            "application/vnd.jupyter.widget-view+json": {
              "model_id": "c7f6969e8370467b864ae42153259de9",
              "version_minor": 0,
              "version_major": 2
            },
            "text/plain": [
              "HBox(children=(FloatProgress(value=0.0, max=400.0), HTML(value='')))"
            ]
          },
          "metadata": {
            "tags": []
          }
        },
        {
          "output_type": "stream",
          "text": [
            "\n"
          ],
          "name": "stdout"
        },
        {
          "output_type": "execute_result",
          "data": {
            "text/plain": [
              "{'': {'Consider the following hypothesis: ': {' premise: ': {'': 212}}}}"
            ]
          },
          "metadata": {
            "tags": []
          },
          "execution_count": 128
        }
      ]
    },
    {
      "cell_type": "code",
      "metadata": {
        "colab": {
          "base_uri": "https://localhost:8080/"
        },
        "id": "IV35WYPz0ZIA",
        "outputId": "5eb16db7-fe7f-44fc-a527-e3269c2e415a"
      },
      "source": [
        "print(len_ent/counter)\n",
        "print(len_neu/counter)\n",
        "print(len_contr/counter)"
      ],
      "execution_count": null,
      "outputs": [
        {
          "output_type": "stream",
          "text": [
            "0.0\n",
            "0.41877066608358887\n",
            "0.24863980975965547\n"
          ],
          "name": "stdout"
        }
      ]
    },
    {
      "cell_type": "code",
      "metadata": {
        "colab": {
          "base_uri": "https://localhost:8080/"
        },
        "id": "njbSlUZPhxAD",
        "outputId": "65033919-28ad-4750-c465-76595dd255a5"
      },
      "source": [
        "import copy\n",
        "accuracies_p = copy.deepcopy(accuracies)\n",
        "\n",
        "for key0,value0 in accuracies_p.items():\n",
        "  for key1,value1 in value0.items() :\n",
        "    for key2,value2 in value1.items() :\n",
        "      for key3,value3 in value2.items():\n",
        "        accuracies_p[key0][key1][key2][key3] = value3/counter#mnli_len\n",
        "\n",
        "accuracies_p\n",
        "\n"
      ],
      "execution_count": null,
      "outputs": [
        {
          "output_type": "execute_result",
          "data": {
            "text/plain": [
              "{'': {'Consider the following hypothesis: ': {' premise: ': {'': 0.53}}}}"
            ]
          },
          "metadata": {
            "tags": []
          },
          "execution_count": 129
        }
      ]
    },
    {
      "cell_type": "markdown",
      "metadata": {
        "id": "SX1J6AUz5iL6"
      },
      "source": [
        "# Results\n",
        "\n",
        "\n",
        "\n",
        "1.   Ohne die trigger premise und hypothesis ist acc random\n",
        "2.   Teilweise haben label eine hohe acc die intuitiv sind. (zb label 1/2/3 vertauscht zu 1/3/2)\n",
        "3.   Man muss die wahrscheinlichkeiten normalisieren bevor man predicted, also teilen durch die wkeitet, dass dieses token im durchschnitt im trainingsset hat(sonst würde zb bei label 1/neutral/2 immer neutral ausgegebene werden)\n",
        "4.   Es gibt andere label die eine hohe acc erzielen:\n",
        "Eines der label kann man frei wählen, ohne dass acc viel weniger wird\n",
        "good=entailment, bad=contradiction hat auch hohe acc, obwohl die labels im strengen Sinne nichts miteinernader zu tun haben"
      ]
    },
    {
      "cell_type": "code",
      "metadata": {
        "id": "YTH7m60Pzogd"
      },
      "source": [
        "\"conclusion: \" + mnli_instance[\"hypothesis\"][0] + \"assumption: \" + mnli_instance[\"premise\"][0]\n",
        "ohne normalizing 52% acc, mit jedoch nur 41%"
      ],
      "execution_count": null,
      "outputs": []
    },
    {
      "cell_type": "code",
      "metadata": {
        "id": "f1NoRVRQuN9F"
      },
      "source": [
        "\"\" + mnli_instance[\"hypothesis\"][0] + \" \" + mnli_instance[\"premise\"][0]\n",
        "\n",
        "auch normalisiert nur 35% acc"
      ],
      "execution_count": null,
      "outputs": []
    },
    {
      "cell_type": "code",
      "metadata": {
        "id": "H0tFhcsL4Pas"
      },
      "source": [
        "interessant, dass ich good=entailment und bad=contradiction gewählt habe, obwohl ja eigentlich nichts inhärent schlechtes an einer contradiciton ist, ist es für mich trd negativ annotiert\n",
        "synoyme oder solche intuitionen für neutral zu finden ist viel schwieriger"
      ],
      "execution_count": null,
      "outputs": []
    },
    {
      "cell_type": "code",
      "metadata": {
        "id": "9a7Paa2ayfKP"
      },
      "source": [
        "\"hypothesis: \" + mnli_instance[\"hypothesis\"][0] + \" premise: \" + mnli_instance[\"premise\"][0]\n",
        "\n",
        "mit label implication/neutral/contradiction hat 80% acc normalized\n",
        "\n",
        "aber mit banana/neutral/contradiction hat es 83% normalized (also wenn sich t5 sicher ist dass es 1 oder 2 ist macht es eines von denen, sonst 0)\n",
        "\n",
        "denn mit banana/apple/contradiciton ist acc bei 0.4 normalized\n",
        "\n",
        "mit implication/neutral/conflict bekommt man 0.35\n",
        "\n",
        "mit implication/banana/conflict bekommt man 0.24, also besser als random nur falsch rum?\n",
        "\n",
        "mit good/neutral/bad bekommt man acc von 79%, normalized!!!\n",
        "\n",
        "mit good/banana/bad bekommt man 51%\n",
        "\n",
        "mit great/neutral/horrible bekommt man 65%\n",
        "\n",
        "mit great/strawberry/horrible bekommt man 52%\n",
        "\n",
        "mit cute/neutral/ugly bekommt man 45%\n",
        "\n",
        "mi cute/whatever/ugly bekommt man 22%,also besser als random aber falsch rum\n",
        "\n",
        "mit good/whatever/bad bekommt man 55%"
      ],
      "execution_count": null,
      "outputs": []
    },
    {
      "cell_type": "code",
      "metadata": {
        "id": "5k8x3IQcweMs"
      },
      "source": [
        "\"question: Which label best describes the relationship between hypothesis and premise? context: hypothesis: \" + mnli_instance[\"hypothesis\"][0] + \" premise\" + mnli_instance[\"premise\"][0] + \"label 1: entailment, label 2 = neutral, label 3 = contradiction\"\n",
        "\n",
        "mit label 1/2/3 gibt 40% acc, schlechter wenn nicht normalisiert"
      ],
      "execution_count": null,
      "outputs": []
    },
    {
      "cell_type": "code",
      "metadata": {
        "id": "7o-HtxglsHVR"
      },
      "source": [
        "\"question: Which label best describes the relationship between statement 1 and statement 2? context: statement 1: \" + mnli_instance[\"hypothesis\"][0] + \" statement 2:\" + mnli_instance[\"premise\"][0] + \"label 1: entailment, label 2 = neutral, label 3 = contradiction\"\n",
        "\n",
        "label \"\"/neutral/contradiction auch normalisiert nur 36%\n",
        "label 1/2/3 auch normalisiert nur 32%"
      ],
      "execution_count": null,
      "outputs": []
    },
    {
      "cell_type": "code",
      "metadata": {
        "id": "ReKBJ_6Pkswq"
      },
      "source": [
        "\"mnli hypothesis:\" + mnli_instance[\"hypothesis\"][0] + \" premise:\" + mnli_instance[\"premise\"][0] also ganz normal mnli\n",
        "\n",
        "wenn man hier als label yes/no/maybe verwendet und bei einer prediction jeweils die wkeit durch die gesammtwkeit, dass dieses label kommt teil, bekommt man 78%\n",
        "\n",
        "man bekommt nur random acc wenn man nicht normalisiert\n",
        "\n",
        "das selbe mit apple/banana/strawberry bekommt 42%, also etwas besser als random?"
      ],
      "execution_count": null,
      "outputs": []
    },
    {
      "cell_type": "code",
      "metadata": {
        "id": "Vt-sh2NjLBKs"
      },
      "source": [
        "\"question: Does the premise entail the hypothesis? context: hypothesis:\" + mnli_instance[\"hypothesis\"][0] + \" premise: \" + mnli_instance[\"premise\"][0] \n",
        "mit label yes(entailment) und no(neutral und contradiction) hat acc von 65%\n",
        "\n",
        "funktioniert auch, wenn man : bei hypotesis weglässt\n",
        "\n",
        "zeigt aber noch nicht viel, da man 66% bekommt, wenn man einfach immer no ausgibt und genau das macht t5 hier auch\n",
        "\n",
        "wenn man aber yes/16 und no/13 teilt(uncond prob), so bekommt man 68% acc und es wird 411 von 1000 mal yes ausgegeben\n",
        "\n",
        "in diesem fall hilt auch hypothesis: ein wenig, dann bekommt man acc von 73%\n",
        "\n",
        "aber hypothesis und premise ganz weglassen führt zu acc von 50%\n",
        "\n",
        "die gesammte frage und kontext weglassen, aber hypothesis und premise stehenlassen hat acc 71%"
      ],
      "execution_count": null,
      "outputs": []
    },
    {
      "cell_type": "code",
      "metadata": {
        "id": "bFc7hR2yGHEy"
      },
      "source": [
        "\"question: Which of the following options best describe the relationship between them? 1. The premise entails the hypothesis. 2. The premise is neutral to the hypothesis. 3. The premise contradicts the hypothesis. context: hypothesis:\" + mnli_instance[\"hypothesis\"][0] + \" premise: \" + mnli_instance[\"premise\"][0] \n",
        "\n",
        "gibt random acc"
      ],
      "execution_count": null,
      "outputs": []
    },
    {
      "cell_type": "code",
      "metadata": {
        "id": "maI5FuPu5lSC"
      },
      "source": [
        "\"Consider the following hypothesis: \" + mnli_instance[\"hypothesis\"][0] + \" Consider the following premise: \" + mnli_instance[\"premise\"][0] + \"Which of the following options best describe the relationship between them? 1. The premise entails the hypothesis. 2. The premise is neutral to the hypothesis. 3. The premise contradicts the hypothesis. \"\n",
        "\n",
        "gibt 16% acc, wenn man als label 1,2,3 nimmt. Wenn man jedoch 1 und 3 label vertauscht bekommt man eine acc von 57%. Also hat T5 darüber etwas gelernt, aber das falsche?\n",
        "\n",
        "kann natürlich sein, dass dataset imbaleneced ist, aber es zeigt sich auch wenn man statt 400 2000 instances nimmt\n",
        "\n",
        "wenn  man triggertoken \"hypothesis:\" weglässt, bekommt man random acc"
      ],
      "execution_count": null,
      "outputs": []
    },
    {
      "cell_type": "code",
      "metadata": {
        "id": "rNx8Zf-j6H0N"
      },
      "source": [
        "TODO: schauen ob aktivierung bei T5 im mnli fall die selben sind wie aktivierungen im qa fall"
      ],
      "execution_count": null,
      "outputs": []
    }
  ]
}