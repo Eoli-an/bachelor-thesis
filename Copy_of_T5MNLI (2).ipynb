{
  "nbformat": 4,
  "nbformat_minor": 0,
  "metadata": {
    "colab": {
      "name": "Copy of T5MNLI.ipynb",
      "provenance": [],
      "collapsed_sections": []
    },
    "kernelspec": {
      "name": "python3",
      "display_name": "Python 3"
    },
    "accelerator": "GPU",
    "widgets": {
      "application/vnd.jupyter.widget-state+json": {
        "0fbfd3e0915343d09d668880fc7f0222": {
          "model_module": "@jupyter-widgets/controls",
          "model_name": "HBoxModel",
          "state": {
            "_view_name": "HBoxView",
            "_dom_classes": [],
            "_model_name": "HBoxModel",
            "_view_module": "@jupyter-widgets/controls",
            "_model_module_version": "1.5.0",
            "_view_count": null,
            "_view_module_version": "1.5.0",
            "box_style": "",
            "layout": "IPY_MODEL_1a0a23b74ea44e49bfb69342583d9aec",
            "_model_module": "@jupyter-widgets/controls",
            "children": [
              "IPY_MODEL_fbd93676107a4b21a3f387c8ceb6fe01",
              "IPY_MODEL_3c2cc412b0a24793be8e4da9c7040e5c"
            ]
          }
        },
        "1a0a23b74ea44e49bfb69342583d9aec": {
          "model_module": "@jupyter-widgets/base",
          "model_name": "LayoutModel",
          "state": {
            "_view_name": "LayoutView",
            "grid_template_rows": null,
            "right": null,
            "justify_content": null,
            "_view_module": "@jupyter-widgets/base",
            "overflow": null,
            "_model_module_version": "1.2.0",
            "_view_count": null,
            "flex_flow": null,
            "width": null,
            "min_width": null,
            "border": null,
            "align_items": null,
            "bottom": null,
            "_model_module": "@jupyter-widgets/base",
            "top": null,
            "grid_column": null,
            "overflow_y": null,
            "overflow_x": null,
            "grid_auto_flow": null,
            "grid_area": null,
            "grid_template_columns": null,
            "flex": null,
            "_model_name": "LayoutModel",
            "justify_items": null,
            "grid_row": null,
            "max_height": null,
            "align_content": null,
            "visibility": null,
            "align_self": null,
            "height": null,
            "min_height": null,
            "padding": null,
            "grid_auto_rows": null,
            "grid_gap": null,
            "max_width": null,
            "order": null,
            "_view_module_version": "1.2.0",
            "grid_template_areas": null,
            "object_position": null,
            "object_fit": null,
            "grid_auto_columns": null,
            "margin": null,
            "display": null,
            "left": null
          }
        },
        "fbd93676107a4b21a3f387c8ceb6fe01": {
          "model_module": "@jupyter-widgets/controls",
          "model_name": "FloatProgressModel",
          "state": {
            "_view_name": "ProgressView",
            "style": "IPY_MODEL_1d5a6e009e874a03a509b0d8b8fae638",
            "_dom_classes": [],
            "description": "Downloading: 100%",
            "_model_name": "FloatProgressModel",
            "bar_style": "success",
            "max": 1429,
            "_view_module": "@jupyter-widgets/controls",
            "_model_module_version": "1.5.0",
            "value": 1429,
            "_view_count": null,
            "_view_module_version": "1.5.0",
            "orientation": "horizontal",
            "min": 0,
            "description_tooltip": null,
            "_model_module": "@jupyter-widgets/controls",
            "layout": "IPY_MODEL_52a6d2ee510749548697eb08bba73275"
          }
        },
        "3c2cc412b0a24793be8e4da9c7040e5c": {
          "model_module": "@jupyter-widgets/controls",
          "model_name": "HTMLModel",
          "state": {
            "_view_name": "HTMLView",
            "style": "IPY_MODEL_bfac864b63714c82be2f1a5008e9dc90",
            "_dom_classes": [],
            "description": "",
            "_model_name": "HTMLModel",
            "placeholder": "​",
            "_view_module": "@jupyter-widgets/controls",
            "_model_module_version": "1.5.0",
            "value": " 1.43k/1.43k [00:00&lt;00:00, 25.4kB/s]",
            "_view_count": null,
            "_view_module_version": "1.5.0",
            "description_tooltip": null,
            "_model_module": "@jupyter-widgets/controls",
            "layout": "IPY_MODEL_1d72e9734b3a410fbd7462797012360f"
          }
        },
        "1d5a6e009e874a03a509b0d8b8fae638": {
          "model_module": "@jupyter-widgets/controls",
          "model_name": "ProgressStyleModel",
          "state": {
            "_view_name": "StyleView",
            "_model_name": "ProgressStyleModel",
            "description_width": "initial",
            "_view_module": "@jupyter-widgets/base",
            "_model_module_version": "1.5.0",
            "_view_count": null,
            "_view_module_version": "1.2.0",
            "bar_color": null,
            "_model_module": "@jupyter-widgets/controls"
          }
        },
        "52a6d2ee510749548697eb08bba73275": {
          "model_module": "@jupyter-widgets/base",
          "model_name": "LayoutModel",
          "state": {
            "_view_name": "LayoutView",
            "grid_template_rows": null,
            "right": null,
            "justify_content": null,
            "_view_module": "@jupyter-widgets/base",
            "overflow": null,
            "_model_module_version": "1.2.0",
            "_view_count": null,
            "flex_flow": null,
            "width": null,
            "min_width": null,
            "border": null,
            "align_items": null,
            "bottom": null,
            "_model_module": "@jupyter-widgets/base",
            "top": null,
            "grid_column": null,
            "overflow_y": null,
            "overflow_x": null,
            "grid_auto_flow": null,
            "grid_area": null,
            "grid_template_columns": null,
            "flex": null,
            "_model_name": "LayoutModel",
            "justify_items": null,
            "grid_row": null,
            "max_height": null,
            "align_content": null,
            "visibility": null,
            "align_self": null,
            "height": null,
            "min_height": null,
            "padding": null,
            "grid_auto_rows": null,
            "grid_gap": null,
            "max_width": null,
            "order": null,
            "_view_module_version": "1.2.0",
            "grid_template_areas": null,
            "object_position": null,
            "object_fit": null,
            "grid_auto_columns": null,
            "margin": null,
            "display": null,
            "left": null
          }
        },
        "bfac864b63714c82be2f1a5008e9dc90": {
          "model_module": "@jupyter-widgets/controls",
          "model_name": "DescriptionStyleModel",
          "state": {
            "_view_name": "StyleView",
            "_model_name": "DescriptionStyleModel",
            "description_width": "",
            "_view_module": "@jupyter-widgets/base",
            "_model_module_version": "1.5.0",
            "_view_count": null,
            "_view_module_version": "1.2.0",
            "_model_module": "@jupyter-widgets/controls"
          }
        },
        "1d72e9734b3a410fbd7462797012360f": {
          "model_module": "@jupyter-widgets/base",
          "model_name": "LayoutModel",
          "state": {
            "_view_name": "LayoutView",
            "grid_template_rows": null,
            "right": null,
            "justify_content": null,
            "_view_module": "@jupyter-widgets/base",
            "overflow": null,
            "_model_module_version": "1.2.0",
            "_view_count": null,
            "flex_flow": null,
            "width": null,
            "min_width": null,
            "border": null,
            "align_items": null,
            "bottom": null,
            "_model_module": "@jupyter-widgets/base",
            "top": null,
            "grid_column": null,
            "overflow_y": null,
            "overflow_x": null,
            "grid_auto_flow": null,
            "grid_area": null,
            "grid_template_columns": null,
            "flex": null,
            "_model_name": "LayoutModel",
            "justify_items": null,
            "grid_row": null,
            "max_height": null,
            "align_content": null,
            "visibility": null,
            "align_self": null,
            "height": null,
            "min_height": null,
            "padding": null,
            "grid_auto_rows": null,
            "grid_gap": null,
            "max_width": null,
            "order": null,
            "_view_module_version": "1.2.0",
            "grid_template_areas": null,
            "object_position": null,
            "object_fit": null,
            "grid_auto_columns": null,
            "margin": null,
            "display": null,
            "left": null
          }
        },
        "e0f196ce4d2146349cb925f5cad89630": {
          "model_module": "@jupyter-widgets/controls",
          "model_name": "HBoxModel",
          "state": {
            "_view_name": "HBoxView",
            "_dom_classes": [],
            "_model_name": "HBoxModel",
            "_view_module": "@jupyter-widgets/controls",
            "_model_module_version": "1.5.0",
            "_view_count": null,
            "_view_module_version": "1.5.0",
            "box_style": "",
            "layout": "IPY_MODEL_ff05083cd7d046aba316efa28aa5ebd5",
            "_model_module": "@jupyter-widgets/controls",
            "children": [
              "IPY_MODEL_0c286cfb60264bbbaec929543beac56f",
              "IPY_MODEL_47108e5b3d7046cfa17847801d10ff77"
            ]
          }
        },
        "ff05083cd7d046aba316efa28aa5ebd5": {
          "model_module": "@jupyter-widgets/base",
          "model_name": "LayoutModel",
          "state": {
            "_view_name": "LayoutView",
            "grid_template_rows": null,
            "right": null,
            "justify_content": null,
            "_view_module": "@jupyter-widgets/base",
            "overflow": null,
            "_model_module_version": "1.2.0",
            "_view_count": null,
            "flex_flow": null,
            "width": null,
            "min_width": null,
            "border": null,
            "align_items": null,
            "bottom": null,
            "_model_module": "@jupyter-widgets/base",
            "top": null,
            "grid_column": null,
            "overflow_y": null,
            "overflow_x": null,
            "grid_auto_flow": null,
            "grid_area": null,
            "grid_template_columns": null,
            "flex": null,
            "_model_name": "LayoutModel",
            "justify_items": null,
            "grid_row": null,
            "max_height": null,
            "align_content": null,
            "visibility": null,
            "align_self": null,
            "height": null,
            "min_height": null,
            "padding": null,
            "grid_auto_rows": null,
            "grid_gap": null,
            "max_width": null,
            "order": null,
            "_view_module_version": "1.2.0",
            "grid_template_areas": null,
            "object_position": null,
            "object_fit": null,
            "grid_auto_columns": null,
            "margin": null,
            "display": null,
            "left": null
          }
        },
        "0c286cfb60264bbbaec929543beac56f": {
          "model_module": "@jupyter-widgets/controls",
          "model_name": "FloatProgressModel",
          "state": {
            "_view_name": "ProgressView",
            "style": "IPY_MODEL_54876a7795d141ea917b54f922030b9c",
            "_dom_classes": [],
            "description": "Downloading: 100%",
            "_model_name": "FloatProgressModel",
            "bar_style": "success",
            "max": 2444714899,
            "_view_module": "@jupyter-widgets/controls",
            "_model_module_version": "1.5.0",
            "value": 2444714899,
            "_view_count": null,
            "_view_module_version": "1.5.0",
            "orientation": "horizontal",
            "min": 0,
            "description_tooltip": null,
            "_model_module": "@jupyter-widgets/controls",
            "layout": "IPY_MODEL_a3e779a8ac7f4227ad19fe8373e634da"
          }
        },
        "47108e5b3d7046cfa17847801d10ff77": {
          "model_module": "@jupyter-widgets/controls",
          "model_name": "HTMLModel",
          "state": {
            "_view_name": "HTMLView",
            "style": "IPY_MODEL_b6e19fd65c2c4f1f838e4ddbd329e332",
            "_dom_classes": [],
            "description": "",
            "_model_name": "HTMLModel",
            "placeholder": "​",
            "_view_module": "@jupyter-widgets/controls",
            "_model_module_version": "1.5.0",
            "value": " 2.44G/2.44G [00:44&lt;00:00, 54.6MB/s]",
            "_view_count": null,
            "_view_module_version": "1.5.0",
            "description_tooltip": null,
            "_model_module": "@jupyter-widgets/controls",
            "layout": "IPY_MODEL_ce835f40361c4bab83bb62b210232fb9"
          }
        },
        "54876a7795d141ea917b54f922030b9c": {
          "model_module": "@jupyter-widgets/controls",
          "model_name": "ProgressStyleModel",
          "state": {
            "_view_name": "StyleView",
            "_model_name": "ProgressStyleModel",
            "description_width": "initial",
            "_view_module": "@jupyter-widgets/base",
            "_model_module_version": "1.5.0",
            "_view_count": null,
            "_view_module_version": "1.2.0",
            "bar_color": null,
            "_model_module": "@jupyter-widgets/controls"
          }
        },
        "a3e779a8ac7f4227ad19fe8373e634da": {
          "model_module": "@jupyter-widgets/base",
          "model_name": "LayoutModel",
          "state": {
            "_view_name": "LayoutView",
            "grid_template_rows": null,
            "right": null,
            "justify_content": null,
            "_view_module": "@jupyter-widgets/base",
            "overflow": null,
            "_model_module_version": "1.2.0",
            "_view_count": null,
            "flex_flow": null,
            "width": null,
            "min_width": null,
            "border": null,
            "align_items": null,
            "bottom": null,
            "_model_module": "@jupyter-widgets/base",
            "top": null,
            "grid_column": null,
            "overflow_y": null,
            "overflow_x": null,
            "grid_auto_flow": null,
            "grid_area": null,
            "grid_template_columns": null,
            "flex": null,
            "_model_name": "LayoutModel",
            "justify_items": null,
            "grid_row": null,
            "max_height": null,
            "align_content": null,
            "visibility": null,
            "align_self": null,
            "height": null,
            "min_height": null,
            "padding": null,
            "grid_auto_rows": null,
            "grid_gap": null,
            "max_width": null,
            "order": null,
            "_view_module_version": "1.2.0",
            "grid_template_areas": null,
            "object_position": null,
            "object_fit": null,
            "grid_auto_columns": null,
            "margin": null,
            "display": null,
            "left": null
          }
        },
        "b6e19fd65c2c4f1f838e4ddbd329e332": {
          "model_module": "@jupyter-widgets/controls",
          "model_name": "DescriptionStyleModel",
          "state": {
            "_view_name": "StyleView",
            "_model_name": "DescriptionStyleModel",
            "description_width": "",
            "_view_module": "@jupyter-widgets/base",
            "_model_module_version": "1.5.0",
            "_view_count": null,
            "_view_module_version": "1.2.0",
            "_model_module": "@jupyter-widgets/controls"
          }
        },
        "ce835f40361c4bab83bb62b210232fb9": {
          "model_module": "@jupyter-widgets/base",
          "model_name": "LayoutModel",
          "state": {
            "_view_name": "LayoutView",
            "grid_template_rows": null,
            "right": null,
            "justify_content": null,
            "_view_module": "@jupyter-widgets/base",
            "overflow": null,
            "_model_module_version": "1.2.0",
            "_view_count": null,
            "flex_flow": null,
            "width": null,
            "min_width": null,
            "border": null,
            "align_items": null,
            "bottom": null,
            "_model_module": "@jupyter-widgets/base",
            "top": null,
            "grid_column": null,
            "overflow_y": null,
            "overflow_x": null,
            "grid_auto_flow": null,
            "grid_area": null,
            "grid_template_columns": null,
            "flex": null,
            "_model_name": "LayoutModel",
            "justify_items": null,
            "grid_row": null,
            "max_height": null,
            "align_content": null,
            "visibility": null,
            "align_self": null,
            "height": null,
            "min_height": null,
            "padding": null,
            "grid_auto_rows": null,
            "grid_gap": null,
            "max_width": null,
            "order": null,
            "_view_module_version": "1.2.0",
            "grid_template_areas": null,
            "object_position": null,
            "object_fit": null,
            "grid_auto_columns": null,
            "margin": null,
            "display": null,
            "left": null
          }
        },
        "3af4b77bf0b743f895f64839dfb253d6": {
          "model_module": "@jupyter-widgets/controls",
          "model_name": "HBoxModel",
          "state": {
            "_view_name": "HBoxView",
            "_dom_classes": [],
            "_model_name": "HBoxModel",
            "_view_module": "@jupyter-widgets/controls",
            "_model_module_version": "1.5.0",
            "_view_count": null,
            "_view_module_version": "1.5.0",
            "box_style": "",
            "layout": "IPY_MODEL_307a960561e041ceabb9e66160b3c1b5",
            "_model_module": "@jupyter-widgets/controls",
            "children": [
              "IPY_MODEL_2171b71571b64bfda76c229300a129a8",
              "IPY_MODEL_c2815b3bc48d4faea16a26afae7d41fd"
            ]
          }
        },
        "307a960561e041ceabb9e66160b3c1b5": {
          "model_module": "@jupyter-widgets/base",
          "model_name": "LayoutModel",
          "state": {
            "_view_name": "LayoutView",
            "grid_template_rows": null,
            "right": null,
            "justify_content": null,
            "_view_module": "@jupyter-widgets/base",
            "overflow": null,
            "_model_module_version": "1.2.0",
            "_view_count": null,
            "flex_flow": null,
            "width": null,
            "min_width": null,
            "border": null,
            "align_items": null,
            "bottom": null,
            "_model_module": "@jupyter-widgets/base",
            "top": null,
            "grid_column": null,
            "overflow_y": null,
            "overflow_x": null,
            "grid_auto_flow": null,
            "grid_area": null,
            "grid_template_columns": null,
            "flex": null,
            "_model_name": "LayoutModel",
            "justify_items": null,
            "grid_row": null,
            "max_height": null,
            "align_content": null,
            "visibility": null,
            "align_self": null,
            "height": null,
            "min_height": null,
            "padding": null,
            "grid_auto_rows": null,
            "grid_gap": null,
            "max_width": null,
            "order": null,
            "_view_module_version": "1.2.0",
            "grid_template_areas": null,
            "object_position": null,
            "object_fit": null,
            "grid_auto_columns": null,
            "margin": null,
            "display": null,
            "left": null
          }
        },
        "2171b71571b64bfda76c229300a129a8": {
          "model_module": "@jupyter-widgets/controls",
          "model_name": "FloatProgressModel",
          "state": {
            "_view_name": "ProgressView",
            "style": "IPY_MODEL_6a6cdaf29ee84175b0b14c0d0f78c5d2",
            "_dom_classes": [],
            "description": "Downloading: ",
            "_model_name": "FloatProgressModel",
            "bar_style": "success",
            "max": 1940,
            "_view_module": "@jupyter-widgets/controls",
            "_model_module_version": "1.5.0",
            "value": 1940,
            "_view_count": null,
            "_view_module_version": "1.5.0",
            "orientation": "horizontal",
            "min": 0,
            "description_tooltip": null,
            "_model_module": "@jupyter-widgets/controls",
            "layout": "IPY_MODEL_c9f5e6be26274a88a33c8d38a3d35178"
          }
        },
        "c2815b3bc48d4faea16a26afae7d41fd": {
          "model_module": "@jupyter-widgets/controls",
          "model_name": "HTMLModel",
          "state": {
            "_view_name": "HTMLView",
            "style": "IPY_MODEL_33ef8817619d4ece8528f7684baf1d86",
            "_dom_classes": [],
            "description": "",
            "_model_name": "HTMLModel",
            "placeholder": "​",
            "_view_module": "@jupyter-widgets/controls",
            "_model_module_version": "1.5.0",
            "value": " 5.21k/? [00:00&lt;00:00, 10.7kB/s]",
            "_view_count": null,
            "_view_module_version": "1.5.0",
            "description_tooltip": null,
            "_model_module": "@jupyter-widgets/controls",
            "layout": "IPY_MODEL_4b2ccdeeafb14b31ba98787d0a857bf2"
          }
        },
        "6a6cdaf29ee84175b0b14c0d0f78c5d2": {
          "model_module": "@jupyter-widgets/controls",
          "model_name": "ProgressStyleModel",
          "state": {
            "_view_name": "StyleView",
            "_model_name": "ProgressStyleModel",
            "description_width": "initial",
            "_view_module": "@jupyter-widgets/base",
            "_model_module_version": "1.5.0",
            "_view_count": null,
            "_view_module_version": "1.2.0",
            "bar_color": null,
            "_model_module": "@jupyter-widgets/controls"
          }
        },
        "c9f5e6be26274a88a33c8d38a3d35178": {
          "model_module": "@jupyter-widgets/base",
          "model_name": "LayoutModel",
          "state": {
            "_view_name": "LayoutView",
            "grid_template_rows": null,
            "right": null,
            "justify_content": null,
            "_view_module": "@jupyter-widgets/base",
            "overflow": null,
            "_model_module_version": "1.2.0",
            "_view_count": null,
            "flex_flow": null,
            "width": null,
            "min_width": null,
            "border": null,
            "align_items": null,
            "bottom": null,
            "_model_module": "@jupyter-widgets/base",
            "top": null,
            "grid_column": null,
            "overflow_y": null,
            "overflow_x": null,
            "grid_auto_flow": null,
            "grid_area": null,
            "grid_template_columns": null,
            "flex": null,
            "_model_name": "LayoutModel",
            "justify_items": null,
            "grid_row": null,
            "max_height": null,
            "align_content": null,
            "visibility": null,
            "align_self": null,
            "height": null,
            "min_height": null,
            "padding": null,
            "grid_auto_rows": null,
            "grid_gap": null,
            "max_width": null,
            "order": null,
            "_view_module_version": "1.2.0",
            "grid_template_areas": null,
            "object_position": null,
            "object_fit": null,
            "grid_auto_columns": null,
            "margin": null,
            "display": null,
            "left": null
          }
        },
        "33ef8817619d4ece8528f7684baf1d86": {
          "model_module": "@jupyter-widgets/controls",
          "model_name": "DescriptionStyleModel",
          "state": {
            "_view_name": "StyleView",
            "_model_name": "DescriptionStyleModel",
            "description_width": "",
            "_view_module": "@jupyter-widgets/base",
            "_model_module_version": "1.5.0",
            "_view_count": null,
            "_view_module_version": "1.2.0",
            "_model_module": "@jupyter-widgets/controls"
          }
        },
        "4b2ccdeeafb14b31ba98787d0a857bf2": {
          "model_module": "@jupyter-widgets/base",
          "model_name": "LayoutModel",
          "state": {
            "_view_name": "LayoutView",
            "grid_template_rows": null,
            "right": null,
            "justify_content": null,
            "_view_module": "@jupyter-widgets/base",
            "overflow": null,
            "_model_module_version": "1.2.0",
            "_view_count": null,
            "flex_flow": null,
            "width": null,
            "min_width": null,
            "border": null,
            "align_items": null,
            "bottom": null,
            "_model_module": "@jupyter-widgets/base",
            "top": null,
            "grid_column": null,
            "overflow_y": null,
            "overflow_x": null,
            "grid_auto_flow": null,
            "grid_area": null,
            "grid_template_columns": null,
            "flex": null,
            "_model_name": "LayoutModel",
            "justify_items": null,
            "grid_row": null,
            "max_height": null,
            "align_content": null,
            "visibility": null,
            "align_self": null,
            "height": null,
            "min_height": null,
            "padding": null,
            "grid_auto_rows": null,
            "grid_gap": null,
            "max_width": null,
            "order": null,
            "_view_module_version": "1.2.0",
            "grid_template_areas": null,
            "object_position": null,
            "object_fit": null,
            "grid_auto_columns": null,
            "margin": null,
            "display": null,
            "left": null
          }
        },
        "bf65a6f83cf544399f381a83d138f0cb": {
          "model_module": "@jupyter-widgets/controls",
          "model_name": "HBoxModel",
          "state": {
            "_view_name": "HBoxView",
            "_dom_classes": [],
            "_model_name": "HBoxModel",
            "_view_module": "@jupyter-widgets/controls",
            "_model_module_version": "1.5.0",
            "_view_count": null,
            "_view_module_version": "1.5.0",
            "box_style": "",
            "layout": "IPY_MODEL_95f834e29d68453f8c980b078e6612df",
            "_model_module": "@jupyter-widgets/controls",
            "children": [
              "IPY_MODEL_1c9a08daa9df4debac026dbd5a03067e",
              "IPY_MODEL_f5981349c56b4e94af4ce3164f7f8e52"
            ]
          }
        },
        "95f834e29d68453f8c980b078e6612df": {
          "model_module": "@jupyter-widgets/base",
          "model_name": "LayoutModel",
          "state": {
            "_view_name": "LayoutView",
            "grid_template_rows": null,
            "right": null,
            "justify_content": null,
            "_view_module": "@jupyter-widgets/base",
            "overflow": null,
            "_model_module_version": "1.2.0",
            "_view_count": null,
            "flex_flow": null,
            "width": null,
            "min_width": null,
            "border": null,
            "align_items": null,
            "bottom": null,
            "_model_module": "@jupyter-widgets/base",
            "top": null,
            "grid_column": null,
            "overflow_y": null,
            "overflow_x": null,
            "grid_auto_flow": null,
            "grid_area": null,
            "grid_template_columns": null,
            "flex": null,
            "_model_name": "LayoutModel",
            "justify_items": null,
            "grid_row": null,
            "max_height": null,
            "align_content": null,
            "visibility": null,
            "align_self": null,
            "height": null,
            "min_height": null,
            "padding": null,
            "grid_auto_rows": null,
            "grid_gap": null,
            "max_width": null,
            "order": null,
            "_view_module_version": "1.2.0",
            "grid_template_areas": null,
            "object_position": null,
            "object_fit": null,
            "grid_auto_columns": null,
            "margin": null,
            "display": null,
            "left": null
          }
        },
        "1c9a08daa9df4debac026dbd5a03067e": {
          "model_module": "@jupyter-widgets/controls",
          "model_name": "FloatProgressModel",
          "state": {
            "_view_name": "ProgressView",
            "style": "IPY_MODEL_9515b5e3a8784507a9a41c9d63a9cca5",
            "_dom_classes": [],
            "description": "Downloading: ",
            "_model_name": "FloatProgressModel",
            "bar_style": "success",
            "max": 1193,
            "_view_module": "@jupyter-widgets/controls",
            "_model_module_version": "1.5.0",
            "value": 1193,
            "_view_count": null,
            "_view_module_version": "1.5.0",
            "orientation": "horizontal",
            "min": 0,
            "description_tooltip": null,
            "_model_module": "@jupyter-widgets/controls",
            "layout": "IPY_MODEL_7912b618008b4de4bc63493bcbe13bd4"
          }
        },
        "f5981349c56b4e94af4ce3164f7f8e52": {
          "model_module": "@jupyter-widgets/controls",
          "model_name": "HTMLModel",
          "state": {
            "_view_name": "HTMLView",
            "style": "IPY_MODEL_8a5f5c43f23d4712a153e3e7f811b0e7",
            "_dom_classes": [],
            "description": "",
            "_model_name": "HTMLModel",
            "placeholder": "​",
            "_view_module": "@jupyter-widgets/controls",
            "_model_module_version": "1.5.0",
            "value": " 2.88k/? [00:25&lt;00:00, 114B/s]",
            "_view_count": null,
            "_view_module_version": "1.5.0",
            "description_tooltip": null,
            "_model_module": "@jupyter-widgets/controls",
            "layout": "IPY_MODEL_1338b42d875c4cf2bbf354b1bd03d09f"
          }
        },
        "9515b5e3a8784507a9a41c9d63a9cca5": {
          "model_module": "@jupyter-widgets/controls",
          "model_name": "ProgressStyleModel",
          "state": {
            "_view_name": "StyleView",
            "_model_name": "ProgressStyleModel",
            "description_width": "initial",
            "_view_module": "@jupyter-widgets/base",
            "_model_module_version": "1.5.0",
            "_view_count": null,
            "_view_module_version": "1.2.0",
            "bar_color": null,
            "_model_module": "@jupyter-widgets/controls"
          }
        },
        "7912b618008b4de4bc63493bcbe13bd4": {
          "model_module": "@jupyter-widgets/base",
          "model_name": "LayoutModel",
          "state": {
            "_view_name": "LayoutView",
            "grid_template_rows": null,
            "right": null,
            "justify_content": null,
            "_view_module": "@jupyter-widgets/base",
            "overflow": null,
            "_model_module_version": "1.2.0",
            "_view_count": null,
            "flex_flow": null,
            "width": null,
            "min_width": null,
            "border": null,
            "align_items": null,
            "bottom": null,
            "_model_module": "@jupyter-widgets/base",
            "top": null,
            "grid_column": null,
            "overflow_y": null,
            "overflow_x": null,
            "grid_auto_flow": null,
            "grid_area": null,
            "grid_template_columns": null,
            "flex": null,
            "_model_name": "LayoutModel",
            "justify_items": null,
            "grid_row": null,
            "max_height": null,
            "align_content": null,
            "visibility": null,
            "align_self": null,
            "height": null,
            "min_height": null,
            "padding": null,
            "grid_auto_rows": null,
            "grid_gap": null,
            "max_width": null,
            "order": null,
            "_view_module_version": "1.2.0",
            "grid_template_areas": null,
            "object_position": null,
            "object_fit": null,
            "grid_auto_columns": null,
            "margin": null,
            "display": null,
            "left": null
          }
        },
        "8a5f5c43f23d4712a153e3e7f811b0e7": {
          "model_module": "@jupyter-widgets/controls",
          "model_name": "DescriptionStyleModel",
          "state": {
            "_view_name": "StyleView",
            "_model_name": "DescriptionStyleModel",
            "description_width": "",
            "_view_module": "@jupyter-widgets/base",
            "_model_module_version": "1.5.0",
            "_view_count": null,
            "_view_module_version": "1.2.0",
            "_model_module": "@jupyter-widgets/controls"
          }
        },
        "1338b42d875c4cf2bbf354b1bd03d09f": {
          "model_module": "@jupyter-widgets/base",
          "model_name": "LayoutModel",
          "state": {
            "_view_name": "LayoutView",
            "grid_template_rows": null,
            "right": null,
            "justify_content": null,
            "_view_module": "@jupyter-widgets/base",
            "overflow": null,
            "_model_module_version": "1.2.0",
            "_view_count": null,
            "flex_flow": null,
            "width": null,
            "min_width": null,
            "border": null,
            "align_items": null,
            "bottom": null,
            "_model_module": "@jupyter-widgets/base",
            "top": null,
            "grid_column": null,
            "overflow_y": null,
            "overflow_x": null,
            "grid_auto_flow": null,
            "grid_area": null,
            "grid_template_columns": null,
            "flex": null,
            "_model_name": "LayoutModel",
            "justify_items": null,
            "grid_row": null,
            "max_height": null,
            "align_content": null,
            "visibility": null,
            "align_self": null,
            "height": null,
            "min_height": null,
            "padding": null,
            "grid_auto_rows": null,
            "grid_gap": null,
            "max_width": null,
            "order": null,
            "_view_module_version": "1.2.0",
            "grid_template_areas": null,
            "object_position": null,
            "object_fit": null,
            "grid_auto_columns": null,
            "margin": null,
            "display": null,
            "left": null
          }
        },
        "5cff19cf98bc49f392f59d3cb8811576": {
          "model_module": "@jupyter-widgets/controls",
          "model_name": "HBoxModel",
          "state": {
            "_view_name": "HBoxView",
            "_dom_classes": [],
            "_model_name": "HBoxModel",
            "_view_module": "@jupyter-widgets/controls",
            "_model_module_version": "1.5.0",
            "_view_count": null,
            "_view_module_version": "1.5.0",
            "box_style": "",
            "layout": "IPY_MODEL_8d39e67cd1b04c5d8ef1bc9e13e4a0a9",
            "_model_module": "@jupyter-widgets/controls",
            "children": [
              "IPY_MODEL_5caac860daaa47db906a55247d0932b9",
              "IPY_MODEL_0bf319fd4bd440a1b4f0deeb237c126c"
            ]
          }
        },
        "8d39e67cd1b04c5d8ef1bc9e13e4a0a9": {
          "model_module": "@jupyter-widgets/base",
          "model_name": "LayoutModel",
          "state": {
            "_view_name": "LayoutView",
            "grid_template_rows": null,
            "right": null,
            "justify_content": null,
            "_view_module": "@jupyter-widgets/base",
            "overflow": null,
            "_model_module_version": "1.2.0",
            "_view_count": null,
            "flex_flow": null,
            "width": null,
            "min_width": null,
            "border": null,
            "align_items": null,
            "bottom": null,
            "_model_module": "@jupyter-widgets/base",
            "top": null,
            "grid_column": null,
            "overflow_y": null,
            "overflow_x": null,
            "grid_auto_flow": null,
            "grid_area": null,
            "grid_template_columns": null,
            "flex": null,
            "_model_name": "LayoutModel",
            "justify_items": null,
            "grid_row": null,
            "max_height": null,
            "align_content": null,
            "visibility": null,
            "align_self": null,
            "height": null,
            "min_height": null,
            "padding": null,
            "grid_auto_rows": null,
            "grid_gap": null,
            "max_width": null,
            "order": null,
            "_view_module_version": "1.2.0",
            "grid_template_areas": null,
            "object_position": null,
            "object_fit": null,
            "grid_auto_columns": null,
            "margin": null,
            "display": null,
            "left": null
          }
        },
        "5caac860daaa47db906a55247d0932b9": {
          "model_module": "@jupyter-widgets/controls",
          "model_name": "FloatProgressModel",
          "state": {
            "_view_name": "ProgressView",
            "style": "IPY_MODEL_f78131d8df9642f08beb24ba3d82dfd3",
            "_dom_classes": [],
            "description": "Downloading: 100%",
            "_model_name": "FloatProgressModel",
            "bar_style": "success",
            "max": 226850426,
            "_view_module": "@jupyter-widgets/controls",
            "_model_module_version": "1.5.0",
            "value": 226850426,
            "_view_count": null,
            "_view_module_version": "1.5.0",
            "orientation": "horizontal",
            "min": 0,
            "description_tooltip": null,
            "_model_module": "@jupyter-widgets/controls",
            "layout": "IPY_MODEL_55c0a0ac926f4a88945bb0ab4001bc30"
          }
        },
        "0bf319fd4bd440a1b4f0deeb237c126c": {
          "model_module": "@jupyter-widgets/controls",
          "model_name": "HTMLModel",
          "state": {
            "_view_name": "HTMLView",
            "style": "IPY_MODEL_3bec2cf5c971425fb01cc03554608c72",
            "_dom_classes": [],
            "description": "",
            "_model_name": "HTMLModel",
            "placeholder": "​",
            "_view_module": "@jupyter-widgets/controls",
            "_model_module_version": "1.5.0",
            "value": " 227M/227M [00:22&lt;00:00, 9.91MB/s]",
            "_view_count": null,
            "_view_module_version": "1.5.0",
            "description_tooltip": null,
            "_model_module": "@jupyter-widgets/controls",
            "layout": "IPY_MODEL_27ebec98def94e1aafa86950f4fd3fa4"
          }
        },
        "f78131d8df9642f08beb24ba3d82dfd3": {
          "model_module": "@jupyter-widgets/controls",
          "model_name": "ProgressStyleModel",
          "state": {
            "_view_name": "StyleView",
            "_model_name": "ProgressStyleModel",
            "description_width": "initial",
            "_view_module": "@jupyter-widgets/base",
            "_model_module_version": "1.5.0",
            "_view_count": null,
            "_view_module_version": "1.2.0",
            "bar_color": null,
            "_model_module": "@jupyter-widgets/controls"
          }
        },
        "55c0a0ac926f4a88945bb0ab4001bc30": {
          "model_module": "@jupyter-widgets/base",
          "model_name": "LayoutModel",
          "state": {
            "_view_name": "LayoutView",
            "grid_template_rows": null,
            "right": null,
            "justify_content": null,
            "_view_module": "@jupyter-widgets/base",
            "overflow": null,
            "_model_module_version": "1.2.0",
            "_view_count": null,
            "flex_flow": null,
            "width": null,
            "min_width": null,
            "border": null,
            "align_items": null,
            "bottom": null,
            "_model_module": "@jupyter-widgets/base",
            "top": null,
            "grid_column": null,
            "overflow_y": null,
            "overflow_x": null,
            "grid_auto_flow": null,
            "grid_area": null,
            "grid_template_columns": null,
            "flex": null,
            "_model_name": "LayoutModel",
            "justify_items": null,
            "grid_row": null,
            "max_height": null,
            "align_content": null,
            "visibility": null,
            "align_self": null,
            "height": null,
            "min_height": null,
            "padding": null,
            "grid_auto_rows": null,
            "grid_gap": null,
            "max_width": null,
            "order": null,
            "_view_module_version": "1.2.0",
            "grid_template_areas": null,
            "object_position": null,
            "object_fit": null,
            "grid_auto_columns": null,
            "margin": null,
            "display": null,
            "left": null
          }
        },
        "3bec2cf5c971425fb01cc03554608c72": {
          "model_module": "@jupyter-widgets/controls",
          "model_name": "DescriptionStyleModel",
          "state": {
            "_view_name": "StyleView",
            "_model_name": "DescriptionStyleModel",
            "description_width": "",
            "_view_module": "@jupyter-widgets/base",
            "_model_module_version": "1.5.0",
            "_view_count": null,
            "_view_module_version": "1.2.0",
            "_model_module": "@jupyter-widgets/controls"
          }
        },
        "27ebec98def94e1aafa86950f4fd3fa4": {
          "model_module": "@jupyter-widgets/base",
          "model_name": "LayoutModel",
          "state": {
            "_view_name": "LayoutView",
            "grid_template_rows": null,
            "right": null,
            "justify_content": null,
            "_view_module": "@jupyter-widgets/base",
            "overflow": null,
            "_model_module_version": "1.2.0",
            "_view_count": null,
            "flex_flow": null,
            "width": null,
            "min_width": null,
            "border": null,
            "align_items": null,
            "bottom": null,
            "_model_module": "@jupyter-widgets/base",
            "top": null,
            "grid_column": null,
            "overflow_y": null,
            "overflow_x": null,
            "grid_auto_flow": null,
            "grid_area": null,
            "grid_template_columns": null,
            "flex": null,
            "_model_name": "LayoutModel",
            "justify_items": null,
            "grid_row": null,
            "max_height": null,
            "align_content": null,
            "visibility": null,
            "align_self": null,
            "height": null,
            "min_height": null,
            "padding": null,
            "grid_auto_rows": null,
            "grid_gap": null,
            "max_width": null,
            "order": null,
            "_view_module_version": "1.2.0",
            "grid_template_areas": null,
            "object_position": null,
            "object_fit": null,
            "grid_auto_columns": null,
            "margin": null,
            "display": null,
            "left": null
          }
        },
        "68a9dfe6b8fe4a6a8bb75e12dfd3136d": {
          "model_module": "@jupyter-widgets/controls",
          "model_name": "HBoxModel",
          "state": {
            "_view_name": "HBoxView",
            "_dom_classes": [],
            "_model_name": "HBoxModel",
            "_view_module": "@jupyter-widgets/controls",
            "_model_module_version": "1.5.0",
            "_view_count": null,
            "_view_module_version": "1.5.0",
            "box_style": "",
            "layout": "IPY_MODEL_04d6ea3f069143849cadd5ed1641feaf",
            "_model_module": "@jupyter-widgets/controls",
            "children": [
              "IPY_MODEL_2b31d3daa4584afe9a0fffdc876813b2",
              "IPY_MODEL_6fefe26f0a2248c585660304e6a78b3f"
            ]
          }
        },
        "04d6ea3f069143849cadd5ed1641feaf": {
          "model_module": "@jupyter-widgets/base",
          "model_name": "LayoutModel",
          "state": {
            "_view_name": "LayoutView",
            "grid_template_rows": null,
            "right": null,
            "justify_content": null,
            "_view_module": "@jupyter-widgets/base",
            "overflow": null,
            "_model_module_version": "1.2.0",
            "_view_count": null,
            "flex_flow": null,
            "width": null,
            "min_width": null,
            "border": null,
            "align_items": null,
            "bottom": null,
            "_model_module": "@jupyter-widgets/base",
            "top": null,
            "grid_column": null,
            "overflow_y": null,
            "overflow_x": null,
            "grid_auto_flow": null,
            "grid_area": null,
            "grid_template_columns": null,
            "flex": null,
            "_model_name": "LayoutModel",
            "justify_items": null,
            "grid_row": null,
            "max_height": null,
            "align_content": null,
            "visibility": null,
            "align_self": null,
            "height": null,
            "min_height": null,
            "padding": null,
            "grid_auto_rows": null,
            "grid_gap": null,
            "max_width": null,
            "order": null,
            "_view_module_version": "1.2.0",
            "grid_template_areas": null,
            "object_position": null,
            "object_fit": null,
            "grid_auto_columns": null,
            "margin": null,
            "display": null,
            "left": null
          }
        },
        "2b31d3daa4584afe9a0fffdc876813b2": {
          "model_module": "@jupyter-widgets/controls",
          "model_name": "FloatProgressModel",
          "state": {
            "_view_name": "ProgressView",
            "style": "IPY_MODEL_73ca287d763d470591044cee3789feee",
            "_dom_classes": [],
            "description": "",
            "_model_name": "FloatProgressModel",
            "bar_style": "info",
            "max": 1,
            "_view_module": "@jupyter-widgets/controls",
            "_model_module_version": "1.5.0",
            "value": 1,
            "_view_count": null,
            "_view_module_version": "1.5.0",
            "orientation": "horizontal",
            "min": 0,
            "description_tooltip": null,
            "_model_module": "@jupyter-widgets/controls",
            "layout": "IPY_MODEL_b68e1518f84d4f47b84b513c934a3b0f"
          }
        },
        "6fefe26f0a2248c585660304e6a78b3f": {
          "model_module": "@jupyter-widgets/controls",
          "model_name": "HTMLModel",
          "state": {
            "_view_name": "HTMLView",
            "style": "IPY_MODEL_f3d5aa582c854ae58d3ffb73e964788b",
            "_dom_classes": [],
            "description": "",
            "_model_name": "HTMLModel",
            "placeholder": "​",
            "_view_module": "@jupyter-widgets/controls",
            "_model_module_version": "1.5.0",
            "value": " 392702/0 [00:32&lt;00:00, 12811.05 examples/s]",
            "_view_count": null,
            "_view_module_version": "1.5.0",
            "description_tooltip": null,
            "_model_module": "@jupyter-widgets/controls",
            "layout": "IPY_MODEL_567f7f779d794d64a3cda389a9864e09"
          }
        },
        "73ca287d763d470591044cee3789feee": {
          "model_module": "@jupyter-widgets/controls",
          "model_name": "ProgressStyleModel",
          "state": {
            "_view_name": "StyleView",
            "_model_name": "ProgressStyleModel",
            "description_width": "initial",
            "_view_module": "@jupyter-widgets/base",
            "_model_module_version": "1.5.0",
            "_view_count": null,
            "_view_module_version": "1.2.0",
            "bar_color": null,
            "_model_module": "@jupyter-widgets/controls"
          }
        },
        "b68e1518f84d4f47b84b513c934a3b0f": {
          "model_module": "@jupyter-widgets/base",
          "model_name": "LayoutModel",
          "state": {
            "_view_name": "LayoutView",
            "grid_template_rows": null,
            "right": null,
            "justify_content": null,
            "_view_module": "@jupyter-widgets/base",
            "overflow": null,
            "_model_module_version": "1.2.0",
            "_view_count": null,
            "flex_flow": null,
            "width": null,
            "min_width": null,
            "border": null,
            "align_items": null,
            "bottom": null,
            "_model_module": "@jupyter-widgets/base",
            "top": null,
            "grid_column": null,
            "overflow_y": null,
            "overflow_x": null,
            "grid_auto_flow": null,
            "grid_area": null,
            "grid_template_columns": null,
            "flex": null,
            "_model_name": "LayoutModel",
            "justify_items": null,
            "grid_row": null,
            "max_height": null,
            "align_content": null,
            "visibility": null,
            "align_self": null,
            "height": null,
            "min_height": null,
            "padding": null,
            "grid_auto_rows": null,
            "grid_gap": null,
            "max_width": null,
            "order": null,
            "_view_module_version": "1.2.0",
            "grid_template_areas": null,
            "object_position": null,
            "object_fit": null,
            "grid_auto_columns": null,
            "margin": null,
            "display": null,
            "left": null
          }
        },
        "f3d5aa582c854ae58d3ffb73e964788b": {
          "model_module": "@jupyter-widgets/controls",
          "model_name": "DescriptionStyleModel",
          "state": {
            "_view_name": "StyleView",
            "_model_name": "DescriptionStyleModel",
            "description_width": "",
            "_view_module": "@jupyter-widgets/base",
            "_model_module_version": "1.5.0",
            "_view_count": null,
            "_view_module_version": "1.2.0",
            "_model_module": "@jupyter-widgets/controls"
          }
        },
        "567f7f779d794d64a3cda389a9864e09": {
          "model_module": "@jupyter-widgets/base",
          "model_name": "LayoutModel",
          "state": {
            "_view_name": "LayoutView",
            "grid_template_rows": null,
            "right": null,
            "justify_content": null,
            "_view_module": "@jupyter-widgets/base",
            "overflow": null,
            "_model_module_version": "1.2.0",
            "_view_count": null,
            "flex_flow": null,
            "width": null,
            "min_width": null,
            "border": null,
            "align_items": null,
            "bottom": null,
            "_model_module": "@jupyter-widgets/base",
            "top": null,
            "grid_column": null,
            "overflow_y": null,
            "overflow_x": null,
            "grid_auto_flow": null,
            "grid_area": null,
            "grid_template_columns": null,
            "flex": null,
            "_model_name": "LayoutModel",
            "justify_items": null,
            "grid_row": null,
            "max_height": null,
            "align_content": null,
            "visibility": null,
            "align_self": null,
            "height": null,
            "min_height": null,
            "padding": null,
            "grid_auto_rows": null,
            "grid_gap": null,
            "max_width": null,
            "order": null,
            "_view_module_version": "1.2.0",
            "grid_template_areas": null,
            "object_position": null,
            "object_fit": null,
            "grid_auto_columns": null,
            "margin": null,
            "display": null,
            "left": null
          }
        },
        "466a540e0be64b188a906dc45998c8af": {
          "model_module": "@jupyter-widgets/controls",
          "model_name": "HBoxModel",
          "state": {
            "_view_name": "HBoxView",
            "_dom_classes": [],
            "_model_name": "HBoxModel",
            "_view_module": "@jupyter-widgets/controls",
            "_model_module_version": "1.5.0",
            "_view_count": null,
            "_view_module_version": "1.5.0",
            "box_style": "",
            "layout": "IPY_MODEL_9fab18fc9b584c2283e53f57e33ae5f1",
            "_model_module": "@jupyter-widgets/controls",
            "children": [
              "IPY_MODEL_a1065c152d354676b2df20f472ad0d1e",
              "IPY_MODEL_f2dfb10fc1f4402591ccfbf7404a6267"
            ]
          }
        },
        "9fab18fc9b584c2283e53f57e33ae5f1": {
          "model_module": "@jupyter-widgets/base",
          "model_name": "LayoutModel",
          "state": {
            "_view_name": "LayoutView",
            "grid_template_rows": null,
            "right": null,
            "justify_content": null,
            "_view_module": "@jupyter-widgets/base",
            "overflow": null,
            "_model_module_version": "1.2.0",
            "_view_count": null,
            "flex_flow": null,
            "width": null,
            "min_width": null,
            "border": null,
            "align_items": null,
            "bottom": null,
            "_model_module": "@jupyter-widgets/base",
            "top": null,
            "grid_column": null,
            "overflow_y": null,
            "overflow_x": null,
            "grid_auto_flow": null,
            "grid_area": null,
            "grid_template_columns": null,
            "flex": null,
            "_model_name": "LayoutModel",
            "justify_items": null,
            "grid_row": null,
            "max_height": null,
            "align_content": null,
            "visibility": null,
            "align_self": null,
            "height": null,
            "min_height": null,
            "padding": null,
            "grid_auto_rows": null,
            "grid_gap": null,
            "max_width": null,
            "order": null,
            "_view_module_version": "1.2.0",
            "grid_template_areas": null,
            "object_position": null,
            "object_fit": null,
            "grid_auto_columns": null,
            "margin": null,
            "display": null,
            "left": null
          }
        },
        "a1065c152d354676b2df20f472ad0d1e": {
          "model_module": "@jupyter-widgets/controls",
          "model_name": "FloatProgressModel",
          "state": {
            "_view_name": "ProgressView",
            "style": "IPY_MODEL_9bd6bebe1379437887df24ced8d0a321",
            "_dom_classes": [],
            "description": "",
            "_model_name": "FloatProgressModel",
            "bar_style": "info",
            "max": 1,
            "_view_module": "@jupyter-widgets/controls",
            "_model_module_version": "1.5.0",
            "value": 1,
            "_view_count": null,
            "_view_module_version": "1.5.0",
            "orientation": "horizontal",
            "min": 0,
            "description_tooltip": null,
            "_model_module": "@jupyter-widgets/controls",
            "layout": "IPY_MODEL_31bcb4e3165c451bbd8e6af3cbf89350"
          }
        },
        "f2dfb10fc1f4402591ccfbf7404a6267": {
          "model_module": "@jupyter-widgets/controls",
          "model_name": "HTMLModel",
          "state": {
            "_view_name": "HTMLView",
            "style": "IPY_MODEL_2ab21c2bf8d3495aa908fcb8ca765206",
            "_dom_classes": [],
            "description": "",
            "_model_name": "HTMLModel",
            "placeholder": "​",
            "_view_module": "@jupyter-widgets/controls",
            "_model_module_version": "1.5.0",
            "value": " 9815/0 [00:00&lt;00:00, 10151.28 examples/s]",
            "_view_count": null,
            "_view_module_version": "1.5.0",
            "description_tooltip": null,
            "_model_module": "@jupyter-widgets/controls",
            "layout": "IPY_MODEL_1917dedf89474e458966f4ca8544a32a"
          }
        },
        "9bd6bebe1379437887df24ced8d0a321": {
          "model_module": "@jupyter-widgets/controls",
          "model_name": "ProgressStyleModel",
          "state": {
            "_view_name": "StyleView",
            "_model_name": "ProgressStyleModel",
            "description_width": "initial",
            "_view_module": "@jupyter-widgets/base",
            "_model_module_version": "1.5.0",
            "_view_count": null,
            "_view_module_version": "1.2.0",
            "bar_color": null,
            "_model_module": "@jupyter-widgets/controls"
          }
        },
        "31bcb4e3165c451bbd8e6af3cbf89350": {
          "model_module": "@jupyter-widgets/base",
          "model_name": "LayoutModel",
          "state": {
            "_view_name": "LayoutView",
            "grid_template_rows": null,
            "right": null,
            "justify_content": null,
            "_view_module": "@jupyter-widgets/base",
            "overflow": null,
            "_model_module_version": "1.2.0",
            "_view_count": null,
            "flex_flow": null,
            "width": null,
            "min_width": null,
            "border": null,
            "align_items": null,
            "bottom": null,
            "_model_module": "@jupyter-widgets/base",
            "top": null,
            "grid_column": null,
            "overflow_y": null,
            "overflow_x": null,
            "grid_auto_flow": null,
            "grid_area": null,
            "grid_template_columns": null,
            "flex": null,
            "_model_name": "LayoutModel",
            "justify_items": null,
            "grid_row": null,
            "max_height": null,
            "align_content": null,
            "visibility": null,
            "align_self": null,
            "height": null,
            "min_height": null,
            "padding": null,
            "grid_auto_rows": null,
            "grid_gap": null,
            "max_width": null,
            "order": null,
            "_view_module_version": "1.2.0",
            "grid_template_areas": null,
            "object_position": null,
            "object_fit": null,
            "grid_auto_columns": null,
            "margin": null,
            "display": null,
            "left": null
          }
        },
        "2ab21c2bf8d3495aa908fcb8ca765206": {
          "model_module": "@jupyter-widgets/controls",
          "model_name": "DescriptionStyleModel",
          "state": {
            "_view_name": "StyleView",
            "_model_name": "DescriptionStyleModel",
            "description_width": "",
            "_view_module": "@jupyter-widgets/base",
            "_model_module_version": "1.5.0",
            "_view_count": null,
            "_view_module_version": "1.2.0",
            "_model_module": "@jupyter-widgets/controls"
          }
        },
        "1917dedf89474e458966f4ca8544a32a": {
          "model_module": "@jupyter-widgets/base",
          "model_name": "LayoutModel",
          "state": {
            "_view_name": "LayoutView",
            "grid_template_rows": null,
            "right": null,
            "justify_content": null,
            "_view_module": "@jupyter-widgets/base",
            "overflow": null,
            "_model_module_version": "1.2.0",
            "_view_count": null,
            "flex_flow": null,
            "width": null,
            "min_width": null,
            "border": null,
            "align_items": null,
            "bottom": null,
            "_model_module": "@jupyter-widgets/base",
            "top": null,
            "grid_column": null,
            "overflow_y": null,
            "overflow_x": null,
            "grid_auto_flow": null,
            "grid_area": null,
            "grid_template_columns": null,
            "flex": null,
            "_model_name": "LayoutModel",
            "justify_items": null,
            "grid_row": null,
            "max_height": null,
            "align_content": null,
            "visibility": null,
            "align_self": null,
            "height": null,
            "min_height": null,
            "padding": null,
            "grid_auto_rows": null,
            "grid_gap": null,
            "max_width": null,
            "order": null,
            "_view_module_version": "1.2.0",
            "grid_template_areas": null,
            "object_position": null,
            "object_fit": null,
            "grid_auto_columns": null,
            "margin": null,
            "display": null,
            "left": null
          }
        },
        "884ba61cc8a345f2ae3035dccf9ed690": {
          "model_module": "@jupyter-widgets/controls",
          "model_name": "HBoxModel",
          "state": {
            "_view_name": "HBoxView",
            "_dom_classes": [],
            "_model_name": "HBoxModel",
            "_view_module": "@jupyter-widgets/controls",
            "_model_module_version": "1.5.0",
            "_view_count": null,
            "_view_module_version": "1.5.0",
            "box_style": "",
            "layout": "IPY_MODEL_c8e85bdd4db4494b9f88100a539ccb5c",
            "_model_module": "@jupyter-widgets/controls",
            "children": [
              "IPY_MODEL_79d8b629e6464377a6f017ca7313659d",
              "IPY_MODEL_a697bb171ae9411e91f63aba6cb1841a"
            ]
          }
        },
        "c8e85bdd4db4494b9f88100a539ccb5c": {
          "model_module": "@jupyter-widgets/base",
          "model_name": "LayoutModel",
          "state": {
            "_view_name": "LayoutView",
            "grid_template_rows": null,
            "right": null,
            "justify_content": null,
            "_view_module": "@jupyter-widgets/base",
            "overflow": null,
            "_model_module_version": "1.2.0",
            "_view_count": null,
            "flex_flow": null,
            "width": null,
            "min_width": null,
            "border": null,
            "align_items": null,
            "bottom": null,
            "_model_module": "@jupyter-widgets/base",
            "top": null,
            "grid_column": null,
            "overflow_y": null,
            "overflow_x": null,
            "grid_auto_flow": null,
            "grid_area": null,
            "grid_template_columns": null,
            "flex": null,
            "_model_name": "LayoutModel",
            "justify_items": null,
            "grid_row": null,
            "max_height": null,
            "align_content": null,
            "visibility": null,
            "align_self": null,
            "height": null,
            "min_height": null,
            "padding": null,
            "grid_auto_rows": null,
            "grid_gap": null,
            "max_width": null,
            "order": null,
            "_view_module_version": "1.2.0",
            "grid_template_areas": null,
            "object_position": null,
            "object_fit": null,
            "grid_auto_columns": null,
            "margin": null,
            "display": null,
            "left": null
          }
        },
        "79d8b629e6464377a6f017ca7313659d": {
          "model_module": "@jupyter-widgets/controls",
          "model_name": "FloatProgressModel",
          "state": {
            "_view_name": "ProgressView",
            "style": "IPY_MODEL_e90a40bcec374b69a1bce62b94c54359",
            "_dom_classes": [],
            "description": "",
            "_model_name": "FloatProgressModel",
            "bar_style": "info",
            "max": 1,
            "_view_module": "@jupyter-widgets/controls",
            "_model_module_version": "1.5.0",
            "value": 1,
            "_view_count": null,
            "_view_module_version": "1.5.0",
            "orientation": "horizontal",
            "min": 0,
            "description_tooltip": null,
            "_model_module": "@jupyter-widgets/controls",
            "layout": "IPY_MODEL_3ba0e31b656942c7ab83b47d44473ed0"
          }
        },
        "a697bb171ae9411e91f63aba6cb1841a": {
          "model_module": "@jupyter-widgets/controls",
          "model_name": "HTMLModel",
          "state": {
            "_view_name": "HTMLView",
            "style": "IPY_MODEL_1d2a57dfe5a14d25bf0b7a9a4e537c14",
            "_dom_classes": [],
            "description": "",
            "_model_name": "HTMLModel",
            "placeholder": "​",
            "_view_module": "@jupyter-widgets/controls",
            "_model_module_version": "1.5.0",
            "value": " 9832/0 [00:00&lt;00:00, 11158.98 examples/s]",
            "_view_count": null,
            "_view_module_version": "1.5.0",
            "description_tooltip": null,
            "_model_module": "@jupyter-widgets/controls",
            "layout": "IPY_MODEL_e8ae7eaa7b124d93b6ed22b0d822d61f"
          }
        },
        "e90a40bcec374b69a1bce62b94c54359": {
          "model_module": "@jupyter-widgets/controls",
          "model_name": "ProgressStyleModel",
          "state": {
            "_view_name": "StyleView",
            "_model_name": "ProgressStyleModel",
            "description_width": "initial",
            "_view_module": "@jupyter-widgets/base",
            "_model_module_version": "1.5.0",
            "_view_count": null,
            "_view_module_version": "1.2.0",
            "bar_color": null,
            "_model_module": "@jupyter-widgets/controls"
          }
        },
        "3ba0e31b656942c7ab83b47d44473ed0": {
          "model_module": "@jupyter-widgets/base",
          "model_name": "LayoutModel",
          "state": {
            "_view_name": "LayoutView",
            "grid_template_rows": null,
            "right": null,
            "justify_content": null,
            "_view_module": "@jupyter-widgets/base",
            "overflow": null,
            "_model_module_version": "1.2.0",
            "_view_count": null,
            "flex_flow": null,
            "width": null,
            "min_width": null,
            "border": null,
            "align_items": null,
            "bottom": null,
            "_model_module": "@jupyter-widgets/base",
            "top": null,
            "grid_column": null,
            "overflow_y": null,
            "overflow_x": null,
            "grid_auto_flow": null,
            "grid_area": null,
            "grid_template_columns": null,
            "flex": null,
            "_model_name": "LayoutModel",
            "justify_items": null,
            "grid_row": null,
            "max_height": null,
            "align_content": null,
            "visibility": null,
            "align_self": null,
            "height": null,
            "min_height": null,
            "padding": null,
            "grid_auto_rows": null,
            "grid_gap": null,
            "max_width": null,
            "order": null,
            "_view_module_version": "1.2.0",
            "grid_template_areas": null,
            "object_position": null,
            "object_fit": null,
            "grid_auto_columns": null,
            "margin": null,
            "display": null,
            "left": null
          }
        },
        "1d2a57dfe5a14d25bf0b7a9a4e537c14": {
          "model_module": "@jupyter-widgets/controls",
          "model_name": "DescriptionStyleModel",
          "state": {
            "_view_name": "StyleView",
            "_model_name": "DescriptionStyleModel",
            "description_width": "",
            "_view_module": "@jupyter-widgets/base",
            "_model_module_version": "1.5.0",
            "_view_count": null,
            "_view_module_version": "1.2.0",
            "_model_module": "@jupyter-widgets/controls"
          }
        },
        "e8ae7eaa7b124d93b6ed22b0d822d61f": {
          "model_module": "@jupyter-widgets/base",
          "model_name": "LayoutModel",
          "state": {
            "_view_name": "LayoutView",
            "grid_template_rows": null,
            "right": null,
            "justify_content": null,
            "_view_module": "@jupyter-widgets/base",
            "overflow": null,
            "_model_module_version": "1.2.0",
            "_view_count": null,
            "flex_flow": null,
            "width": null,
            "min_width": null,
            "border": null,
            "align_items": null,
            "bottom": null,
            "_model_module": "@jupyter-widgets/base",
            "top": null,
            "grid_column": null,
            "overflow_y": null,
            "overflow_x": null,
            "grid_auto_flow": null,
            "grid_area": null,
            "grid_template_columns": null,
            "flex": null,
            "_model_name": "LayoutModel",
            "justify_items": null,
            "grid_row": null,
            "max_height": null,
            "align_content": null,
            "visibility": null,
            "align_self": null,
            "height": null,
            "min_height": null,
            "padding": null,
            "grid_auto_rows": null,
            "grid_gap": null,
            "max_width": null,
            "order": null,
            "_view_module_version": "1.2.0",
            "grid_template_areas": null,
            "object_position": null,
            "object_fit": null,
            "grid_auto_columns": null,
            "margin": null,
            "display": null,
            "left": null
          }
        },
        "861020eb0e3444488c00dfa32f930a7c": {
          "model_module": "@jupyter-widgets/controls",
          "model_name": "HBoxModel",
          "state": {
            "_view_name": "HBoxView",
            "_dom_classes": [],
            "_model_name": "HBoxModel",
            "_view_module": "@jupyter-widgets/controls",
            "_model_module_version": "1.5.0",
            "_view_count": null,
            "_view_module_version": "1.5.0",
            "box_style": "",
            "layout": "IPY_MODEL_aaf8d82da3b645c48badca14aeca11a1",
            "_model_module": "@jupyter-widgets/controls",
            "children": [
              "IPY_MODEL_53e0891867404816aa097bd8bc1f18b9",
              "IPY_MODEL_344ce5c31cbe448bb53122ab5a165740"
            ]
          }
        },
        "aaf8d82da3b645c48badca14aeca11a1": {
          "model_module": "@jupyter-widgets/base",
          "model_name": "LayoutModel",
          "state": {
            "_view_name": "LayoutView",
            "grid_template_rows": null,
            "right": null,
            "justify_content": null,
            "_view_module": "@jupyter-widgets/base",
            "overflow": null,
            "_model_module_version": "1.2.0",
            "_view_count": null,
            "flex_flow": null,
            "width": null,
            "min_width": null,
            "border": null,
            "align_items": null,
            "bottom": null,
            "_model_module": "@jupyter-widgets/base",
            "top": null,
            "grid_column": null,
            "overflow_y": null,
            "overflow_x": null,
            "grid_auto_flow": null,
            "grid_area": null,
            "grid_template_columns": null,
            "flex": null,
            "_model_name": "LayoutModel",
            "justify_items": null,
            "grid_row": null,
            "max_height": null,
            "align_content": null,
            "visibility": null,
            "align_self": null,
            "height": null,
            "min_height": null,
            "padding": null,
            "grid_auto_rows": null,
            "grid_gap": null,
            "max_width": null,
            "order": null,
            "_view_module_version": "1.2.0",
            "grid_template_areas": null,
            "object_position": null,
            "object_fit": null,
            "grid_auto_columns": null,
            "margin": null,
            "display": null,
            "left": null
          }
        },
        "53e0891867404816aa097bd8bc1f18b9": {
          "model_module": "@jupyter-widgets/controls",
          "model_name": "FloatProgressModel",
          "state": {
            "_view_name": "ProgressView",
            "style": "IPY_MODEL_28199beb81ac4c24bc358e2b6748a824",
            "_dom_classes": [],
            "description": "100%",
            "_model_name": "FloatProgressModel",
            "bar_style": "success",
            "max": 400,
            "_view_module": "@jupyter-widgets/controls",
            "_model_module_version": "1.5.0",
            "value": 400,
            "_view_count": null,
            "_view_module_version": "1.5.0",
            "orientation": "horizontal",
            "min": 0,
            "description_tooltip": null,
            "_model_module": "@jupyter-widgets/controls",
            "layout": "IPY_MODEL_12f19fb65d414fd0830981b2e7bfee3c"
          }
        },
        "344ce5c31cbe448bb53122ab5a165740": {
          "model_module": "@jupyter-widgets/controls",
          "model_name": "HTMLModel",
          "state": {
            "_view_name": "HTMLView",
            "style": "IPY_MODEL_cd92384ab178416184392fb8a1a07601",
            "_dom_classes": [],
            "description": "",
            "_model_name": "HTMLModel",
            "placeholder": "​",
            "_view_module": "@jupyter-widgets/controls",
            "_model_module_version": "1.5.0",
            "value": " 400/400 [00:56&lt;00:00,  7.07it/s]",
            "_view_count": null,
            "_view_module_version": "1.5.0",
            "description_tooltip": null,
            "_model_module": "@jupyter-widgets/controls",
            "layout": "IPY_MODEL_2adda17ed1854bf7b3546aa39caaccae"
          }
        },
        "28199beb81ac4c24bc358e2b6748a824": {
          "model_module": "@jupyter-widgets/controls",
          "model_name": "ProgressStyleModel",
          "state": {
            "_view_name": "StyleView",
            "_model_name": "ProgressStyleModel",
            "description_width": "initial",
            "_view_module": "@jupyter-widgets/base",
            "_model_module_version": "1.5.0",
            "_view_count": null,
            "_view_module_version": "1.2.0",
            "bar_color": null,
            "_model_module": "@jupyter-widgets/controls"
          }
        },
        "12f19fb65d414fd0830981b2e7bfee3c": {
          "model_module": "@jupyter-widgets/base",
          "model_name": "LayoutModel",
          "state": {
            "_view_name": "LayoutView",
            "grid_template_rows": null,
            "right": null,
            "justify_content": null,
            "_view_module": "@jupyter-widgets/base",
            "overflow": null,
            "_model_module_version": "1.2.0",
            "_view_count": null,
            "flex_flow": null,
            "width": null,
            "min_width": null,
            "border": null,
            "align_items": null,
            "bottom": null,
            "_model_module": "@jupyter-widgets/base",
            "top": null,
            "grid_column": null,
            "overflow_y": null,
            "overflow_x": null,
            "grid_auto_flow": null,
            "grid_area": null,
            "grid_template_columns": null,
            "flex": null,
            "_model_name": "LayoutModel",
            "justify_items": null,
            "grid_row": null,
            "max_height": null,
            "align_content": null,
            "visibility": null,
            "align_self": null,
            "height": null,
            "min_height": null,
            "padding": null,
            "grid_auto_rows": null,
            "grid_gap": null,
            "max_width": null,
            "order": null,
            "_view_module_version": "1.2.0",
            "grid_template_areas": null,
            "object_position": null,
            "object_fit": null,
            "grid_auto_columns": null,
            "margin": null,
            "display": null,
            "left": null
          }
        },
        "cd92384ab178416184392fb8a1a07601": {
          "model_module": "@jupyter-widgets/controls",
          "model_name": "DescriptionStyleModel",
          "state": {
            "_view_name": "StyleView",
            "_model_name": "DescriptionStyleModel",
            "description_width": "",
            "_view_module": "@jupyter-widgets/base",
            "_model_module_version": "1.5.0",
            "_view_count": null,
            "_view_module_version": "1.2.0",
            "_model_module": "@jupyter-widgets/controls"
          }
        },
        "2adda17ed1854bf7b3546aa39caaccae": {
          "model_module": "@jupyter-widgets/base",
          "model_name": "LayoutModel",
          "state": {
            "_view_name": "LayoutView",
            "grid_template_rows": null,
            "right": null,
            "justify_content": null,
            "_view_module": "@jupyter-widgets/base",
            "overflow": null,
            "_model_module_version": "1.2.0",
            "_view_count": null,
            "flex_flow": null,
            "width": null,
            "min_width": null,
            "border": null,
            "align_items": null,
            "bottom": null,
            "_model_module": "@jupyter-widgets/base",
            "top": null,
            "grid_column": null,
            "overflow_y": null,
            "overflow_x": null,
            "grid_auto_flow": null,
            "grid_area": null,
            "grid_template_columns": null,
            "flex": null,
            "_model_name": "LayoutModel",
            "justify_items": null,
            "grid_row": null,
            "max_height": null,
            "align_content": null,
            "visibility": null,
            "align_self": null,
            "height": null,
            "min_height": null,
            "padding": null,
            "grid_auto_rows": null,
            "grid_gap": null,
            "max_width": null,
            "order": null,
            "_view_module_version": "1.2.0",
            "grid_template_areas": null,
            "object_position": null,
            "object_fit": null,
            "grid_auto_columns": null,
            "margin": null,
            "display": null,
            "left": null
          }
        }
      }
    }
  },
  "cells": [
    {
      "cell_type": "code",
      "metadata": {
        "colab": {
          "base_uri": "https://localhost:8080/"
        },
        "id": "F0yZthZrtyDT",
        "outputId": "104fa30f-3f54-4778-db43-97940413e6eb"
      },
      "source": [
        " !pip install transformers\n",
        "!pip install datasets"
      ],
      "execution_count": null,
      "outputs": [
        {
          "output_type": "stream",
          "text": [
            "Collecting transformers\n",
            "\u001b[?25l  Downloading https://files.pythonhosted.org/packages/81/91/61d69d58a1af1bd81d9ca9d62c90a6de3ab80d77f27c5df65d9a2c1f5626/transformers-4.5.0-py3-none-any.whl (2.1MB)\n",
            "\u001b[K     |████████████████████████████████| 2.2MB 17.6MB/s \n",
            "\u001b[?25hRequirement already satisfied: importlib-metadata; python_version < \"3.8\" in /usr/local/lib/python3.7/dist-packages (from transformers) (3.8.1)\n",
            "Requirement already satisfied: filelock in /usr/local/lib/python3.7/dist-packages (from transformers) (3.0.12)\n",
            "Requirement already satisfied: numpy>=1.17 in /usr/local/lib/python3.7/dist-packages (from transformers) (1.19.5)\n",
            "Collecting tokenizers<0.11,>=0.10.1\n",
            "\u001b[?25l  Downloading https://files.pythonhosted.org/packages/ae/04/5b870f26a858552025a62f1649c20d29d2672c02ff3c3fb4c688ca46467a/tokenizers-0.10.2-cp37-cp37m-manylinux2010_x86_64.whl (3.3MB)\n",
            "\u001b[K     |████████████████████████████████| 3.3MB 52.9MB/s \n",
            "\u001b[?25hCollecting sacremoses\n",
            "\u001b[?25l  Downloading https://files.pythonhosted.org/packages/08/cd/342e584ee544d044fb573ae697404ce22ede086c9e87ce5960772084cad0/sacremoses-0.0.44.tar.gz (862kB)\n",
            "\u001b[K     |████████████████████████████████| 870kB 28.4MB/s \n",
            "\u001b[?25hRequirement already satisfied: packaging in /usr/local/lib/python3.7/dist-packages (from transformers) (20.9)\n",
            "Requirement already satisfied: tqdm>=4.27 in /usr/local/lib/python3.7/dist-packages (from transformers) (4.41.1)\n",
            "Requirement already satisfied: requests in /usr/local/lib/python3.7/dist-packages (from transformers) (2.23.0)\n",
            "Requirement already satisfied: regex!=2019.12.17 in /usr/local/lib/python3.7/dist-packages (from transformers) (2019.12.20)\n",
            "Requirement already satisfied: typing-extensions>=3.6.4; python_version < \"3.8\" in /usr/local/lib/python3.7/dist-packages (from importlib-metadata; python_version < \"3.8\"->transformers) (3.7.4.3)\n",
            "Requirement already satisfied: zipp>=0.5 in /usr/local/lib/python3.7/dist-packages (from importlib-metadata; python_version < \"3.8\"->transformers) (3.4.1)\n",
            "Requirement already satisfied: six in /usr/local/lib/python3.7/dist-packages (from sacremoses->transformers) (1.15.0)\n",
            "Requirement already satisfied: click in /usr/local/lib/python3.7/dist-packages (from sacremoses->transformers) (7.1.2)\n",
            "Requirement already satisfied: joblib in /usr/local/lib/python3.7/dist-packages (from sacremoses->transformers) (1.0.1)\n",
            "Requirement already satisfied: pyparsing>=2.0.2 in /usr/local/lib/python3.7/dist-packages (from packaging->transformers) (2.4.7)\n",
            "Requirement already satisfied: chardet<4,>=3.0.2 in /usr/local/lib/python3.7/dist-packages (from requests->transformers) (3.0.4)\n",
            "Requirement already satisfied: certifi>=2017.4.17 in /usr/local/lib/python3.7/dist-packages (from requests->transformers) (2020.12.5)\n",
            "Requirement already satisfied: idna<3,>=2.5 in /usr/local/lib/python3.7/dist-packages (from requests->transformers) (2.10)\n",
            "Requirement already satisfied: urllib3!=1.25.0,!=1.25.1,<1.26,>=1.21.1 in /usr/local/lib/python3.7/dist-packages (from requests->transformers) (1.24.3)\n",
            "Building wheels for collected packages: sacremoses\n",
            "  Building wheel for sacremoses (setup.py) ... \u001b[?25l\u001b[?25hdone\n",
            "  Created wheel for sacremoses: filename=sacremoses-0.0.44-cp37-none-any.whl size=886084 sha256=d3062787088d43700cf047c8075314f78c6134eee13b9133be63328e9e8c5155\n",
            "  Stored in directory: /root/.cache/pip/wheels/3e/fb/c0/13ab4d63d537658f448366744654323077c4d90069b6512f3c\n",
            "Successfully built sacremoses\n",
            "Installing collected packages: tokenizers, sacremoses, transformers\n",
            "Successfully installed sacremoses-0.0.44 tokenizers-0.10.2 transformers-4.5.0\n",
            "Collecting datasets\n",
            "\u001b[?25l  Downloading https://files.pythonhosted.org/packages/54/90/43b396481a8298c6010afb93b3c1e71d4ba6f8c10797a7da8eb005e45081/datasets-1.5.0-py3-none-any.whl (192kB)\n",
            "\u001b[K     |████████████████████████████████| 194kB 17.2MB/s \n",
            "\u001b[?25hRequirement already satisfied: numpy>=1.17 in /usr/local/lib/python3.7/dist-packages (from datasets) (1.19.5)\n",
            "Requirement already satisfied: importlib-metadata; python_version < \"3.8\" in /usr/local/lib/python3.7/dist-packages (from datasets) (3.8.1)\n",
            "Requirement already satisfied: requests>=2.19.0 in /usr/local/lib/python3.7/dist-packages (from datasets) (2.23.0)\n",
            "Requirement already satisfied: pyarrow>=0.17.1 in /usr/local/lib/python3.7/dist-packages (from datasets) (3.0.0)\n",
            "Requirement already satisfied: pandas in /usr/local/lib/python3.7/dist-packages (from datasets) (1.1.5)\n",
            "Requirement already satisfied: tqdm<4.50.0,>=4.27 in /usr/local/lib/python3.7/dist-packages (from datasets) (4.41.1)\n",
            "Collecting fsspec\n",
            "\u001b[?25l  Downloading https://files.pythonhosted.org/packages/62/11/f7689b996f85e45f718745c899f6747ee5edb4878cadac0a41ab146828fa/fsspec-0.9.0-py3-none-any.whl (107kB)\n",
            "\u001b[K     |████████████████████████████████| 112kB 37.9MB/s \n",
            "\u001b[?25hCollecting xxhash\n",
            "\u001b[?25l  Downloading https://files.pythonhosted.org/packages/e7/27/1c0b37c53a7852f1c190ba5039404d27b3ae96a55f48203a74259f8213c9/xxhash-2.0.0-cp37-cp37m-manylinux2010_x86_64.whl (243kB)\n",
            "\u001b[K     |████████████████████████████████| 245kB 49.4MB/s \n",
            "\u001b[?25hRequirement already satisfied: multiprocess in /usr/local/lib/python3.7/dist-packages (from datasets) (0.70.11.1)\n",
            "Requirement already satisfied: dill in /usr/local/lib/python3.7/dist-packages (from datasets) (0.3.3)\n",
            "Collecting huggingface-hub<0.1.0\n",
            "  Downloading https://files.pythonhosted.org/packages/a1/88/7b1e45720ecf59c6c6737ff332f41c955963090a18e72acbcbeac6b25e86/huggingface_hub-0.0.8-py3-none-any.whl\n",
            "Requirement already satisfied: zipp>=0.5 in /usr/local/lib/python3.7/dist-packages (from importlib-metadata; python_version < \"3.8\"->datasets) (3.4.1)\n",
            "Requirement already satisfied: typing-extensions>=3.6.4; python_version < \"3.8\" in /usr/local/lib/python3.7/dist-packages (from importlib-metadata; python_version < \"3.8\"->datasets) (3.7.4.3)\n",
            "Requirement already satisfied: idna<3,>=2.5 in /usr/local/lib/python3.7/dist-packages (from requests>=2.19.0->datasets) (2.10)\n",
            "Requirement already satisfied: urllib3!=1.25.0,!=1.25.1,<1.26,>=1.21.1 in /usr/local/lib/python3.7/dist-packages (from requests>=2.19.0->datasets) (1.24.3)\n",
            "Requirement already satisfied: certifi>=2017.4.17 in /usr/local/lib/python3.7/dist-packages (from requests>=2.19.0->datasets) (2020.12.5)\n",
            "Requirement already satisfied: chardet<4,>=3.0.2 in /usr/local/lib/python3.7/dist-packages (from requests>=2.19.0->datasets) (3.0.4)\n",
            "Requirement already satisfied: pytz>=2017.2 in /usr/local/lib/python3.7/dist-packages (from pandas->datasets) (2018.9)\n",
            "Requirement already satisfied: python-dateutil>=2.7.3 in /usr/local/lib/python3.7/dist-packages (from pandas->datasets) (2.8.1)\n",
            "Requirement already satisfied: filelock in /usr/local/lib/python3.7/dist-packages (from huggingface-hub<0.1.0->datasets) (3.0.12)\n",
            "Requirement already satisfied: six>=1.5 in /usr/local/lib/python3.7/dist-packages (from python-dateutil>=2.7.3->pandas->datasets) (1.15.0)\n"
          ],
          "name": "stdout"
        }
      ]
    },
    {
      "cell_type": "code",
      "metadata": {
        "id": "VfNS74aDtruu"
      },
      "source": [
        "from transformers import AutoTokenizer, AutoModelWithLMHead\n",
        "  \n",
        "tokenizer = AutoTokenizer.from_pretrained(\"t5-base\")\n",
        "  \n",
        "model = AutoModelWithLMHead.from_pretrained(\"t5-base\")"
      ],
      "execution_count": null,
      "outputs": []
    },
    {
      "cell_type": "code",
      "metadata": {
        "id": "goq9qeA-NpXT"
      },
      "source": [
        "model.cuda()"
      ],
      "execution_count": null,
      "outputs": []
    },
    {
      "cell_type": "code",
      "metadata": {
        "id": "nPUalwXsm8qm"
      },
      "source": [
        "\"\"\"\n",
        "Hans is nice. premise: Hans is immortal. wird zu entailment\n",
        "\n",
        "Hans is nice. premise: Hans is mortal wird zu contradiction.\n",
        "\n",
        "(umgedreht wenn ugly statt nice)\n",
        "\n",
        "T5 schaut also nicht wirklich auf logik, sondern ob beide adjektive negativ/positiv annotiert sind\n",
        "\"\"\""
      ],
      "execution_count": null,
      "outputs": []
    },
    {
      "cell_type": "code",
      "metadata": {
        "id": "KXGZbvLkopua"
      },
      "source": [
        "\"\"\"\n",
        "T5 schaut auch auf token overlapps\n",
        "\n",
        "hypothesis: lgisbs qk  asdof asdsadf sdaf opekewqtj+ öysdohidfgölmn premise: df opiasejiü nüowe mjdbf0e <,m opekewqtj+ öysdohidfgölmn sfio´wetmknyxgbkjbbu \n",
        "wird zu entailment während\n",
        "\n",
        "hypothesis: lgisbs qk  asdof asdsadf sdaf opekewqtj+ öysdohidfgölmn premise: df opiasejiü nüowe mjdbf0e <,m sfio´wetmknyxgbkjbbu\n",
        "\n",
        "contradiction ist\n",
        "\n",
        "(im ersten ist der prämisse ein teil der hypothese eingefügt)\n",
        "\n",
        "\"\"\""
      ],
      "execution_count": null,
      "outputs": []
    },
    {
      "cell_type": "code",
      "metadata": {
        "id": "UEL7dHsDAi7X"
      },
      "source": [
        "\"hypothesis: A person loves gras. premise: All humans like turf\" wird zu contradiciton\n",
        "text = \"hypothesis: Trees are green premise: Plants are green\"wird zu neutral-> versteht also nicht dass bäume auch plzanzen sind"
      ],
      "execution_count": null,
      "outputs": []
    },
    {
      "cell_type": "code",
      "metadata": {
        "colab": {
          "base_uri": "https://localhost:8080/",
          "height": 154
        },
        "id": "T54tLSCpXkdE",
        "outputId": "d831109a-ba15-48cc-f5d6-6593651891a7"
      },
      "source": [
        "premise = tokenizer.encode(\"All humans are mortal. Hans is a human. \",return_tensors=\"pt\").cuda()[:,1:]\n",
        "hypothesis = tokenizer.encode(\"Hans is mortal. \",return_tensors=\"pt\").cuda()[:,1:-1]\n",
        "X = tokenizer.encode(\"hypothesis: \",return_tensors=\"pt\").cuda()[:,:-1]\n",
        "Y = tokenizer.encode(\"premise: \",return_tensors=\"pt\").cuda()[:,1:-1]\n",
        "\n",
        "\n",
        "input_ids = torch.cat([X,hypothesis,Y,premise],dim=-1)\n",
        "print(input_ids)\n",
        "print(tokenizer.encode(\"hypothesis: Hans is mortal. premise: All humans are mortal. Hans is a human. \",return_tensors=\"pt\").cuda())\n",
        "print(tokenizer.decode(input_ids[0]))\n",
        "\n",
        "tokenizer.decode(model.generate(input_ids)[0])"
      ],
      "execution_count": null,
      "outputs": [
        {
          "output_type": "stream",
          "text": [
            "tensor([[22455,    10,    19, 24301,     5, 17398,    10,  6917,    33, 24301,\n",
            "             5, 10001,    19,     3,     9,   936,     5,     1]],\n",
            "       device='cuda:0')\n",
            "tensor([[22455,    10, 10001,    19, 24301,     5,     3, 17398,    10,   432,\n",
            "          6917,    33, 24301,     5, 10001,    19,     3,     9,   936,     5,\n",
            "             1]], device='cuda:0')\n",
            "hypothesis: is mortal.premise: humans are mortal. Hans is a human.</s>\n"
          ],
          "name": "stdout"
        },
        {
          "output_type": "execute_result",
          "data": {
            "application/vnd.google.colaboratory.intrinsic+json": {
              "type": "string"
            },
            "text/plain": [
              "'<pad> entailment</s>'"
            ]
          },
          "metadata": {
            "tags": []
          },
          "execution_count": 30
        }
      ]
    },
    {
      "cell_type": "code",
      "metadata": {
        "colab": {
          "base_uri": "https://localhost:8080/",
          "height": 69
        },
        "id": "Rw1WUMNLdfnb",
        "outputId": "d5dd1447-f77d-435c-e1e8-63338ceaf463"
      },
      "source": [
        "\n",
        "\n",
        "print(input_ids)\n",
        "# With view\n",
        "idx = torch.randperm(input_ids.nelement())\n",
        "tokenizer.decode(input_ids.view(-1)[idx].view(input_ids.size())[0])"
      ],
      "execution_count": null,
      "outputs": [
        {
          "output_type": "stream",
          "text": [
            "tensor([[10001,    19,     3,     9,   936,     5,   432,  6917,    33, 24301,\n",
            "             5,     1]], device='cuda:0')\n"
          ],
          "name": "stdout"
        },
        {
          "output_type": "execute_result",
          "data": {
            "application/vnd.google.colaboratory.intrinsic+json": {
              "type": "string"
            },
            "text/plain": [
              "'humansa. are is human.</s> All mortal Hans '"
            ]
          },
          "metadata": {
            "tags": []
          },
          "execution_count": 18
        }
      ]
    },
    {
      "cell_type": "code",
      "metadata": {
        "id": "Vz1_UKAj5ax_"
      },
      "source": [
        ": mnli hypothesis: The St. Louis Cardinals have always won. premise:\n",
        "yeah well losing is i mean i’m i’m originally from Saint Louis and Saint Louis\n",
        "Cardinals when they were there were uh a mostly a losing team but\n"
      ],
      "execution_count": null,
      "outputs": []
    },
    {
      "cell_type": "markdown",
      "metadata": {
        "id": "Nmgettm-fUEK"
      },
      "source": [
        "# Translate"
      ]
    },
    {
      "cell_type": "code",
      "metadata": {
        "colab": {
          "base_uri": "https://localhost:8080/"
        },
        "id": "Gie-QR5tzm7d",
        "outputId": "d3417d77-7574-42e8-f1c1-5c6f255d4f31"
      },
      "source": [
        "pip install googletrans==3.1.0a0"
      ],
      "execution_count": null,
      "outputs": [
        {
          "output_type": "stream",
          "text": [
            "Collecting googletrans==3.1.0a0\n",
            "  Downloading https://files.pythonhosted.org/packages/19/3d/4e3a1609bf52f2f7b00436cc751eb977e27040665dde2bd57e7152989672/googletrans-3.1.0a0.tar.gz\n",
            "Collecting httpx==0.13.3\n",
            "\u001b[?25l  Downloading https://files.pythonhosted.org/packages/54/b4/698b284c6aed4d7c2b4fe3ba5df1fcf6093612423797e76fbb24890dd22f/httpx-0.13.3-py3-none-any.whl (55kB)\n",
            "\u001b[K     |████████████████████████████████| 61kB 5.4MB/s \n",
            "\u001b[?25hRequirement already satisfied: idna==2.* in /usr/local/lib/python3.7/dist-packages (from httpx==0.13.3->googletrans==3.1.0a0) (2.10)\n",
            "Collecting hstspreload\n",
            "\u001b[?25l  Downloading https://files.pythonhosted.org/packages/dd/50/606213e12fb49c5eb667df0936223dcaf461f94e215ea60244b2b1e9b039/hstspreload-2020.12.22-py3-none-any.whl (994kB)\n",
            "\u001b[K     |████████████████████████████████| 1.0MB 16.8MB/s \n",
            "\u001b[?25hRequirement already satisfied: chardet==3.* in /usr/local/lib/python3.7/dist-packages (from httpx==0.13.3->googletrans==3.1.0a0) (3.0.4)\n",
            "Collecting sniffio\n",
            "  Downloading https://files.pythonhosted.org/packages/52/b0/7b2e028b63d092804b6794595871f936aafa5e9322dcaaad50ebf67445b3/sniffio-1.2.0-py3-none-any.whl\n",
            "Collecting httpcore==0.9.*\n",
            "\u001b[?25l  Downloading https://files.pythonhosted.org/packages/dd/d5/e4ff9318693ac6101a2095e580908b591838c6f33df8d3ee8dd953ba96a8/httpcore-0.9.1-py3-none-any.whl (42kB)\n",
            "\u001b[K     |████████████████████████████████| 51kB 6.1MB/s \n",
            "\u001b[?25hRequirement already satisfied: certifi in /usr/local/lib/python3.7/dist-packages (from httpx==0.13.3->googletrans==3.1.0a0) (2020.12.5)\n",
            "Collecting rfc3986<2,>=1.3\n",
            "  Downloading https://files.pythonhosted.org/packages/78/be/7b8b99fd74ff5684225f50dd0e865393d2265656ef3b4ba9eaaaffe622b8/rfc3986-1.4.0-py2.py3-none-any.whl\n",
            "Collecting h11<0.10,>=0.8\n",
            "\u001b[?25l  Downloading https://files.pythonhosted.org/packages/5a/fd/3dad730b0f95e78aeeb742f96fa7bbecbdd56a58e405d3da440d5bfb90c6/h11-0.9.0-py2.py3-none-any.whl (53kB)\n",
            "\u001b[K     |████████████████████████████████| 61kB 7.0MB/s \n",
            "\u001b[?25hCollecting h2==3.*\n",
            "\u001b[?25l  Downloading https://files.pythonhosted.org/packages/25/de/da019bcc539eeab02f6d45836f23858ac467f584bfec7a526ef200242afe/h2-3.2.0-py2.py3-none-any.whl (65kB)\n",
            "\u001b[K     |████████████████████████████████| 71kB 7.1MB/s \n",
            "\u001b[?25hCollecting hpack<4,>=3.0\n",
            "  Downloading https://files.pythonhosted.org/packages/8a/cc/e53517f4a1e13f74776ca93271caef378dadec14d71c61c949d759d3db69/hpack-3.0.0-py2.py3-none-any.whl\n",
            "Collecting hyperframe<6,>=5.2.0\n",
            "  Downloading https://files.pythonhosted.org/packages/19/0c/bf88182bcb5dce3094e2f3e4fe20db28a9928cb7bd5b08024030e4b140db/hyperframe-5.2.0-py2.py3-none-any.whl\n",
            "Building wheels for collected packages: googletrans\n",
            "  Building wheel for googletrans (setup.py) ... \u001b[?25l\u001b[?25hdone\n",
            "  Created wheel for googletrans: filename=googletrans-3.1.0a0-cp37-none-any.whl size=16368 sha256=de81d8a2db1a7dd88ce398209cc50f4bcff3d3e6402f6b96dce273a15c847943\n",
            "  Stored in directory: /root/.cache/pip/wheels/27/7a/a0/aff3babbb775549ce6813cb8fa7ff3c0848c4dc62c20f8fdac\n",
            "Successfully built googletrans\n",
            "Installing collected packages: hstspreload, sniffio, h11, hpack, hyperframe, h2, httpcore, rfc3986, httpx, googletrans\n",
            "Successfully installed googletrans-3.1.0a0 h11-0.9.0 h2-3.2.0 hpack-3.0.0 hstspreload-2020.12.22 httpcore-0.9.1 httpx-0.13.3 hyperframe-5.2.0 rfc3986-1.4.0 sniffio-1.2.0\n"
          ],
          "name": "stdout"
        }
      ]
    },
    {
      "cell_type": "code",
      "metadata": {
        "id": "DeIspSmQ1fyy"
      },
      "source": [
        ""
      ],
      "execution_count": null,
      "outputs": []
    },
    {
      "cell_type": "code",
      "metadata": {
        "colab": {
          "base_uri": "https://localhost:8080/",
          "height": 367
        },
        "id": "FNdevCwg8dbU",
        "outputId": "0ad67fa2-816d-477e-84f6-0b23a66be6ab"
      },
      "source": [
        "#TODO do again, minimize API access, or use another transformer(MartianMT), then do other languages like spanish\n",
        "from google_trans_new import google_translator  \n",
        "translator = google_translator()  \n",
        "translate_text = translator.translate('I like the stock',lang_tgt='de',lang_src=\"en\")  \n",
        "print(translate_text)\n",
        "#output: Hello china"
      ],
      "execution_count": null,
      "outputs": [
        {
          "output_type": "error",
          "ename": "ModuleNotFoundError",
          "evalue": "ignored",
          "traceback": [
            "\u001b[0;31m---------------------------------------------------------------------------\u001b[0m",
            "\u001b[0;31mModuleNotFoundError\u001b[0m                       Traceback (most recent call last)",
            "\u001b[0;32m<ipython-input-6-9ea0d3becb47>\u001b[0m in \u001b[0;36m<module>\u001b[0;34m()\u001b[0m\n\u001b[1;32m      1\u001b[0m \u001b[0;31m#TODO do again, minimize API access, or use another transformer(MartianMT), then do other languages like spanish\u001b[0m\u001b[0;34m\u001b[0m\u001b[0;34m\u001b[0m\u001b[0;34m\u001b[0m\u001b[0m\n\u001b[0;32m----> 2\u001b[0;31m \u001b[0;32mfrom\u001b[0m \u001b[0mgoogle_trans_new\u001b[0m \u001b[0;32mimport\u001b[0m \u001b[0mgoogle_translator\u001b[0m\u001b[0;34m\u001b[0m\u001b[0;34m\u001b[0m\u001b[0m\n\u001b[0m\u001b[1;32m      3\u001b[0m \u001b[0mtranslator\u001b[0m \u001b[0;34m=\u001b[0m \u001b[0mgoogle_translator\u001b[0m\u001b[0;34m(\u001b[0m\u001b[0;34m)\u001b[0m\u001b[0;34m\u001b[0m\u001b[0;34m\u001b[0m\u001b[0m\n\u001b[1;32m      4\u001b[0m \u001b[0mtranslate_text\u001b[0m \u001b[0;34m=\u001b[0m \u001b[0mtranslator\u001b[0m\u001b[0;34m.\u001b[0m\u001b[0mtranslate\u001b[0m\u001b[0;34m(\u001b[0m\u001b[0;34m'I like the stock'\u001b[0m\u001b[0;34m,\u001b[0m\u001b[0mlang_tgt\u001b[0m\u001b[0;34m=\u001b[0m\u001b[0;34m'de'\u001b[0m\u001b[0;34m,\u001b[0m\u001b[0mlang_src\u001b[0m\u001b[0;34m=\u001b[0m\u001b[0;34m\"en\"\u001b[0m\u001b[0;34m)\u001b[0m\u001b[0;34m\u001b[0m\u001b[0;34m\u001b[0m\u001b[0m\n\u001b[1;32m      5\u001b[0m \u001b[0mprint\u001b[0m\u001b[0;34m(\u001b[0m\u001b[0mtranslate_text\u001b[0m\u001b[0;34m)\u001b[0m\u001b[0;34m\u001b[0m\u001b[0;34m\u001b[0m\u001b[0m\n",
            "\u001b[0;31mModuleNotFoundError\u001b[0m: No module named 'google_trans_new'",
            "",
            "\u001b[0;31m---------------------------------------------------------------------------\u001b[0;32m\nNOTE: If your import is failing due to a missing package, you can\nmanually install dependencies using either !pip or !apt.\n\nTo view examples of installing some common dependencies, click the\n\"Open Examples\" button below.\n\u001b[0;31m---------------------------------------------------------------------------\u001b[0m\n"
          ]
        }
      ]
    },
    {
      "cell_type": "code",
      "metadata": {
        "colab": {
          "base_uri": "https://localhost:8080/",
          "height": 1000
        },
        "id": "wuwjcZeR_P1q",
        "outputId": "0425de8f-03e3-4345-9878-2fcec0872abb"
      },
      "source": [
        "!pip install translate"
      ],
      "execution_count": null,
      "outputs": [
        {
          "output_type": "stream",
          "text": [
            "Collecting translate\n",
            "  Downloading https://files.pythonhosted.org/packages/85/b2/2ea329a07bbc0c7227eef84ca89ffd6895e7ec237d6c0b26574d56103e53/translate-3.5.0-py2.py3-none-any.whl\n",
            "Requirement already satisfied: lxml in /usr/local/lib/python3.7/dist-packages (from translate) (4.2.6)\n",
            "Collecting pre-commit\n",
            "\u001b[?25l  Downloading https://files.pythonhosted.org/packages/e4/ef/a3889a07344c047ed011ea198805bd3377f22675c20df944152e466e7fdc/pre_commit-2.11.1-py2.py3-none-any.whl (187kB)\n",
            "\u001b[K     |████████████████████████████████| 194kB 10.2MB/s \n",
            "\u001b[?25hRequirement already satisfied: requests in /usr/local/lib/python3.7/dist-packages (from translate) (2.23.0)\n",
            "Requirement already satisfied: click in /usr/local/lib/python3.7/dist-packages (from translate) (7.1.2)\n",
            "Collecting tox\n",
            "\u001b[?25l  Downloading https://files.pythonhosted.org/packages/ec/7e/4609fd0386d41f0b94fe952708970fb87cc1fb66e088758b1f0ab336802e/tox-3.23.0-py2.py3-none-any.whl (85kB)\n",
            "\u001b[K     |████████████████████████████████| 92kB 8.3MB/s \n",
            "\u001b[?25hRequirement already satisfied: toml in /usr/local/lib/python3.7/dist-packages (from pre-commit->translate) (0.10.2)\n",
            "Collecting nodeenv>=0.11.1\n",
            "  Downloading https://files.pythonhosted.org/packages/ae/d0/efdf54539948315cc76e5a66b709212963101d002822c3b54369dbf9b5e0/nodeenv-1.5.0-py2.py3-none-any.whl\n",
            "Collecting virtualenv>=20.0.8\n",
            "\u001b[?25l  Downloading https://files.pythonhosted.org/packages/91/fb/ca6c071f4231e06a9f0c3bd81c15c233bbacd4a7d9dbb7438d95fece8a1e/virtualenv-20.4.3-py2.py3-none-any.whl (7.2MB)\n",
            "\u001b[K     |████████████████████████████████| 7.2MB 16.3MB/s \n",
            "\u001b[?25hCollecting pyyaml>=5.1\n",
            "\u001b[?25l  Downloading https://files.pythonhosted.org/packages/7a/a5/393c087efdc78091afa2af9f1378762f9821c9c1d7a22c5753fb5ac5f97a/PyYAML-5.4.1-cp37-cp37m-manylinux1_x86_64.whl (636kB)\n",
            "\u001b[K     |████████████████████████████████| 645kB 50.9MB/s \n",
            "\u001b[?25hCollecting cfgv>=2.0.0\n",
            "  Downloading https://files.pythonhosted.org/packages/45/cd/3878c9248e59e5e2ebd0dc741ab984b18d86e7283ae9b127b05fc287d239/cfgv-3.2.0-py2.py3-none-any.whl\n",
            "Requirement already satisfied: importlib-metadata; python_version < \"3.8\" in /usr/local/lib/python3.7/dist-packages (from pre-commit->translate) (3.7.2)\n",
            "Collecting identify>=1.0.0\n",
            "\u001b[?25l  Downloading https://files.pythonhosted.org/packages/d3/dd/e8dec7cbfaf7a99cc934c7884d41cab27f0c30f00f14f801071712593257/identify-2.1.3-py2.py3-none-any.whl (98kB)\n",
            "\u001b[K     |████████████████████████████████| 102kB 13.4MB/s \n",
            "\u001b[?25hRequirement already satisfied: urllib3!=1.25.0,!=1.25.1,<1.26,>=1.21.1 in /usr/local/lib/python3.7/dist-packages (from requests->translate) (1.24.3)\n",
            "Requirement already satisfied: chardet<4,>=3.0.2 in /usr/local/lib/python3.7/dist-packages (from requests->translate) (3.0.4)\n",
            "Requirement already satisfied: certifi>=2017.4.17 in /usr/local/lib/python3.7/dist-packages (from requests->translate) (2020.12.5)\n",
            "Requirement already satisfied: idna<3,>=2.5 in /usr/local/lib/python3.7/dist-packages (from requests->translate) (2.10)\n",
            "Requirement already satisfied: filelock>=3.0.0 in /usr/local/lib/python3.7/dist-packages (from tox->translate) (3.0.12)\n",
            "Requirement already satisfied: packaging>=14 in /usr/local/lib/python3.7/dist-packages (from tox->translate) (20.9)\n",
            "Requirement already satisfied: six>=1.14.0 in /usr/local/lib/python3.7/dist-packages (from tox->translate) (1.15.0)\n",
            "Requirement already satisfied: py>=1.4.17 in /usr/local/lib/python3.7/dist-packages (from tox->translate) (1.10.0)\n",
            "Collecting pluggy>=0.12.0\n",
            "  Downloading https://files.pythonhosted.org/packages/a0/28/85c7aa31b80d150b772fbe4a229487bc6644da9ccb7e427dd8cc60cb8a62/pluggy-0.13.1-py2.py3-none-any.whl\n",
            "Requirement already satisfied: appdirs<2,>=1.4.3 in /usr/local/lib/python3.7/dist-packages (from virtualenv>=20.0.8->pre-commit->translate) (1.4.4)\n",
            "Collecting distlib<1,>=0.3.1\n",
            "\u001b[?25l  Downloading https://files.pythonhosted.org/packages/f5/0a/490fa011d699bb5a5f3a0cf57de82237f52a6db9d40f33c53b2736c9a1f9/distlib-0.3.1-py2.py3-none-any.whl (335kB)\n",
            "\u001b[K     |████████████████████████████████| 337kB 50.2MB/s \n",
            "\u001b[?25hRequirement already satisfied: zipp>=0.5 in /usr/local/lib/python3.7/dist-packages (from importlib-metadata; python_version < \"3.8\"->pre-commit->translate) (3.4.1)\n",
            "Requirement already satisfied: typing-extensions>=3.6.4; python_version < \"3.8\" in /usr/local/lib/python3.7/dist-packages (from importlib-metadata; python_version < \"3.8\"->pre-commit->translate) (3.7.4.3)\n",
            "Requirement already satisfied: pyparsing>=2.0.2 in /usr/local/lib/python3.7/dist-packages (from packaging>=14->tox->translate) (2.4.7)\n",
            "\u001b[31mERROR: pytest 3.6.4 has requirement pluggy<0.8,>=0.5, but you'll have pluggy 0.13.1 which is incompatible.\u001b[0m\n",
            "\u001b[31mERROR: datascience 0.10.6 has requirement folium==0.2.1, but you'll have folium 0.8.3 which is incompatible.\u001b[0m\n",
            "Installing collected packages: nodeenv, distlib, virtualenv, pyyaml, cfgv, identify, pre-commit, pluggy, tox, translate\n",
            "  Found existing installation: PyYAML 3.13\n",
            "    Uninstalling PyYAML-3.13:\n",
            "      Successfully uninstalled PyYAML-3.13\n",
            "  Found existing installation: pluggy 0.7.1\n",
            "    Uninstalling pluggy-0.7.1:\n",
            "      Successfully uninstalled pluggy-0.7.1\n",
            "Successfully installed cfgv-3.2.0 distlib-0.3.1 identify-2.1.3 nodeenv-1.5.0 pluggy-0.13.1 pre-commit-2.11.1 pyyaml-5.4.1 tox-3.23.0 translate-3.5.0 virtualenv-20.4.3\n"
          ],
          "name": "stdout"
        },
        {
          "output_type": "display_data",
          "data": {
            "application/vnd.colab-display-data+json": {
              "pip_warning": {
                "packages": [
                  "yaml"
                ]
              }
            }
          },
          "metadata": {
            "tags": []
          }
        }
      ]
    },
    {
      "cell_type": "code",
      "metadata": {
        "id": "vCWDNgT36gE4"
      },
      "source": [
        " import googletrans\n",
        " googletrans.LANGCODES"
      ],
      "execution_count": null,
      "outputs": []
    },
    {
      "cell_type": "code",
      "metadata": {
        "colab": {
          "base_uri": "https://localhost:8080/",
          "height": 163
        },
        "id": "Tt41DIue-RJg",
        "outputId": "bd584c05-b95f-4779-fe2c-2775915fca45"
      },
      "source": [
        "[]"
      ],
      "execution_count": null,
      "outputs": [
        {
          "output_type": "error",
          "ename": "ValueError",
          "evalue": "ignored",
          "traceback": [
            "\u001b[0;31m---------------------------------------------------------------------------\u001b[0m",
            "\u001b[0;31mValueError\u001b[0m                                Traceback (most recent call last)",
            "\u001b[0;32m<ipython-input-91-c6ca9407206c>\u001b[0m in \u001b[0;36m<module>\u001b[0;34m()\u001b[0m\n\u001b[0;32m----> 1\u001b[0;31m \u001b[0mint\u001b[0m\u001b[0;34m(\u001b[0m\u001b[0;34m\"ls\"\u001b[0m\u001b[0;34m)\u001b[0m\u001b[0;34m\u001b[0m\u001b[0;34m\u001b[0m\u001b[0m\n\u001b[0m",
            "\u001b[0;31mValueError\u001b[0m: invalid literal for int() with base 10: 'ls'"
          ]
        }
      ]
    },
    {
      "cell_type": "code",
      "metadata": {
        "id": "Xr0s7TUhfTwI"
      },
      "source": [
        ""
      ],
      "execution_count": null,
      "outputs": []
    },
    {
      "cell_type": "code",
      "metadata": {
        "colab": {
          "base_uri": "https://localhost:8080/"
        },
        "id": "PgyxcbblfWUQ",
        "outputId": "ae3311f0-4683-40ae-d7e1-c290d11e14fd"
      },
      "source": [
        "!pip install dl-translate"
      ],
      "execution_count": null,
      "outputs": [
        {
          "output_type": "stream",
          "text": [
            "Requirement already satisfied: dl-translate in /usr/local/lib/python3.7/dist-packages (0.1.0)\n",
            "Requirement already satisfied: tqdm in /usr/local/lib/python3.7/dist-packages (from dl-translate) (4.41.1)\n",
            "Requirement already satisfied: torch in /usr/local/lib/python3.7/dist-packages (from dl-translate) (1.8.0+cu101)\n",
            "Requirement already satisfied: transformers>=4.4.0 in /usr/local/lib/python3.7/dist-packages (from dl-translate) (4.4.1)\n",
            "Requirement already satisfied: protobuf in /usr/local/lib/python3.7/dist-packages (from dl-translate) (3.12.4)\n",
            "Requirement already satisfied: sentencepiece in /usr/local/lib/python3.7/dist-packages (from dl-translate) (0.1.95)\n",
            "Requirement already satisfied: numpy in /usr/local/lib/python3.7/dist-packages (from torch->dl-translate) (1.19.5)\n",
            "Requirement already satisfied: typing-extensions in /usr/local/lib/python3.7/dist-packages (from torch->dl-translate) (3.7.4.3)\n",
            "Requirement already satisfied: requests in /usr/local/lib/python3.7/dist-packages (from transformers>=4.4.0->dl-translate) (2.23.0)\n",
            "Requirement already satisfied: tokenizers<0.11,>=0.10.1 in /usr/local/lib/python3.7/dist-packages (from transformers>=4.4.0->dl-translate) (0.10.1)\n",
            "Requirement already satisfied: filelock in /usr/local/lib/python3.7/dist-packages (from transformers>=4.4.0->dl-translate) (3.0.12)\n",
            "Requirement already satisfied: importlib-metadata; python_version < \"3.8\" in /usr/local/lib/python3.7/dist-packages (from transformers>=4.4.0->dl-translate) (3.7.2)\n",
            "Requirement already satisfied: packaging in /usr/local/lib/python3.7/dist-packages (from transformers>=4.4.0->dl-translate) (20.9)\n",
            "Requirement already satisfied: sacremoses in /usr/local/lib/python3.7/dist-packages (from transformers>=4.4.0->dl-translate) (0.0.43)\n",
            "Requirement already satisfied: regex!=2019.12.17 in /usr/local/lib/python3.7/dist-packages (from transformers>=4.4.0->dl-translate) (2019.12.20)\n",
            "Requirement already satisfied: six>=1.9 in /usr/local/lib/python3.7/dist-packages (from protobuf->dl-translate) (1.15.0)\n",
            "Requirement already satisfied: setuptools in /usr/local/lib/python3.7/dist-packages (from protobuf->dl-translate) (54.0.0)\n",
            "Requirement already satisfied: certifi>=2017.4.17 in /usr/local/lib/python3.7/dist-packages (from requests->transformers>=4.4.0->dl-translate) (2020.12.5)\n",
            "Requirement already satisfied: chardet<4,>=3.0.2 in /usr/local/lib/python3.7/dist-packages (from requests->transformers>=4.4.0->dl-translate) (3.0.4)\n",
            "Requirement already satisfied: idna<3,>=2.5 in /usr/local/lib/python3.7/dist-packages (from requests->transformers>=4.4.0->dl-translate) (2.10)\n",
            "Requirement already satisfied: urllib3!=1.25.0,!=1.25.1,<1.26,>=1.21.1 in /usr/local/lib/python3.7/dist-packages (from requests->transformers>=4.4.0->dl-translate) (1.24.3)\n",
            "Requirement already satisfied: zipp>=0.5 in /usr/local/lib/python3.7/dist-packages (from importlib-metadata; python_version < \"3.8\"->transformers>=4.4.0->dl-translate) (3.4.1)\n",
            "Requirement already satisfied: pyparsing>=2.0.2 in /usr/local/lib/python3.7/dist-packages (from packaging->transformers>=4.4.0->dl-translate) (2.4.7)\n",
            "Requirement already satisfied: click in /usr/local/lib/python3.7/dist-packages (from sacremoses->transformers>=4.4.0->dl-translate) (7.1.2)\n",
            "Requirement already satisfied: joblib in /usr/local/lib/python3.7/dist-packages (from sacremoses->transformers>=4.4.0->dl-translate) (1.0.1)\n"
          ],
          "name": "stdout"
        }
      ]
    },
    {
      "cell_type": "code",
      "metadata": {
        "colab": {
          "base_uri": "https://localhost:8080/"
        },
        "id": "4cFU-KzIfgIH",
        "outputId": "388e3c0f-9da8-48d9-b7e7-171a0c1b495a"
      },
      "source": [
        "!pip install sentencepiece"
      ],
      "execution_count": null,
      "outputs": [
        {
          "output_type": "stream",
          "text": [
            "Requirement already satisfied: sentencepiece in /usr/local/lib/python3.7/dist-packages (0.1.95)\n"
          ],
          "name": "stdout"
        }
      ]
    },
    {
      "cell_type": "code",
      "metadata": {
        "colab": {
          "base_uri": "https://localhost:8080/",
          "referenced_widgets": [
            "0fbfd3e0915343d09d668880fc7f0222",
            "1a0a23b74ea44e49bfb69342583d9aec",
            "fbd93676107a4b21a3f387c8ceb6fe01",
            "3c2cc412b0a24793be8e4da9c7040e5c",
            "1d5a6e009e874a03a509b0d8b8fae638",
            "52a6d2ee510749548697eb08bba73275",
            "bfac864b63714c82be2f1a5008e9dc90",
            "1d72e9734b3a410fbd7462797012360f",
            "e0f196ce4d2146349cb925f5cad89630",
            "ff05083cd7d046aba316efa28aa5ebd5",
            "0c286cfb60264bbbaec929543beac56f",
            "47108e5b3d7046cfa17847801d10ff77",
            "54876a7795d141ea917b54f922030b9c",
            "a3e779a8ac7f4227ad19fe8373e634da",
            "b6e19fd65c2c4f1f838e4ddbd329e332",
            "ce835f40361c4bab83bb62b210232fb9"
          ]
        },
        "id": "V05J0oYwfZ90",
        "outputId": "51e9b68c-5f82-4514-a39e-f7c2869a2fe3"
      },
      "source": [
        "import dl_translate as dlt\n",
        "mt = dlt.TranslationModel()"
      ],
      "execution_count": null,
      "outputs": [
        {
          "output_type": "display_data",
          "data": {
            "application/vnd.jupyter.widget-view+json": {
              "model_id": "0fbfd3e0915343d09d668880fc7f0222",
              "version_minor": 0,
              "version_major": 2
            },
            "text/plain": [
              "HBox(children=(FloatProgress(value=0.0, description='Downloading', max=1429.0, style=ProgressStyle(description…"
            ]
          },
          "metadata": {
            "tags": []
          }
        },
        {
          "output_type": "stream",
          "text": [
            "\n"
          ],
          "name": "stdout"
        },
        {
          "output_type": "display_data",
          "data": {
            "application/vnd.jupyter.widget-view+json": {
              "model_id": "e0f196ce4d2146349cb925f5cad89630",
              "version_minor": 0,
              "version_major": 2
            },
            "text/plain": [
              "HBox(children=(FloatProgress(value=0.0, description='Downloading', max=2444714899.0, style=ProgressStyle(descr…"
            ]
          },
          "metadata": {
            "tags": []
          }
        },
        {
          "output_type": "stream",
          "text": [
            "\n"
          ],
          "name": "stdout"
        }
      ]
    },
    {
      "cell_type": "code",
      "metadata": {
        "colab": {
          "base_uri": "https://localhost:8080/"
        },
        "id": "fLeXFNbpgA4D",
        "outputId": "8eebddef-fe80-4b7a-e4f5-1ea9f7757a4f"
      },
      "source": [
        "text_hi = \"संयुक्त राष्ट्र के प्रमुख का कहना है कि सीरिया में कोई सैन्य समाधान नहीं है\"\n",
        "mt.translate(text_hi, source=dlt.lang.HINDI, target=dlt.lang.ENGLISH)"
      ],
      "execution_count": null,
      "outputs": [
        {
          "output_type": "execute_result",
          "data": {
            "application/vnd.google.colaboratory.intrinsic+json": {
              "type": "string"
            },
            "text/plain": [
              "'The head of the United Nations says there is no military solution in Syria'"
            ]
          },
          "metadata": {
            "tags": []
          },
          "execution_count": 6
        }
      ]
    },
    {
      "cell_type": "code",
      "metadata": {
        "colab": {
          "base_uri": "https://localhost:8080/"
        },
        "id": "gCSN9bKbg7yz",
        "outputId": "0507cab8-e46f-44e7-9fc0-a4e0f469e931"
      },
      "source": [
        "text = \"I like the stock\"\n",
        "mt.translate(text, source=dlt.lang.ENGLISH, target=dlt.lang.SWEDISH)"
      ],
      "execution_count": null,
      "outputs": [
        {
          "output_type": "execute_result",
          "data": {
            "application/vnd.google.colaboratory.intrinsic+json": {
              "type": "string"
            },
            "text/plain": [
              "'Jag gillar aktien'"
            ]
          },
          "metadata": {
            "tags": []
          },
          "execution_count": 24
        }
      ]
    },
    {
      "cell_type": "markdown",
      "metadata": {
        "id": "4vYfzinB5Wm-"
      },
      "source": [
        "# Dataset"
      ]
    },
    {
      "cell_type": "code",
      "metadata": {
        "colab": {
          "base_uri": "https://localhost:8080/",
          "height": 252,
          "referenced_widgets": [
            "3af4b77bf0b743f895f64839dfb253d6",
            "307a960561e041ceabb9e66160b3c1b5",
            "2171b71571b64bfda76c229300a129a8",
            "c2815b3bc48d4faea16a26afae7d41fd",
            "6a6cdaf29ee84175b0b14c0d0f78c5d2",
            "c9f5e6be26274a88a33c8d38a3d35178",
            "33ef8817619d4ece8528f7684baf1d86",
            "4b2ccdeeafb14b31ba98787d0a857bf2",
            "bf65a6f83cf544399f381a83d138f0cb",
            "95f834e29d68453f8c980b078e6612df",
            "1c9a08daa9df4debac026dbd5a03067e",
            "f5981349c56b4e94af4ce3164f7f8e52",
            "9515b5e3a8784507a9a41c9d63a9cca5",
            "7912b618008b4de4bc63493bcbe13bd4",
            "8a5f5c43f23d4712a153e3e7f811b0e7",
            "1338b42d875c4cf2bbf354b1bd03d09f",
            "5cff19cf98bc49f392f59d3cb8811576",
            "8d39e67cd1b04c5d8ef1bc9e13e4a0a9",
            "5caac860daaa47db906a55247d0932b9",
            "0bf319fd4bd440a1b4f0deeb237c126c",
            "f78131d8df9642f08beb24ba3d82dfd3",
            "55c0a0ac926f4a88945bb0ab4001bc30",
            "3bec2cf5c971425fb01cc03554608c72",
            "27ebec98def94e1aafa86950f4fd3fa4",
            "68a9dfe6b8fe4a6a8bb75e12dfd3136d",
            "04d6ea3f069143849cadd5ed1641feaf",
            "2b31d3daa4584afe9a0fffdc876813b2",
            "6fefe26f0a2248c585660304e6a78b3f",
            "73ca287d763d470591044cee3789feee",
            "b68e1518f84d4f47b84b513c934a3b0f",
            "f3d5aa582c854ae58d3ffb73e964788b",
            "567f7f779d794d64a3cda389a9864e09",
            "466a540e0be64b188a906dc45998c8af",
            "9fab18fc9b584c2283e53f57e33ae5f1",
            "a1065c152d354676b2df20f472ad0d1e",
            "f2dfb10fc1f4402591ccfbf7404a6267",
            "9bd6bebe1379437887df24ced8d0a321",
            "31bcb4e3165c451bbd8e6af3cbf89350",
            "2ab21c2bf8d3495aa908fcb8ca765206",
            "1917dedf89474e458966f4ca8544a32a",
            "884ba61cc8a345f2ae3035dccf9ed690",
            "c8e85bdd4db4494b9f88100a539ccb5c",
            "79d8b629e6464377a6f017ca7313659d",
            "a697bb171ae9411e91f63aba6cb1841a",
            "e90a40bcec374b69a1bce62b94c54359",
            "3ba0e31b656942c7ab83b47d44473ed0",
            "1d2a57dfe5a14d25bf0b7a9a4e537c14",
            "e8ae7eaa7b124d93b6ed22b0d822d61f"
          ]
        },
        "id": "hX7uIFdt5ZrH",
        "outputId": "fe6ea54e-93fc-4bfe-b23d-4cc4e95e3353"
      },
      "source": [
        "from datasets import load_dataset\n",
        "import torch\n",
        "dataset = load_dataset(\"multi_nli\",split=\"validation_matched[:400]\")\n",
        "batch_size = 1\n",
        "dataloader_mnli = torch.utils.data.DataLoader(dataset, batch_size=batch_size,num_workers=2,pin_memory=True)\n",
        "mnli_length = len(dataset)\n",
        "mnli_length"
      ],
      "execution_count": null,
      "outputs": [
        {
          "output_type": "display_data",
          "data": {
            "application/vnd.jupyter.widget-view+json": {
              "model_id": "3af4b77bf0b743f895f64839dfb253d6",
              "version_minor": 0,
              "version_major": 2
            },
            "text/plain": [
              "HBox(children=(FloatProgress(value=0.0, description='Downloading', max=1940.0, style=ProgressStyle(description…"
            ]
          },
          "metadata": {
            "tags": []
          }
        },
        {
          "output_type": "stream",
          "text": [
            "\n"
          ],
          "name": "stdout"
        },
        {
          "output_type": "display_data",
          "data": {
            "application/vnd.jupyter.widget-view+json": {
              "model_id": "bf65a6f83cf544399f381a83d138f0cb",
              "version_minor": 0,
              "version_major": 2
            },
            "text/plain": [
              "HBox(children=(FloatProgress(value=0.0, description='Downloading', max=1193.0, style=ProgressStyle(description…"
            ]
          },
          "metadata": {
            "tags": []
          }
        },
        {
          "output_type": "stream",
          "text": [
            "Using custom data configuration default\n"
          ],
          "name": "stderr"
        },
        {
          "output_type": "stream",
          "text": [
            "\n",
            "Downloading and preparing dataset multi_nli/default (download: 216.34 MiB, generated: 410.92 MiB, post-processed: Unknown size, total: 627.27 MiB) to /root/.cache/huggingface/datasets/multi_nli/default/0.0.0/3248359997b13e6ccd296f42420b31c107ba6859b742ed6af1dce0f1544c9ec1...\n"
          ],
          "name": "stdout"
        },
        {
          "output_type": "display_data",
          "data": {
            "application/vnd.jupyter.widget-view+json": {
              "model_id": "5cff19cf98bc49f392f59d3cb8811576",
              "version_minor": 0,
              "version_major": 2
            },
            "text/plain": [
              "HBox(children=(FloatProgress(value=0.0, description='Downloading', max=226850426.0, style=ProgressStyle(descri…"
            ]
          },
          "metadata": {
            "tags": []
          }
        },
        {
          "output_type": "stream",
          "text": [
            "\n"
          ],
          "name": "stdout"
        },
        {
          "output_type": "display_data",
          "data": {
            "application/vnd.jupyter.widget-view+json": {
              "model_id": "68a9dfe6b8fe4a6a8bb75e12dfd3136d",
              "version_minor": 0,
              "version_major": 2
            },
            "text/plain": [
              "HBox(children=(FloatProgress(value=1.0, bar_style='info', max=1.0), HTML(value='')))"
            ]
          },
          "metadata": {
            "tags": []
          }
        },
        {
          "output_type": "stream",
          "text": [
            "\r"
          ],
          "name": "stdout"
        },
        {
          "output_type": "display_data",
          "data": {
            "application/vnd.jupyter.widget-view+json": {
              "model_id": "466a540e0be64b188a906dc45998c8af",
              "version_minor": 0,
              "version_major": 2
            },
            "text/plain": [
              "HBox(children=(FloatProgress(value=1.0, bar_style='info', max=1.0), HTML(value='')))"
            ]
          },
          "metadata": {
            "tags": []
          }
        },
        {
          "output_type": "stream",
          "text": [
            "\r"
          ],
          "name": "stdout"
        },
        {
          "output_type": "display_data",
          "data": {
            "application/vnd.jupyter.widget-view+json": {
              "model_id": "884ba61cc8a345f2ae3035dccf9ed690",
              "version_minor": 0,
              "version_major": 2
            },
            "text/plain": [
              "HBox(children=(FloatProgress(value=1.0, bar_style='info', max=1.0), HTML(value='')))"
            ]
          },
          "metadata": {
            "tags": []
          }
        },
        {
          "output_type": "stream",
          "text": [
            "\rDataset multi_nli downloaded and prepared to /root/.cache/huggingface/datasets/multi_nli/default/0.0.0/3248359997b13e6ccd296f42420b31c107ba6859b742ed6af1dce0f1544c9ec1. Subsequent calls will reuse this data.\n"
          ],
          "name": "stdout"
        },
        {
          "output_type": "execute_result",
          "data": {
            "text/plain": [
              "400"
            ]
          },
          "metadata": {
            "tags": []
          },
          "execution_count": 5
        }
      ]
    },
    {
      "cell_type": "code",
      "metadata": {
        "id": "Stes0XDmNFuR"
      },
      "source": [
        "prompts = [[\"mnli \",\"\"],\n",
        "           [\"premise: \", \"Consider the following premise: \", \"The following premise is true: \", \" \"],\n",
        "           [\" hypothesis: \", \" Consider the following hypothesis: \", \" The following hypothesis is true: \", \" \"],\n",
        "           [\"\", \" The label is\"]]\n",
        "\n",
        "prompts_length = len(prompts)"
      ],
      "execution_count": null,
      "outputs": []
    },
    {
      "cell_type": "code",
      "metadata": {
        "id": "RaB_yDL-Yh0w"
      },
      "source": [
        "prompts = [[\"\",\"This is a task that requires solid reasoning, clear thinking and rigorous inference. \"],\n",
        "           [\"We will assume that the following statement is true: \", \"I believe that the following statement is true: \", \"Yellow is evil. \",\"bark train can tee\",\" \"],\n",
        "           [\" Furthermore, we will assume that the next statement is true aswell: \", \"Furthermore, I believe that the next statement is true: \",\"Apples can fly. \", \"brain fly science ananas\",\" \"],\n",
        "           [\"\", \"With this in mind, we can conclue that the label should be\"]]\n",
        "\n",
        "prompts_length = len(prompts)"
      ],
      "execution_count": null,
      "outputs": []
    },
    {
      "cell_type": "code",
      "metadata": {
        "id": "sb3bsv_VYgNS"
      },
      "source": [
        "prompts = [[\"\"],\n",
        "           [\"Consider the following hypothesis: \"],\n",
        "           [\" premise: \"],\n",
        "           [\"\"]]\n",
        "prompts_length = len(prompts)"
      ],
      "execution_count": null,
      "outputs": []
    },
    {
      "cell_type": "code",
      "metadata": {
        "id": "-c6qjM2tu8Z4"
      },
      "source": [
        "prompts = [[\"\"],\n",
        "           [\"hypothesis: \",\"Consider the following hypothesis: \"],\n",
        "           [\" premise: \"],\n",
        "           [\"\"]]\n",
        "prompts_length = len(prompts)"
      ],
      "execution_count": null,
      "outputs": []
    },
    {
      "cell_type": "code",
      "metadata": {
        "colab": {
          "base_uri": "https://localhost:8080/"
        },
        "id": "czfMRn7D99Zk",
        "outputId": "9c59b15e-0737-4be7-8ef2-798d0a1dfca0"
      },
      "source": [
        "dataset[58]"
      ],
      "execution_count": null,
      "outputs": [
        {
          "output_type": "execute_result",
          "data": {
            "text/plain": [
              "{'genre': 'slate',\n",
              " 'hypothesis': 'She has chose to live a hollow life.',\n",
              " 'hypothesis_binary_parse': '( She ( ( has ( chose ( to ( live ( a ( hollow life ) ) ) ) ) ) . ) )',\n",
              " 'hypothesis_parse': '(ROOT (S (NP (PRP She)) (VP (VBZ has) (VP (VBD chose) (S (VP (TO to) (VP (VB live) (NP (DT a) (JJ hollow) (NN life))))))) (. .)))',\n",
              " 'label': 2,\n",
              " 'pairID': '13316c',\n",
              " 'premise': 'She has exchanged a hollow life for a heightened life, and has tried to comprehend all its turns, get its possibilities.',\n",
              " 'premise_binary_parse': '( She ( ( ( ( ( has ( exchanged ( ( a ( hollow life ) ) ( for ( a ( heightened life ) ) ) ) ) ) , ) and ) ( has ( tried ( to ( ( ( comprehend ( all ( its turns ) ) ) , ) ( get ( its possibilities ) ) ) ) ) ) ) . ) )',\n",
              " 'premise_parse': '(ROOT (S (NP (PRP She)) (VP (VP (VBZ has) (VP (VBN exchanged) (NP (NP (DT a) (JJ hollow) (NN life)) (PP (IN for) (NP (DT a) (VBN heightened) (NN life)))))) (, ,) (CC and) (VP (VBZ has) (VP (VBN tried) (S (VP (TO to) (VP (VP (VB comprehend) (NP (PDT all) (PRP$ its) (NNS turns))) (, ,) (VP (VB get) (NP (PRP$ its) (NNS possibilities))))))))) (. .)))',\n",
              " 'promptID': 13316}"
            ]
          },
          "metadata": {
            "tags": []
          },
          "execution_count": 84
        }
      ]
    },
    {
      "cell_type": "code",
      "metadata": {
        "id": "uEbgtgptzgI_",
        "colab": {
          "base_uri": "https://localhost:8080/",
          "height": 117,
          "referenced_widgets": [
            "861020eb0e3444488c00dfa32f930a7c",
            "aaf8d82da3b645c48badca14aeca11a1",
            "53e0891867404816aa097bd8bc1f18b9",
            "344ce5c31cbe448bb53122ab5a165740",
            "28199beb81ac4c24bc358e2b6748a824",
            "12f19fb65d414fd0830981b2e7bfee3c",
            "cd92384ab178416184392fb8a1a07601",
            "2adda17ed1854bf7b3546aa39caaccae"
          ]
        },
        "outputId": "dff16be5-c859-48e5-99a3-bf3f27376756"
      },
      "source": [
        "from tqdm import tqdm_notebook\n",
        "#TDOD change again to premise, hypothesis instead of the other way around\n",
        "accuracies = dict.fromkeys(prompts[0] , 0)\n",
        "accuracies = {x: dict.fromkeys(prompts[1] , 0) for x in accuracies}\n",
        "for key,value in accuracies.items():\n",
        "  accuracies[key] =  {x: dict.fromkeys(prompts[2] , 0) for x in value}\n",
        "for key,value in accuracies.items():\n",
        "  for key2,value2 in value.items():\n",
        "    accuracies[key][key2] =  {x: dict.fromkeys(prompts[3] , 0) for x in value2}\n",
        "\n",
        "len_ent = 0\n",
        "len_neu = 0\n",
        "len_contr = 0\n",
        "\n",
        "counter =0 \n",
        "\n",
        "for i, mnli_instance in enumerate(tqdm_notebook(dataloader_mnli)):\n",
        "      for q,trigger in enumerate(prompts[0]):\n",
        "        for j,X in enumerate(prompts[1]):\n",
        "          for k,Y in enumerate(prompts[2]):\n",
        "            for l,Z in enumerate(prompts[3]):\n",
        "              hypothesis = mnli_instance[\"hypothesis\"][0]\n",
        "              \n",
        "              #hypothesis = list(hypothesis)\n",
        "              #hypothesis = [\"i\" if x==\"e\"  else x  for x in hypothesis]\n",
        "              #hypothesis = [\"e\" if x==\"a\"  else x  for x in hypothesis]\n",
        "              #hypothesis = [\"a\" if x==\"o\"  else x  for x in hypothesis]\n",
        "              #hypothesis = [\"o\" if x==\"u\"  else x  for x in hypothesis]\n",
        "              #hypothesis = \"\".join(hypothesis)\n",
        "              #hypothesis = mt.translate(mnli_instance[\"hypothesis\"][0], source=dlt.lang.ENGLISH, target=dlt.lang.SWEDISH)\n",
        "              #hypothesis = translator.translate(mnli_instance[\"hypothesis\"][0],lang_tgt='de',lang_src=\"en\")\n",
        "              #input_ids = tokenizer.encode(text,return_tensors=\"pt\").cuda()\n",
        "              #hypothesis = tokenizer.decode(model.generate(input_ids,num_beams=3)[0],skip_special_tokens=True)\n",
        "              \n",
        "\n",
        "              premise = mnli_instance[\"premise\"][0]\n",
        "              #if len(hypothesis)/len(premise)  > 0.1:\n",
        "              #  continue\n",
        "              #premise = list(premise)\n",
        "              #premise = [\"i\" if x==\"e\"  else x  for x in premise]\n",
        "              #premise = [\"e\" if x==\"a\"  else x  for x in premise]\n",
        "              #premise = [\"a\" if x==\"o\"  else x  for x in premise]\n",
        "              #premise = [\"o\" if x==\"u\"  else x  for x in premise]\n",
        "              #premise = \"\".join(premise)\n",
        "\n",
        "              #premise = mt.translate(mnli_instance[\"premise\"][0], source=dlt.lang.ENGLISH, target=dlt.lang.SWEDISH)\n",
        "              #premise = translator.translate(mnli_instance[\"premise\"][0],lang_tgt='de',lang_src=\"en\")\n",
        "              #text = \"translate English to Romanian: \" + mnli_instance[\"premise\"][0]\n",
        "              #input_ids = tokenizer.encode(text,return_tensors=\"pt\").cuda()\n",
        "              #premise = tokenizer.decode(model.generate(input_ids,num_beams=3)[0],skip_special_tokens=True)\n",
        "              \n",
        "              \n",
        "              counter+=1\n",
        "              text = trigger + X + premise + Y + hypothesis + Z\n",
        "              input_ids = tokenizer.encode(text,return_tensors=\"pt\").cuda()\n",
        "              label = tokenizer.decode(model.generate(input_ids,num_beams=3)[0],skip_special_tokens=True)\n",
        "              if label == \"entailment\":\n",
        "                len_ent +=len(hypothesis)/len(premise) \n",
        "                label = 0\n",
        "              elif label == \"neutral\":\n",
        "                len_neu+= len(hypothesis)/len(premise) \n",
        "                label = 1\n",
        "              elif label == \"contradiction\":\n",
        "                len_contr+=len(hypothesis)/len(premise) \n",
        "                label = 2\n",
        "\n",
        "              if label == mnli_instance[\"label\"] :#or (label==1 and mnli_instance[\"label\"]==0)\n",
        "                accuracies[trigger][X][Y][Z]+=1\n",
        "              #else:\n",
        "              #  print(text)\n",
        "              #  print(label)\n",
        "              #  print(mnli_instance[\"label\"])\n",
        "              #  print()\n",
        "\n",
        "\n",
        "accuracies\n",
        "\n",
        "#dict statt list"
      ],
      "execution_count": null,
      "outputs": [
        {
          "output_type": "stream",
          "text": [
            "/usr/local/lib/python3.7/dist-packages/ipykernel_launcher.py:17: TqdmDeprecationWarning: This function will be removed in tqdm==5.0.0\n",
            "Please use `tqdm.notebook.tqdm` instead of `tqdm.tqdm_notebook`\n"
          ],
          "name": "stderr"
        },
        {
          "output_type": "display_data",
          "data": {
            "application/vnd.jupyter.widget-view+json": {
              "model_id": "861020eb0e3444488c00dfa32f930a7c",
              "version_minor": 0,
              "version_major": 2
            },
            "text/plain": [
              "HBox(children=(FloatProgress(value=0.0, max=400.0), HTML(value='')))"
            ]
          },
          "metadata": {
            "tags": []
          }
        },
        {
          "output_type": "stream",
          "text": [
            "\n"
          ],
          "name": "stdout"
        },
        {
          "output_type": "execute_result",
          "data": {
            "text/plain": [
              "{'': {'Consider the following hypothesis: ': {' premise: ': {'': 220}}}}"
            ]
          },
          "metadata": {
            "tags": []
          },
          "execution_count": 33
        }
      ]
    },
    {
      "cell_type": "code",
      "metadata": {
        "colab": {
          "base_uri": "https://localhost:8080/"
        },
        "id": "IV35WYPz0ZIA",
        "outputId": "5eb16db7-fe7f-44fc-a527-e3269c2e415a"
      },
      "source": [
        "print(len_ent/counter)\n",
        "print(len_neu/counter)\n",
        "print(len_contr/counter)"
      ],
      "execution_count": null,
      "outputs": [
        {
          "output_type": "stream",
          "text": [
            "0.0\n",
            "0.41877066608358887\n",
            "0.24863980975965547\n"
          ],
          "name": "stdout"
        }
      ]
    },
    {
      "cell_type": "code",
      "metadata": {
        "colab": {
          "base_uri": "https://localhost:8080/"
        },
        "id": "njbSlUZPhxAD",
        "outputId": "3764655e-0e10-4caf-f141-3733a8ed76ce"
      },
      "source": [
        "import copy\n",
        "accuracies_p = copy.deepcopy(accuracies)\n",
        "\n",
        "for key0,value0 in accuracies_p.items():\n",
        "  for key1,value1 in value0.items() :\n",
        "    for key2,value2 in value1.items() :\n",
        "      for key3,value3 in value2.items():\n",
        "        accuracies_p[key0][key1][key2][key3] = value3/counter#mnli_len\n",
        "\n",
        "accuracies_p\n",
        "\n"
      ],
      "execution_count": null,
      "outputs": [
        {
          "output_type": "execute_result",
          "data": {
            "text/plain": [
              "{'': {'Consider the following hypothesis: ': {' premise: ': {'': 0.55}}}}"
            ]
          },
          "metadata": {
            "tags": []
          },
          "execution_count": 34
        }
      ]
    },
    {
      "cell_type": "code",
      "metadata": {
        "id": "NPKdM47yISNy"
      },
      "source": [
        "# mnli validation matched[0:400]\n",
        "#premise und hypothesis vertauscht, immer noch acc weit über random\n",
        "{'': {'Consider the following hypothesis: ': {' premise: ': {'': 0.55}}}}"
      ],
      "execution_count": null,
      "outputs": []
    },
    {
      "cell_type": "code",
      "metadata": {
        "id": "jJxoUYNpGoTw"
      },
      "source": [
        "{'': {'Consider the following hypothesis: ': {' premise: ': {'': 0.7725}}}}#cats are green\n",
        "{'': {'Consider the following hypothesis: ': {' premise: ': {'': 0.8475}}}}#\"It is midly inconvient to book a train ticket and end on a ship. Furthermore, \"\n",
        "{'': {'Consider the following hypothesis: ': {' premise: ': {'': 0.8225}}}}#\"A is bad,terrible and nasty. Furthermore, \""
      ],
      "execution_count": null,
      "outputs": []
    },
    {
      "cell_type": "code",
      "metadata": {
        "id": "FTuMec_6FjXp"
      },
      "source": [
        "{'': {'Consider the following hypothesis: ': {' premise: ': {'': 0.855}}}}\n",
        "# bei \"James ate a cake and \" kein acc drop\n",
        "#t5 gibt hier tatsächlich nie \"entailment aus\""
      ],
      "execution_count": null,
      "outputs": []
    },
    {
      "cell_type": "code",
      "metadata": {
        "id": "w3H6uM9tDrQ2"
      },
      "source": [
        "# mnli validation matched[0:400]\n",
        "# wenn man zur hypothese noch etwas hinzufügt, was sich aus der prämisse nicht ableiten lassen kann(\"All humans are basketballs and \"),\n",
        "#dann sollte das label neutral sein für mnli_label neutral und entailment und contradiciton für mnli_label contradiction\n",
        "{'': {'Consider the following hypothesis: ': {' premise: ': {'': 0.7625}}}}\n",
        "# also immer noch weit über rand, aber acc drop von 10%"
      ],
      "execution_count": null,
      "outputs": []
    },
    {
      "cell_type": "code",
      "metadata": {
        "id": "CJ6XL8XJ7qd1"
      },
      "source": [
        "len(hypothesis)/len(premise) ist bei ent höhher wie bei premise\n",
        "# wenn man nur examples nimmt, bei denen dieser wert niedrig ist(0.1), so sinkt acc auf 80%\n",
        "#kann aber auch sein, dass dies an anzahl der trainingsexample liegt die übrig bleibemn(46), bei gesammten testset"
      ],
      "execution_count": null,
      "outputs": []
    },
    {
      "cell_type": "code",
      "metadata": {
        "id": "0_f0rGbT5yRx"
      },
      "source": [
        "#evtl höhere acc wenn man mehr testexample nutzt\n",
        "0.867647058823529 bei8000, aber nur welche mit len premise > 30"
      ],
      "execution_count": null,
      "outputs": []
    },
    {
      "cell_type": "code",
      "metadata": {
        "id": "xjB16oi12UDa"
      },
      "source": [
        "36.7175\n",
        "37.525\n",
        "39.285\n",
        "\n",
        "len premise"
      ],
      "execution_count": null,
      "outputs": []
    },
    {
      "cell_type": "code",
      "metadata": {
        "id": "O9m8N79T2Gcu"
      },
      "source": [
        "#keine unterschiede in der länge der hyp zwischen ent,neu,cont also hier kein statistical cue"
      ],
      "execution_count": null,
      "outputs": []
    },
    {
      "cell_type": "code",
      "metadata": {
        "id": "UIjUDrVyh0yD"
      },
      "source": [
        "# mnli validation matched[0:200]\n",
        "#alle vocale durch andere ersetzten, hier immer noch acc leicht über random. Kann aber sein, dass Menschen da auch noch einige richtig raten können\n",
        "{'': {'Consider the following hypothesis: ': {' premise: ': {'': 0.47}},\n",
        "  'hypothesis: ': {' premise: ': {'': 0.425}}}}"
      ],
      "execution_count": null,
      "outputs": []
    },
    {
      "cell_type": "code",
      "metadata": {
        "id": "rVjqzygHhjxF"
      },
      "source": [
        "# mnli validation matched[0:200]\n",
        "# alle \"e\" durch \"i\" ersetzen\n",
        "# acc weit über random, ist natürlich fraglich inwieweit dies menschen auch können würden\n",
        "{'': {'Consider the following hypothesis: ': {' premise: ': {'': 0.675}},\n",
        "  'hypothesis: ': {' premise: ': {'': 0.695}}}}"
      ],
      "execution_count": null,
      "outputs": []
    },
    {
      "cell_type": "code",
      "metadata": {
        "id": "PTQ4NLEI9Qr4"
      },
      "source": [
        "# mnli validation matched[0:200]\n",
        "# random text generally degrades acc\n",
        "{'': {'I like the following hypothesis: ': {' premise: ': {'': 0.655}},\n",
        "  'May the force be with this hypothesis: ': {' premise: ': {'': 0.515}},\n",
        "  'believe the following hypothesis: ': {' premise: ': {'': 0.81}},\n",
        "  'hypothesis: ': {' premise: ': {'': 0.83}}}}"
      ],
      "execution_count": null,
      "outputs": []
    },
    {
      "cell_type": "code",
      "metadata": {
        "id": "kY2bc1Kl8bs8"
      },
      "source": [
        "#mnli validation matched[0:200]\n",
        "# zu viel text und auch kurzer random text lassen die acc sehr sinken\n",
        "{'': {'Please use logical thinking, be rational and carefully consider all the alternatives. hypothesis: ': {' premise: ': {'': 0.53}},\n",
        "  'apple has tree of piece hypothesis:': {' premise: ': {'': 0.51}},\n",
        "  'consider the following hypothesis:': {' premise: ': {'': 0.835}},\n",
        "  'hypothesis: ': {' premise: ': {'': 0.83}}}}"
      ],
      "execution_count": null,
      "outputs": []
    },
    {
      "cell_type": "code",
      "metadata": {
        "id": "rjqexGLL6XrH"
      },
      "source": [
        "#mnli validation matched[0:200]\n",
        "#casting it to SQUAD format, only works if we still have mnli triggers in the context\n",
        "#acc degrades compared to normal mnli, but still better than random\n",
        "{'question: Should the label be entailment, contradiction or neutral? context: ': {'hypothesis: ': {' premise: ': {'': 0.5}}}}"
      ],
      "execution_count": null,
      "outputs": []
    },
    {
      "cell_type": "code",
      "metadata": {
        "id": "fKbksX0z2de8"
      },
      "source": [
        "# bei copa ist nicht klar wie man casten soll, es kommt eine mischung von mnli,copa udn rte labeln raus"
      ],
      "execution_count": null,
      "outputs": []
    },
    {
      "cell_type": "code",
      "metadata": {
        "id": "cTLasqKNypnN"
      },
      "source": [
        "#mnli validation matched[0:200]\n",
        "#qnli bekommt eine frage und einen Kontext. Die Aufgabe ist es zu bestimmen, ob man die Frage aus dem vorliegenden text beantworten kann.\n",
        "#hier einfach mal hypothese als question und premise als kontext genommen -  bringt acc über random, obwohl nie \"neutral ausgegeben werden kann\"(also maximal errreichbare acc bei 66% oder so)\n",
        "{'': {'question: ': {' sentence: ': {'': 0.04}}},\n",
        " 'qnli ': {'question: ': {' sentence: ': {'': 0.515}}}}"
      ],
      "execution_count": null,
      "outputs": []
    },
    {
      "cell_type": "code",
      "metadata": {
        "id": "HLzy6gl_wgIV"
      },
      "source": [
        "#mnli validation matched[0:200]\n",
        "#selbes mrpc experiment, aber premise und hyp geswapped\n",
        "# hat niedrigere acc, was in diesem Fall ja besser ist,aber komisch, dass es bei Äquivalenz auf die reihenfolge ankommt\n",
        "{'mrpc ': {'sentence1: ': {' sentence2: ': {'': 0.435}}}}"
      ],
      "execution_count": null,
      "outputs": []
    },
    {
      "cell_type": "code",
      "metadata": {
        "id": "tzv3xJmIvnsn"
      },
      "source": [
        "#mnli validation matched[0:200]\n",
        "#mrpc task ist entscheidung ob sätze äquivalent sind oder nicht\n",
        "#hier \"equivalent\" = \"entailment\" und \"not_equivalent\" = \"contradiction\"\n",
        "#tatsächlich etwas über random acc\n",
        "{'mrpc ': {'sentence1: ': {' sentence2: ': {'': 0.47}}}}"
      ],
      "execution_count": null,
      "outputs": []
    },
    {
      "cell_type": "code",
      "metadata": {
        "id": "2gTiBdEaugR7"
      },
      "source": [
        "#mnli validation matched[0:200]\n",
        "#using mBART large to translate both premise and hypothesis to swedish\n",
        "# etwas mehr wie random acc, aber nicht viel\n",
        "{'': {'Consider the following hypothesis: ': {' premise: ': {'': 0.405}},\n",
        "  'hypothesis: ': {' premise: ': {'': 0.445}}}}"
      ],
      "execution_count": null,
      "outputs": []
    },
    {
      "cell_type": "code",
      "metadata": {
        "id": "i9ulDijers4Z"
      },
      "source": [
        "#mnli validation matched[0:200]\n",
        "#using mBART large to translate both premise and hypothesis to korean\n",
        "# hier geht es auf random acc runter, was zu erwarten war...\n",
        "{'': {'Consider the following hypothesis: ': {' premise: ': {'': 0.41}},\n",
        "  'hypothesis: ': {' premise: ': {'': 0.415}}}}"
      ],
      "execution_count": null,
      "outputs": []
    },
    {
      "cell_type": "code",
      "metadata": {
        "id": "p3LNtPRKo6VM"
      },
      "source": [
        "#mnli validation matched[0:200]\n",
        "#using mBART large to translate both premise and hypothesis to spanish\n",
        "# still significantly above random acc even though it was never finetuned to translate to spanish?\n",
        "{'': {'Consider the following hypothesis: ': {' premise: ': {'': 0.59}},\n",
        "  'hypothesis: ': {' premise: ': {'': 0.58}}}}"
      ],
      "execution_count": null,
      "outputs": []
    },
    {
      "cell_type": "code",
      "metadata": {
        "id": "NErt82vwlGg4"
      },
      "source": [
        "#mnli validation matched[0:200]\n",
        "#using mBART large to translate both premise and hypothesis to german\n",
        "{'': {'Consider the following hypothesis: ': {' premise: ': {'': 0.69}},\n",
        "  'hypothesis: ': {' premise: ': {'': 0.695}}}}"
      ],
      "execution_count": null,
      "outputs": []
    },
    {
      "cell_type": "code",
      "metadata": {
        "id": "R1V83ZJHfCDK"
      },
      "source": [
        "#mnli validation matched[0:200]\n",
        "#zwei mal premise, hier ist acc gleich wie zwei mal hypothesis, also hat nur entailemnt predicten auf diesem testsubset 41% acc\n",
        "{'': {'Consider the following hypothesis: ': {' premise: ': {'': 0.41}},\n",
        "  'hypothesis: ': {' premise: ': {'': 0.41}}},\n",
        " 'mnli ': {'Consider the following hypothesis: ': {' premise: ': {'': 0.405}},\n",
        "  'hypothesis: ': {' premise: ': {'': 0.41}}}}"
      ],
      "execution_count": null,
      "outputs": []
    },
    {
      "cell_type": "code",
      "metadata": {
        "id": "-mLOONXMeFD9"
      },
      "source": [
        "#mnli validation matched[0:200]\n",
        "#zwei mal hypothese auch leicht über rand chance(sollte eig nur entailment ausgeben?)\n",
        "{'': {'Consider the following hypothesis: ': {' premise: ': {'': 0.405}},\n",
        "  'hypothesis: ': {' premise: ': {'': 0.41}}},\n",
        " 'mnli ': {'Consider the following hypothesis: ': {' premise: ': {'': 0.41}},\n",
        "  'hypothesis: ': {' premise: ': {'': 0.41}}}}"
      ],
      "execution_count": null,
      "outputs": []
    },
    {
      "cell_type": "code",
      "metadata": {
        "id": "x-BBnoQXdcYK"
      },
      "source": [
        "#mnli validation matched[0:200]\n",
        "#nur die hypothese auch acc leicht über random chance\n",
        "{'': {'Consider the following hypothesis: ': {' premise: ': {'': 0.375}},\n",
        "  'hypothesis: ': {' premise: ': {'': 0.375}}},\n",
        " 'mnli ': {'Consider the following hypothesis: ': {' premise: ': {'': 0.375}},\n",
        "  'hypothesis: ': {' premise: ': {'': 0.395}}}}"
      ],
      "execution_count": null,
      "outputs": []
    },
    {
      "cell_type": "code",
      "metadata": {
        "id": "PElBsCOXc4Xo"
      },
      "source": [
        "#mnli validation matched[0:200]\n",
        "#nur die premise führt zu acc leicht über random chance\n",
        "{'': {'Consider the following hypothesis: ': {' premise: ': {'': 0.4}},\n",
        "  'hypothesis: ': {' premise: ': {'': 0.385}}},\n",
        " 'mnli ': {'Consider the following hypothesis: ': {' premise: ': {'': 0.405}},\n",
        "  'hypothesis: ': {' premise: ': {'': 0.39}}}}"
      ],
      "execution_count": null,
      "outputs": []
    },
    {
      "cell_type": "code",
      "metadata": {
        "id": "mM48D3Df7ISW"
      },
      "source": [
        "#mnli validation matched[0:300]\n",
        "#o cb oder mnli oder ganz weglassen scheint keinen großen Unterschied zu machen\n",
        "{'': {'Consider the following hypothesis: ': {' premise: ': {'': 0.845}},\n",
        "  'hypothesis: ': {' premise: ': {'': 0.83}}},\n",
        " 'cb ': {'Consider the following hypothesis: ': {' premise: ': {'': 0.835}},\n",
        "  'hypothesis: ': {' premise: ': {'': 0.835}}}}"
      ],
      "execution_count": null,
      "outputs": []
    },
    {
      "cell_type": "code",
      "metadata": {
        "id": "PNf8bauM6CoD"
      },
      "source": [
        "#mnli validation matched[0:300], google translate to hypothesis and premise to german seperatly, then do standard mnli,beam=3\n",
        "#immer noch acc weit über 36% random acc\n",
        "#nvm, translation just didnt work\n",
        "{'': {'Consider the following hypothesis: ': {' premise: ': {'': 0.8366666666666667}},\n",
        "  'hypothesis: ': {' premise: ': {'': 0.8366666666666667}}},\n",
        " 'mnli ': {'Consider the following hypothesis: ': {' premise: ': {'': 0.8266666666666667}},\n",
        "  'hypothesis: ': {' premise: ': {'': 0.8233333333333334}}}}"
      ],
      "execution_count": null,
      "outputs": []
    },
    {
      "cell_type": "code",
      "metadata": {
        "id": "M2gcby_FwHcY"
      },
      "source": [
        "#mnli validation matched[0:300], let t5 first translate hypothesis and premise seperatly to romanian, then do standard mnli,beam=3\n",
        "#immer noch acc weit über 36% random acc\n",
        "{'': {'Consider the following hypothesis: ': {' premise: ': {'': 0.5466666666666666}},\n",
        "  'hypothesis: ': {' premise: ': {'': 0.5466666666666666}}},\n",
        " 'mnli ': {'Consider the following hypothesis: ': {' premise: ': {'': 0.57}},\n",
        "  'hypothesis: ': {' premise: ': {'': 0.5466666666666666}}}}"
      ],
      "execution_count": null,
      "outputs": []
    },
    {
      "cell_type": "code",
      "metadata": {
        "id": "bZqGY-YPsVuX"
      },
      "source": [
        "#mnli validation matched[0:300], let t5 first translate hypothesis and premise seperatly to french, then do standard mnli,beam=3\n",
        "#immer noch acc weit über 36% random acc\n",
        "{'': {'Consider the following hypothesis: ': {' premise: ': {'': 0.5433333333333333}},\n",
        "  'hypothesis: ': {' premise: ': {'': 0.5366666666666666}}},\n",
        " 'mnli ': {'Consider the following hypothesis: ': {' premise: ': {'': 0.5433333333333333}},\n",
        "  'hypothesis: ': {' premise: ': {'': 0.5433333333333333}}}}"
      ],
      "execution_count": null,
      "outputs": []
    },
    {
      "cell_type": "code",
      "metadata": {
        "id": "FLKJFvRjmKJu"
      },
      "source": [
        "#mnli validation matched[0:300], let t5 first translate hypothesis and premise seperatly to german, then do standard mnli,beam=3\n",
        "#immer noch acc weit über 36% random acc\n",
        "{'': {'Consider the following hypothesis: ': {' premise: ': {'': 0.6033333333333334}},\n",
        "  'hypothesis: ': {' premise: ': {'': 0.6}}},\n",
        " 'mnli ': {'Consider the following hypothesis: ': {' premise: ': {'': 0.6133333333333333}},\n",
        "  'hypothesis: ': {' premise: ': {'': 0.5833333333333334}}}}"
      ],
      "execution_count": null,
      "outputs": []
    },
    {
      "cell_type": "code",
      "metadata": {
        "id": "i0oEBRZ7hz9I"
      },
      "source": [
        "#mnli validation matched[0:300], let t5 first summarize the hypothesis, then do standard mnli,beam=3\n",
        "#erstaunlicherweise acc gains von bis zu 3%(kann an 300 statt 200 liegen oder auch daran dass t5 satz so anpasst,dass es für mnli passt)\n",
        "{'': {'Consider the following hypothesis: ': {' premise: ': {'': 0.8566666666666667}},\n",
        "  'hypothesis: ': {' premise: ': {'': 0.8566666666666667}}},\n",
        " 'mnli ': {'Consider the following hypothesis: ': {' premise: ': {'': 0.8466666666666667}},\n",
        "  'hypothesis: ': {' premise: ': {'': 0.8533333333333334}}}}"
      ],
      "execution_count": null,
      "outputs": []
    },
    {
      "cell_type": "code",
      "metadata": {
        "id": "ME6r4BwQcTn5"
      },
      "source": [
        "# snli,0:300 test, premise and hypothesis swapped,beam search mit num_beams=6\n",
        "{'': {'Consider the following hypothesis: ': {' premise: ': {'': 0.8166666666666667}},\n",
        "  'hypothesis: ': {' premise: ': {'': 0.8066666666666666}}},\n",
        " 'mnli ': {'Consider the following hypothesis: ': {' premise: ': {'': 0.7866666666666666}},\n",
        "  'hypothesis: ': {' premise: ': {'': 0.78}}}}"
      ],
      "execution_count": null,
      "outputs": []
    },
    {
      "cell_type": "code",
      "metadata": {
        "id": "g3R3UDKkYz-9"
      },
      "source": [
        "# mnli,0:200 validation matched, premise and hypothesis swapped,beamm search mit num_beams=6\n",
        "# wie erwarted gleiche acc wie b=3, denn 3 beams reichen aus um sich neutral,contradiction und entailment zu merken\n",
        "{'': {'Consider the following hypothesis: ': {' Consider the following premise: ': {'': 0.775},\n",
        "   ' premise: ': {'': 0.845}},\n",
        "  'hypothesis: ': {' Consider the following premise: ': {'': 0.84},\n",
        "   ' premise: ': {'': 0.83}}},\n",
        " 'mnli ': {'Consider the following hypothesis: ': {' Consider the following premise: ': {'': 0.76},\n",
        "   ' premise: ': {'': 0.83}},\n",
        "  'hypothesis: ': {' Consider the following premise: ': {'': 0.81},\n",
        "   ' premise: ': {'': 0.825}}}}"
      ],
      "execution_count": null,
      "outputs": []
    },
    {
      "cell_type": "code",
      "metadata": {
        "id": "yyMhnNzaYySo"
      },
      "source": [
        "# mnli,0:200 validation matched, premise and hypothesis swapped,beamm search mit num_beams=3\n",
        "# erhöht acc gegenüber greedy etwas? vlt weil es ein paar wenige example gibt, bei denen nicht eines der drei label rauskommt als erster token...\n",
        "{'': {'Consider the following hypothesis: ': {' Consider the following premise: ': {'': 0.775},\n",
        "   ' premise: ': {'': 0.845}},\n",
        "  'hypothesis: ': {' Consider the following premise: ': {'': 0.84},\n",
        "   ' premise: ': {'': 0.83}}},\n",
        " 'mnli ': {'Consider the following hypothesis: ': {' Consider the following premise: ': {'': 0.76},\n",
        "   ' premise: ': {'': 0.83}},\n",
        "  'hypothesis: ': {' Consider the following premise: ': {'': 0.81},\n",
        "   ' premise: ': {'': 0.825}}}}"
      ],
      "execution_count": null,
      "outputs": []
    },
    {
      "cell_type": "code",
      "metadata": {
        "id": "0H5wjKJmYwoE"
      },
      "source": [
        "# mnli,0:200 validation matched, premise and hypothesis swapped\n",
        "#sampling=True,lower acc as expected\n",
        "{'': {'Consider the following hypothesis: ': {' Consider the following premise: ': {'': 0.69},\n",
        "   ' premise: ': {'': 0.75}},\n",
        "  'hypothesis: ': {' Consider the following premise: ': {'': 0.785},\n",
        "   ' premise: ': {'': 0.815}}},\n",
        " 'mnli ': {'Consider the following hypothesis: ': {' Consider the following premise: ': {'': 0.685},\n",
        "   ' premise: ': {'': 0.73}},\n",
        "  'hypothesis: ': {' Consider the following premise: ': {'': 0.72},\n",
        "   ' premise: ': {'': 0.78}}}}"
      ],
      "execution_count": null,
      "outputs": []
    },
    {
      "cell_type": "code",
      "metadata": {
        "id": "2Mst6F3bYu-S"
      },
      "source": [
        "# mnli,0:200 validation matched, premise and hypothesis swapped\n",
        "# expected based on the paper is 87% with fine-tuning\n",
        "{'': {'Consider the following hypothesis: ': {' Consider the following premise: ': {'': 0.72},\n",
        "   ' premise: ': {'': 0.83}},\n",
        "  'hypothesis: ': {' Consider the following premise: ': {'': 0.825},\n",
        "   ' premise: ': {'': 0.825}}},\n",
        " 'mnli ': {'Consider the following hypothesis: ': {' Consider the following premise: ': {'': 0.72},\n",
        "   ' premise: ': {'': 0.83}},\n",
        "  'hypothesis: ': {' Consider the following premise: ': {'': 0.785},\n",
        "   ' premise: ': {'': 0.805}}}}"
      ],
      "execution_count": null,
      "outputs": []
    },
    {
      "cell_type": "code",
      "metadata": {
        "id": "d-xb-9JzYsfX"
      },
      "source": [
        "# mnli,0:500 validation matched\n",
        "\n",
        "{'': {' ': {' ': {'': 0,\n",
        "    'With this in mind, we can conclue that the label should be': 0},\n",
        "   ' Furthermore, we will assume that the next statement is true aswell: ': {'': 0,\n",
        "    'With this in mind, we can conclue that the label should be': 0},\n",
        "   'Apples can fly. ': {'': 0,\n",
        "    'With this in mind, we can conclue that the label should be': 0},\n",
        "   'Furthermore, I believe that the next statement is true: ': {'': 0,\n",
        "    'With this in mind, we can conclue that the label should be': 0},\n",
        "   'brain fly science ananas': {'': 0,\n",
        "    'With this in mind, we can conclue that the label should be': 0}},\n",
        "  'I believe that the following statement is true: ': {' ': {'': 0,\n",
        "    'With this in mind, we can conclue that the label should be': 0},\n",
        "   ' Furthermore, we will assume that the next statement is true aswell: ': {'': 0,\n",
        "    'With this in mind, we can conclue that the label should be': 0},\n",
        "   'Apples can fly. ': {'': 0,\n",
        "    'With this in mind, we can conclue that the label should be': 0},\n",
        "   'Furthermore, I believe that the next statement is true: ': {'': 0,\n",
        "    'With this in mind, we can conclue that the label should be': 0},\n",
        "   'brain fly science ananas': {'': 0,\n",
        "    'With this in mind, we can conclue that the label should be': 0}},\n",
        "  'We will assume that the following statement is true: ': {' ': {'': 0,\n",
        "    'With this in mind, we can conclue that the label should be': 0},\n",
        "   ' Furthermore, we will assume that the next statement is true aswell: ': {'': 0,\n",
        "    'With this in mind, we can conclue that the label should be': 0},\n",
        "   'Apples can fly. ': {'': 0,\n",
        "    'With this in mind, we can conclue that the label should be': 0},\n",
        "   'Furthermore, I believe that the next statement is true: ': {'': 0,\n",
        "    'With this in mind, we can conclue that the label should be': 0},\n",
        "   'brain fly science ananas': {'': 0,\n",
        "    'With this in mind, we can conclue that the label should be': 0}},\n",
        "  'Yellow is evil. ': {' ': {'': 0,\n",
        "    'With this in mind, we can conclue that the label should be': 0},\n",
        "   ' Furthermore, we will assume that the next statement is true aswell: ': {'': 0,\n",
        "    'With this in mind, we can conclue that the label should be': 0},\n",
        "   'Apples can fly. ': {'': 0,\n",
        "    'With this in mind, we can conclue that the label should be': 0},\n",
        "   'Furthermore, I believe that the next statement is true: ': {'': 0,\n",
        "    'With this in mind, we can conclue that the label should be': 0},\n",
        "   'brain fly science ananas': {'': 0,\n",
        "    'With this in mind, we can conclue that the label should be': 0}},\n",
        "  'bark train can tee': {' ': {'': 0,\n",
        "    'With this in mind, we can conclue that the label should be': 0},\n",
        "   ' Furthermore, we will assume that the next statement is true aswell: ': {'': 0,\n",
        "    'With this in mind, we can conclue that the label should be': 0},\n",
        "   'Apples can fly. ': {'': 0,\n",
        "    'With this in mind, we can conclue that the label should be': 0},\n",
        "   'Furthermore, I believe that the next statement is true: ': {'': 0,\n",
        "    'With this in mind, we can conclue that the label should be': 0},\n",
        "   'brain fly science ananas': {'': 0,\n",
        "    'With this in mind, we can conclue that the label should be': 0}}},\n",
        " 'This is a task that requires solid reasoning, clear thinking and rigorous inference. ': {' ': {' ': {'': 0,\n",
        "    'With this in mind, we can conclue that the label should be': 0},\n",
        "   ' Furthermore, we will assume that the next statement is true aswell: ': {'': 0,\n",
        "    'With this in mind, we can conclue that the label should be': 0},\n",
        "   'Apples can fly. ': {'': 0,\n",
        "    'With this in mind, we can conclue that the label should be': 0},\n",
        "   'Furthermore, I believe that the next statement is true: ': {'': 0,\n",
        "    'With this in mind, we can conclue that the label should be': 0},\n",
        "   'brain fly science ananas': {'': 0,\n",
        "    'With this in mind, we can conclue that the label should be': 0}},\n",
        "  'I believe that the following statement is true: ': {' ': {'': 0,\n",
        "    'With this in mind, we can conclue that the label should be': 0},\n",
        "   ' Furthermore, we will assume that the next statement is true aswell: ': {'': 0,\n",
        "    'With this in mind, we can conclue that the label should be': 0},\n",
        "   'Apples can fly. ': {'': 0,\n",
        "    'With this in mind, we can conclue that the label should be': 0},\n",
        "   'Furthermore, I believe that the next statement is true: ': {'': 0,\n",
        "    'With this in mind, we can conclue that the label should be': 0},\n",
        "   'brain fly science ananas': {'': 0,\n",
        "    'With this in mind, we can conclue that the label should be': 0}},\n",
        "  'We will assume that the following statement is true: ': {' ': {'': 0,\n",
        "    'With this in mind, we can conclue that the label should be': 0},\n",
        "   ' Furthermore, we will assume that the next statement is true aswell: ': {'': 0,\n",
        "    'With this in mind, we can conclue that the label should be': 0},\n",
        "   'Apples can fly. ': {'': 0,\n",
        "    'With this in mind, we can conclue that the label should be': 0},\n",
        "   'Furthermore, I believe that the next statement is true: ': {'': 0,\n",
        "    'With this in mind, we can conclue that the label should be': 0},\n",
        "   'brain fly science ananas': {'': 0,\n",
        "    'With this in mind, we can conclue that the label should be': 0}},\n",
        "  'Yellow is evil. ': {' ': {'': 0,\n",
        "    'With this in mind, we can conclue that the label should be': 0},\n",
        "   ' Furthermore, we will assume that the next statement is true aswell: ': {'': 0,\n",
        "    'With this in mind, we can conclue that the label should be': 0},\n",
        "   'Apples can fly. ': {'': 0,\n",
        "    'With this in mind, we can conclue that the label should be': 0},\n",
        "   'Furthermore, I believe that the next statement is true: ': {'': 0,\n",
        "    'With this in mind, we can conclue that the label should be': 0},\n",
        "   'brain fly science ananas': {'': 0,\n",
        "    'With this in mind, we can conclue that the label should be': 0}},\n",
        "  'bark train can tee': {' ': {'': 0,\n",
        "    'With this in mind, we can conclue that the label should be': 0},\n",
        "   ' Furthermore, we will assume that the next statement is true aswell: ': {'': 0,\n",
        "    'With this in mind, we can conclue that the label should be': 0},\n",
        "   'Apples can fly. ': {'': 0,\n",
        "    'With this in mind, we can conclue that the label should be': 0},\n",
        "   'Furthermore, I believe that the next statement is true: ': {'': 0,\n",
        "    'With this in mind, we can conclue that the label should be': 0},\n",
        "   'brain fly science ananas': {'': 0,\n",
        "    'With this in mind, we can conclue that the label should be': 0}}}}"
      ],
      "execution_count": null,
      "outputs": []
    },
    {
      "cell_type": "code",
      "metadata": {
        "id": "van8qXZWbcwp"
      },
      "source": [
        "# mnli,500:1000 validation matched\n",
        "\n",
        "{'': {' ': {' ': {'': 0.0, ' The label is': 0.0},\n",
        "   ' Consider the following hypothesis: ': {'': 0.614, ' The label is': 0.606},\n",
        "   ' The following hypothesis is true: ': {'': 0.164, ' The label is': 0.148},\n",
        "   ' hypothesis: ': {'': 0.604, ' The label is': 0.604}},\n",
        "  'Consider the following premise: ': {' ': {'': 0.416,\n",
        "    ' The label is': 0.376},\n",
        "   ' Consider the following hypothesis: ': {'': 0.562, ' The label is': 0.552},\n",
        "   ' The following hypothesis is true: ': {'': 0.526, ' The label is': 0.536},\n",
        "   ' hypothesis: ': {'': 0.594, ' The label is': 0.59}},\n",
        "  'The following premise is true: ': {' ': {'': 0.166, ' The label is': 0.136},\n",
        "   ' Consider the following hypothesis: ': {'': 0.632, ' The label is': 0.598},\n",
        "   ' The following hypothesis is true: ': {'': 0.506, ' The label is': 0.468},\n",
        "   ' hypothesis: ': {'': 0.606, ' The label is': 0.59}},\n",
        "  'premise: ': {' ': {'': 0.514, ' The label is': 0.522},\n",
        "   ' Consider the following hypothesis: ': {'': 0.59, ' The label is': 0.59},\n",
        "   ' The following hypothesis is true: ': {'': 0.592, ' The label is': 0.594},\n",
        "   ' hypothesis: ': {'': 0.596, ' The label is': 0.586}}},\n",
        " 'mnli ': {' ': {' ': {'': 0.0, ' The label is': 0.0},\n",
        "   ' Consider the following hypothesis: ': {'': 0.616, ' The label is': 0.612},\n",
        "   ' The following hypothesis is true: ': {'': 0.396, ' The label is': 0.386},\n",
        "   ' hypothesis: ': {'': 0.59, ' The label is': 0.584}},\n",
        "  'Consider the following premise: ': {' ': {'': 0.442,\n",
        "    ' The label is': 0.416},\n",
        "   ' Consider the following hypothesis: ': {'': 0.588, ' The label is': 0.59},\n",
        "   ' The following hypothesis is true: ': {'': 0.562, ' The label is': 0.568},\n",
        "   ' hypothesis: ': {'': 0.578, ' The label is': 0.582}},\n",
        "  'The following premise is true: ': {' ': {'': 0.374, ' The label is': 0.364},\n",
        "   ' Consider the following hypothesis: ': {'': 0.552, ' The label is': 0.546},\n",
        "   ' The following hypothesis is true: ': {'': 0.558, ' The label is': 0.55},\n",
        "   ' hypothesis: ': {'': 0.558, ' The label is': 0.56}},\n",
        "  'premise: ': {' ': {'': 0.534, ' The label is': 0.538},\n",
        "   ' Consider the following hypothesis: ': {'': 0.598, ' The label is': 0.598},\n",
        "   ' The following hypothesis is true: ': {'': 0.602, ' The label is': 0.588},\n",
        "   ' hypothesis: ': {'': 0.594, ' The label is': 0.588}}}}\n",
        "\n",
        "max = 0.61\n",
        "min = 0.14#bzw 0\n",
        "#scheint übereinzustimmen mit 0:500"
      ],
      "execution_count": null,
      "outputs": []
    },
    {
      "cell_type": "code",
      "metadata": {
        "id": "trtPOVHUZzEb"
      },
      "source": [
        "# mnli,0:500 validation matched\n",
        "\n",
        "\n",
        "{'': {' ': {' ': {'': 0.0, ' The label is': 0.0},\n",
        "   ' Consider the following hypothesis: ': {'': 0.618, ' The label is': 0.6},\n",
        "   ' The following hypothesis is true: ': {'': 0.152, ' The label is': 0.126},\n",
        "   ' hypothesis: ': {'': 0.592, ' The label is': 0.594}},\n",
        "  'Consider the following premise: ': {' ': {'': 0.436,\n",
        "    ' The label is': 0.412},\n",
        "   ' Consider the following hypothesis: ': {'': 0.598, ' The label is': 0.57},\n",
        "   ' The following hypothesis is true: ': {'': 0.504, ' The label is': 0.49},\n",
        "   ' hypothesis: ': {'': 0.596, ' The label is': 0.59}},\n",
        "  'The following premise is true: ': {' ': {'': 0.162, ' The label is': 0.14},\n",
        "   ' Consider the following hypothesis: ': {'': 0.59, ' The label is': 0.578},\n",
        "   ' The following hypothesis is true: ': {'': 0.576, ' The label is': 0.534},\n",
        "   ' hypothesis: ': {'': 0.582, ' The label is': 0.576}},\n",
        "  'premise: ': {' ': {'': 0.566, ' The label is': 0.552},\n",
        "   ' Consider the following hypothesis: ': {'': 0.62, ' The label is': 0.63},\n",
        "   ' The following hypothesis is true: ': {'': 0.596, ' The label is': 0.594},\n",
        "   ' hypothesis: ': {'': 0.596, ' The label is': 0.606}}},\n",
        " 'mnli ': {' ': {' ': {'': 0.0, ' The label is': 0.0},\n",
        "   ' Consider the following hypothesis: ': {'': 0.604, ' The label is': 0.616},\n",
        "   ' The following hypothesis is true: ': {'': 0.388, ' The label is': 0.342},\n",
        "   ' hypothesis: ': {'': 0.58, ' The label is': 0.574}},\n",
        "  'Consider the following premise: ': {' ': {'': 0.39, ' The label is': 0.38},\n",
        "   ' Consider the following hypothesis: ': {'': 0.596, ' The label is': 0.588},\n",
        "   ' The following hypothesis is true: ': {'': 0.56, ' The label is': 0.546},\n",
        "   ' hypothesis: ': {'': 0.564, ' The label is': 0.58}},\n",
        "  'The following premise is true: ': {' ': {'': 0.36, ' The label is': 0.348},\n",
        "   ' Consider the following hypothesis: ': {'': 0.538, ' The label is': 0.514},\n",
        "   ' The following hypothesis is true: ': {'': 0.558, ' The label is': 0.554},\n",
        "   ' hypothesis: ': {'': 0.552, ' The label is': 0.558}},\n",
        "  'premise: ': {' ': {'': 0.54, ' The label is': 0.53},\n",
        "   ' Consider the following hypothesis: ': {'': 0.582, ' The label is': 0.588},\n",
        "   ' The following hypothesis is true: ': {'': 0.584, ' The label is': 0.588},\n",
        "   ' hypothesis: ': {'': 0.584, ' The label is': 0.582}}}}\n",
        "\n",
        "max = 0.62\n",
        "min = 0.12#bzw 0\n",
        "# auch hier: Z ist größtenteils egal, teh label is stört eher"
      ],
      "execution_count": null,
      "outputs": []
    },
    {
      "cell_type": "code",
      "metadata": {
        "id": "sgGYLzr8js19"
      },
      "source": [
        "# snli,0:500 test\n",
        "\n",
        "{'': {' ': {' ': {'': 0.0, ' The label is': 0.0},\n",
        "   ' Consider the following hypothesis: ': {'': 0.458, ' The label is': 0.458},\n",
        "   ' The following hypothesis is true: ': {'': 0.226, ' The label is': 0.196},\n",
        "   ' hypothesis: ': {'': 0.46, ' The label is': 0.446}},\n",
        "  'Consider the following premise: ': {' ': {'': 0.38, ' The label is': 0.362},\n",
        "   ' Consider the following hypothesis: ': {'': 0.456, ' The label is': 0.442},\n",
        "   ' The following hypothesis is true: ': {'': 0.39, ' The label is': 0.372},\n",
        "   ' hypothesis: ': {'': 0.462, ' The label is': 0.456}},\n",
        "  'The following premise is true: ': {' ': {'': 0.164, ' The label is': 0.12},\n",
        "   ' Consider the following hypothesis: ': {'': 0.458, ' The label is': 0.432},\n",
        "   ' The following hypothesis is true: ': {'': 0.454, ' The label is': 0.452},\n",
        "   ' hypothesis: ': {'': 0.478, ' The label is': 0.456}},\n",
        "  'premise: ': {' ': {'': 0.402, ' The label is': 0.392},\n",
        "   ' Consider the following hypothesis: ': {'': 0.48, ' The label is': 0.462},\n",
        "   ' The following hypothesis is true: ': {'': 0.472, ' The label is': 0.46},\n",
        "   ' hypothesis: ': {'': 0.472, ' The label is': 0.474}}},\n",
        " 'mnli ': {' ': {' ': {'': 0.0, ' The label is': 0.0},\n",
        "   ' Consider the following hypothesis: ': {'': 0.446, ' The label is': 0.442},\n",
        "   ' The following hypothesis is true: ': {'': 0.386, ' The label is': 0.376},\n",
        "   ' hypothesis: ': {'': 0.48, ' The label is': 0.468}},\n",
        "  'Consider the following premise: ': {' ': {'': 0.342,\n",
        "    ' The label is': 0.348},\n",
        "   ' Consider the following hypothesis: ': {'': 0.47, ' The label is': 0.446},\n",
        "   ' The following hypothesis is true: ': {'': 0.446, ' The label is': 0.432},\n",
        "   ' hypothesis: ': {'': 0.484, ' The label is': 0.462}},\n",
        "  'The following premise is true: ': {' ': {'': 0.328, ' The label is': 0.322},\n",
        "   ' Consider the following hypothesis: ': {'': 0.468, ' The label is': 0.45},\n",
        "   ' The following hypothesis is true: ': {'': 0.466, ' The label is': 0.444},\n",
        "   ' hypothesis: ': {'': 0.496, ' The label is': 0.484}},\n",
        "  'premise: ': {' ': {'': 0.438, ' The label is': 0.426},\n",
        "   ' Consider the following hypothesis: ': {'': 0.468, ' The label is': 0.462},\n",
        "   ' The following hypothesis is true: ': {'': 0.472, ' The label is': 0.47},\n",
        "   ' hypothesis: ': {'': 0.472, ' The label is': 0.462}}}}\n",
        "\n",
        "max = 0.468\n",
        "min = 0.12#bzw 0\n",
        "# \"the label is\" stört eher, hat aber geringen einfluss"
      ],
      "execution_count": null,
      "outputs": []
    },
    {
      "cell_type": "markdown",
      "metadata": {
        "id": "ACZ8sZrztpWv"
      },
      "source": [
        "\n",
        "\n",
        "\n",
        "\n",
        "\n",
        "*   mnli als triggerwort stört eher\n",
        "*   hypothesis: muss als trigger drin stehen\n",
        "*   reihenfolge ist entscheidend. Wenn man premise und hypothesis swapped ist acc viel niedriger\n",
        "*   beam search erhöht acc\n",
        "*   hohe acc bei snli, obowohl es darauf(wahrscheinlich) nicht trainiert wurde\n",
        "*   t5 zuerst die prämisse zusammenfassen lassen (summarize: ) führt zu keinen acc verlusten(z.T. leichte acc gains)(kann sein, dass t5 bei kurzen prämissen einfach nichts ändert)\n",
        "*   t5 zuerste in german/french/romanian übersetzen lassen sieht verluste in acc, aber immer noch weit über random(60%)\n",
        "*   auch translation mit anderem transformer(mBart) funktioniert. für deutsch sogar knapp 10% mehr acc(69 statt 60). Auch spanish translation weit über random acc(50). Übersetzen in Koreanisch oder Schwedisch hingegen führt zu random acc(spanisch sehr ähnlich zu französisch?)\n",
        "*   cb statt mnli kein Unterschied\n",
        "*   nur prämisse oder nur hypothese führt zu random acc\n",
        "*   in mrpc übersetzen(task bei dem man bestimmen soll, ob zwei sätze äquivalent sind) führt zu acc von 47, also mehr als random, wenn man \"equivalent\" = \"entailment\" und \"non_equivalent\"= \"contradiction \" macht. Es ist zu beachten, dass es hier t5 garnicht möglich ist neutral auszugeben, also maximale acc ~70% (es kommt zudem auf die reihenfolge an, zuerst prämisse, dann hypothese ist fast random acc)\n",
        "*   in qnli übersetzen auch mehr als random acc, obowhl nie neutral ausgegeben werden kann(aufgabe ist es zu bestimmen, ob eine gegebene frage aus einem kontext beantwortbar ist, hier einfach hypothese als frage und premise als kontext)\n",
        "*   {'question: Should the label be entailment, contradiction or neutral? context: ': {'hypothesis: ': {' premise: ': {'': 0.5}}}}(squad format), über random acc, aber man muss trigger im kontext lassen, sonst muss man antwort anders bestimmen\n",
        "*   Einzelne vocale und mehrere vocale zufällig durch andere zu ersetzen hat immer noch mehr als random acc\n",
        "*  t5 schaut auf sentiment, auch in fällen wo dies kein sinn ergibt\n",
        "*  t5 achtet auf token overlapp\n",
        "*  Reihenfolge der token ist egal?\n",
        "*  hyp und premise vertauscht hat auch acc weit über random(55%), kann natürlich sein dass es im datensatz auch einige äquivalenzen und nicht nur implikationen gibt\n"
      ]
    }
  ]
}