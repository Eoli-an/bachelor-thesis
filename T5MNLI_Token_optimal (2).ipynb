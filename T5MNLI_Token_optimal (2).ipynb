{
  "nbformat": 4,
  "nbformat_minor": 0,
  "metadata": {
    "colab": {
      "name": "T5MNLI Token optimal.ipynb",
      "provenance": [],
      "collapsed_sections": [],
      "toc_visible": true
    },
    "kernelspec": {
      "name": "python3",
      "display_name": "Python 3"
    },
    "accelerator": "GPU",
    "widgets": {
      "application/vnd.jupyter.widget-state+json": {
        "47cac84ea146478193c9aab5114dd79a": {
          "model_module": "@jupyter-widgets/controls",
          "model_name": "HBoxModel",
          "state": {
            "_view_name": "HBoxView",
            "_dom_classes": [],
            "_model_name": "HBoxModel",
            "_view_module": "@jupyter-widgets/controls",
            "_model_module_version": "1.5.0",
            "_view_count": null,
            "_view_module_version": "1.5.0",
            "box_style": "",
            "layout": "IPY_MODEL_cd137166664746d497912c77bfc486b2",
            "_model_module": "@jupyter-widgets/controls",
            "children": [
              "IPY_MODEL_2440144595d0435abc38c7d248c0995d",
              "IPY_MODEL_22b60ff46b81478b828d044a9e5e260a"
            ]
          }
        },
        "cd137166664746d497912c77bfc486b2": {
          "model_module": "@jupyter-widgets/base",
          "model_name": "LayoutModel",
          "state": {
            "_view_name": "LayoutView",
            "grid_template_rows": null,
            "right": null,
            "justify_content": null,
            "_view_module": "@jupyter-widgets/base",
            "overflow": null,
            "_model_module_version": "1.2.0",
            "_view_count": null,
            "flex_flow": null,
            "width": null,
            "min_width": null,
            "border": null,
            "align_items": null,
            "bottom": null,
            "_model_module": "@jupyter-widgets/base",
            "top": null,
            "grid_column": null,
            "overflow_y": null,
            "overflow_x": null,
            "grid_auto_flow": null,
            "grid_area": null,
            "grid_template_columns": null,
            "flex": null,
            "_model_name": "LayoutModel",
            "justify_items": null,
            "grid_row": null,
            "max_height": null,
            "align_content": null,
            "visibility": null,
            "align_self": null,
            "height": null,
            "min_height": null,
            "padding": null,
            "grid_auto_rows": null,
            "grid_gap": null,
            "max_width": null,
            "order": null,
            "_view_module_version": "1.2.0",
            "grid_template_areas": null,
            "object_position": null,
            "object_fit": null,
            "grid_auto_columns": null,
            "margin": null,
            "display": null,
            "left": null
          }
        },
        "2440144595d0435abc38c7d248c0995d": {
          "model_module": "@jupyter-widgets/controls",
          "model_name": "FloatProgressModel",
          "state": {
            "_view_name": "ProgressView",
            "style": "IPY_MODEL_8033e94a3d614897ac92cbc534b6fd2f",
            "_dom_classes": [],
            "description": "Downloading: ",
            "_model_name": "FloatProgressModel",
            "bar_style": "success",
            "max": 1904,
            "_view_module": "@jupyter-widgets/controls",
            "_model_module_version": "1.5.0",
            "value": 1904,
            "_view_count": null,
            "_view_module_version": "1.5.0",
            "orientation": "horizontal",
            "min": 0,
            "description_tooltip": null,
            "_model_module": "@jupyter-widgets/controls",
            "layout": "IPY_MODEL_d2708e76389f4b2396832e1c289a4e90"
          }
        },
        "22b60ff46b81478b828d044a9e5e260a": {
          "model_module": "@jupyter-widgets/controls",
          "model_name": "HTMLModel",
          "state": {
            "_view_name": "HTMLView",
            "style": "IPY_MODEL_097d470d02fb45eb98a937efa841b369",
            "_dom_classes": [],
            "description": "",
            "_model_name": "HTMLModel",
            "placeholder": "​",
            "_view_module": "@jupyter-widgets/controls",
            "_model_module_version": "1.5.0",
            "value": " 5.14k/? [00:19&lt;00:00, 267B/s]",
            "_view_count": null,
            "_view_module_version": "1.5.0",
            "description_tooltip": null,
            "_model_module": "@jupyter-widgets/controls",
            "layout": "IPY_MODEL_a7d6fa5bb2cd47cfa664aa92e99276db"
          }
        },
        "8033e94a3d614897ac92cbc534b6fd2f": {
          "model_module": "@jupyter-widgets/controls",
          "model_name": "ProgressStyleModel",
          "state": {
            "_view_name": "StyleView",
            "_model_name": "ProgressStyleModel",
            "description_width": "initial",
            "_view_module": "@jupyter-widgets/base",
            "_model_module_version": "1.5.0",
            "_view_count": null,
            "_view_module_version": "1.2.0",
            "bar_color": null,
            "_model_module": "@jupyter-widgets/controls"
          }
        },
        "d2708e76389f4b2396832e1c289a4e90": {
          "model_module": "@jupyter-widgets/base",
          "model_name": "LayoutModel",
          "state": {
            "_view_name": "LayoutView",
            "grid_template_rows": null,
            "right": null,
            "justify_content": null,
            "_view_module": "@jupyter-widgets/base",
            "overflow": null,
            "_model_module_version": "1.2.0",
            "_view_count": null,
            "flex_flow": null,
            "width": null,
            "min_width": null,
            "border": null,
            "align_items": null,
            "bottom": null,
            "_model_module": "@jupyter-widgets/base",
            "top": null,
            "grid_column": null,
            "overflow_y": null,
            "overflow_x": null,
            "grid_auto_flow": null,
            "grid_area": null,
            "grid_template_columns": null,
            "flex": null,
            "_model_name": "LayoutModel",
            "justify_items": null,
            "grid_row": null,
            "max_height": null,
            "align_content": null,
            "visibility": null,
            "align_self": null,
            "height": null,
            "min_height": null,
            "padding": null,
            "grid_auto_rows": null,
            "grid_gap": null,
            "max_width": null,
            "order": null,
            "_view_module_version": "1.2.0",
            "grid_template_areas": null,
            "object_position": null,
            "object_fit": null,
            "grid_auto_columns": null,
            "margin": null,
            "display": null,
            "left": null
          }
        },
        "097d470d02fb45eb98a937efa841b369": {
          "model_module": "@jupyter-widgets/controls",
          "model_name": "DescriptionStyleModel",
          "state": {
            "_view_name": "StyleView",
            "_model_name": "DescriptionStyleModel",
            "description_width": "",
            "_view_module": "@jupyter-widgets/base",
            "_model_module_version": "1.5.0",
            "_view_count": null,
            "_view_module_version": "1.2.0",
            "_model_module": "@jupyter-widgets/controls"
          }
        },
        "a7d6fa5bb2cd47cfa664aa92e99276db": {
          "model_module": "@jupyter-widgets/base",
          "model_name": "LayoutModel",
          "state": {
            "_view_name": "LayoutView",
            "grid_template_rows": null,
            "right": null,
            "justify_content": null,
            "_view_module": "@jupyter-widgets/base",
            "overflow": null,
            "_model_module_version": "1.2.0",
            "_view_count": null,
            "flex_flow": null,
            "width": null,
            "min_width": null,
            "border": null,
            "align_items": null,
            "bottom": null,
            "_model_module": "@jupyter-widgets/base",
            "top": null,
            "grid_column": null,
            "overflow_y": null,
            "overflow_x": null,
            "grid_auto_flow": null,
            "grid_area": null,
            "grid_template_columns": null,
            "flex": null,
            "_model_name": "LayoutModel",
            "justify_items": null,
            "grid_row": null,
            "max_height": null,
            "align_content": null,
            "visibility": null,
            "align_self": null,
            "height": null,
            "min_height": null,
            "padding": null,
            "grid_auto_rows": null,
            "grid_gap": null,
            "max_width": null,
            "order": null,
            "_view_module_version": "1.2.0",
            "grid_template_areas": null,
            "object_position": null,
            "object_fit": null,
            "grid_auto_columns": null,
            "margin": null,
            "display": null,
            "left": null
          }
        },
        "0504c38fb61b470f9c125cc140bb9274": {
          "model_module": "@jupyter-widgets/controls",
          "model_name": "HBoxModel",
          "state": {
            "_view_name": "HBoxView",
            "_dom_classes": [],
            "_model_name": "HBoxModel",
            "_view_module": "@jupyter-widgets/controls",
            "_model_module_version": "1.5.0",
            "_view_count": null,
            "_view_module_version": "1.5.0",
            "box_style": "",
            "layout": "IPY_MODEL_9d52afc4b8854849b55ec147c748d75a",
            "_model_module": "@jupyter-widgets/controls",
            "children": [
              "IPY_MODEL_0999f2b8eeb14928b6f9ad59d06e5fc2",
              "IPY_MODEL_9617c4442ec249ee914ec37a2a24f8fa"
            ]
          }
        },
        "9d52afc4b8854849b55ec147c748d75a": {
          "model_module": "@jupyter-widgets/base",
          "model_name": "LayoutModel",
          "state": {
            "_view_name": "LayoutView",
            "grid_template_rows": null,
            "right": null,
            "justify_content": null,
            "_view_module": "@jupyter-widgets/base",
            "overflow": null,
            "_model_module_version": "1.2.0",
            "_view_count": null,
            "flex_flow": null,
            "width": null,
            "min_width": null,
            "border": null,
            "align_items": null,
            "bottom": null,
            "_model_module": "@jupyter-widgets/base",
            "top": null,
            "grid_column": null,
            "overflow_y": null,
            "overflow_x": null,
            "grid_auto_flow": null,
            "grid_area": null,
            "grid_template_columns": null,
            "flex": null,
            "_model_name": "LayoutModel",
            "justify_items": null,
            "grid_row": null,
            "max_height": null,
            "align_content": null,
            "visibility": null,
            "align_self": null,
            "height": null,
            "min_height": null,
            "padding": null,
            "grid_auto_rows": null,
            "grid_gap": null,
            "max_width": null,
            "order": null,
            "_view_module_version": "1.2.0",
            "grid_template_areas": null,
            "object_position": null,
            "object_fit": null,
            "grid_auto_columns": null,
            "margin": null,
            "display": null,
            "left": null
          }
        },
        "0999f2b8eeb14928b6f9ad59d06e5fc2": {
          "model_module": "@jupyter-widgets/controls",
          "model_name": "FloatProgressModel",
          "state": {
            "_view_name": "ProgressView",
            "style": "IPY_MODEL_966ce6bc81c7468cb2b749399bdfb7ac",
            "_dom_classes": [],
            "description": "Downloading: ",
            "_model_name": "FloatProgressModel",
            "bar_style": "success",
            "max": 1193,
            "_view_module": "@jupyter-widgets/controls",
            "_model_module_version": "1.5.0",
            "value": 1193,
            "_view_count": null,
            "_view_module_version": "1.5.0",
            "orientation": "horizontal",
            "min": 0,
            "description_tooltip": null,
            "_model_module": "@jupyter-widgets/controls",
            "layout": "IPY_MODEL_8396ffe4051f445893ec22341cd3fd6a"
          }
        },
        "9617c4442ec249ee914ec37a2a24f8fa": {
          "model_module": "@jupyter-widgets/controls",
          "model_name": "HTMLModel",
          "state": {
            "_view_name": "HTMLView",
            "style": "IPY_MODEL_8e1bddec7f71407a9dde2c1c498cf2e0",
            "_dom_classes": [],
            "description": "",
            "_model_name": "HTMLModel",
            "placeholder": "​",
            "_view_module": "@jupyter-widgets/controls",
            "_model_module_version": "1.5.0",
            "value": " 2.88k/? [00:00&lt;00:00, 32.6kB/s]",
            "_view_count": null,
            "_view_module_version": "1.5.0",
            "description_tooltip": null,
            "_model_module": "@jupyter-widgets/controls",
            "layout": "IPY_MODEL_fe438ba824084bda89effb6491bbe7ca"
          }
        },
        "966ce6bc81c7468cb2b749399bdfb7ac": {
          "model_module": "@jupyter-widgets/controls",
          "model_name": "ProgressStyleModel",
          "state": {
            "_view_name": "StyleView",
            "_model_name": "ProgressStyleModel",
            "description_width": "initial",
            "_view_module": "@jupyter-widgets/base",
            "_model_module_version": "1.5.0",
            "_view_count": null,
            "_view_module_version": "1.2.0",
            "bar_color": null,
            "_model_module": "@jupyter-widgets/controls"
          }
        },
        "8396ffe4051f445893ec22341cd3fd6a": {
          "model_module": "@jupyter-widgets/base",
          "model_name": "LayoutModel",
          "state": {
            "_view_name": "LayoutView",
            "grid_template_rows": null,
            "right": null,
            "justify_content": null,
            "_view_module": "@jupyter-widgets/base",
            "overflow": null,
            "_model_module_version": "1.2.0",
            "_view_count": null,
            "flex_flow": null,
            "width": null,
            "min_width": null,
            "border": null,
            "align_items": null,
            "bottom": null,
            "_model_module": "@jupyter-widgets/base",
            "top": null,
            "grid_column": null,
            "overflow_y": null,
            "overflow_x": null,
            "grid_auto_flow": null,
            "grid_area": null,
            "grid_template_columns": null,
            "flex": null,
            "_model_name": "LayoutModel",
            "justify_items": null,
            "grid_row": null,
            "max_height": null,
            "align_content": null,
            "visibility": null,
            "align_self": null,
            "height": null,
            "min_height": null,
            "padding": null,
            "grid_auto_rows": null,
            "grid_gap": null,
            "max_width": null,
            "order": null,
            "_view_module_version": "1.2.0",
            "grid_template_areas": null,
            "object_position": null,
            "object_fit": null,
            "grid_auto_columns": null,
            "margin": null,
            "display": null,
            "left": null
          }
        },
        "8e1bddec7f71407a9dde2c1c498cf2e0": {
          "model_module": "@jupyter-widgets/controls",
          "model_name": "DescriptionStyleModel",
          "state": {
            "_view_name": "StyleView",
            "_model_name": "DescriptionStyleModel",
            "description_width": "",
            "_view_module": "@jupyter-widgets/base",
            "_model_module_version": "1.5.0",
            "_view_count": null,
            "_view_module_version": "1.2.0",
            "_model_module": "@jupyter-widgets/controls"
          }
        },
        "fe438ba824084bda89effb6491bbe7ca": {
          "model_module": "@jupyter-widgets/base",
          "model_name": "LayoutModel",
          "state": {
            "_view_name": "LayoutView",
            "grid_template_rows": null,
            "right": null,
            "justify_content": null,
            "_view_module": "@jupyter-widgets/base",
            "overflow": null,
            "_model_module_version": "1.2.0",
            "_view_count": null,
            "flex_flow": null,
            "width": null,
            "min_width": null,
            "border": null,
            "align_items": null,
            "bottom": null,
            "_model_module": "@jupyter-widgets/base",
            "top": null,
            "grid_column": null,
            "overflow_y": null,
            "overflow_x": null,
            "grid_auto_flow": null,
            "grid_area": null,
            "grid_template_columns": null,
            "flex": null,
            "_model_name": "LayoutModel",
            "justify_items": null,
            "grid_row": null,
            "max_height": null,
            "align_content": null,
            "visibility": null,
            "align_self": null,
            "height": null,
            "min_height": null,
            "padding": null,
            "grid_auto_rows": null,
            "grid_gap": null,
            "max_width": null,
            "order": null,
            "_view_module_version": "1.2.0",
            "grid_template_areas": null,
            "object_position": null,
            "object_fit": null,
            "grid_auto_columns": null,
            "margin": null,
            "display": null,
            "left": null
          }
        },
        "722016d1838f4cac98a958d379cfd1b2": {
          "model_module": "@jupyter-widgets/controls",
          "model_name": "HBoxModel",
          "state": {
            "_view_name": "HBoxView",
            "_dom_classes": [],
            "_model_name": "HBoxModel",
            "_view_module": "@jupyter-widgets/controls",
            "_model_module_version": "1.5.0",
            "_view_count": null,
            "_view_module_version": "1.5.0",
            "box_style": "",
            "layout": "IPY_MODEL_4d57310407d04321a61f25585e471a77",
            "_model_module": "@jupyter-widgets/controls",
            "children": [
              "IPY_MODEL_adfce054cfbb417bbae3c5bd130dbf59",
              "IPY_MODEL_2a80512466904afaa65571fe3a9508a2"
            ]
          }
        },
        "4d57310407d04321a61f25585e471a77": {
          "model_module": "@jupyter-widgets/base",
          "model_name": "LayoutModel",
          "state": {
            "_view_name": "LayoutView",
            "grid_template_rows": null,
            "right": null,
            "justify_content": null,
            "_view_module": "@jupyter-widgets/base",
            "overflow": null,
            "_model_module_version": "1.2.0",
            "_view_count": null,
            "flex_flow": null,
            "width": null,
            "min_width": null,
            "border": null,
            "align_items": null,
            "bottom": null,
            "_model_module": "@jupyter-widgets/base",
            "top": null,
            "grid_column": null,
            "overflow_y": null,
            "overflow_x": null,
            "grid_auto_flow": null,
            "grid_area": null,
            "grid_template_columns": null,
            "flex": null,
            "_model_name": "LayoutModel",
            "justify_items": null,
            "grid_row": null,
            "max_height": null,
            "align_content": null,
            "visibility": null,
            "align_self": null,
            "height": null,
            "min_height": null,
            "padding": null,
            "grid_auto_rows": null,
            "grid_gap": null,
            "max_width": null,
            "order": null,
            "_view_module_version": "1.2.0",
            "grid_template_areas": null,
            "object_position": null,
            "object_fit": null,
            "grid_auto_columns": null,
            "margin": null,
            "display": null,
            "left": null
          }
        },
        "adfce054cfbb417bbae3c5bd130dbf59": {
          "model_module": "@jupyter-widgets/controls",
          "model_name": "FloatProgressModel",
          "state": {
            "_view_name": "ProgressView",
            "style": "IPY_MODEL_3542065f83b04ca0ab52eac187002c60",
            "_dom_classes": [],
            "description": "Downloading: 100%",
            "_model_name": "FloatProgressModel",
            "bar_style": "success",
            "max": 226850426,
            "_view_module": "@jupyter-widgets/controls",
            "_model_module_version": "1.5.0",
            "value": 226850426,
            "_view_count": null,
            "_view_module_version": "1.5.0",
            "orientation": "horizontal",
            "min": 0,
            "description_tooltip": null,
            "_model_module": "@jupyter-widgets/controls",
            "layout": "IPY_MODEL_f73c034569c84b57aa4d8dc4e66ed754"
          }
        },
        "2a80512466904afaa65571fe3a9508a2": {
          "model_module": "@jupyter-widgets/controls",
          "model_name": "HTMLModel",
          "state": {
            "_view_name": "HTMLView",
            "style": "IPY_MODEL_2e38a998b6474a18a417e75546ef905f",
            "_dom_classes": [],
            "description": "",
            "_model_name": "HTMLModel",
            "placeholder": "​",
            "_view_module": "@jupyter-widgets/controls",
            "_model_module_version": "1.5.0",
            "value": " 227M/227M [00:17&lt;00:00, 12.9MB/s]",
            "_view_count": null,
            "_view_module_version": "1.5.0",
            "description_tooltip": null,
            "_model_module": "@jupyter-widgets/controls",
            "layout": "IPY_MODEL_640f9c54541346e2ad25ecc2f4166e1c"
          }
        },
        "3542065f83b04ca0ab52eac187002c60": {
          "model_module": "@jupyter-widgets/controls",
          "model_name": "ProgressStyleModel",
          "state": {
            "_view_name": "StyleView",
            "_model_name": "ProgressStyleModel",
            "description_width": "initial",
            "_view_module": "@jupyter-widgets/base",
            "_model_module_version": "1.5.0",
            "_view_count": null,
            "_view_module_version": "1.2.0",
            "bar_color": null,
            "_model_module": "@jupyter-widgets/controls"
          }
        },
        "f73c034569c84b57aa4d8dc4e66ed754": {
          "model_module": "@jupyter-widgets/base",
          "model_name": "LayoutModel",
          "state": {
            "_view_name": "LayoutView",
            "grid_template_rows": null,
            "right": null,
            "justify_content": null,
            "_view_module": "@jupyter-widgets/base",
            "overflow": null,
            "_model_module_version": "1.2.0",
            "_view_count": null,
            "flex_flow": null,
            "width": null,
            "min_width": null,
            "border": null,
            "align_items": null,
            "bottom": null,
            "_model_module": "@jupyter-widgets/base",
            "top": null,
            "grid_column": null,
            "overflow_y": null,
            "overflow_x": null,
            "grid_auto_flow": null,
            "grid_area": null,
            "grid_template_columns": null,
            "flex": null,
            "_model_name": "LayoutModel",
            "justify_items": null,
            "grid_row": null,
            "max_height": null,
            "align_content": null,
            "visibility": null,
            "align_self": null,
            "height": null,
            "min_height": null,
            "padding": null,
            "grid_auto_rows": null,
            "grid_gap": null,
            "max_width": null,
            "order": null,
            "_view_module_version": "1.2.0",
            "grid_template_areas": null,
            "object_position": null,
            "object_fit": null,
            "grid_auto_columns": null,
            "margin": null,
            "display": null,
            "left": null
          }
        },
        "2e38a998b6474a18a417e75546ef905f": {
          "model_module": "@jupyter-widgets/controls",
          "model_name": "DescriptionStyleModel",
          "state": {
            "_view_name": "StyleView",
            "_model_name": "DescriptionStyleModel",
            "description_width": "",
            "_view_module": "@jupyter-widgets/base",
            "_model_module_version": "1.5.0",
            "_view_count": null,
            "_view_module_version": "1.2.0",
            "_model_module": "@jupyter-widgets/controls"
          }
        },
        "640f9c54541346e2ad25ecc2f4166e1c": {
          "model_module": "@jupyter-widgets/base",
          "model_name": "LayoutModel",
          "state": {
            "_view_name": "LayoutView",
            "grid_template_rows": null,
            "right": null,
            "justify_content": null,
            "_view_module": "@jupyter-widgets/base",
            "overflow": null,
            "_model_module_version": "1.2.0",
            "_view_count": null,
            "flex_flow": null,
            "width": null,
            "min_width": null,
            "border": null,
            "align_items": null,
            "bottom": null,
            "_model_module": "@jupyter-widgets/base",
            "top": null,
            "grid_column": null,
            "overflow_y": null,
            "overflow_x": null,
            "grid_auto_flow": null,
            "grid_area": null,
            "grid_template_columns": null,
            "flex": null,
            "_model_name": "LayoutModel",
            "justify_items": null,
            "grid_row": null,
            "max_height": null,
            "align_content": null,
            "visibility": null,
            "align_self": null,
            "height": null,
            "min_height": null,
            "padding": null,
            "grid_auto_rows": null,
            "grid_gap": null,
            "max_width": null,
            "order": null,
            "_view_module_version": "1.2.0",
            "grid_template_areas": null,
            "object_position": null,
            "object_fit": null,
            "grid_auto_columns": null,
            "margin": null,
            "display": null,
            "left": null
          }
        },
        "93e6ed89b57d472a87b1e7021d175919": {
          "model_module": "@jupyter-widgets/controls",
          "model_name": "HBoxModel",
          "state": {
            "_view_name": "HBoxView",
            "_dom_classes": [],
            "_model_name": "HBoxModel",
            "_view_module": "@jupyter-widgets/controls",
            "_model_module_version": "1.5.0",
            "_view_count": null,
            "_view_module_version": "1.5.0",
            "box_style": "",
            "layout": "IPY_MODEL_7930477683b14503885b40091382d44c",
            "_model_module": "@jupyter-widgets/controls",
            "children": [
              "IPY_MODEL_88870c41358545128a1b59455c4dadda",
              "IPY_MODEL_484c6d6dacee427fb2bd8a48406c9b94"
            ]
          }
        },
        "7930477683b14503885b40091382d44c": {
          "model_module": "@jupyter-widgets/base",
          "model_name": "LayoutModel",
          "state": {
            "_view_name": "LayoutView",
            "grid_template_rows": null,
            "right": null,
            "justify_content": null,
            "_view_module": "@jupyter-widgets/base",
            "overflow": null,
            "_model_module_version": "1.2.0",
            "_view_count": null,
            "flex_flow": null,
            "width": null,
            "min_width": null,
            "border": null,
            "align_items": null,
            "bottom": null,
            "_model_module": "@jupyter-widgets/base",
            "top": null,
            "grid_column": null,
            "overflow_y": null,
            "overflow_x": null,
            "grid_auto_flow": null,
            "grid_area": null,
            "grid_template_columns": null,
            "flex": null,
            "_model_name": "LayoutModel",
            "justify_items": null,
            "grid_row": null,
            "max_height": null,
            "align_content": null,
            "visibility": null,
            "align_self": null,
            "height": null,
            "min_height": null,
            "padding": null,
            "grid_auto_rows": null,
            "grid_gap": null,
            "max_width": null,
            "order": null,
            "_view_module_version": "1.2.0",
            "grid_template_areas": null,
            "object_position": null,
            "object_fit": null,
            "grid_auto_columns": null,
            "margin": null,
            "display": null,
            "left": null
          }
        },
        "88870c41358545128a1b59455c4dadda": {
          "model_module": "@jupyter-widgets/controls",
          "model_name": "FloatProgressModel",
          "state": {
            "_view_name": "ProgressView",
            "style": "IPY_MODEL_c976694bd73b49b29623861f8e56e414",
            "_dom_classes": [],
            "description": "",
            "_model_name": "FloatProgressModel",
            "bar_style": "info",
            "max": 1,
            "_view_module": "@jupyter-widgets/controls",
            "_model_module_version": "1.5.0",
            "value": 1,
            "_view_count": null,
            "_view_module_version": "1.5.0",
            "orientation": "horizontal",
            "min": 0,
            "description_tooltip": null,
            "_model_module": "@jupyter-widgets/controls",
            "layout": "IPY_MODEL_e39aa78334024001b274ab0be56379b5"
          }
        },
        "484c6d6dacee427fb2bd8a48406c9b94": {
          "model_module": "@jupyter-widgets/controls",
          "model_name": "HTMLModel",
          "state": {
            "_view_name": "HTMLView",
            "style": "IPY_MODEL_5749035ccacf4715a25aac0eb0f970a7",
            "_dom_classes": [],
            "description": "",
            "_model_name": "HTMLModel",
            "placeholder": "​",
            "_view_module": "@jupyter-widgets/controls",
            "_model_module_version": "1.5.0",
            "value": " 392702/0 [00:37&lt;00:00, 10508.78 examples/s]",
            "_view_count": null,
            "_view_module_version": "1.5.0",
            "description_tooltip": null,
            "_model_module": "@jupyter-widgets/controls",
            "layout": "IPY_MODEL_4981dd22d7f04a6d8f626862a9f15a3e"
          }
        },
        "c976694bd73b49b29623861f8e56e414": {
          "model_module": "@jupyter-widgets/controls",
          "model_name": "ProgressStyleModel",
          "state": {
            "_view_name": "StyleView",
            "_model_name": "ProgressStyleModel",
            "description_width": "initial",
            "_view_module": "@jupyter-widgets/base",
            "_model_module_version": "1.5.0",
            "_view_count": null,
            "_view_module_version": "1.2.0",
            "bar_color": null,
            "_model_module": "@jupyter-widgets/controls"
          }
        },
        "e39aa78334024001b274ab0be56379b5": {
          "model_module": "@jupyter-widgets/base",
          "model_name": "LayoutModel",
          "state": {
            "_view_name": "LayoutView",
            "grid_template_rows": null,
            "right": null,
            "justify_content": null,
            "_view_module": "@jupyter-widgets/base",
            "overflow": null,
            "_model_module_version": "1.2.0",
            "_view_count": null,
            "flex_flow": null,
            "width": null,
            "min_width": null,
            "border": null,
            "align_items": null,
            "bottom": null,
            "_model_module": "@jupyter-widgets/base",
            "top": null,
            "grid_column": null,
            "overflow_y": null,
            "overflow_x": null,
            "grid_auto_flow": null,
            "grid_area": null,
            "grid_template_columns": null,
            "flex": null,
            "_model_name": "LayoutModel",
            "justify_items": null,
            "grid_row": null,
            "max_height": null,
            "align_content": null,
            "visibility": null,
            "align_self": null,
            "height": null,
            "min_height": null,
            "padding": null,
            "grid_auto_rows": null,
            "grid_gap": null,
            "max_width": null,
            "order": null,
            "_view_module_version": "1.2.0",
            "grid_template_areas": null,
            "object_position": null,
            "object_fit": null,
            "grid_auto_columns": null,
            "margin": null,
            "display": null,
            "left": null
          }
        },
        "5749035ccacf4715a25aac0eb0f970a7": {
          "model_module": "@jupyter-widgets/controls",
          "model_name": "DescriptionStyleModel",
          "state": {
            "_view_name": "StyleView",
            "_model_name": "DescriptionStyleModel",
            "description_width": "",
            "_view_module": "@jupyter-widgets/base",
            "_model_module_version": "1.5.0",
            "_view_count": null,
            "_view_module_version": "1.2.0",
            "_model_module": "@jupyter-widgets/controls"
          }
        },
        "4981dd22d7f04a6d8f626862a9f15a3e": {
          "model_module": "@jupyter-widgets/base",
          "model_name": "LayoutModel",
          "state": {
            "_view_name": "LayoutView",
            "grid_template_rows": null,
            "right": null,
            "justify_content": null,
            "_view_module": "@jupyter-widgets/base",
            "overflow": null,
            "_model_module_version": "1.2.0",
            "_view_count": null,
            "flex_flow": null,
            "width": null,
            "min_width": null,
            "border": null,
            "align_items": null,
            "bottom": null,
            "_model_module": "@jupyter-widgets/base",
            "top": null,
            "grid_column": null,
            "overflow_y": null,
            "overflow_x": null,
            "grid_auto_flow": null,
            "grid_area": null,
            "grid_template_columns": null,
            "flex": null,
            "_model_name": "LayoutModel",
            "justify_items": null,
            "grid_row": null,
            "max_height": null,
            "align_content": null,
            "visibility": null,
            "align_self": null,
            "height": null,
            "min_height": null,
            "padding": null,
            "grid_auto_rows": null,
            "grid_gap": null,
            "max_width": null,
            "order": null,
            "_view_module_version": "1.2.0",
            "grid_template_areas": null,
            "object_position": null,
            "object_fit": null,
            "grid_auto_columns": null,
            "margin": null,
            "display": null,
            "left": null
          }
        },
        "c6b2c8c56d814758ad92adf08f7b0415": {
          "model_module": "@jupyter-widgets/controls",
          "model_name": "HBoxModel",
          "state": {
            "_view_name": "HBoxView",
            "_dom_classes": [],
            "_model_name": "HBoxModel",
            "_view_module": "@jupyter-widgets/controls",
            "_model_module_version": "1.5.0",
            "_view_count": null,
            "_view_module_version": "1.5.0",
            "box_style": "",
            "layout": "IPY_MODEL_858ee3d734a44744a0875fa60564fcdf",
            "_model_module": "@jupyter-widgets/controls",
            "children": [
              "IPY_MODEL_e6b54b80e2c0448db39cb63ed722965f",
              "IPY_MODEL_71bb787c417944f994e39073010fa84c"
            ]
          }
        },
        "858ee3d734a44744a0875fa60564fcdf": {
          "model_module": "@jupyter-widgets/base",
          "model_name": "LayoutModel",
          "state": {
            "_view_name": "LayoutView",
            "grid_template_rows": null,
            "right": null,
            "justify_content": null,
            "_view_module": "@jupyter-widgets/base",
            "overflow": null,
            "_model_module_version": "1.2.0",
            "_view_count": null,
            "flex_flow": null,
            "width": null,
            "min_width": null,
            "border": null,
            "align_items": null,
            "bottom": null,
            "_model_module": "@jupyter-widgets/base",
            "top": null,
            "grid_column": null,
            "overflow_y": null,
            "overflow_x": null,
            "grid_auto_flow": null,
            "grid_area": null,
            "grid_template_columns": null,
            "flex": null,
            "_model_name": "LayoutModel",
            "justify_items": null,
            "grid_row": null,
            "max_height": null,
            "align_content": null,
            "visibility": null,
            "align_self": null,
            "height": null,
            "min_height": null,
            "padding": null,
            "grid_auto_rows": null,
            "grid_gap": null,
            "max_width": null,
            "order": null,
            "_view_module_version": "1.2.0",
            "grid_template_areas": null,
            "object_position": null,
            "object_fit": null,
            "grid_auto_columns": null,
            "margin": null,
            "display": null,
            "left": null
          }
        },
        "e6b54b80e2c0448db39cb63ed722965f": {
          "model_module": "@jupyter-widgets/controls",
          "model_name": "FloatProgressModel",
          "state": {
            "_view_name": "ProgressView",
            "style": "IPY_MODEL_a75108060a9049fea55bb15b1ddcacd4",
            "_dom_classes": [],
            "description": "",
            "_model_name": "FloatProgressModel",
            "bar_style": "info",
            "max": 1,
            "_view_module": "@jupyter-widgets/controls",
            "_model_module_version": "1.5.0",
            "value": 1,
            "_view_count": null,
            "_view_module_version": "1.5.0",
            "orientation": "horizontal",
            "min": 0,
            "description_tooltip": null,
            "_model_module": "@jupyter-widgets/controls",
            "layout": "IPY_MODEL_40b592060a91468f950483cff55395a4"
          }
        },
        "71bb787c417944f994e39073010fa84c": {
          "model_module": "@jupyter-widgets/controls",
          "model_name": "HTMLModel",
          "state": {
            "_view_name": "HTMLView",
            "style": "IPY_MODEL_c10ff84caaf44eb9ba346eb5db76880a",
            "_dom_classes": [],
            "description": "",
            "_model_name": "HTMLModel",
            "placeholder": "​",
            "_view_module": "@jupyter-widgets/controls",
            "_model_module_version": "1.5.0",
            "value": " 9815/0 [00:00&lt;00:00, 9566.86 examples/s]",
            "_view_count": null,
            "_view_module_version": "1.5.0",
            "description_tooltip": null,
            "_model_module": "@jupyter-widgets/controls",
            "layout": "IPY_MODEL_8d70cfd2056d456f8f26c838eda4d324"
          }
        },
        "a75108060a9049fea55bb15b1ddcacd4": {
          "model_module": "@jupyter-widgets/controls",
          "model_name": "ProgressStyleModel",
          "state": {
            "_view_name": "StyleView",
            "_model_name": "ProgressStyleModel",
            "description_width": "initial",
            "_view_module": "@jupyter-widgets/base",
            "_model_module_version": "1.5.0",
            "_view_count": null,
            "_view_module_version": "1.2.0",
            "bar_color": null,
            "_model_module": "@jupyter-widgets/controls"
          }
        },
        "40b592060a91468f950483cff55395a4": {
          "model_module": "@jupyter-widgets/base",
          "model_name": "LayoutModel",
          "state": {
            "_view_name": "LayoutView",
            "grid_template_rows": null,
            "right": null,
            "justify_content": null,
            "_view_module": "@jupyter-widgets/base",
            "overflow": null,
            "_model_module_version": "1.2.0",
            "_view_count": null,
            "flex_flow": null,
            "width": null,
            "min_width": null,
            "border": null,
            "align_items": null,
            "bottom": null,
            "_model_module": "@jupyter-widgets/base",
            "top": null,
            "grid_column": null,
            "overflow_y": null,
            "overflow_x": null,
            "grid_auto_flow": null,
            "grid_area": null,
            "grid_template_columns": null,
            "flex": null,
            "_model_name": "LayoutModel",
            "justify_items": null,
            "grid_row": null,
            "max_height": null,
            "align_content": null,
            "visibility": null,
            "align_self": null,
            "height": null,
            "min_height": null,
            "padding": null,
            "grid_auto_rows": null,
            "grid_gap": null,
            "max_width": null,
            "order": null,
            "_view_module_version": "1.2.0",
            "grid_template_areas": null,
            "object_position": null,
            "object_fit": null,
            "grid_auto_columns": null,
            "margin": null,
            "display": null,
            "left": null
          }
        },
        "c10ff84caaf44eb9ba346eb5db76880a": {
          "model_module": "@jupyter-widgets/controls",
          "model_name": "DescriptionStyleModel",
          "state": {
            "_view_name": "StyleView",
            "_model_name": "DescriptionStyleModel",
            "description_width": "",
            "_view_module": "@jupyter-widgets/base",
            "_model_module_version": "1.5.0",
            "_view_count": null,
            "_view_module_version": "1.2.0",
            "_model_module": "@jupyter-widgets/controls"
          }
        },
        "8d70cfd2056d456f8f26c838eda4d324": {
          "model_module": "@jupyter-widgets/base",
          "model_name": "LayoutModel",
          "state": {
            "_view_name": "LayoutView",
            "grid_template_rows": null,
            "right": null,
            "justify_content": null,
            "_view_module": "@jupyter-widgets/base",
            "overflow": null,
            "_model_module_version": "1.2.0",
            "_view_count": null,
            "flex_flow": null,
            "width": null,
            "min_width": null,
            "border": null,
            "align_items": null,
            "bottom": null,
            "_model_module": "@jupyter-widgets/base",
            "top": null,
            "grid_column": null,
            "overflow_y": null,
            "overflow_x": null,
            "grid_auto_flow": null,
            "grid_area": null,
            "grid_template_columns": null,
            "flex": null,
            "_model_name": "LayoutModel",
            "justify_items": null,
            "grid_row": null,
            "max_height": null,
            "align_content": null,
            "visibility": null,
            "align_self": null,
            "height": null,
            "min_height": null,
            "padding": null,
            "grid_auto_rows": null,
            "grid_gap": null,
            "max_width": null,
            "order": null,
            "_view_module_version": "1.2.0",
            "grid_template_areas": null,
            "object_position": null,
            "object_fit": null,
            "grid_auto_columns": null,
            "margin": null,
            "display": null,
            "left": null
          }
        },
        "8d16a5a7fa2c43709e7d85fea73a026f": {
          "model_module": "@jupyter-widgets/controls",
          "model_name": "HBoxModel",
          "state": {
            "_view_name": "HBoxView",
            "_dom_classes": [],
            "_model_name": "HBoxModel",
            "_view_module": "@jupyter-widgets/controls",
            "_model_module_version": "1.5.0",
            "_view_count": null,
            "_view_module_version": "1.5.0",
            "box_style": "",
            "layout": "IPY_MODEL_488bd2e466df4345998fe378d2fb9bff",
            "_model_module": "@jupyter-widgets/controls",
            "children": [
              "IPY_MODEL_0ef7a25559984f20bc1a5c6c31ce316c",
              "IPY_MODEL_6142d3d6fd684ec7a5140c8ea065b602"
            ]
          }
        },
        "488bd2e466df4345998fe378d2fb9bff": {
          "model_module": "@jupyter-widgets/base",
          "model_name": "LayoutModel",
          "state": {
            "_view_name": "LayoutView",
            "grid_template_rows": null,
            "right": null,
            "justify_content": null,
            "_view_module": "@jupyter-widgets/base",
            "overflow": null,
            "_model_module_version": "1.2.0",
            "_view_count": null,
            "flex_flow": null,
            "width": null,
            "min_width": null,
            "border": null,
            "align_items": null,
            "bottom": null,
            "_model_module": "@jupyter-widgets/base",
            "top": null,
            "grid_column": null,
            "overflow_y": null,
            "overflow_x": null,
            "grid_auto_flow": null,
            "grid_area": null,
            "grid_template_columns": null,
            "flex": null,
            "_model_name": "LayoutModel",
            "justify_items": null,
            "grid_row": null,
            "max_height": null,
            "align_content": null,
            "visibility": null,
            "align_self": null,
            "height": null,
            "min_height": null,
            "padding": null,
            "grid_auto_rows": null,
            "grid_gap": null,
            "max_width": null,
            "order": null,
            "_view_module_version": "1.2.0",
            "grid_template_areas": null,
            "object_position": null,
            "object_fit": null,
            "grid_auto_columns": null,
            "margin": null,
            "display": null,
            "left": null
          }
        },
        "0ef7a25559984f20bc1a5c6c31ce316c": {
          "model_module": "@jupyter-widgets/controls",
          "model_name": "FloatProgressModel",
          "state": {
            "_view_name": "ProgressView",
            "style": "IPY_MODEL_d7608f90c9f44b1a99041e5c962f90be",
            "_dom_classes": [],
            "description": "",
            "_model_name": "FloatProgressModel",
            "bar_style": "info",
            "max": 1,
            "_view_module": "@jupyter-widgets/controls",
            "_model_module_version": "1.5.0",
            "value": 1,
            "_view_count": null,
            "_view_module_version": "1.5.0",
            "orientation": "horizontal",
            "min": 0,
            "description_tooltip": null,
            "_model_module": "@jupyter-widgets/controls",
            "layout": "IPY_MODEL_077bae0bce554eb2bb7c9e0c68f95a32"
          }
        },
        "6142d3d6fd684ec7a5140c8ea065b602": {
          "model_module": "@jupyter-widgets/controls",
          "model_name": "HTMLModel",
          "state": {
            "_view_name": "HTMLView",
            "style": "IPY_MODEL_467cae32cd214c88ba1cead7b9d9432b",
            "_dom_classes": [],
            "description": "",
            "_model_name": "HTMLModel",
            "placeholder": "​",
            "_view_module": "@jupyter-widgets/controls",
            "_model_module_version": "1.5.0",
            "value": " 9832/0 [00:00&lt;00:00, 10387.48 examples/s]",
            "_view_count": null,
            "_view_module_version": "1.5.0",
            "description_tooltip": null,
            "_model_module": "@jupyter-widgets/controls",
            "layout": "IPY_MODEL_d22cf37b6daf484b9ca1ae55eb536f93"
          }
        },
        "d7608f90c9f44b1a99041e5c962f90be": {
          "model_module": "@jupyter-widgets/controls",
          "model_name": "ProgressStyleModel",
          "state": {
            "_view_name": "StyleView",
            "_model_name": "ProgressStyleModel",
            "description_width": "initial",
            "_view_module": "@jupyter-widgets/base",
            "_model_module_version": "1.5.0",
            "_view_count": null,
            "_view_module_version": "1.2.0",
            "bar_color": null,
            "_model_module": "@jupyter-widgets/controls"
          }
        },
        "077bae0bce554eb2bb7c9e0c68f95a32": {
          "model_module": "@jupyter-widgets/base",
          "model_name": "LayoutModel",
          "state": {
            "_view_name": "LayoutView",
            "grid_template_rows": null,
            "right": null,
            "justify_content": null,
            "_view_module": "@jupyter-widgets/base",
            "overflow": null,
            "_model_module_version": "1.2.0",
            "_view_count": null,
            "flex_flow": null,
            "width": null,
            "min_width": null,
            "border": null,
            "align_items": null,
            "bottom": null,
            "_model_module": "@jupyter-widgets/base",
            "top": null,
            "grid_column": null,
            "overflow_y": null,
            "overflow_x": null,
            "grid_auto_flow": null,
            "grid_area": null,
            "grid_template_columns": null,
            "flex": null,
            "_model_name": "LayoutModel",
            "justify_items": null,
            "grid_row": null,
            "max_height": null,
            "align_content": null,
            "visibility": null,
            "align_self": null,
            "height": null,
            "min_height": null,
            "padding": null,
            "grid_auto_rows": null,
            "grid_gap": null,
            "max_width": null,
            "order": null,
            "_view_module_version": "1.2.0",
            "grid_template_areas": null,
            "object_position": null,
            "object_fit": null,
            "grid_auto_columns": null,
            "margin": null,
            "display": null,
            "left": null
          }
        },
        "467cae32cd214c88ba1cead7b9d9432b": {
          "model_module": "@jupyter-widgets/controls",
          "model_name": "DescriptionStyleModel",
          "state": {
            "_view_name": "StyleView",
            "_model_name": "DescriptionStyleModel",
            "description_width": "",
            "_view_module": "@jupyter-widgets/base",
            "_model_module_version": "1.5.0",
            "_view_count": null,
            "_view_module_version": "1.2.0",
            "_model_module": "@jupyter-widgets/controls"
          }
        },
        "d22cf37b6daf484b9ca1ae55eb536f93": {
          "model_module": "@jupyter-widgets/base",
          "model_name": "LayoutModel",
          "state": {
            "_view_name": "LayoutView",
            "grid_template_rows": null,
            "right": null,
            "justify_content": null,
            "_view_module": "@jupyter-widgets/base",
            "overflow": null,
            "_model_module_version": "1.2.0",
            "_view_count": null,
            "flex_flow": null,
            "width": null,
            "min_width": null,
            "border": null,
            "align_items": null,
            "bottom": null,
            "_model_module": "@jupyter-widgets/base",
            "top": null,
            "grid_column": null,
            "overflow_y": null,
            "overflow_x": null,
            "grid_auto_flow": null,
            "grid_area": null,
            "grid_template_columns": null,
            "flex": null,
            "_model_name": "LayoutModel",
            "justify_items": null,
            "grid_row": null,
            "max_height": null,
            "align_content": null,
            "visibility": null,
            "align_self": null,
            "height": null,
            "min_height": null,
            "padding": null,
            "grid_auto_rows": null,
            "grid_gap": null,
            "max_width": null,
            "order": null,
            "_view_module_version": "1.2.0",
            "grid_template_areas": null,
            "object_position": null,
            "object_fit": null,
            "grid_auto_columns": null,
            "margin": null,
            "display": null,
            "left": null
          }
        },
        "54002794d1784d5a9a38614a48c14eac": {
          "model_module": "@jupyter-widgets/controls",
          "model_name": "HBoxModel",
          "state": {
            "_view_name": "HBoxView",
            "_dom_classes": [],
            "_model_name": "HBoxModel",
            "_view_module": "@jupyter-widgets/controls",
            "_model_module_version": "1.5.0",
            "_view_count": null,
            "_view_module_version": "1.5.0",
            "box_style": "",
            "layout": "IPY_MODEL_de7194ef6d4b460189374d0e09e00848",
            "_model_module": "@jupyter-widgets/controls",
            "children": [
              "IPY_MODEL_cdda0b044929408eb61053b9fc0efb7c",
              "IPY_MODEL_dd629b65d62b49d787889d44fd2a3d1b"
            ]
          }
        },
        "de7194ef6d4b460189374d0e09e00848": {
          "model_module": "@jupyter-widgets/base",
          "model_name": "LayoutModel",
          "state": {
            "_view_name": "LayoutView",
            "grid_template_rows": null,
            "right": null,
            "justify_content": null,
            "_view_module": "@jupyter-widgets/base",
            "overflow": null,
            "_model_module_version": "1.2.0",
            "_view_count": null,
            "flex_flow": null,
            "width": null,
            "min_width": null,
            "border": null,
            "align_items": null,
            "bottom": null,
            "_model_module": "@jupyter-widgets/base",
            "top": null,
            "grid_column": null,
            "overflow_y": null,
            "overflow_x": null,
            "grid_auto_flow": null,
            "grid_area": null,
            "grid_template_columns": null,
            "flex": null,
            "_model_name": "LayoutModel",
            "justify_items": null,
            "grid_row": null,
            "max_height": null,
            "align_content": null,
            "visibility": null,
            "align_self": null,
            "height": null,
            "min_height": null,
            "padding": null,
            "grid_auto_rows": null,
            "grid_gap": null,
            "max_width": null,
            "order": null,
            "_view_module_version": "1.2.0",
            "grid_template_areas": null,
            "object_position": null,
            "object_fit": null,
            "grid_auto_columns": null,
            "margin": null,
            "display": null,
            "left": null
          }
        },
        "cdda0b044929408eb61053b9fc0efb7c": {
          "model_module": "@jupyter-widgets/controls",
          "model_name": "FloatProgressModel",
          "state": {
            "_view_name": "ProgressView",
            "style": "IPY_MODEL_d48dba1d759c4a329a91b871292d4078",
            "_dom_classes": [],
            "description": "100%",
            "_model_name": "FloatProgressModel",
            "bar_style": "success",
            "max": 9815,
            "_view_module": "@jupyter-widgets/controls",
            "_model_module_version": "1.5.0",
            "value": 9815,
            "_view_count": null,
            "_view_module_version": "1.5.0",
            "orientation": "horizontal",
            "min": 0,
            "description_tooltip": null,
            "_model_module": "@jupyter-widgets/controls",
            "layout": "IPY_MODEL_df2e072afae1465591f3cb943cdb4c37"
          }
        },
        "dd629b65d62b49d787889d44fd2a3d1b": {
          "model_module": "@jupyter-widgets/controls",
          "model_name": "HTMLModel",
          "state": {
            "_view_name": "HTMLView",
            "style": "IPY_MODEL_3b3ca1d499d74943b125932d86b8f54c",
            "_dom_classes": [],
            "description": "",
            "_model_name": "HTMLModel",
            "placeholder": "​",
            "_view_module": "@jupyter-widgets/controls",
            "_model_module_version": "1.5.0",
            "value": " 9815/9815 [06:57&lt;00:00, 23.48it/s]",
            "_view_count": null,
            "_view_module_version": "1.5.0",
            "description_tooltip": null,
            "_model_module": "@jupyter-widgets/controls",
            "layout": "IPY_MODEL_17e291e6df0644afba023d70ed86a33f"
          }
        },
        "d48dba1d759c4a329a91b871292d4078": {
          "model_module": "@jupyter-widgets/controls",
          "model_name": "ProgressStyleModel",
          "state": {
            "_view_name": "StyleView",
            "_model_name": "ProgressStyleModel",
            "description_width": "initial",
            "_view_module": "@jupyter-widgets/base",
            "_model_module_version": "1.5.0",
            "_view_count": null,
            "_view_module_version": "1.2.0",
            "bar_color": null,
            "_model_module": "@jupyter-widgets/controls"
          }
        },
        "df2e072afae1465591f3cb943cdb4c37": {
          "model_module": "@jupyter-widgets/base",
          "model_name": "LayoutModel",
          "state": {
            "_view_name": "LayoutView",
            "grid_template_rows": null,
            "right": null,
            "justify_content": null,
            "_view_module": "@jupyter-widgets/base",
            "overflow": null,
            "_model_module_version": "1.2.0",
            "_view_count": null,
            "flex_flow": null,
            "width": null,
            "min_width": null,
            "border": null,
            "align_items": null,
            "bottom": null,
            "_model_module": "@jupyter-widgets/base",
            "top": null,
            "grid_column": null,
            "overflow_y": null,
            "overflow_x": null,
            "grid_auto_flow": null,
            "grid_area": null,
            "grid_template_columns": null,
            "flex": null,
            "_model_name": "LayoutModel",
            "justify_items": null,
            "grid_row": null,
            "max_height": null,
            "align_content": null,
            "visibility": null,
            "align_self": null,
            "height": null,
            "min_height": null,
            "padding": null,
            "grid_auto_rows": null,
            "grid_gap": null,
            "max_width": null,
            "order": null,
            "_view_module_version": "1.2.0",
            "grid_template_areas": null,
            "object_position": null,
            "object_fit": null,
            "grid_auto_columns": null,
            "margin": null,
            "display": null,
            "left": null
          }
        },
        "3b3ca1d499d74943b125932d86b8f54c": {
          "model_module": "@jupyter-widgets/controls",
          "model_name": "DescriptionStyleModel",
          "state": {
            "_view_name": "StyleView",
            "_model_name": "DescriptionStyleModel",
            "description_width": "",
            "_view_module": "@jupyter-widgets/base",
            "_model_module_version": "1.5.0",
            "_view_count": null,
            "_view_module_version": "1.2.0",
            "_model_module": "@jupyter-widgets/controls"
          }
        },
        "17e291e6df0644afba023d70ed86a33f": {
          "model_module": "@jupyter-widgets/base",
          "model_name": "LayoutModel",
          "state": {
            "_view_name": "LayoutView",
            "grid_template_rows": null,
            "right": null,
            "justify_content": null,
            "_view_module": "@jupyter-widgets/base",
            "overflow": null,
            "_model_module_version": "1.2.0",
            "_view_count": null,
            "flex_flow": null,
            "width": null,
            "min_width": null,
            "border": null,
            "align_items": null,
            "bottom": null,
            "_model_module": "@jupyter-widgets/base",
            "top": null,
            "grid_column": null,
            "overflow_y": null,
            "overflow_x": null,
            "grid_auto_flow": null,
            "grid_area": null,
            "grid_template_columns": null,
            "flex": null,
            "_model_name": "LayoutModel",
            "justify_items": null,
            "grid_row": null,
            "max_height": null,
            "align_content": null,
            "visibility": null,
            "align_self": null,
            "height": null,
            "min_height": null,
            "padding": null,
            "grid_auto_rows": null,
            "grid_gap": null,
            "max_width": null,
            "order": null,
            "_view_module_version": "1.2.0",
            "grid_template_areas": null,
            "object_position": null,
            "object_fit": null,
            "grid_auto_columns": null,
            "margin": null,
            "display": null,
            "left": null
          }
        },
        "238a1bccaa86479894a29f666614ab94": {
          "model_module": "@jupyter-widgets/controls",
          "model_name": "HBoxModel",
          "state": {
            "_view_name": "HBoxView",
            "_dom_classes": [],
            "_model_name": "HBoxModel",
            "_view_module": "@jupyter-widgets/controls",
            "_model_module_version": "1.5.0",
            "_view_count": null,
            "_view_module_version": "1.5.0",
            "box_style": "",
            "layout": "IPY_MODEL_9cc71fcf97d5412cbe2296d2411d077f",
            "_model_module": "@jupyter-widgets/controls",
            "children": [
              "IPY_MODEL_bff17d018f714d898035dc56aac1e240",
              "IPY_MODEL_45e636471aae490d852f8f0ad3274f61"
            ]
          }
        },
        "9cc71fcf97d5412cbe2296d2411d077f": {
          "model_module": "@jupyter-widgets/base",
          "model_name": "LayoutModel",
          "state": {
            "_view_name": "LayoutView",
            "grid_template_rows": null,
            "right": null,
            "justify_content": null,
            "_view_module": "@jupyter-widgets/base",
            "overflow": null,
            "_model_module_version": "1.2.0",
            "_view_count": null,
            "flex_flow": null,
            "width": null,
            "min_width": null,
            "border": null,
            "align_items": null,
            "bottom": null,
            "_model_module": "@jupyter-widgets/base",
            "top": null,
            "grid_column": null,
            "overflow_y": null,
            "overflow_x": null,
            "grid_auto_flow": null,
            "grid_area": null,
            "grid_template_columns": null,
            "flex": null,
            "_model_name": "LayoutModel",
            "justify_items": null,
            "grid_row": null,
            "max_height": null,
            "align_content": null,
            "visibility": null,
            "align_self": null,
            "height": null,
            "min_height": null,
            "padding": null,
            "grid_auto_rows": null,
            "grid_gap": null,
            "max_width": null,
            "order": null,
            "_view_module_version": "1.2.0",
            "grid_template_areas": null,
            "object_position": null,
            "object_fit": null,
            "grid_auto_columns": null,
            "margin": null,
            "display": null,
            "left": null
          }
        },
        "bff17d018f714d898035dc56aac1e240": {
          "model_module": "@jupyter-widgets/controls",
          "model_name": "FloatProgressModel",
          "state": {
            "_view_name": "ProgressView",
            "style": "IPY_MODEL_2be7eb6ba7b0437ab24007b5c612cef6",
            "_dom_classes": [],
            "description": "  0%",
            "_model_name": "FloatProgressModel",
            "bar_style": "danger",
            "max": 2000,
            "_view_module": "@jupyter-widgets/controls",
            "_model_module_version": "1.5.0",
            "value": 7,
            "_view_count": null,
            "_view_module_version": "1.5.0",
            "orientation": "horizontal",
            "min": 0,
            "description_tooltip": null,
            "_model_module": "@jupyter-widgets/controls",
            "layout": "IPY_MODEL_77f13e1c613e441d93bdd27ded7a70db"
          }
        },
        "45e636471aae490d852f8f0ad3274f61": {
          "model_module": "@jupyter-widgets/controls",
          "model_name": "HTMLModel",
          "state": {
            "_view_name": "HTMLView",
            "style": "IPY_MODEL_3d651409df1f4e7e8e264d14a388bd16",
            "_dom_classes": [],
            "description": "",
            "_model_name": "HTMLModel",
            "placeholder": "​",
            "_view_module": "@jupyter-widgets/controls",
            "_model_module_version": "1.5.0",
            "value": " 7/2000 [00:01&lt;05:44,  5.79it/s]",
            "_view_count": null,
            "_view_module_version": "1.5.0",
            "description_tooltip": null,
            "_model_module": "@jupyter-widgets/controls",
            "layout": "IPY_MODEL_1703a4709ef645a0a7ae0e03b44ed46e"
          }
        },
        "2be7eb6ba7b0437ab24007b5c612cef6": {
          "model_module": "@jupyter-widgets/controls",
          "model_name": "ProgressStyleModel",
          "state": {
            "_view_name": "StyleView",
            "_model_name": "ProgressStyleModel",
            "description_width": "initial",
            "_view_module": "@jupyter-widgets/base",
            "_model_module_version": "1.5.0",
            "_view_count": null,
            "_view_module_version": "1.2.0",
            "bar_color": null,
            "_model_module": "@jupyter-widgets/controls"
          }
        },
        "77f13e1c613e441d93bdd27ded7a70db": {
          "model_module": "@jupyter-widgets/base",
          "model_name": "LayoutModel",
          "state": {
            "_view_name": "LayoutView",
            "grid_template_rows": null,
            "right": null,
            "justify_content": null,
            "_view_module": "@jupyter-widgets/base",
            "overflow": null,
            "_model_module_version": "1.2.0",
            "_view_count": null,
            "flex_flow": null,
            "width": null,
            "min_width": null,
            "border": null,
            "align_items": null,
            "bottom": null,
            "_model_module": "@jupyter-widgets/base",
            "top": null,
            "grid_column": null,
            "overflow_y": null,
            "overflow_x": null,
            "grid_auto_flow": null,
            "grid_area": null,
            "grid_template_columns": null,
            "flex": null,
            "_model_name": "LayoutModel",
            "justify_items": null,
            "grid_row": null,
            "max_height": null,
            "align_content": null,
            "visibility": null,
            "align_self": null,
            "height": null,
            "min_height": null,
            "padding": null,
            "grid_auto_rows": null,
            "grid_gap": null,
            "max_width": null,
            "order": null,
            "_view_module_version": "1.2.0",
            "grid_template_areas": null,
            "object_position": null,
            "object_fit": null,
            "grid_auto_columns": null,
            "margin": null,
            "display": null,
            "left": null
          }
        },
        "3d651409df1f4e7e8e264d14a388bd16": {
          "model_module": "@jupyter-widgets/controls",
          "model_name": "DescriptionStyleModel",
          "state": {
            "_view_name": "StyleView",
            "_model_name": "DescriptionStyleModel",
            "description_width": "",
            "_view_module": "@jupyter-widgets/base",
            "_model_module_version": "1.5.0",
            "_view_count": null,
            "_view_module_version": "1.2.0",
            "_model_module": "@jupyter-widgets/controls"
          }
        },
        "1703a4709ef645a0a7ae0e03b44ed46e": {
          "model_module": "@jupyter-widgets/base",
          "model_name": "LayoutModel",
          "state": {
            "_view_name": "LayoutView",
            "grid_template_rows": null,
            "right": null,
            "justify_content": null,
            "_view_module": "@jupyter-widgets/base",
            "overflow": null,
            "_model_module_version": "1.2.0",
            "_view_count": null,
            "flex_flow": null,
            "width": null,
            "min_width": null,
            "border": null,
            "align_items": null,
            "bottom": null,
            "_model_module": "@jupyter-widgets/base",
            "top": null,
            "grid_column": null,
            "overflow_y": null,
            "overflow_x": null,
            "grid_auto_flow": null,
            "grid_area": null,
            "grid_template_columns": null,
            "flex": null,
            "_model_name": "LayoutModel",
            "justify_items": null,
            "grid_row": null,
            "max_height": null,
            "align_content": null,
            "visibility": null,
            "align_self": null,
            "height": null,
            "min_height": null,
            "padding": null,
            "grid_auto_rows": null,
            "grid_gap": null,
            "max_width": null,
            "order": null,
            "_view_module_version": "1.2.0",
            "grid_template_areas": null,
            "object_position": null,
            "object_fit": null,
            "grid_auto_columns": null,
            "margin": null,
            "display": null,
            "left": null
          }
        },
        "fbef02201d2f4a3ab0e2803a57eb0c43": {
          "model_module": "@jupyter-widgets/controls",
          "model_name": "HBoxModel",
          "state": {
            "_view_name": "HBoxView",
            "_dom_classes": [],
            "_model_name": "HBoxModel",
            "_view_module": "@jupyter-widgets/controls",
            "_model_module_version": "1.5.0",
            "_view_count": null,
            "_view_module_version": "1.5.0",
            "box_style": "",
            "layout": "IPY_MODEL_74aabaabef614861ab7d3b6b9dcaa508",
            "_model_module": "@jupyter-widgets/controls",
            "children": [
              "IPY_MODEL_70a22c07adf64da0bbbd7c6fe0c9b0da",
              "IPY_MODEL_19cf21e512f746c786a79b5f5c6e4611"
            ]
          }
        },
        "74aabaabef614861ab7d3b6b9dcaa508": {
          "model_module": "@jupyter-widgets/base",
          "model_name": "LayoutModel",
          "state": {
            "_view_name": "LayoutView",
            "grid_template_rows": null,
            "right": null,
            "justify_content": null,
            "_view_module": "@jupyter-widgets/base",
            "overflow": null,
            "_model_module_version": "1.2.0",
            "_view_count": null,
            "flex_flow": null,
            "width": null,
            "min_width": null,
            "border": null,
            "align_items": null,
            "bottom": null,
            "_model_module": "@jupyter-widgets/base",
            "top": null,
            "grid_column": null,
            "overflow_y": null,
            "overflow_x": null,
            "grid_auto_flow": null,
            "grid_area": null,
            "grid_template_columns": null,
            "flex": null,
            "_model_name": "LayoutModel",
            "justify_items": null,
            "grid_row": null,
            "max_height": null,
            "align_content": null,
            "visibility": null,
            "align_self": null,
            "height": null,
            "min_height": null,
            "padding": null,
            "grid_auto_rows": null,
            "grid_gap": null,
            "max_width": null,
            "order": null,
            "_view_module_version": "1.2.0",
            "grid_template_areas": null,
            "object_position": null,
            "object_fit": null,
            "grid_auto_columns": null,
            "margin": null,
            "display": null,
            "left": null
          }
        },
        "70a22c07adf64da0bbbd7c6fe0c9b0da": {
          "model_module": "@jupyter-widgets/controls",
          "model_name": "FloatProgressModel",
          "state": {
            "_view_name": "ProgressView",
            "style": "IPY_MODEL_be6aee911f4348c3b6690c1e48279d1e",
            "_dom_classes": [],
            "description": "100%",
            "_model_name": "FloatProgressModel",
            "bar_style": "success",
            "max": 9815,
            "_view_module": "@jupyter-widgets/controls",
            "_model_module_version": "1.5.0",
            "value": 9815,
            "_view_count": null,
            "_view_module_version": "1.5.0",
            "orientation": "horizontal",
            "min": 0,
            "description_tooltip": null,
            "_model_module": "@jupyter-widgets/controls",
            "layout": "IPY_MODEL_d30fc5172fac4b9e9b8ee6fd994354f6"
          }
        },
        "19cf21e512f746c786a79b5f5c6e4611": {
          "model_module": "@jupyter-widgets/controls",
          "model_name": "HTMLModel",
          "state": {
            "_view_name": "HTMLView",
            "style": "IPY_MODEL_a81793df735842a09725c7f080530d5c",
            "_dom_classes": [],
            "description": "",
            "_model_name": "HTMLModel",
            "placeholder": "​",
            "_view_module": "@jupyter-widgets/controls",
            "_model_module_version": "1.5.0",
            "value": " 9815/9815 [03:57&lt;00:00, 41.34it/s]",
            "_view_count": null,
            "_view_module_version": "1.5.0",
            "description_tooltip": null,
            "_model_module": "@jupyter-widgets/controls",
            "layout": "IPY_MODEL_19125048de3b47f295e12ef0f82b83a0"
          }
        },
        "be6aee911f4348c3b6690c1e48279d1e": {
          "model_module": "@jupyter-widgets/controls",
          "model_name": "ProgressStyleModel",
          "state": {
            "_view_name": "StyleView",
            "_model_name": "ProgressStyleModel",
            "description_width": "initial",
            "_view_module": "@jupyter-widgets/base",
            "_model_module_version": "1.5.0",
            "_view_count": null,
            "_view_module_version": "1.2.0",
            "bar_color": null,
            "_model_module": "@jupyter-widgets/controls"
          }
        },
        "d30fc5172fac4b9e9b8ee6fd994354f6": {
          "model_module": "@jupyter-widgets/base",
          "model_name": "LayoutModel",
          "state": {
            "_view_name": "LayoutView",
            "grid_template_rows": null,
            "right": null,
            "justify_content": null,
            "_view_module": "@jupyter-widgets/base",
            "overflow": null,
            "_model_module_version": "1.2.0",
            "_view_count": null,
            "flex_flow": null,
            "width": null,
            "min_width": null,
            "border": null,
            "align_items": null,
            "bottom": null,
            "_model_module": "@jupyter-widgets/base",
            "top": null,
            "grid_column": null,
            "overflow_y": null,
            "overflow_x": null,
            "grid_auto_flow": null,
            "grid_area": null,
            "grid_template_columns": null,
            "flex": null,
            "_model_name": "LayoutModel",
            "justify_items": null,
            "grid_row": null,
            "max_height": null,
            "align_content": null,
            "visibility": null,
            "align_self": null,
            "height": null,
            "min_height": null,
            "padding": null,
            "grid_auto_rows": null,
            "grid_gap": null,
            "max_width": null,
            "order": null,
            "_view_module_version": "1.2.0",
            "grid_template_areas": null,
            "object_position": null,
            "object_fit": null,
            "grid_auto_columns": null,
            "margin": null,
            "display": null,
            "left": null
          }
        },
        "a81793df735842a09725c7f080530d5c": {
          "model_module": "@jupyter-widgets/controls",
          "model_name": "DescriptionStyleModel",
          "state": {
            "_view_name": "StyleView",
            "_model_name": "DescriptionStyleModel",
            "description_width": "",
            "_view_module": "@jupyter-widgets/base",
            "_model_module_version": "1.5.0",
            "_view_count": null,
            "_view_module_version": "1.2.0",
            "_model_module": "@jupyter-widgets/controls"
          }
        },
        "19125048de3b47f295e12ef0f82b83a0": {
          "model_module": "@jupyter-widgets/base",
          "model_name": "LayoutModel",
          "state": {
            "_view_name": "LayoutView",
            "grid_template_rows": null,
            "right": null,
            "justify_content": null,
            "_view_module": "@jupyter-widgets/base",
            "overflow": null,
            "_model_module_version": "1.2.0",
            "_view_count": null,
            "flex_flow": null,
            "width": null,
            "min_width": null,
            "border": null,
            "align_items": null,
            "bottom": null,
            "_model_module": "@jupyter-widgets/base",
            "top": null,
            "grid_column": null,
            "overflow_y": null,
            "overflow_x": null,
            "grid_auto_flow": null,
            "grid_area": null,
            "grid_template_columns": null,
            "flex": null,
            "_model_name": "LayoutModel",
            "justify_items": null,
            "grid_row": null,
            "max_height": null,
            "align_content": null,
            "visibility": null,
            "align_self": null,
            "height": null,
            "min_height": null,
            "padding": null,
            "grid_auto_rows": null,
            "grid_gap": null,
            "max_width": null,
            "order": null,
            "_view_module_version": "1.2.0",
            "grid_template_areas": null,
            "object_position": null,
            "object_fit": null,
            "grid_auto_columns": null,
            "margin": null,
            "display": null,
            "left": null
          }
        },
        "fbca2417494143c7bfe5c3136cb297d3": {
          "model_module": "@jupyter-widgets/controls",
          "model_name": "HBoxModel",
          "state": {
            "_view_name": "HBoxView",
            "_dom_classes": [],
            "_model_name": "HBoxModel",
            "_view_module": "@jupyter-widgets/controls",
            "_model_module_version": "1.5.0",
            "_view_count": null,
            "_view_module_version": "1.5.0",
            "box_style": "",
            "layout": "IPY_MODEL_497b2f47c2ee495bafcb30466df5d2fb",
            "_model_module": "@jupyter-widgets/controls",
            "children": [
              "IPY_MODEL_bb7f8caa75864b5da42c568fc28a8cf8",
              "IPY_MODEL_d3fbcbce22cb4e59bb23b2af7ed73c1d"
            ]
          }
        },
        "497b2f47c2ee495bafcb30466df5d2fb": {
          "model_module": "@jupyter-widgets/base",
          "model_name": "LayoutModel",
          "state": {
            "_view_name": "LayoutView",
            "grid_template_rows": null,
            "right": null,
            "justify_content": null,
            "_view_module": "@jupyter-widgets/base",
            "overflow": null,
            "_model_module_version": "1.2.0",
            "_view_count": null,
            "flex_flow": null,
            "width": null,
            "min_width": null,
            "border": null,
            "align_items": null,
            "bottom": null,
            "_model_module": "@jupyter-widgets/base",
            "top": null,
            "grid_column": null,
            "overflow_y": null,
            "overflow_x": null,
            "grid_auto_flow": null,
            "grid_area": null,
            "grid_template_columns": null,
            "flex": null,
            "_model_name": "LayoutModel",
            "justify_items": null,
            "grid_row": null,
            "max_height": null,
            "align_content": null,
            "visibility": null,
            "align_self": null,
            "height": null,
            "min_height": null,
            "padding": null,
            "grid_auto_rows": null,
            "grid_gap": null,
            "max_width": null,
            "order": null,
            "_view_module_version": "1.2.0",
            "grid_template_areas": null,
            "object_position": null,
            "object_fit": null,
            "grid_auto_columns": null,
            "margin": null,
            "display": null,
            "left": null
          }
        },
        "bb7f8caa75864b5da42c568fc28a8cf8": {
          "model_module": "@jupyter-widgets/controls",
          "model_name": "FloatProgressModel",
          "state": {
            "_view_name": "ProgressView",
            "style": "IPY_MODEL_cfd6c269981148718f87c8ade68a088c",
            "_dom_classes": [],
            "description": "  0%",
            "_model_name": "FloatProgressModel",
            "bar_style": "danger",
            "max": 1000,
            "_view_module": "@jupyter-widgets/controls",
            "_model_module_version": "1.5.0",
            "value": 0,
            "_view_count": null,
            "_view_module_version": "1.5.0",
            "orientation": "horizontal",
            "min": 0,
            "description_tooltip": null,
            "_model_module": "@jupyter-widgets/controls",
            "layout": "IPY_MODEL_811e0bd86aad46a389632e46f5a5fcf0"
          }
        },
        "d3fbcbce22cb4e59bb23b2af7ed73c1d": {
          "model_module": "@jupyter-widgets/controls",
          "model_name": "HTMLModel",
          "state": {
            "_view_name": "HTMLView",
            "style": "IPY_MODEL_123485b8f1c2421da97bbd455d8bf3e3",
            "_dom_classes": [],
            "description": "",
            "_model_name": "HTMLModel",
            "placeholder": "​",
            "_view_module": "@jupyter-widgets/controls",
            "_model_module_version": "1.5.0",
            "value": " 0/1000 [00:00&lt;?, ?it/s]",
            "_view_count": null,
            "_view_module_version": "1.5.0",
            "description_tooltip": null,
            "_model_module": "@jupyter-widgets/controls",
            "layout": "IPY_MODEL_5da334a8fcf346daaaab8b7f940abfd8"
          }
        },
        "cfd6c269981148718f87c8ade68a088c": {
          "model_module": "@jupyter-widgets/controls",
          "model_name": "ProgressStyleModel",
          "state": {
            "_view_name": "StyleView",
            "_model_name": "ProgressStyleModel",
            "description_width": "initial",
            "_view_module": "@jupyter-widgets/base",
            "_model_module_version": "1.5.0",
            "_view_count": null,
            "_view_module_version": "1.2.0",
            "bar_color": null,
            "_model_module": "@jupyter-widgets/controls"
          }
        },
        "811e0bd86aad46a389632e46f5a5fcf0": {
          "model_module": "@jupyter-widgets/base",
          "model_name": "LayoutModel",
          "state": {
            "_view_name": "LayoutView",
            "grid_template_rows": null,
            "right": null,
            "justify_content": null,
            "_view_module": "@jupyter-widgets/base",
            "overflow": null,
            "_model_module_version": "1.2.0",
            "_view_count": null,
            "flex_flow": null,
            "width": null,
            "min_width": null,
            "border": null,
            "align_items": null,
            "bottom": null,
            "_model_module": "@jupyter-widgets/base",
            "top": null,
            "grid_column": null,
            "overflow_y": null,
            "overflow_x": null,
            "grid_auto_flow": null,
            "grid_area": null,
            "grid_template_columns": null,
            "flex": null,
            "_model_name": "LayoutModel",
            "justify_items": null,
            "grid_row": null,
            "max_height": null,
            "align_content": null,
            "visibility": null,
            "align_self": null,
            "height": null,
            "min_height": null,
            "padding": null,
            "grid_auto_rows": null,
            "grid_gap": null,
            "max_width": null,
            "order": null,
            "_view_module_version": "1.2.0",
            "grid_template_areas": null,
            "object_position": null,
            "object_fit": null,
            "grid_auto_columns": null,
            "margin": null,
            "display": null,
            "left": null
          }
        },
        "123485b8f1c2421da97bbd455d8bf3e3": {
          "model_module": "@jupyter-widgets/controls",
          "model_name": "DescriptionStyleModel",
          "state": {
            "_view_name": "StyleView",
            "_model_name": "DescriptionStyleModel",
            "description_width": "",
            "_view_module": "@jupyter-widgets/base",
            "_model_module_version": "1.5.0",
            "_view_count": null,
            "_view_module_version": "1.2.0",
            "_model_module": "@jupyter-widgets/controls"
          }
        },
        "5da334a8fcf346daaaab8b7f940abfd8": {
          "model_module": "@jupyter-widgets/base",
          "model_name": "LayoutModel",
          "state": {
            "_view_name": "LayoutView",
            "grid_template_rows": null,
            "right": null,
            "justify_content": null,
            "_view_module": "@jupyter-widgets/base",
            "overflow": null,
            "_model_module_version": "1.2.0",
            "_view_count": null,
            "flex_flow": null,
            "width": null,
            "min_width": null,
            "border": null,
            "align_items": null,
            "bottom": null,
            "_model_module": "@jupyter-widgets/base",
            "top": null,
            "grid_column": null,
            "overflow_y": null,
            "overflow_x": null,
            "grid_auto_flow": null,
            "grid_area": null,
            "grid_template_columns": null,
            "flex": null,
            "_model_name": "LayoutModel",
            "justify_items": null,
            "grid_row": null,
            "max_height": null,
            "align_content": null,
            "visibility": null,
            "align_self": null,
            "height": null,
            "min_height": null,
            "padding": null,
            "grid_auto_rows": null,
            "grid_gap": null,
            "max_width": null,
            "order": null,
            "_view_module_version": "1.2.0",
            "grid_template_areas": null,
            "object_position": null,
            "object_fit": null,
            "grid_auto_columns": null,
            "margin": null,
            "display": null,
            "left": null
          }
        },
        "706d53f7b1594937b4e58eb69008d0e6": {
          "model_module": "@jupyter-widgets/controls",
          "model_name": "HBoxModel",
          "state": {
            "_view_name": "HBoxView",
            "_dom_classes": [],
            "_model_name": "HBoxModel",
            "_view_module": "@jupyter-widgets/controls",
            "_model_module_version": "1.5.0",
            "_view_count": null,
            "_view_module_version": "1.5.0",
            "box_style": "",
            "layout": "IPY_MODEL_65dcae1e1c2d4cdba2a751c5f49d9c19",
            "_model_module": "@jupyter-widgets/controls",
            "children": [
              "IPY_MODEL_5a420e2d2ebb4a89a111a40242e63af1",
              "IPY_MODEL_010aff6198c64f56ad631d334f5ad96d"
            ]
          }
        },
        "65dcae1e1c2d4cdba2a751c5f49d9c19": {
          "model_module": "@jupyter-widgets/base",
          "model_name": "LayoutModel",
          "state": {
            "_view_name": "LayoutView",
            "grid_template_rows": null,
            "right": null,
            "justify_content": null,
            "_view_module": "@jupyter-widgets/base",
            "overflow": null,
            "_model_module_version": "1.2.0",
            "_view_count": null,
            "flex_flow": null,
            "width": null,
            "min_width": null,
            "border": null,
            "align_items": null,
            "bottom": null,
            "_model_module": "@jupyter-widgets/base",
            "top": null,
            "grid_column": null,
            "overflow_y": null,
            "overflow_x": null,
            "grid_auto_flow": null,
            "grid_area": null,
            "grid_template_columns": null,
            "flex": null,
            "_model_name": "LayoutModel",
            "justify_items": null,
            "grid_row": null,
            "max_height": null,
            "align_content": null,
            "visibility": null,
            "align_self": null,
            "height": null,
            "min_height": null,
            "padding": null,
            "grid_auto_rows": null,
            "grid_gap": null,
            "max_width": null,
            "order": null,
            "_view_module_version": "1.2.0",
            "grid_template_areas": null,
            "object_position": null,
            "object_fit": null,
            "grid_auto_columns": null,
            "margin": null,
            "display": null,
            "left": null
          }
        },
        "5a420e2d2ebb4a89a111a40242e63af1": {
          "model_module": "@jupyter-widgets/controls",
          "model_name": "FloatProgressModel",
          "state": {
            "_view_name": "ProgressView",
            "style": "IPY_MODEL_475183552e9d45f6992b56e5577eb821",
            "_dom_classes": [],
            "description": "100%",
            "_model_name": "FloatProgressModel",
            "bar_style": "success",
            "max": 77,
            "_view_module": "@jupyter-widgets/controls",
            "_model_module_version": "1.5.0",
            "value": 77,
            "_view_count": null,
            "_view_module_version": "1.5.0",
            "orientation": "horizontal",
            "min": 0,
            "description_tooltip": null,
            "_model_module": "@jupyter-widgets/controls",
            "layout": "IPY_MODEL_ec73bbc22f6d4ecb975fb41907074096"
          }
        },
        "010aff6198c64f56ad631d334f5ad96d": {
          "model_module": "@jupyter-widgets/controls",
          "model_name": "HTMLModel",
          "state": {
            "_view_name": "HTMLView",
            "style": "IPY_MODEL_635b74fc85b14af1b17f165d3f8c62ce",
            "_dom_classes": [],
            "description": "",
            "_model_name": "HTMLModel",
            "placeholder": "​",
            "_view_module": "@jupyter-widgets/controls",
            "_model_module_version": "1.5.0",
            "value": " 77/77 [03:35&lt;00:00,  2.80s/it]",
            "_view_count": null,
            "_view_module_version": "1.5.0",
            "description_tooltip": null,
            "_model_module": "@jupyter-widgets/controls",
            "layout": "IPY_MODEL_cb7496614a0e4d0fa9612e2eabbedb21"
          }
        },
        "475183552e9d45f6992b56e5577eb821": {
          "model_module": "@jupyter-widgets/controls",
          "model_name": "ProgressStyleModel",
          "state": {
            "_view_name": "StyleView",
            "_model_name": "ProgressStyleModel",
            "description_width": "initial",
            "_view_module": "@jupyter-widgets/base",
            "_model_module_version": "1.5.0",
            "_view_count": null,
            "_view_module_version": "1.2.0",
            "bar_color": null,
            "_model_module": "@jupyter-widgets/controls"
          }
        },
        "ec73bbc22f6d4ecb975fb41907074096": {
          "model_module": "@jupyter-widgets/base",
          "model_name": "LayoutModel",
          "state": {
            "_view_name": "LayoutView",
            "grid_template_rows": null,
            "right": null,
            "justify_content": null,
            "_view_module": "@jupyter-widgets/base",
            "overflow": null,
            "_model_module_version": "1.2.0",
            "_view_count": null,
            "flex_flow": null,
            "width": null,
            "min_width": null,
            "border": null,
            "align_items": null,
            "bottom": null,
            "_model_module": "@jupyter-widgets/base",
            "top": null,
            "grid_column": null,
            "overflow_y": null,
            "overflow_x": null,
            "grid_auto_flow": null,
            "grid_area": null,
            "grid_template_columns": null,
            "flex": null,
            "_model_name": "LayoutModel",
            "justify_items": null,
            "grid_row": null,
            "max_height": null,
            "align_content": null,
            "visibility": null,
            "align_self": null,
            "height": null,
            "min_height": null,
            "padding": null,
            "grid_auto_rows": null,
            "grid_gap": null,
            "max_width": null,
            "order": null,
            "_view_module_version": "1.2.0",
            "grid_template_areas": null,
            "object_position": null,
            "object_fit": null,
            "grid_auto_columns": null,
            "margin": null,
            "display": null,
            "left": null
          }
        },
        "635b74fc85b14af1b17f165d3f8c62ce": {
          "model_module": "@jupyter-widgets/controls",
          "model_name": "DescriptionStyleModel",
          "state": {
            "_view_name": "StyleView",
            "_model_name": "DescriptionStyleModel",
            "description_width": "",
            "_view_module": "@jupyter-widgets/base",
            "_model_module_version": "1.5.0",
            "_view_count": null,
            "_view_module_version": "1.2.0",
            "_model_module": "@jupyter-widgets/controls"
          }
        },
        "cb7496614a0e4d0fa9612e2eabbedb21": {
          "model_module": "@jupyter-widgets/base",
          "model_name": "LayoutModel",
          "state": {
            "_view_name": "LayoutView",
            "grid_template_rows": null,
            "right": null,
            "justify_content": null,
            "_view_module": "@jupyter-widgets/base",
            "overflow": null,
            "_model_module_version": "1.2.0",
            "_view_count": null,
            "flex_flow": null,
            "width": null,
            "min_width": null,
            "border": null,
            "align_items": null,
            "bottom": null,
            "_model_module": "@jupyter-widgets/base",
            "top": null,
            "grid_column": null,
            "overflow_y": null,
            "overflow_x": null,
            "grid_auto_flow": null,
            "grid_area": null,
            "grid_template_columns": null,
            "flex": null,
            "_model_name": "LayoutModel",
            "justify_items": null,
            "grid_row": null,
            "max_height": null,
            "align_content": null,
            "visibility": null,
            "align_self": null,
            "height": null,
            "min_height": null,
            "padding": null,
            "grid_auto_rows": null,
            "grid_gap": null,
            "max_width": null,
            "order": null,
            "_view_module_version": "1.2.0",
            "grid_template_areas": null,
            "object_position": null,
            "object_fit": null,
            "grid_auto_columns": null,
            "margin": null,
            "display": null,
            "left": null
          }
        },
        "23d5ac1751bf4baa81c0f49ff2cf12c7": {
          "model_module": "@jupyter-widgets/controls",
          "model_name": "HBoxModel",
          "state": {
            "_view_name": "HBoxView",
            "_dom_classes": [],
            "_model_name": "HBoxModel",
            "_view_module": "@jupyter-widgets/controls",
            "_model_module_version": "1.5.0",
            "_view_count": null,
            "_view_module_version": "1.5.0",
            "box_style": "",
            "layout": "IPY_MODEL_f5a84914066a4db395d1c49e755f1683",
            "_model_module": "@jupyter-widgets/controls",
            "children": [
              "IPY_MODEL_ee2f7d35c21844afba369f4193db3018",
              "IPY_MODEL_ed440a1823104efeae1013b98fd5e4de"
            ]
          }
        },
        "f5a84914066a4db395d1c49e755f1683": {
          "model_module": "@jupyter-widgets/base",
          "model_name": "LayoutModel",
          "state": {
            "_view_name": "LayoutView",
            "grid_template_rows": null,
            "right": null,
            "justify_content": null,
            "_view_module": "@jupyter-widgets/base",
            "overflow": null,
            "_model_module_version": "1.2.0",
            "_view_count": null,
            "flex_flow": null,
            "width": null,
            "min_width": null,
            "border": null,
            "align_items": null,
            "bottom": null,
            "_model_module": "@jupyter-widgets/base",
            "top": null,
            "grid_column": null,
            "overflow_y": null,
            "overflow_x": null,
            "grid_auto_flow": null,
            "grid_area": null,
            "grid_template_columns": null,
            "flex": null,
            "_model_name": "LayoutModel",
            "justify_items": null,
            "grid_row": null,
            "max_height": null,
            "align_content": null,
            "visibility": null,
            "align_self": null,
            "height": null,
            "min_height": null,
            "padding": null,
            "grid_auto_rows": null,
            "grid_gap": null,
            "max_width": null,
            "order": null,
            "_view_module_version": "1.2.0",
            "grid_template_areas": null,
            "object_position": null,
            "object_fit": null,
            "grid_auto_columns": null,
            "margin": null,
            "display": null,
            "left": null
          }
        },
        "ee2f7d35c21844afba369f4193db3018": {
          "model_module": "@jupyter-widgets/controls",
          "model_name": "FloatProgressModel",
          "state": {
            "_view_name": "ProgressView",
            "style": "IPY_MODEL_7513aeb18fad4bb29cb2419e96caed3c",
            "_dom_classes": [],
            "description": "100%",
            "_model_name": "FloatProgressModel",
            "bar_style": "success",
            "max": 9815,
            "_view_module": "@jupyter-widgets/controls",
            "_model_module_version": "1.5.0",
            "value": 9815,
            "_view_count": null,
            "_view_module_version": "1.5.0",
            "orientation": "horizontal",
            "min": 0,
            "description_tooltip": null,
            "_model_module": "@jupyter-widgets/controls",
            "layout": "IPY_MODEL_40e482356d8549978756b742e38239b4"
          }
        },
        "ed440a1823104efeae1013b98fd5e4de": {
          "model_module": "@jupyter-widgets/controls",
          "model_name": "HTMLModel",
          "state": {
            "_view_name": "HTMLView",
            "style": "IPY_MODEL_0bca47c543bd4b0f9c8e48e116d2aae0",
            "_dom_classes": [],
            "description": "",
            "_model_name": "HTMLModel",
            "placeholder": "​",
            "_view_module": "@jupyter-widgets/controls",
            "_model_module_version": "1.5.0",
            "value": " 9815/9815 [04:01&lt;00:00, 40.66it/s]",
            "_view_count": null,
            "_view_module_version": "1.5.0",
            "description_tooltip": null,
            "_model_module": "@jupyter-widgets/controls",
            "layout": "IPY_MODEL_e85b67afb39348039f9784c8c6434180"
          }
        },
        "7513aeb18fad4bb29cb2419e96caed3c": {
          "model_module": "@jupyter-widgets/controls",
          "model_name": "ProgressStyleModel",
          "state": {
            "_view_name": "StyleView",
            "_model_name": "ProgressStyleModel",
            "description_width": "initial",
            "_view_module": "@jupyter-widgets/base",
            "_model_module_version": "1.5.0",
            "_view_count": null,
            "_view_module_version": "1.2.0",
            "bar_color": null,
            "_model_module": "@jupyter-widgets/controls"
          }
        },
        "40e482356d8549978756b742e38239b4": {
          "model_module": "@jupyter-widgets/base",
          "model_name": "LayoutModel",
          "state": {
            "_view_name": "LayoutView",
            "grid_template_rows": null,
            "right": null,
            "justify_content": null,
            "_view_module": "@jupyter-widgets/base",
            "overflow": null,
            "_model_module_version": "1.2.0",
            "_view_count": null,
            "flex_flow": null,
            "width": null,
            "min_width": null,
            "border": null,
            "align_items": null,
            "bottom": null,
            "_model_module": "@jupyter-widgets/base",
            "top": null,
            "grid_column": null,
            "overflow_y": null,
            "overflow_x": null,
            "grid_auto_flow": null,
            "grid_area": null,
            "grid_template_columns": null,
            "flex": null,
            "_model_name": "LayoutModel",
            "justify_items": null,
            "grid_row": null,
            "max_height": null,
            "align_content": null,
            "visibility": null,
            "align_self": null,
            "height": null,
            "min_height": null,
            "padding": null,
            "grid_auto_rows": null,
            "grid_gap": null,
            "max_width": null,
            "order": null,
            "_view_module_version": "1.2.0",
            "grid_template_areas": null,
            "object_position": null,
            "object_fit": null,
            "grid_auto_columns": null,
            "margin": null,
            "display": null,
            "left": null
          }
        },
        "0bca47c543bd4b0f9c8e48e116d2aae0": {
          "model_module": "@jupyter-widgets/controls",
          "model_name": "DescriptionStyleModel",
          "state": {
            "_view_name": "StyleView",
            "_model_name": "DescriptionStyleModel",
            "description_width": "",
            "_view_module": "@jupyter-widgets/base",
            "_model_module_version": "1.5.0",
            "_view_count": null,
            "_view_module_version": "1.2.0",
            "_model_module": "@jupyter-widgets/controls"
          }
        },
        "e85b67afb39348039f9784c8c6434180": {
          "model_module": "@jupyter-widgets/base",
          "model_name": "LayoutModel",
          "state": {
            "_view_name": "LayoutView",
            "grid_template_rows": null,
            "right": null,
            "justify_content": null,
            "_view_module": "@jupyter-widgets/base",
            "overflow": null,
            "_model_module_version": "1.2.0",
            "_view_count": null,
            "flex_flow": null,
            "width": null,
            "min_width": null,
            "border": null,
            "align_items": null,
            "bottom": null,
            "_model_module": "@jupyter-widgets/base",
            "top": null,
            "grid_column": null,
            "overflow_y": null,
            "overflow_x": null,
            "grid_auto_flow": null,
            "grid_area": null,
            "grid_template_columns": null,
            "flex": null,
            "_model_name": "LayoutModel",
            "justify_items": null,
            "grid_row": null,
            "max_height": null,
            "align_content": null,
            "visibility": null,
            "align_self": null,
            "height": null,
            "min_height": null,
            "padding": null,
            "grid_auto_rows": null,
            "grid_gap": null,
            "max_width": null,
            "order": null,
            "_view_module_version": "1.2.0",
            "grid_template_areas": null,
            "object_position": null,
            "object_fit": null,
            "grid_auto_columns": null,
            "margin": null,
            "display": null,
            "left": null
          }
        },
        "2d079691f3b14d7e8fa6631a8642e6ae": {
          "model_module": "@jupyter-widgets/controls",
          "model_name": "HBoxModel",
          "state": {
            "_view_name": "HBoxView",
            "_dom_classes": [],
            "_model_name": "HBoxModel",
            "_view_module": "@jupyter-widgets/controls",
            "_model_module_version": "1.5.0",
            "_view_count": null,
            "_view_module_version": "1.5.0",
            "box_style": "",
            "layout": "IPY_MODEL_38445fe222784bc2858b204bc3022f59",
            "_model_module": "@jupyter-widgets/controls",
            "children": [
              "IPY_MODEL_87c8a183f7474c6eb80c14a81e9c96ed",
              "IPY_MODEL_fa84ba8e9157475a8aaa1f2a49584e23"
            ]
          }
        },
        "38445fe222784bc2858b204bc3022f59": {
          "model_module": "@jupyter-widgets/base",
          "model_name": "LayoutModel",
          "state": {
            "_view_name": "LayoutView",
            "grid_template_rows": null,
            "right": null,
            "justify_content": null,
            "_view_module": "@jupyter-widgets/base",
            "overflow": null,
            "_model_module_version": "1.2.0",
            "_view_count": null,
            "flex_flow": null,
            "width": null,
            "min_width": null,
            "border": null,
            "align_items": null,
            "bottom": null,
            "_model_module": "@jupyter-widgets/base",
            "top": null,
            "grid_column": null,
            "overflow_y": null,
            "overflow_x": null,
            "grid_auto_flow": null,
            "grid_area": null,
            "grid_template_columns": null,
            "flex": null,
            "_model_name": "LayoutModel",
            "justify_items": null,
            "grid_row": null,
            "max_height": null,
            "align_content": null,
            "visibility": null,
            "align_self": null,
            "height": null,
            "min_height": null,
            "padding": null,
            "grid_auto_rows": null,
            "grid_gap": null,
            "max_width": null,
            "order": null,
            "_view_module_version": "1.2.0",
            "grid_template_areas": null,
            "object_position": null,
            "object_fit": null,
            "grid_auto_columns": null,
            "margin": null,
            "display": null,
            "left": null
          }
        },
        "87c8a183f7474c6eb80c14a81e9c96ed": {
          "model_module": "@jupyter-widgets/controls",
          "model_name": "FloatProgressModel",
          "state": {
            "_view_name": "ProgressView",
            "style": "IPY_MODEL_f765c41b41a14b3299b47fe8ed4b7030",
            "_dom_classes": [],
            "description": "100%",
            "_model_name": "FloatProgressModel",
            "bar_style": "success",
            "max": 9815,
            "_view_module": "@jupyter-widgets/controls",
            "_model_module_version": "1.5.0",
            "value": 9815,
            "_view_count": null,
            "_view_module_version": "1.5.0",
            "orientation": "horizontal",
            "min": 0,
            "description_tooltip": null,
            "_model_module": "@jupyter-widgets/controls",
            "layout": "IPY_MODEL_229e138300a14e2fbf6448e50a122af4"
          }
        },
        "fa84ba8e9157475a8aaa1f2a49584e23": {
          "model_module": "@jupyter-widgets/controls",
          "model_name": "HTMLModel",
          "state": {
            "_view_name": "HTMLView",
            "style": "IPY_MODEL_6be5928e979440ea8a1cbf0d6cfc147c",
            "_dom_classes": [],
            "description": "",
            "_model_name": "HTMLModel",
            "placeholder": "​",
            "_view_module": "@jupyter-widgets/controls",
            "_model_module_version": "1.5.0",
            "value": " 9815/9815 [10:30&lt;00:00, 15.56it/s]",
            "_view_count": null,
            "_view_module_version": "1.5.0",
            "description_tooltip": null,
            "_model_module": "@jupyter-widgets/controls",
            "layout": "IPY_MODEL_fbd3600506da4c90814464b99bd0e19a"
          }
        },
        "f765c41b41a14b3299b47fe8ed4b7030": {
          "model_module": "@jupyter-widgets/controls",
          "model_name": "ProgressStyleModel",
          "state": {
            "_view_name": "StyleView",
            "_model_name": "ProgressStyleModel",
            "description_width": "initial",
            "_view_module": "@jupyter-widgets/base",
            "_model_module_version": "1.5.0",
            "_view_count": null,
            "_view_module_version": "1.2.0",
            "bar_color": null,
            "_model_module": "@jupyter-widgets/controls"
          }
        },
        "229e138300a14e2fbf6448e50a122af4": {
          "model_module": "@jupyter-widgets/base",
          "model_name": "LayoutModel",
          "state": {
            "_view_name": "LayoutView",
            "grid_template_rows": null,
            "right": null,
            "justify_content": null,
            "_view_module": "@jupyter-widgets/base",
            "overflow": null,
            "_model_module_version": "1.2.0",
            "_view_count": null,
            "flex_flow": null,
            "width": null,
            "min_width": null,
            "border": null,
            "align_items": null,
            "bottom": null,
            "_model_module": "@jupyter-widgets/base",
            "top": null,
            "grid_column": null,
            "overflow_y": null,
            "overflow_x": null,
            "grid_auto_flow": null,
            "grid_area": null,
            "grid_template_columns": null,
            "flex": null,
            "_model_name": "LayoutModel",
            "justify_items": null,
            "grid_row": null,
            "max_height": null,
            "align_content": null,
            "visibility": null,
            "align_self": null,
            "height": null,
            "min_height": null,
            "padding": null,
            "grid_auto_rows": null,
            "grid_gap": null,
            "max_width": null,
            "order": null,
            "_view_module_version": "1.2.0",
            "grid_template_areas": null,
            "object_position": null,
            "object_fit": null,
            "grid_auto_columns": null,
            "margin": null,
            "display": null,
            "left": null
          }
        },
        "6be5928e979440ea8a1cbf0d6cfc147c": {
          "model_module": "@jupyter-widgets/controls",
          "model_name": "DescriptionStyleModel",
          "state": {
            "_view_name": "StyleView",
            "_model_name": "DescriptionStyleModel",
            "description_width": "",
            "_view_module": "@jupyter-widgets/base",
            "_model_module_version": "1.5.0",
            "_view_count": null,
            "_view_module_version": "1.2.0",
            "_model_module": "@jupyter-widgets/controls"
          }
        },
        "fbd3600506da4c90814464b99bd0e19a": {
          "model_module": "@jupyter-widgets/base",
          "model_name": "LayoutModel",
          "state": {
            "_view_name": "LayoutView",
            "grid_template_rows": null,
            "right": null,
            "justify_content": null,
            "_view_module": "@jupyter-widgets/base",
            "overflow": null,
            "_model_module_version": "1.2.0",
            "_view_count": null,
            "flex_flow": null,
            "width": null,
            "min_width": null,
            "border": null,
            "align_items": null,
            "bottom": null,
            "_model_module": "@jupyter-widgets/base",
            "top": null,
            "grid_column": null,
            "overflow_y": null,
            "overflow_x": null,
            "grid_auto_flow": null,
            "grid_area": null,
            "grid_template_columns": null,
            "flex": null,
            "_model_name": "LayoutModel",
            "justify_items": null,
            "grid_row": null,
            "max_height": null,
            "align_content": null,
            "visibility": null,
            "align_self": null,
            "height": null,
            "min_height": null,
            "padding": null,
            "grid_auto_rows": null,
            "grid_gap": null,
            "max_width": null,
            "order": null,
            "_view_module_version": "1.2.0",
            "grid_template_areas": null,
            "object_position": null,
            "object_fit": null,
            "grid_auto_columns": null,
            "margin": null,
            "display": null,
            "left": null
          }
        },
        "055fd5c3575346f493328e43f369d8b8": {
          "model_module": "@jupyter-widgets/controls",
          "model_name": "HBoxModel",
          "state": {
            "_view_name": "HBoxView",
            "_dom_classes": [],
            "_model_name": "HBoxModel",
            "_view_module": "@jupyter-widgets/controls",
            "_model_module_version": "1.5.0",
            "_view_count": null,
            "_view_module_version": "1.5.0",
            "box_style": "",
            "layout": "IPY_MODEL_99b3c50dd8374c9283f498cbcf1d45fb",
            "_model_module": "@jupyter-widgets/controls",
            "children": [
              "IPY_MODEL_1eb86c98ba964f6e899f3a32ecc3cf44",
              "IPY_MODEL_5b199600c06c40c2944b650774339420"
            ]
          }
        },
        "99b3c50dd8374c9283f498cbcf1d45fb": {
          "model_module": "@jupyter-widgets/base",
          "model_name": "LayoutModel",
          "state": {
            "_view_name": "LayoutView",
            "grid_template_rows": null,
            "right": null,
            "justify_content": null,
            "_view_module": "@jupyter-widgets/base",
            "overflow": null,
            "_model_module_version": "1.2.0",
            "_view_count": null,
            "flex_flow": null,
            "width": null,
            "min_width": null,
            "border": null,
            "align_items": null,
            "bottom": null,
            "_model_module": "@jupyter-widgets/base",
            "top": null,
            "grid_column": null,
            "overflow_y": null,
            "overflow_x": null,
            "grid_auto_flow": null,
            "grid_area": null,
            "grid_template_columns": null,
            "flex": null,
            "_model_name": "LayoutModel",
            "justify_items": null,
            "grid_row": null,
            "max_height": null,
            "align_content": null,
            "visibility": null,
            "align_self": null,
            "height": null,
            "min_height": null,
            "padding": null,
            "grid_auto_rows": null,
            "grid_gap": null,
            "max_width": null,
            "order": null,
            "_view_module_version": "1.2.0",
            "grid_template_areas": null,
            "object_position": null,
            "object_fit": null,
            "grid_auto_columns": null,
            "margin": null,
            "display": null,
            "left": null
          }
        },
        "1eb86c98ba964f6e899f3a32ecc3cf44": {
          "model_module": "@jupyter-widgets/controls",
          "model_name": "FloatProgressModel",
          "state": {
            "_view_name": "ProgressView",
            "style": "IPY_MODEL_977fb30f6419460580fa709ff57e58ab",
            "_dom_classes": [],
            "description": "100%",
            "_model_name": "FloatProgressModel",
            "bar_style": "success",
            "max": 2000,
            "_view_module": "@jupyter-widgets/controls",
            "_model_module_version": "1.5.0",
            "value": 2000,
            "_view_count": null,
            "_view_module_version": "1.5.0",
            "orientation": "horizontal",
            "min": 0,
            "description_tooltip": null,
            "_model_module": "@jupyter-widgets/controls",
            "layout": "IPY_MODEL_bc24beffe59042cabe399eb145687843"
          }
        },
        "5b199600c06c40c2944b650774339420": {
          "model_module": "@jupyter-widgets/controls",
          "model_name": "HTMLModel",
          "state": {
            "_view_name": "HTMLView",
            "style": "IPY_MODEL_bcca2d033cca42739ad932e01aa94362",
            "_dom_classes": [],
            "description": "",
            "_model_name": "HTMLModel",
            "placeholder": "​",
            "_view_module": "@jupyter-widgets/controls",
            "_model_module_version": "1.5.0",
            "value": " 2000/2000 [08:14&lt;00:00,  4.05it/s]",
            "_view_count": null,
            "_view_module_version": "1.5.0",
            "description_tooltip": null,
            "_model_module": "@jupyter-widgets/controls",
            "layout": "IPY_MODEL_89d7afebc65f47ed9cacff46b0efb661"
          }
        },
        "977fb30f6419460580fa709ff57e58ab": {
          "model_module": "@jupyter-widgets/controls",
          "model_name": "ProgressStyleModel",
          "state": {
            "_view_name": "StyleView",
            "_model_name": "ProgressStyleModel",
            "description_width": "initial",
            "_view_module": "@jupyter-widgets/base",
            "_model_module_version": "1.5.0",
            "_view_count": null,
            "_view_module_version": "1.2.0",
            "bar_color": null,
            "_model_module": "@jupyter-widgets/controls"
          }
        },
        "bc24beffe59042cabe399eb145687843": {
          "model_module": "@jupyter-widgets/base",
          "model_name": "LayoutModel",
          "state": {
            "_view_name": "LayoutView",
            "grid_template_rows": null,
            "right": null,
            "justify_content": null,
            "_view_module": "@jupyter-widgets/base",
            "overflow": null,
            "_model_module_version": "1.2.0",
            "_view_count": null,
            "flex_flow": null,
            "width": null,
            "min_width": null,
            "border": null,
            "align_items": null,
            "bottom": null,
            "_model_module": "@jupyter-widgets/base",
            "top": null,
            "grid_column": null,
            "overflow_y": null,
            "overflow_x": null,
            "grid_auto_flow": null,
            "grid_area": null,
            "grid_template_columns": null,
            "flex": null,
            "_model_name": "LayoutModel",
            "justify_items": null,
            "grid_row": null,
            "max_height": null,
            "align_content": null,
            "visibility": null,
            "align_self": null,
            "height": null,
            "min_height": null,
            "padding": null,
            "grid_auto_rows": null,
            "grid_gap": null,
            "max_width": null,
            "order": null,
            "_view_module_version": "1.2.0",
            "grid_template_areas": null,
            "object_position": null,
            "object_fit": null,
            "grid_auto_columns": null,
            "margin": null,
            "display": null,
            "left": null
          }
        },
        "bcca2d033cca42739ad932e01aa94362": {
          "model_module": "@jupyter-widgets/controls",
          "model_name": "DescriptionStyleModel",
          "state": {
            "_view_name": "StyleView",
            "_model_name": "DescriptionStyleModel",
            "description_width": "",
            "_view_module": "@jupyter-widgets/base",
            "_model_module_version": "1.5.0",
            "_view_count": null,
            "_view_module_version": "1.2.0",
            "_model_module": "@jupyter-widgets/controls"
          }
        },
        "89d7afebc65f47ed9cacff46b0efb661": {
          "model_module": "@jupyter-widgets/base",
          "model_name": "LayoutModel",
          "state": {
            "_view_name": "LayoutView",
            "grid_template_rows": null,
            "right": null,
            "justify_content": null,
            "_view_module": "@jupyter-widgets/base",
            "overflow": null,
            "_model_module_version": "1.2.0",
            "_view_count": null,
            "flex_flow": null,
            "width": null,
            "min_width": null,
            "border": null,
            "align_items": null,
            "bottom": null,
            "_model_module": "@jupyter-widgets/base",
            "top": null,
            "grid_column": null,
            "overflow_y": null,
            "overflow_x": null,
            "grid_auto_flow": null,
            "grid_area": null,
            "grid_template_columns": null,
            "flex": null,
            "_model_name": "LayoutModel",
            "justify_items": null,
            "grid_row": null,
            "max_height": null,
            "align_content": null,
            "visibility": null,
            "align_self": null,
            "height": null,
            "min_height": null,
            "padding": null,
            "grid_auto_rows": null,
            "grid_gap": null,
            "max_width": null,
            "order": null,
            "_view_module_version": "1.2.0",
            "grid_template_areas": null,
            "object_position": null,
            "object_fit": null,
            "grid_auto_columns": null,
            "margin": null,
            "display": null,
            "left": null
          }
        },
        "0df8c968326c4915b467a1f287037905": {
          "model_module": "@jupyter-widgets/controls",
          "model_name": "HBoxModel",
          "state": {
            "_view_name": "HBoxView",
            "_dom_classes": [],
            "_model_name": "HBoxModel",
            "_view_module": "@jupyter-widgets/controls",
            "_model_module_version": "1.5.0",
            "_view_count": null,
            "_view_module_version": "1.5.0",
            "box_style": "",
            "layout": "IPY_MODEL_6e82a088ec1d4280bb2bb0e9df2149d7",
            "_model_module": "@jupyter-widgets/controls",
            "children": [
              "IPY_MODEL_06f2b534c6964472bf28a7ef5227c3ed",
              "IPY_MODEL_aeb8f93eccf74d1a8da8f4764e9d577f"
            ]
          }
        },
        "6e82a088ec1d4280bb2bb0e9df2149d7": {
          "model_module": "@jupyter-widgets/base",
          "model_name": "LayoutModel",
          "state": {
            "_view_name": "LayoutView",
            "grid_template_rows": null,
            "right": null,
            "justify_content": null,
            "_view_module": "@jupyter-widgets/base",
            "overflow": null,
            "_model_module_version": "1.2.0",
            "_view_count": null,
            "flex_flow": null,
            "width": null,
            "min_width": null,
            "border": null,
            "align_items": null,
            "bottom": null,
            "_model_module": "@jupyter-widgets/base",
            "top": null,
            "grid_column": null,
            "overflow_y": null,
            "overflow_x": null,
            "grid_auto_flow": null,
            "grid_area": null,
            "grid_template_columns": null,
            "flex": null,
            "_model_name": "LayoutModel",
            "justify_items": null,
            "grid_row": null,
            "max_height": null,
            "align_content": null,
            "visibility": null,
            "align_self": null,
            "height": null,
            "min_height": null,
            "padding": null,
            "grid_auto_rows": null,
            "grid_gap": null,
            "max_width": null,
            "order": null,
            "_view_module_version": "1.2.0",
            "grid_template_areas": null,
            "object_position": null,
            "object_fit": null,
            "grid_auto_columns": null,
            "margin": null,
            "display": null,
            "left": null
          }
        },
        "06f2b534c6964472bf28a7ef5227c3ed": {
          "model_module": "@jupyter-widgets/controls",
          "model_name": "FloatProgressModel",
          "state": {
            "_view_name": "ProgressView",
            "style": "IPY_MODEL_5fc230db53d74e2c8e873dc65f7a6fc2",
            "_dom_classes": [],
            "description": "100%",
            "_model_name": "FloatProgressModel",
            "bar_style": "success",
            "max": 2000,
            "_view_module": "@jupyter-widgets/controls",
            "_model_module_version": "1.5.0",
            "value": 2000,
            "_view_count": null,
            "_view_module_version": "1.5.0",
            "orientation": "horizontal",
            "min": 0,
            "description_tooltip": null,
            "_model_module": "@jupyter-widgets/controls",
            "layout": "IPY_MODEL_8531bf8305c8487c9ca34f06127294ac"
          }
        },
        "aeb8f93eccf74d1a8da8f4764e9d577f": {
          "model_module": "@jupyter-widgets/controls",
          "model_name": "HTMLModel",
          "state": {
            "_view_name": "HTMLView",
            "style": "IPY_MODEL_ad6fc86d98a2429c866b068dd66f13e2",
            "_dom_classes": [],
            "description": "",
            "_model_name": "HTMLModel",
            "placeholder": "​",
            "_view_module": "@jupyter-widgets/controls",
            "_model_module_version": "1.5.0",
            "value": " 2000/2000 [06:47&lt;00:00,  4.91it/s]",
            "_view_count": null,
            "_view_module_version": "1.5.0",
            "description_tooltip": null,
            "_model_module": "@jupyter-widgets/controls",
            "layout": "IPY_MODEL_843f79bd5ece42c88883d72c7b4877a8"
          }
        },
        "5fc230db53d74e2c8e873dc65f7a6fc2": {
          "model_module": "@jupyter-widgets/controls",
          "model_name": "ProgressStyleModel",
          "state": {
            "_view_name": "StyleView",
            "_model_name": "ProgressStyleModel",
            "description_width": "initial",
            "_view_module": "@jupyter-widgets/base",
            "_model_module_version": "1.5.0",
            "_view_count": null,
            "_view_module_version": "1.2.0",
            "bar_color": null,
            "_model_module": "@jupyter-widgets/controls"
          }
        },
        "8531bf8305c8487c9ca34f06127294ac": {
          "model_module": "@jupyter-widgets/base",
          "model_name": "LayoutModel",
          "state": {
            "_view_name": "LayoutView",
            "grid_template_rows": null,
            "right": null,
            "justify_content": null,
            "_view_module": "@jupyter-widgets/base",
            "overflow": null,
            "_model_module_version": "1.2.0",
            "_view_count": null,
            "flex_flow": null,
            "width": null,
            "min_width": null,
            "border": null,
            "align_items": null,
            "bottom": null,
            "_model_module": "@jupyter-widgets/base",
            "top": null,
            "grid_column": null,
            "overflow_y": null,
            "overflow_x": null,
            "grid_auto_flow": null,
            "grid_area": null,
            "grid_template_columns": null,
            "flex": null,
            "_model_name": "LayoutModel",
            "justify_items": null,
            "grid_row": null,
            "max_height": null,
            "align_content": null,
            "visibility": null,
            "align_self": null,
            "height": null,
            "min_height": null,
            "padding": null,
            "grid_auto_rows": null,
            "grid_gap": null,
            "max_width": null,
            "order": null,
            "_view_module_version": "1.2.0",
            "grid_template_areas": null,
            "object_position": null,
            "object_fit": null,
            "grid_auto_columns": null,
            "margin": null,
            "display": null,
            "left": null
          }
        },
        "ad6fc86d98a2429c866b068dd66f13e2": {
          "model_module": "@jupyter-widgets/controls",
          "model_name": "DescriptionStyleModel",
          "state": {
            "_view_name": "StyleView",
            "_model_name": "DescriptionStyleModel",
            "description_width": "",
            "_view_module": "@jupyter-widgets/base",
            "_model_module_version": "1.5.0",
            "_view_count": null,
            "_view_module_version": "1.2.0",
            "_model_module": "@jupyter-widgets/controls"
          }
        },
        "843f79bd5ece42c88883d72c7b4877a8": {
          "model_module": "@jupyter-widgets/base",
          "model_name": "LayoutModel",
          "state": {
            "_view_name": "LayoutView",
            "grid_template_rows": null,
            "right": null,
            "justify_content": null,
            "_view_module": "@jupyter-widgets/base",
            "overflow": null,
            "_model_module_version": "1.2.0",
            "_view_count": null,
            "flex_flow": null,
            "width": null,
            "min_width": null,
            "border": null,
            "align_items": null,
            "bottom": null,
            "_model_module": "@jupyter-widgets/base",
            "top": null,
            "grid_column": null,
            "overflow_y": null,
            "overflow_x": null,
            "grid_auto_flow": null,
            "grid_area": null,
            "grid_template_columns": null,
            "flex": null,
            "_model_name": "LayoutModel",
            "justify_items": null,
            "grid_row": null,
            "max_height": null,
            "align_content": null,
            "visibility": null,
            "align_self": null,
            "height": null,
            "min_height": null,
            "padding": null,
            "grid_auto_rows": null,
            "grid_gap": null,
            "max_width": null,
            "order": null,
            "_view_module_version": "1.2.0",
            "grid_template_areas": null,
            "object_position": null,
            "object_fit": null,
            "grid_auto_columns": null,
            "margin": null,
            "display": null,
            "left": null
          }
        },
        "3acbcf93e7e9468ca54a3a2bf00ce615": {
          "model_module": "@jupyter-widgets/controls",
          "model_name": "HBoxModel",
          "state": {
            "_view_name": "HBoxView",
            "_dom_classes": [],
            "_model_name": "HBoxModel",
            "_view_module": "@jupyter-widgets/controls",
            "_model_module_version": "1.5.0",
            "_view_count": null,
            "_view_module_version": "1.5.0",
            "box_style": "",
            "layout": "IPY_MODEL_4cfb9920ca204655a091b6ca2f887c24",
            "_model_module": "@jupyter-widgets/controls",
            "children": [
              "IPY_MODEL_83440b68f2554392859eacf2544fc386",
              "IPY_MODEL_fbb9c645720649ec94330a4733594a1d"
            ]
          }
        },
        "4cfb9920ca204655a091b6ca2f887c24": {
          "model_module": "@jupyter-widgets/base",
          "model_name": "LayoutModel",
          "state": {
            "_view_name": "LayoutView",
            "grid_template_rows": null,
            "right": null,
            "justify_content": null,
            "_view_module": "@jupyter-widgets/base",
            "overflow": null,
            "_model_module_version": "1.2.0",
            "_view_count": null,
            "flex_flow": null,
            "width": null,
            "min_width": null,
            "border": null,
            "align_items": null,
            "bottom": null,
            "_model_module": "@jupyter-widgets/base",
            "top": null,
            "grid_column": null,
            "overflow_y": null,
            "overflow_x": null,
            "grid_auto_flow": null,
            "grid_area": null,
            "grid_template_columns": null,
            "flex": null,
            "_model_name": "LayoutModel",
            "justify_items": null,
            "grid_row": null,
            "max_height": null,
            "align_content": null,
            "visibility": null,
            "align_self": null,
            "height": null,
            "min_height": null,
            "padding": null,
            "grid_auto_rows": null,
            "grid_gap": null,
            "max_width": null,
            "order": null,
            "_view_module_version": "1.2.0",
            "grid_template_areas": null,
            "object_position": null,
            "object_fit": null,
            "grid_auto_columns": null,
            "margin": null,
            "display": null,
            "left": null
          }
        },
        "83440b68f2554392859eacf2544fc386": {
          "model_module": "@jupyter-widgets/controls",
          "model_name": "FloatProgressModel",
          "state": {
            "_view_name": "ProgressView",
            "style": "IPY_MODEL_1b8260ad57d042acb8be1b3cc2255839",
            "_dom_classes": [],
            "description": "100%",
            "_model_name": "FloatProgressModel",
            "bar_style": "success",
            "max": 1000,
            "_view_module": "@jupyter-widgets/controls",
            "_model_module_version": "1.5.0",
            "value": 1000,
            "_view_count": null,
            "_view_module_version": "1.5.0",
            "orientation": "horizontal",
            "min": 0,
            "description_tooltip": null,
            "_model_module": "@jupyter-widgets/controls",
            "layout": "IPY_MODEL_9d004bde0c4d49fcb2e46f087e7e9396"
          }
        },
        "fbb9c645720649ec94330a4733594a1d": {
          "model_module": "@jupyter-widgets/controls",
          "model_name": "HTMLModel",
          "state": {
            "_view_name": "HTMLView",
            "style": "IPY_MODEL_d8a68a5edd5b4379b19889b8bd19105b",
            "_dom_classes": [],
            "description": "",
            "_model_name": "HTMLModel",
            "placeholder": "​",
            "_view_module": "@jupyter-widgets/controls",
            "_model_module_version": "1.5.0",
            "value": " 1000/1000 [01:31&lt;00:00, 10.95it/s]",
            "_view_count": null,
            "_view_module_version": "1.5.0",
            "description_tooltip": null,
            "_model_module": "@jupyter-widgets/controls",
            "layout": "IPY_MODEL_3ac7f55a26f94803aa99dc3c3c796e4f"
          }
        },
        "1b8260ad57d042acb8be1b3cc2255839": {
          "model_module": "@jupyter-widgets/controls",
          "model_name": "ProgressStyleModel",
          "state": {
            "_view_name": "StyleView",
            "_model_name": "ProgressStyleModel",
            "description_width": "initial",
            "_view_module": "@jupyter-widgets/base",
            "_model_module_version": "1.5.0",
            "_view_count": null,
            "_view_module_version": "1.2.0",
            "bar_color": null,
            "_model_module": "@jupyter-widgets/controls"
          }
        },
        "9d004bde0c4d49fcb2e46f087e7e9396": {
          "model_module": "@jupyter-widgets/base",
          "model_name": "LayoutModel",
          "state": {
            "_view_name": "LayoutView",
            "grid_template_rows": null,
            "right": null,
            "justify_content": null,
            "_view_module": "@jupyter-widgets/base",
            "overflow": null,
            "_model_module_version": "1.2.0",
            "_view_count": null,
            "flex_flow": null,
            "width": null,
            "min_width": null,
            "border": null,
            "align_items": null,
            "bottom": null,
            "_model_module": "@jupyter-widgets/base",
            "top": null,
            "grid_column": null,
            "overflow_y": null,
            "overflow_x": null,
            "grid_auto_flow": null,
            "grid_area": null,
            "grid_template_columns": null,
            "flex": null,
            "_model_name": "LayoutModel",
            "justify_items": null,
            "grid_row": null,
            "max_height": null,
            "align_content": null,
            "visibility": null,
            "align_self": null,
            "height": null,
            "min_height": null,
            "padding": null,
            "grid_auto_rows": null,
            "grid_gap": null,
            "max_width": null,
            "order": null,
            "_view_module_version": "1.2.0",
            "grid_template_areas": null,
            "object_position": null,
            "object_fit": null,
            "grid_auto_columns": null,
            "margin": null,
            "display": null,
            "left": null
          }
        },
        "d8a68a5edd5b4379b19889b8bd19105b": {
          "model_module": "@jupyter-widgets/controls",
          "model_name": "DescriptionStyleModel",
          "state": {
            "_view_name": "StyleView",
            "_model_name": "DescriptionStyleModel",
            "description_width": "",
            "_view_module": "@jupyter-widgets/base",
            "_model_module_version": "1.5.0",
            "_view_count": null,
            "_view_module_version": "1.2.0",
            "_model_module": "@jupyter-widgets/controls"
          }
        },
        "3ac7f55a26f94803aa99dc3c3c796e4f": {
          "model_module": "@jupyter-widgets/base",
          "model_name": "LayoutModel",
          "state": {
            "_view_name": "LayoutView",
            "grid_template_rows": null,
            "right": null,
            "justify_content": null,
            "_view_module": "@jupyter-widgets/base",
            "overflow": null,
            "_model_module_version": "1.2.0",
            "_view_count": null,
            "flex_flow": null,
            "width": null,
            "min_width": null,
            "border": null,
            "align_items": null,
            "bottom": null,
            "_model_module": "@jupyter-widgets/base",
            "top": null,
            "grid_column": null,
            "overflow_y": null,
            "overflow_x": null,
            "grid_auto_flow": null,
            "grid_area": null,
            "grid_template_columns": null,
            "flex": null,
            "_model_name": "LayoutModel",
            "justify_items": null,
            "grid_row": null,
            "max_height": null,
            "align_content": null,
            "visibility": null,
            "align_self": null,
            "height": null,
            "min_height": null,
            "padding": null,
            "grid_auto_rows": null,
            "grid_gap": null,
            "max_width": null,
            "order": null,
            "_view_module_version": "1.2.0",
            "grid_template_areas": null,
            "object_position": null,
            "object_fit": null,
            "grid_auto_columns": null,
            "margin": null,
            "display": null,
            "left": null
          }
        },
        "27cd50f12878478f89a4971573871cfa": {
          "model_module": "@jupyter-widgets/controls",
          "model_name": "HBoxModel",
          "state": {
            "_view_name": "HBoxView",
            "_dom_classes": [],
            "_model_name": "HBoxModel",
            "_view_module": "@jupyter-widgets/controls",
            "_model_module_version": "1.5.0",
            "_view_count": null,
            "_view_module_version": "1.5.0",
            "box_style": "",
            "layout": "IPY_MODEL_67a2b515d2934cd092f849b527f0d1e9",
            "_model_module": "@jupyter-widgets/controls",
            "children": [
              "IPY_MODEL_6737f916f237415b966f328e351fef85",
              "IPY_MODEL_8bdf186881d34fe391770f3a195f0889"
            ]
          }
        },
        "67a2b515d2934cd092f849b527f0d1e9": {
          "model_module": "@jupyter-widgets/base",
          "model_name": "LayoutModel",
          "state": {
            "_view_name": "LayoutView",
            "grid_template_rows": null,
            "right": null,
            "justify_content": null,
            "_view_module": "@jupyter-widgets/base",
            "overflow": null,
            "_model_module_version": "1.2.0",
            "_view_count": null,
            "flex_flow": null,
            "width": null,
            "min_width": null,
            "border": null,
            "align_items": null,
            "bottom": null,
            "_model_module": "@jupyter-widgets/base",
            "top": null,
            "grid_column": null,
            "overflow_y": null,
            "overflow_x": null,
            "grid_auto_flow": null,
            "grid_area": null,
            "grid_template_columns": null,
            "flex": null,
            "_model_name": "LayoutModel",
            "justify_items": null,
            "grid_row": null,
            "max_height": null,
            "align_content": null,
            "visibility": null,
            "align_self": null,
            "height": null,
            "min_height": null,
            "padding": null,
            "grid_auto_rows": null,
            "grid_gap": null,
            "max_width": null,
            "order": null,
            "_view_module_version": "1.2.0",
            "grid_template_areas": null,
            "object_position": null,
            "object_fit": null,
            "grid_auto_columns": null,
            "margin": null,
            "display": null,
            "left": null
          }
        },
        "6737f916f237415b966f328e351fef85": {
          "model_module": "@jupyter-widgets/controls",
          "model_name": "FloatProgressModel",
          "state": {
            "_view_name": "ProgressView",
            "style": "IPY_MODEL_d2ead05e766949d9a17b8b7b7b98d314",
            "_dom_classes": [],
            "description": "100%",
            "_model_name": "FloatProgressModel",
            "bar_style": "success",
            "max": 2000,
            "_view_module": "@jupyter-widgets/controls",
            "_model_module_version": "1.5.0",
            "value": 2000,
            "_view_count": null,
            "_view_module_version": "1.5.0",
            "orientation": "horizontal",
            "min": 0,
            "description_tooltip": null,
            "_model_module": "@jupyter-widgets/controls",
            "layout": "IPY_MODEL_2f236a18e0074b0cb744413bf58c67f7"
          }
        },
        "8bdf186881d34fe391770f3a195f0889": {
          "model_module": "@jupyter-widgets/controls",
          "model_name": "HTMLModel",
          "state": {
            "_view_name": "HTMLView",
            "style": "IPY_MODEL_c97f156add234e95994ba8559776062f",
            "_dom_classes": [],
            "description": "",
            "_model_name": "HTMLModel",
            "placeholder": "​",
            "_view_module": "@jupyter-widgets/controls",
            "_model_module_version": "1.5.0",
            "value": " 2000/2000 [12:50&lt;00:00,  2.60it/s]",
            "_view_count": null,
            "_view_module_version": "1.5.0",
            "description_tooltip": null,
            "_model_module": "@jupyter-widgets/controls",
            "layout": "IPY_MODEL_09719f25843c44de9197d8943ec4bf69"
          }
        },
        "d2ead05e766949d9a17b8b7b7b98d314": {
          "model_module": "@jupyter-widgets/controls",
          "model_name": "ProgressStyleModel",
          "state": {
            "_view_name": "StyleView",
            "_model_name": "ProgressStyleModel",
            "description_width": "initial",
            "_view_module": "@jupyter-widgets/base",
            "_model_module_version": "1.5.0",
            "_view_count": null,
            "_view_module_version": "1.2.0",
            "bar_color": null,
            "_model_module": "@jupyter-widgets/controls"
          }
        },
        "2f236a18e0074b0cb744413bf58c67f7": {
          "model_module": "@jupyter-widgets/base",
          "model_name": "LayoutModel",
          "state": {
            "_view_name": "LayoutView",
            "grid_template_rows": null,
            "right": null,
            "justify_content": null,
            "_view_module": "@jupyter-widgets/base",
            "overflow": null,
            "_model_module_version": "1.2.0",
            "_view_count": null,
            "flex_flow": null,
            "width": null,
            "min_width": null,
            "border": null,
            "align_items": null,
            "bottom": null,
            "_model_module": "@jupyter-widgets/base",
            "top": null,
            "grid_column": null,
            "overflow_y": null,
            "overflow_x": null,
            "grid_auto_flow": null,
            "grid_area": null,
            "grid_template_columns": null,
            "flex": null,
            "_model_name": "LayoutModel",
            "justify_items": null,
            "grid_row": null,
            "max_height": null,
            "align_content": null,
            "visibility": null,
            "align_self": null,
            "height": null,
            "min_height": null,
            "padding": null,
            "grid_auto_rows": null,
            "grid_gap": null,
            "max_width": null,
            "order": null,
            "_view_module_version": "1.2.0",
            "grid_template_areas": null,
            "object_position": null,
            "object_fit": null,
            "grid_auto_columns": null,
            "margin": null,
            "display": null,
            "left": null
          }
        },
        "c97f156add234e95994ba8559776062f": {
          "model_module": "@jupyter-widgets/controls",
          "model_name": "DescriptionStyleModel",
          "state": {
            "_view_name": "StyleView",
            "_model_name": "DescriptionStyleModel",
            "description_width": "",
            "_view_module": "@jupyter-widgets/base",
            "_model_module_version": "1.5.0",
            "_view_count": null,
            "_view_module_version": "1.2.0",
            "_model_module": "@jupyter-widgets/controls"
          }
        },
        "09719f25843c44de9197d8943ec4bf69": {
          "model_module": "@jupyter-widgets/base",
          "model_name": "LayoutModel",
          "state": {
            "_view_name": "LayoutView",
            "grid_template_rows": null,
            "right": null,
            "justify_content": null,
            "_view_module": "@jupyter-widgets/base",
            "overflow": null,
            "_model_module_version": "1.2.0",
            "_view_count": null,
            "flex_flow": null,
            "width": null,
            "min_width": null,
            "border": null,
            "align_items": null,
            "bottom": null,
            "_model_module": "@jupyter-widgets/base",
            "top": null,
            "grid_column": null,
            "overflow_y": null,
            "overflow_x": null,
            "grid_auto_flow": null,
            "grid_area": null,
            "grid_template_columns": null,
            "flex": null,
            "_model_name": "LayoutModel",
            "justify_items": null,
            "grid_row": null,
            "max_height": null,
            "align_content": null,
            "visibility": null,
            "align_self": null,
            "height": null,
            "min_height": null,
            "padding": null,
            "grid_auto_rows": null,
            "grid_gap": null,
            "max_width": null,
            "order": null,
            "_view_module_version": "1.2.0",
            "grid_template_areas": null,
            "object_position": null,
            "object_fit": null,
            "grid_auto_columns": null,
            "margin": null,
            "display": null,
            "left": null
          }
        },
        "ce7692d25b374efea77823388a43eab7": {
          "model_module": "@jupyter-widgets/controls",
          "model_name": "HBoxModel",
          "state": {
            "_view_name": "HBoxView",
            "_dom_classes": [],
            "_model_name": "HBoxModel",
            "_view_module": "@jupyter-widgets/controls",
            "_model_module_version": "1.5.0",
            "_view_count": null,
            "_view_module_version": "1.5.0",
            "box_style": "",
            "layout": "IPY_MODEL_5c5f1d34a8de4a5492feb2f7fffeee2a",
            "_model_module": "@jupyter-widgets/controls",
            "children": [
              "IPY_MODEL_06c32c0c89554864b7e01111d69b106d",
              "IPY_MODEL_42a0333674ed4f599dc82deb0b234d66"
            ]
          }
        },
        "5c5f1d34a8de4a5492feb2f7fffeee2a": {
          "model_module": "@jupyter-widgets/base",
          "model_name": "LayoutModel",
          "state": {
            "_view_name": "LayoutView",
            "grid_template_rows": null,
            "right": null,
            "justify_content": null,
            "_view_module": "@jupyter-widgets/base",
            "overflow": null,
            "_model_module_version": "1.2.0",
            "_view_count": null,
            "flex_flow": null,
            "width": null,
            "min_width": null,
            "border": null,
            "align_items": null,
            "bottom": null,
            "_model_module": "@jupyter-widgets/base",
            "top": null,
            "grid_column": null,
            "overflow_y": null,
            "overflow_x": null,
            "grid_auto_flow": null,
            "grid_area": null,
            "grid_template_columns": null,
            "flex": null,
            "_model_name": "LayoutModel",
            "justify_items": null,
            "grid_row": null,
            "max_height": null,
            "align_content": null,
            "visibility": null,
            "align_self": null,
            "height": null,
            "min_height": null,
            "padding": null,
            "grid_auto_rows": null,
            "grid_gap": null,
            "max_width": null,
            "order": null,
            "_view_module_version": "1.2.0",
            "grid_template_areas": null,
            "object_position": null,
            "object_fit": null,
            "grid_auto_columns": null,
            "margin": null,
            "display": null,
            "left": null
          }
        },
        "06c32c0c89554864b7e01111d69b106d": {
          "model_module": "@jupyter-widgets/controls",
          "model_name": "FloatProgressModel",
          "state": {
            "_view_name": "ProgressView",
            "style": "IPY_MODEL_5e1c044df52b454d9245329487c5035b",
            "_dom_classes": [],
            "description": "100%",
            "_model_name": "FloatProgressModel",
            "bar_style": "success",
            "max": 1000,
            "_view_module": "@jupyter-widgets/controls",
            "_model_module_version": "1.5.0",
            "value": 1000,
            "_view_count": null,
            "_view_module_version": "1.5.0",
            "orientation": "horizontal",
            "min": 0,
            "description_tooltip": null,
            "_model_module": "@jupyter-widgets/controls",
            "layout": "IPY_MODEL_b241c9473fe74c4d9dc34e1764ee1a08"
          }
        },
        "42a0333674ed4f599dc82deb0b234d66": {
          "model_module": "@jupyter-widgets/controls",
          "model_name": "HTMLModel",
          "state": {
            "_view_name": "HTMLView",
            "style": "IPY_MODEL_993b34fc72cf40bd89d0a5aa578274c9",
            "_dom_classes": [],
            "description": "",
            "_model_name": "HTMLModel",
            "placeholder": "​",
            "_view_module": "@jupyter-widgets/controls",
            "_model_module_version": "1.5.0",
            "value": " 1000/1000 [04:58&lt;00:00,  3.35it/s]",
            "_view_count": null,
            "_view_module_version": "1.5.0",
            "description_tooltip": null,
            "_model_module": "@jupyter-widgets/controls",
            "layout": "IPY_MODEL_d714b7ee746843a3bf6e556fc728be23"
          }
        },
        "5e1c044df52b454d9245329487c5035b": {
          "model_module": "@jupyter-widgets/controls",
          "model_name": "ProgressStyleModel",
          "state": {
            "_view_name": "StyleView",
            "_model_name": "ProgressStyleModel",
            "description_width": "initial",
            "_view_module": "@jupyter-widgets/base",
            "_model_module_version": "1.5.0",
            "_view_count": null,
            "_view_module_version": "1.2.0",
            "bar_color": null,
            "_model_module": "@jupyter-widgets/controls"
          }
        },
        "b241c9473fe74c4d9dc34e1764ee1a08": {
          "model_module": "@jupyter-widgets/base",
          "model_name": "LayoutModel",
          "state": {
            "_view_name": "LayoutView",
            "grid_template_rows": null,
            "right": null,
            "justify_content": null,
            "_view_module": "@jupyter-widgets/base",
            "overflow": null,
            "_model_module_version": "1.2.0",
            "_view_count": null,
            "flex_flow": null,
            "width": null,
            "min_width": null,
            "border": null,
            "align_items": null,
            "bottom": null,
            "_model_module": "@jupyter-widgets/base",
            "top": null,
            "grid_column": null,
            "overflow_y": null,
            "overflow_x": null,
            "grid_auto_flow": null,
            "grid_area": null,
            "grid_template_columns": null,
            "flex": null,
            "_model_name": "LayoutModel",
            "justify_items": null,
            "grid_row": null,
            "max_height": null,
            "align_content": null,
            "visibility": null,
            "align_self": null,
            "height": null,
            "min_height": null,
            "padding": null,
            "grid_auto_rows": null,
            "grid_gap": null,
            "max_width": null,
            "order": null,
            "_view_module_version": "1.2.0",
            "grid_template_areas": null,
            "object_position": null,
            "object_fit": null,
            "grid_auto_columns": null,
            "margin": null,
            "display": null,
            "left": null
          }
        },
        "993b34fc72cf40bd89d0a5aa578274c9": {
          "model_module": "@jupyter-widgets/controls",
          "model_name": "DescriptionStyleModel",
          "state": {
            "_view_name": "StyleView",
            "_model_name": "DescriptionStyleModel",
            "description_width": "",
            "_view_module": "@jupyter-widgets/base",
            "_model_module_version": "1.5.0",
            "_view_count": null,
            "_view_module_version": "1.2.0",
            "_model_module": "@jupyter-widgets/controls"
          }
        },
        "d714b7ee746843a3bf6e556fc728be23": {
          "model_module": "@jupyter-widgets/base",
          "model_name": "LayoutModel",
          "state": {
            "_view_name": "LayoutView",
            "grid_template_rows": null,
            "right": null,
            "justify_content": null,
            "_view_module": "@jupyter-widgets/base",
            "overflow": null,
            "_model_module_version": "1.2.0",
            "_view_count": null,
            "flex_flow": null,
            "width": null,
            "min_width": null,
            "border": null,
            "align_items": null,
            "bottom": null,
            "_model_module": "@jupyter-widgets/base",
            "top": null,
            "grid_column": null,
            "overflow_y": null,
            "overflow_x": null,
            "grid_auto_flow": null,
            "grid_area": null,
            "grid_template_columns": null,
            "flex": null,
            "_model_name": "LayoutModel",
            "justify_items": null,
            "grid_row": null,
            "max_height": null,
            "align_content": null,
            "visibility": null,
            "align_self": null,
            "height": null,
            "min_height": null,
            "padding": null,
            "grid_auto_rows": null,
            "grid_gap": null,
            "max_width": null,
            "order": null,
            "_view_module_version": "1.2.0",
            "grid_template_areas": null,
            "object_position": null,
            "object_fit": null,
            "grid_auto_columns": null,
            "margin": null,
            "display": null,
            "left": null
          }
        },
        "b3ef73f83cf14f699a834085f51090fb": {
          "model_module": "@jupyter-widgets/controls",
          "model_name": "HBoxModel",
          "state": {
            "_view_name": "HBoxView",
            "_dom_classes": [],
            "_model_name": "HBoxModel",
            "_view_module": "@jupyter-widgets/controls",
            "_model_module_version": "1.5.0",
            "_view_count": null,
            "_view_module_version": "1.5.0",
            "box_style": "",
            "layout": "IPY_MODEL_92d53de892684c80a622fa206b4286ff",
            "_model_module": "@jupyter-widgets/controls",
            "children": [
              "IPY_MODEL_ce43fe33498d4aa3bf05ad5f323db80a",
              "IPY_MODEL_835a11beee194c39ad034c66a9fd6739"
            ]
          }
        },
        "92d53de892684c80a622fa206b4286ff": {
          "model_module": "@jupyter-widgets/base",
          "model_name": "LayoutModel",
          "state": {
            "_view_name": "LayoutView",
            "grid_template_rows": null,
            "right": null,
            "justify_content": null,
            "_view_module": "@jupyter-widgets/base",
            "overflow": null,
            "_model_module_version": "1.2.0",
            "_view_count": null,
            "flex_flow": null,
            "width": null,
            "min_width": null,
            "border": null,
            "align_items": null,
            "bottom": null,
            "_model_module": "@jupyter-widgets/base",
            "top": null,
            "grid_column": null,
            "overflow_y": null,
            "overflow_x": null,
            "grid_auto_flow": null,
            "grid_area": null,
            "grid_template_columns": null,
            "flex": null,
            "_model_name": "LayoutModel",
            "justify_items": null,
            "grid_row": null,
            "max_height": null,
            "align_content": null,
            "visibility": null,
            "align_self": null,
            "height": null,
            "min_height": null,
            "padding": null,
            "grid_auto_rows": null,
            "grid_gap": null,
            "max_width": null,
            "order": null,
            "_view_module_version": "1.2.0",
            "grid_template_areas": null,
            "object_position": null,
            "object_fit": null,
            "grid_auto_columns": null,
            "margin": null,
            "display": null,
            "left": null
          }
        },
        "ce43fe33498d4aa3bf05ad5f323db80a": {
          "model_module": "@jupyter-widgets/controls",
          "model_name": "FloatProgressModel",
          "state": {
            "_view_name": "ProgressView",
            "style": "IPY_MODEL_f1f0957960804c249f30eef160017b9c",
            "_dom_classes": [],
            "description": "100%",
            "_model_name": "FloatProgressModel",
            "bar_style": "success",
            "max": 1000,
            "_view_module": "@jupyter-widgets/controls",
            "_model_module_version": "1.5.0",
            "value": 1000,
            "_view_count": null,
            "_view_module_version": "1.5.0",
            "orientation": "horizontal",
            "min": 0,
            "description_tooltip": null,
            "_model_module": "@jupyter-widgets/controls",
            "layout": "IPY_MODEL_0a44f429214b4b4993e14776ee54b55f"
          }
        },
        "835a11beee194c39ad034c66a9fd6739": {
          "model_module": "@jupyter-widgets/controls",
          "model_name": "HTMLModel",
          "state": {
            "_view_name": "HTMLView",
            "style": "IPY_MODEL_46ad328ecb6f45acab4f27bc2f1c5093",
            "_dom_classes": [],
            "description": "",
            "_model_name": "HTMLModel",
            "placeholder": "​",
            "_view_module": "@jupyter-widgets/controls",
            "_model_module_version": "1.5.0",
            "value": " 1000/1000 [01:46&lt;00:00,  9.40it/s]",
            "_view_count": null,
            "_view_module_version": "1.5.0",
            "description_tooltip": null,
            "_model_module": "@jupyter-widgets/controls",
            "layout": "IPY_MODEL_dd56c1d70d134abbafb2a2132a6efa08"
          }
        },
        "f1f0957960804c249f30eef160017b9c": {
          "model_module": "@jupyter-widgets/controls",
          "model_name": "ProgressStyleModel",
          "state": {
            "_view_name": "StyleView",
            "_model_name": "ProgressStyleModel",
            "description_width": "initial",
            "_view_module": "@jupyter-widgets/base",
            "_model_module_version": "1.5.0",
            "_view_count": null,
            "_view_module_version": "1.2.0",
            "bar_color": null,
            "_model_module": "@jupyter-widgets/controls"
          }
        },
        "0a44f429214b4b4993e14776ee54b55f": {
          "model_module": "@jupyter-widgets/base",
          "model_name": "LayoutModel",
          "state": {
            "_view_name": "LayoutView",
            "grid_template_rows": null,
            "right": null,
            "justify_content": null,
            "_view_module": "@jupyter-widgets/base",
            "overflow": null,
            "_model_module_version": "1.2.0",
            "_view_count": null,
            "flex_flow": null,
            "width": null,
            "min_width": null,
            "border": null,
            "align_items": null,
            "bottom": null,
            "_model_module": "@jupyter-widgets/base",
            "top": null,
            "grid_column": null,
            "overflow_y": null,
            "overflow_x": null,
            "grid_auto_flow": null,
            "grid_area": null,
            "grid_template_columns": null,
            "flex": null,
            "_model_name": "LayoutModel",
            "justify_items": null,
            "grid_row": null,
            "max_height": null,
            "align_content": null,
            "visibility": null,
            "align_self": null,
            "height": null,
            "min_height": null,
            "padding": null,
            "grid_auto_rows": null,
            "grid_gap": null,
            "max_width": null,
            "order": null,
            "_view_module_version": "1.2.0",
            "grid_template_areas": null,
            "object_position": null,
            "object_fit": null,
            "grid_auto_columns": null,
            "margin": null,
            "display": null,
            "left": null
          }
        },
        "46ad328ecb6f45acab4f27bc2f1c5093": {
          "model_module": "@jupyter-widgets/controls",
          "model_name": "DescriptionStyleModel",
          "state": {
            "_view_name": "StyleView",
            "_model_name": "DescriptionStyleModel",
            "description_width": "",
            "_view_module": "@jupyter-widgets/base",
            "_model_module_version": "1.5.0",
            "_view_count": null,
            "_view_module_version": "1.2.0",
            "_model_module": "@jupyter-widgets/controls"
          }
        },
        "dd56c1d70d134abbafb2a2132a6efa08": {
          "model_module": "@jupyter-widgets/base",
          "model_name": "LayoutModel",
          "state": {
            "_view_name": "LayoutView",
            "grid_template_rows": null,
            "right": null,
            "justify_content": null,
            "_view_module": "@jupyter-widgets/base",
            "overflow": null,
            "_model_module_version": "1.2.0",
            "_view_count": null,
            "flex_flow": null,
            "width": null,
            "min_width": null,
            "border": null,
            "align_items": null,
            "bottom": null,
            "_model_module": "@jupyter-widgets/base",
            "top": null,
            "grid_column": null,
            "overflow_y": null,
            "overflow_x": null,
            "grid_auto_flow": null,
            "grid_area": null,
            "grid_template_columns": null,
            "flex": null,
            "_model_name": "LayoutModel",
            "justify_items": null,
            "grid_row": null,
            "max_height": null,
            "align_content": null,
            "visibility": null,
            "align_self": null,
            "height": null,
            "min_height": null,
            "padding": null,
            "grid_auto_rows": null,
            "grid_gap": null,
            "max_width": null,
            "order": null,
            "_view_module_version": "1.2.0",
            "grid_template_areas": null,
            "object_position": null,
            "object_fit": null,
            "grid_auto_columns": null,
            "margin": null,
            "display": null,
            "left": null
          }
        },
        "7692f279f6c242bdbcc009f6e47b4adb": {
          "model_module": "@jupyter-widgets/controls",
          "model_name": "HBoxModel",
          "state": {
            "_view_name": "HBoxView",
            "_dom_classes": [],
            "_model_name": "HBoxModel",
            "_view_module": "@jupyter-widgets/controls",
            "_model_module_version": "1.5.0",
            "_view_count": null,
            "_view_module_version": "1.5.0",
            "box_style": "",
            "layout": "IPY_MODEL_ae7000df36fa4976b0ced35edd22ea16",
            "_model_module": "@jupyter-widgets/controls",
            "children": [
              "IPY_MODEL_5146bdb8ab2c40a0828fbbdae929b068",
              "IPY_MODEL_9e55d71778ab40ff98252db8b0417a86"
            ]
          }
        },
        "ae7000df36fa4976b0ced35edd22ea16": {
          "model_module": "@jupyter-widgets/base",
          "model_name": "LayoutModel",
          "state": {
            "_view_name": "LayoutView",
            "grid_template_rows": null,
            "right": null,
            "justify_content": null,
            "_view_module": "@jupyter-widgets/base",
            "overflow": null,
            "_model_module_version": "1.2.0",
            "_view_count": null,
            "flex_flow": null,
            "width": null,
            "min_width": null,
            "border": null,
            "align_items": null,
            "bottom": null,
            "_model_module": "@jupyter-widgets/base",
            "top": null,
            "grid_column": null,
            "overflow_y": null,
            "overflow_x": null,
            "grid_auto_flow": null,
            "grid_area": null,
            "grid_template_columns": null,
            "flex": null,
            "_model_name": "LayoutModel",
            "justify_items": null,
            "grid_row": null,
            "max_height": null,
            "align_content": null,
            "visibility": null,
            "align_self": null,
            "height": null,
            "min_height": null,
            "padding": null,
            "grid_auto_rows": null,
            "grid_gap": null,
            "max_width": null,
            "order": null,
            "_view_module_version": "1.2.0",
            "grid_template_areas": null,
            "object_position": null,
            "object_fit": null,
            "grid_auto_columns": null,
            "margin": null,
            "display": null,
            "left": null
          }
        },
        "5146bdb8ab2c40a0828fbbdae929b068": {
          "model_module": "@jupyter-widgets/controls",
          "model_name": "FloatProgressModel",
          "state": {
            "_view_name": "ProgressView",
            "style": "IPY_MODEL_10c34d736a264ddba82b5591342db5d4",
            "_dom_classes": [],
            "description": "100%",
            "_model_name": "FloatProgressModel",
            "bar_style": "success",
            "max": 47,
            "_view_module": "@jupyter-widgets/controls",
            "_model_module_version": "1.5.0",
            "value": 47,
            "_view_count": null,
            "_view_module_version": "1.5.0",
            "orientation": "horizontal",
            "min": 0,
            "description_tooltip": null,
            "_model_module": "@jupyter-widgets/controls",
            "layout": "IPY_MODEL_a4f879dc729846cdb1e6935ecc417c1f"
          }
        },
        "9e55d71778ab40ff98252db8b0417a86": {
          "model_module": "@jupyter-widgets/controls",
          "model_name": "HTMLModel",
          "state": {
            "_view_name": "HTMLView",
            "style": "IPY_MODEL_f8a720bb00cd485a9b709ee0fa18a481",
            "_dom_classes": [],
            "description": "",
            "_model_name": "HTMLModel",
            "placeholder": "​",
            "_view_module": "@jupyter-widgets/controls",
            "_model_module_version": "1.5.0",
            "value": " 47/47 [01:48&lt;00:00,  2.32s/it]",
            "_view_count": null,
            "_view_module_version": "1.5.0",
            "description_tooltip": null,
            "_model_module": "@jupyter-widgets/controls",
            "layout": "IPY_MODEL_64f612fa4b5a4d81a8736c11b63e8a93"
          }
        },
        "10c34d736a264ddba82b5591342db5d4": {
          "model_module": "@jupyter-widgets/controls",
          "model_name": "ProgressStyleModel",
          "state": {
            "_view_name": "StyleView",
            "_model_name": "ProgressStyleModel",
            "description_width": "initial",
            "_view_module": "@jupyter-widgets/base",
            "_model_module_version": "1.5.0",
            "_view_count": null,
            "_view_module_version": "1.2.0",
            "bar_color": null,
            "_model_module": "@jupyter-widgets/controls"
          }
        },
        "a4f879dc729846cdb1e6935ecc417c1f": {
          "model_module": "@jupyter-widgets/base",
          "model_name": "LayoutModel",
          "state": {
            "_view_name": "LayoutView",
            "grid_template_rows": null,
            "right": null,
            "justify_content": null,
            "_view_module": "@jupyter-widgets/base",
            "overflow": null,
            "_model_module_version": "1.2.0",
            "_view_count": null,
            "flex_flow": null,
            "width": null,
            "min_width": null,
            "border": null,
            "align_items": null,
            "bottom": null,
            "_model_module": "@jupyter-widgets/base",
            "top": null,
            "grid_column": null,
            "overflow_y": null,
            "overflow_x": null,
            "grid_auto_flow": null,
            "grid_area": null,
            "grid_template_columns": null,
            "flex": null,
            "_model_name": "LayoutModel",
            "justify_items": null,
            "grid_row": null,
            "max_height": null,
            "align_content": null,
            "visibility": null,
            "align_self": null,
            "height": null,
            "min_height": null,
            "padding": null,
            "grid_auto_rows": null,
            "grid_gap": null,
            "max_width": null,
            "order": null,
            "_view_module_version": "1.2.0",
            "grid_template_areas": null,
            "object_position": null,
            "object_fit": null,
            "grid_auto_columns": null,
            "margin": null,
            "display": null,
            "left": null
          }
        },
        "f8a720bb00cd485a9b709ee0fa18a481": {
          "model_module": "@jupyter-widgets/controls",
          "model_name": "DescriptionStyleModel",
          "state": {
            "_view_name": "StyleView",
            "_model_name": "DescriptionStyleModel",
            "description_width": "",
            "_view_module": "@jupyter-widgets/base",
            "_model_module_version": "1.5.0",
            "_view_count": null,
            "_view_module_version": "1.2.0",
            "_model_module": "@jupyter-widgets/controls"
          }
        },
        "64f612fa4b5a4d81a8736c11b63e8a93": {
          "model_module": "@jupyter-widgets/base",
          "model_name": "LayoutModel",
          "state": {
            "_view_name": "LayoutView",
            "grid_template_rows": null,
            "right": null,
            "justify_content": null,
            "_view_module": "@jupyter-widgets/base",
            "overflow": null,
            "_model_module_version": "1.2.0",
            "_view_count": null,
            "flex_flow": null,
            "width": null,
            "min_width": null,
            "border": null,
            "align_items": null,
            "bottom": null,
            "_model_module": "@jupyter-widgets/base",
            "top": null,
            "grid_column": null,
            "overflow_y": null,
            "overflow_x": null,
            "grid_auto_flow": null,
            "grid_area": null,
            "grid_template_columns": null,
            "flex": null,
            "_model_name": "LayoutModel",
            "justify_items": null,
            "grid_row": null,
            "max_height": null,
            "align_content": null,
            "visibility": null,
            "align_self": null,
            "height": null,
            "min_height": null,
            "padding": null,
            "grid_auto_rows": null,
            "grid_gap": null,
            "max_width": null,
            "order": null,
            "_view_module_version": "1.2.0",
            "grid_template_areas": null,
            "object_position": null,
            "object_fit": null,
            "grid_auto_columns": null,
            "margin": null,
            "display": null,
            "left": null
          }
        },
        "c7f6969e8370467b864ae42153259de9": {
          "model_module": "@jupyter-widgets/controls",
          "model_name": "HBoxModel",
          "state": {
            "_view_name": "HBoxView",
            "_dom_classes": [],
            "_model_name": "HBoxModel",
            "_view_module": "@jupyter-widgets/controls",
            "_model_module_version": "1.5.0",
            "_view_count": null,
            "_view_module_version": "1.5.0",
            "box_style": "",
            "layout": "IPY_MODEL_87c2cf767bb745bfbf918989c4483e59",
            "_model_module": "@jupyter-widgets/controls",
            "children": [
              "IPY_MODEL_58f80696e0e34a91aae529ed3448ee76",
              "IPY_MODEL_36d74681353a4cf0b0743852e49614ac"
            ]
          }
        },
        "87c2cf767bb745bfbf918989c4483e59": {
          "model_module": "@jupyter-widgets/base",
          "model_name": "LayoutModel",
          "state": {
            "_view_name": "LayoutView",
            "grid_template_rows": null,
            "right": null,
            "justify_content": null,
            "_view_module": "@jupyter-widgets/base",
            "overflow": null,
            "_model_module_version": "1.2.0",
            "_view_count": null,
            "flex_flow": null,
            "width": null,
            "min_width": null,
            "border": null,
            "align_items": null,
            "bottom": null,
            "_model_module": "@jupyter-widgets/base",
            "top": null,
            "grid_column": null,
            "overflow_y": null,
            "overflow_x": null,
            "grid_auto_flow": null,
            "grid_area": null,
            "grid_template_columns": null,
            "flex": null,
            "_model_name": "LayoutModel",
            "justify_items": null,
            "grid_row": null,
            "max_height": null,
            "align_content": null,
            "visibility": null,
            "align_self": null,
            "height": null,
            "min_height": null,
            "padding": null,
            "grid_auto_rows": null,
            "grid_gap": null,
            "max_width": null,
            "order": null,
            "_view_module_version": "1.2.0",
            "grid_template_areas": null,
            "object_position": null,
            "object_fit": null,
            "grid_auto_columns": null,
            "margin": null,
            "display": null,
            "left": null
          }
        },
        "58f80696e0e34a91aae529ed3448ee76": {
          "model_module": "@jupyter-widgets/controls",
          "model_name": "FloatProgressModel",
          "state": {
            "_view_name": "ProgressView",
            "style": "IPY_MODEL_009c5db1827642228790e2e93d6b70ea",
            "_dom_classes": [],
            "description": "100%",
            "_model_name": "FloatProgressModel",
            "bar_style": "success",
            "max": 400,
            "_view_module": "@jupyter-widgets/controls",
            "_model_module_version": "1.5.0",
            "value": 400,
            "_view_count": null,
            "_view_module_version": "1.5.0",
            "orientation": "horizontal",
            "min": 0,
            "description_tooltip": null,
            "_model_module": "@jupyter-widgets/controls",
            "layout": "IPY_MODEL_2504610603a647ef9ff989bcfd0acf65"
          }
        },
        "36d74681353a4cf0b0743852e49614ac": {
          "model_module": "@jupyter-widgets/controls",
          "model_name": "HTMLModel",
          "state": {
            "_view_name": "HTMLView",
            "style": "IPY_MODEL_0c3b825fd8d44d8199393429e3a69574",
            "_dom_classes": [],
            "description": "",
            "_model_name": "HTMLModel",
            "placeholder": "​",
            "_view_module": "@jupyter-widgets/controls",
            "_model_module_version": "1.5.0",
            "value": " 400/400 [00:43&lt;00:00,  9.30it/s]",
            "_view_count": null,
            "_view_module_version": "1.5.0",
            "description_tooltip": null,
            "_model_module": "@jupyter-widgets/controls",
            "layout": "IPY_MODEL_a07dc285fe8a41c0a4dd1213989b7ed4"
          }
        },
        "009c5db1827642228790e2e93d6b70ea": {
          "model_module": "@jupyter-widgets/controls",
          "model_name": "ProgressStyleModel",
          "state": {
            "_view_name": "StyleView",
            "_model_name": "ProgressStyleModel",
            "description_width": "initial",
            "_view_module": "@jupyter-widgets/base",
            "_model_module_version": "1.5.0",
            "_view_count": null,
            "_view_module_version": "1.2.0",
            "bar_color": null,
            "_model_module": "@jupyter-widgets/controls"
          }
        },
        "2504610603a647ef9ff989bcfd0acf65": {
          "model_module": "@jupyter-widgets/base",
          "model_name": "LayoutModel",
          "state": {
            "_view_name": "LayoutView",
            "grid_template_rows": null,
            "right": null,
            "justify_content": null,
            "_view_module": "@jupyter-widgets/base",
            "overflow": null,
            "_model_module_version": "1.2.0",
            "_view_count": null,
            "flex_flow": null,
            "width": null,
            "min_width": null,
            "border": null,
            "align_items": null,
            "bottom": null,
            "_model_module": "@jupyter-widgets/base",
            "top": null,
            "grid_column": null,
            "overflow_y": null,
            "overflow_x": null,
            "grid_auto_flow": null,
            "grid_area": null,
            "grid_template_columns": null,
            "flex": null,
            "_model_name": "LayoutModel",
            "justify_items": null,
            "grid_row": null,
            "max_height": null,
            "align_content": null,
            "visibility": null,
            "align_self": null,
            "height": null,
            "min_height": null,
            "padding": null,
            "grid_auto_rows": null,
            "grid_gap": null,
            "max_width": null,
            "order": null,
            "_view_module_version": "1.2.0",
            "grid_template_areas": null,
            "object_position": null,
            "object_fit": null,
            "grid_auto_columns": null,
            "margin": null,
            "display": null,
            "left": null
          }
        },
        "0c3b825fd8d44d8199393429e3a69574": {
          "model_module": "@jupyter-widgets/controls",
          "model_name": "DescriptionStyleModel",
          "state": {
            "_view_name": "StyleView",
            "_model_name": "DescriptionStyleModel",
            "description_width": "",
            "_view_module": "@jupyter-widgets/base",
            "_model_module_version": "1.5.0",
            "_view_count": null,
            "_view_module_version": "1.2.0",
            "_model_module": "@jupyter-widgets/controls"
          }
        },
        "a07dc285fe8a41c0a4dd1213989b7ed4": {
          "model_module": "@jupyter-widgets/base",
          "model_name": "LayoutModel",
          "state": {
            "_view_name": "LayoutView",
            "grid_template_rows": null,
            "right": null,
            "justify_content": null,
            "_view_module": "@jupyter-widgets/base",
            "overflow": null,
            "_model_module_version": "1.2.0",
            "_view_count": null,
            "flex_flow": null,
            "width": null,
            "min_width": null,
            "border": null,
            "align_items": null,
            "bottom": null,
            "_model_module": "@jupyter-widgets/base",
            "top": null,
            "grid_column": null,
            "overflow_y": null,
            "overflow_x": null,
            "grid_auto_flow": null,
            "grid_area": null,
            "grid_template_columns": null,
            "flex": null,
            "_model_name": "LayoutModel",
            "justify_items": null,
            "grid_row": null,
            "max_height": null,
            "align_content": null,
            "visibility": null,
            "align_self": null,
            "height": null,
            "min_height": null,
            "padding": null,
            "grid_auto_rows": null,
            "grid_gap": null,
            "max_width": null,
            "order": null,
            "_view_module_version": "1.2.0",
            "grid_template_areas": null,
            "object_position": null,
            "object_fit": null,
            "grid_auto_columns": null,
            "margin": null,
            "display": null,
            "left": null
          }
        },
        "4c1c850f3b4a4666a6bc26c72855fc7c": {
          "model_module": "@jupyter-widgets/controls",
          "model_name": "HBoxModel",
          "state": {
            "_view_name": "HBoxView",
            "_dom_classes": [],
            "_model_name": "HBoxModel",
            "_view_module": "@jupyter-widgets/controls",
            "_model_module_version": "1.5.0",
            "_view_count": null,
            "_view_module_version": "1.5.0",
            "box_style": "",
            "layout": "IPY_MODEL_d4e8a85d1ef54539951b75ab2733d6a4",
            "_model_module": "@jupyter-widgets/controls",
            "children": [
              "IPY_MODEL_b9ceac53d6004a27aeeca9f15ddc12a5",
              "IPY_MODEL_0512ccd1252548ba8a095caea567111c"
            ]
          }
        },
        "d4e8a85d1ef54539951b75ab2733d6a4": {
          "model_module": "@jupyter-widgets/base",
          "model_name": "LayoutModel",
          "state": {
            "_view_name": "LayoutView",
            "grid_template_rows": null,
            "right": null,
            "justify_content": null,
            "_view_module": "@jupyter-widgets/base",
            "overflow": null,
            "_model_module_version": "1.2.0",
            "_view_count": null,
            "flex_flow": null,
            "width": null,
            "min_width": null,
            "border": null,
            "align_items": null,
            "bottom": null,
            "_model_module": "@jupyter-widgets/base",
            "top": null,
            "grid_column": null,
            "overflow_y": null,
            "overflow_x": null,
            "grid_auto_flow": null,
            "grid_area": null,
            "grid_template_columns": null,
            "flex": null,
            "_model_name": "LayoutModel",
            "justify_items": null,
            "grid_row": null,
            "max_height": null,
            "align_content": null,
            "visibility": null,
            "align_self": null,
            "height": null,
            "min_height": null,
            "padding": null,
            "grid_auto_rows": null,
            "grid_gap": null,
            "max_width": null,
            "order": null,
            "_view_module_version": "1.2.0",
            "grid_template_areas": null,
            "object_position": null,
            "object_fit": null,
            "grid_auto_columns": null,
            "margin": null,
            "display": null,
            "left": null
          }
        },
        "b9ceac53d6004a27aeeca9f15ddc12a5": {
          "model_module": "@jupyter-widgets/controls",
          "model_name": "FloatProgressModel",
          "state": {
            "_view_name": "ProgressView",
            "style": "IPY_MODEL_0523e10bbba546979f7795a4e6f4970b",
            "_dom_classes": [],
            "description": "100%",
            "_model_name": "FloatProgressModel",
            "bar_style": "success",
            "max": 77,
            "_view_module": "@jupyter-widgets/controls",
            "_model_module_version": "1.5.0",
            "value": 77,
            "_view_count": null,
            "_view_module_version": "1.5.0",
            "orientation": "horizontal",
            "min": 0,
            "description_tooltip": null,
            "_model_module": "@jupyter-widgets/controls",
            "layout": "IPY_MODEL_68e18e3ce67747d58a8161265e9af5ac"
          }
        },
        "0512ccd1252548ba8a095caea567111c": {
          "model_module": "@jupyter-widgets/controls",
          "model_name": "HTMLModel",
          "state": {
            "_view_name": "HTMLView",
            "style": "IPY_MODEL_37a8aea18ae14b63a7a0d0db6ea58615",
            "_dom_classes": [],
            "description": "",
            "_model_name": "HTMLModel",
            "placeholder": "​",
            "_view_module": "@jupyter-widgets/controls",
            "_model_module_version": "1.5.0",
            "value": " 77/77 [03:20&lt;00:00,  2.61s/it]",
            "_view_count": null,
            "_view_module_version": "1.5.0",
            "description_tooltip": null,
            "_model_module": "@jupyter-widgets/controls",
            "layout": "IPY_MODEL_3d8394f5395143f2905396a05789caa3"
          }
        },
        "0523e10bbba546979f7795a4e6f4970b": {
          "model_module": "@jupyter-widgets/controls",
          "model_name": "ProgressStyleModel",
          "state": {
            "_view_name": "StyleView",
            "_model_name": "ProgressStyleModel",
            "description_width": "initial",
            "_view_module": "@jupyter-widgets/base",
            "_model_module_version": "1.5.0",
            "_view_count": null,
            "_view_module_version": "1.2.0",
            "bar_color": null,
            "_model_module": "@jupyter-widgets/controls"
          }
        },
        "68e18e3ce67747d58a8161265e9af5ac": {
          "model_module": "@jupyter-widgets/base",
          "model_name": "LayoutModel",
          "state": {
            "_view_name": "LayoutView",
            "grid_template_rows": null,
            "right": null,
            "justify_content": null,
            "_view_module": "@jupyter-widgets/base",
            "overflow": null,
            "_model_module_version": "1.2.0",
            "_view_count": null,
            "flex_flow": null,
            "width": null,
            "min_width": null,
            "border": null,
            "align_items": null,
            "bottom": null,
            "_model_module": "@jupyter-widgets/base",
            "top": null,
            "grid_column": null,
            "overflow_y": null,
            "overflow_x": null,
            "grid_auto_flow": null,
            "grid_area": null,
            "grid_template_columns": null,
            "flex": null,
            "_model_name": "LayoutModel",
            "justify_items": null,
            "grid_row": null,
            "max_height": null,
            "align_content": null,
            "visibility": null,
            "align_self": null,
            "height": null,
            "min_height": null,
            "padding": null,
            "grid_auto_rows": null,
            "grid_gap": null,
            "max_width": null,
            "order": null,
            "_view_module_version": "1.2.0",
            "grid_template_areas": null,
            "object_position": null,
            "object_fit": null,
            "grid_auto_columns": null,
            "margin": null,
            "display": null,
            "left": null
          }
        },
        "37a8aea18ae14b63a7a0d0db6ea58615": {
          "model_module": "@jupyter-widgets/controls",
          "model_name": "DescriptionStyleModel",
          "state": {
            "_view_name": "StyleView",
            "_model_name": "DescriptionStyleModel",
            "description_width": "",
            "_view_module": "@jupyter-widgets/base",
            "_model_module_version": "1.5.0",
            "_view_count": null,
            "_view_module_version": "1.2.0",
            "_model_module": "@jupyter-widgets/controls"
          }
        },
        "3d8394f5395143f2905396a05789caa3": {
          "model_module": "@jupyter-widgets/base",
          "model_name": "LayoutModel",
          "state": {
            "_view_name": "LayoutView",
            "grid_template_rows": null,
            "right": null,
            "justify_content": null,
            "_view_module": "@jupyter-widgets/base",
            "overflow": null,
            "_model_module_version": "1.2.0",
            "_view_count": null,
            "flex_flow": null,
            "width": null,
            "min_width": null,
            "border": null,
            "align_items": null,
            "bottom": null,
            "_model_module": "@jupyter-widgets/base",
            "top": null,
            "grid_column": null,
            "overflow_y": null,
            "overflow_x": null,
            "grid_auto_flow": null,
            "grid_area": null,
            "grid_template_columns": null,
            "flex": null,
            "_model_name": "LayoutModel",
            "justify_items": null,
            "grid_row": null,
            "max_height": null,
            "align_content": null,
            "visibility": null,
            "align_self": null,
            "height": null,
            "min_height": null,
            "padding": null,
            "grid_auto_rows": null,
            "grid_gap": null,
            "max_width": null,
            "order": null,
            "_view_module_version": "1.2.0",
            "grid_template_areas": null,
            "object_position": null,
            "object_fit": null,
            "grid_auto_columns": null,
            "margin": null,
            "display": null,
            "left": null
          }
        }
      }
    }
  },
  "cells": [
    {
      "cell_type": "code",
      "metadata": {
        "colab": {
          "base_uri": "https://localhost:8080/"
        },
        "id": "F0yZthZrtyDT",
        "outputId": "0be1bd99-83a7-443d-e328-063a9131c3f6"
      },
      "source": [
        " !pip install transformers\n",
        "!pip install datasets"
      ],
      "execution_count": null,
      "outputs": [
        {
          "output_type": "stream",
          "text": [
            "Requirement already satisfied: transformers in /usr/local/lib/python3.7/dist-packages (4.6.1)\n",
            "Requirement already satisfied: packaging in /usr/local/lib/python3.7/dist-packages (from transformers) (20.9)\n",
            "Requirement already satisfied: tokenizers<0.11,>=0.10.1 in /usr/local/lib/python3.7/dist-packages (from transformers) (0.10.3)\n",
            "Requirement already satisfied: regex!=2019.12.17 in /usr/local/lib/python3.7/dist-packages (from transformers) (2019.12.20)\n",
            "Requirement already satisfied: requests in /usr/local/lib/python3.7/dist-packages (from transformers) (2.23.0)\n",
            "Requirement already satisfied: sacremoses in /usr/local/lib/python3.7/dist-packages (from transformers) (0.0.45)\n",
            "Requirement already satisfied: huggingface-hub==0.0.8 in /usr/local/lib/python3.7/dist-packages (from transformers) (0.0.8)\n",
            "Requirement already satisfied: importlib-metadata; python_version < \"3.8\" in /usr/local/lib/python3.7/dist-packages (from transformers) (4.0.1)\n",
            "Requirement already satisfied: numpy>=1.17 in /usr/local/lib/python3.7/dist-packages (from transformers) (1.19.5)\n",
            "Requirement already satisfied: filelock in /usr/local/lib/python3.7/dist-packages (from transformers) (3.0.12)\n",
            "Requirement already satisfied: tqdm>=4.27 in /usr/local/lib/python3.7/dist-packages (from transformers) (4.41.1)\n",
            "Requirement already satisfied: pyparsing>=2.0.2 in /usr/local/lib/python3.7/dist-packages (from packaging->transformers) (2.4.7)\n",
            "Requirement already satisfied: chardet<4,>=3.0.2 in /usr/local/lib/python3.7/dist-packages (from requests->transformers) (3.0.4)\n",
            "Requirement already satisfied: certifi>=2017.4.17 in /usr/local/lib/python3.7/dist-packages (from requests->transformers) (2020.12.5)\n",
            "Requirement already satisfied: idna<3,>=2.5 in /usr/local/lib/python3.7/dist-packages (from requests->transformers) (2.10)\n",
            "Requirement already satisfied: urllib3!=1.25.0,!=1.25.1,<1.26,>=1.21.1 in /usr/local/lib/python3.7/dist-packages (from requests->transformers) (1.24.3)\n",
            "Requirement already satisfied: click in /usr/local/lib/python3.7/dist-packages (from sacremoses->transformers) (7.1.2)\n",
            "Requirement already satisfied: joblib in /usr/local/lib/python3.7/dist-packages (from sacremoses->transformers) (1.0.1)\n",
            "Requirement already satisfied: six in /usr/local/lib/python3.7/dist-packages (from sacremoses->transformers) (1.15.0)\n",
            "Requirement already satisfied: zipp>=0.5 in /usr/local/lib/python3.7/dist-packages (from importlib-metadata; python_version < \"3.8\"->transformers) (3.4.1)\n",
            "Requirement already satisfied: typing-extensions>=3.6.4; python_version < \"3.8\" in /usr/local/lib/python3.7/dist-packages (from importlib-metadata; python_version < \"3.8\"->transformers) (3.7.4.3)\n",
            "Requirement already satisfied: datasets in /usr/local/lib/python3.7/dist-packages (1.7.0)\n",
            "Requirement already satisfied: numpy>=1.17 in /usr/local/lib/python3.7/dist-packages (from datasets) (1.19.5)\n",
            "Requirement already satisfied: tqdm<4.50.0,>=4.27 in /usr/local/lib/python3.7/dist-packages (from datasets) (4.41.1)\n",
            "Requirement already satisfied: requests>=2.19.0 in /usr/local/lib/python3.7/dist-packages (from datasets) (2.23.0)\n",
            "Requirement already satisfied: xxhash in /usr/local/lib/python3.7/dist-packages (from datasets) (2.0.2)\n",
            "Requirement already satisfied: dill in /usr/local/lib/python3.7/dist-packages (from datasets) (0.3.3)\n",
            "Requirement already satisfied: huggingface-hub<0.1.0 in /usr/local/lib/python3.7/dist-packages (from datasets) (0.0.8)\n",
            "Requirement already satisfied: packaging in /usr/local/lib/python3.7/dist-packages (from datasets) (20.9)\n",
            "Requirement already satisfied: importlib-metadata; python_version < \"3.8\" in /usr/local/lib/python3.7/dist-packages (from datasets) (4.0.1)\n",
            "Requirement already satisfied: pandas in /usr/local/lib/python3.7/dist-packages (from datasets) (1.1.5)\n",
            "Requirement already satisfied: fsspec in /usr/local/lib/python3.7/dist-packages (from datasets) (2021.5.0)\n",
            "Requirement already satisfied: multiprocess in /usr/local/lib/python3.7/dist-packages (from datasets) (0.70.11.1)\n",
            "Requirement already satisfied: pyarrow<4.0.0,>=1.0.0 in /usr/local/lib/python3.7/dist-packages (from datasets) (3.0.0)\n",
            "Requirement already satisfied: chardet<4,>=3.0.2 in /usr/local/lib/python3.7/dist-packages (from requests>=2.19.0->datasets) (3.0.4)\n",
            "Requirement already satisfied: idna<3,>=2.5 in /usr/local/lib/python3.7/dist-packages (from requests>=2.19.0->datasets) (2.10)\n",
            "Requirement already satisfied: certifi>=2017.4.17 in /usr/local/lib/python3.7/dist-packages (from requests>=2.19.0->datasets) (2020.12.5)\n",
            "Requirement already satisfied: urllib3!=1.25.0,!=1.25.1,<1.26,>=1.21.1 in /usr/local/lib/python3.7/dist-packages (from requests>=2.19.0->datasets) (1.24.3)\n",
            "Requirement already satisfied: filelock in /usr/local/lib/python3.7/dist-packages (from huggingface-hub<0.1.0->datasets) (3.0.12)\n",
            "Requirement already satisfied: pyparsing>=2.0.2 in /usr/local/lib/python3.7/dist-packages (from packaging->datasets) (2.4.7)\n",
            "Requirement already satisfied: zipp>=0.5 in /usr/local/lib/python3.7/dist-packages (from importlib-metadata; python_version < \"3.8\"->datasets) (3.4.1)\n",
            "Requirement already satisfied: typing-extensions>=3.6.4; python_version < \"3.8\" in /usr/local/lib/python3.7/dist-packages (from importlib-metadata; python_version < \"3.8\"->datasets) (3.7.4.3)\n",
            "Requirement already satisfied: python-dateutil>=2.7.3 in /usr/local/lib/python3.7/dist-packages (from pandas->datasets) (2.8.1)\n",
            "Requirement already satisfied: pytz>=2017.2 in /usr/local/lib/python3.7/dist-packages (from pandas->datasets) (2018.9)\n",
            "Requirement already satisfied: six>=1.5 in /usr/local/lib/python3.7/dist-packages (from python-dateutil>=2.7.3->pandas->datasets) (1.15.0)\n"
          ],
          "name": "stdout"
        }
      ]
    },
    {
      "cell_type": "code",
      "metadata": {
        "colab": {
          "base_uri": "https://localhost:8080/"
        },
        "id": "VfNS74aDtruu",
        "outputId": "11d0bacd-b6cb-4e05-b295-610a20c6fa94"
      },
      "source": [
        "from transformers import AutoTokenizer, AutoModelWithLMHead\n",
        "  \n",
        "tokenizer = AutoTokenizer.from_pretrained(\"t5-base\")\n",
        "  \n",
        "model = AutoModelWithLMHead.from_pretrained(\"t5-base\")"
      ],
      "execution_count": null,
      "outputs": [
        {
          "output_type": "stream",
          "text": [
            "/usr/local/lib/python3.7/dist-packages/transformers/models/auto/modeling_auto.py:810: FutureWarning: The class `AutoModelWithLMHead` is deprecated and will be removed in a future version. Please use `AutoModelForCausalLM` for causal language models, `AutoModelForMaskedLM` for masked language models and `AutoModelForSeq2SeqLM` for encoder-decoder models.\n",
            "  FutureWarning,\n"
          ],
          "name": "stderr"
        }
      ]
    },
    {
      "cell_type": "code",
      "metadata": {
        "id": "goq9qeA-NpXT",
        "colab": {
          "base_uri": "https://localhost:8080/"
        },
        "outputId": "02fe8f22-9f7e-4a23-ab91-f177af8477d4"
      },
      "source": [
        "model.cuda()"
      ],
      "execution_count": null,
      "outputs": [
        {
          "output_type": "execute_result",
          "data": {
            "text/plain": [
              "T5ForConditionalGeneration(\n",
              "  (shared): Embedding(32128, 768)\n",
              "  (encoder): T5Stack(\n",
              "    (embed_tokens): Embedding(32128, 768)\n",
              "    (block): ModuleList(\n",
              "      (0): T5Block(\n",
              "        (layer): ModuleList(\n",
              "          (0): T5LayerSelfAttention(\n",
              "            (SelfAttention): T5Attention(\n",
              "              (q): Linear(in_features=768, out_features=768, bias=False)\n",
              "              (k): Linear(in_features=768, out_features=768, bias=False)\n",
              "              (v): Linear(in_features=768, out_features=768, bias=False)\n",
              "              (o): Linear(in_features=768, out_features=768, bias=False)\n",
              "              (relative_attention_bias): Embedding(32, 12)\n",
              "            )\n",
              "            (layer_norm): T5LayerNorm()\n",
              "            (dropout): Dropout(p=0.1, inplace=False)\n",
              "          )\n",
              "          (1): T5LayerFF(\n",
              "            (DenseReluDense): T5DenseReluDense(\n",
              "              (wi): Linear(in_features=768, out_features=3072, bias=False)\n",
              "              (wo): Linear(in_features=3072, out_features=768, bias=False)\n",
              "              (dropout): Dropout(p=0.1, inplace=False)\n",
              "            )\n",
              "            (layer_norm): T5LayerNorm()\n",
              "            (dropout): Dropout(p=0.1, inplace=False)\n",
              "          )\n",
              "        )\n",
              "      )\n",
              "      (1): T5Block(\n",
              "        (layer): ModuleList(\n",
              "          (0): T5LayerSelfAttention(\n",
              "            (SelfAttention): T5Attention(\n",
              "              (q): Linear(in_features=768, out_features=768, bias=False)\n",
              "              (k): Linear(in_features=768, out_features=768, bias=False)\n",
              "              (v): Linear(in_features=768, out_features=768, bias=False)\n",
              "              (o): Linear(in_features=768, out_features=768, bias=False)\n",
              "            )\n",
              "            (layer_norm): T5LayerNorm()\n",
              "            (dropout): Dropout(p=0.1, inplace=False)\n",
              "          )\n",
              "          (1): T5LayerFF(\n",
              "            (DenseReluDense): T5DenseReluDense(\n",
              "              (wi): Linear(in_features=768, out_features=3072, bias=False)\n",
              "              (wo): Linear(in_features=3072, out_features=768, bias=False)\n",
              "              (dropout): Dropout(p=0.1, inplace=False)\n",
              "            )\n",
              "            (layer_norm): T5LayerNorm()\n",
              "            (dropout): Dropout(p=0.1, inplace=False)\n",
              "          )\n",
              "        )\n",
              "      )\n",
              "      (2): T5Block(\n",
              "        (layer): ModuleList(\n",
              "          (0): T5LayerSelfAttention(\n",
              "            (SelfAttention): T5Attention(\n",
              "              (q): Linear(in_features=768, out_features=768, bias=False)\n",
              "              (k): Linear(in_features=768, out_features=768, bias=False)\n",
              "              (v): Linear(in_features=768, out_features=768, bias=False)\n",
              "              (o): Linear(in_features=768, out_features=768, bias=False)\n",
              "            )\n",
              "            (layer_norm): T5LayerNorm()\n",
              "            (dropout): Dropout(p=0.1, inplace=False)\n",
              "          )\n",
              "          (1): T5LayerFF(\n",
              "            (DenseReluDense): T5DenseReluDense(\n",
              "              (wi): Linear(in_features=768, out_features=3072, bias=False)\n",
              "              (wo): Linear(in_features=3072, out_features=768, bias=False)\n",
              "              (dropout): Dropout(p=0.1, inplace=False)\n",
              "            )\n",
              "            (layer_norm): T5LayerNorm()\n",
              "            (dropout): Dropout(p=0.1, inplace=False)\n",
              "          )\n",
              "        )\n",
              "      )\n",
              "      (3): T5Block(\n",
              "        (layer): ModuleList(\n",
              "          (0): T5LayerSelfAttention(\n",
              "            (SelfAttention): T5Attention(\n",
              "              (q): Linear(in_features=768, out_features=768, bias=False)\n",
              "              (k): Linear(in_features=768, out_features=768, bias=False)\n",
              "              (v): Linear(in_features=768, out_features=768, bias=False)\n",
              "              (o): Linear(in_features=768, out_features=768, bias=False)\n",
              "            )\n",
              "            (layer_norm): T5LayerNorm()\n",
              "            (dropout): Dropout(p=0.1, inplace=False)\n",
              "          )\n",
              "          (1): T5LayerFF(\n",
              "            (DenseReluDense): T5DenseReluDense(\n",
              "              (wi): Linear(in_features=768, out_features=3072, bias=False)\n",
              "              (wo): Linear(in_features=3072, out_features=768, bias=False)\n",
              "              (dropout): Dropout(p=0.1, inplace=False)\n",
              "            )\n",
              "            (layer_norm): T5LayerNorm()\n",
              "            (dropout): Dropout(p=0.1, inplace=False)\n",
              "          )\n",
              "        )\n",
              "      )\n",
              "      (4): T5Block(\n",
              "        (layer): ModuleList(\n",
              "          (0): T5LayerSelfAttention(\n",
              "            (SelfAttention): T5Attention(\n",
              "              (q): Linear(in_features=768, out_features=768, bias=False)\n",
              "              (k): Linear(in_features=768, out_features=768, bias=False)\n",
              "              (v): Linear(in_features=768, out_features=768, bias=False)\n",
              "              (o): Linear(in_features=768, out_features=768, bias=False)\n",
              "            )\n",
              "            (layer_norm): T5LayerNorm()\n",
              "            (dropout): Dropout(p=0.1, inplace=False)\n",
              "          )\n",
              "          (1): T5LayerFF(\n",
              "            (DenseReluDense): T5DenseReluDense(\n",
              "              (wi): Linear(in_features=768, out_features=3072, bias=False)\n",
              "              (wo): Linear(in_features=3072, out_features=768, bias=False)\n",
              "              (dropout): Dropout(p=0.1, inplace=False)\n",
              "            )\n",
              "            (layer_norm): T5LayerNorm()\n",
              "            (dropout): Dropout(p=0.1, inplace=False)\n",
              "          )\n",
              "        )\n",
              "      )\n",
              "      (5): T5Block(\n",
              "        (layer): ModuleList(\n",
              "          (0): T5LayerSelfAttention(\n",
              "            (SelfAttention): T5Attention(\n",
              "              (q): Linear(in_features=768, out_features=768, bias=False)\n",
              "              (k): Linear(in_features=768, out_features=768, bias=False)\n",
              "              (v): Linear(in_features=768, out_features=768, bias=False)\n",
              "              (o): Linear(in_features=768, out_features=768, bias=False)\n",
              "            )\n",
              "            (layer_norm): T5LayerNorm()\n",
              "            (dropout): Dropout(p=0.1, inplace=False)\n",
              "          )\n",
              "          (1): T5LayerFF(\n",
              "            (DenseReluDense): T5DenseReluDense(\n",
              "              (wi): Linear(in_features=768, out_features=3072, bias=False)\n",
              "              (wo): Linear(in_features=3072, out_features=768, bias=False)\n",
              "              (dropout): Dropout(p=0.1, inplace=False)\n",
              "            )\n",
              "            (layer_norm): T5LayerNorm()\n",
              "            (dropout): Dropout(p=0.1, inplace=False)\n",
              "          )\n",
              "        )\n",
              "      )\n",
              "      (6): T5Block(\n",
              "        (layer): ModuleList(\n",
              "          (0): T5LayerSelfAttention(\n",
              "            (SelfAttention): T5Attention(\n",
              "              (q): Linear(in_features=768, out_features=768, bias=False)\n",
              "              (k): Linear(in_features=768, out_features=768, bias=False)\n",
              "              (v): Linear(in_features=768, out_features=768, bias=False)\n",
              "              (o): Linear(in_features=768, out_features=768, bias=False)\n",
              "            )\n",
              "            (layer_norm): T5LayerNorm()\n",
              "            (dropout): Dropout(p=0.1, inplace=False)\n",
              "          )\n",
              "          (1): T5LayerFF(\n",
              "            (DenseReluDense): T5DenseReluDense(\n",
              "              (wi): Linear(in_features=768, out_features=3072, bias=False)\n",
              "              (wo): Linear(in_features=3072, out_features=768, bias=False)\n",
              "              (dropout): Dropout(p=0.1, inplace=False)\n",
              "            )\n",
              "            (layer_norm): T5LayerNorm()\n",
              "            (dropout): Dropout(p=0.1, inplace=False)\n",
              "          )\n",
              "        )\n",
              "      )\n",
              "      (7): T5Block(\n",
              "        (layer): ModuleList(\n",
              "          (0): T5LayerSelfAttention(\n",
              "            (SelfAttention): T5Attention(\n",
              "              (q): Linear(in_features=768, out_features=768, bias=False)\n",
              "              (k): Linear(in_features=768, out_features=768, bias=False)\n",
              "              (v): Linear(in_features=768, out_features=768, bias=False)\n",
              "              (o): Linear(in_features=768, out_features=768, bias=False)\n",
              "            )\n",
              "            (layer_norm): T5LayerNorm()\n",
              "            (dropout): Dropout(p=0.1, inplace=False)\n",
              "          )\n",
              "          (1): T5LayerFF(\n",
              "            (DenseReluDense): T5DenseReluDense(\n",
              "              (wi): Linear(in_features=768, out_features=3072, bias=False)\n",
              "              (wo): Linear(in_features=3072, out_features=768, bias=False)\n",
              "              (dropout): Dropout(p=0.1, inplace=False)\n",
              "            )\n",
              "            (layer_norm): T5LayerNorm()\n",
              "            (dropout): Dropout(p=0.1, inplace=False)\n",
              "          )\n",
              "        )\n",
              "      )\n",
              "      (8): T5Block(\n",
              "        (layer): ModuleList(\n",
              "          (0): T5LayerSelfAttention(\n",
              "            (SelfAttention): T5Attention(\n",
              "              (q): Linear(in_features=768, out_features=768, bias=False)\n",
              "              (k): Linear(in_features=768, out_features=768, bias=False)\n",
              "              (v): Linear(in_features=768, out_features=768, bias=False)\n",
              "              (o): Linear(in_features=768, out_features=768, bias=False)\n",
              "            )\n",
              "            (layer_norm): T5LayerNorm()\n",
              "            (dropout): Dropout(p=0.1, inplace=False)\n",
              "          )\n",
              "          (1): T5LayerFF(\n",
              "            (DenseReluDense): T5DenseReluDense(\n",
              "              (wi): Linear(in_features=768, out_features=3072, bias=False)\n",
              "              (wo): Linear(in_features=3072, out_features=768, bias=False)\n",
              "              (dropout): Dropout(p=0.1, inplace=False)\n",
              "            )\n",
              "            (layer_norm): T5LayerNorm()\n",
              "            (dropout): Dropout(p=0.1, inplace=False)\n",
              "          )\n",
              "        )\n",
              "      )\n",
              "      (9): T5Block(\n",
              "        (layer): ModuleList(\n",
              "          (0): T5LayerSelfAttention(\n",
              "            (SelfAttention): T5Attention(\n",
              "              (q): Linear(in_features=768, out_features=768, bias=False)\n",
              "              (k): Linear(in_features=768, out_features=768, bias=False)\n",
              "              (v): Linear(in_features=768, out_features=768, bias=False)\n",
              "              (o): Linear(in_features=768, out_features=768, bias=False)\n",
              "            )\n",
              "            (layer_norm): T5LayerNorm()\n",
              "            (dropout): Dropout(p=0.1, inplace=False)\n",
              "          )\n",
              "          (1): T5LayerFF(\n",
              "            (DenseReluDense): T5DenseReluDense(\n",
              "              (wi): Linear(in_features=768, out_features=3072, bias=False)\n",
              "              (wo): Linear(in_features=3072, out_features=768, bias=False)\n",
              "              (dropout): Dropout(p=0.1, inplace=False)\n",
              "            )\n",
              "            (layer_norm): T5LayerNorm()\n",
              "            (dropout): Dropout(p=0.1, inplace=False)\n",
              "          )\n",
              "        )\n",
              "      )\n",
              "      (10): T5Block(\n",
              "        (layer): ModuleList(\n",
              "          (0): T5LayerSelfAttention(\n",
              "            (SelfAttention): T5Attention(\n",
              "              (q): Linear(in_features=768, out_features=768, bias=False)\n",
              "              (k): Linear(in_features=768, out_features=768, bias=False)\n",
              "              (v): Linear(in_features=768, out_features=768, bias=False)\n",
              "              (o): Linear(in_features=768, out_features=768, bias=False)\n",
              "            )\n",
              "            (layer_norm): T5LayerNorm()\n",
              "            (dropout): Dropout(p=0.1, inplace=False)\n",
              "          )\n",
              "          (1): T5LayerFF(\n",
              "            (DenseReluDense): T5DenseReluDense(\n",
              "              (wi): Linear(in_features=768, out_features=3072, bias=False)\n",
              "              (wo): Linear(in_features=3072, out_features=768, bias=False)\n",
              "              (dropout): Dropout(p=0.1, inplace=False)\n",
              "            )\n",
              "            (layer_norm): T5LayerNorm()\n",
              "            (dropout): Dropout(p=0.1, inplace=False)\n",
              "          )\n",
              "        )\n",
              "      )\n",
              "      (11): T5Block(\n",
              "        (layer): ModuleList(\n",
              "          (0): T5LayerSelfAttention(\n",
              "            (SelfAttention): T5Attention(\n",
              "              (q): Linear(in_features=768, out_features=768, bias=False)\n",
              "              (k): Linear(in_features=768, out_features=768, bias=False)\n",
              "              (v): Linear(in_features=768, out_features=768, bias=False)\n",
              "              (o): Linear(in_features=768, out_features=768, bias=False)\n",
              "            )\n",
              "            (layer_norm): T5LayerNorm()\n",
              "            (dropout): Dropout(p=0.1, inplace=False)\n",
              "          )\n",
              "          (1): T5LayerFF(\n",
              "            (DenseReluDense): T5DenseReluDense(\n",
              "              (wi): Linear(in_features=768, out_features=3072, bias=False)\n",
              "              (wo): Linear(in_features=3072, out_features=768, bias=False)\n",
              "              (dropout): Dropout(p=0.1, inplace=False)\n",
              "            )\n",
              "            (layer_norm): T5LayerNorm()\n",
              "            (dropout): Dropout(p=0.1, inplace=False)\n",
              "          )\n",
              "        )\n",
              "      )\n",
              "    )\n",
              "    (final_layer_norm): T5LayerNorm()\n",
              "    (dropout): Dropout(p=0.1, inplace=False)\n",
              "  )\n",
              "  (decoder): T5Stack(\n",
              "    (embed_tokens): Embedding(32128, 768)\n",
              "    (block): ModuleList(\n",
              "      (0): T5Block(\n",
              "        (layer): ModuleList(\n",
              "          (0): T5LayerSelfAttention(\n",
              "            (SelfAttention): T5Attention(\n",
              "              (q): Linear(in_features=768, out_features=768, bias=False)\n",
              "              (k): Linear(in_features=768, out_features=768, bias=False)\n",
              "              (v): Linear(in_features=768, out_features=768, bias=False)\n",
              "              (o): Linear(in_features=768, out_features=768, bias=False)\n",
              "              (relative_attention_bias): Embedding(32, 12)\n",
              "            )\n",
              "            (layer_norm): T5LayerNorm()\n",
              "            (dropout): Dropout(p=0.1, inplace=False)\n",
              "          )\n",
              "          (1): T5LayerCrossAttention(\n",
              "            (EncDecAttention): T5Attention(\n",
              "              (q): Linear(in_features=768, out_features=768, bias=False)\n",
              "              (k): Linear(in_features=768, out_features=768, bias=False)\n",
              "              (v): Linear(in_features=768, out_features=768, bias=False)\n",
              "              (o): Linear(in_features=768, out_features=768, bias=False)\n",
              "            )\n",
              "            (layer_norm): T5LayerNorm()\n",
              "            (dropout): Dropout(p=0.1, inplace=False)\n",
              "          )\n",
              "          (2): T5LayerFF(\n",
              "            (DenseReluDense): T5DenseReluDense(\n",
              "              (wi): Linear(in_features=768, out_features=3072, bias=False)\n",
              "              (wo): Linear(in_features=3072, out_features=768, bias=False)\n",
              "              (dropout): Dropout(p=0.1, inplace=False)\n",
              "            )\n",
              "            (layer_norm): T5LayerNorm()\n",
              "            (dropout): Dropout(p=0.1, inplace=False)\n",
              "          )\n",
              "        )\n",
              "      )\n",
              "      (1): T5Block(\n",
              "        (layer): ModuleList(\n",
              "          (0): T5LayerSelfAttention(\n",
              "            (SelfAttention): T5Attention(\n",
              "              (q): Linear(in_features=768, out_features=768, bias=False)\n",
              "              (k): Linear(in_features=768, out_features=768, bias=False)\n",
              "              (v): Linear(in_features=768, out_features=768, bias=False)\n",
              "              (o): Linear(in_features=768, out_features=768, bias=False)\n",
              "            )\n",
              "            (layer_norm): T5LayerNorm()\n",
              "            (dropout): Dropout(p=0.1, inplace=False)\n",
              "          )\n",
              "          (1): T5LayerCrossAttention(\n",
              "            (EncDecAttention): T5Attention(\n",
              "              (q): Linear(in_features=768, out_features=768, bias=False)\n",
              "              (k): Linear(in_features=768, out_features=768, bias=False)\n",
              "              (v): Linear(in_features=768, out_features=768, bias=False)\n",
              "              (o): Linear(in_features=768, out_features=768, bias=False)\n",
              "            )\n",
              "            (layer_norm): T5LayerNorm()\n",
              "            (dropout): Dropout(p=0.1, inplace=False)\n",
              "          )\n",
              "          (2): T5LayerFF(\n",
              "            (DenseReluDense): T5DenseReluDense(\n",
              "              (wi): Linear(in_features=768, out_features=3072, bias=False)\n",
              "              (wo): Linear(in_features=3072, out_features=768, bias=False)\n",
              "              (dropout): Dropout(p=0.1, inplace=False)\n",
              "            )\n",
              "            (layer_norm): T5LayerNorm()\n",
              "            (dropout): Dropout(p=0.1, inplace=False)\n",
              "          )\n",
              "        )\n",
              "      )\n",
              "      (2): T5Block(\n",
              "        (layer): ModuleList(\n",
              "          (0): T5LayerSelfAttention(\n",
              "            (SelfAttention): T5Attention(\n",
              "              (q): Linear(in_features=768, out_features=768, bias=False)\n",
              "              (k): Linear(in_features=768, out_features=768, bias=False)\n",
              "              (v): Linear(in_features=768, out_features=768, bias=False)\n",
              "              (o): Linear(in_features=768, out_features=768, bias=False)\n",
              "            )\n",
              "            (layer_norm): T5LayerNorm()\n",
              "            (dropout): Dropout(p=0.1, inplace=False)\n",
              "          )\n",
              "          (1): T5LayerCrossAttention(\n",
              "            (EncDecAttention): T5Attention(\n",
              "              (q): Linear(in_features=768, out_features=768, bias=False)\n",
              "              (k): Linear(in_features=768, out_features=768, bias=False)\n",
              "              (v): Linear(in_features=768, out_features=768, bias=False)\n",
              "              (o): Linear(in_features=768, out_features=768, bias=False)\n",
              "            )\n",
              "            (layer_norm): T5LayerNorm()\n",
              "            (dropout): Dropout(p=0.1, inplace=False)\n",
              "          )\n",
              "          (2): T5LayerFF(\n",
              "            (DenseReluDense): T5DenseReluDense(\n",
              "              (wi): Linear(in_features=768, out_features=3072, bias=False)\n",
              "              (wo): Linear(in_features=3072, out_features=768, bias=False)\n",
              "              (dropout): Dropout(p=0.1, inplace=False)\n",
              "            )\n",
              "            (layer_norm): T5LayerNorm()\n",
              "            (dropout): Dropout(p=0.1, inplace=False)\n",
              "          )\n",
              "        )\n",
              "      )\n",
              "      (3): T5Block(\n",
              "        (layer): ModuleList(\n",
              "          (0): T5LayerSelfAttention(\n",
              "            (SelfAttention): T5Attention(\n",
              "              (q): Linear(in_features=768, out_features=768, bias=False)\n",
              "              (k): Linear(in_features=768, out_features=768, bias=False)\n",
              "              (v): Linear(in_features=768, out_features=768, bias=False)\n",
              "              (o): Linear(in_features=768, out_features=768, bias=False)\n",
              "            )\n",
              "            (layer_norm): T5LayerNorm()\n",
              "            (dropout): Dropout(p=0.1, inplace=False)\n",
              "          )\n",
              "          (1): T5LayerCrossAttention(\n",
              "            (EncDecAttention): T5Attention(\n",
              "              (q): Linear(in_features=768, out_features=768, bias=False)\n",
              "              (k): Linear(in_features=768, out_features=768, bias=False)\n",
              "              (v): Linear(in_features=768, out_features=768, bias=False)\n",
              "              (o): Linear(in_features=768, out_features=768, bias=False)\n",
              "            )\n",
              "            (layer_norm): T5LayerNorm()\n",
              "            (dropout): Dropout(p=0.1, inplace=False)\n",
              "          )\n",
              "          (2): T5LayerFF(\n",
              "            (DenseReluDense): T5DenseReluDense(\n",
              "              (wi): Linear(in_features=768, out_features=3072, bias=False)\n",
              "              (wo): Linear(in_features=3072, out_features=768, bias=False)\n",
              "              (dropout): Dropout(p=0.1, inplace=False)\n",
              "            )\n",
              "            (layer_norm): T5LayerNorm()\n",
              "            (dropout): Dropout(p=0.1, inplace=False)\n",
              "          )\n",
              "        )\n",
              "      )\n",
              "      (4): T5Block(\n",
              "        (layer): ModuleList(\n",
              "          (0): T5LayerSelfAttention(\n",
              "            (SelfAttention): T5Attention(\n",
              "              (q): Linear(in_features=768, out_features=768, bias=False)\n",
              "              (k): Linear(in_features=768, out_features=768, bias=False)\n",
              "              (v): Linear(in_features=768, out_features=768, bias=False)\n",
              "              (o): Linear(in_features=768, out_features=768, bias=False)\n",
              "            )\n",
              "            (layer_norm): T5LayerNorm()\n",
              "            (dropout): Dropout(p=0.1, inplace=False)\n",
              "          )\n",
              "          (1): T5LayerCrossAttention(\n",
              "            (EncDecAttention): T5Attention(\n",
              "              (q): Linear(in_features=768, out_features=768, bias=False)\n",
              "              (k): Linear(in_features=768, out_features=768, bias=False)\n",
              "              (v): Linear(in_features=768, out_features=768, bias=False)\n",
              "              (o): Linear(in_features=768, out_features=768, bias=False)\n",
              "            )\n",
              "            (layer_norm): T5LayerNorm()\n",
              "            (dropout): Dropout(p=0.1, inplace=False)\n",
              "          )\n",
              "          (2): T5LayerFF(\n",
              "            (DenseReluDense): T5DenseReluDense(\n",
              "              (wi): Linear(in_features=768, out_features=3072, bias=False)\n",
              "              (wo): Linear(in_features=3072, out_features=768, bias=False)\n",
              "              (dropout): Dropout(p=0.1, inplace=False)\n",
              "            )\n",
              "            (layer_norm): T5LayerNorm()\n",
              "            (dropout): Dropout(p=0.1, inplace=False)\n",
              "          )\n",
              "        )\n",
              "      )\n",
              "      (5): T5Block(\n",
              "        (layer): ModuleList(\n",
              "          (0): T5LayerSelfAttention(\n",
              "            (SelfAttention): T5Attention(\n",
              "              (q): Linear(in_features=768, out_features=768, bias=False)\n",
              "              (k): Linear(in_features=768, out_features=768, bias=False)\n",
              "              (v): Linear(in_features=768, out_features=768, bias=False)\n",
              "              (o): Linear(in_features=768, out_features=768, bias=False)\n",
              "            )\n",
              "            (layer_norm): T5LayerNorm()\n",
              "            (dropout): Dropout(p=0.1, inplace=False)\n",
              "          )\n",
              "          (1): T5LayerCrossAttention(\n",
              "            (EncDecAttention): T5Attention(\n",
              "              (q): Linear(in_features=768, out_features=768, bias=False)\n",
              "              (k): Linear(in_features=768, out_features=768, bias=False)\n",
              "              (v): Linear(in_features=768, out_features=768, bias=False)\n",
              "              (o): Linear(in_features=768, out_features=768, bias=False)\n",
              "            )\n",
              "            (layer_norm): T5LayerNorm()\n",
              "            (dropout): Dropout(p=0.1, inplace=False)\n",
              "          )\n",
              "          (2): T5LayerFF(\n",
              "            (DenseReluDense): T5DenseReluDense(\n",
              "              (wi): Linear(in_features=768, out_features=3072, bias=False)\n",
              "              (wo): Linear(in_features=3072, out_features=768, bias=False)\n",
              "              (dropout): Dropout(p=0.1, inplace=False)\n",
              "            )\n",
              "            (layer_norm): T5LayerNorm()\n",
              "            (dropout): Dropout(p=0.1, inplace=False)\n",
              "          )\n",
              "        )\n",
              "      )\n",
              "      (6): T5Block(\n",
              "        (layer): ModuleList(\n",
              "          (0): T5LayerSelfAttention(\n",
              "            (SelfAttention): T5Attention(\n",
              "              (q): Linear(in_features=768, out_features=768, bias=False)\n",
              "              (k): Linear(in_features=768, out_features=768, bias=False)\n",
              "              (v): Linear(in_features=768, out_features=768, bias=False)\n",
              "              (o): Linear(in_features=768, out_features=768, bias=False)\n",
              "            )\n",
              "            (layer_norm): T5LayerNorm()\n",
              "            (dropout): Dropout(p=0.1, inplace=False)\n",
              "          )\n",
              "          (1): T5LayerCrossAttention(\n",
              "            (EncDecAttention): T5Attention(\n",
              "              (q): Linear(in_features=768, out_features=768, bias=False)\n",
              "              (k): Linear(in_features=768, out_features=768, bias=False)\n",
              "              (v): Linear(in_features=768, out_features=768, bias=False)\n",
              "              (o): Linear(in_features=768, out_features=768, bias=False)\n",
              "            )\n",
              "            (layer_norm): T5LayerNorm()\n",
              "            (dropout): Dropout(p=0.1, inplace=False)\n",
              "          )\n",
              "          (2): T5LayerFF(\n",
              "            (DenseReluDense): T5DenseReluDense(\n",
              "              (wi): Linear(in_features=768, out_features=3072, bias=False)\n",
              "              (wo): Linear(in_features=3072, out_features=768, bias=False)\n",
              "              (dropout): Dropout(p=0.1, inplace=False)\n",
              "            )\n",
              "            (layer_norm): T5LayerNorm()\n",
              "            (dropout): Dropout(p=0.1, inplace=False)\n",
              "          )\n",
              "        )\n",
              "      )\n",
              "      (7): T5Block(\n",
              "        (layer): ModuleList(\n",
              "          (0): T5LayerSelfAttention(\n",
              "            (SelfAttention): T5Attention(\n",
              "              (q): Linear(in_features=768, out_features=768, bias=False)\n",
              "              (k): Linear(in_features=768, out_features=768, bias=False)\n",
              "              (v): Linear(in_features=768, out_features=768, bias=False)\n",
              "              (o): Linear(in_features=768, out_features=768, bias=False)\n",
              "            )\n",
              "            (layer_norm): T5LayerNorm()\n",
              "            (dropout): Dropout(p=0.1, inplace=False)\n",
              "          )\n",
              "          (1): T5LayerCrossAttention(\n",
              "            (EncDecAttention): T5Attention(\n",
              "              (q): Linear(in_features=768, out_features=768, bias=False)\n",
              "              (k): Linear(in_features=768, out_features=768, bias=False)\n",
              "              (v): Linear(in_features=768, out_features=768, bias=False)\n",
              "              (o): Linear(in_features=768, out_features=768, bias=False)\n",
              "            )\n",
              "            (layer_norm): T5LayerNorm()\n",
              "            (dropout): Dropout(p=0.1, inplace=False)\n",
              "          )\n",
              "          (2): T5LayerFF(\n",
              "            (DenseReluDense): T5DenseReluDense(\n",
              "              (wi): Linear(in_features=768, out_features=3072, bias=False)\n",
              "              (wo): Linear(in_features=3072, out_features=768, bias=False)\n",
              "              (dropout): Dropout(p=0.1, inplace=False)\n",
              "            )\n",
              "            (layer_norm): T5LayerNorm()\n",
              "            (dropout): Dropout(p=0.1, inplace=False)\n",
              "          )\n",
              "        )\n",
              "      )\n",
              "      (8): T5Block(\n",
              "        (layer): ModuleList(\n",
              "          (0): T5LayerSelfAttention(\n",
              "            (SelfAttention): T5Attention(\n",
              "              (q): Linear(in_features=768, out_features=768, bias=False)\n",
              "              (k): Linear(in_features=768, out_features=768, bias=False)\n",
              "              (v): Linear(in_features=768, out_features=768, bias=False)\n",
              "              (o): Linear(in_features=768, out_features=768, bias=False)\n",
              "            )\n",
              "            (layer_norm): T5LayerNorm()\n",
              "            (dropout): Dropout(p=0.1, inplace=False)\n",
              "          )\n",
              "          (1): T5LayerCrossAttention(\n",
              "            (EncDecAttention): T5Attention(\n",
              "              (q): Linear(in_features=768, out_features=768, bias=False)\n",
              "              (k): Linear(in_features=768, out_features=768, bias=False)\n",
              "              (v): Linear(in_features=768, out_features=768, bias=False)\n",
              "              (o): Linear(in_features=768, out_features=768, bias=False)\n",
              "            )\n",
              "            (layer_norm): T5LayerNorm()\n",
              "            (dropout): Dropout(p=0.1, inplace=False)\n",
              "          )\n",
              "          (2): T5LayerFF(\n",
              "            (DenseReluDense): T5DenseReluDense(\n",
              "              (wi): Linear(in_features=768, out_features=3072, bias=False)\n",
              "              (wo): Linear(in_features=3072, out_features=768, bias=False)\n",
              "              (dropout): Dropout(p=0.1, inplace=False)\n",
              "            )\n",
              "            (layer_norm): T5LayerNorm()\n",
              "            (dropout): Dropout(p=0.1, inplace=False)\n",
              "          )\n",
              "        )\n",
              "      )\n",
              "      (9): T5Block(\n",
              "        (layer): ModuleList(\n",
              "          (0): T5LayerSelfAttention(\n",
              "            (SelfAttention): T5Attention(\n",
              "              (q): Linear(in_features=768, out_features=768, bias=False)\n",
              "              (k): Linear(in_features=768, out_features=768, bias=False)\n",
              "              (v): Linear(in_features=768, out_features=768, bias=False)\n",
              "              (o): Linear(in_features=768, out_features=768, bias=False)\n",
              "            )\n",
              "            (layer_norm): T5LayerNorm()\n",
              "            (dropout): Dropout(p=0.1, inplace=False)\n",
              "          )\n",
              "          (1): T5LayerCrossAttention(\n",
              "            (EncDecAttention): T5Attention(\n",
              "              (q): Linear(in_features=768, out_features=768, bias=False)\n",
              "              (k): Linear(in_features=768, out_features=768, bias=False)\n",
              "              (v): Linear(in_features=768, out_features=768, bias=False)\n",
              "              (o): Linear(in_features=768, out_features=768, bias=False)\n",
              "            )\n",
              "            (layer_norm): T5LayerNorm()\n",
              "            (dropout): Dropout(p=0.1, inplace=False)\n",
              "          )\n",
              "          (2): T5LayerFF(\n",
              "            (DenseReluDense): T5DenseReluDense(\n",
              "              (wi): Linear(in_features=768, out_features=3072, bias=False)\n",
              "              (wo): Linear(in_features=3072, out_features=768, bias=False)\n",
              "              (dropout): Dropout(p=0.1, inplace=False)\n",
              "            )\n",
              "            (layer_norm): T5LayerNorm()\n",
              "            (dropout): Dropout(p=0.1, inplace=False)\n",
              "          )\n",
              "        )\n",
              "      )\n",
              "      (10): T5Block(\n",
              "        (layer): ModuleList(\n",
              "          (0): T5LayerSelfAttention(\n",
              "            (SelfAttention): T5Attention(\n",
              "              (q): Linear(in_features=768, out_features=768, bias=False)\n",
              "              (k): Linear(in_features=768, out_features=768, bias=False)\n",
              "              (v): Linear(in_features=768, out_features=768, bias=False)\n",
              "              (o): Linear(in_features=768, out_features=768, bias=False)\n",
              "            )\n",
              "            (layer_norm): T5LayerNorm()\n",
              "            (dropout): Dropout(p=0.1, inplace=False)\n",
              "          )\n",
              "          (1): T5LayerCrossAttention(\n",
              "            (EncDecAttention): T5Attention(\n",
              "              (q): Linear(in_features=768, out_features=768, bias=False)\n",
              "              (k): Linear(in_features=768, out_features=768, bias=False)\n",
              "              (v): Linear(in_features=768, out_features=768, bias=False)\n",
              "              (o): Linear(in_features=768, out_features=768, bias=False)\n",
              "            )\n",
              "            (layer_norm): T5LayerNorm()\n",
              "            (dropout): Dropout(p=0.1, inplace=False)\n",
              "          )\n",
              "          (2): T5LayerFF(\n",
              "            (DenseReluDense): T5DenseReluDense(\n",
              "              (wi): Linear(in_features=768, out_features=3072, bias=False)\n",
              "              (wo): Linear(in_features=3072, out_features=768, bias=False)\n",
              "              (dropout): Dropout(p=0.1, inplace=False)\n",
              "            )\n",
              "            (layer_norm): T5LayerNorm()\n",
              "            (dropout): Dropout(p=0.1, inplace=False)\n",
              "          )\n",
              "        )\n",
              "      )\n",
              "      (11): T5Block(\n",
              "        (layer): ModuleList(\n",
              "          (0): T5LayerSelfAttention(\n",
              "            (SelfAttention): T5Attention(\n",
              "              (q): Linear(in_features=768, out_features=768, bias=False)\n",
              "              (k): Linear(in_features=768, out_features=768, bias=False)\n",
              "              (v): Linear(in_features=768, out_features=768, bias=False)\n",
              "              (o): Linear(in_features=768, out_features=768, bias=False)\n",
              "            )\n",
              "            (layer_norm): T5LayerNorm()\n",
              "            (dropout): Dropout(p=0.1, inplace=False)\n",
              "          )\n",
              "          (1): T5LayerCrossAttention(\n",
              "            (EncDecAttention): T5Attention(\n",
              "              (q): Linear(in_features=768, out_features=768, bias=False)\n",
              "              (k): Linear(in_features=768, out_features=768, bias=False)\n",
              "              (v): Linear(in_features=768, out_features=768, bias=False)\n",
              "              (o): Linear(in_features=768, out_features=768, bias=False)\n",
              "            )\n",
              "            (layer_norm): T5LayerNorm()\n",
              "            (dropout): Dropout(p=0.1, inplace=False)\n",
              "          )\n",
              "          (2): T5LayerFF(\n",
              "            (DenseReluDense): T5DenseReluDense(\n",
              "              (wi): Linear(in_features=768, out_features=3072, bias=False)\n",
              "              (wo): Linear(in_features=3072, out_features=768, bias=False)\n",
              "              (dropout): Dropout(p=0.1, inplace=False)\n",
              "            )\n",
              "            (layer_norm): T5LayerNorm()\n",
              "            (dropout): Dropout(p=0.1, inplace=False)\n",
              "          )\n",
              "        )\n",
              "      )\n",
              "    )\n",
              "    (final_layer_norm): T5LayerNorm()\n",
              "    (dropout): Dropout(p=0.1, inplace=False)\n",
              "  )\n",
              "  (lm_head): Linear(in_features=768, out_features=32128, bias=False)\n",
              ")"
            ]
          },
          "metadata": {
            "tags": []
          },
          "execution_count": 3
        }
      ]
    },
    {
      "cell_type": "markdown",
      "metadata": {
        "id": "4vYfzinB5Wm-"
      },
      "source": [
        "# Dataset"
      ]
    },
    {
      "cell_type": "code",
      "metadata": {
        "colab": {
          "base_uri": "https://localhost:8080/",
          "height": 252,
          "referenced_widgets": [
            "47cac84ea146478193c9aab5114dd79a",
            "cd137166664746d497912c77bfc486b2",
            "2440144595d0435abc38c7d248c0995d",
            "22b60ff46b81478b828d044a9e5e260a",
            "8033e94a3d614897ac92cbc534b6fd2f",
            "d2708e76389f4b2396832e1c289a4e90",
            "097d470d02fb45eb98a937efa841b369",
            "a7d6fa5bb2cd47cfa664aa92e99276db",
            "0504c38fb61b470f9c125cc140bb9274",
            "9d52afc4b8854849b55ec147c748d75a",
            "0999f2b8eeb14928b6f9ad59d06e5fc2",
            "9617c4442ec249ee914ec37a2a24f8fa",
            "966ce6bc81c7468cb2b749399bdfb7ac",
            "8396ffe4051f445893ec22341cd3fd6a",
            "8e1bddec7f71407a9dde2c1c498cf2e0",
            "fe438ba824084bda89effb6491bbe7ca",
            "722016d1838f4cac98a958d379cfd1b2",
            "4d57310407d04321a61f25585e471a77",
            "adfce054cfbb417bbae3c5bd130dbf59",
            "2a80512466904afaa65571fe3a9508a2",
            "3542065f83b04ca0ab52eac187002c60",
            "f73c034569c84b57aa4d8dc4e66ed754",
            "2e38a998b6474a18a417e75546ef905f",
            "640f9c54541346e2ad25ecc2f4166e1c",
            "93e6ed89b57d472a87b1e7021d175919",
            "7930477683b14503885b40091382d44c",
            "88870c41358545128a1b59455c4dadda",
            "484c6d6dacee427fb2bd8a48406c9b94",
            "c976694bd73b49b29623861f8e56e414",
            "e39aa78334024001b274ab0be56379b5",
            "5749035ccacf4715a25aac0eb0f970a7",
            "4981dd22d7f04a6d8f626862a9f15a3e",
            "c6b2c8c56d814758ad92adf08f7b0415",
            "858ee3d734a44744a0875fa60564fcdf",
            "e6b54b80e2c0448db39cb63ed722965f",
            "71bb787c417944f994e39073010fa84c",
            "a75108060a9049fea55bb15b1ddcacd4",
            "40b592060a91468f950483cff55395a4",
            "c10ff84caaf44eb9ba346eb5db76880a",
            "8d70cfd2056d456f8f26c838eda4d324",
            "8d16a5a7fa2c43709e7d85fea73a026f",
            "488bd2e466df4345998fe378d2fb9bff",
            "0ef7a25559984f20bc1a5c6c31ce316c",
            "6142d3d6fd684ec7a5140c8ea065b602",
            "d7608f90c9f44b1a99041e5c962f90be",
            "077bae0bce554eb2bb7c9e0c68f95a32",
            "467cae32cd214c88ba1cead7b9d9432b",
            "d22cf37b6daf484b9ca1ae55eb536f93"
          ]
        },
        "id": "hX7uIFdt5ZrH",
        "outputId": "1446f1e2-f21f-449e-f13c-d79df4208375"
      },
      "source": [
        "from datasets import load_dataset\n",
        "import torch\n",
        "dataset = load_dataset(\"multi_nli\",split=\"train[0:1000]\")\n",
        "batch_size = 1\n",
        "dataloader_mnli = torch.utils.data.DataLoader(dataset, batch_size=batch_size,num_workers=2,pin_memory=True,shuffle=False)\n",
        "mnli_length = len(dataset)\n",
        "mnli_length"
      ],
      "execution_count": null,
      "outputs": [
        {
          "output_type": "display_data",
          "data": {
            "application/vnd.jupyter.widget-view+json": {
              "model_id": "47cac84ea146478193c9aab5114dd79a",
              "version_minor": 0,
              "version_major": 2
            },
            "text/plain": [
              "HBox(children=(FloatProgress(value=0.0, description='Downloading', max=1904.0, style=ProgressStyle(description…"
            ]
          },
          "metadata": {
            "tags": []
          }
        },
        {
          "output_type": "stream",
          "text": [
            "\n"
          ],
          "name": "stdout"
        },
        {
          "output_type": "display_data",
          "data": {
            "application/vnd.jupyter.widget-view+json": {
              "model_id": "0504c38fb61b470f9c125cc140bb9274",
              "version_minor": 0,
              "version_major": 2
            },
            "text/plain": [
              "HBox(children=(FloatProgress(value=0.0, description='Downloading', max=1193.0, style=ProgressStyle(description…"
            ]
          },
          "metadata": {
            "tags": []
          }
        },
        {
          "output_type": "stream",
          "text": [
            "Using custom data configuration default\n"
          ],
          "name": "stderr"
        },
        {
          "output_type": "stream",
          "text": [
            "\n",
            "Downloading and preparing dataset multi_nli/default (download: 216.34 MiB, generated: 410.92 MiB, post-processed: Unknown size, total: 627.27 MiB) to /root/.cache/huggingface/datasets/multi_nli/default/0.0.0/591f72eb6263d1ab527561777936b199b714cda156d35716881158a2bd144f39...\n"
          ],
          "name": "stdout"
        },
        {
          "output_type": "display_data",
          "data": {
            "application/vnd.jupyter.widget-view+json": {
              "model_id": "722016d1838f4cac98a958d379cfd1b2",
              "version_minor": 0,
              "version_major": 2
            },
            "text/plain": [
              "HBox(children=(FloatProgress(value=0.0, description='Downloading', max=226850426.0, style=ProgressStyle(descri…"
            ]
          },
          "metadata": {
            "tags": []
          }
        },
        {
          "output_type": "stream",
          "text": [
            "\n"
          ],
          "name": "stdout"
        },
        {
          "output_type": "display_data",
          "data": {
            "application/vnd.jupyter.widget-view+json": {
              "model_id": "93e6ed89b57d472a87b1e7021d175919",
              "version_minor": 0,
              "version_major": 2
            },
            "text/plain": [
              "HBox(children=(FloatProgress(value=1.0, bar_style='info', max=1.0), HTML(value='')))"
            ]
          },
          "metadata": {
            "tags": []
          }
        },
        {
          "output_type": "stream",
          "text": [
            "\r"
          ],
          "name": "stdout"
        },
        {
          "output_type": "display_data",
          "data": {
            "application/vnd.jupyter.widget-view+json": {
              "model_id": "c6b2c8c56d814758ad92adf08f7b0415",
              "version_minor": 0,
              "version_major": 2
            },
            "text/plain": [
              "HBox(children=(FloatProgress(value=1.0, bar_style='info', max=1.0), HTML(value='')))"
            ]
          },
          "metadata": {
            "tags": []
          }
        },
        {
          "output_type": "stream",
          "text": [
            "\r"
          ],
          "name": "stdout"
        },
        {
          "output_type": "display_data",
          "data": {
            "application/vnd.jupyter.widget-view+json": {
              "model_id": "8d16a5a7fa2c43709e7d85fea73a026f",
              "version_minor": 0,
              "version_major": 2
            },
            "text/plain": [
              "HBox(children=(FloatProgress(value=1.0, bar_style='info', max=1.0), HTML(value='')))"
            ]
          },
          "metadata": {
            "tags": []
          }
        },
        {
          "output_type": "stream",
          "text": [
            "\rDataset multi_nli downloaded and prepared to /root/.cache/huggingface/datasets/multi_nli/default/0.0.0/591f72eb6263d1ab527561777936b199b714cda156d35716881158a2bd144f39. Subsequent calls will reuse this data.\n"
          ],
          "name": "stdout"
        },
        {
          "output_type": "execute_result",
          "data": {
            "text/plain": [
              "1000"
            ]
          },
          "metadata": {
            "tags": []
          },
          "execution_count": 4
        }
      ]
    },
    {
      "cell_type": "code",
      "metadata": {
        "colab": {
          "base_uri": "https://localhost:8080/"
        },
        "id": "Lp6tQWysHkrd",
        "outputId": "9547405c-5400-4fa3-d6a3-ef06a84de38b"
      },
      "source": [
        "from datasets import load_dataset\n",
        "import torch\n",
        "testset = load_dataset(\"multi_nli\",split=\"validation_matched[:]\")\n",
        "batch_size = 64\n",
        "testloader = torch.utils.data.DataLoader(testset, batch_size=batch_size,shuffle=False)\n",
        "test_length = len(testset)\n"
      ],
      "execution_count": null,
      "outputs": [
        {
          "output_type": "stream",
          "text": [
            "Using custom data configuration default\n",
            "Reusing dataset multi_nli (/root/.cache/huggingface/datasets/multi_nli/default/0.0.0/591f72eb6263d1ab527561777936b199b714cda156d35716881158a2bd144f39)\n"
          ],
          "name": "stderr"
        }
      ]
    },
    {
      "cell_type": "code",
      "metadata": {
        "colab": {
          "base_uri": "https://localhost:8080/"
        },
        "id": "z--S4c1AQ2-6",
        "outputId": "2140b4ba-4875-4c9d-d764-b145bc69a517"
      },
      "source": [
        "from datasets import load_dataset\n",
        "import torch\n",
        "testset = load_dataset(\"glue\",\"rte\",split=\"test\")\n",
        "batch_size = 64\n",
        "testloader = torch.utils.data.DataLoader(testset, batch_size=batch_size,shuffle=False)\n",
        "test_length = len(testset)"
      ],
      "execution_count": null,
      "outputs": [
        {
          "output_type": "stream",
          "text": [
            "Using the latest cached version of the module from /root/.cache/huggingface/modules/datasets_modules/datasets/glue/dacbe3125aa31d7f70367a07a8a9e72a5a0bfeb5fc42e75c9db75b96da6053ad (last modified on Wed Jun  2 08:50:41 2021) since it couldn't be found locally at glue/glue.py or remotely (ConnectionError).\n",
            "Reusing dataset glue (/root/.cache/huggingface/datasets/glue/rte/1.0.0/dacbe3125aa31d7f70367a07a8a9e72a5a0bfeb5fc42e75c9db75b96da6053ad)\n"
          ],
          "name": "stderr"
        }
      ]
    },
    {
      "cell_type": "code",
      "metadata": {
        "colab": {
          "base_uri": "https://localhost:8080/"
        },
        "id": "gb_IRlurDEMR",
        "outputId": "1cb9dc0d-64db-4a47-a770-775ec699db46"
      },
      "source": [
        "from datasets import load_dataset\n",
        "import torch\n",
        "testset_b1 = load_dataset(\"multi_nli\",split=\"validation_matched[:]\")\n",
        "batch_size = 1\n",
        "testloader_b1 = torch.utils.data.DataLoader(testset_b1, batch_size=batch_size,shuffle=False)\n",
        "test_length = len(testset)\n"
      ],
      "execution_count": null,
      "outputs": [
        {
          "output_type": "stream",
          "text": [
            "Using custom data configuration default\n",
            "Reusing dataset multi_nli (/root/.cache/huggingface/datasets/multi_nli/default/0.0.0/591f72eb6263d1ab527561777936b199b714cda156d35716881158a2bd144f39)\n"
          ],
          "name": "stderr"
        }
      ]
    },
    {
      "cell_type": "markdown",
      "metadata": {
        "id": "7EQeeo8T_TSK"
      },
      "source": [
        "# Next token predicition GPT style"
      ]
    },
    {
      "cell_type": "code",
      "metadata": {
        "id": "nhEd3wmzTB6W"
      },
      "source": [
        ""
      ],
      "execution_count": null,
      "outputs": []
    },
    {
      "cell_type": "code",
      "metadata": {
        "colab": {
          "base_uri": "https://localhost:8080/"
        },
        "id": "uHpeq1bHGG2X",
        "outputId": "c5f72c59-de14-40ad-e0a2-db0039127e3a"
      },
      "source": [
        "tokenizer.encode(\"contradiction\")"
      ],
      "execution_count": null,
      "outputs": [
        {
          "output_type": "execute_result",
          "data": {
            "text/plain": [
              "[27252, 1]"
            ]
          },
          "metadata": {
            "tags": []
          },
          "execution_count": 8
        }
      ]
    },
    {
      "cell_type": "code",
      "metadata": {
        "colab": {
          "base_uri": "https://localhost:8080/",
          "height": 35
        },
        "id": "d51z4MAPGWdG",
        "outputId": "d4fe6ed6-677b-484d-ed5b-bd8f9d656cc1"
      },
      "source": [
        "tokenizer.decode([21454])"
      ],
      "execution_count": null,
      "outputs": [
        {
          "output_type": "execute_result",
          "data": {
            "application/vnd.google.colaboratory.intrinsic+json": {
              "type": "string"
            },
            "text/plain": [
              "'contradict'"
            ]
          },
          "metadata": {
            "tags": []
          },
          "execution_count": 22
        }
      ]
    },
    {
      "cell_type": "code",
      "metadata": {
        "id": "MCSbRaORnm8Z"
      },
      "source": [
        "prompt0 = \" hypothesis: \"\n",
        "prompt1 = \" premise: \"\n",
        "index = 0\n",
        "hypothesis = testset[index][\"hypothesis\"]\n",
        "premise = testset[index][\"premise\"]"
      ],
      "execution_count": null,
      "outputs": []
    },
    {
      "cell_type": "code",
      "metadata": {
        "colab": {
          "base_uri": "https://localhost:8080/"
        },
        "id": "M5DKKzFq_jXH",
        "outputId": "ee0efbb5-3ea3-4f60-f346-658f0b9e77a2"
      },
      "source": [
        "import torch.nn.functional as F\n",
        "input_ids = tokenizer.encode(prompt1+premise + prompt0 + hypothesis , return_tensors='pt').cuda()\n",
        "logits = model(input_ids=input_ids,decoder_input_ids =torch.tensor([[0]]).cuda()).logits[:,-1,:]\n",
        "F.softmax((torch.cat([logits[:,3], logits[:,7163],logits[:,27525]])),dim=-1)\n"
      ],
      "execution_count": null,
      "outputs": [
        {
          "output_type": "execute_result",
          "data": {
            "text/plain": [
              "tensor([2.1388e-01, 7.8612e-01, 1.1209e-11], device='cuda:0',\n",
              "       grad_fn=<SoftmaxBackward>)"
            ]
          },
          "metadata": {
            "tags": []
          },
          "execution_count": 19
        }
      ]
    },
    {
      "cell_type": "code",
      "metadata": {
        "id": "mr_AgoYupbBG"
      },
      "source": [
        "min über argmax finden über testset"
      ],
      "execution_count": null,
      "outputs": []
    },
    {
      "cell_type": "code",
      "metadata": {
        "id": "3ph83WzcpABm"
      },
      "source": [
        "[2.7681e-02, 9.7232e-01, 1.9821e-12]\n",
        "[4.2925e-02, 9.5708e-01, 7.0674e-12]\n",
        "[2.4699e-02, 9.7530e-01, 3.4003e-12]\n",
        "[2.1388e-01, 7.8612e-01, 1.1209e-11]"
      ],
      "execution_count": null,
      "outputs": []
    },
    {
      "cell_type": "code",
      "metadata": {
        "colab": {
          "base_uri": "https://localhost:8080/",
          "height": 35
        },
        "id": "5f9OgFb7QcFV",
        "outputId": "ca598381-f018-469c-8242-fbeb2fe9af39"
      },
      "source": [
        "text = \"A: All cats are cute. B: My cat is cute. -> entailment\\n\" \\\n",
        "       \"A: Hans is walking. B: Hans is cute. -> neutral\" \\\n",
        "       \"A: Hans is walking. B: Hans is sleeping. -> contradiction\" \\\n",
        "       \"A: All men are mortal. Socrates is a man. B: Socrates is mortal -><extra_id_0> \" \n",
        "input_ids = tokenizer.encode(text, return_tensors='pt').cuda()\n",
        "out = model.generate(input_ids,num_beams=6)\n",
        "tokenizer.decode(out[0])"
      ],
      "execution_count": null,
      "outputs": [
        {
          "output_type": "execute_result",
          "data": {
            "application/vnd.google.colaboratory.intrinsic+json": {
              "type": "string"
            },
            "text/plain": [
              "'<pad><extra_id_0> contradictionA: All men are mortal.</s>'"
            ]
          },
          "metadata": {
            "tags": []
          },
          "execution_count": 120
        }
      ]
    },
    {
      "cell_type": "code",
      "metadata": {
        "id": "xfoz9ChzGeqs",
        "colab": {
          "base_uri": "https://localhost:8080/",
          "height": 35
        },
        "outputId": "ffb5aa33-d3fb-4597-cc5c-40358d1048cd"
      },
      "source": [
        "text = \"A: All cats are cute. B: My cat is cute. -> entailment \\n\" \\\n",
        "       \"A: Hans is walking. B: Hans is cute. -> neutral \\n\" \\\n",
        "       \"A: Hans is walking. B: Hans is sleeping. -> contradiction \\n\" \\\n",
        "       \"A: All men are mortal. Socrates is a man. B: Socrates is immortal -> <extra_id_0>\" \n",
        "input_ids = tokenizer.encode(text, return_tensors='pt').cuda()\n",
        "logits = model(input_ids=input_ids,decoder_input_ids =torch.tensor([[0,32099]]).cuda()).logits[:,-1,:]\n",
        "tokenizer.decode(torch.argmax(logits))\n"
      ],
      "execution_count": null,
      "outputs": [
        {
          "output_type": "execute_result",
          "data": {
            "application/vnd.google.colaboratory.intrinsic+json": {
              "type": "string"
            },
            "text/plain": [
              "'contradiction'"
            ]
          },
          "metadata": {
            "tags": []
          },
          "execution_count": 130
        }
      ]
    },
    {
      "cell_type": "code",
      "metadata": {
        "colab": {
          "base_uri": "https://localhost:8080/"
        },
        "id": "sTemdiITeyD0",
        "outputId": "68388b9e-bd68-4b2c-f460-8080414e074c"
      },
      "source": [
        "tokenizer.encode(\"<extra_id_0> ->\")"
      ],
      "execution_count": null,
      "outputs": [
        {
          "output_type": "execute_result",
          "data": {
            "text/plain": [
              "[32099, 3, 13114, 1]"
            ]
          },
          "metadata": {
            "tags": []
          },
          "execution_count": 125
        }
      ]
    },
    {
      "cell_type": "code",
      "metadata": {
        "colab": {
          "base_uri": "https://localhost:8080/"
        },
        "id": "Qr6WULJlGtBn",
        "outputId": "18608c12-336a-4c06-c3fb-cd401c2aa530"
      },
      "source": [
        "print(tokenizer.encode(\"entails\"))\n",
        "print(tokenizer.encode(\"is neutral\"))\n",
        "print(tokenizer.encode(\"contradicts\"))\n",
        "\n",
        "print(tokenizer.decode(3))\n",
        "print(tokenizer.decode(19))\n",
        "print(tokenizer.decode(21454))"
      ],
      "execution_count": null,
      "outputs": [
        {
          "output_type": "stream",
          "text": [
            "[3, 35, 5756, 7, 1]\n",
            "[21454, 7, 1]\n",
            "[19, 7163, 1]\n",
            "\n",
            "contradict\n",
            "is\n"
          ],
          "name": "stdout"
        }
      ]
    },
    {
      "cell_type": "code",
      "metadata": {
        "id": "_hMH5XVdGz5e",
        "colab": {
          "base_uri": "https://localhost:8080/",
          "height": 196,
          "referenced_widgets": [
            "54002794d1784d5a9a38614a48c14eac",
            "de7194ef6d4b460189374d0e09e00848",
            "cdda0b044929408eb61053b9fc0efb7c",
            "dd629b65d62b49d787889d44fd2a3d1b",
            "d48dba1d759c4a329a91b871292d4078",
            "df2e072afae1465591f3cb943cdb4c37",
            "3b3ca1d499d74943b125932d86b8f54c",
            "17e291e6df0644afba023d70ed86a33f"
          ]
        },
        "outputId": "9951c5d6-0a42-4cd3-81c6-2ec137eb0eb2"
      },
      "source": [
        "from tqdm import tqdm_notebook\n",
        "import numpy as np\n",
        "import torch.nn.functional as F\n",
        "num_right = 0\n",
        "ent_count = 0\n",
        "contr_count = 0\n",
        "neutral_count = 0\n",
        "\n",
        "ent_amount = 0\n",
        "neutral_amount =0 \n",
        "contr_amount = 0\n",
        "c=0\n",
        "with torch.no_grad():\n",
        "  for i, mnli_instance in enumerate(tqdm_notebook(testloader)):\n",
        "\n",
        "      text = \"1. \" + mnli_instance[\"hypothesis\"][0] + \" 2. \" + mnli_instance[\"premise\"][0] + \"It is a fact, that statement 2 <extra_id_0> statement 1.\"\n",
        "      input_ids = tokenizer.encode(text,return_tensors=\"pt\").cuda()\n",
        "      logits = (model(input_ids=input_ids,decoder_input_ids =torch.tensor([[0]]).cuda()).logits[:,-1,:])\n",
        "      label = torch.argmax(F.softmax(torch.cat([logits[:,3]/1, logits[:,7163]/1,logits[:,27525]/1])))\n",
        "      if torch.max(F.softmax(torch.cat([logits[:,3]/1, logits[:,7163]/1,logits[:,27525]/1]))) < 0.9:\n",
        "        continue\n",
        "      c+=1\n",
        "      ent_count+=logits[:,3].item()\n",
        "      neutral_count+=logits[:,19].item()\n",
        "      contr_count+=logits[:,21454].item()\n",
        "      if mnli_instance[\"label\"]==0:\n",
        "        ent_amount+=1\n",
        "      if mnli_instance[\"label\"]==1:\n",
        "        neutral_amount+=1\n",
        "      if mnli_instance[\"label\"]==2:\n",
        "        contr_amount+=1\n",
        "      #if logits[:,28722] > 0 or logits[:,7163] > 0 or logits[:,27252] > 0:\n",
        "      #  print(\"trulll\")\n",
        "      \n",
        "      if label.cpu() == mnli_instance[\"label\"]:\n",
        "          num_right+=1\n",
        "\n",
        "num_right/c"
      ],
      "execution_count": null,
      "outputs": [
        {
          "output_type": "stream",
          "text": [
            "/usr/local/lib/python3.7/dist-packages/ipykernel_launcher.py:14: TqdmDeprecationWarning: This function will be removed in tqdm==5.0.0\n",
            "Please use `tqdm.notebook.tqdm` instead of `tqdm.tqdm_notebook`\n",
            "  \n"
          ],
          "name": "stderr"
        },
        {
          "output_type": "display_data",
          "data": {
            "application/vnd.jupyter.widget-view+json": {
              "model_id": "54002794d1784d5a9a38614a48c14eac",
              "version_minor": 0,
              "version_major": 2
            },
            "text/plain": [
              "HBox(children=(FloatProgress(value=0.0, max=9815.0), HTML(value='')))"
            ]
          },
          "metadata": {
            "tags": []
          }
        },
        {
          "output_type": "stream",
          "text": [
            "/usr/local/lib/python3.7/dist-packages/ipykernel_launcher.py:19: UserWarning: Implicit dimension choice for softmax has been deprecated. Change the call to include dim=X as an argument.\n",
            "/usr/local/lib/python3.7/dist-packages/ipykernel_launcher.py:20: UserWarning: Implicit dimension choice for softmax has been deprecated. Change the call to include dim=X as an argument.\n"
          ],
          "name": "stderr"
        },
        {
          "output_type": "stream",
          "text": [
            "\n"
          ],
          "name": "stdout"
        },
        {
          "output_type": "execute_result",
          "data": {
            "text/plain": [
              "0.3544574630667346"
            ]
          },
          "metadata": {
            "tags": []
          },
          "execution_count": 22
        }
      ]
    },
    {
      "cell_type": "code",
      "metadata": {
        "colab": {
          "base_uri": "https://localhost:8080/"
        },
        "id": "5MS1cWMRgTgc",
        "outputId": "ab04c9b3-306c-447e-f3c1-473072c340b5"
      },
      "source": [
        "print(ent_count)\n",
        "print(neutral_count)\n",
        "print(contr_count)"
      ],
      "execution_count": null,
      "outputs": [
        {
          "output_type": "stream",
          "text": [
            "16.376203033141792\n",
            "377.6361785978079\n",
            "79.56536089879228\n"
          ],
          "name": "stdout"
        }
      ]
    },
    {
      "cell_type": "code",
      "metadata": {
        "colab": {
          "base_uri": "https://localhost:8080/"
        },
        "id": "w4HUnHcDGrhs",
        "outputId": "6c404511-5447-497b-988d-3bfd322ebe56"
      },
      "source": [
        "\n",
        "#this makes only sense when using train + test with an unbalanced trainset\n",
        "print(ent_count/ent_amount)\n",
        "print(neutral_count/neutral_amount)\n",
        "print(contr_count/contr_amount)"
      ],
      "execution_count": null,
      "outputs": [
        {
          "output_type": "stream",
          "text": [
            "0.04802405581566508\n",
            "1.1838124720934415\n",
            "0.23401576734938906\n"
          ],
          "name": "stdout"
        }
      ]
    },
    {
      "cell_type": "code",
      "metadata": {
        "id": "AM6jUu3Oh_Q5"
      },
      "source": [
        "3\n",
        "19\n",
        "21454\n",
        "\n",
        "using those tokens and text = \"1. \" + mnli_instance[\"hypothesis\"][0] + \" 2. \" + mnli_instance[\"premise\"][0] + \"It is a fact, that statement 2 <extra_id_0> statement 1.\" has rand acc"
      ],
      "execution_count": null,
      "outputs": []
    },
    {
      "cell_type": "markdown",
      "metadata": {
        "id": "Zr1K8sz93teB"
      },
      "source": [
        "# Prediction network\n",
        "\n",
        "Use a fully connected nn which gets as input the probabilites for the tokens for one train instance. Output of the nn is 0/1/2. When given all the tokens, accurcy is random, when given only the label \"\"/neutral/contradiction acc goes up to 50% , still far below true acc, even thought nn would just have to pick the max.\n",
        "\n",
        "problems:\n",
        "\n",
        "*   may be undertrained\n",
        "*   may be the wrong architecture\n",
        "*   may just be to small\n",
        "\n"
      ]
    },
    {
      "cell_type": "code",
      "metadata": {
        "colab": {
          "base_uri": "https://localhost:8080/"
        },
        "id": "BwLGO3mw_7ZF",
        "outputId": "eba7c016-987a-433d-87e6-898110a82c21"
      },
      "source": [
        "tokenizer.vocab_size"
      ],
      "execution_count": null,
      "outputs": [
        {
          "output_type": "execute_result",
          "data": {
            "text/plain": [
              "32100"
            ]
          },
          "metadata": {
            "tags": []
          },
          "execution_count": 119
        }
      ]
    },
    {
      "cell_type": "code",
      "metadata": {
        "id": "tNf_Mj2NDW5a"
      },
      "source": [
        "import torch.nn as nn\n",
        "import torch.nn.functional as F\n",
        "\n",
        "\n",
        "class Net(nn.Module):\n",
        "    def __init__(self):\n",
        "        super(Net, self).__init__()\n",
        "\n",
        "        self.fc1 = nn.Linear(3, 100)\n",
        "        self.fc2 = nn.Linear(100, 100)\n",
        "        self.fc3 = nn.Linear(100, 10)\n",
        "        self.fc4 = nn.Linear(10,3)\n",
        "\n",
        "        \n",
        "\n",
        "\n",
        "    def forward(self, x):\n",
        "\n",
        "        x = F.relu(self.fc1(x))\n",
        "        x = F.relu(self.fc2(x))\n",
        "        x = F.relu(self.fc3(x))\n",
        "        x = self.fc4(x)\n",
        "        return x\n",
        "\n",
        "\n",
        "net = Net()"
      ],
      "execution_count": null,
      "outputs": []
    },
    {
      "cell_type": "code",
      "metadata": {
        "colab": {
          "base_uri": "https://localhost:8080/"
        },
        "id": "j5Jhymp6Aci2",
        "outputId": "85c3a5d2-d166-42bf-fdd5-32dd318e5d60"
      },
      "source": [
        "net.cuda()"
      ],
      "execution_count": null,
      "outputs": [
        {
          "output_type": "execute_result",
          "data": {
            "text/plain": [
              "Net(\n",
              "  (fc1): Linear(in_features=3, out_features=100, bias=True)\n",
              "  (fc2): Linear(in_features=100, out_features=100, bias=True)\n",
              "  (fc3): Linear(in_features=100, out_features=10, bias=True)\n",
              "  (fc4): Linear(in_features=10, out_features=3, bias=True)\n",
              ")"
            ]
          },
          "metadata": {
            "tags": []
          },
          "execution_count": 121
        }
      ]
    },
    {
      "cell_type": "code",
      "metadata": {
        "id": "pMC3N5OFAgkD"
      },
      "source": [
        "import torch.optim as optim\n",
        "\n",
        "criterion = nn.CrossEntropyLoss()\n",
        "optimizer = optim.Adam(net.parameters())"
      ],
      "execution_count": null,
      "outputs": []
    },
    {
      "cell_type": "code",
      "metadata": {
        "colab": {
          "base_uri": "https://localhost:8080/"
        },
        "id": "a33mqX2ACvUU",
        "outputId": "ffa8eead-8706-452b-a27d-8fb269ffc00f"
      },
      "source": [
        "torch.tensor([[[0]]*len(mnli_instance[\"premise\"])]).squeeze(0).shape"
      ],
      "execution_count": null,
      "outputs": [
        {
          "output_type": "execute_result",
          "data": {
            "text/plain": [
              "torch.Size([1, 1])"
            ]
          },
          "metadata": {
            "tags": []
          },
          "execution_count": 123
        }
      ]
    },
    {
      "cell_type": "code",
      "metadata": {
        "colab": {
          "base_uri": "https://localhost:8080/",
          "referenced_widgets": [
            "238a1bccaa86479894a29f666614ab94",
            "9cc71fcf97d5412cbe2296d2411d077f",
            "bff17d018f714d898035dc56aac1e240",
            "45e636471aae490d852f8f0ad3274f61",
            "2be7eb6ba7b0437ab24007b5c612cef6",
            "77f13e1c613e441d93bdd27ded7a70db",
            "3d651409df1f4e7e8e264d14a388bd16",
            "1703a4709ef645a0a7ae0e03b44ed46e"
          ]
        },
        "id": "mdHWDjsOAvrR",
        "outputId": "b25df04a-dabe-4b2b-ae97-c0dd03720139"
      },
      "source": [
        "#train prediction network\n",
        "from tqdm import tqdm_notebook\n",
        "import random\n",
        "import numpy as np\n",
        "import copy\n",
        "net.train()\n",
        "\n",
        "for epoch in range(1):  # loop over the dataset multiple times\n",
        "\n",
        "    running_loss = 0.0\n",
        "    for i, mnli_instance in enumerate(tqdm_notebook(dataloader_mnli)):\n",
        "\n",
        "\n",
        "        texts = []\n",
        "        for j in range(len(mnli_instance[\"premise\"])):\n",
        "          text = \"hypothesis: \" + mnli_instance[\"hypothesis\"][j] + \" premise: \" + mnli_instance[\"premise\"][j] \n",
        "          texts.append(text)\n",
        "\n",
        "\n",
        "        input_ids = tokenizer(texts,return_tensors=\"pt\",padding=True,truncation=True).input_ids.cuda()\n",
        "        logits = F.softmax(model(input_ids=input_ids,decoder_input_ids =torch.tensor([[[0]]*len(mnli_instance[\"premise\"])]).squeeze(0).cuda()).logits[:,-1,:])\n",
        "        #print(logits[:,3].shape)\n",
        "        inputs = torch.cat([logits[:,356].unsqueeze(1) ,logits[:,716].unsqueeze(1) ,logits[:,2752].unsqueeze(1) ],dim=-1)\n",
        "\n",
        "\n",
        "        #inputs = torch.tensor([]).cuda()\n",
        "        #for j in range(len(mnli_instance[\"premise\"])):\n",
        "        #  text = \"hypothesis: \" + mnli_instance[\"hypothesis\"][j] + \" premise: \" + mnli_instance[\"premise\"][j] \n",
        "        #  input_ids = tokenizer(text,return_tensors=\"pt\").input_ids.cuda()\n",
        "        #  logits = model(input_ids=input_ids,decoder_input_ids =torch.tensor([[0]]).cuda()).logits[:,-1,:]\n",
        "        #  inputs = torch.cat([inputs,logits])\n",
        "\n",
        "\n",
        "        \n",
        "        # zero the parameter gradients\n",
        "        optimizer.zero_grad()\n",
        "        #print(inputs.shape)\n",
        "        # forward + backward + optimize\n",
        "        outputs = net(inputs)\n",
        "        #print(outputs.shape)\n",
        "\n",
        "        optimizer.zero_grad()\n",
        "\n",
        "        loss = criterion(outputs,mnli_instance[\"label\"].cuda())\n",
        "        \n",
        "        \n",
        "\n",
        "\n",
        "        loss.backward()\n",
        "        optimizer.step()\n",
        "\n",
        "        \n",
        "\n",
        "\n",
        "        if i % 10 == 9:    # print every 2000 mini-batches\n",
        "            print('[%d, %5d] loss: %.3f' %\n",
        "                  (epoch + 1, i + 1, running_loss / (10)))\n",
        "            running_loss = 0.0\n",
        "\n",
        "\n",
        "        # print statistics\n",
        "        running_loss += loss.item()\n",
        "\n",
        "print('Finished Training')"
      ],
      "execution_count": null,
      "outputs": [
        {
          "output_type": "stream",
          "text": [
            "/usr/local/lib/python3.7/dist-packages/ipykernel_launcher.py:11: TqdmDeprecationWarning: This function will be removed in tqdm==5.0.0\n",
            "Please use `tqdm.notebook.tqdm` instead of `tqdm.tqdm_notebook`\n",
            "  # This is added back by InteractiveShellApp.init_path()\n"
          ],
          "name": "stderr"
        },
        {
          "output_type": "display_data",
          "data": {
            "application/vnd.jupyter.widget-view+json": {
              "model_id": "238a1bccaa86479894a29f666614ab94",
              "version_minor": 0,
              "version_major": 2
            },
            "text/plain": [
              "HBox(children=(FloatProgress(value=0.0, max=2000.0), HTML(value='')))"
            ]
          },
          "metadata": {
            "tags": []
          }
        },
        {
          "output_type": "stream",
          "text": [
            "/usr/local/lib/python3.7/dist-packages/ipykernel_launcher.py:21: UserWarning: Implicit dimension choice for softmax has been deprecated. Change the call to include dim=X as an argument.\n"
          ],
          "name": "stderr"
        },
        {
          "output_type": "error",
          "ename": "KeyboardInterrupt",
          "evalue": "ignored",
          "traceback": [
            "\u001b[0;31m---------------------------------------------------------------------------\u001b[0m",
            "\u001b[0;31mKeyboardInterrupt\u001b[0m                         Traceback (most recent call last)",
            "\u001b[0;32m<ipython-input-124-da1c75f5a97e>\u001b[0m in \u001b[0;36m<module>\u001b[0;34m()\u001b[0m\n\u001b[1;32m     47\u001b[0m \u001b[0;34m\u001b[0m\u001b[0m\n\u001b[1;32m     48\u001b[0m \u001b[0;34m\u001b[0m\u001b[0m\n\u001b[0;32m---> 49\u001b[0;31m         \u001b[0mloss\u001b[0m\u001b[0;34m.\u001b[0m\u001b[0mbackward\u001b[0m\u001b[0;34m(\u001b[0m\u001b[0;34m)\u001b[0m\u001b[0;34m\u001b[0m\u001b[0;34m\u001b[0m\u001b[0m\n\u001b[0m\u001b[1;32m     50\u001b[0m         \u001b[0moptimizer\u001b[0m\u001b[0;34m.\u001b[0m\u001b[0mstep\u001b[0m\u001b[0;34m(\u001b[0m\u001b[0;34m)\u001b[0m\u001b[0;34m\u001b[0m\u001b[0;34m\u001b[0m\u001b[0m\n\u001b[1;32m     51\u001b[0m \u001b[0;34m\u001b[0m\u001b[0m\n",
            "\u001b[0;32m/usr/local/lib/python3.7/dist-packages/torch/tensor.py\u001b[0m in \u001b[0;36mbackward\u001b[0;34m(self, gradient, retain_graph, create_graph, inputs)\u001b[0m\n\u001b[1;32m    243\u001b[0m                 \u001b[0mcreate_graph\u001b[0m\u001b[0;34m=\u001b[0m\u001b[0mcreate_graph\u001b[0m\u001b[0;34m,\u001b[0m\u001b[0;34m\u001b[0m\u001b[0;34m\u001b[0m\u001b[0m\n\u001b[1;32m    244\u001b[0m                 inputs=inputs)\n\u001b[0;32m--> 245\u001b[0;31m         \u001b[0mtorch\u001b[0m\u001b[0;34m.\u001b[0m\u001b[0mautograd\u001b[0m\u001b[0;34m.\u001b[0m\u001b[0mbackward\u001b[0m\u001b[0;34m(\u001b[0m\u001b[0mself\u001b[0m\u001b[0;34m,\u001b[0m \u001b[0mgradient\u001b[0m\u001b[0;34m,\u001b[0m \u001b[0mretain_graph\u001b[0m\u001b[0;34m,\u001b[0m \u001b[0mcreate_graph\u001b[0m\u001b[0;34m,\u001b[0m \u001b[0minputs\u001b[0m\u001b[0;34m=\u001b[0m\u001b[0minputs\u001b[0m\u001b[0;34m)\u001b[0m\u001b[0;34m\u001b[0m\u001b[0;34m\u001b[0m\u001b[0m\n\u001b[0m\u001b[1;32m    246\u001b[0m \u001b[0;34m\u001b[0m\u001b[0m\n\u001b[1;32m    247\u001b[0m     \u001b[0;32mdef\u001b[0m \u001b[0mregister_hook\u001b[0m\u001b[0;34m(\u001b[0m\u001b[0mself\u001b[0m\u001b[0;34m,\u001b[0m \u001b[0mhook\u001b[0m\u001b[0;34m)\u001b[0m\u001b[0;34m:\u001b[0m\u001b[0;34m\u001b[0m\u001b[0;34m\u001b[0m\u001b[0m\n",
            "\u001b[0;32m/usr/local/lib/python3.7/dist-packages/torch/autograd/__init__.py\u001b[0m in \u001b[0;36mbackward\u001b[0;34m(tensors, grad_tensors, retain_graph, create_graph, grad_variables, inputs)\u001b[0m\n\u001b[1;32m    145\u001b[0m     Variable._execution_engine.run_backward(\n\u001b[1;32m    146\u001b[0m         \u001b[0mtensors\u001b[0m\u001b[0;34m,\u001b[0m \u001b[0mgrad_tensors_\u001b[0m\u001b[0;34m,\u001b[0m \u001b[0mretain_graph\u001b[0m\u001b[0;34m,\u001b[0m \u001b[0mcreate_graph\u001b[0m\u001b[0;34m,\u001b[0m \u001b[0minputs\u001b[0m\u001b[0;34m,\u001b[0m\u001b[0;34m\u001b[0m\u001b[0;34m\u001b[0m\u001b[0m\n\u001b[0;32m--> 147\u001b[0;31m         allow_unreachable=True, accumulate_grad=True)  # allow_unreachable flag\n\u001b[0m\u001b[1;32m    148\u001b[0m \u001b[0;34m\u001b[0m\u001b[0m\n\u001b[1;32m    149\u001b[0m \u001b[0;34m\u001b[0m\u001b[0m\n",
            "\u001b[0;31mKeyboardInterrupt\u001b[0m: "
          ]
        }
      ]
    },
    {
      "cell_type": "code",
      "metadata": {
        "id": "2yj5DsyNHSXA"
      },
      "source": [
        "correct = 0\n",
        "total = 0\n",
        "\n",
        "with torch.no_grad():\n",
        "    for data in tqdm_notebook(testloader):\n",
        "        texts = []\n",
        "        for j in range(len(mnli_instance[\"premise\"])):\n",
        "          text = \"hypothesis: \" + mnli_instance[\"hypothesis\"][j] + \" premise: \" + mnli_instance[\"premise\"][j] \n",
        "          texts.append(text)\n",
        "\n",
        "\n",
        "        input_ids = tokenizer(texts,return_tensors=\"pt\",padding=True,truncation=True).input_ids.cuda()\n",
        "        logits = model(input_ids=input_ids,decoder_input_ids =torch.tensor([[[0]]*len(mnli_instance[\"premise\"])]).squeeze(0).cuda()).logits[:,-1,:]\n",
        "        inputs = torch.cat([logits[:,356].unsqueeze(1) ,logits[:,716].unsqueeze(1) ,logits[:,2752].unsqueeze(1) ],dim=-1)\n",
        "\n",
        "        outputs = net(inputs)\n",
        "        #print(outputs)\n",
        "\n",
        "        _, predicted = torch.max(F.softmax(outputs.data), 1)\n",
        "        #print(predicted)\n",
        "        #break\n",
        "\n",
        "        total += len(mnli_instance[\"premise\"])\n",
        "        correct += (predicted == mnli_instance[\"label\"].cuda()).sum().item()\n",
        "\n",
        "\n",
        "\n",
        "print('Accuracy of the network on the 10000 test images: %d %%' % (\n",
        "    100 * correct / total))"
      ],
      "execution_count": null,
      "outputs": []
    },
    {
      "cell_type": "markdown",
      "metadata": {
        "id": "_enKMpQSnF3p"
      },
      "source": [
        "# All combinations"
      ]
    },
    {
      "cell_type": "code",
      "metadata": {
        "id": "-t0l3HGgnIab"
      },
      "source": [
        "v = {\"enc\": [0 for x in range(0,32126)], \"ecn\": [0 for x in range(0,32126)], \"nec\": [0 for x in range(0,32126)], \"nce\": [0 for x in range(0,32126)], \"cen\": [0 for x in range(0,32126)], \"cne\": [0 for x in range(0,32126)], }"
      ],
      "execution_count": null,
      "outputs": []
    },
    {
      "cell_type": "code",
      "metadata": {
        "id": "LmU5OTm2oXZZ"
      },
      "source": [
        ""
      ],
      "execution_count": null,
      "outputs": []
    },
    {
      "cell_type": "markdown",
      "metadata": {
        "id": "VMqPrzG5EHh6"
      },
      "source": [
        "# Above baseline prediction\n",
        "\n",
        "Same idea as the most biased token, but use the deviation from the baseline for each token to make a prediciton. This effectivly removes the need to select the specifcy label token. \n",
        "\n",
        "sanitiy check: acc with hypotheiss: label: stays the same"
      ]
    },
    {
      "cell_type": "code",
      "metadata": {
        "colab": {
          "base_uri": "https://localhost:8080/",
          "height": 151,
          "referenced_widgets": [
            "fbef02201d2f4a3ab0e2803a57eb0c43",
            "74aabaabef614861ab7d3b6b9dcaa508",
            "70a22c07adf64da0bbbd7c6fe0c9b0da",
            "19cf21e512f746c786a79b5f5c6e4611",
            "be6aee911f4348c3b6690c1e48279d1e",
            "d30fc5172fac4b9e9b8ee6fd994354f6",
            "a81793df735842a09725c7f080530d5c",
            "19125048de3b47f295e12ef0f82b83a0"
          ]
        },
        "id": "B2bsCLtZERcH",
        "outputId": "f51235ae-a061-43f1-d0c5-bab65aa80b04"
      },
      "source": [
        "#avg prob for each token, summed oder the trainset\n",
        "from tqdm import tqdm_notebook\n",
        "import numpy as np\n",
        "import torch.nn.functional as F\n",
        "sum = torch.tensor([0]*32128).cuda()\n",
        "with torch.no_grad():\n",
        "  for i, mnli_instance in enumerate(tqdm_notebook(testloader)):\n",
        "    text = \"mnli hypothesis: \" + mnli_instance[\"hypothesis\"][0] + \" premise: \" + mnli_instance[\"premise\"][0]\n",
        "\n",
        "    input_ids = tokenizer.encode(text,return_tensors=\"pt\").cuda()\n",
        "    logits = model(input_ids=input_ids,decoder_input_ids =torch.tensor([[0]]).cuda()).logits[:,-1,:]\n",
        "    sum = sum + logits\n",
        "avg  = sum / mnli_length\n",
        "avg"
      ],
      "execution_count": null,
      "outputs": [
        {
          "output_type": "stream",
          "text": [
            "/usr/local/lib/python3.7/dist-packages/ipykernel_launcher.py:7: TqdmDeprecationWarning: This function will be removed in tqdm==5.0.0\n",
            "Please use `tqdm.notebook.tqdm` instead of `tqdm.tqdm_notebook`\n",
            "  import sys\n"
          ],
          "name": "stderr"
        },
        {
          "output_type": "display_data",
          "data": {
            "application/vnd.jupyter.widget-view+json": {
              "model_id": "fbef02201d2f4a3ab0e2803a57eb0c43",
              "version_minor": 0,
              "version_major": 2
            },
            "text/plain": [
              "HBox(children=(FloatProgress(value=0.0, max=9815.0), HTML(value='')))"
            ]
          },
          "metadata": {
            "tags": []
          }
        },
        {
          "output_type": "stream",
          "text": [
            "\n"
          ],
          "name": "stdout"
        },
        {
          "output_type": "execute_result",
          "data": {
            "text/plain": [
              "tensor([[-274.7625, -181.4689, -194.0041,  ..., -555.9843, -557.7055,\n",
              "         -558.6201]], device='cuda:0')"
            ]
          },
          "metadata": {
            "tags": []
          },
          "execution_count": 15
        }
      ]
    },
    {
      "cell_type": "code",
      "metadata": {
        "colab": {
          "base_uri": "https://localhost:8080/"
        },
        "id": "5J-3TwRwnytd",
        "outputId": "3851385e-6bba-4abb-be66-76d76cde9d6d"
      },
      "source": [
        "len(sum[0])"
      ],
      "execution_count": null,
      "outputs": [
        {
          "output_type": "execute_result",
          "data": {
            "text/plain": [
              "32128"
            ]
          },
          "metadata": {
            "tags": []
          },
          "execution_count": 12
        }
      ]
    },
    {
      "cell_type": "code",
      "metadata": {
        "id": "DykwiCd3CQ8z"
      },
      "source": [
        "a=[0 for x in range(0,180000)]"
      ],
      "execution_count": null,
      "outputs": []
    },
    {
      "cell_type": "code",
      "metadata": {
        "colab": {
          "base_uri": "https://localhost:8080/"
        },
        "id": "FOFaOxJeFEHH",
        "outputId": "c3b32c5e-6658-4ddf-858c-57fd00b59b36"
      },
      "source": [
        "print(avg[0,3])\n",
        "print(avg[0,7163])\n",
        "print(avg[0,27252])"
      ],
      "execution_count": null,
      "outputs": [
        {
          "output_type": "stream",
          "text": [
            "tensor(-8.5739, device='cuda:0')\n",
            "tensor(-7.2543, device='cuda:0')\n",
            "tensor(-7.2496, device='cuda:0')\n"
          ],
          "name": "stdout"
        }
      ]
    },
    {
      "cell_type": "code",
      "metadata": {
        "colab": {
          "base_uri": "https://localhost:8080/",
          "height": 202,
          "referenced_widgets": [
            "fbca2417494143c7bfe5c3136cb297d3",
            "497b2f47c2ee495bafcb30466df5d2fb",
            "bb7f8caa75864b5da42c568fc28a8cf8",
            "d3fbcbce22cb4e59bb23b2af7ed73c1d",
            "cfd6c269981148718f87c8ade68a088c",
            "811e0bd86aad46a389632e46f5a5fcf0",
            "123485b8f1c2421da97bbd455d8bf3e3",
            "5da334a8fcf346daaaab8b7f940abfd8"
          ]
        },
        "id": "Rb4rkicEE0c0",
        "outputId": "0b7a8587-ad09-44d1-f6c5-a539872065cc"
      },
      "source": [
        "#avg prob for each token for each label, summed over the trainset\n",
        "ent = torch.tensor([0]*32128).cuda()\n",
        "neutral = torch.tensor([0]*32128).cuda()\n",
        "contr = torch.tensor([0]*32128).cuda()\n",
        "\n",
        "\n",
        "ent_amount = 0\n",
        "neutral_amount = 0\n",
        "contr_amount = 0\n",
        "with torch.no_grad():\n",
        "  for i, mnli_instance in enumerate(tqdm_notebook(dataloader_mnli)):\n",
        "    text = \"mnli hypothesis: \" + mnli_instance[\"hypothesis\"][0] + \" premise: \" + mnli_instance[\"premise\"][0]\n",
        "\n",
        "    input_ids = tokenizer.encode(text,return_tensors=\"pt\").cuda()\n",
        "    logits = model(input_ids=input_ids,decoder_input_ids =torch.tensor([[0]]).cuda()).logits[:,-1,:]\n",
        "    p = logits - avg\n",
        "    print(p)\n",
        "    if mnli_instance[\"label\"]==0:\n",
        "      ent = ent + p\n",
        "      ent_amount+=1\n",
        "    if mnli_instance[\"label\"]==1:\n",
        "      neutral = neutral + p\n",
        "      neutral_amount+=1\n",
        "    if mnli_instance[\"label\"]==2:\n",
        "      contr = contr + p\n",
        "      contr_amount+=1\n",
        "    break\n",
        "\n",
        "print(ent/mnli_length)\n",
        "print(neutral/mnli_length)\n",
        "print(contr/mnli_length)"
      ],
      "execution_count": null,
      "outputs": [
        {
          "output_type": "stream",
          "text": [
            "/usr/local/lib/python3.7/dist-packages/ipykernel_launcher.py:11: TqdmDeprecationWarning: This function will be removed in tqdm==5.0.0\n",
            "Please use `tqdm.notebook.tqdm` instead of `tqdm.tqdm_notebook`\n",
            "  # This is added back by InteractiveShellApp.init_path()\n"
          ],
          "name": "stderr"
        },
        {
          "output_type": "display_data",
          "data": {
            "application/vnd.jupyter.widget-view+json": {
              "model_id": "fbca2417494143c7bfe5c3136cb297d3",
              "version_minor": 0,
              "version_major": 2
            },
            "text/plain": [
              "HBox(children=(FloatProgress(value=0.0, max=1000.0), HTML(value='')))"
            ]
          },
          "metadata": {
            "tags": []
          }
        },
        {
          "output_type": "stream",
          "text": [
            "tensor([[252.9452, 166.6922, 178.4959,  ..., 505.0792, 506.5644, 507.4203]],\n",
            "       device='cuda:0')\n",
            "tensor([0., 0., 0.,  ..., 0., 0., 0.], device='cuda:0')\n",
            "tensor([[0.2529, 0.1667, 0.1785,  ..., 0.5051, 0.5066, 0.5074]],\n",
            "       device='cuda:0')\n",
            "tensor([0., 0., 0.,  ..., 0., 0., 0.], device='cuda:0')\n"
          ],
          "name": "stdout"
        }
      ]
    },
    {
      "cell_type": "code",
      "metadata": {
        "colab": {
          "base_uri": "https://localhost:8080/"
        },
        "id": "-lMHO5zVFCRZ",
        "outputId": "285b5680-b078-4a69-b4b7-7e6efa857291"
      },
      "source": [
        "ent"
      ],
      "execution_count": null,
      "outputs": [
        {
          "output_type": "execute_result",
          "data": {
            "text/plain": [
              "tensor([[138.8237,  13.6456,  50.6006,  ..., 231.7615, 228.1238, 232.3025]],\n",
              "       device='cuda:0')"
            ]
          },
          "metadata": {
            "tags": []
          },
          "execution_count": 91
        }
      ]
    },
    {
      "cell_type": "code",
      "metadata": {
        "colab": {
          "base_uri": "https://localhost:8080/"
        },
        "id": "9yWelTZ1FDHM",
        "outputId": "e59d0b91-bac9-4470-db3a-1433520f4e1b"
      },
      "source": [
        "ent_amount"
      ],
      "execution_count": null,
      "outputs": [
        {
          "output_type": "execute_result",
          "data": {
            "text/plain": [
              "343"
            ]
          },
          "metadata": {
            "tags": []
          },
          "execution_count": 92
        }
      ]
    },
    {
      "cell_type": "code",
      "metadata": {
        "colab": {
          "base_uri": "https://localhost:8080/",
          "height": 231
        },
        "id": "deNFH-xTGAtc",
        "outputId": "92fae01c-c5ca-4d9c-a796-d26df386bc63"
      },
      "source": [
        "#sorted tokens, the token that are most predictable for a label have higher values\n",
        "#if a token is highly predictable for more than one label, that means that \n",
        "\n",
        "ent_val, ent_ind = torch.sort(ent/ent_amount,descending=True)\n",
        "neutral_val, neutral_ind = torch.sort(neutral/neutral_amount,descending=True)\n",
        "contr_val, contr_ind = torch.sort(contr/contr_amount,descending=True)\n",
        "\n",
        "print(ent_ind[0,:10])\n",
        "print(ent_val[0,:10])\n",
        "print()\n",
        "\n",
        "print(neutral_ind[0,:10])\n",
        "print(neutral_val[0,:10])\n",
        "print()\n",
        "\n",
        "print(contr_ind[0,:10])\n",
        "print(contr_val[0,:10])\n",
        "print()"
      ],
      "execution_count": null,
      "outputs": [
        {
          "output_type": "error",
          "ename": "IndexError",
          "evalue": "ignored",
          "traceback": [
            "\u001b[0;31m---------------------------------------------------------------------------\u001b[0m",
            "\u001b[0;31mIndexError\u001b[0m                                Traceback (most recent call last)",
            "\u001b[0;32m<ipython-input-17-622cb9a75e5b>\u001b[0m in \u001b[0;36m<module>\u001b[0;34m()\u001b[0m\n\u001b[1;32m      6\u001b[0m \u001b[0mcontr_val\u001b[0m\u001b[0;34m,\u001b[0m \u001b[0mcontr_ind\u001b[0m \u001b[0;34m=\u001b[0m \u001b[0mtorch\u001b[0m\u001b[0;34m.\u001b[0m\u001b[0msort\u001b[0m\u001b[0;34m(\u001b[0m\u001b[0mcontr\u001b[0m\u001b[0;34m/\u001b[0m\u001b[0mcontr_amount\u001b[0m\u001b[0;34m,\u001b[0m\u001b[0mdescending\u001b[0m\u001b[0;34m=\u001b[0m\u001b[0;32mTrue\u001b[0m\u001b[0;34m)\u001b[0m\u001b[0;34m\u001b[0m\u001b[0;34m\u001b[0m\u001b[0m\n\u001b[1;32m      7\u001b[0m \u001b[0;34m\u001b[0m\u001b[0m\n\u001b[0;32m----> 8\u001b[0;31m \u001b[0mprint\u001b[0m\u001b[0;34m(\u001b[0m\u001b[0ment_ind\u001b[0m\u001b[0;34m[\u001b[0m\u001b[0;36m0\u001b[0m\u001b[0;34m,\u001b[0m\u001b[0;34m:\u001b[0m\u001b[0;36m10\u001b[0m\u001b[0;34m]\u001b[0m\u001b[0;34m)\u001b[0m\u001b[0;34m\u001b[0m\u001b[0;34m\u001b[0m\u001b[0m\n\u001b[0m\u001b[1;32m      9\u001b[0m \u001b[0mprint\u001b[0m\u001b[0;34m(\u001b[0m\u001b[0ment_val\u001b[0m\u001b[0;34m[\u001b[0m\u001b[0;36m0\u001b[0m\u001b[0;34m,\u001b[0m\u001b[0;34m:\u001b[0m\u001b[0;36m10\u001b[0m\u001b[0;34m]\u001b[0m\u001b[0;34m)\u001b[0m\u001b[0;34m\u001b[0m\u001b[0;34m\u001b[0m\u001b[0m\n\u001b[1;32m     10\u001b[0m \u001b[0mprint\u001b[0m\u001b[0;34m(\u001b[0m\u001b[0;34m)\u001b[0m\u001b[0;34m\u001b[0m\u001b[0;34m\u001b[0m\u001b[0m\n",
            "\u001b[0;31mIndexError\u001b[0m: too many indices for tensor of dimension 1"
          ]
        }
      ]
    },
    {
      "cell_type": "code",
      "metadata": {
        "colab": {
          "base_uri": "https://localhost:8080/",
          "height": 214
        },
        "id": "BCfXKAAd21P7",
        "outputId": "e45f8dd6-cb94-4f8e-9fea-b0d0febfd1e4"
      },
      "source": [
        "t = 7163\n",
        "print((ent/ent_amount)[0,t])\n",
        "print((neutral/neutral_amount)[0,t])\n",
        "print((contr/contr_amount)[0,t])"
      ],
      "execution_count": null,
      "outputs": [
        {
          "output_type": "error",
          "ename": "NameError",
          "evalue": "ignored",
          "traceback": [
            "\u001b[0;31m---------------------------------------------------------------------------\u001b[0m",
            "\u001b[0;31mNameError\u001b[0m                                 Traceback (most recent call last)",
            "\u001b[0;32m<ipython-input-1-5a1d13b4a723>\u001b[0m in \u001b[0;36m<module>\u001b[0;34m()\u001b[0m\n\u001b[1;32m      1\u001b[0m \u001b[0mt\u001b[0m \u001b[0;34m=\u001b[0m \u001b[0;36m7163\u001b[0m\u001b[0;34m\u001b[0m\u001b[0;34m\u001b[0m\u001b[0m\n\u001b[0;32m----> 2\u001b[0;31m \u001b[0mprint\u001b[0m\u001b[0;34m(\u001b[0m\u001b[0;34m(\u001b[0m\u001b[0ment\u001b[0m\u001b[0;34m/\u001b[0m\u001b[0ment_amount\u001b[0m\u001b[0;34m)\u001b[0m\u001b[0;34m[\u001b[0m\u001b[0;36m0\u001b[0m\u001b[0;34m,\u001b[0m\u001b[0mt\u001b[0m\u001b[0;34m]\u001b[0m\u001b[0;34m)\u001b[0m\u001b[0;34m\u001b[0m\u001b[0;34m\u001b[0m\u001b[0m\n\u001b[0m\u001b[1;32m      3\u001b[0m \u001b[0mprint\u001b[0m\u001b[0;34m(\u001b[0m\u001b[0;34m(\u001b[0m\u001b[0mneutral\u001b[0m\u001b[0;34m/\u001b[0m\u001b[0mneutral_amount\u001b[0m\u001b[0;34m)\u001b[0m\u001b[0;34m[\u001b[0m\u001b[0;36m0\u001b[0m\u001b[0;34m,\u001b[0m\u001b[0mt\u001b[0m\u001b[0;34m]\u001b[0m\u001b[0;34m)\u001b[0m\u001b[0;34m\u001b[0m\u001b[0;34m\u001b[0m\u001b[0m\n\u001b[1;32m      4\u001b[0m \u001b[0mprint\u001b[0m\u001b[0;34m(\u001b[0m\u001b[0;34m(\u001b[0m\u001b[0mcontr\u001b[0m\u001b[0;34m/\u001b[0m\u001b[0mcontr_amount\u001b[0m\u001b[0;34m)\u001b[0m\u001b[0;34m[\u001b[0m\u001b[0;36m0\u001b[0m\u001b[0;34m,\u001b[0m\u001b[0mt\u001b[0m\u001b[0;34m]\u001b[0m\u001b[0;34m)\u001b[0m\u001b[0;34m\u001b[0m\u001b[0;34m\u001b[0m\u001b[0m\n",
            "\u001b[0;31mNameError\u001b[0m: name 'ent' is not defined"
          ]
        }
      ]
    },
    {
      "cell_type": "code",
      "metadata": {
        "colab": {
          "base_uri": "https://localhost:8080/"
        },
        "id": "iJ68h1LLr8-r",
        "outputId": "41c54606-82f5-4746-841e-5b1091223ebe"
      },
      "source": [
        "print(tokenizer.decode(ent_ind[0,:10]))\n",
        "print(tokenizer.decode(neutral_ind[0,:10]))\n",
        "print(tokenizer.decode(contr_ind[0,:10]))"
      ],
      "execution_count": null,
      "outputs": [
        {
          "output_type": "stream",
          "text": [
            "upatteroyphp1/2tiptailUPpagehtml\n",
            "Both Feedback Important Vezi Fair Wash Târgu Translat Rec Alb\n",
            "Nici Nobody contradiction Nothing NoneNuNeither Nie AbsolutelyNo\n"
          ],
          "name": "stdout"
        }
      ]
    },
    {
      "cell_type": "code",
      "metadata": {
        "colab": {
          "base_uri": "https://localhost:8080/",
          "height": 134,
          "referenced_widgets": [
            "706d53f7b1594937b4e58eb69008d0e6",
            "65dcae1e1c2d4cdba2a751c5f49d9c19",
            "5a420e2d2ebb4a89a111a40242e63af1",
            "010aff6198c64f56ad631d334f5ad96d",
            "475183552e9d45f6992b56e5577eb821",
            "ec73bbc22f6d4ecb975fb41907074096",
            "635b74fc85b14af1b17f165d3f8c62ce",
            "cb7496614a0e4d0fa9612e2eabbedb21"
          ]
        },
        "id": "mOouImILETdo",
        "outputId": "f0f90e93-e7d9-42af-ce38-d230d0e25daf"
      },
      "source": [
        "\"\"\"#most similiar vector\n",
        "num_right = 0\n",
        "with torch.no_grad():\n",
        "  for i, mnli_instance in enumerate(tqdm_notebook(testloader)):\n",
        "    text = [\"\" + mnli_instance[\"hypothesis\"][j] + \" \" + mnli_instance[\"premise\"][j] for j in range(0,len(mnli_instance[\"premise\"]))]\n",
        "\n",
        "\n",
        "    input = tokenizer(text,return_tensors=\"pt\",padding=True)\n",
        "    logits = model(input_ids=input[\"input_ids\"].cuda(),attention_mask=input[\"attention_mask\"].cuda(),decoder_input_ids =torch.tensor([[0]]*len(text)).cuda()).logits[:,-1,:]\n",
        "\n",
        "    p = logits - avg.repeat(len(text),1) \n",
        "\n",
        "    e = torch.sum(torch.abs(p - ent/ent_amount),dim=-1)\n",
        "    n = torch.sum(torch.abs(p - neutral/neutral_amount),dim=-1)\n",
        "    c = torch.sum(torch.abs(p - contr/contr_amount),dim=-1)\n",
        "\n",
        "    labels = torch.argmin(torch.cat([e.unsqueeze(0),n.unsqueeze(0),c.unsqueeze(0)]),dim=0)\n",
        "    \n",
        "\n",
        "    num_right+= torch.sum(labels.cpu() == mnli_instance[\"label\"])\n",
        "\n",
        "\n",
        "num_right/test_length\"\"\""
      ],
      "execution_count": null,
      "outputs": [
        {
          "output_type": "stream",
          "text": [
            "/usr/local/lib/python3.7/dist-packages/ipykernel_launcher.py:4: TqdmDeprecationWarning: This function will be removed in tqdm==5.0.0\n",
            "Please use `tqdm.notebook.tqdm` instead of `tqdm.tqdm_notebook`\n",
            "  after removing the cwd from sys.path.\n"
          ],
          "name": "stderr"
        },
        {
          "output_type": "display_data",
          "data": {
            "application/vnd.jupyter.widget-view+json": {
              "model_id": "706d53f7b1594937b4e58eb69008d0e6",
              "version_minor": 0,
              "version_major": 2
            },
            "text/plain": [
              "HBox(children=(FloatProgress(value=0.0, max=77.0), HTML(value='')))"
            ]
          },
          "metadata": {
            "tags": []
          }
        },
        {
          "output_type": "stream",
          "text": [
            "\n"
          ],
          "name": "stdout"
        },
        {
          "output_type": "execute_result",
          "data": {
            "text/plain": [
              "tensor(0.4567)"
            ]
          },
          "metadata": {
            "tags": []
          },
          "execution_count": 77
        }
      ]
    },
    {
      "cell_type": "code",
      "metadata": {
        "colab": {
          "base_uri": "https://localhost:8080/"
        },
        "id": "m5zN2niXmeOt",
        "outputId": "f6f8bd4e-b0d1-4676-8e2a-629fc8246d61"
      },
      "source": [
        "torch.min(neutral/neutral_amount)"
      ],
      "execution_count": null,
      "outputs": [
        {
          "output_type": "execute_result",
          "data": {
            "text/plain": [
              "tensor(0.0970, device='cuda:0')"
            ]
          },
          "metadata": {
            "tags": []
          },
          "execution_count": 42
        }
      ]
    },
    {
      "cell_type": "code",
      "metadata": {
        "colab": {
          "base_uri": "https://localhost:8080/",
          "height": 185,
          "referenced_widgets": [
            "23d5ac1751bf4baa81c0f49ff2cf12c7",
            "f5a84914066a4db395d1c49e755f1683",
            "ee2f7d35c21844afba369f4193db3018",
            "ed440a1823104efeae1013b98fd5e4de",
            "7513aeb18fad4bb29cb2419e96caed3c",
            "40e482356d8549978756b742e38239b4",
            "0bca47c543bd4b0f9c8e48e116d2aae0",
            "e85b67afb39348039f9784c8c6434180"
          ]
        },
        "id": "kdsTKSFNmKHw",
        "outputId": "47ac8f46-6c43-46e0-bed6-9273466a8908"
      },
      "source": [
        "#most similiar vector\n",
        "num_right = 0\n",
        "with torch.no_grad():\n",
        "  for i, mnli_instance in enumerate(tqdm_notebook(testloader)):\n",
        "    text = [\"mnli hypothesis: \" + mnli_instance[\"hypothesis\"][j] + \" premise: \" + mnli_instance[\"premise\"][j] for j in range(0,len(mnli_instance[\"premise\"]))]\n",
        "\n",
        "\n",
        "    input = tokenizer(text,return_tensors=\"pt\",padding=True)\n",
        "    logits = model(input_ids=input[\"input_ids\"].cuda(),attention_mask=input[\"attention_mask\"].cuda(),decoder_input_ids =torch.tensor([[0]]*len(text)).cuda()).logits[:,-1,:]\n",
        "\n",
        "    p = logits - avg.repeat(len(text),1) \n",
        "\n",
        "    #e = (p * (ent/ent_amount)) * ((p * (ent/ent_amount)) >= 0) * (torch.sign(p))\n",
        "    #n = (p * (neutral/neutral_amount)) * ((p * (neutral/neutral_amount)) >= 0) * (torch.sign(p))\n",
        "    #c = (p * (contr/contr_amount)) * ((p * (contr/contr_amount)) >= 0) * (torch.sign(p))\n",
        "\n",
        "    e = p * F.softmax((ent/ent_amount))\n",
        "    n = p * F.softmax((neutral/neutral_amount))\n",
        "    c = p * F.softmax((contr/contr_amount))\n",
        "\n",
        "\n",
        "    e = torch.sum(e,dim=-1)\n",
        "    n = torch.sum(n,dim=-1)\n",
        "    c = torch.sum(c,dim=-1)\n",
        "\n",
        "\n",
        "\n",
        "\n",
        "\n",
        "    labels = torch.argmax(torch.cat([e.unsqueeze(0),n.unsqueeze(0),c.unsqueeze(0)]),dim=0)\n",
        "    \n",
        "\n",
        "    num_right+= torch.sum(labels.cpu() == mnli_instance[\"label\"])\n",
        "\n",
        "\n",
        "\n",
        "num_right/test_length"
      ],
      "execution_count": null,
      "outputs": [
        {
          "output_type": "stream",
          "text": [
            "/usr/local/lib/python3.7/dist-packages/ipykernel_launcher.py:4: TqdmDeprecationWarning: This function will be removed in tqdm==5.0.0\n",
            "Please use `tqdm.notebook.tqdm` instead of `tqdm.tqdm_notebook`\n",
            "  after removing the cwd from sys.path.\n"
          ],
          "name": "stderr"
        },
        {
          "output_type": "display_data",
          "data": {
            "application/vnd.jupyter.widget-view+json": {
              "model_id": "23d5ac1751bf4baa81c0f49ff2cf12c7",
              "version_minor": 0,
              "version_major": 2
            },
            "text/plain": [
              "HBox(children=(FloatProgress(value=0.0, max=9815.0), HTML(value='')))"
            ]
          },
          "metadata": {
            "tags": []
          }
        },
        {
          "output_type": "stream",
          "text": [
            "/usr/local/lib/python3.7/dist-packages/ipykernel_launcher.py:17: UserWarning: Implicit dimension choice for softmax has been deprecated. Change the call to include dim=X as an argument.\n",
            "/usr/local/lib/python3.7/dist-packages/ipykernel_launcher.py:18: UserWarning: Implicit dimension choice for softmax has been deprecated. Change the call to include dim=X as an argument.\n",
            "/usr/local/lib/python3.7/dist-packages/ipykernel_launcher.py:19: UserWarning: Implicit dimension choice for softmax has been deprecated. Change the call to include dim=X as an argument.\n"
          ],
          "name": "stderr"
        },
        {
          "output_type": "stream",
          "text": [
            "\n"
          ],
          "name": "stdout"
        },
        {
          "output_type": "execute_result",
          "data": {
            "text/plain": [
              "tensor(0.3545)"
            ]
          },
          "metadata": {
            "tags": []
          },
          "execution_count": 18
        }
      ]
    },
    {
      "cell_type": "code",
      "metadata": {
        "id": "GRfAowAKv3TX"
      },
      "source": [
        "tensor(0.4613)"
      ],
      "execution_count": null,
      "outputs": []
    },
    {
      "cell_type": "code",
      "metadata": {
        "colab": {
          "base_uri": "https://localhost:8080/"
        },
        "id": "ncnXDbU1qo2p",
        "outputId": "fdd03cb9-d66e-4cea-dddc-48dd74dbb5b9"
      },
      "source": [
        " torch.tensor([4,-3]) *torch.tensor([[1,2],[6,9]])"
      ],
      "execution_count": null,
      "outputs": [
        {
          "output_type": "execute_result",
          "data": {
            "text/plain": [
              "tensor([[  4,  -6],\n",
              "        [ 24, -27]])"
            ]
          },
          "metadata": {
            "tags": []
          },
          "execution_count": 49
        }
      ]
    },
    {
      "cell_type": "code",
      "metadata": {
        "colab": {
          "base_uri": "https://localhost:8080/"
        },
        "id": "cgDVOCImF8NH",
        "outputId": "74d2b227-da83-4938-f851-647c4d139ac0"
      },
      "source": [
        "torch.sum(torch.tensor([[1,2,5],[2,3,5]]),dim=1)"
      ],
      "execution_count": null,
      "outputs": [
        {
          "output_type": "execute_result",
          "data": {
            "text/plain": [
              "tensor([ 8, 10])"
            ]
          },
          "metadata": {
            "tags": []
          },
          "execution_count": 21
        }
      ]
    },
    {
      "cell_type": "code",
      "metadata": {
        "colab": {
          "base_uri": "https://localhost:8080/",
          "height": 236,
          "referenced_widgets": [
            "2d079691f3b14d7e8fa6631a8642e6ae",
            "38445fe222784bc2858b204bc3022f59",
            "87c8a183f7474c6eb80c14a81e9c96ed",
            "fa84ba8e9157475a8aaa1f2a49584e23",
            "f765c41b41a14b3299b47fe8ed4b7030",
            "229e138300a14e2fbf6448e50a122af4",
            "6be5928e979440ea8a1cbf0d6cfc147c",
            "fbd3600506da4c90814464b99bd0e19a"
          ]
        },
        "id": "V20SENqRqkzV",
        "outputId": "999725dd-636b-44f0-b73d-03c39b2acad3"
      },
      "source": [
        "\"\"\"# use all tokens as a label, only slightly worse acc than normal for hypothesis: premise:\n",
        "# for longer text random acc -> we made prediciton independant from label, which means that this analysis is a stronger argument in support that t5 cant solve mnli when given a qa format\n",
        "\n",
        "num_right = 0\n",
        "with torch.no_grad():\n",
        "  for i, mnli_instance in enumerate(tqdm_notebook(testloader_b1)):\n",
        "    text = \"question: Does the premise entail, contradict or is neutral to the hypothesis? context: hypothesis: \" + mnli_instance[\"hypothesis\"][0] + \" premise: \" + mnli_instance[\"premise\"][0]\n",
        "    input_ids = tokenizer.encode(text,return_tensors=\"pt\").cuda()\n",
        "    logits = model(input_ids=input_ids,decoder_input_ids =torch.tensor([[0]]).cuda()).logits[:,-1,:]\n",
        "    p = avg[:,:] - logits[:,:]\n",
        "    e = torch.sum(p * F.softmax((ent/ent_amount)[:,:]))\n",
        "    n = torch.sum(p * F.softmax((neutral/neutral_amount)[:,:]))\n",
        "    c = torch.sum(p * F.softmax((contr/contr_amount)[:,:]))\n",
        "    label = np.argmin([e,n,c])\n",
        "    \n",
        "    print\n",
        "    if label == mnli_instance[\"label\"]:\n",
        "          num_right+=1\n",
        "num_right/test_length\"\"\""
      ],
      "execution_count": null,
      "outputs": [
        {
          "output_type": "stream",
          "text": [
            "/usr/local/lib/python3.7/dist-packages/ipykernel_launcher.py:6: TqdmDeprecationWarning: This function will be removed in tqdm==5.0.0\n",
            "Please use `tqdm.notebook.tqdm` instead of `tqdm.tqdm_notebook`\n",
            "  \n"
          ],
          "name": "stderr"
        },
        {
          "output_type": "display_data",
          "data": {
            "application/vnd.jupyter.widget-view+json": {
              "model_id": "2d079691f3b14d7e8fa6631a8642e6ae",
              "version_minor": 0,
              "version_major": 2
            },
            "text/plain": [
              "HBox(children=(FloatProgress(value=0.0, max=9815.0), HTML(value='')))"
            ]
          },
          "metadata": {
            "tags": []
          }
        },
        {
          "output_type": "stream",
          "text": [
            "/usr/local/lib/python3.7/dist-packages/ipykernel_launcher.py:11: UserWarning: Implicit dimension choice for softmax has been deprecated. Change the call to include dim=X as an argument.\n",
            "  # This is added back by InteractiveShellApp.init_path()\n",
            "/usr/local/lib/python3.7/dist-packages/ipykernel_launcher.py:12: UserWarning: Implicit dimension choice for softmax has been deprecated. Change the call to include dim=X as an argument.\n",
            "  if sys.path[0] == '':\n",
            "/usr/local/lib/python3.7/dist-packages/ipykernel_launcher.py:13: UserWarning: Implicit dimension choice for softmax has been deprecated. Change the call to include dim=X as an argument.\n",
            "  del sys.path[0]\n"
          ],
          "name": "stderr"
        },
        {
          "output_type": "stream",
          "text": [
            "\n"
          ],
          "name": "stdout"
        },
        {
          "output_type": "execute_result",
          "data": {
            "text/plain": [
              "0.6737646459500765"
            ]
          },
          "metadata": {
            "tags": []
          },
          "execution_count": 48
        }
      ]
    },
    {
      "cell_type": "code",
      "metadata": {
        "id": "x4ISdlgZmTrZ"
      },
      "source": [
        "#using standart prompt and gpt-sytle(so text = \"hypothesis: \" + mnli_instance[\"hypothesis\"][0] + \"premise: \" + mnli_instance[\"premise\"][0] + \"<extra_id_0>\")\n",
        "tensor([  413, 10206,  8170, 12786, 17637, 11537,  5756,  6880,  6492, 10500],\n",
        "       device='cuda:0')\n",
        "tensor([0.7507, 0.6906, 0.6891, 0.6862, 0.6862, 0.6848, 0.6789, 0.6774, 0.6760,\n",
        "        0.6760], device='cuda:0')\n",
        "\n",
        "tensor([ 2867, 23485, 16516, 26535,  4506, 12429, 27696, 30355,  7136, 12677],\n",
        "       device='cuda:0')\n",
        "tensor([0.6576, 0.6491, 0.6474, 0.6474, 0.6457, 0.6457, 0.6457, 0.6457, 0.6440,\n",
        "        0.6440], device='cuda:0')\n",
        "\n",
        "tensor([17167, 22009, 27252,  9428, 14794, 12924, 19685, 17584, 20510,  4168],\n",
        "       device='cuda:0')\n",
        "tensor([0.5869, 0.5677, 0.5650, 0.5445, 0.5445, 0.5349, 0.5349, 0.5116, 0.5062,\n",
        "        0.5048], device='cuda:0')\n",
        "\n",
        "#and acc of 54%, which means that nli capabilites are not even translaten when using the predict token\n",
        "#entailment and neutral token are not even in the top10\n",
        "\n",
        "#it was also not the case that i missed a space before extraid\n",
        "\n",
        "#actually it just completly ignores the extra_id and just solves the normal task\n",
        "# we could also investigate which tasks are stronger when we give t5 two tasks"
      ],
      "execution_count": null,
      "outputs": []
    },
    {
      "cell_type": "code",
      "metadata": {
        "id": "xqyz3u5Kjp63"
      },
      "source": [
        "#text = \"1. \" + mnli_instance[\"hypothesis\"][0] + \" 2. \" + mnli_instance[\"premise\"][0] + \"It is a fact, that statement 2 <extra_id_0> statement 1.\"\n",
        "#gpt style\n",
        "tensor([ 7641,  5978,  8193, 23990,  6407,  7229, 21655, 27724,  2396, 10286],\n",
        "       device='cuda:0')\n",
        "tensor([0.6833, 0.6686, 0.6598, 0.6598, 0.6569, 0.6540, 0.6540, 0.6510, 0.6422,\n",
        "        0.6364], device='cuda:0')\n",
        "\n",
        "tensor([ 8193, 30230,  4799, 21655,  5978, 23990, 14780, 30575, 13551, 25678],\n",
        "       device='cuda:0')\n",
        "tensor([0.7398, 0.7210, 0.6928, 0.6897, 0.6865, 0.6865, 0.6834, 0.6803, 0.6677,\n",
        "        0.6646], device='cuda:0')\n",
        "\n",
        "tensor([ 8193, 30230, 20215, 11572,  2396, 10286, 29096,  1178,  6407, 26999],\n",
        "       device='cuda:0')\n",
        "tensor([0.7000, 0.7000, 0.6941, 0.6794, 0.6765, 0.6765, 0.6765, 0.6706, 0.6706,\n",
        "        0.6706], device='cuda:0')\n",
        "\n",
        "und acc von 42%,aber mit labeln von testset"
      ],
      "execution_count": null,
      "outputs": []
    },
    {
      "cell_type": "code",
      "metadata": {
        "id": "qEjOvDUTkfft"
      },
      "source": [
        "# todo pro test instanz herausfinden, ob toekn größer oder kleiner dem basewert sind. Dann passend addieren. Zb wenn 3>avg, bekommt ent+1, contr+0.2,neutral+0.4 oder so. Dann max bilden"
      ],
      "execution_count": null,
      "outputs": []
    },
    {
      "cell_type": "code",
      "metadata": {
        "colab": {
          "base_uri": "https://localhost:8080/",
          "height": 35
        },
        "id": "kb9un5VdIq28",
        "outputId": "37a1974c-fe67-4365-e6b1-59c51631ae46"
      },
      "source": [
        "tokenizer.decode([27252, 19218, 25632, 16715, 18616, 26682, 19685,  5839, 10942, 13373])"
      ],
      "execution_count": null,
      "outputs": [
        {
          "output_type": "execute_result",
          "data": {
            "application/vnd.google.colaboratory.intrinsic+json": {
              "type": "string"
            },
            "text/plain": [
              "'contradiction delocintrarea nowherelipsawederNeither nonehardlyaucune'"
            ]
          },
          "metadata": {
            "tags": []
          },
          "execution_count": 45
        }
      ]
    },
    {
      "cell_type": "code",
      "metadata": {
        "id": "8WSQ4_Gjgfi5"
      },
      "source": [
        "# ergebnis für hypothesis: premise: ,ohne softmax, mit denen bekommt man leicht über rand acc(40%)\n",
        "\n",
        "tensor([    3,   587,  1120,  1216,  3919,  5266,  6328,  6418,  7102, 10316],\n",
        "       device='cuda:0')\n",
        "tensor([1., 1., 1., 1., 1., 1., 1., 1., 1., 1.], device='cuda:0')\n",
        "\n",
        "tensor([ 7163, 21323, 27744, 29156, 20998, 24623, 29389, 30913, 21010, 21228],\n",
        "       device='cuda:0')\n",
        "tensor([0.9898, 0.9830, 0.9830, 0.9813, 0.9796, 0.9796, 0.9796, 0.9761, 0.9744,\n",
        "        0.9744], device='cuda:0')\n",
        "\n",
        "tensor([27252, 19218, 25632, 16715, 18616, 26682, 19685,  5839, 10942, 13373],\n",
        "       device='cuda:0')\n",
        "tensor([0.4815, 0.4323, 0.4254, 0.4241, 0.4241, 0.4200, 0.4172, 0.4131, 0.4131,\n",
        "        0.4131], device='cuda:0')\n"
      ],
      "execution_count": null,
      "outputs": []
    },
    {
      "cell_type": "code",
      "metadata": {
        "id": "SFUsqB-_a582"
      },
      "source": [
        "# ergebnis für langen text,ohne softmax, mit denen bekommt man leicht über rand acc(40%)\n",
        "\n",
        "tensor([ 4322, 11124, 21886,  9210, 20598, 25846, 27938, 21794,  9831, 18094],\n",
        "       device='cuda:0')\n",
        "tensor([0.7009, 0.6994, 0.6994, 0.6950, 0.6950, 0.6935, 0.6935, 0.6921, 0.6906,\n",
        "        0.6906], device='cuda:0')\n",
        "\n",
        "tensor([24714, 12991, 17069, 15148, 25946, 19384, 21021, 21233, 31817, 13516],\n",
        "       device='cuda:0')\n",
        "tensor([0.6048, 0.5911, 0.5843, 0.5826, 0.5809, 0.5792, 0.5775, 0.5775, 0.5775,\n",
        "        0.5758], device='cuda:0')\n",
        "\n",
        "tensor([15714,  6763, 24432, 21361, 12358,  7642, 29618,  9520, 13190, 20294],\n",
        "       device='cuda:0')\n",
        "tensor([0.5800, 0.5677, 0.5677, 0.5663, 0.5636, 0.5622, 0.5622, 0.5609, 0.5609,\n",
        "        0.5609], device='cuda:0')"
      ],
      "execution_count": null,
      "outputs": []
    },
    {
      "cell_type": "code",
      "metadata": {
        "id": "j_sx0z6vIFud"
      },
      "source": [
        "#result for hypothesis: and premise:\n",
        "\n",
        "tensor([ 1120,     3,     6,    31, 27441, 20734, 19197,    11,    87,  1216],\n",
        "       device='cuda:0')\n",
        "tensor([0.9355, 0.9311, 0.9179, 0.9164, 0.9150, 0.9106, 0.9062, 0.9032, 0.9003,\n",
        "        0.8988], device='cuda:0')\n",
        "\n",
        "tensor([ 7163,  7856, 21323, 29156,  1465, 12682, 20426, 21628, 26462, 22883],\n",
        "       device='cuda:0')\n",
        "tensor([0.9216, 0.6951, 0.6882, 0.6814, 0.6763, 0.6695, 0.6678, 0.6678, 0.6644,\n",
        "        0.6610], device='cuda:0')\n",
        "\n",
        "tensor([27252,  7598,  1327,   206, 29619, 26645, 28525, 12638, 19352, 20135],\n",
        "       device='cuda:0')\n",
        "tensor([0.9617, 0.5964, 0.5841, 0.5554, 0.5335, 0.5294, 0.5212, 0.5185, 0.5171,\n",
        "        0.5171], device='cuda:0')"
      ],
      "execution_count": null,
      "outputs": []
    },
    {
      "cell_type": "code",
      "metadata": {
        "colab": {
          "base_uri": "https://localhost:8080/",
          "height": 151,
          "referenced_widgets": [
            "055fd5c3575346f493328e43f369d8b8",
            "99b3c50dd8374c9283f498cbcf1d45fb",
            "1eb86c98ba964f6e899f3a32ecc3cf44",
            "5b199600c06c40c2944b650774339420",
            "977fb30f6419460580fa709ff57e58ab",
            "bc24beffe59042cabe399eb145687843",
            "bcca2d033cca42739ad932e01aa94362",
            "89d7afebc65f47ed9cacff46b0efb661"
          ]
        },
        "id": "QJLrjpIvIgxK",
        "outputId": "79cfbb92-ecda-4c39-9202-04cbf4d2f085"
      },
      "source": [
        "from tqdm import tqdm_notebook\n",
        "import numpy as np\n",
        "import torch.nn.functional as F\n",
        "num_right = 0\n",
        "ent_count = 0\n",
        "contr_count = 0\n",
        "neutral_count = 0\n",
        "\n",
        "ent_amount = 0\n",
        "neutral_amount =0 \n",
        "contr_amount = 0\n",
        "with torch.no_grad():\n",
        "  for i, mnli_instance in enumerate(tqdm_notebook(dataloader_mnli)):\n",
        "\n",
        "      text = \"question: Which option is right? context: statement 1:\" + mnli_instance[\"hypothesis\"][0] + \" statement 2: \" + mnli_instance[\"premise\"][0] + \"Option 1: statement 2 entails statement 1. Option 2: statement 2 is neutral to statement 1. Option 3: statement 2 contradicts statement 1.\"\n",
        "\n",
        "      input_ids = tokenizer.encode(text,return_tensors=\"pt\").cuda()\n",
        "      logits = F.softmax(model(input_ids=input_ids,decoder_input_ids =torch.tensor([[0]]).cuda()).logits[:,-1,:])\n",
        "      label = torch.argmax(torch.cat([logits[:,4322]/1.3330772191637655e-05, logits[:,24714]/5.47142535705647e-05,logits[:,15714]/2.9161071427877272e-05]))\n",
        "      ent_count+=logits[:,4322].item()\n",
        "      neutral_count+=logits[:,24714].item()\n",
        "      contr_count+=logits[:,15714].item()\n",
        "      if mnli_instance[\"label\"]==0:\n",
        "        ent_amount+=1\n",
        "      if mnli_instance[\"label\"]==1:\n",
        "        neutral_amount+=1\n",
        "      if mnli_instance[\"label\"]==2:\n",
        "        contr_amount+=1\n",
        "      #if logits[:,28722] > 0 or logits[:,7163] > 0 or logits[:,27252] > 0:\n",
        "      #  print(\"trulll\")\n",
        "      \n",
        "      if label.cpu() == mnli_instance[\"label\"]:\n",
        "          num_right+=1\n",
        "\n",
        "num_right/mnli_length"
      ],
      "execution_count": null,
      "outputs": [
        {
          "output_type": "stream",
          "text": [
            "/usr/local/lib/python3.7/dist-packages/ipykernel_launcher.py:13: TqdmDeprecationWarning: This function will be removed in tqdm==5.0.0\n",
            "Please use `tqdm.notebook.tqdm` instead of `tqdm.tqdm_notebook`\n",
            "  del sys.path[0]\n"
          ],
          "name": "stderr"
        },
        {
          "output_type": "display_data",
          "data": {
            "application/vnd.jupyter.widget-view+json": {
              "model_id": "055fd5c3575346f493328e43f369d8b8",
              "version_minor": 0,
              "version_major": 2
            },
            "text/plain": [
              "HBox(children=(FloatProgress(value=0.0, max=2000.0), HTML(value='')))"
            ]
          },
          "metadata": {
            "tags": []
          }
        },
        {
          "output_type": "stream",
          "text": [
            "/usr/local/lib/python3.7/dist-packages/ipykernel_launcher.py:18: UserWarning: Implicit dimension choice for softmax has been deprecated. Change the call to include dim=X as an argument.\n"
          ],
          "name": "stderr"
        },
        {
          "output_type": "stream",
          "text": [
            "\n"
          ],
          "name": "stdout"
        },
        {
          "output_type": "execute_result",
          "data": {
            "text/plain": [
              "0.397"
            ]
          },
          "metadata": {
            "tags": []
          },
          "execution_count": 35
        }
      ]
    },
    {
      "cell_type": "code",
      "metadata": {
        "colab": {
          "base_uri": "https://localhost:8080/"
        },
        "id": "4weDXIE4VnYR",
        "outputId": "a6594c73-69c3-4b05-8eb6-c10240bc40e5"
      },
      "source": [
        "print(ent_count/ent_amount)#das darf man eig garnicht machen\n",
        "print(neutral_count/neutral_amount)\n",
        "print(contr_count/contr_amount)"
      ],
      "execution_count": null,
      "outputs": [
        {
          "output_type": "stream",
          "text": [
            "1.9546586791257558e-08\n",
            "9.320997201118347e-08\n",
            "3.989202657712349e-08\n"
          ],
          "name": "stdout"
        }
      ]
    },
    {
      "cell_type": "code",
      "metadata": {
        "colab": {
          "base_uri": "https://localhost:8080/"
        },
        "id": "hoyifXxFbr5U",
        "outputId": "a631faf9-1408-4025-9eb8-8258fdb0ebda"
      },
      "source": [
        "print(ent_count)#das darf man eig garnicht machen\n",
        "print(neutral_count)\n",
        "print(contr_count)"
      ],
      "execution_count": null,
      "outputs": [
        {
          "output_type": "stream",
          "text": [
            "1.3330772191637655e-05\n",
            "5.47142535705647e-05\n",
            "2.9161071427877272e-05\n"
          ],
          "name": "stdout"
        }
      ]
    },
    {
      "cell_type": "code",
      "metadata": {
        "id": "T94C8E_rYYH-"
      },
      "source": [
        "mit 18682/17011/13745 bekommt man für       text = \"question: Which option is right? context: statement 1:\" + mnli_instance[\"hypothesis\"][0] + \" statement 2: \" + mnli_instance[\"premise\"][0] + \"Option 1: statement 2 entails statement 1. Option 2: statement 2 is neutral to statement 1. Option 3: statement 2 contradicts statement 1.\"\n",
        "42%, also leicht besser als rand"
      ],
      "execution_count": null,
      "outputs": []
    },
    {
      "cell_type": "markdown",
      "metadata": {
        "id": "G90bqqwpnvbj"
      },
      "source": [
        "# most biased tokens\n",
        "\n",
        "question: which labels should we use for ent/neutral/contr without trying all the 50000^3 possibilites\n",
        "\n",
        "\n",
        "look for labels that have the highest deviation from their baseline for one label. So we first calculate the basline for each token, by computing the mean over all the training instances. Then we calculate the baseline for each token for each label. Then divide the label specific baseline by the baseline. If there is a token that is highly predictable for a label it will have a high value. Sort them"
      ]
    },
    {
      "cell_type": "code",
      "metadata": {
        "colab": {
          "base_uri": "https://localhost:8080/"
        },
        "id": "VikGvNWup6mj",
        "outputId": "b6cfa023-84f8-4410-c617-71ac20b177e0"
      },
      "source": [
        "torch.tensor([1,2]) / torch.tensor([5,6])"
      ],
      "execution_count": null,
      "outputs": [
        {
          "output_type": "execute_result",
          "data": {
            "text/plain": [
              "tensor([0.2000, 0.3333])"
            ]
          },
          "metadata": {
            "tags": []
          },
          "execution_count": 125
        }
      ]
    },
    {
      "cell_type": "code",
      "metadata": {
        "colab": {
          "base_uri": "https://localhost:8080/",
          "height": 236,
          "referenced_widgets": [
            "0df8c968326c4915b467a1f287037905",
            "6e82a088ec1d4280bb2bb0e9df2149d7",
            "06f2b534c6964472bf28a7ef5227c3ed",
            "aeb8f93eccf74d1a8da8f4764e9d577f",
            "5fc230db53d74e2c8e873dc65f7a6fc2",
            "8531bf8305c8487c9ca34f06127294ac",
            "ad6fc86d98a2429c866b068dd66f13e2",
            "843f79bd5ece42c88883d72c7b4877a8"
          ]
        },
        "id": "kTs8RZBnn_-4",
        "outputId": "74605b1a-9ee2-4a6c-8778-0696bdb43f02"
      },
      "source": [
        "from tqdm import tqdm_notebook\n",
        "import numpy as np\n",
        "import torch.nn.functional as F\n",
        "sum_ent = torch.tensor([0]*32128).cuda()\n",
        "sum_neutral = torch.tensor([0]*32128).cuda()\n",
        "sum_contr = torch.tensor([0]*32128).cuda()\n",
        "\n",
        "ent_amount = 0\n",
        "neutral_amount = 0\n",
        "contr_amount = 0\n",
        "\n",
        "\n",
        "with torch.no_grad():\n",
        "  sum=torch.tensor([0]*32128).cuda()\n",
        "  for i, mnli_instance in enumerate(tqdm_notebook(dataloader_mnli)):\n",
        "    text = \"1. \" + mnli_instance[\"hypothesis\"][0] + \" 2. \" + mnli_instance[\"premise\"][0] + \"It is a fact, that statement 2 <extra_id_0> statement 1.\"\n",
        "    input_ids = tokenizer.encode(text,return_tensors=\"pt\").cuda()\n",
        "    logits = F.softmax(model(input_ids=input_ids,decoder_input_ids =torch.tensor([[0]]).cuda()).logits[:,-1,:])\n",
        "    if mnli_instance[\"label\"]==0:\n",
        "      sum_ent = sum_ent + logits\n",
        "      ent_amount+=1\n",
        "\n",
        "    if mnli_instance[\"label\"]==1:\n",
        "      sum_neutral = sum_neutral + logits\n",
        "      neutral_amount+=1\n",
        "\n",
        "    if mnli_instance[\"label\"]==2:\n",
        "      sum_contr = sum_contr + logits\n",
        "      contr_amount+=1\n",
        "\n",
        "\n",
        "sum_ent = sum_ent / ent_amount\n",
        "sum_neutral = sum_neutral / neutral_amount\n",
        "sum_contr = sum_contr / contr_amount\n",
        "\n",
        "sum = sum_ent + sum_neutral + sum_contr\n",
        "\n",
        "sum_ent = sum_ent / sum\n",
        "sum_neutral = sum_neutral / sum\n",
        "sum_contr = sum_contr / sum\n",
        "\n",
        "print(sum_ent)\n",
        "print(sum_neutral)\n",
        "print(sum_contr)\n",
        "\n",
        "      \n",
        "\n",
        "\n"
      ],
      "execution_count": null,
      "outputs": [
        {
          "output_type": "stream",
          "text": [
            "/usr/local/lib/python3.7/dist-packages/ipykernel_launcher.py:15: TqdmDeprecationWarning: This function will be removed in tqdm==5.0.0\n",
            "Please use `tqdm.notebook.tqdm` instead of `tqdm.tqdm_notebook`\n",
            "  from ipykernel import kernelapp as app\n"
          ],
          "name": "stderr"
        },
        {
          "output_type": "display_data",
          "data": {
            "application/vnd.jupyter.widget-view+json": {
              "model_id": "0df8c968326c4915b467a1f287037905",
              "version_minor": 0,
              "version_major": 2
            },
            "text/plain": [
              "HBox(children=(FloatProgress(value=0.0, max=2000.0), HTML(value='')))"
            ]
          },
          "metadata": {
            "tags": []
          }
        },
        {
          "output_type": "stream",
          "text": [
            "/usr/local/lib/python3.7/dist-packages/ipykernel_launcher.py:18: UserWarning: Implicit dimension choice for softmax has been deprecated. Change the call to include dim=X as an argument.\n"
          ],
          "name": "stderr"
        },
        {
          "output_type": "stream",
          "text": [
            "\n",
            "tensor([[0.5346, 0.6291, 0.6537,  ..., 0.2485, 0.2452, 0.2459]],\n",
            "       device='cuda:0')\n",
            "tensor([[0.3522, 0.2466, 0.2556,  ..., 0.4662, 0.4665, 0.4653]],\n",
            "       device='cuda:0')\n",
            "tensor([[0.1132, 0.1243, 0.0908,  ..., 0.2853, 0.2883, 0.2888]],\n",
            "       device='cuda:0')\n"
          ],
          "name": "stdout"
        }
      ]
    },
    {
      "cell_type": "code",
      "metadata": {
        "colab": {
          "base_uri": "https://localhost:8080/"
        },
        "id": "sY6IzO7dn7Mq",
        "outputId": "afc73a74-5728-4bbe-c7a0-e50404bde3e3"
      },
      "source": [
        "ent_val, ent_ind = torch.sort(sum_ent,descending=True)\n",
        "neutral_val, neutral_ind = torch.sort(sum_neutral,descending=True)\n",
        "contr_val, contr_ind = torch.sort(sum_contr,descending=True)\n",
        "\n",
        "print(ent_ind[0,:10])\n",
        "print(ent_val[0,:10])\n",
        "print()\n",
        "\n",
        "print(neutral_ind[0,:10])\n",
        "print(neutral_val[0,:10])\n",
        "print()\n",
        "\n",
        "print(contr_ind[0,:10])\n",
        "print(contr_val[0,:10])\n",
        "print()"
      ],
      "execution_count": null,
      "outputs": [
        {
          "output_type": "stream",
          "text": [
            "tensor([    3, 19197, 20734, 14371, 22508, 24161,  5266, 10998, 13943, 27441],\n",
            "       device='cuda:0')\n",
            "tensor([0.8992, 0.8241, 0.8202, 0.8034, 0.7889, 0.7781, 0.7771, 0.7741, 0.7741,\n",
            "        0.7701], device='cuda:0')\n",
            "\n",
            "tensor([29048, 16239, 25052, 18566, 18026,  1960, 30598,  7163, 20092,   469],\n",
            "       device='cuda:0')\n",
            "tensor([0.9812, 0.9587, 0.8740, 0.8736, 0.8713, 0.8358, 0.8355, 0.8302, 0.8083,\n",
            "        0.8011], device='cuda:0')\n",
            "\n",
            "tensor([18616, 19218, 13373, 28369, 14607, 15850, 20864, 27826, 30620, 31527],\n",
            "       device='cuda:0')\n",
            "tensor([0.9924, 0.9879, 0.9847, 0.9823, 0.9810, 0.9807, 0.9573, 0.9488, 0.9438,\n",
            "        0.9426], device='cuda:0')\n",
            "\n"
          ],
          "name": "stdout"
        }
      ]
    },
    {
      "cell_type": "code",
      "metadata": {
        "colab": {
          "base_uri": "https://localhost:8080/",
          "height": 35
        },
        "id": "VH4r4mec8SCb",
        "outputId": "891d20c4-bba2-49f1-d002-c9b1ef3cc229"
      },
      "source": [
        "tokenizer.decode([  125, 14410,  9170, 20561, 17849,  8178, 21747,  6104, 11835,  4479])"
      ],
      "execution_count": null,
      "outputs": [
        {
          "output_type": "execute_result",
          "data": {
            "application/vnd.google.colaboratory.intrinsic+json": {
              "type": "string"
            },
            "text/plain": [
              "'what passivewhat proactivewelcher Jon cadouquelle Baiquel'"
            ]
          },
          "metadata": {
            "tags": []
          },
          "execution_count": 17
        }
      ]
    },
    {
      "cell_type": "code",
      "metadata": {
        "id": "Msy3VbEVB8Cp"
      },
      "source": [
        "# hypothesis: and premise:, train[2000:4000]\n",
        "tensor([    3, 19197, 20734, 14371, 22508, 24161,  5266, 10998, 13943, 27441],\n",
        "       device='cuda:0')\n",
        "tensor([0.8992, 0.8241, 0.8202, 0.8034, 0.7889, 0.7781, 0.7771, 0.7741, 0.7741,\n",
        "        0.7701], device='cuda:0')\n",
        "\n",
        "tensor([29048, 16239, 25052, 18566, 18026,  1960, 30598,  7163, 20092,   469],\n",
        "       device='cuda:0')\n",
        "tensor([0.9812, 0.9587, 0.8740, 0.8736, 0.8713, 0.8358, 0.8355, 0.8302, 0.8083,\n",
        "        0.8011], device='cuda:0')\n",
        "\n",
        "tensor([18616, 19218, 13373, 28369, 14607, 15850, 20864, 27826, 30620, 31527],\n",
        "       device='cuda:0')\n",
        "tensor([0.9924, 0.9879, 0.9847, 0.9823, 0.9810, 0.9807, 0.9573, 0.9488, 0.9438,\n",
        "        0.9426], device='cuda:0')"
      ],
      "execution_count": null,
      "outputs": []
    },
    {
      "cell_type": "code",
      "metadata": {
        "id": "ppioa4jPBrec"
      },
      "source": [
        "# hypothesis: and premise:, train[0:2000]\n",
        "tensor([    3,   837, 20734,   412, 19197, 14371, 10998,  5266, 22508, 27441],\n",
        "       device='cuda:0')\n",
        "tensor([0.8970, 0.8494, 0.8279, 0.8222, 0.8212, 0.7910, 0.7894, 0.7871, 0.7845,\n",
        "        0.7795], device='cuda:0')\n",
        "\n",
        "tensor([ 7163, 31510, 20998, 23480, 24788, 24750, 29156, 31120, 21323, 31178],\n",
        "       device='cuda:0')\n",
        "tensor([0.8462, 0.8138, 0.7635, 0.7626, 0.7361, 0.7284, 0.7193, 0.7187, 0.7136,\n",
        "        0.7123], device='cuda:0')\n",
        "\n",
        "tensor([18616, 19218, 28369, 14607, 13373, 15850, 20864, 27826, 30620,  7362],\n",
        "       device='cuda:0')\n",
        "tensor([0.9909, 0.9873, 0.9831, 0.9812, 0.9800, 0.9773, 0.9745, 0.9538, 0.9513,\n",
        "        0.9449], device='cuda:0')\n"
      ],
      "execution_count": null,
      "outputs": []
    },
    {
      "cell_type": "code",
      "metadata": {
        "id": "lB1LGPlP9_S7"
      },
      "source": [
        "#results for  \"question: Which option is right? context: statement 1:\" + mnli_instance[\"hypothesis\"][0] + \" statement 2: \" + mnli_instance[\"premise\"][0] + \"Option 1: statement 2 entails statement 1. Option 2: statement 2 is neutral to statement 1. Option 3: statement 2 contradicts statement 1.\"\n",
        "tensor([19197, 23869, 31946,  3804, 29121, 28149, 31055,  8545, 16545, 31447],\n",
        "       device='cuda:0')\n",
        "tensor([0.7818, 0.7526, 0.6689, 0.6672, 0.6234, 0.6044, 0.6009, 0.6003, 0.5872,\n",
        "        0.5842], device='cuda:0')\n",
        "\n",
        "tensor([  125, 14410,  9170, 20561, 17849,  8178, 21747,  6104, 11835,  4479],\n",
        "       device='cuda:0')\n",
        "tensor([0.8829, 0.8059, 0.7840, 0.7270, 0.7155, 0.6883, 0.6488, 0.6344, 0.6248,\n",
        "        0.6115], device='cuda:0')\n",
        "\n",
        "tensor([13643,  3644, 11122, 12084,  4281,  1980,  7078, 20592,  1845, 14256],\n",
        "       device='cuda:0')\n",
        "tensor([0.9996, 0.9942, 0.9742, 0.9735, 0.9713, 0.9632, 0.9599, 0.9489, 0.9478,\n",
        "        0.9426], device='cuda:0')"
      ],
      "execution_count": null,
      "outputs": []
    },
    {
      "cell_type": "code",
      "metadata": {
        "colab": {
          "base_uri": "https://localhost:8080/",
          "height": 35
        },
        "id": "Xi4zevDYqxF8",
        "outputId": "7403e072-38ba-42ad-dbb6-210cf79ac522"
      },
      "source": [
        "# rersult for hypothesis: and premise:\n",
        "\n",
        "tensor([    3,   837, 20734, 19197,   412, 10998, 14371, 22508,  5266, 27441],\n",
        "       device='cuda:0')\n",
        "tensor([0.8954, 0.8245, 0.8213, 0.8035, 0.7849, 0.7841, 0.7839, 0.7754, 0.7752,\n",
        "        0.7711], device='cuda:0')\n",
        "\n",
        "tensor([ 7163, 31510, 23480, 20998, 24788, 24750, 29156, 30913, 21323, 31178],\n",
        "       device='cuda:0')\n",
        "tensor([0.8421, 0.8205, 0.7517, 0.7464, 0.7190, 0.7179, 0.7167, 0.7037, 0.7025,\n",
        "        0.7017], device='cuda:0')\n",
        "\n",
        "tensor([18616, 19218, 14607, 28369, 13373, 15850, 20864, 27826, 30620,  7362],\n",
        "       device='cuda:0')\n",
        "tensor([0.9898, 0.9870, 0.9808, 0.9801, 0.9771, 0.9762, 0.9728, 0.9526, 0.9467,\n",
        "        0.9428], device='cuda:0')"
      ],
      "execution_count": null,
      "outputs": [
        {
          "output_type": "execute_result",
          "data": {
            "application/vnd.google.colaboratory.intrinsic+json": {
              "type": "string"
            },
            "text/plain": [
              "'lipsa deloc nimeniabsoluaucune niciunsadlypathetictermeni nimic'"
            ]
          },
          "metadata": {
            "tags": []
          },
          "execution_count": 134
        }
      ]
    },
    {
      "cell_type": "code",
      "metadata": {
        "colab": {
          "base_uri": "https://localhost:8080/",
          "height": 151,
          "referenced_widgets": [
            "3acbcf93e7e9468ca54a3a2bf00ce615",
            "4cfb9920ca204655a091b6ca2f887c24",
            "83440b68f2554392859eacf2544fc386",
            "fbb9c645720649ec94330a4733594a1d",
            "1b8260ad57d042acb8be1b3cc2255839",
            "9d004bde0c4d49fcb2e46f087e7e9396",
            "d8a68a5edd5b4379b19889b8bd19105b",
            "3ac7f55a26f94803aa99dc3c3c796e4f"
          ]
        },
        "id": "QAuYTHdArz44",
        "outputId": "44b54c59-7b51-4556-fbda-9110ef3ba551"
      },
      "source": [
        "from tqdm import tqdm_notebook\n",
        "import numpy as np\n",
        "import torch.nn.functional as F\n",
        "num_right = 0\n",
        "ent_count = 0\n",
        "contr_count = 0\n",
        "neutral_count = 0\n",
        "\n",
        "ent_amount = 0\n",
        "neutral_amount =0 \n",
        "contr_amount = 0\n",
        "with torch.no_grad():\n",
        "  for i, mnli_instance in enumerate(tqdm_notebook(testloader)):\n",
        "\n",
        "      text = \"hypothesis: \" + mnli_instance[\"hypothesis\"][0] + \" premise: \" + mnli_instance[\"premise\"][0] \n",
        "      input_ids = tokenizer.encode(text,return_tensors=\"pt\").cuda()\n",
        "      logits = F.softmax(model(input_ids=input_ids,decoder_input_ids =torch.tensor([[0]]).cuda()).logits[:,-1,:])\n",
        "      label = torch.argmax(torch.cat([logits[:,1120]/2.834065510211327e-07, logits[:,7163]/1.035108953294475,logits[:,27252]/1.0598568164649003]))\n",
        "      ent_count+=logits[:,1120].item()\n",
        "      neutral_count+=logits[:,7163].item()\n",
        "      contr_count+=logits[:,27252].item()\n",
        "      if mnli_instance[\"label\"]==0:\n",
        "        ent_amount+=1\n",
        "      if mnli_instance[\"label\"]==1:\n",
        "        neutral_amount+=1\n",
        "      if mnli_instance[\"label\"]==2:\n",
        "        contr_amount+=1\n",
        "      #if logits[:,28722] > 0 or logits[:,7163] > 0 or logits[:,27252] > 0:\n",
        "      #  print(\"trulll\")\n",
        "      \n",
        "      if label.cpu() == mnli_instance[\"label\"]:\n",
        "          num_right+=1\n",
        "\n",
        "num_right/test_length "
      ],
      "execution_count": null,
      "outputs": [
        {
          "output_type": "stream",
          "text": [
            "/usr/local/lib/python3.7/dist-packages/ipykernel_launcher.py:13: TqdmDeprecationWarning: This function will be removed in tqdm==5.0.0\n",
            "Please use `tqdm.notebook.tqdm` instead of `tqdm.tqdm_notebook`\n",
            "  del sys.path[0]\n"
          ],
          "name": "stderr"
        },
        {
          "output_type": "display_data",
          "data": {
            "application/vnd.jupyter.widget-view+json": {
              "model_id": "3acbcf93e7e9468ca54a3a2bf00ce615",
              "version_minor": 0,
              "version_major": 2
            },
            "text/plain": [
              "HBox(children=(FloatProgress(value=0.0, max=1000.0), HTML(value='')))"
            ]
          },
          "metadata": {
            "tags": []
          }
        },
        {
          "output_type": "stream",
          "text": [
            "/usr/local/lib/python3.7/dist-packages/ipykernel_launcher.py:17: UserWarning: Implicit dimension choice for softmax has been deprecated. Change the call to include dim=X as an argument.\n"
          ],
          "name": "stderr"
        },
        {
          "output_type": "stream",
          "text": [
            "\n"
          ],
          "name": "stdout"
        },
        {
          "output_type": "execute_result",
          "data": {
            "text/plain": [
              "0.855"
            ]
          },
          "metadata": {
            "tags": []
          },
          "execution_count": 51
        }
      ]
    },
    {
      "cell_type": "code",
      "metadata": {
        "id": "ONWAQzCyHbL6"
      },
      "source": [
        "token 1120 funktioniert besser als token 3 für ent, aber nur 0.002 mehr"
      ],
      "execution_count": null,
      "outputs": []
    },
    {
      "cell_type": "code",
      "metadata": {
        "colab": {
          "base_uri": "https://localhost:8080/",
          "height": 35
        },
        "id": "RiO-HQG5wn-T",
        "outputId": "9181fdb7-fce4-4580-9dc7-c6b1304f068a"
      },
      "source": [
        "tokenizer.decode(1120)"
      ],
      "execution_count": null,
      "outputs": [
        {
          "output_type": "execute_result",
          "data": {
            "application/vnd.google.colaboratory.intrinsic+json": {
              "type": "string"
            },
            "text/plain": [
              "'app'"
            ]
          },
          "metadata": {
            "tags": []
          },
          "execution_count": 49
        }
      ]
    },
    {
      "cell_type": "code",
      "metadata": {
        "colab": {
          "base_uri": "https://localhost:8080/"
        },
        "id": "if3iDTUFsmnt",
        "outputId": "19217322-6bcb-45b2-b9ad-0c82a8fb5d59"
      },
      "source": [
        "print(ent_count/ent_amount)\n",
        "print(neutral_count/neutral_amount)\n",
        "print(contr_count/contr_amount)"
      ],
      "execution_count": null,
      "outputs": [
        {
          "output_type": "stream",
          "text": [
            "2.834065510211327e-07\n",
            "1.035108953294475\n",
            "1.0598568164649003\n"
          ],
          "name": "stdout"
        }
      ]
    },
    {
      "cell_type": "code",
      "metadata": {
        "colab": {
          "base_uri": "https://localhost:8080/"
        },
        "id": "PkoQTULX9PRK",
        "outputId": "931cbcd9-6f5f-4e36-ac42-7d2c7feed17d"
      },
      "source": [
        "print(ent_count)\n",
        "print(neutral_count)\n",
        "print(contr_count)"
      ],
      "execution_count": null,
      "outputs": [
        {
          "output_type": "stream",
          "text": [
            "9.664163389820624e-05\n",
            "330.1997561009375\n",
            "360.3513175980661\n"
          ],
          "name": "stdout"
        }
      ]
    },
    {
      "cell_type": "code",
      "metadata": {
        "id": "-GZ6GqCjsFWE"
      },
      "source": [
        "# prediction nicht darauf basieren, welcher token höhere normalisierte wkeit hat, sondern ob er in einer instanz höher oder niedriger wie der durchschnittswert von diesem token ist\n",
        "\n",
        "#TODO statt summe, bei jeder trainingsinstanz festhalten, ob man mit diesem token richtig predicten würde, wenn ja eins erhöhen"
      ],
      "execution_count": null,
      "outputs": []
    },
    {
      "cell_type": "markdown",
      "metadata": {
        "id": "_MstdNdi31oS"
      },
      "source": [
        "# optimal token\n",
        "\n",
        "sum over the softmax of the outputs for every label. Token that have the highest value have the highest predictability for a class.\n",
        "Problems:\n",
        "- Can be skewed by outliers\n",
        "- Does not imply a scheme to decide which label to choose at testime automatically, but it can be used for normal prediction/ensembles"
      ]
    },
    {
      "cell_type": "code",
      "metadata": {
        "colab": {
          "base_uri": "https://localhost:8080/",
          "height": 168,
          "referenced_widgets": [
            "27cd50f12878478f89a4971573871cfa",
            "67a2b515d2934cd092f849b527f0d1e9",
            "6737f916f237415b966f328e351fef85",
            "8bdf186881d34fe391770f3a195f0889",
            "d2ead05e766949d9a17b8b7b7b98d314",
            "2f236a18e0074b0cb744413bf58c67f7",
            "c97f156add234e95994ba8559776062f",
            "09719f25843c44de9197d8943ec4bf69"
          ]
        },
        "id": "kOYwEUPh37wY",
        "outputId": "22458a57-13c8-4178-c445-8c79e9042cf6"
      },
      "source": [
        "from tqdm import tqdm_notebook\n",
        "import numpy as np\n",
        "import torch.nn.functional as F\n",
        "c=0\n",
        "with torch.no_grad():\n",
        "  sum=torch.tensor([0]*32128).cuda()\n",
        "  for i, mnli_instance in enumerate(tqdm_notebook(testloader)):\n",
        "      if not mnli_instance[\"label\"]==2:\n",
        "        continue\n",
        "      c+=1\n",
        "      text = \"1. \" + mnli_instance[\"hypothesis\"][0] + \" 2. \" + mnli_instance[\"premise\"][0] + \"It is a fact, that statement 2 <extra_id_0> statement 1.\"\n",
        "      input_ids = tokenizer.encode(text,return_tensors=\"pt\").cuda()\n",
        "      logits = F.softmax(model(input_ids=input_ids,decoder_input_ids =torch.tensor([[0]]).cuda()).logits[:,-1,:])\n",
        "      sum = sum + logits\n",
        "\n",
        "c"
      ],
      "execution_count": null,
      "outputs": [
        {
          "output_type": "stream",
          "text": [
            "/usr/local/lib/python3.7/dist-packages/ipykernel_launcher.py:7: TqdmDeprecationWarning: This function will be removed in tqdm==5.0.0\n",
            "Please use `tqdm.notebook.tqdm` instead of `tqdm.tqdm_notebook`\n",
            "  import sys\n"
          ],
          "name": "stderr"
        },
        {
          "output_type": "display_data",
          "data": {
            "application/vnd.jupyter.widget-view+json": {
              "model_id": "27cd50f12878478f89a4971573871cfa",
              "version_minor": 0,
              "version_major": 2
            },
            "text/plain": [
              "HBox(children=(FloatProgress(value=0.0, max=2000.0), HTML(value='')))"
            ]
          },
          "metadata": {
            "tags": []
          }
        },
        {
          "output_type": "stream",
          "text": [
            "/usr/local/lib/python3.7/dist-packages/ipykernel_launcher.py:13: UserWarning: Implicit dimension choice for softmax has been deprecated. Change the call to include dim=X as an argument.\n",
            "  del sys.path[0]\n"
          ],
          "name": "stderr"
        },
        {
          "output_type": "stream",
          "text": [
            "\n"
          ],
          "name": "stdout"
        },
        {
          "output_type": "execute_result",
          "data": {
            "text/plain": [
              "738"
            ]
          },
          "metadata": {
            "tags": []
          },
          "execution_count": 118
        }
      ]
    },
    {
      "cell_type": "code",
      "metadata": {
        "colab": {
          "base_uri": "https://localhost:8080/"
        },
        "id": "9_Ee0b4945Ug",
        "outputId": "e5908560-cbb3-4b6d-85a5-ebd3971845b9"
      },
      "source": [
        "val,ind = torch.sort(sum,descending=True)\n",
        "val[0,:30]"
      ],
      "execution_count": null,
      "outputs": [
        {
          "output_type": "execute_result",
          "data": {
            "text/plain": [
              "tensor([6.9360e+02, 1.3399e+01, 8.5308e+00, 4.6559e+00, 2.4859e+00, 1.4106e+00,\n",
              "        1.3261e+00, 1.1863e+00, 1.1552e+00, 9.1381e-01, 8.9107e-01, 6.6692e-01,\n",
              "        4.4322e-01, 3.7178e-01, 3.4229e-01, 3.1519e-01, 2.8108e-01, 2.5090e-01,\n",
              "        1.3439e-01, 1.0023e-01, 8.6486e-02, 8.3883e-02, 8.2752e-02, 8.1493e-02,\n",
              "        8.0539e-02, 7.1429e-02, 6.8011e-02, 6.7271e-02, 6.5737e-02, 6.0895e-02],\n",
              "       device='cuda:0')"
            ]
          },
          "metadata": {
            "tags": []
          },
          "execution_count": 117
        }
      ]
    },
    {
      "cell_type": "code",
      "metadata": {
        "colab": {
          "base_uri": "https://localhost:8080/",
          "height": 35
        },
        "id": "mr8XiEpdjezj",
        "outputId": "4fb07e7d-990b-45fc-8542-c1ef94bf2f64"
      },
      "source": [
        "tokenizer.decode([10231,  1182,  2493,     3,    59, 16836,   209, 10998, 13745, 17011,\n",
        "         1160,   204, 10747,   933,   220, 13661, 20592, 13643,  1877,   931,\n",
        "         9546,  1980,  3025,     8,   314,  6864,  1845, 19197,  1682,    96])"
      ],
      "execution_count": null,
      "outputs": [
        {
          "output_type": "execute_result",
          "data": {
            "application/vnd.google.colaboratory.intrinsic+json": {
              "type": "string"
            },
            "text/plain": [
              "'Option option statement  not Statement 1 True Choice Options choice 2 Fal Not 3 Alternative Accept accepting 3. optionsOpti Ad Form the 4 2.0 accept duplicate 2. \"'"
            ]
          },
          "metadata": {
            "tags": []
          },
          "execution_count": 116
        }
      ]
    },
    {
      "cell_type": "markdown",
      "metadata": {
        "id": "MEfcDAZB7GBy"
      },
      "source": [
        "## Results"
      ]
    },
    {
      "cell_type": "code",
      "metadata": {
        "id": "MVHVcbLtkH1T"
      },
      "source": [
        "# tokens, that have the hightest predictability for contradiction , using the prompt \"question: Which option is right? context: statement 1:\" + mnli_instance[\"hypothesis\"][0] + \" statement 2: \" + mnli_instance[\"premise\"][0] + \"Option 1: statement 2 entails statement 1. Option 2: statement 2 is neutral to statement 1. Option 3: statement 2 contradicts statement 1.\"\n",
        "\n",
        "[6.9360e+02, 1.3399e+01, 8.5308e+00, 4.6559e+00, 2.4859e+00, 1.4106e+00,\n",
        "        1.3261e+00, 1.1863e+00, 1.1552e+00, 9.1381e-01, 8.9107e-01, 6.6692e-01,\n",
        "        4.4322e-01, 3.7178e-01, 3.4229e-01, 3.1519e-01, 2.8108e-01, 2.5090e-01,\n",
        "        1.3439e-01, 1.0023e-01, 8.6486e-02, 8.3883e-02, 8.2752e-02, 8.1493e-02,\n",
        "        8.0539e-02, 7.1429e-02, 6.8011e-02, 6.7271e-02, 6.5737e-02, 6.0895e-02]\n",
        "\n",
        "[10231,  1182,  2493,     3,    59, 16836,   209, 10998, 13745, 17011,\n",
        "         1160,   204, 10747,   933,   220, 13661, 20592, 13643,  1877,   931,\n",
        "         9546,  1980,  3025,     8,   314,  6864,  1845, 19197,  1682,    96]\n",
        "\n",
        "Option option statement  not Statement 1 True Choice Options choice 2 Fal Not 3 Alternative Accept accepting 3. optionsOpti Ad Form the 4 2.0 accept duplicate 2. \""
      ],
      "execution_count": null,
      "outputs": []
    },
    {
      "cell_type": "code",
      "metadata": {
        "id": "yh4A3lnGjp8e"
      },
      "source": [
        "# tokens, that have the hightest predictability for neutral , using the prompt \"question: Which option is right? context: statement 1:\" + mnli_instance[\"hypothesis\"][0] + \" statement 2: \" + mnli_instance[\"premise\"][0] + \"Option 1: statement 2 entails statement 1. Option 2: statement 2 is neutral to statement 1. Option 3: statement 2 contradicts statement 1.\"\n",
        "\n",
        "[5.4008e+02, 9.7588e+00, 5.4749e+00, 3.6816e+00, 2.4181e+00, 1.1448e+00,\n",
        "        1.0622e+00, 9.9868e-01, 9.0435e-01, 7.3559e-01, 6.0602e-01, 5.3170e-01,\n",
        "        4.2433e-01, 3.3210e-01, 2.9439e-01, 2.5050e-01, 1.2508e-01, 7.7386e-02,\n",
        "        6.8835e-02, 6.8521e-02, 6.5546e-02, 6.4109e-02, 6.1281e-02, 5.4061e-02,\n",
        "        4.9999e-02, 4.6036e-02, 4.3535e-02, 4.2350e-02, 3.9841e-02, 3.9697e-02]\n",
        "\n",
        "[10231,  1182,  2493,     3,    59, 10998,   209, 16836, 13745, 17011,\n",
        "         1160,   204, 10747,   933,   220, 13661,  1877,   931,  3025,  9546,\n",
        "          314,  6864,     8,  1682, 19197,    96,  5150,  4495,   505,  1300]\n",
        "\n",
        "Option option statement  not True 1 Statement Choice Options choice 2 Fal Not 3 Alternative 3. options FormOpti 4 2.0 the 2. duplicate \" Standard Op 8 1."
      ],
      "execution_count": null,
      "outputs": []
    },
    {
      "cell_type": "code",
      "metadata": {
        "id": "hcKFx6UDjQrA"
      },
      "source": [
        "# tokens, that have the hightest predictability for entailement , using the prompt \"question: Which option is right? context: statement 1:\" + mnli_instance[\"hypothesis\"][0] + \" statement 2: \" + mnli_instance[\"premise\"][0] + \"Option 1: statement 2 entails statement 1. Option 2: statement 2 is neutral to statement 1. Option 3: statement 2 contradicts statement 1.\"\n",
        "\n",
        "tensor([6.3083e+02, 1.5783e+01, 1.1896e+01, 6.4135e+00, 5.9178e+00, 2.1455e+00,\n",
        "        1.6830e+00, 1.5822e+00, 1.1003e+00, 1.0337e+00, 8.5550e-01, 8.3769e-01,\n",
        "        5.5800e-01, 5.0037e-01, 4.4049e-01, 4.0003e-01, 3.1413e-01, 2.0547e-01,\n",
        "        1.1852e-01, 1.1674e-01, 9.6514e-02, 9.6447e-02, 9.6174e-02, 9.4598e-02,\n",
        "        7.9170e-02, 7.9038e-02, 6.8018e-02, 6.6029e-02, 5.9195e-02, 5.8820e-02],\n",
        "[10231,  1182,  2493,     3,    59,   209, 16836, 10998, 13745,  1160,\n",
        "        17011,   204, 10747,   933, 19197,   220, 13661,  1877,  6864,   931,\n",
        "         3025,     8,  1682,   314,  9546,  1300,    96,  8613,  4495,  5150]\n",
        "       \n",
        "Option option statement  not 1 Statement True Choice choice Options 2 Fal Not duplicate 3 Alternative 3. 2.0 options Form the 2. 4Opti 1. \" 1.5 Op Standard"
      ],
      "execution_count": null,
      "outputs": []
    },
    {
      "cell_type": "code",
      "metadata": {
        "id": "uut09e6NjQ0J"
      },
      "source": [
        ""
      ],
      "execution_count": null,
      "outputs": []
    },
    {
      "cell_type": "code",
      "metadata": {
        "id": "xKMD1LFX-HFM"
      },
      "source": [
        "# tokens, that have the hightest predictability for contradiction , using the prompt hypothesis: and premise:\n",
        "tensor([3.3714e+03, 2.4327e+02, 7.0882e+01, 9.6478e-02, 2.6534e-02, 1.8580e-02,\n",
        "        8.5092e-03, 7.7647e-03, 6.2826e-03, 6.2697e-03, 4.5502e-03, 4.2940e-03,\n",
        "        4.1223e-03, 3.8738e-03, 3.6271e-03, 3.6002e-03, 3.4849e-03, 3.3956e-03,\n",
        "        3.0399e-03, 3.0029e-03, 2.9057e-03, 2.8247e-03, 2.7409e-03, 2.4622e-03,\n",
        "        2.3603e-03, 2.3394e-03, 2.3237e-03, 2.2855e-03, 2.2481e-03, 2.1406e-03],\n",
        "       device='cuda:0')\n",
        "\n",
        "tensor([27252,  7163,     3,    59, 10747,   206,   150,     6,  2841,  4486,\n",
        "           96,  1877,   673,    16,  1465,   105,     5,  6864,    29, 10998,\n",
        "        32095,    18,     1,    20, 32097,   209, 32081, 32093,   220,    41],"
      ],
      "execution_count": null,
      "outputs": []
    },
    {
      "cell_type": "code",
      "metadata": {
        "id": "p-k92fDF7bq8"
      },
      "source": [
        "# tokens, that have the hightest predictability for neutral , using the prompt hypothesis: and premise:\n",
        "tensor([2.4199e+03, 2.5138e+02, 2.3008e+02, 8.5957e-02, 1.5929e-02, 1.4471e-02,\n",
        "        9.1645e-03, 8.6295e-03, 8.2422e-03, 7.5573e-03, 7.1725e-03, 6.8706e-03,\n",
        "        5.9860e-03, 5.7899e-03, 5.2757e-03, 4.6894e-03, 4.5944e-03, 4.3452e-03,\n",
        "        4.3294e-03, 4.2805e-03, 4.1815e-03, 4.1676e-03, 4.0946e-03, 3.9254e-03,\n",
        "        3.6068e-03, 3.2053e-03, 3.1196e-03, 3.0914e-03, 2.9854e-03, 2.8490e-03],\n",
        "       device='cuda:0')\n",
        "\n",
        "tensor([ 7163, 27252,     3,    59, 10747,  1465,  2841,  1877,     6,    96,\n",
        "           16, 10998,   220,   673,  6864,    20,   105, 32097,     5,   204,\n",
        "         4486,   209,     1, 32095, 32081, 19197,    18, 32093,   126, 32078],\n",
        "       device='cuda:0')"
      ],
      "execution_count": null,
      "outputs": []
    },
    {
      "cell_type": "code",
      "metadata": {
        "id": "oAifBEVx7BHH"
      },
      "source": [
        "# tokens, that have the hightest predictability for entailment, using the prompt hypothesis: and premise:\n",
        "\n",
        "tensor([2.9324e+03, 3.4392e+02, 1.3448e+02, 9.1153e-02, 3.6827e-02, 3.3527e-02,\n",
        "        3.1646e-02, 2.5204e-02, 2.0629e-02, 1.9164e-02, 1.7800e-02, 1.5784e-02,\n",
        "        1.3746e-02, 1.3442e-02, 1.3244e-02, 1.3197e-02, 1.2865e-02, 1.1811e-02,\n",
        "        1.1616e-02, 1.1422e-02, 9.4241e-03, 8.9763e-03, 8.6653e-03, 8.1657e-03,\n",
        "        8.0583e-03, 7.8613e-03, 7.8076e-03, 7.7779e-03, 7.3928e-03, 7.1338e-03],\n",
        "       device='cuda:0')\n",
        "tensor([    3,  7163, 27252,    59, 10998,  1877,     6, 19197,  6864,    16,\n",
        "            5,    96,   220,    20,   673,     1, 32097, 32095, 10747, 32081,\n",
        "          105, 32078, 32093,   204,    18, 12681,  1465,  8724, 32080,   209],\n",
        "       device='cuda:0')"
      ],
      "execution_count": null,
      "outputs": []
    },
    {
      "cell_type": "code",
      "metadata": {
        "id": "yw0IRMzx__P4"
      },
      "source": [
        "#using labels 10998/1465/206 we get acc of 0.835(noramlizer, without normalization its 0.825)\n",
        "\n",
        "# mit 19197/1465/206 sogar acc von 0.8425 (habe ich so ausgewählt, dass es hohe wahrscheinlichkeit für entailment hat, aber niedrige für contradiction/neutral)\n",
        "\n",
        "# mit \"\"/neutral/contradiction bekommt man acc von 0.8625"
      ],
      "execution_count": null,
      "outputs": []
    },
    {
      "cell_type": "markdown",
      "metadata": {
        "id": "p-5M8UMXM7L4"
      },
      "source": [
        "# Prediction token ensemble\n",
        "multiple tokens are defined correspond to a class. Sum over the prob of those tokens and then choose the label, for which the ensemble has the highest prob."
      ]
    },
    {
      "cell_type": "code",
      "metadata": {
        "colab": {
          "base_uri": "https://localhost:8080/"
        },
        "id": "W5BRT63ROP4R",
        "outputId": "9ad3716f-04f1-4601-d340-ce6c28fb83b9"
      },
      "source": [
        "#TODO nicht einfach die token zusammenzählen, sondern für jeden token aussrechnen, wie stark er zu einem label tendiert. Die token, die dnan einen hohen bias haben, sollte man als label nehmen"
      ],
      "execution_count": null,
      "outputs": [
        {
          "output_type": "execute_result",
          "data": {
            "text/plain": [
              "0.16666666666666666"
            ]
          },
          "metadata": {
            "tags": []
          },
          "execution_count": 82
        }
      ]
    },
    {
      "cell_type": "code",
      "metadata": {
        "colab": {
          "base_uri": "https://localhost:8080/",
          "referenced_widgets": [
            "ce7692d25b374efea77823388a43eab7",
            "5c5f1d34a8de4a5492feb2f7fffeee2a",
            "06c32c0c89554864b7e01111d69b106d",
            "42a0333674ed4f599dc82deb0b234d66",
            "5e1c044df52b454d9245329487c5035b",
            "b241c9473fe74c4d9dc34e1764ee1a08",
            "993b34fc72cf40bd89d0a5aa578274c9",
            "d714b7ee746843a3bf6e556fc728be23"
          ]
        },
        "id": "MlIUeW4aM_T7",
        "outputId": "2a9b9feb-6bda-4445-9512-748af34c8594"
      },
      "source": [
        "#die summe hängt davon ab, wie viele labels es im datensatz gab-> also TODO durch Anzahl teilen\n",
        "\n",
        "token_indices = [3,7163,27252,59,10998,1877]\n",
        "ent_probs = np.array([2.9324e+03,3.4392e+02,1.3448e+02,9.1153e-02,3.6827e-02,3.3527e-02])\n",
        "neutral_probs = np.array([2.3008e+02,2.4199e+03,2.5138e+02,8.5957e-02,6.8706e-03,8.6295e-03])\n",
        "contr_probs = np.array([ 7.0882e+01,2.4327e+02,3.3714e+03,9.6478e-02,3.0029e-03,4.2940e-03])\n",
        "\n",
        "sum = ent_probs + neutral_probs + contr_probs\n",
        "\n",
        "for i, element in enumerate(sum):\n",
        "  ent_probs[i] = ent_probs[i] / sum[i]\n",
        "  neutral_probs[i] = neutral_probs[i] / sum[i]\n",
        "  contr_probs[i] = contr_probs[i] / sum[i]\n",
        "\n",
        "print(ent_probs)\n",
        "print(neutral_probs)\n",
        "print(contr_probs)\n",
        "\n",
        "from tqdm import tqdm_notebook\n",
        "import numpy as np\n",
        "import torch.nn.functional as F\n",
        "num_right = 0\n",
        "\n",
        "\n",
        "ent_amount = 0\n",
        "with torch.no_grad():\n",
        "  for i, mnli_instance in enumerate(tqdm_notebook(testloader)):\n",
        "\n",
        "      text = \"hypothesis: \" + mnli_instance[\"hypothesis\"][0] + \" premise: \" + mnli_instance[\"premise\"][0]\n",
        "      input_ids = tokenizer.encode(text,return_tensors=\"pt\").cuda()\n",
        "      logits = F.softmax(model(input_ids=input_ids,decoder_input_ids =torch.tensor([[0]]).cuda()).logits[:,-1,:])\n",
        "      probs = torch.cat([logits[:,3]/sum[0], logits[:,7163]/sum[1],logits[:,27252]/sum[2],logits[:,59]/sum[3],logits[:,10998]/sum[4],logits[:,1877]/sum[5]]).cpu().numpy()\n",
        "\n",
        "      label = np.argmax([np.sum(ent_probs*probs), np.sum(neutral_probs*probs),np.sum(contr_probs*probs)])\n",
        "      \n",
        "      if label == mnli_instance[\"label\"]:\n",
        "          num_right+=1\n",
        "\n",
        "num_right/1000"
      ],
      "execution_count": null,
      "outputs": [
        {
          "output_type": "stream",
          "text": [
            "[0.90691979 0.11436971 0.03579204 0.33317616 0.78857828 0.7217791 ]\n",
            "[0.07115813 0.80473148 0.06690514 0.3141841  0.14712048 0.18577841]\n",
            "[0.02192207 0.08089881 0.89730282 0.35263974 0.06430124 0.09244249]\n"
          ],
          "name": "stdout"
        },
        {
          "output_type": "stream",
          "text": [
            "/usr/local/lib/python3.7/dist-packages/ipykernel_launcher.py:25: TqdmDeprecationWarning: This function will be removed in tqdm==5.0.0\n",
            "Please use `tqdm.notebook.tqdm` instead of `tqdm.tqdm_notebook`\n"
          ],
          "name": "stderr"
        },
        {
          "output_type": "display_data",
          "data": {
            "application/vnd.jupyter.widget-view+json": {
              "model_id": "ce7692d25b374efea77823388a43eab7",
              "version_minor": 0,
              "version_major": 2
            },
            "text/plain": [
              "HBox(children=(FloatProgress(value=0.0, max=1000.0), HTML(value='')))"
            ]
          },
          "metadata": {
            "tags": []
          }
        },
        {
          "output_type": "stream",
          "text": [
            "/usr/local/lib/python3.7/dist-packages/ipykernel_launcher.py:29: UserWarning: Implicit dimension choice for softmax has been deprecated. Change the call to include dim=X as an argument.\n"
          ],
          "name": "stderr"
        },
        {
          "output_type": "stream",
          "text": [
            "\n"
          ],
          "name": "stdout"
        },
        {
          "output_type": "execute_result",
          "data": {
            "text/plain": [
              "0.91"
            ]
          },
          "metadata": {
            "tags": []
          },
          "execution_count": 98
        }
      ]
    },
    {
      "cell_type": "code",
      "metadata": {
        "colab": {
          "base_uri": "https://localhost:8080/"
        },
        "id": "baKn3ltTWkt5",
        "outputId": "cab5f641-1307-4f56-ceb6-b3fd9acd9f47"
      },
      "source": [
        "num_right/1000"
      ],
      "execution_count": null,
      "outputs": [
        {
          "output_type": "execute_result",
          "data": {
            "text/plain": [
              "0.91"
            ]
          },
          "metadata": {
            "tags": []
          },
          "execution_count": 99
        }
      ]
    },
    {
      "cell_type": "markdown",
      "metadata": {
        "id": "gNv8v8Oz7BjG"
      },
      "source": [
        "# New Section"
      ]
    },
    {
      "cell_type": "code",
      "metadata": {
        "colab": {
          "base_uri": "https://localhost:8080/",
          "height": 168,
          "referenced_widgets": [
            "b3ef73f83cf14f699a834085f51090fb",
            "92d53de892684c80a622fa206b4286ff",
            "ce43fe33498d4aa3bf05ad5f323db80a",
            "835a11beee194c39ad034c66a9fd6739",
            "f1f0957960804c249f30eef160017b9c",
            "0a44f429214b4b4993e14776ee54b55f",
            "46ad328ecb6f45acab4f27bc2f1c5093",
            "dd56c1d70d134abbafb2a2132a6efa08"
          ]
        },
        "id": "qbRuc4tYyZbJ",
        "outputId": "0e98062e-0d04-4f01-fd7b-a1bd2e71e791"
      },
      "source": [
        "from tqdm import tqdm_notebook\n",
        "import numpy as np\n",
        "import torch.nn.functional as F\n",
        "num_right = 0\n",
        "ent_count = 0\n",
        "contr_count = 0\n",
        "neutral_count = 0\n",
        "\n",
        "ent_amount = 0\n",
        "with torch.no_grad():\n",
        "  for i, mnli_instance in enumerate(tqdm_notebook(testloader)):\n",
        "      #if i>10:\n",
        "      #    break\n",
        "      text = \"Consider the following hypothesis: \" + mnli_instance[\"hypothesis\"][0] + \" premise: \" + mnli_instance[\"premise\"][0]\n",
        "      input_ids = tokenizer.encode(text,return_tensors=\"pt\").cuda()\n",
        "      logits = F.softmax(model(input_ids=input_ids,decoder_input_ids =torch.tensor([[0]]).cuda()).logits[:,-1,:])\n",
        "      label = torch.argmax(torch.cat([logits[:,3]/304, logits[:,7163]/327,logits[:,27252]/367]))\n",
        "      ent_count+=logits[:,3].item()\n",
        "      neutral_count+=logits[:,7163].item()\n",
        "      contr_count+=logits[:,27252].item()\n",
        "      if label==0:\n",
        "        #print(logits[:,3].item())\n",
        "        #print(logits[:,7163].item())\n",
        "        #print(logits[:,27252].item())\n",
        "        #print()\n",
        "        ent_amount+=1\n",
        "      #if logits[:,28722] > 0 or logits[:,7163] > 0 or logits[:,27252] > 0:\n",
        "      #  print(\"trulll\")\n",
        "      \n",
        "      if label.cpu() == mnli_instance[\"label\"]:\n",
        "          num_right+=1\n",
        "      #else:\n",
        "      #  print(text)\n",
        "      #  print(label)\n",
        "      #  print(mnli_instance[\"label\"])\n",
        "\n",
        "num_right/test_length\n",
        "\n"
      ],
      "execution_count": null,
      "outputs": [
        {
          "output_type": "stream",
          "text": [
            "/usr/local/lib/python3.7/dist-packages/ipykernel_launcher.py:11: TqdmDeprecationWarning: This function will be removed in tqdm==5.0.0\n",
            "Please use `tqdm.notebook.tqdm` instead of `tqdm.tqdm_notebook`\n",
            "  # This is added back by InteractiveShellApp.init_path()\n"
          ],
          "name": "stderr"
        },
        {
          "output_type": "display_data",
          "data": {
            "application/vnd.jupyter.widget-view+json": {
              "model_id": "b3ef73f83cf14f699a834085f51090fb",
              "version_minor": 0,
              "version_major": 2
            },
            "text/plain": [
              "HBox(children=(FloatProgress(value=0.0, max=1000.0), HTML(value='')))"
            ]
          },
          "metadata": {
            "tags": []
          }
        },
        {
          "output_type": "stream",
          "text": [
            "/usr/local/lib/python3.7/dist-packages/ipykernel_launcher.py:16: UserWarning: Implicit dimension choice for softmax has been deprecated. Change the call to include dim=X as an argument.\n",
            "  app.launch_new_instance()\n"
          ],
          "name": "stderr"
        },
        {
          "output_type": "stream",
          "text": [
            "\n"
          ],
          "name": "stdout"
        },
        {
          "output_type": "execute_result",
          "data": {
            "text/plain": [
              "0.851"
            ]
          },
          "metadata": {
            "tags": []
          },
          "execution_count": 11
        }
      ]
    },
    {
      "cell_type": "code",
      "metadata": {
        "colab": {
          "base_uri": "https://localhost:8080/"
        },
        "id": "P2cZLqNXL2Z7",
        "outputId": "af1848e3-b144-4a0a-d5eb-84fa0bb53ae2"
      },
      "source": [
        "print(ent_count)\n",
        "print(neutral_count)\n",
        "print(contr_count)"
      ],
      "execution_count": null,
      "outputs": [
        {
          "output_type": "stream",
          "text": [
            "304.84313232914565\n",
            "327.3357807310931\n",
            "367.56872040954477\n"
          ],
          "name": "stdout"
        }
      ]
    },
    {
      "cell_type": "code",
      "metadata": {
        "colab": {
          "base_uri": "https://localhost:8080/"
        },
        "id": "TSFovrxR4zqr",
        "outputId": "132261dd-d60b-43b2-8421-182bf9a58b30"
      },
      "source": [
        "tokenizer.encode(\" entailment\")"
      ],
      "execution_count": null,
      "outputs": [
        {
          "output_type": "execute_result",
          "data": {
            "text/plain": [
              "[3, 35, 5756, 297, 1]"
            ]
          },
          "metadata": {
            "tags": []
          },
          "execution_count": 9
        }
      ]
    },
    {
      "cell_type": "code",
      "metadata": {
        "colab": {
          "base_uri": "https://localhost:8080/"
        },
        "id": "LzKmlbyKokAl",
        "outputId": "62ad1a25-54e6-4f6d-abf4-c0605909dee1"
      },
      "source": [
        "text = [\"hypothesis: lala premise:lalal\",\"xd\"]\n",
        "input_ids = tokenizer(text,return_tensors=\"pt\",padding=True).input_ids.cuda()\n",
        "model.generate(input_ids=input_ids)"
      ],
      "execution_count": null,
      "outputs": [
        {
          "output_type": "execute_result",
          "data": {
            "text/plain": [
              "tensor([[    0,     3,    35,  5756,   297,     1,     0,     0,     0,     0,\n",
              "             0,     0,     0,     0,     0,     0,     0,     0,     0,     0],\n",
              "        [    0, 32099,     3,   226,    26,     3,   226,    26,     3,   226,\n",
              "            26,     3,   226,    26,     3,   226,    26,     3,   226,    26]],\n",
              "       device='cuda:0')"
            ]
          },
          "metadata": {
            "tags": []
          },
          "execution_count": 49
        }
      ]
    },
    {
      "cell_type": "markdown",
      "metadata": {
        "id": "s2drD3xfvSZB"
      },
      "source": [
        "# Batch predicition string comparision"
      ]
    },
    {
      "cell_type": "code",
      "metadata": {
        "colab": {
          "base_uri": "https://localhost:8080/",
          "height": 117,
          "referenced_widgets": [
            "7692f279f6c242bdbcc009f6e47b4adb",
            "ae7000df36fa4976b0ced35edd22ea16",
            "5146bdb8ab2c40a0828fbbdae929b068",
            "9e55d71778ab40ff98252db8b0417a86",
            "10c34d736a264ddba82b5591342db5d4",
            "a4f879dc729846cdb1e6935ecc417c1f",
            "f8a720bb00cd485a9b709ee0fa18a481",
            "64f612fa4b5a4d81a8736c11b63e8a93"
          ]
        },
        "id": "85QCxm4s9_C4",
        "outputId": "b70a5b53-497e-441b-dd09-7d5410bd7090"
      },
      "source": [
        "#batches\n",
        "from tqdm import tqdm_notebook\n",
        "import numpy as np\n",
        "import torch.nn.functional as F\n",
        "\n",
        "num_right = 0\n",
        "ent_count = 0\n",
        "contr_count = 0\n",
        "neutral_count = 0\n",
        "\n",
        "ent_amount = 0\n",
        "\n",
        "ent = [0, 3, 35, 5756, 297, 1]\n",
        "neutral = [0, 7163, 1,0,0,0]\n",
        "contr = [0, 27252, 1,0,0,0]\n",
        "with torch.no_grad():\n",
        "  for i, mnli_instance in enumerate(tqdm_notebook(testloader)):\n",
        "\n",
        "      text = [\"mnli hypothesis:\" + mnli_instance[\"sentence1\"][j] + \" premise:\" + mnli_instance[\"sentence2\"][j] for j in range(0,len(mnli_instance[\"sentence1\"]))]\n",
        "\n",
        "\n",
        "      input_ids = tokenizer(text,return_tensors=\"pt\",padding=True).input_ids.cuda()\n",
        "\n",
        "      output = model.generate(input_ids,num_beams=2)\n",
        "\n",
        "\n",
        "\n",
        "\n",
        "      labels = [1 if list(tokens.cpu().numpy())==ent else 0 if list(tokens.cpu().numpy())==neutral else 0 if list(tokens.cpu().numpy())==contr else -1 for tokens in output]\n",
        "\n",
        "      num_right+= torch.sum(torch.tensor(labels) == mnli_instance[\"label\"])\n",
        "\n",
        "\n",
        "\n",
        "\n",
        "\n",
        "num_right/test_length\n"
      ],
      "execution_count": null,
      "outputs": [
        {
          "output_type": "stream",
          "text": [
            "/usr/local/lib/python3.7/dist-packages/ipykernel_launcher.py:17: TqdmDeprecationWarning: This function will be removed in tqdm==5.0.0\n",
            "Please use `tqdm.notebook.tqdm` instead of `tqdm.tqdm_notebook`\n"
          ],
          "name": "stderr"
        },
        {
          "output_type": "display_data",
          "data": {
            "application/vnd.jupyter.widget-view+json": {
              "model_id": "7692f279f6c242bdbcc009f6e47b4adb",
              "version_minor": 0,
              "version_major": 2
            },
            "text/plain": [
              "HBox(children=(FloatProgress(value=0.0, max=47.0), HTML(value='')))"
            ]
          },
          "metadata": {
            "tags": []
          }
        },
        {
          "output_type": "stream",
          "text": [
            "\n"
          ],
          "name": "stdout"
        },
        {
          "output_type": "execute_result",
          "data": {
            "text/plain": [
              "tensor(0.3200)"
            ]
          },
          "metadata": {
            "tags": []
          },
          "execution_count": 8
        }
      ]
    },
    {
      "cell_type": "code",
      "metadata": {
        "colab": {
          "base_uri": "https://localhost:8080/"
        },
        "id": "RBTYJ90SIwox",
        "outputId": "835b0a25-6f7b-42a7-d452-e718a0f236f6"
      },
      "source": [
        "print(tokenizer.decode(output[0]))"
      ],
      "execution_count": null,
      "outputs": [
        {
          "output_type": "stream",
          "text": [
            "<pad><extra_id_0> Everyone really likes the newest benefits The new rights are nice enough The new rights are\n"
          ],
          "name": "stdout"
        }
      ]
    },
    {
      "cell_type": "code",
      "metadata": {
        "colab": {
          "base_uri": "https://localhost:8080/"
        },
        "id": "Pf_dJBcjq-8d",
        "outputId": "ab02c10b-4a98-4950-f234-7e2105638501"
      },
      "source": [
        "tokenizer.encode(\"pre\")"
      ],
      "execution_count": null,
      "outputs": [
        {
          "output_type": "execute_result",
          "data": {
            "text/plain": [
              "[554, 1]"
            ]
          },
          "metadata": {
            "tags": []
          },
          "execution_count": 19
        }
      ]
    },
    {
      "cell_type": "code",
      "metadata": {
        "colab": {
          "base_uri": "https://localhost:8080/",
          "height": 35
        },
        "id": "CTwMw_Qw5CNY",
        "outputId": "0eb8f393-0803-44de-ad19-5fe9988a5a6f"
      },
      "source": [
        "tokenizer.decode([    0, 32099,    37])"
      ],
      "execution_count": null,
      "outputs": [
        {
          "output_type": "execute_result",
          "data": {
            "application/vnd.google.colaboratory.intrinsic+json": {
              "type": "string"
            },
            "text/plain": [
              "'<pad><extra_id_0> The'"
            ]
          },
          "metadata": {
            "tags": []
          },
          "execution_count": 16
        }
      ]
    },
    {
      "cell_type": "code",
      "metadata": {
        "id": "uEbgtgptzgI_",
        "colab": {
          "base_uri": "https://localhost:8080/",
          "height": 117,
          "referenced_widgets": [
            "c7f6969e8370467b864ae42153259de9",
            "87c2cf767bb745bfbf918989c4483e59",
            "58f80696e0e34a91aae529ed3448ee76",
            "36d74681353a4cf0b0743852e49614ac",
            "009c5db1827642228790e2e93d6b70ea",
            "2504610603a647ef9ff989bcfd0acf65",
            "0c3b825fd8d44d8199393429e3a69574",
            "a07dc285fe8a41c0a4dd1213989b7ed4"
          ]
        },
        "outputId": "975e8a0e-893d-4294-abbd-a9b87ee8c815"
      },
      "source": [
        "from tqdm import tqdm_notebook\n",
        "#TDOD change again to premise, hypothesis instead of the other way around\n",
        "accuracies = dict.fromkeys(prompts[0] , 0)\n",
        "accuracies = {x: dict.fromkeys(prompts[1] , 0) for x in accuracies}\n",
        "for key,value in accuracies.items():\n",
        "  accuracies[key] =  {x: dict.fromkeys(prompts[2] , 0) for x in value}\n",
        "for key,value in accuracies.items():\n",
        "  for key2,value2 in value.items():\n",
        "    accuracies[key][key2] =  {x: dict.fromkeys(prompts[3] , 0) for x in value2}\n",
        "\n",
        "len_ent = 0\n",
        "len_neu = 0\n",
        "len_contr = 0\n",
        "\n",
        "counter = 0 \n",
        "\n",
        "for i, mnli_instance in enumerate(tqdm_notebook(dataloader_mnli)):\n",
        "      for q,trigger in enumerate(prompts[0]):\n",
        "        for j,X in enumerate(prompts[1]):\n",
        "          for k,Y in enumerate(prompts[2]):\n",
        "            for l,Z in enumerate(prompts[3]):\n",
        "              hypothesis = mnli_instance[\"hypothesis\"][0]\n",
        "            \n",
        "\n",
        "              premise = mnli_instance[\"premise\"][0]\n",
        "\n",
        "              \n",
        "              \n",
        "              counter+=1\n",
        "              text = trigger + X + \"Humans are basketballs. Or  \"+  hypothesis + Y + premise + Z\n",
        "              input_ids = tokenizer.encode(text,return_tensors=\"pt\").cuda()\n",
        "              label = tokenizer.decode(model.generate(input_ids,num_beams=3)[0],skip_special_tokens=True)\n",
        "              if label == \"entailment\":\n",
        "                len_ent +=len(hypothesis)/len(premise) \n",
        "                label = 0\n",
        "              elif label == \"neutral\":\n",
        "                len_neu+= len(hypothesis)/len(premise) \n",
        "                label = 1\n",
        "              elif label == \"contradiction\":\n",
        "                len_contr+=len(hypothesis)/len(premise) \n",
        "                label = 2\n",
        "\n",
        "              if label == mnli_instance[\"label\"] :#or (label==1 and mnli_instance[\"label\"]==0)\n",
        "                accuracies[trigger][X][Y][Z]+=1\n",
        "\n",
        "\n",
        "\n",
        "accuracies\n",
        "\n",
        "#dict statt list"
      ],
      "execution_count": null,
      "outputs": [
        {
          "output_type": "stream",
          "text": [
            "/usr/local/lib/python3.7/dist-packages/ipykernel_launcher.py:17: TqdmDeprecationWarning: This function will be removed in tqdm==5.0.0\n",
            "Please use `tqdm.notebook.tqdm` instead of `tqdm.tqdm_notebook`\n"
          ],
          "name": "stderr"
        },
        {
          "output_type": "display_data",
          "data": {
            "application/vnd.jupyter.widget-view+json": {
              "model_id": "c7f6969e8370467b864ae42153259de9",
              "version_minor": 0,
              "version_major": 2
            },
            "text/plain": [
              "HBox(children=(FloatProgress(value=0.0, max=400.0), HTML(value='')))"
            ]
          },
          "metadata": {
            "tags": []
          }
        },
        {
          "output_type": "stream",
          "text": [
            "\n"
          ],
          "name": "stdout"
        },
        {
          "output_type": "execute_result",
          "data": {
            "text/plain": [
              "{'': {'Consider the following hypothesis: ': {' premise: ': {'': 212}}}}"
            ]
          },
          "metadata": {
            "tags": []
          },
          "execution_count": 128
        }
      ]
    },
    {
      "cell_type": "code",
      "metadata": {
        "colab": {
          "base_uri": "https://localhost:8080/"
        },
        "id": "IV35WYPz0ZIA",
        "outputId": "5eb16db7-fe7f-44fc-a527-e3269c2e415a"
      },
      "source": [
        "print(len_ent/counter)\n",
        "print(len_neu/counter)\n",
        "print(len_contr/counter)"
      ],
      "execution_count": null,
      "outputs": [
        {
          "output_type": "stream",
          "text": [
            "0.0\n",
            "0.41877066608358887\n",
            "0.24863980975965547\n"
          ],
          "name": "stdout"
        }
      ]
    },
    {
      "cell_type": "code",
      "metadata": {
        "colab": {
          "base_uri": "https://localhost:8080/"
        },
        "id": "njbSlUZPhxAD",
        "outputId": "65033919-28ad-4750-c465-76595dd255a5"
      },
      "source": [
        "import copy\n",
        "accuracies_p = copy.deepcopy(accuracies)\n",
        "\n",
        "for key0,value0 in accuracies_p.items():\n",
        "  for key1,value1 in value0.items() :\n",
        "    for key2,value2 in value1.items() :\n",
        "      for key3,value3 in value2.items():\n",
        "        accuracies_p[key0][key1][key2][key3] = value3/counter#mnli_len\n",
        "\n",
        "accuracies_p\n",
        "\n"
      ],
      "execution_count": null,
      "outputs": [
        {
          "output_type": "execute_result",
          "data": {
            "text/plain": [
              "{'': {'Consider the following hypothesis: ': {' premise: ': {'': 0.53}}}}"
            ]
          },
          "metadata": {
            "tags": []
          },
          "execution_count": 129
        }
      ]
    },
    {
      "cell_type": "code",
      "metadata": {
        "id": "hVs7lNKkzuDz"
      },
      "source": [
        ""
      ],
      "execution_count": null,
      "outputs": []
    },
    {
      "cell_type": "markdown",
      "metadata": {
        "id": "O-kz8A--zu1X"
      },
      "source": [
        "# Batch logits\n"
      ]
    },
    {
      "cell_type": "code",
      "metadata": {
        "colab": {
          "base_uri": "https://localhost:8080/"
        },
        "id": "vDeuT3qK9gIg",
        "outputId": "3d9e369b-4c0c-472f-da2b-ab8756f73caf"
      },
      "source": [
        "tokenizer.encode(\"contradiction\")"
      ],
      "execution_count": null,
      "outputs": [
        {
          "output_type": "execute_result",
          "data": {
            "text/plain": [
              "[27252, 1]"
            ]
          },
          "metadata": {
            "tags": []
          },
          "execution_count": 7
        }
      ]
    },
    {
      "cell_type": "code",
      "metadata": {
        "colab": {
          "base_uri": "https://localhost:8080/",
          "height": 202,
          "referenced_widgets": [
            "4c1c850f3b4a4666a6bc26c72855fc7c",
            "d4e8a85d1ef54539951b75ab2733d6a4",
            "b9ceac53d6004a27aeeca9f15ddc12a5",
            "0512ccd1252548ba8a095caea567111c",
            "0523e10bbba546979f7795a4e6f4970b",
            "68e18e3ce67747d58a8161265e9af5ac",
            "37a8aea18ae14b63a7a0d0db6ea58615",
            "3d8394f5395143f2905396a05789caa3"
          ]
        },
        "id": "iAbdMrGvzyGO",
        "outputId": "7aa5bf77-b4b8-489d-f9a0-f85f5b7ebfd9"
      },
      "source": [
        "#batches\n",
        "from tqdm import tqdm_notebook\n",
        "import numpy as np\n",
        "import torch.nn.functional as F\n",
        "\n",
        "num_right = 0\n",
        "\n",
        "ent_count = 0\n",
        "contr_count = 0\n",
        "neutral_count = 0\n",
        "\n",
        "ent_amount = 0\n",
        "\n",
        "\n",
        "with torch.no_grad():\n",
        "    for i, mnli_instance in enumerate(tqdm_notebook(testloader)):\n",
        "\n",
        "        text = [\"mnli hypothesis:\" + mnli_instance[\"sentence1\"][j] + \" premise:\" + mnli_instance[\"sentence2\"][j] for j in range(0,len(mnli_instance[\"sentence1\"]))]\n",
        "\n",
        "\n",
        "\n",
        "        input = tokenizer(text,return_tensors=\"pt\",padding=True)\n",
        "\n",
        "        probs = F.softmax(model(input_ids=input[\"input_ids\"].cuda(),attention_mask=input[\"attention_mask\"].cuda(),decoder_input_ids =torch.tensor([[0]]*len(text)).cuda()).logits[:,-1,:])\n",
        "  \n",
        "        labels = torch.argmax(torch.cat([probs[None,:,3]/1,probs[None,:,7163]/1,probs[None,:,27252]/1]),dim=0)\n",
        "\n",
        "    \n",
        "        num_right+= torch.sum(labels.cpu() == mnli_instance[\"label\"])\n",
        "        \n",
        "        ent_count+= torch.sum(probs[None,:,22945])\n",
        "        neutral_count+= torch.sum(probs[None,:,1427])\n",
        "        contr_count+= torch.sum(probs[None,:,632])\n",
        "  \n",
        "        \n",
        "\n",
        "\n",
        "\n",
        "\n",
        "      \n",
        "\n",
        "\n",
        "\n",
        "\n",
        "print(num_right/test_length)\n",
        "print(ent_count)\n",
        "print(neutral_count)\n",
        "print(contr_count)"
      ],
      "execution_count": null,
      "outputs": [
        {
          "output_type": "stream",
          "text": [
            "/usr/local/lib/python3.7/dist-packages/ipykernel_launcher.py:16: TqdmDeprecationWarning: This function will be removed in tqdm==5.0.0\n",
            "Please use `tqdm.notebook.tqdm` instead of `tqdm.tqdm_notebook`\n",
            "  app.launch_new_instance()\n"
          ],
          "name": "stderr"
        },
        {
          "output_type": "display_data",
          "data": {
            "application/vnd.jupyter.widget-view+json": {
              "model_id": "4c1c850f3b4a4666a6bc26c72855fc7c",
              "version_minor": 0,
              "version_major": 2
            },
            "text/plain": [
              "HBox(children=(FloatProgress(value=0.0, max=77.0), HTML(value='')))"
            ]
          },
          "metadata": {
            "tags": []
          }
        },
        {
          "output_type": "stream",
          "text": [
            "/usr/local/lib/python3.7/dist-packages/ipykernel_launcher.py:24: UserWarning: Implicit dimension choice for softmax has been deprecated. Change the call to include dim=X as an argument.\n"
          ],
          "name": "stderr"
        },
        {
          "output_type": "stream",
          "text": [
            "\n",
            "tensor(0.5028)\n",
            "tensor(0.0017, device='cuda:0')\n",
            "tensor(0.0117, device='cuda:0')\n",
            "tensor(0.0259, device='cuda:0')\n"
          ],
          "name": "stdout"
        }
      ]
    },
    {
      "cell_type": "code",
      "metadata": {
        "id": "Gb6OM7Eg_vZF"
      },
      "source": [
        "0.3476"
      ],
      "execution_count": null,
      "outputs": []
    },
    {
      "cell_type": "code",
      "metadata": {
        "colab": {
          "base_uri": "https://localhost:8080/",
          "height": 35
        },
        "id": "1r3r2ceE3XW9",
        "outputId": "3f13b9f2-c867-432a-8d31-cbc8aadf4fcd"
      },
      "source": [
        "tokenizer.decode(632)"
      ],
      "execution_count": null,
      "outputs": [
        {
          "output_type": "execute_result",
          "data": {
            "application/vnd.google.colaboratory.intrinsic+json": {
              "type": "string"
            },
            "text/plain": [
              "'0'"
            ]
          },
          "metadata": {
            "tags": []
          },
          "execution_count": 43
        }
      ]
    },
    {
      "cell_type": "markdown",
      "metadata": {
        "id": "SX1J6AUz5iL6"
      },
      "source": [
        "# Results\n",
        "\n",
        "\n",
        "\n",
        "1.   Ohne die trigger premise und hypothesis ist acc random\n",
        "2.   Teilweise haben label eine hohe acc die intuitiv sind. (zb label 1/2/3 vertauscht zu 1/3/2)\n",
        "3.   Man muss die wahrscheinlichkeiten normalisieren bevor man predicted, also teilen durch die wkeitet, dass dieses token im durchschnitt im trainingsset hat(sonst würde zb bei label 1/neutral/2 immer neutral ausgegebene werden)\n",
        "4.   Es gibt andere label die eine hohe acc erzielen:\n",
        "Eines der label kann man frei wählen, ohne dass acc viel weniger wird\n",
        "good=entailment, bad=contradiction hat auch hohe acc, obwohl die labels im strengen Sinne nichts miteinernader zu tun haben"
      ]
    },
    {
      "cell_type": "code",
      "metadata": {
        "id": "YTH7m60Pzogd"
      },
      "source": [
        "\"conclusion: \" + mnli_instance[\"hypothesis\"][0] + \"assumption: \" + mnli_instance[\"premise\"][0]\n",
        "ohne normalizing 52% acc, mit jedoch nur 41%"
      ],
      "execution_count": null,
      "outputs": []
    },
    {
      "cell_type": "code",
      "metadata": {
        "id": "f1NoRVRQuN9F"
      },
      "source": [
        "\"\" + mnli_instance[\"hypothesis\"][0] + \" \" + mnli_instance[\"premise\"][0]\n",
        "\n",
        "auch normalisiert nur 35% acc"
      ],
      "execution_count": null,
      "outputs": []
    },
    {
      "cell_type": "code",
      "metadata": {
        "id": "H0tFhcsL4Pas"
      },
      "source": [
        "interessant, dass ich good=entailment und bad=contradiction gewählt habe, obwohl ja eigentlich nichts inhärent schlechtes an einer contradiciton ist, ist es für mich trd negativ annotiert\n",
        "synoyme oder solche intuitionen für neutral zu finden ist viel schwieriger"
      ],
      "execution_count": null,
      "outputs": []
    },
    {
      "cell_type": "code",
      "metadata": {
        "id": "9a7Paa2ayfKP"
      },
      "source": [
        "\"hypothesis: \" + mnli_instance[\"hypothesis\"][0] + \" premise: \" + mnli_instance[\"premise\"][0]\n",
        "\n",
        "mit label implication/neutral/contradiction hat 80% acc normalized\n",
        "\n",
        "aber mit banana/neutral/contradiction hat es 83% normalized (also wenn sich t5 sicher ist dass es 1 oder 2 ist macht es eines von denen, sonst 0)\n",
        "\n",
        "denn mit banana/apple/contradiciton ist acc bei 0.4 normalized\n",
        "\n",
        "mit implication/neutral/conflict bekommt man 0.35\n",
        "\n",
        "mit implication/banana/conflict bekommt man 0.24, also besser als random nur falsch rum?\n",
        "\n",
        "mit good/neutral/bad bekommt man acc von 79%, normalized!!!\n",
        "\n",
        "mit good/banana/bad bekommt man 51%\n",
        "\n",
        "mit great/neutral/horrible bekommt man 65%\n",
        "\n",
        "mit great/strawberry/horrible bekommt man 52%\n",
        "\n",
        "mit cute/neutral/ugly bekommt man 45%\n",
        "\n",
        "mi cute/whatever/ugly bekommt man 22%,also besser als random aber falsch rum\n",
        "\n",
        "mit good/whatever/bad bekommt man 55%"
      ],
      "execution_count": null,
      "outputs": []
    },
    {
      "cell_type": "code",
      "metadata": {
        "id": "5k8x3IQcweMs"
      },
      "source": [
        "\"question: Which label best describes the relationship between hypothesis and premise? context: hypothesis: \" + mnli_instance[\"hypothesis\"][0] + \" premise\" + mnli_instance[\"premise\"][0] + \"label 1: entailment, label 2 = neutral, label 3 = contradiction\"\n",
        "\n",
        "mit label 1/2/3 gibt 40% acc, schlechter wenn nicht normalisiert"
      ],
      "execution_count": null,
      "outputs": []
    },
    {
      "cell_type": "code",
      "metadata": {
        "id": "7o-HtxglsHVR"
      },
      "source": [
        "\"question: Which label best describes the relationship between statement 1 and statement 2? context: statement 1: \" + mnli_instance[\"hypothesis\"][0] + \" statement 2:\" + mnli_instance[\"premise\"][0] + \"label 1: entailment, label 2 = neutral, label 3 = contradiction\"\n",
        "\n",
        "label \"\"/neutral/contradiction auch normalisiert nur 36%\n",
        "label 1/2/3 auch normalisiert nur 32%"
      ],
      "execution_count": null,
      "outputs": []
    },
    {
      "cell_type": "code",
      "metadata": {
        "id": "ReKBJ_6Pkswq"
      },
      "source": [
        "\"mnli hypothesis:\" + mnli_instance[\"hypothesis\"][0] + \" premise:\" + mnli_instance[\"premise\"][0] also ganz normal mnli\n",
        "\n",
        "wenn man hier als label yes/no/maybe verwendet und bei einer prediction jeweils die wkeit durch die gesammtwkeit, dass dieses label kommt teil, bekommt man 78%\n",
        "\n",
        "man bekommt nur random acc wenn man nicht normalisiert\n",
        "\n",
        "das selbe mit apple/banana/strawberry bekommt 42%, also etwas besser als random?"
      ],
      "execution_count": null,
      "outputs": []
    },
    {
      "cell_type": "code",
      "metadata": {
        "id": "Vt-sh2NjLBKs"
      },
      "source": [
        "\"question: Does the premise entail the hypothesis? context: hypothesis:\" + mnli_instance[\"hypothesis\"][0] + \" premise: \" + mnli_instance[\"premise\"][0] \n",
        "mit label yes(entailment) und no(neutral und contradiction) hat acc von 65%\n",
        "\n",
        "funktioniert auch, wenn man : bei hypotesis weglässt\n",
        "\n",
        "zeigt aber noch nicht viel, da man 66% bekommt, wenn man einfach immer no ausgibt und genau das macht t5 hier auch\n",
        "\n",
        "wenn man aber yes/16 und no/13 teilt(uncond prob), so bekommt man 68% acc und es wird 411 von 1000 mal yes ausgegeben\n",
        "\n",
        "in diesem fall hilt auch hypothesis: ein wenig, dann bekommt man acc von 73%\n",
        "\n",
        "aber hypothesis und premise ganz weglassen führt zu acc von 50%\n",
        "\n",
        "die gesammte frage und kontext weglassen, aber hypothesis und premise stehenlassen hat acc 71%"
      ],
      "execution_count": null,
      "outputs": []
    },
    {
      "cell_type": "code",
      "metadata": {
        "id": "bFc7hR2yGHEy"
      },
      "source": [
        "\"question: Which of the following options best describe the relationship between them? 1. The premise entails the hypothesis. 2. The premise is neutral to the hypothesis. 3. The premise contradicts the hypothesis. context: hypothesis:\" + mnli_instance[\"hypothesis\"][0] + \" premise: \" + mnli_instance[\"premise\"][0] \n",
        "\n",
        "gibt random acc"
      ],
      "execution_count": null,
      "outputs": []
    },
    {
      "cell_type": "code",
      "metadata": {
        "id": "maI5FuPu5lSC"
      },
      "source": [
        "\"Consider the following hypothesis: \" + mnli_instance[\"hypothesis\"][0] + \" Consider the following premise: \" + mnli_instance[\"premise\"][0] + \"Which of the following options best describe the relationship between them? 1. The premise entails the hypothesis. 2. The premise is neutral to the hypothesis. 3. The premise contradicts the hypothesis. \"\n",
        "\n",
        "gibt 16% acc, wenn man als label 1,2,3 nimmt. Wenn man jedoch 1 und 3 label vertauscht bekommt man eine acc von 57%. Also hat T5 darüber etwas gelernt, aber das falsche?\n",
        "\n",
        "kann natürlich sein, dass dataset imbaleneced ist, aber es zeigt sich auch wenn man statt 400 2000 instances nimmt\n",
        "\n",
        "wenn  man triggertoken \"hypothesis:\" weglässt, bekommt man random acc"
      ],
      "execution_count": null,
      "outputs": []
    },
    {
      "cell_type": "code",
      "metadata": {
        "id": "rNx8Zf-j6H0N"
      },
      "source": [
        "TODO: schauen ob aktivierung bei T5 im mnli fall die selben sind wie aktivierungen im qa fall"
      ],
      "execution_count": null,
      "outputs": []
    }
  ]
}